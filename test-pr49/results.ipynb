{
 "cells": [
  {
   "cell_type": "markdown",
   "metadata": {},
   "source": [
    "# Testing for PR \\#49"
   ]
  },
  {
   "cell_type": "markdown",
   "metadata": {},
   "source": [
    "This notebook loads output files (created by running multiband_photometery.ipynb in both branches) and checks whether they are equal.\n",
    "\n",
    "See the [README.md](README.md) in this directory for instructions on collecting the data and creating the files."
   ]
  },
  {
   "cell_type": "code",
   "execution_count": null,
   "metadata": {},
   "outputs": [],
   "source": [
    "# Setup\n",
    "import pandas as pd\n",
    "\n",
    "# content below should be identical to the corresponding content in the README.md setup\n",
    "\n",
    "branch28 = \"troyraenissue28\"\n",
    "branchmain = \"fornaxnavomain\"\n",
    "\n",
    "fbase = \"../../issue28/test-pr49\"\n",
    "\n",
    "def fband(branch): return f\"{fbase}/bandparams-{branch}.csv\"\n",
    "def fsource(branch): return f\"{fbase}/sourceparams-{branch}.csv\"\n",
    "def ftractor(branch): return f\"{fbase}/tractoroutput-{branch}.csv\""
   ]
  },
  {
   "cell_type": "code",
   "execution_count": null,
   "metadata": {},
   "outputs": [],
   "source": [
    "# Run the tests\n",
    "# load the output files and test for equality\n",
    "\n",
    "tests = zip(\n",
    "    (\"band params\", \"source params\", \"tractor output\"),\n",
    "    (fband, fsource, ftractor)\n",
    ")\n",
    "\n",
    "# test for equality\n",
    "for name, output in tests:\n",
    "    df28 = pd.read_csv(fband(branch28))\n",
    "    dfmain = pd.read_csv(fband(branchmain))\n",
    "    success = df28.equals(dfmain)\n",
    "    if success:\n",
    "        print(f\"{name} are equal -- PASSED\")\n",
    "    else:\n",
    "        print(f\"{name} are not equal -- FAILED\")\n",
    "\n",
    "# results will be printed below"
   ]
  }
 ],
 "metadata": {
  "kernelspec": {
   "display_name": "Python 3.9.12 ('base')",
   "language": "python",
   "name": "python3"
  },
  "language_info": {
   "codemirror_mode": {
    "name": "ipython",
    "version": 3
   },
   "file_extension": ".py",
   "mimetype": "text/x-python",
   "name": "python",
   "nbconvert_exporter": "python",
   "pygments_lexer": "ipython3",
   "version": "3.9.12"
  },
  "orig_nbformat": 4,
  "vscode": {
   "interpreter": {
    "hash": "912e6ad64f09e4deff59a332ba0f69bec2f7c932da391b84ae94223c352eb383"
   }
  }
 },
 "nbformat": 4,
 "nbformat_minor": 2
}
