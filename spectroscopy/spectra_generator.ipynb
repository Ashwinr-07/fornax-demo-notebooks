{
 "cells": [
  {
   "cell_type": "markdown",
   "id": "d3a896e0-305b-45a5-a86a-919c5c9eb32c",
   "metadata": {},
   "source": [
    "# Make multiwavelength light curves using archival data\n",
    "***\n",
    "\n",
    "## Learning Goals    \n",
    "By the end of this tutorial, you will be able to:\n",
    " - ...\n",
    " - ...\n",
    " \n",
    " \n",
    "## Introduction:\n",
    " - ...\n",
    " \n",
    "## Input:\n",
    " - ...\n",
    " \n",
    "\n",
    "\n",
    "## Output:\n",
    " - ...\n",
    " \n",
    "## Non-standard Imports:\n",
    "- ...\n",
    "\n",
    "## Authors:\n",
    "Andreas Faisst, Jessica Krick, Shoubaneh Hemmati, Troy Raen, Brigitta Sipőcz, Dave Shupe\n",
    "\n",
    "## Acknowledgements:\n",
    "..."
   ]
  },
  {
   "cell_type": "code",
   "execution_count": null,
   "id": "34b214c3-d3f9-4250-9aca-3f3dbf2bb20b",
   "metadata": {},
   "outputs": [],
   "source": [
    "## Your code here"
   ]
  },
  {
   "cell_type": "code",
   "execution_count": null,
   "id": "fc3fe87c-793e-4a04-8914-8f71ebdae3a7",
   "metadata": {},
   "outputs": [],
   "source": []
  }
 ],
 "metadata": {
  "kernelspec": {
   "display_name": "Python 3 (ipykernel)",
   "language": "python",
   "name": "python3"
  },
  "language_info": {
   "codemirror_mode": {
    "name": "ipython",
    "version": 3
   },
   "file_extension": ".py",
   "mimetype": "text/x-python",
   "name": "python",
   "nbconvert_exporter": "python",
   "pygments_lexer": "ipython3",
   "version": "3.9.13"
  }
 },
 "nbformat": 4,
 "nbformat_minor": 5
}
