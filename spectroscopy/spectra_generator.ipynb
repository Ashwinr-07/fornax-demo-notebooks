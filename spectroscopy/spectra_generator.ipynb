{
 "cells": [
  {
   "cell_type": "markdown",
   "id": "d3a896e0-305b-45a5-a86a-919c5c9eb32c",
   "metadata": {},
   "source": [
    "# Extract Multi-Wavelength Spectroscopy from Archival Data\n",
    "***\n",
    "\n",
    "## Learning Goals    \n",
    "By the end of this tutorial, you will be able to:\n",
    "\n",
    " &bull; automatically load a catalog of sources\n",
    " \n",
    " &bull; search NASA and non-NASA resources for fully reduced spectra and load them using specutils\n",
    " \n",
    " &bull; store the spectra in a Pandas multiindex dataframe\n",
    " \n",
    " &bull; plot all the spectra of a given source\n",
    " \n",
    " \n",
    "## Introduction:\n",
    "\n",
    "### Motivation\n",
    "A user has a source (or a sample of sources) for which they want to obtain spectra covering ranges of wavelengths from the UV to the far-IR. The large amount of spectra available enables multi-wavelength spectroscopic studies, which is crucial to understand the physics of stars, galaxies, and AGN. However, gathering and analysing spectra is a difficult endeavor as the spectra are distributed over different archives and in addition they have different formats which complicates their handling. This notebook showcases a tool for the user to conveniently query the spectral archives and collect the spectra for a set of objects in a format that can be read in using common software such as the Python `specutils` package. For simplicity, we limit the tool to query already reduced and calibrated spectra. \n",
    "The notebook may focus on the COSMOS field for now, which has a large overlap of spectroscopic surveys such as with SDSS, DESI, Keck, HST, JWST, Spitzer, and Herschel. In addition, the tool enables the capability to search and ingest spectra from Euclid and SPHEREx in the feature. For this to work, the `specutils` functions may have to be update or a wrapper has to be implemented. \n",
    "\n",
    "\n",
    "### List of Spectroscopic Archives and Status\n",
    "\n",
    "\n",
    "| Archive | Spectra | Description | Access point | Status |\n",
    "| ------- | ------- | ----------- | ------------ | ------ |\n",
    "| IRSA    | Keck    | About 10,000 spectra on the COSMOS field from [Hasinger et al. (2018)](https://ui.adsabs.harvard.edu/abs/2018ApJ...858...77H/abstract) | [IRSA Archive](https://irsa.ipac.caltech.edu/cgi-bin/Gator/nph-scan?projshort=COSMOS) | Straight forward to implement via IRSA API |\n",
    "| IRSA    | Spitzer IRS | ~17,000 merged low-resolution IRS spectra | [IRS Enhanced Product](https://irsa.ipac.caltech.edu/cgi-bin/Gator/nph-dd?catalog=irs_enhv211) | IRS Enhanced products can be searched through IRSA API and downloaded as IPAC table. Does `astroquery.ipac.irsa` work? |\n",
    "| IRSA    | IRTF*        | Large library of stellar spectra | | does `astroquery.ipac.irsa` work?? |\n",
    "| IRSA    | Herschel*    | Some spectra, need to check reduction stage | | |\n",
    "| IRSA    | Euclid      | Spectra hosted at IRSA in FY25 -> preparation for ingestion | | Will use mock spectra with correct format for testing |\n",
    "| IRSA    | SPHEREx     | Spectra/cubes will be hosted at IRSA, first release in FY25 -> preparation for ingestion | | Will use mock spectra with correct format for testing |\n",
    "| MAST    | HST*         | Slitless spectra would need reduction and extraction. There are some reduced slit spectra from COS in the Hubble Archive | `astroquery.mast`? | Should be straight forward using `astroquery.mast` |\n",
    "| MAST    | JWST*        | Reduced slit MSA spectra that can be queried | `astroquery.mast`? | Should be straight forward using `astroquery.mast` |\n",
    "| SDSS    | SDSS optical| Optical spectra that are reduced | [Sky Server](https://skyserver.sdss.org/dr18/SearchTools) or `astroquery.sdss` (preferred) | (ALF has code to get spectra via skyserver). Need to look into `astroquery`. |\n",
    "| DESI    | DESI*        | Optical spectra | [DESI public data release](https://data.desi.lbl.gov/public/) | No obvious API. `pyvo` might work, need to look into this. |\n",
    "| HEASARC | None        | Could link to Chandra observations to check AGN occurrence. | `astroquery.heasarc` | More thoughts on how to include scientifically.   |\n",
    "\n",
    "The ones with an asterisk (*) are the challenging ones.\n",
    "\n",
    "## Input:\n",
    "\n",
    " &bull; Coordinates for a single source or a sample on the COSMOS field\n",
    " \n",
    "\n",
    "\n",
    "## Output:\n",
    " \n",
    " &bull; A Pandas data frame including the spectra from different facilities\n",
    " \n",
    " &bull; A plot comparing the different spectra extracted for each source\n",
    " \n",
    "## Non-standard Imports:\n",
    "\n",
    "&bull; ...\n",
    "\n",
    "## Authors:\n",
    "Andreas Faisst, Jessica Krick, Shoubaneh Hemmati, Troy Raen, Brigitta Sipőcz, Dave Shupe\n",
    "\n",
    "## Acknowledgements:\n",
    "...\n",
    "\n",
    "## Next Steps:\n",
    "\n",
    "&bull; Start with HSt and JWST. Is there an easy way to download the spectra?\n",
    "\n",
    "&bull; Contact IRSA folks (Anastasia) to ask whether Herschel and Spitzer IRS can be accessed via the new IRSA API (and `astroquery`?)\n",
    "\n"
   ]
  },
  {
   "cell_type": "code",
   "execution_count": null,
   "id": "ece5be4f-3ec4-40e5-b9c4-7ba14c6492c4",
   "metadata": {},
   "outputs": [],
   "source": []
  },
  {
   "cell_type": "code",
   "execution_count": 8,
   "id": "34b214c3-d3f9-4250-9aca-3f3dbf2bb20b",
   "metadata": {},
   "outputs": [],
   "source": [
    "## Your code here"
   ]
  },
  {
   "cell_type": "code",
   "execution_count": null,
   "id": "a528c642-16d4-410b-9b60-a2162e792b00",
   "metadata": {},
   "outputs": [],
   "source": []
  }
 ],
 "metadata": {
  "kernelspec": {
   "display_name": "Python 3 (ipykernel)",
   "language": "python",
   "name": "python3"
  },
  "language_info": {
   "codemirror_mode": {
    "name": "ipython",
    "version": 3
   },
   "file_extension": ".py",
   "mimetype": "text/x-python",
   "name": "python",
   "nbconvert_exporter": "python",
   "pygments_lexer": "ipython3",
   "version": "3.11.6"
  }
 },
 "nbformat": 4,
 "nbformat_minor": 5
}
