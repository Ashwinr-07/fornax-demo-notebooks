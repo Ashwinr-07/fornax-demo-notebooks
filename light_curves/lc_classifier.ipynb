{
 "cells": [
  {
   "cell_type": "markdown",
   "metadata": {},
   "source": [
    "# Light Curve Classifier\n",
    "***\n",
    "\n",
    "## Learning Goals\n",
    "By the end of this tutorial, you will be able to:\n",
    "- do some basic data cleaning and filtering to prepare the data for the ML algorithms\n",
    "- work with Pandas multiindex data frames as a way of storing time domain datasets\n",
    "- use sktime algorithms to train a classifier and predict values on a test dataset\n",
    "\n",
    "## Introduction\n",
    "This notebook takes output of a previous demo notebook which generates light curves from archival data, does data prep, and runs the light curves through multiple [`sktime`](https://www.sktime.net/en/stable/) classifiers.  The goal of the classifiers is to be able to differentiate changing look active galactic nucleii (CLAGN) from an SDSS quasar sample based on multiband light curves.  CLAGN are quite interested objects in that they appear to change state, but only a few hundred are currently known, and finding them is quite expensive requiring spectroscopic follow up.  Being able to identify CLAGN in existing large samples would allow us to identify a statisitcal sample from which we could better understand the physics of what is occuring in these systems.\n",
    "\n",
    "The challenges of this time-domain dataset are:\n",
    "1. Multi-variate = There are multiple bands of observations per target (13+)\n",
    "2. Unequal length = Each band has a light curve with different sampling than other bands\n",
    "3. Missing data = Not each object has all observations in all bands\n",
    "\n",
    "We choose to use a Pandas multiindex dataframe to store and work with the data because it fulfills these requirements:\n",
    "1. It can handle the above challenges of a dataset = multi-variate, unqueal length with missing data.\n",
    "2. Multiple targets (multiple rows)\n",
    "3. Pandas has some built in understanding of time units\n",
    "4. Can be scaled up to big data numbers of rows (altough we don't push to out of memory structures in this use case)\n",
    "5. Pandas is user friendly\n",
    "\n",
    "\n",
    "## Input\n",
    "Light curve parquet file of multiband light curves from the mulitband_lc.ipynb demo notebook.  The format of the light curves is a Pandas multiindex data frame\n",
    "\n",
    "A useful reference for what sktime expects as input to its ML algorithms: https://github.com/sktime/sktime/blob/main/examples/AA_datatypes_and_datasets.ipynb\n",
    "\n",
    "## Output\n",
    "Trained classifiers as well as estimates of their accuracy and plots of confusion matrices\n",
    "\n",
    "## Imports\n",
    "- `pandas` to work with light curve data structure\n",
    "- `numpy` for numerical calculations\n",
    "- `matplotlib` for plotting\n",
    "- `sys` for paths\n",
    "- `astropy` to work with coordinates/units and data structures\n",
    "- `tqdm` for showing progress meter\n",
    "- `sktime` ML algorithms specifically for time-domain data\n",
    "- `sklearn` general use ML algorthims with easy to use interface\n",
    "\n",
    "## Authors\n",
    "\n",
    "## Acknowledgements"
   ]
  },
  {
   "cell_type": "code",
   "execution_count": 1,
   "metadata": {
    "scrolled": true
   },
   "outputs": [
    {
     "name": "stdout",
     "output_type": "stream",
     "text": [
      "Requirement already satisfied: sktime in /opt/conda/lib/python3.10/site-packages (0.23.0)\n",
      "Requirement already satisfied: packaging in /opt/conda/lib/python3.10/site-packages (from sktime) (21.3)\n",
      "Requirement already satisfied: numpy<1.26,>=1.21.0 in /opt/conda/lib/python3.10/site-packages (from sktime) (1.23.5)\n",
      "Requirement already satisfied: scikit-learn<1.4.0,>=0.24.0 in /opt/conda/lib/python3.10/site-packages (from sktime) (1.2.2)\n",
      "Requirement already satisfied: scikit-base<0.6.0 in /opt/conda/lib/python3.10/site-packages (from sktime) (0.5.1)\n",
      "Requirement already satisfied: scipy<2.0.0,>=1.2.0 in /opt/conda/lib/python3.10/site-packages (from sktime) (1.10.1)\n",
      "Requirement already satisfied: pandas<2.2.0,>=1.1.0 in /opt/conda/lib/python3.10/site-packages (from sktime) (1.5.3)\n",
      "Requirement already satisfied: python-dateutil>=2.8.1 in /opt/conda/lib/python3.10/site-packages (from pandas<2.2.0,>=1.1.0->sktime) (2.8.2)\n",
      "Requirement already satisfied: pytz>=2020.1 in /opt/conda/lib/python3.10/site-packages (from pandas<2.2.0,>=1.1.0->sktime) (2022.6)\n",
      "Requirement already satisfied: joblib>=1.1.1 in /opt/conda/lib/python3.10/site-packages (from scikit-learn<1.4.0,>=0.24.0->sktime) (1.2.0)\n",
      "Requirement already satisfied: threadpoolctl>=2.0.0 in /opt/conda/lib/python3.10/site-packages (from scikit-learn<1.4.0,>=0.24.0->sktime) (3.1.0)\n",
      "Requirement already satisfied: pyparsing!=3.0.5,>=2.0.2 in /opt/conda/lib/python3.10/site-packages (from packaging->sktime) (3.0.9)\n",
      "Requirement already satisfied: six>=1.5 in /opt/conda/lib/python3.10/site-packages (from python-dateutil>=2.8.1->pandas<2.2.0,>=1.1.0->sktime) (1.16.0)\n",
      "\n",
      "\u001b[1m[\u001b[0m\u001b[34;49mnotice\u001b[0m\u001b[1;39;49m]\u001b[0m\u001b[39;49m A new release of pip is available: \u001b[0m\u001b[31;49m23.0.1\u001b[0m\u001b[39;49m -> \u001b[0m\u001b[32;49m23.2.1\u001b[0m\n",
      "\u001b[1m[\u001b[0m\u001b[34;49mnotice\u001b[0m\u001b[1;39;49m]\u001b[0m\u001b[39;49m To update, run: \u001b[0m\u001b[32;49mpip install --upgrade pip\u001b[0m\n",
      "Requirement already satisfied: tqdm in /opt/conda/lib/python3.10/site-packages (4.65.0)\n",
      "\n",
      "\u001b[1m[\u001b[0m\u001b[34;49mnotice\u001b[0m\u001b[1;39;49m]\u001b[0m\u001b[39;49m A new release of pip is available: \u001b[0m\u001b[31;49m23.0.1\u001b[0m\u001b[39;49m -> \u001b[0m\u001b[32;49m23.2.1\u001b[0m\n",
      "\u001b[1m[\u001b[0m\u001b[34;49mnotice\u001b[0m\u001b[1;39;49m]\u001b[0m\u001b[39;49m To update, run: \u001b[0m\u001b[32;49mpip install --upgrade pip\u001b[0m\n",
      "Requirement already satisfied: googledrivedownloader in /opt/conda/lib/python3.10/site-packages (0.4)\n",
      "\n",
      "\u001b[1m[\u001b[0m\u001b[34;49mnotice\u001b[0m\u001b[1;39;49m]\u001b[0m\u001b[39;49m A new release of pip is available: \u001b[0m\u001b[31;49m23.0.1\u001b[0m\u001b[39;49m -> \u001b[0m\u001b[32;49m23.2.1\u001b[0m\n",
      "\u001b[1m[\u001b[0m\u001b[34;49mnotice\u001b[0m\u001b[1;39;49m]\u001b[0m\u001b[39;49m To update, run: \u001b[0m\u001b[32;49mpip install --upgrade pip\u001b[0m\n"
     ]
    }
   ],
   "source": [
    "!pip install sktime\n",
    "!pip install tqdm\n",
    "!pip install googledrivedownloader"
   ]
  },
  {
   "cell_type": "code",
   "execution_count": 2,
   "metadata": {},
   "outputs": [],
   "source": [
    "import pandas as pd\n",
    "import numpy as np\n",
    "import matplotlib.pyplot as plt\n",
    "import sys\n",
    "from astropy.time import Time\n",
    "from tqdm import tqdm\n",
    "from google_drive_downloader import GoogleDriveDownloader as gdd\n",
    "\n",
    "from sktime.registry import all_estimators\n",
    "from sktime.registry import all_tags\n",
    "from sktime.classification.kernel_based import Arsenal \n",
    "from sktime.classification.interval_based import CanonicalIntervalForest\n",
    "from sktime.classification.hybrid import HIVECOTEV2\n",
    "from sktime.classification.kernel_based import RocketClassifier\n",
    "from sktime.classification.deep_learning import CNNClassifier\n",
    "from sktime.classification.ensemble import WeightedEnsembleClassifier\n",
    "from sktime.classification.dictionary_based import IndividualTDE\n",
    "from sktime.classification.distance_based import KNeighborsTimeSeriesClassifier\n",
    "from sktime.classification.feature_based import RandomIntervalClassifier\n",
    "from sktime.classification.feature_based import Catch22Classifier\n",
    "from sktime.classification.shapelet_based import ShapeletTransformClassifier\n",
    "from sktime.classification.dummy import DummyClassifier\n",
    "\n",
    "from sklearn.model_selection import train_test_split\n",
    "from sklearn.metrics import accuracy_score, confusion_matrix, ConfusionMatrixDisplay\n",
    "\n",
    "# local code imports\n",
    "sys.path.append('code/')\n",
    "from fluxconversions import mjd_to_jd\n",
    "\n"
   ]
  },
  {
   "cell_type": "markdown",
   "metadata": {},
   "source": [
    "## 1. Read in a dataset of archival light curves"
   ]
  },
  {
   "cell_type": "code",
   "execution_count": 3,
   "metadata": {},
   "outputs": [],
   "source": [
    "#access structure of light curves made in the light curve notebook\n",
    "# has CLAGN & SDSS small sample, all bands\n",
    "#https://drive.google.com/file/d/13RiPODiz2kI8j1OKpP1vfh6ByIUNsKEz/view?usp=share_link\n",
    "\n",
    "gdd.download_file_from_google_drive(file_id='13RiPODiz2kI8j1OKpP1vfh6ByIUNsKEz',\n",
    "                                    dest_path='./data/df_lc_458sample.parquet.gzip',\n",
    "                                    unzip=True)\n",
    "\n",
    "df_lc = pd.read_parquet(\"./data/df_lc_458sample.parquet.gzip\")\n"
   ]
  },
  {
   "cell_type": "markdown",
   "metadata": {},
   "source": [
    "## 2. Data Prep\n",
    "This dataset needs significant work before it can be fed into a ML algorithm"
   ]
  },
  {
   "cell_type": "code",
   "execution_count": 4,
   "metadata": {},
   "outputs": [
    {
     "data": {
      "text/html": [
       "<div>\n",
       "<style scoped>\n",
       "    .dataframe tbody tr th:only-of-type {\n",
       "        vertical-align: middle;\n",
       "    }\n",
       "\n",
       "    .dataframe tbody tr th {\n",
       "        vertical-align: top;\n",
       "    }\n",
       "\n",
       "    .dataframe thead th {\n",
       "        text-align: right;\n",
       "    }\n",
       "</style>\n",
       "<table border=\"1\" class=\"dataframe\">\n",
       "  <thead>\n",
       "    <tr style=\"text-align: right;\">\n",
       "      <th></th>\n",
       "      <th></th>\n",
       "      <th></th>\n",
       "      <th></th>\n",
       "      <th>flux</th>\n",
       "      <th>err</th>\n",
       "    </tr>\n",
       "    <tr>\n",
       "      <th>objectid</th>\n",
       "      <th>label</th>\n",
       "      <th>band</th>\n",
       "      <th>time</th>\n",
       "      <th></th>\n",
       "      <th></th>\n",
       "    </tr>\n",
       "  </thead>\n",
       "  <tbody>\n",
       "    <tr>\n",
       "      <th>112</th>\n",
       "      <th>Lopez-Navas 22</th>\n",
       "      <th>FERMIGTRIG</th>\n",
       "      <th>56371.813768</th>\n",
       "      <td>0.100000</td>\n",
       "      <td>0.100000</td>\n",
       "    </tr>\n",
       "    <tr>\n",
       "      <th>218</th>\n",
       "      <th>SDSS</th>\n",
       "      <th>FERMIGTRIG</th>\n",
       "      <th>59568.171278</th>\n",
       "      <td>0.100000</td>\n",
       "      <td>0.100000</td>\n",
       "    </tr>\n",
       "    <tr>\n",
       "      <th>395</th>\n",
       "      <th>SDSS</th>\n",
       "      <th>FERMIGTRIG</th>\n",
       "      <th>54699.331556</th>\n",
       "      <td>0.100000</td>\n",
       "      <td>0.100000</td>\n",
       "    </tr>\n",
       "    <tr>\n",
       "      <th>414</th>\n",
       "      <th>SDSS</th>\n",
       "      <th>FERMIGTRIG</th>\n",
       "      <th>56369.455916</th>\n",
       "      <td>0.100000</td>\n",
       "      <td>0.100000</td>\n",
       "    </tr>\n",
       "    <tr>\n",
       "      <th>434</th>\n",
       "      <th>SDSS</th>\n",
       "      <th>FERMIGTRIG</th>\n",
       "      <th>58941.402522</th>\n",
       "      <td>0.100000</td>\n",
       "      <td>0.100000</td>\n",
       "    </tr>\n",
       "    <tr>\n",
       "      <th>...</th>\n",
       "      <th>...</th>\n",
       "      <th>...</th>\n",
       "      <th>...</th>\n",
       "      <td>...</td>\n",
       "      <td>...</td>\n",
       "    </tr>\n",
       "    <tr>\n",
       "      <th rowspan=\"5\" valign=\"top\">183</th>\n",
       "      <th rowspan=\"5\" valign=\"top\">SDSS</th>\n",
       "      <th rowspan=\"5\" valign=\"top\">w2</th>\n",
       "      <th>55230.410156</th>\n",
       "      <td>6.717855</td>\n",
       "      <td>0.019561</td>\n",
       "    </tr>\n",
       "    <tr>\n",
       "      <th>57054.886719</th>\n",
       "      <td>6.715584</td>\n",
       "      <td>0.023281</td>\n",
       "    </tr>\n",
       "    <tr>\n",
       "      <th>57247.308594</th>\n",
       "      <td>7.572342</td>\n",
       "      <td>0.024136</td>\n",
       "    </tr>\n",
       "    <tr>\n",
       "      <th>57977.214844</th>\n",
       "      <td>7.876407</td>\n",
       "      <td>0.023734</td>\n",
       "    </tr>\n",
       "    <tr>\n",
       "      <th>58706.855469</th>\n",
       "      <td>7.558403</td>\n",
       "      <td>0.024963</td>\n",
       "    </tr>\n",
       "  </tbody>\n",
       "</table>\n",
       "<p>426632 rows × 2 columns</p>\n",
       "</div>"
      ],
      "text/plain": [
       "                                                     flux       err\n",
       "objectid label          band       time                            \n",
       "112      Lopez-Navas 22 FERMIGTRIG 56371.813768  0.100000  0.100000\n",
       "218      SDSS           FERMIGTRIG 59568.171278  0.100000  0.100000\n",
       "395      SDSS           FERMIGTRIG 54699.331556  0.100000  0.100000\n",
       "414      SDSS           FERMIGTRIG 56369.455916  0.100000  0.100000\n",
       "434      SDSS           FERMIGTRIG 58941.402522  0.100000  0.100000\n",
       "...                                                   ...       ...\n",
       "183      SDSS           w2         55230.410156  6.717855  0.019561\n",
       "                                   57054.886719  6.715584  0.023281\n",
       "                                   57247.308594  7.572342  0.024136\n",
       "                                   57977.214844  7.876407  0.023734\n",
       "                                   58706.855469  7.558403  0.024963\n",
       "\n",
       "[426632 rows x 2 columns]"
      ]
     },
     "execution_count": 4,
     "metadata": {},
     "output_type": "execute_result"
    }
   ],
   "source": [
    "#what does the dataset look like anyway?\n",
    "df_lc"
   ]
  },
  {
   "cell_type": "markdown",
   "metadata": {},
   "source": [
    "### 2.1 Remove bands with not enough data"
   ]
  },
  {
   "cell_type": "code",
   "execution_count": 5,
   "metadata": {},
   "outputs": [
    {
     "data": {
      "text/plain": [
       "['FERMIGTRIG',\n",
       " 'IceCube',\n",
       " 'zg',\n",
       " 'zr',\n",
       " 'zi',\n",
       " 'panstarrs i',\n",
       " 'panstarrs y',\n",
       " 'panstarrs z',\n",
       " 'panstarrs g',\n",
       " 'panstarrs r',\n",
       " 'Gaia g',\n",
       " 'Gaia bp',\n",
       " 'Gaia rp',\n",
       " 'K2',\n",
       " 'TESS',\n",
       " 'w1',\n",
       " 'w2']"
      ]
     },
     "execution_count": 5,
     "metadata": {},
     "output_type": "execute_result"
    }
   ],
   "source": [
    "##what are the unique set of bands included in our light curves\n",
    "df_lc.index.unique('band').tolist()"
   ]
  },
  {
   "cell_type": "code",
   "execution_count": 6,
   "metadata": {},
   "outputs": [],
   "source": [
    "## get rid of some of the bands that don't have enough data for all the sources\n",
    "df_lc.drop('IceCube', level = 2, axis = 0, inplace = True)\n",
    "df_lc.drop('TESS', level = 2, axis = 0, inplace = True)\n",
    "df_lc.drop('FERMIGTRIG', level = 2, axis = 0, inplace = True)\n",
    "df_lc.drop('K2', level = 2, axis = 0, inplace = True)\n"
   ]
  },
  {
   "cell_type": "markdown",
   "metadata": {},
   "source": [
    "### 2.2 Combine Labels for a Simpler Classification\n",
    "All CLAGN start in the dataset as having labels based on their discovery paper.  Because we want one sample with all known CLAGN, change those discoery names to be simply \"CLAGN\" for all CLAGN, regardless of origin"
   ]
  },
  {
   "cell_type": "code",
   "execution_count": 7,
   "metadata": {},
   "outputs": [],
   "source": [
    "#can't change an index in place in a pandas multiindex df\n",
    "#so first need to get rid of the multiindex\n",
    "df_lc = df_lc.reset_index()  \n",
    "\n",
    "df_lc['label'] = df_lc.label.str.replace('MacLeod 16', 'CLAGN')\n",
    "df_lc['label'] = df_lc.label.str.replace('LaMassa 15', 'CLAGN')\n",
    "df_lc['label'] = df_lc.label.str.replace('Yang 18', 'CLAGN')\n",
    "df_lc['label'] = df_lc.label.str.replace('Lyu 21', 'CLAGN')\n",
    "df_lc['label'] = df_lc.label.str.replace('Hon 22', 'CLAGN')\n",
    "df_lc['label'] = df_lc.label.str.replace('Sheng 20', 'CLAGN')\n",
    "df_lc['label'] = df_lc.label.str.replace('MacLeod 19', 'CLAGN')\n",
    "df_lc['label'] = df_lc.label.str.replace('Green 22', 'CLAGN')\n",
    "df_lc['label'] = df_lc.label.str.replace('Lopez-Navas 22', 'CLAGN')\n",
    "\n",
    "#turn dataframe back into multiindex df\n",
    "df_lc = df_lc.set_index([\"objectid\", \"label\", \"band\", \"time\"]) "
   ]
  },
  {
   "cell_type": "markdown",
   "metadata": {},
   "source": [
    "### 2.3 Remove some rows based on filtering out bad data"
   ]
  },
  {
   "cell_type": "code",
   "execution_count": 8,
   "metadata": {},
   "outputs": [],
   "source": [
    "#find and drop bad rows\n",
    "df_lc = df_lc.reset_index()\n",
    "\n",
    "#one panstarrs z has a crazy err value of -999000, definitely don't want to include that one\n",
    "querystring = 'err < -100'\n",
    "df_lc = df_lc.drop(df_lc.query(querystring).index)\n",
    "\n",
    "#drop rows which have Nans\n",
    "df_lc.dropna(inplace = True, axis = 0)\n",
    "\n",
    "df_lc = df_lc.set_index([\"objectid\", \"label\", \"band\", \"time\"])"
   ]
  },
  {
   "cell_type": "code",
   "execution_count": 9,
   "metadata": {},
   "outputs": [
    {
     "data": {
      "image/png": "[encoded data removed]",
      "text/plain": [
       "<Figure size 1200x1200 with 15 Axes>"
      ]
     },
     "metadata": {},
     "output_type": "display_data"
    }
   ],
   "source": [
    "#consider Removing all rows with errors outside of a normal distribution\n",
    "#plot histograms in flux units to see what these distributions look like\n",
    "\n",
    "band_list = ['zg','zr','zi','w1','w2','panstarrs g','panstarrs r','panstarrs i','panstarrs z','panstarrs y','Gaia g', 'Gaia bp', 'Gaia rp']\n",
    "threesigmaonmean= []\n",
    "\n",
    "#create the figure and axes\n",
    "fig, axs = plt.subplots(5, 3, figsize = (12, 12))\n",
    "\n",
    "# unpack all the axes subplots\n",
    "axe = axs.ravel()\n",
    "\n",
    "#for each band\n",
    "for count, bandname in enumerate(band_list):\n",
    "    singleband = df_lc.loc[:,:,bandname,:]\n",
    "    #what are the standard deviations of these distributions\n",
    "    cut = singleband['err'].mean() + 3 * (singleband['err'].std())\n",
    "    threesigmaonmean.append(cut)\n",
    "    #plot distributions and print stddev\n",
    "    singleband['err'].plot(kind = 'hist', bins = 30, subplots =True, ax = axe[count],label = bandname+' '+str(cut), legend=True)\n",
    "\n"
   ]
  },
  {
   "cell_type": "code",
   "execution_count": 10,
   "metadata": {},
   "outputs": [
    {
     "name": "stdout",
     "output_type": "stream",
     "text": [
      "band == 'zg' & err > 0.12783658505488732\n",
      "band == 'zr' & err > 0.19568425310428808\n",
      "band == 'zi' & err > 0.1884229986915443\n",
      "band == 'w1' & err > 0.08096905422296004\n",
      "band == 'w2' & err > 0.18464932013684443\n",
      "band == 'panstarrs g' & err > 0.010753876831244522\n",
      "band == 'panstarrs r' & err > 0.01468802653643826\n",
      "band == 'panstarrs i' & err > 0.03550030792687292\n",
      "band == 'panstarrs z' & err > 0.022727324586547713\n",
      "band == 'panstarrs y' & err > 0.06573785825827946\n",
      "band == 'Gaia g' & err > 0.07224434491679983\n",
      "band == 'Gaia bp' & err > 0.03103586083901061\n",
      "band == 'Gaia rp' & err > 0.06127455859403946\n"
     ]
    }
   ],
   "source": [
    "#3sigma looks by eye like a reasonable cut for all distributions\n",
    "\n",
    "#to make the cut, need to first remove the index\n",
    "df_lc = df_lc.reset_index()\n",
    "\n",
    "#create the list of which rows to cut and drop them from the dataframe\n",
    "for count, bandname in enumerate(band_list):\n",
    "    querystring = f'band == {bandname!r} & err > {threesigmaonmean[count]}'\n",
    "    print(querystring)\n",
    "    df_lc = df_lc.drop(df_lc.query(querystring).index)\n",
    "\n",
    "#reset the index\n",
    "df_lc = df_lc.set_index([\"objectid\", \"label\", \"band\", \"time\"])"
   ]
  },
  {
   "cell_type": "code",
   "execution_count": 11,
   "metadata": {},
   "outputs": [
    {
     "data": {
      "text/html": [
       "<div>\n",
       "<style scoped>\n",
       "    .dataframe tbody tr th:only-of-type {\n",
       "        vertical-align: middle;\n",
       "    }\n",
       "\n",
       "    .dataframe tbody tr th {\n",
       "        vertical-align: top;\n",
       "    }\n",
       "\n",
       "    .dataframe thead th {\n",
       "        text-align: right;\n",
       "    }\n",
       "</style>\n",
       "<table border=\"1\" class=\"dataframe\">\n",
       "  <thead>\n",
       "    <tr style=\"text-align: right;\">\n",
       "      <th></th>\n",
       "      <th></th>\n",
       "      <th></th>\n",
       "      <th></th>\n",
       "      <th>flux</th>\n",
       "      <th>err</th>\n",
       "    </tr>\n",
       "    <tr>\n",
       "      <th>objectid</th>\n",
       "      <th>label</th>\n",
       "      <th>band</th>\n",
       "      <th>time</th>\n",
       "      <th></th>\n",
       "      <th></th>\n",
       "    </tr>\n",
       "  </thead>\n",
       "  <tbody>\n",
       "    <tr>\n",
       "      <th rowspan=\"5\" valign=\"top\">92</th>\n",
       "      <th rowspan=\"5\" valign=\"top\">CLAGN</th>\n",
       "      <th rowspan=\"5\" valign=\"top\">zg</th>\n",
       "      <th>58202.309236</th>\n",
       "      <td>0.736736</td>\n",
       "      <td>0.010347</td>\n",
       "    </tr>\n",
       "    <tr>\n",
       "      <th>58202.314560</th>\n",
       "      <td>0.730595</td>\n",
       "      <td>0.010290</td>\n",
       "    </tr>\n",
       "    <tr>\n",
       "      <th>58205.302651</th>\n",
       "      <td>0.658396</td>\n",
       "      <td>0.009634</td>\n",
       "    </tr>\n",
       "    <tr>\n",
       "      <th>58205.320949</th>\n",
       "      <td>0.681111</td>\n",
       "      <td>0.009840</td>\n",
       "    </tr>\n",
       "    <tr>\n",
       "      <th>58208.357257</th>\n",
       "      <td>0.589205</td>\n",
       "      <td>0.009014</td>\n",
       "    </tr>\n",
       "    <tr>\n",
       "      <th>...</th>\n",
       "      <th>...</th>\n",
       "      <th>...</th>\n",
       "      <th>...</th>\n",
       "      <td>...</td>\n",
       "      <td>...</td>\n",
       "    </tr>\n",
       "    <tr>\n",
       "      <th rowspan=\"5\" valign=\"top\">183</th>\n",
       "      <th rowspan=\"5\" valign=\"top\">SDSS</th>\n",
       "      <th rowspan=\"5\" valign=\"top\">w2</th>\n",
       "      <th>55230.410156</th>\n",
       "      <td>6.717855</td>\n",
       "      <td>0.019561</td>\n",
       "    </tr>\n",
       "    <tr>\n",
       "      <th>57054.886719</th>\n",
       "      <td>6.715584</td>\n",
       "      <td>0.023281</td>\n",
       "    </tr>\n",
       "    <tr>\n",
       "      <th>57247.308594</th>\n",
       "      <td>7.572342</td>\n",
       "      <td>0.024136</td>\n",
       "    </tr>\n",
       "    <tr>\n",
       "      <th>57977.214844</th>\n",
       "      <td>7.876407</td>\n",
       "      <td>0.023734</td>\n",
       "    </tr>\n",
       "    <tr>\n",
       "      <th>58706.855469</th>\n",
       "      <td>7.558403</td>\n",
       "      <td>0.024963</td>\n",
       "    </tr>\n",
       "  </tbody>\n",
       "</table>\n",
       "<p>402571 rows × 2 columns</p>\n",
       "</div>"
      ],
      "text/plain": [
       "                                      flux       err\n",
       "objectid label band time                            \n",
       "92       CLAGN zg   58202.309236  0.736736  0.010347\n",
       "                    58202.314560  0.730595  0.010290\n",
       "                    58205.302651  0.658396  0.009634\n",
       "                    58205.320949  0.681111  0.009840\n",
       "                    58208.357257  0.589205  0.009014\n",
       "...                                    ...       ...\n",
       "183      SDSS  w2   55230.410156  6.717855  0.019561\n",
       "                    57054.886719  6.715584  0.023281\n",
       "                    57247.308594  7.572342  0.024136\n",
       "                    57977.214844  7.876407  0.023734\n",
       "                    58706.855469  7.558403  0.024963\n",
       "\n",
       "[402571 rows x 2 columns]"
      ]
     },
     "execution_count": 11,
     "metadata": {},
     "output_type": "execute_result"
    }
   ],
   "source": [
    "#this removed ~2% of the rows, which is reasonable and we haven't done anything drastic\n",
    "df_lc\n"
   ]
  },
  {
   "cell_type": "markdown",
   "metadata": {},
   "source": [
    "### 2.4 Make a new time column with datetime data type \n",
    "We need the times in python [datetime](https://docs.python.org/3/library/datetime.html) format for the next section where we will make the light curves be of uniform length. \n",
    "\n",
    "Once the time column is in datetime format, make it the time index"
   ]
  },
  {
   "cell_type": "code",
   "execution_count": 12,
   "metadata": {},
   "outputs": [],
   "source": [
    "#need to convert df_lc time into datetime\n",
    "#start by getting rid of index so that we can work with the columns\n",
    "mjd = df_lc.reset_index().time\n",
    "\n",
    "#convert to JD\n",
    "jd = mjd_to_jd(mjd)\n",
    "\n",
    "#convert to individual components\n",
    "t = Time(jd, format = 'jd' )\n",
    "\n",
    "#t.datetime is now an array of type datetime\n",
    "#make it a column in the dataframe\n",
    "df_lc['datetime'] = t.datetime\n",
    "\n",
    "#remove the time index and make datetime the index\n",
    "df_lc = df_lc.droplevel('time')\n",
    "\n",
    "#set the multiindex back in place\n",
    "df_lc.set_index('datetime', append = True, inplace= True)"
   ]
  },
  {
   "cell_type": "code",
   "execution_count": 13,
   "metadata": {},
   "outputs": [
    {
     "data": {
      "text/html": [
       "<div>\n",
       "<style scoped>\n",
       "    .dataframe tbody tr th:only-of-type {\n",
       "        vertical-align: middle;\n",
       "    }\n",
       "\n",
       "    .dataframe tbody tr th {\n",
       "        vertical-align: top;\n",
       "    }\n",
       "\n",
       "    .dataframe thead th {\n",
       "        text-align: right;\n",
       "    }\n",
       "</style>\n",
       "<table border=\"1\" class=\"dataframe\">\n",
       "  <thead>\n",
       "    <tr style=\"text-align: right;\">\n",
       "      <th></th>\n",
       "      <th></th>\n",
       "      <th></th>\n",
       "      <th></th>\n",
       "      <th>flux</th>\n",
       "      <th>err</th>\n",
       "    </tr>\n",
       "    <tr>\n",
       "      <th>objectid</th>\n",
       "      <th>label</th>\n",
       "      <th>band</th>\n",
       "      <th>datetime</th>\n",
       "      <th></th>\n",
       "      <th></th>\n",
       "    </tr>\n",
       "  </thead>\n",
       "  <tbody>\n",
       "    <tr>\n",
       "      <th rowspan=\"5\" valign=\"top\">92</th>\n",
       "      <th rowspan=\"5\" valign=\"top\">CLAGN</th>\n",
       "      <th rowspan=\"5\" valign=\"top\">zg</th>\n",
       "      <th>2018-03-25 07:25:17.999035</th>\n",
       "      <td>0.736736</td>\n",
       "      <td>0.010347</td>\n",
       "    </tr>\n",
       "    <tr>\n",
       "      <th>2018-03-25 07:32:58.001288</th>\n",
       "      <td>0.730595</td>\n",
       "      <td>0.010290</td>\n",
       "    </tr>\n",
       "    <tr>\n",
       "      <th>2018-03-28 07:15:49.003208</th>\n",
       "      <td>0.658396</td>\n",
       "      <td>0.009634</td>\n",
       "    </tr>\n",
       "    <tr>\n",
       "      <th>2018-03-28 07:42:10.002236</th>\n",
       "      <td>0.681111</td>\n",
       "      <td>0.009840</td>\n",
       "    </tr>\n",
       "    <tr>\n",
       "      <th>2018-03-31 08:34:26.996165</th>\n",
       "      <td>0.589205</td>\n",
       "      <td>0.009014</td>\n",
       "    </tr>\n",
       "    <tr>\n",
       "      <th>...</th>\n",
       "      <th>...</th>\n",
       "      <th>...</th>\n",
       "      <th>...</th>\n",
       "      <td>...</td>\n",
       "      <td>...</td>\n",
       "    </tr>\n",
       "    <tr>\n",
       "      <th rowspan=\"5\" valign=\"top\">183</th>\n",
       "      <th rowspan=\"5\" valign=\"top\">SDSS</th>\n",
       "      <th rowspan=\"5\" valign=\"top\">w2</th>\n",
       "      <th>2010-02-03 09:50:37.500000</th>\n",
       "      <td>6.717855</td>\n",
       "      <td>0.019561</td>\n",
       "    </tr>\n",
       "    <tr>\n",
       "      <th>2015-02-01 21:16:52.500000</th>\n",
       "      <td>6.715584</td>\n",
       "      <td>0.023281</td>\n",
       "    </tr>\n",
       "    <tr>\n",
       "      <th>2015-08-13 07:24:22.500000</th>\n",
       "      <td>7.572342</td>\n",
       "      <td>0.024136</td>\n",
       "    </tr>\n",
       "    <tr>\n",
       "      <th>2017-08-12 05:09:22.500000</th>\n",
       "      <td>7.876407</td>\n",
       "      <td>0.023734</td>\n",
       "    </tr>\n",
       "    <tr>\n",
       "      <th>2019-08-11 20:31:52.500000</th>\n",
       "      <td>7.558403</td>\n",
       "      <td>0.024963</td>\n",
       "    </tr>\n",
       "  </tbody>\n",
       "</table>\n",
       "<p>402571 rows × 2 columns</p>\n",
       "</div>"
      ],
      "text/plain": [
       "                                                    flux       err\n",
       "objectid label band datetime                                      \n",
       "92       CLAGN zg   2018-03-25 07:25:17.999035  0.736736  0.010347\n",
       "                    2018-03-25 07:32:58.001288  0.730595  0.010290\n",
       "                    2018-03-28 07:15:49.003208  0.658396  0.009634\n",
       "                    2018-03-28 07:42:10.002236  0.681111  0.009840\n",
       "                    2018-03-31 08:34:26.996165  0.589205  0.009014\n",
       "...                                                  ...       ...\n",
       "183      SDSS  w2   2010-02-03 09:50:37.500000  6.717855  0.019561\n",
       "                    2015-02-01 21:16:52.500000  6.715584  0.023281\n",
       "                    2015-08-13 07:24:22.500000  7.572342  0.024136\n",
       "                    2017-08-12 05:09:22.500000  7.876407  0.023734\n",
       "                    2019-08-11 20:31:52.500000  7.558403  0.024963\n",
       "\n",
       "[402571 rows x 2 columns]"
      ]
     },
     "execution_count": 13,
     "metadata": {},
     "output_type": "execute_result"
    }
   ],
   "source": [
    "df_lc"
   ]
  },
  {
   "cell_type": "markdown",
   "metadata": {},
   "source": [
    "### 2.5  Make all objects and bands have identical time arrays (uniform length and spacing)\n",
    "\n",
    "It is very hard to find time-domain ML algorithms which can handle non uniform length datasets. Therefore we make them uniform using Pandas [reindex](https://pandas.pydata.org/docs/reference/api/pandas.DataFrame.reindex.html) which fills in the uniform length arrays with values according to the method chosen by the user.  We implement a nearest neighbor to fill the arrays.  \n",
    "\n",
    "Fluxes with missing data are set to zero.  Zero was chosen instead of 'None' or 'Nan' as it was better integrated with the ML algorithms.  \n",
    "\n",
    "Potential other options for uniformizing the time series dataset:\n",
    "- pandas.dataframe.interpolate with many methods"
   ]
  },
  {
   "cell_type": "code",
   "execution_count": 14,
   "metadata": {},
   "outputs": [
    {
     "name": "stderr",
     "output_type": "stream",
     "text": [
      " 10%|█         | 47/458 [00:18<02:54,  2.36it/s]"
     ]
    },
    {
     "name": "stdout",
     "output_type": "stream",
     "text": [
      "47  objectid doesnt exist\n"
     ]
    },
    {
     "name": "stderr",
     "output_type": "stream",
     "text": [
      " 18%|█▊        | 81/458 [00:45<03:53,  1.62it/s]"
     ]
    },
    {
     "name": "stdout",
     "output_type": "stream",
     "text": [
      "81  objectid doesnt exist\n"
     ]
    },
    {
     "name": "stderr",
     "output_type": "stream",
     "text": [
      " 24%|██▎       | 108/458 [01:08<05:03,  1.15it/s]"
     ]
    },
    {
     "name": "stdout",
     "output_type": "stream",
     "text": [
      "108  objectid doesnt exist\n"
     ]
    },
    {
     "name": "stderr",
     "output_type": "stream",
     "text": [
      " 24%|██▍       | 112/458 [01:12<05:26,  1.06it/s]"
     ]
    },
    {
     "name": "stdout",
     "output_type": "stream",
     "text": [
      "112  objectid doesnt exist\n",
      "113  objectid doesnt exist\n",
      "114  objectid doesnt exist\n"
     ]
    },
    {
     "name": "stderr",
     "output_type": "stream",
     "text": [
      " 55%|█████▌    | 252/458 [04:48<07:07,  2.08s/it]"
     ]
    },
    {
     "name": "stdout",
     "output_type": "stream",
     "text": [
      "252  objectid doesnt exist\n"
     ]
    },
    {
     "name": "stderr",
     "output_type": "stream",
     "text": [
      "100%|██████████| 458/458 [13:43<00:00,  1.80s/it]"
     ]
    },
    {
     "name": "stdout",
     "output_type": "stream",
     "text": [
      "CPU times: user 12min 20s, sys: 1min 23s, total: 13min 43s\n",
      "Wall time: 13min 43s\n"
     ]
    },
    {
     "name": "stderr",
     "output_type": "stream",
     "text": [
      "\n"
     ]
    }
   ],
   "source": [
    "%%time\n",
    "#make a new index with the full range of datetimes and a specified frequency\n",
    "final_freq = '30D'\n",
    "fullindex = pd.date_range(start=df_lc.droplevel('objectid').droplevel('label').droplevel('band').index.min(), end=df_lc.droplevel('objectid').droplevel('label').droplevel('band').index.max(), freq=final_freq)\n",
    "\n",
    "#what is the full set of unique band names?\n",
    "full_bandname = df_lc.index.unique('band').tolist()\n",
    "\n",
    "#setup to hold the resulting dataframe\n",
    "df_reindex = pd.DataFrame()\n",
    "\n",
    "#how many objects are in the dataframe?\n",
    "#actually this is the max and some of them are missing\n",
    "nobj = df_lc.index.unique('objectid').max() + 1\n",
    "\n",
    "#for each objct in the dataframe\n",
    "for oid in tqdm(range(nobj)):\n",
    "    try:\n",
    "        oid_bandname = df_lc.loc[oid,:,:,:].index.unique('band').tolist()\n",
    "    except KeyError:\n",
    "        #some of the data cleaning above must have removed some objects\n",
    "        print(oid, ' objectid doesnt exist')\n",
    "    else:\n",
    "        #this is the case where the objectid exists, so let's make sure all the bands are there\n",
    "        oid_label = df_lc.loc[oid,:,:,:].index.unique('label').tolist()\n",
    "    \n",
    "        #if bandname for this oid is not equal to the full list\n",
    "        #If there are missing bands for this object\n",
    "        if oid_bandname != full_bandname:\n",
    "    \n",
    "            #figure out which bands are missing\n",
    "            missing = list(set(full_bandname).difference(oid_bandname))\n",
    "        \n",
    "            #make new dataframe for this object with NaN flux and err values\n",
    "            #choosing random times for now that will get fleshed out when I reindex all times below\n",
    "            for m in range(len(missing)):\n",
    "                datetimelist = [pd.to_datetime(1490195805, unit='s'), pd.to_datetime(1491195805, unit='s')]  #making this up for now\n",
    "                dfsingle = pd.DataFrame(dict(flux=np.zeros(2), err=np.zeros(2), datetime=datetimelist, objectid=oid, band=missing[m],label=oid_label[0])).set_index([\"objectid\",\"label\", \"band\", \"datetime\"])        \n",
    "\n",
    "                #now concatenate the single new df with df_lc\n",
    "                df_lc = pd.concat([df_lc, dfsingle])\n",
    "            \n",
    "        #for each band\n",
    "        for bandid in range(len(full_bandname)):\n",
    "    \n",
    "            #set up to only have time as an index\n",
    "            single_obj = df_lc.loc[oid,:,full_bandname[bandid],:].reset_index().set_index('datetime')\n",
    "    \n",
    "            #sort the time index\n",
    "            single_obj = single_obj.sort_index()\n",
    "    \n",
    "            #change the time index to have values in fullindex, and use 'nearest' to fill\n",
    "            #in values of the new time indices\n",
    "            #this is where the real work gets done\n",
    "            single_reindex = single_obj.reindex(fullindex, method = 'nearest')\n",
    "    \n",
    "            #previous command returns an unnamed index, so name it\n",
    "            single_reindex.index.rename('datetime', inplace= True)\n",
    "    \n",
    "            #then we really want a multiindex df, so first remove indices, then set the ones we want\n",
    "            single_reindex.reset_index(inplace= True)\n",
    "            \n",
    "            #put oid and bandname back into the dataframe\n",
    "            single_reindex['objectid'] = oid\n",
    "            single_reindex['band'] = full_bandname[bandid]\n",
    "            \n",
    "            #re-make index\n",
    "            single_reindex.set_index([\"objectid\" ,\"label\",\"band\", \"datetime\"], inplace = True)\n",
    "    \n",
    "            #concatenate all the dfs together\n",
    "            if df_reindex.empty: \n",
    "                df_reindex = single_reindex\n",
    "            else:\n",
    "                df_reindex = pd.concat([df_reindex, single_reindex])"
   ]
  },
  {
   "cell_type": "code",
   "execution_count": 15,
   "metadata": {},
   "outputs": [
    {
     "data": {
      "text/html": [
       "<div>\n",
       "<style scoped>\n",
       "    .dataframe tbody tr th:only-of-type {\n",
       "        vertical-align: middle;\n",
       "    }\n",
       "\n",
       "    .dataframe tbody tr th {\n",
       "        vertical-align: top;\n",
       "    }\n",
       "\n",
       "    .dataframe thead th {\n",
       "        text-align: right;\n",
       "    }\n",
       "</style>\n",
       "<table border=\"1\" class=\"dataframe\">\n",
       "  <thead>\n",
       "    <tr style=\"text-align: right;\">\n",
       "      <th></th>\n",
       "      <th></th>\n",
       "      <th></th>\n",
       "      <th></th>\n",
       "      <th>flux</th>\n",
       "      <th>err</th>\n",
       "    </tr>\n",
       "    <tr>\n",
       "      <th>objectid</th>\n",
       "      <th>label</th>\n",
       "      <th>band</th>\n",
       "      <th>datetime</th>\n",
       "      <th></th>\n",
       "      <th></th>\n",
       "    </tr>\n",
       "  </thead>\n",
       "  <tbody>\n",
       "    <tr>\n",
       "      <th rowspan=\"5\" valign=\"top\">0</th>\n",
       "      <th rowspan=\"5\" valign=\"top\">CLAGN</th>\n",
       "      <th rowspan=\"5\" valign=\"top\">zg</th>\n",
       "      <th>2009-06-03 06:37:08.765742</th>\n",
       "      <td>0.033659</td>\n",
       "      <td>0.004089</td>\n",
       "    </tr>\n",
       "    <tr>\n",
       "      <th>2009-07-03 06:37:08.765742</th>\n",
       "      <td>0.033659</td>\n",
       "      <td>0.004089</td>\n",
       "    </tr>\n",
       "    <tr>\n",
       "      <th>2009-08-02 06:37:08.765742</th>\n",
       "      <td>0.033659</td>\n",
       "      <td>0.004089</td>\n",
       "    </tr>\n",
       "    <tr>\n",
       "      <th>2009-09-01 06:37:08.765742</th>\n",
       "      <td>0.033659</td>\n",
       "      <td>0.004089</td>\n",
       "    </tr>\n",
       "    <tr>\n",
       "      <th>2009-10-01 06:37:08.765742</th>\n",
       "      <td>0.033659</td>\n",
       "      <td>0.004089</td>\n",
       "    </tr>\n",
       "    <tr>\n",
       "      <th>...</th>\n",
       "      <th>...</th>\n",
       "      <th>...</th>\n",
       "      <th>...</th>\n",
       "      <td>...</td>\n",
       "      <td>...</td>\n",
       "    </tr>\n",
       "    <tr>\n",
       "      <th rowspan=\"5\" valign=\"top\">457</th>\n",
       "      <th rowspan=\"5\" valign=\"top\">SDSS</th>\n",
       "      <th rowspan=\"5\" valign=\"top\">w2</th>\n",
       "      <th>2022-10-23 06:37:08.765742</th>\n",
       "      <td>1.435361</td>\n",
       "      <td>0.017771</td>\n",
       "    </tr>\n",
       "    <tr>\n",
       "      <th>2022-11-22 06:37:08.765742</th>\n",
       "      <td>1.435361</td>\n",
       "      <td>0.017771</td>\n",
       "    </tr>\n",
       "    <tr>\n",
       "      <th>2022-12-22 06:37:08.765742</th>\n",
       "      <td>1.435361</td>\n",
       "      <td>0.017771</td>\n",
       "    </tr>\n",
       "    <tr>\n",
       "      <th>2023-01-21 06:37:08.765742</th>\n",
       "      <td>1.435361</td>\n",
       "      <td>0.017771</td>\n",
       "    </tr>\n",
       "    <tr>\n",
       "      <th>2023-02-20 06:37:08.765742</th>\n",
       "      <td>1.435361</td>\n",
       "      <td>0.017771</td>\n",
       "    </tr>\n",
       "  </tbody>\n",
       "</table>\n",
       "<p>984984 rows × 2 columns</p>\n",
       "</div>"
      ],
      "text/plain": [
       "                                                    flux       err\n",
       "objectid label band datetime                                      \n",
       "0        CLAGN zg   2009-06-03 06:37:08.765742  0.033659  0.004089\n",
       "                    2009-07-03 06:37:08.765742  0.033659  0.004089\n",
       "                    2009-08-02 06:37:08.765742  0.033659  0.004089\n",
       "                    2009-09-01 06:37:08.765742  0.033659  0.004089\n",
       "                    2009-10-01 06:37:08.765742  0.033659  0.004089\n",
       "...                                                  ...       ...\n",
       "457      SDSS  w2   2022-10-23 06:37:08.765742  1.435361  0.017771\n",
       "                    2022-11-22 06:37:08.765742  1.435361  0.017771\n",
       "                    2022-12-22 06:37:08.765742  1.435361  0.017771\n",
       "                    2023-01-21 06:37:08.765742  1.435361  0.017771\n",
       "                    2023-02-20 06:37:08.765742  1.435361  0.017771\n",
       "\n",
       "[984984 rows x 2 columns]"
      ]
     },
     "execution_count": 15,
     "metadata": {},
     "output_type": "execute_result"
    }
   ],
   "source": [
    "df_reindex"
   ]
  },
  {
   "cell_type": "code",
   "execution_count": 16,
   "metadata": {
    "scrolled": true
   },
   "outputs": [
    {
     "name": "stdout",
     "output_type": "stream",
     "text": [
      "there are ['zg', 'zr', 'zi', 'panstarrs i', 'panstarrs y', 'panstarrs z', 'panstarrs g', 'panstarrs r', 'Gaia g', 'Gaia bp', 'Gaia rp', 'w1', 'w2'] bandnames \n",
      "for band zg  there are  168  times\n",
      "for band zr  there are  168  times\n",
      "for band zi  there are  168  times\n",
      "for band panstarrs i  there are  168  times\n",
      "for band panstarrs y  there are  168  times\n",
      "for band panstarrs z  there are  168  times\n",
      "for band panstarrs g  there are  168  times\n",
      "for band panstarrs r  there are  168  times\n",
      "for band Gaia g  there are  168  times\n",
      "for band Gaia bp  there are  168  times\n",
      "for band Gaia rp  there are  168  times\n",
      "for band w1  there are  168  times\n",
      "for band w2  there are  168  times\n"
     ]
    }
   ],
   "source": [
    "#proove this did what I wanted it to do\n",
    "oid = 0\n",
    "#how many bandnames in object 0?\n",
    "bn = df_lc.loc[oid,:,:,:].index.unique('band').tolist()\n",
    "print('there are', bn, 'bandnames ')\n",
    "#how many times per band in object 0\n",
    "oid_bandname = df_reindex.loc[oid,:,:,:].index.unique('band').tolist()\n",
    "for i in range(len(oid_bandname) ):\n",
    "    times = df_reindex.loc[oid,:,oid_bandname[i],:].index.unique('datetime').tolist()\n",
    "    print('for band', oid_bandname[i],' there are ', len(times),' times')\n",
    "    \n",
    "    \n",
    "#output from this cell should show that all bands have the same length"
   ]
  },
  {
   "cell_type": "code",
   "execution_count": 17,
   "metadata": {},
   "outputs": [
    {
     "data": {
      "text/plain": [
       "<matplotlib.legend.Legend at 0x7f367e213fd0>"
      ]
     },
     "execution_count": 17,
     "metadata": {},
     "output_type": "execute_result"
    },
    {
     "data": {
      "image/png": "[encoded data removed]",
      "text/plain": [
       "<Figure size 1000x600 with 1 Axes>"
      ]
     },
     "metadata": {},
     "output_type": "display_data"
    }
   ],
   "source": [
    "#figure out if this 'nearest' reindexing is a reasonable choice for this use case\n",
    "#plotting the light curves before and after reindexing.\n",
    "\n",
    "#pick one object, one band for now\n",
    "dfsingle_before = df_lc.loc[4,:,'panstarrs r',:]\n",
    "dfsingle_after = df_reindex.loc[4,:,'panstarrs r',:]\n",
    "\n",
    "#time in a format matplotlib can handle\n",
    "t1 = dfsingle_before.index.get_level_values('datetime').to_pydatetime()\n",
    "f1 = dfsingle_before.flux\n",
    "\n",
    "fig, ax = plt.subplots(figsize=(10,6))\n",
    "f = ax.plot(t1, f1, label = \"original\") \n",
    "f = ax.scatter(t1, f1, label = \"original\")\n",
    "\n",
    "t2 = dfsingle_after.index.get_level_values('datetime').to_pydatetime()\n",
    "f2 = dfsingle_after.flux\n",
    "f = ax.plot(t2, f2, label = \"reindexed\") \n",
    "ax.legend()\n",
    "\n"
   ]
  },
  {
   "cell_type": "markdown",
   "metadata": {},
   "source": [
    "### 2.6 Normalize to the mean of each objectid\n",
    "- this is normalizing across all bands\n",
    "- think this is the right place to do this, rather than before we reindex over time \n",
    "    so that the final light curves are normalized since that is the chunk of information \n",
    "    which goes into the ML algorithms.\n",
    "- chose mean and not median because there are some objects where the median flux = 0.0\n",
    "    - if we did this before the reindexing, the median might be a non-zero value\n",
    "- normalizing is required so that the CLAGN and it's comparison SDSS sample don't have different flux levels."
   ]
  },
  {
   "cell_type": "code",
   "execution_count": 18,
   "metadata": {},
   "outputs": [
    {
     "data": {
      "text/html": [
       "<div>\n",
       "<style scoped>\n",
       "    .dataframe tbody tr th:only-of-type {\n",
       "        vertical-align: middle;\n",
       "    }\n",
       "\n",
       "    .dataframe tbody tr th {\n",
       "        vertical-align: top;\n",
       "    }\n",
       "\n",
       "    .dataframe thead th {\n",
       "        text-align: right;\n",
       "    }\n",
       "</style>\n",
       "<table border=\"1\" class=\"dataframe\">\n",
       "  <thead>\n",
       "    <tr style=\"text-align: right;\">\n",
       "      <th></th>\n",
       "      <th></th>\n",
       "      <th></th>\n",
       "      <th></th>\n",
       "      <th>flux</th>\n",
       "      <th>err</th>\n",
       "    </tr>\n",
       "    <tr>\n",
       "      <th>objectid</th>\n",
       "      <th>label</th>\n",
       "      <th>band</th>\n",
       "      <th>datetime</th>\n",
       "      <th></th>\n",
       "      <th></th>\n",
       "    </tr>\n",
       "  </thead>\n",
       "  <tbody>\n",
       "    <tr>\n",
       "      <th rowspan=\"5\" valign=\"top\">0</th>\n",
       "      <th rowspan=\"5\" valign=\"top\">CLAGN</th>\n",
       "      <th rowspan=\"5\" valign=\"top\">zg</th>\n",
       "      <th>2009-06-03 06:37:08.765742</th>\n",
       "      <td>0.033659</td>\n",
       "      <td>0.004089</td>\n",
       "    </tr>\n",
       "    <tr>\n",
       "      <th>2009-07-03 06:37:08.765742</th>\n",
       "      <td>0.033659</td>\n",
       "      <td>0.004089</td>\n",
       "    </tr>\n",
       "    <tr>\n",
       "      <th>2009-08-02 06:37:08.765742</th>\n",
       "      <td>0.033659</td>\n",
       "      <td>0.004089</td>\n",
       "    </tr>\n",
       "    <tr>\n",
       "      <th>2009-09-01 06:37:08.765742</th>\n",
       "      <td>0.033659</td>\n",
       "      <td>0.004089</td>\n",
       "    </tr>\n",
       "    <tr>\n",
       "      <th>2009-10-01 06:37:08.765742</th>\n",
       "      <td>0.033659</td>\n",
       "      <td>0.004089</td>\n",
       "    </tr>\n",
       "    <tr>\n",
       "      <th>...</th>\n",
       "      <th>...</th>\n",
       "      <th>...</th>\n",
       "      <th>...</th>\n",
       "      <td>...</td>\n",
       "      <td>...</td>\n",
       "    </tr>\n",
       "    <tr>\n",
       "      <th rowspan=\"5\" valign=\"top\">457</th>\n",
       "      <th rowspan=\"5\" valign=\"top\">SDSS</th>\n",
       "      <th rowspan=\"5\" valign=\"top\">w2</th>\n",
       "      <th>2022-10-23 06:37:08.765742</th>\n",
       "      <td>1.435361</td>\n",
       "      <td>0.017771</td>\n",
       "    </tr>\n",
       "    <tr>\n",
       "      <th>2022-11-22 06:37:08.765742</th>\n",
       "      <td>1.435361</td>\n",
       "      <td>0.017771</td>\n",
       "    </tr>\n",
       "    <tr>\n",
       "      <th>2022-12-22 06:37:08.765742</th>\n",
       "      <td>1.435361</td>\n",
       "      <td>0.017771</td>\n",
       "    </tr>\n",
       "    <tr>\n",
       "      <th>2023-01-21 06:37:08.765742</th>\n",
       "      <td>1.435361</td>\n",
       "      <td>0.017771</td>\n",
       "    </tr>\n",
       "    <tr>\n",
       "      <th>2023-02-20 06:37:08.765742</th>\n",
       "      <td>1.435361</td>\n",
       "      <td>0.017771</td>\n",
       "    </tr>\n",
       "  </tbody>\n",
       "</table>\n",
       "<p>984984 rows × 2 columns</p>\n",
       "</div>"
      ],
      "text/plain": [
       "                                                    flux       err\n",
       "objectid label band datetime                                      \n",
       "0        CLAGN zg   2009-06-03 06:37:08.765742  0.033659  0.004089\n",
       "                    2009-07-03 06:37:08.765742  0.033659  0.004089\n",
       "                    2009-08-02 06:37:08.765742  0.033659  0.004089\n",
       "                    2009-09-01 06:37:08.765742  0.033659  0.004089\n",
       "                    2009-10-01 06:37:08.765742  0.033659  0.004089\n",
       "...                                                  ...       ...\n",
       "457      SDSS  w2   2022-10-23 06:37:08.765742  1.435361  0.017771\n",
       "                    2022-11-22 06:37:08.765742  1.435361  0.017771\n",
       "                    2022-12-22 06:37:08.765742  1.435361  0.017771\n",
       "                    2023-01-21 06:37:08.765742  1.435361  0.017771\n",
       "                    2023-02-20 06:37:08.765742  1.435361  0.017771\n",
       "\n",
       "[984984 rows x 2 columns]"
      ]
     },
     "execution_count": 18,
     "metadata": {},
     "output_type": "execute_result"
    }
   ],
   "source": [
    "#what does the dataframe currently look like\n",
    "df_reindex"
   ]
  },
  {
   "cell_type": "code",
   "execution_count": 19,
   "metadata": {},
   "outputs": [],
   "source": [
    "#idea here is that we normalize across each object.  \n",
    "#so the code will know for example that within one object W1 will be brighter than ZTF bands\n",
    "#but from one object to the next, it will not know that one is brighter than the other."
   ]
  },
  {
   "cell_type": "raw",
   "metadata": {},
   "source": [
    "#want to normalize the light curves across all bands\n",
    "\n",
    "#setup new column to hold the normalized fluxes\n",
    "df_reindex[[\"normflux\"]] = 100\n",
    "\n",
    "#can't figure out how to do this when using multiindex, so get rid of it.\n",
    "#remove the index\n",
    "df_reindex_reset = df_reindex.reset_index()\n",
    "\n",
    "\n",
    "#how many objects are in the dataframe?\n",
    "#actually this is the max and some of them are missing\n",
    "nobj = df_reindex.index.unique('objectid').max() + 1\n",
    "\n",
    "#for each objct in the dataframe\n",
    "for oid in tqdm(range(nobj)):\n",
    "    try:\n",
    "        #what is the median flux of all bands for this object?\n",
    "        meanflux = df_reindex.loc[oid,:,:,:].flux.mean(skipna = True)\n",
    "        print('mean flux', meanflux)\n",
    "    except KeyError:\n",
    "        #some of the data cleaning above must have removed some objects\n",
    "        print(oid, ' objectid doesnt exist')\n",
    "    else:\n",
    "        querystring = f'objectid == {oid}'\n",
    "        normflux = df_reindex_reset.query(querystring).flux.values / meanflux\n",
    "        datetime = df_reindex_reset.query(querystring).datetime.values\n",
    "        objectid = df_reindex_reset.query(querystring).objectid.values\n",
    "        band = df_reindex_reset.query(querystring).band.values\n",
    "        label = df_reindex_reset.query(querystring).label.values\n",
    "        dfsingle = pd.DataFrame(dict(flux=normflux, err=df_reindex.loc[oid,:,:,:].err, datetime=datetime, objectid=objectid, band=band,label=label))\n",
    "\n",
    "        #now concatenate the single new df with df_lc\n",
    "        if oid == 0:\n",
    "            df_norm = dfsingle\n",
    "        else:\n",
    "            df_norm = pd.concat([df_norm, dfsingle])\n",
    "            \n",
    "            \n",
    "#reset the index\n",
    "df_norm = df_norm.set_index([\"objectid\", \"label\", \"band\", \"datetime\"])"
   ]
  },
  {
   "cell_type": "code",
   "execution_count": 20,
   "metadata": {
    "scrolled": true
   },
   "outputs": [
    {
     "name": "stderr",
     "output_type": "stream",
     "text": [
      "  0%|          | 1/458 [00:00<00:48,  9.34it/s]"
     ]
    },
    {
     "name": "stdout",
     "output_type": "stream",
     "text": [
      "mean flux 0.10957195241465305\n",
      "mean flux 0.21076464634627848\n",
      "mean flux 0.07253310177916786\n"
     ]
    },
    {
     "name": "stderr",
     "output_type": "stream",
     "text": [
      "  1%|          | 5/458 [00:00<00:28, 15.73it/s]"
     ]
    },
    {
     "name": "stdout",
     "output_type": "stream",
     "text": [
      "mean flux 0.03932266878132568\n",
      "mean flux 0.1560503757407331\n",
      "mean flux 0.27927292174861806\n",
      "mean flux 0.27828456500993454\n"
     ]
    },
    {
     "name": "stderr",
     "output_type": "stream",
     "text": [
      "  2%|▏         | 9/458 [00:00<00:27, 16.18it/s]"
     ]
    },
    {
     "name": "stdout",
     "output_type": "stream",
     "text": [
      "mean flux 0.08084706004343126\n",
      "mean flux 0.08296278297111931\n",
      "mean flux 0.1235951483408649\n",
      "mean flux 0.15332101642792148\n"
     ]
    },
    {
     "name": "stderr",
     "output_type": "stream",
     "text": [
      "  3%|▎         | 13/458 [00:00<00:27, 16.06it/s]"
     ]
    },
    {
     "name": "stdout",
     "output_type": "stream",
     "text": [
      "mean flux 0.07357874824219639\n",
      "mean flux 0.18405317342463415\n",
      "mean flux 0.061727430229934294\n",
      "mean flux 0.12642644181104684\n"
     ]
    },
    {
     "name": "stderr",
     "output_type": "stream",
     "text": [
      "  4%|▎         | 17/458 [00:01<00:27, 15.79it/s]"
     ]
    },
    {
     "name": "stdout",
     "output_type": "stream",
     "text": [
      "mean flux 0.21275635972071344\n",
      "mean flux 0.22172854244830137\n",
      "mean flux 0.1683987244028109\n",
      "mean flux 0.15777563080978066\n"
     ]
    },
    {
     "name": "stderr",
     "output_type": "stream",
     "text": [
      "  5%|▍         | 21/458 [00:01<00:27, 15.74it/s]"
     ]
    },
    {
     "name": "stdout",
     "output_type": "stream",
     "text": [
      "mean flux 0.3502430121685114\n",
      "mean flux 0.20666290930495906\n",
      "mean flux 0.10647337412808432\n",
      "mean flux 0.1286837478894534\n"
     ]
    },
    {
     "name": "stderr",
     "output_type": "stream",
     "text": [
      "  5%|▌         | 25/458 [00:01<00:28, 15.43it/s]"
     ]
    },
    {
     "name": "stdout",
     "output_type": "stream",
     "text": [
      "mean flux 0.28633341731274853\n",
      "mean flux 0.0902175284995533\n",
      "mean flux 0.1394178545072603\n",
      "mean flux 0.28611932555230757\n"
     ]
    },
    {
     "name": "stderr",
     "output_type": "stream",
     "text": [
      "  6%|▋         | 29/458 [00:01<00:28, 15.15it/s]"
     ]
    },
    {
     "name": "stdout",
     "output_type": "stream",
     "text": [
      "mean flux 0.0729216239442719\n",
      "mean flux 0.31705936255441103\n",
      "mean flux 0.19835805228233883\n",
      "mean flux 0.3307963026347012\n"
     ]
    },
    {
     "name": "stderr",
     "output_type": "stream",
     "text": [
      "  7%|▋         | 33/458 [00:02<00:28, 14.92it/s]"
     ]
    },
    {
     "name": "stdout",
     "output_type": "stream",
     "text": [
      "mean flux 0.10957894583835794\n",
      "mean flux 0.24365096446018983\n",
      "mean flux 0.4479311414696196\n"
     ]
    },
    {
     "name": "stderr",
     "output_type": "stream",
     "text": [
      "  8%|▊         | 35/458 [00:02<00:28, 14.75it/s]"
     ]
    },
    {
     "name": "stdout",
     "output_type": "stream",
     "text": [
      "mean flux 0.1303804079389588\n",
      "mean flux 0.04966695816262015\n",
      "mean flux 0.13617856240652787\n"
     ]
    },
    {
     "name": "stderr",
     "output_type": "stream",
     "text": [
      "  9%|▊         | 39/458 [00:02<00:29, 14.41it/s]"
     ]
    },
    {
     "name": "stdout",
     "output_type": "stream",
     "text": [
      "mean flux 0.19428441705632118\n",
      "mean flux 0.20380295739950238\n",
      "mean flux 0.035728945524001826\n"
     ]
    },
    {
     "name": "stderr",
     "output_type": "stream",
     "text": [
      "  9%|▉         | 41/458 [00:02<00:29, 14.19it/s]"
     ]
    },
    {
     "name": "stdout",
     "output_type": "stream",
     "text": [
      "mean flux 1.3391373636650084\n",
      "mean flux 0.17746702838799386\n",
      "mean flux 0.04386213753055483\n"
     ]
    },
    {
     "name": "stderr",
     "output_type": "stream",
     "text": [
      " 10%|▉         | 45/458 [00:03<00:29, 13.90it/s]"
     ]
    },
    {
     "name": "stdout",
     "output_type": "stream",
     "text": [
      "mean flux 0.20804124544608474\n",
      "mean flux 0.8426958584430232\n",
      "mean flux 0.19320985885575423\n"
     ]
    },
    {
     "name": "stderr",
     "output_type": "stream",
     "text": [
      " 10%|█         | 47/458 [00:03<00:29, 13.73it/s]"
     ]
    },
    {
     "name": "stdout",
     "output_type": "stream",
     "text": [
      "mean flux 0.14688133553751495\n",
      "47  objectid doesnt exist\n",
      "mean flux 16.453114352698563\n",
      "mean flux 4.298290122322834\n"
     ]
    },
    {
     "name": "stderr",
     "output_type": "stream",
     "text": [
      " 11%|█▏        | 52/458 [00:03<00:27, 15.03it/s]"
     ]
    },
    {
     "name": "stdout",
     "output_type": "stream",
     "text": [
      "mean flux 5.3007989360864745\n",
      "mean flux 7.0015531581836745\n",
      "mean flux 1.2265971198108112\n"
     ]
    },
    {
     "name": "stderr",
     "output_type": "stream",
     "text": [
      " 12%|█▏        | 54/458 [00:03<00:28, 14.40it/s]"
     ]
    },
    {
     "name": "stdout",
     "output_type": "stream",
     "text": [
      "mean flux 5.766508689834643\n",
      "mean flux 1.8084407207672006\n",
      "mean flux 0.7330693913225308\n"
     ]
    },
    {
     "name": "stderr",
     "output_type": "stream",
     "text": [
      " 13%|█▎        | 58/458 [00:03<00:29, 13.59it/s]"
     ]
    },
    {
     "name": "stdout",
     "output_type": "stream",
     "text": [
      "mean flux 9.90575594168443\n",
      "mean flux 4.008698936635882\n",
      "mean flux 3.2123544900927734\n"
     ]
    },
    {
     "name": "stderr",
     "output_type": "stream",
     "text": [
      " 13%|█▎        | 60/458 [00:04<00:29, 13.27it/s]"
     ]
    },
    {
     "name": "stdout",
     "output_type": "stream",
     "text": [
      "mean flux 6.631940043210409\n",
      "mean flux 27.54771411398937\n",
      "mean flux 6.4604138471538075\n"
     ]
    },
    {
     "name": "stderr",
     "output_type": "stream",
     "text": [
      " 14%|█▍        | 64/458 [00:04<00:30, 12.92it/s]"
     ]
    },
    {
     "name": "stdout",
     "output_type": "stream",
     "text": [
      "mean flux 9.943742389585406\n",
      "mean flux 0.8306167819524182\n",
      "mean flux 0.9443509290848819\n"
     ]
    },
    {
     "name": "stderr",
     "output_type": "stream",
     "text": [
      " 14%|█▍        | 66/458 [00:04<00:30, 12.73it/s]"
     ]
    },
    {
     "name": "stdout",
     "output_type": "stream",
     "text": [
      "mean flux 0.2751985350305347\n",
      "mean flux 1.5298739009018762\n",
      "mean flux 7.039023739991835\n"
     ]
    },
    {
     "name": "stderr",
     "output_type": "stream",
     "text": [
      " 15%|█▌        | 70/458 [00:04<00:31, 12.43it/s]"
     ]
    },
    {
     "name": "stdout",
     "output_type": "stream",
     "text": [
      "mean flux 0.7136752799851699\n",
      "mean flux 0.5596604289545618\n",
      "mean flux 0.4785017393376591\n"
     ]
    },
    {
     "name": "stderr",
     "output_type": "stream",
     "text": [
      " 16%|█▌        | 72/458 [00:05<00:31, 12.24it/s]"
     ]
    },
    {
     "name": "stdout",
     "output_type": "stream",
     "text": [
      "mean flux 2.0503173461208832\n",
      "mean flux 2.690428881405593\n",
      "mean flux 1.2860600600510583\n"
     ]
    },
    {
     "name": "stderr",
     "output_type": "stream",
     "text": [
      " 17%|█▋        | 76/458 [00:05<00:31, 12.00it/s]"
     ]
    },
    {
     "name": "stdout",
     "output_type": "stream",
     "text": [
      "mean flux 9.552080112527577\n",
      "mean flux 0.4762530588076413\n",
      "mean flux 0.3306243807250809\n"
     ]
    },
    {
     "name": "stderr",
     "output_type": "stream",
     "text": [
      " 17%|█▋        | 78/458 [00:05<00:32, 11.79it/s]"
     ]
    },
    {
     "name": "stdout",
     "output_type": "stream",
     "text": [
      "mean flux 20.730212441979376\n",
      "mean flux 0.3601286630470228\n",
      "mean flux 0.4776091316589126\n"
     ]
    },
    {
     "name": "stderr",
     "output_type": "stream",
     "text": [
      " 18%|█▊        | 83/458 [00:05<00:28, 13.36it/s]"
     ]
    },
    {
     "name": "stdout",
     "output_type": "stream",
     "text": [
      "mean flux 1.6861678904259858\n",
      "81  objectid doesnt exist\n",
      "mean flux 4.062949491433799\n",
      "mean flux 23.37967435709532\n"
     ]
    },
    {
     "name": "stderr",
     "output_type": "stream",
     "text": [
      " 19%|█▊        | 85/458 [00:06<00:29, 12.70it/s]"
     ]
    },
    {
     "name": "stdout",
     "output_type": "stream",
     "text": [
      "mean flux 0.33544971063361556\n",
      "mean flux 1.0703538472835834\n",
      "mean flux 11.09442718937117\n"
     ]
    },
    {
     "name": "stderr",
     "output_type": "stream",
     "text": [
      " 19%|█▉        | 89/458 [00:06<00:30, 11.95it/s]"
     ]
    },
    {
     "name": "stdout",
     "output_type": "stream",
     "text": [
      "mean flux 1.4219378358400714\n",
      "mean flux 0.5606105264090414\n",
      "mean flux 20.019504818287526\n"
     ]
    },
    {
     "name": "stderr",
     "output_type": "stream",
     "text": [
      " 20%|█▉        | 91/458 [00:06<00:31, 11.62it/s]"
     ]
    },
    {
     "name": "stdout",
     "output_type": "stream",
     "text": [
      "mean flux 0.8781920897550509\n",
      "mean flux 6.758468371788358\n",
      "mean flux 1.8772358724310247\n"
     ]
    },
    {
     "name": "stderr",
     "output_type": "stream",
     "text": [
      " 21%|██        | 95/458 [00:07<00:32, 11.09it/s]"
     ]
    },
    {
     "name": "stdout",
     "output_type": "stream",
     "text": [
      "mean flux 0.39481108197701165\n",
      "mean flux 0.1614034219410989\n",
      "mean flux 21.60130707952171\n"
     ]
    },
    {
     "name": "stderr",
     "output_type": "stream",
     "text": [
      " 21%|██        | 97/458 [00:07<00:33, 10.91it/s]"
     ]
    },
    {
     "name": "stdout",
     "output_type": "stream",
     "text": [
      "mean flux 0.6675729730248018\n",
      "mean flux 1.383748622933997\n",
      "mean flux 1.243630550524653\n"
     ]
    },
    {
     "name": "stderr",
     "output_type": "stream",
     "text": [
      " 22%|██▏       | 101/458 [00:07<00:33, 10.65it/s]"
     ]
    },
    {
     "name": "stdout",
     "output_type": "stream",
     "text": [
      "mean flux 0.5821012383106017\n",
      "mean flux 0.30689886416629414\n",
      "mean flux 0.2760069965254803\n"
     ]
    },
    {
     "name": "stderr",
     "output_type": "stream",
     "text": [
      " 22%|██▏       | 103/458 [00:07<00:33, 10.53it/s]"
     ]
    },
    {
     "name": "stdout",
     "output_type": "stream",
     "text": [
      "mean flux 1.0121223335906897\n",
      "mean flux 0.7672915492030198\n",
      "mean flux 10.579780271310947\n"
     ]
    },
    {
     "name": "stderr",
     "output_type": "stream",
     "text": [
      " 23%|██▎       | 107/458 [00:08<00:34, 10.28it/s]"
     ]
    },
    {
     "name": "stdout",
     "output_type": "stream",
     "text": [
      "mean flux 0.41475291822779264\n",
      "mean flux 9.724952311818189\n",
      "mean flux 11.60326583212075\n"
     ]
    },
    {
     "name": "stderr",
     "output_type": "stream",
     "text": [
      " 24%|██▍       | 111/458 [00:08<00:29, 11.62it/s]"
     ]
    },
    {
     "name": "stdout",
     "output_type": "stream",
     "text": [
      "108  objectid doesnt exist\n",
      "mean flux 17.949427632743657\n",
      "mean flux 2.0163699011881273\n",
      "mean flux 13.633737836402915\n"
     ]
    },
    {
     "name": "stderr",
     "output_type": "stream",
     "text": [
      " 25%|██▌       | 116/458 [00:08<00:21, 15.99it/s]"
     ]
    },
    {
     "name": "stdout",
     "output_type": "stream",
     "text": [
      "112  objectid doesnt exist\n",
      "113  objectid doesnt exist\n",
      "114  objectid doesnt exist\n",
      "mean flux 0.003563324122556618\n",
      "mean flux 1.8654847609568608\n"
     ]
    },
    {
     "name": "stderr",
     "output_type": "stream",
     "text": [
      " 26%|██▌       | 118/458 [00:08<00:24, 13.85it/s]"
     ]
    },
    {
     "name": "stdout",
     "output_type": "stream",
     "text": [
      "mean flux 0.7940292485961813\n",
      "mean flux 0.9635140863495409\n"
     ]
    },
    {
     "name": "stderr",
     "output_type": "stream",
     "text": [
      " 26%|██▌       | 120/458 [00:09<00:26, 12.56it/s]"
     ]
    },
    {
     "name": "stdout",
     "output_type": "stream",
     "text": [
      "mean flux 0.6492912644543798\n",
      "mean flux 1.1203635623507806\n"
     ]
    },
    {
     "name": "stderr",
     "output_type": "stream",
     "text": [
      " 27%|██▋       | 122/458 [00:09<00:28, 11.62it/s]"
     ]
    },
    {
     "name": "stdout",
     "output_type": "stream",
     "text": [
      "mean flux 5.654923040423281\n",
      "mean flux 1.1729506874428448\n"
     ]
    },
    {
     "name": "stderr",
     "output_type": "stream",
     "text": [
      " 27%|██▋       | 124/458 [00:09<00:30, 10.99it/s]"
     ]
    },
    {
     "name": "stdout",
     "output_type": "stream",
     "text": [
      "mean flux 1.4318351552445938\n",
      "mean flux 0.6960466478940687\n"
     ]
    },
    {
     "name": "stderr",
     "output_type": "stream",
     "text": [
      " 28%|██▊       | 126/458 [00:09<00:31, 10.53it/s]"
     ]
    },
    {
     "name": "stdout",
     "output_type": "stream",
     "text": [
      "mean flux 2.781654918392976\n",
      "mean flux 0.8497965510511573\n"
     ]
    },
    {
     "name": "stderr",
     "output_type": "stream",
     "text": [
      " 28%|██▊       | 128/458 [00:09<00:32, 10.18it/s]"
     ]
    },
    {
     "name": "stdout",
     "output_type": "stream",
     "text": [
      "mean flux 3.5803101120321856\n",
      "mean flux 2.220219261481224\n"
     ]
    },
    {
     "name": "stderr",
     "output_type": "stream",
     "text": [
      " 28%|██▊       | 130/458 [00:10<00:32,  9.97it/s]"
     ]
    },
    {
     "name": "stdout",
     "output_type": "stream",
     "text": [
      "mean flux 0.8898051540364652\n",
      "mean flux 2.0765485639784407\n"
     ]
    },
    {
     "name": "stderr",
     "output_type": "stream",
     "text": [
      " 29%|██▉       | 132/458 [00:10<00:33,  9.81it/s]"
     ]
    },
    {
     "name": "stdout",
     "output_type": "stream",
     "text": [
      "mean flux 0.8885318225338346\n",
      "mean flux 2.1161231082001013\n"
     ]
    },
    {
     "name": "stderr",
     "output_type": "stream",
     "text": [
      " 29%|██▉       | 134/458 [00:10<00:33,  9.64it/s]"
     ]
    },
    {
     "name": "stdout",
     "output_type": "stream",
     "text": [
      "mean flux 6.39324001162355\n",
      "mean flux 0.5395114519820982\n"
     ]
    },
    {
     "name": "stderr",
     "output_type": "stream",
     "text": [
      " 30%|██▉       | 136/458 [00:10<00:33,  9.47it/s]"
     ]
    },
    {
     "name": "stdout",
     "output_type": "stream",
     "text": [
      "mean flux 0.9826264290800898\n",
      "mean flux 1.293653708019536\n"
     ]
    },
    {
     "name": "stderr",
     "output_type": "stream",
     "text": [
      " 30%|███       | 138/458 [00:11<00:34,  9.30it/s]"
     ]
    },
    {
     "name": "stdout",
     "output_type": "stream",
     "text": [
      "mean flux 0.6752316008040178\n",
      "mean flux 0.9337747786944602\n"
     ]
    },
    {
     "name": "stderr",
     "output_type": "stream",
     "text": [
      " 31%|███       | 140/458 [00:11<00:34,  9.20it/s]"
     ]
    },
    {
     "name": "stdout",
     "output_type": "stream",
     "text": [
      "mean flux 2.175039536599026\n",
      "mean flux 0.7918135266164283\n"
     ]
    },
    {
     "name": "stderr",
     "output_type": "stream",
     "text": [
      " 31%|███       | 142/458 [00:11<00:35,  8.86it/s]"
     ]
    },
    {
     "name": "stdout",
     "output_type": "stream",
     "text": [
      "mean flux 1.5867371020828847\n",
      "mean flux 0.7511615165860661\n"
     ]
    },
    {
     "name": "stderr",
     "output_type": "stream",
     "text": [
      " 31%|███▏      | 144/458 [00:11<00:35,  8.86it/s]"
     ]
    },
    {
     "name": "stdout",
     "output_type": "stream",
     "text": [
      "mean flux 5.129661931926283\n",
      "mean flux 0.09356127438098201\n"
     ]
    },
    {
     "name": "stderr",
     "output_type": "stream",
     "text": [
      " 32%|███▏      | 146/458 [00:11<00:36,  8.61it/s]"
     ]
    },
    {
     "name": "stdout",
     "output_type": "stream",
     "text": [
      "mean flux 0.04026140470623483\n",
      "mean flux 0.26500645675947504\n"
     ]
    },
    {
     "name": "stderr",
     "output_type": "stream",
     "text": [
      " 32%|███▏      | 148/458 [00:12<00:36,  8.43it/s]"
     ]
    },
    {
     "name": "stdout",
     "output_type": "stream",
     "text": [
      "mean flux 0.14741253228060305\n",
      "mean flux 0.23602740581208342\n"
     ]
    },
    {
     "name": "stderr",
     "output_type": "stream",
     "text": [
      " 33%|███▎      | 150/458 [00:12<00:36,  8.52it/s]"
     ]
    },
    {
     "name": "stdout",
     "output_type": "stream",
     "text": [
      "mean flux 0.30302291754116606\n",
      "mean flux 0.042312985441133696\n"
     ]
    },
    {
     "name": "stderr",
     "output_type": "stream",
     "text": [
      " 33%|███▎      | 152/458 [00:12<00:34,  8.84it/s]"
     ]
    },
    {
     "name": "stdout",
     "output_type": "stream",
     "text": [
      "mean flux 0.1462509287352378\n",
      "mean flux 0.09022585578496534\n"
     ]
    },
    {
     "name": "stderr",
     "output_type": "stream",
     "text": [
      " 34%|███▎      | 154/458 [00:12<00:35,  8.60it/s]"
     ]
    },
    {
     "name": "stdout",
     "output_type": "stream",
     "text": [
      "mean flux 0.09050530616398211\n",
      "mean flux 0.21050014868426467\n"
     ]
    },
    {
     "name": "stderr",
     "output_type": "stream",
     "text": [
      " 34%|███▍      | 156/458 [00:13<00:36,  8.37it/s]"
     ]
    },
    {
     "name": "stdout",
     "output_type": "stream",
     "text": [
      "mean flux 0.058498673866558104\n",
      "mean flux 0.07716436524567802\n"
     ]
    },
    {
     "name": "stderr",
     "output_type": "stream",
     "text": [
      " 34%|███▍      | 158/458 [00:13<00:35,  8.36it/s]"
     ]
    },
    {
     "name": "stdout",
     "output_type": "stream",
     "text": [
      "mean flux 0.182617280748848\n",
      "mean flux 0.21844762215895666\n"
     ]
    },
    {
     "name": "stderr",
     "output_type": "stream",
     "text": [
      " 35%|███▍      | 160/458 [00:13<00:35,  8.51it/s]"
     ]
    },
    {
     "name": "stdout",
     "output_type": "stream",
     "text": [
      "mean flux 0.16209288621368267\n",
      "mean flux 0.13225322424543717\n"
     ]
    },
    {
     "name": "stderr",
     "output_type": "stream",
     "text": [
      " 35%|███▌      | 162/458 [00:13<00:34,  8.62it/s]"
     ]
    },
    {
     "name": "stdout",
     "output_type": "stream",
     "text": [
      "mean flux 0.27426525340738195\n",
      "mean flux 0.27325781369360524\n"
     ]
    },
    {
     "name": "stderr",
     "output_type": "stream",
     "text": [
      " 36%|███▌      | 164/458 [00:14<00:33,  8.68it/s]"
     ]
    },
    {
     "name": "stdout",
     "output_type": "stream",
     "text": [
      "mean flux 0.1079192685794992\n",
      "mean flux 0.07304683177500461\n"
     ]
    },
    {
     "name": "stderr",
     "output_type": "stream",
     "text": [
      " 36%|███▌      | 166/458 [00:14<00:34,  8.47it/s]"
     ]
    },
    {
     "name": "stdout",
     "output_type": "stream",
     "text": [
      "mean flux 0.03267155284891284\n",
      "mean flux 0.004219636282322734\n"
     ]
    },
    {
     "name": "stderr",
     "output_type": "stream",
     "text": [
      " 37%|███▋      | 168/458 [00:14<00:34,  8.36it/s]"
     ]
    },
    {
     "name": "stdout",
     "output_type": "stream",
     "text": [
      "mean flux 0.004307591016119233\n",
      "mean flux 0.007999042721792598\n"
     ]
    },
    {
     "name": "stderr",
     "output_type": "stream",
     "text": [
      " 37%|███▋      | 170/458 [00:14<00:33,  8.51it/s]"
     ]
    },
    {
     "name": "stdout",
     "output_type": "stream",
     "text": [
      "mean flux 0.04611121542753448\n",
      "mean flux 0.015512963718546971\n"
     ]
    },
    {
     "name": "stderr",
     "output_type": "stream",
     "text": [
      " 38%|███▊      | 172/458 [00:14<00:33,  8.50it/s]"
     ]
    },
    {
     "name": "stdout",
     "output_type": "stream",
     "text": [
      "mean flux 0.04302514141439435\n",
      "mean flux 0.006615989387113916\n"
     ]
    },
    {
     "name": "stderr",
     "output_type": "stream",
     "text": [
      " 38%|███▊      | 174/458 [00:15<00:37,  7.66it/s]"
     ]
    },
    {
     "name": "stdout",
     "output_type": "stream",
     "text": [
      "mean flux 0.01915150002525004\n",
      "mean flux 0.030414261089029743\n"
     ]
    },
    {
     "name": "stderr",
     "output_type": "stream",
     "text": [
      " 38%|███▊      | 176/458 [00:15<00:37,  7.62it/s]"
     ]
    },
    {
     "name": "stdout",
     "output_type": "stream",
     "text": [
      "mean flux 0.055098559802283925\n",
      "mean flux 3.816159155030667\n"
     ]
    },
    {
     "name": "stderr",
     "output_type": "stream",
     "text": [
      " 39%|███▉      | 178/458 [00:15<00:36,  7.58it/s]"
     ]
    },
    {
     "name": "stdout",
     "output_type": "stream",
     "text": [
      "mean flux 0.050163836182371246\n",
      "mean flux 0.015044558324083218\n"
     ]
    },
    {
     "name": "stderr",
     "output_type": "stream",
     "text": [
      " 39%|███▉      | 180/458 [00:16<00:36,  7.58it/s]"
     ]
    },
    {
     "name": "stdout",
     "output_type": "stream",
     "text": [
      "mean flux 0.0489789208388988\n",
      "mean flux 0.024607538139516844\n"
     ]
    },
    {
     "name": "stderr",
     "output_type": "stream",
     "text": [
      " 40%|███▉      | 182/458 [00:16<00:36,  7.62it/s]"
     ]
    },
    {
     "name": "stdout",
     "output_type": "stream",
     "text": [
      "mean flux 1.5994103670430808\n",
      "mean flux 0.23022515800228957\n"
     ]
    },
    {
     "name": "stderr",
     "output_type": "stream",
     "text": [
      " 40%|████      | 184/458 [00:16<00:36,  7.58it/s]"
     ]
    },
    {
     "name": "stdout",
     "output_type": "stream",
     "text": [
      "mean flux 2.8895467932881918\n",
      "mean flux 2.8524841498097375\n"
     ]
    },
    {
     "name": "stderr",
     "output_type": "stream",
     "text": [
      " 41%|████      | 186/458 [00:16<00:35,  7.58it/s]"
     ]
    },
    {
     "name": "stdout",
     "output_type": "stream",
     "text": [
      "mean flux 0.773535146464225\n",
      "mean flux 0.07292865113798969\n"
     ]
    },
    {
     "name": "stderr",
     "output_type": "stream",
     "text": [
      " 41%|████      | 188/458 [00:17<00:35,  7.56it/s]"
     ]
    },
    {
     "name": "stdout",
     "output_type": "stream",
     "text": [
      "mean flux 0.8143083466495187\n",
      "mean flux 0.007705403531275222\n"
     ]
    },
    {
     "name": "stderr",
     "output_type": "stream",
     "text": [
      " 41%|████▏     | 190/458 [00:17<00:35,  7.48it/s]"
     ]
    },
    {
     "name": "stdout",
     "output_type": "stream",
     "text": [
      "mean flux 0.010312650721872955\n",
      "mean flux 0.22564500181831268\n"
     ]
    },
    {
     "name": "stderr",
     "output_type": "stream",
     "text": [
      " 42%|████▏     | 192/458 [00:17<00:36,  7.31it/s]"
     ]
    },
    {
     "name": "stdout",
     "output_type": "stream",
     "text": [
      "mean flux 1.4718565574747162\n",
      "mean flux 0.0022530007596033522\n"
     ]
    },
    {
     "name": "stderr",
     "output_type": "stream",
     "text": [
      " 42%|████▏     | 194/458 [00:17<00:36,  7.27it/s]"
     ]
    },
    {
     "name": "stdout",
     "output_type": "stream",
     "text": [
      "mean flux 0.05758618730831395\n",
      "mean flux 0.011063136020481435\n"
     ]
    },
    {
     "name": "stderr",
     "output_type": "stream",
     "text": [
      " 43%|████▎     | 196/458 [00:18<00:36,  7.27it/s]"
     ]
    },
    {
     "name": "stdout",
     "output_type": "stream",
     "text": [
      "mean flux 0.49752491445749203\n",
      "mean flux 0.03315175804793354\n"
     ]
    },
    {
     "name": "stderr",
     "output_type": "stream",
     "text": [
      " 43%|████▎     | 198/458 [00:18<00:35,  7.32it/s]"
     ]
    },
    {
     "name": "stdout",
     "output_type": "stream",
     "text": [
      "mean flux 1.7733882589593661\n",
      "mean flux 1.9667395022708898\n"
     ]
    },
    {
     "name": "stderr",
     "output_type": "stream",
     "text": [
      " 44%|████▎     | 200/458 [00:18<00:35,  7.24it/s]"
     ]
    },
    {
     "name": "stdout",
     "output_type": "stream",
     "text": [
      "mean flux 1.8682725134221425\n",
      "mean flux 1.7342427582046591\n"
     ]
    },
    {
     "name": "stderr",
     "output_type": "stream",
     "text": [
      " 44%|████▍     | 202/458 [00:19<00:36,  7.08it/s]"
     ]
    },
    {
     "name": "stdout",
     "output_type": "stream",
     "text": [
      "mean flux 0.004415141070253096\n",
      "mean flux 0.08291311254185511\n"
     ]
    },
    {
     "name": "stderr",
     "output_type": "stream",
     "text": [
      " 45%|████▍     | 204/458 [00:19<00:36,  7.00it/s]"
     ]
    },
    {
     "name": "stdout",
     "output_type": "stream",
     "text": [
      "mean flux 3.20335060394799\n",
      "mean flux 1.5459792256250822\n"
     ]
    },
    {
     "name": "stderr",
     "output_type": "stream",
     "text": [
      " 45%|████▍     | 206/458 [00:19<00:37,  6.81it/s]"
     ]
    },
    {
     "name": "stdout",
     "output_type": "stream",
     "text": [
      "mean flux 0.8792014711859888\n",
      "mean flux 1.454227632320843\n"
     ]
    },
    {
     "name": "stderr",
     "output_type": "stream",
     "text": [
      " 45%|████▌     | 208/458 [00:19<00:36,  6.94it/s]"
     ]
    },
    {
     "name": "stdout",
     "output_type": "stream",
     "text": [
      "mean flux 0.024189070388932258\n",
      "mean flux 0.014754036739246565\n"
     ]
    },
    {
     "name": "stderr",
     "output_type": "stream",
     "text": [
      " 46%|████▌     | 210/458 [00:20<00:36,  6.80it/s]"
     ]
    },
    {
     "name": "stdout",
     "output_type": "stream",
     "text": [
      "mean flux 4.238120445096458\n",
      "mean flux 1.119532316784434\n"
     ]
    },
    {
     "name": "stderr",
     "output_type": "stream",
     "text": [
      " 46%|████▋     | 212/458 [00:20<00:36,  6.76it/s]"
     ]
    },
    {
     "name": "stdout",
     "output_type": "stream",
     "text": [
      "mean flux 0.11900021359597371\n",
      "mean flux 0.08638118192449898\n"
     ]
    },
    {
     "name": "stderr",
     "output_type": "stream",
     "text": [
      " 47%|████▋     | 214/458 [00:20<00:36,  6.76it/s]"
     ]
    },
    {
     "name": "stdout",
     "output_type": "stream",
     "text": [
      "mean flux 7.988097211077138\n",
      "mean flux 0.01266904877382677\n"
     ]
    },
    {
     "name": "stderr",
     "output_type": "stream",
     "text": [
      " 47%|████▋     | 216/458 [00:21<00:36,  6.63it/s]"
     ]
    },
    {
     "name": "stdout",
     "output_type": "stream",
     "text": [
      "mean flux 0.013839345218939075\n",
      "mean flux 1.953340432943711\n"
     ]
    },
    {
     "name": "stderr",
     "output_type": "stream",
     "text": [
      " 48%|████▊     | 218/458 [00:21<00:36,  6.63it/s]"
     ]
    },
    {
     "name": "stdout",
     "output_type": "stream",
     "text": [
      "mean flux 0.0602934203849242\n",
      "mean flux 0.03846453783007565\n"
     ]
    },
    {
     "name": "stderr",
     "output_type": "stream",
     "text": [
      " 48%|████▊     | 220/458 [00:21<00:35,  6.74it/s]"
     ]
    },
    {
     "name": "stdout",
     "output_type": "stream",
     "text": [
      "mean flux 1.8905116127428858\n",
      "mean flux 1.3558373552359517\n"
     ]
    },
    {
     "name": "stderr",
     "output_type": "stream",
     "text": [
      " 48%|████▊     | 222/458 [00:22<00:34,  6.77it/s]"
     ]
    },
    {
     "name": "stdout",
     "output_type": "stream",
     "text": [
      "mean flux 2.5416442885708403\n",
      "mean flux 1.6229871706867622\n"
     ]
    },
    {
     "name": "stderr",
     "output_type": "stream",
     "text": [
      " 49%|████▉     | 224/458 [00:22<00:34,  6.84it/s]"
     ]
    },
    {
     "name": "stdout",
     "output_type": "stream",
     "text": [
      "mean flux 0.5506797174616547\n",
      "mean flux 0.03922160324376985\n"
     ]
    },
    {
     "name": "stderr",
     "output_type": "stream",
     "text": [
      " 49%|████▉     | 226/458 [00:22<00:33,  6.83it/s]"
     ]
    },
    {
     "name": "stdout",
     "output_type": "stream",
     "text": [
      "mean flux 2.5640638278680017\n",
      "mean flux 1.9899756636134165\n"
     ]
    },
    {
     "name": "stderr",
     "output_type": "stream",
     "text": [
      " 50%|████▉     | 228/458 [00:22<00:34,  6.74it/s]"
     ]
    },
    {
     "name": "stdout",
     "output_type": "stream",
     "text": [
      "mean flux 4.11554876367621\n",
      "mean flux 6.274221523726958\n"
     ]
    },
    {
     "name": "stderr",
     "output_type": "stream",
     "text": [
      " 50%|█████     | 230/458 [00:23<00:34,  6.70it/s]"
     ]
    },
    {
     "name": "stdout",
     "output_type": "stream",
     "text": [
      "mean flux 1.5615600744127915\n",
      "mean flux 0.730924498198915\n"
     ]
    },
    {
     "name": "stderr",
     "output_type": "stream",
     "text": [
      " 51%|█████     | 232/458 [00:23<00:33,  6.68it/s]"
     ]
    },
    {
     "name": "stdout",
     "output_type": "stream",
     "text": [
      "mean flux 1.4183403225956903\n",
      "mean flux 1.5418576892744604\n"
     ]
    },
    {
     "name": "stderr",
     "output_type": "stream",
     "text": [
      " 51%|█████     | 234/458 [00:23<00:33,  6.66it/s]"
     ]
    },
    {
     "name": "stdout",
     "output_type": "stream",
     "text": [
      "mean flux 0.764673977764237\n",
      "mean flux 1.184226534571615\n"
     ]
    },
    {
     "name": "stderr",
     "output_type": "stream",
     "text": [
      " 52%|█████▏    | 236/458 [00:24<00:33,  6.55it/s]"
     ]
    },
    {
     "name": "stdout",
     "output_type": "stream",
     "text": [
      "mean flux 1.332095569677075\n",
      "mean flux 0.02709465188245503\n"
     ]
    },
    {
     "name": "stderr",
     "output_type": "stream",
     "text": [
      " 52%|█████▏    | 238/458 [00:24<00:33,  6.61it/s]"
     ]
    },
    {
     "name": "stdout",
     "output_type": "stream",
     "text": [
      "mean flux 0.6457891315407569\n",
      "mean flux 0.9712179403789023\n"
     ]
    },
    {
     "name": "stderr",
     "output_type": "stream",
     "text": [
      " 52%|█████▏    | 240/458 [00:24<00:32,  6.65it/s]"
     ]
    },
    {
     "name": "stdout",
     "output_type": "stream",
     "text": [
      "mean flux 0.2533276949982995\n",
      "mean flux 6.514705404757385\n"
     ]
    },
    {
     "name": "stderr",
     "output_type": "stream",
     "text": [
      " 53%|█████▎    | 242/458 [00:25<00:32,  6.59it/s]"
     ]
    },
    {
     "name": "stdout",
     "output_type": "stream",
     "text": [
      "mean flux 1.800831508076116\n",
      "mean flux 1.0458105185858695\n"
     ]
    },
    {
     "name": "stderr",
     "output_type": "stream",
     "text": [
      " 53%|█████▎    | 244/458 [00:25<00:32,  6.61it/s]"
     ]
    },
    {
     "name": "stdout",
     "output_type": "stream",
     "text": [
      "mean flux 7.221956192359499\n",
      "mean flux 1.065843245244632\n"
     ]
    },
    {
     "name": "stderr",
     "output_type": "stream",
     "text": [
      " 54%|█████▎    | 246/458 [00:25<00:33,  6.32it/s]"
     ]
    },
    {
     "name": "stdout",
     "output_type": "stream",
     "text": [
      "mean flux 0.3452685479913578\n",
      "mean flux 1.541639210353355\n"
     ]
    },
    {
     "name": "stderr",
     "output_type": "stream",
     "text": [
      " 54%|█████▍    | 248/458 [00:25<00:33,  6.24it/s]"
     ]
    },
    {
     "name": "stdout",
     "output_type": "stream",
     "text": [
      "mean flux 2.8588504898413625\n",
      "mean flux 1.654314916941339\n"
     ]
    },
    {
     "name": "stderr",
     "output_type": "stream",
     "text": [
      " 55%|█████▍    | 250/458 [00:26<00:33,  6.25it/s]"
     ]
    },
    {
     "name": "stdout",
     "output_type": "stream",
     "text": [
      "mean flux 0.9717360745564859\n",
      "mean flux 0.007717831775773082\n"
     ]
    },
    {
     "name": "stderr",
     "output_type": "stream",
     "text": [
      " 55%|█████▌    | 252/458 [00:26<00:33,  6.09it/s]"
     ]
    },
    {
     "name": "stdout",
     "output_type": "stream",
     "text": [
      "mean flux 1.194337665509472\n",
      "252  objectid doesnt exist\n",
      "mean flux 0.02929038527728283\n"
     ]
    },
    {
     "name": "stderr",
     "output_type": "stream",
     "text": [
      " 56%|█████▌    | 255/458 [00:26<00:27,  7.27it/s]"
     ]
    },
    {
     "name": "stdout",
     "output_type": "stream",
     "text": [
      "mean flux 1.6370633149740765\n",
      "mean flux 0.945081411296578\n"
     ]
    },
    {
     "name": "stderr",
     "output_type": "stream",
     "text": [
      " 56%|█████▌    | 257/458 [00:27<00:30,  6.51it/s]"
     ]
    },
    {
     "name": "stdout",
     "output_type": "stream",
     "text": [
      "mean flux 1.8015124140317018\n",
      "mean flux 1.0719611362974506\n"
     ]
    },
    {
     "name": "stderr",
     "output_type": "stream",
     "text": [
      " 57%|█████▋    | 259/458 [00:27<00:32,  6.20it/s]"
     ]
    },
    {
     "name": "stdout",
     "output_type": "stream",
     "text": [
      "mean flux 3.0831458623682253\n",
      "mean flux 0.5246119756585302\n"
     ]
    },
    {
     "name": "stderr",
     "output_type": "stream",
     "text": [
      " 57%|█████▋    | 261/458 [00:27<00:32,  6.03it/s]"
     ]
    },
    {
     "name": "stdout",
     "output_type": "stream",
     "text": [
      "mean flux 0.6323777687890281\n",
      "mean flux 1.403546389958093\n"
     ]
    },
    {
     "name": "stderr",
     "output_type": "stream",
     "text": [
      " 57%|█████▋    | 263/458 [00:28<00:33,  5.90it/s]"
     ]
    },
    {
     "name": "stdout",
     "output_type": "stream",
     "text": [
      "mean flux 2.288903323812104\n",
      "mean flux 0.00801383660013218\n"
     ]
    },
    {
     "name": "stderr",
     "output_type": "stream",
     "text": [
      " 58%|█████▊    | 265/458 [00:28<00:34,  5.58it/s]"
     ]
    },
    {
     "name": "stdout",
     "output_type": "stream",
     "text": [
      "mean flux 5.314861188175814\n",
      "mean flux 1.4033558941270103\n"
     ]
    },
    {
     "name": "stderr",
     "output_type": "stream",
     "text": [
      " 58%|█████▊    | 267/458 [00:29<00:34,  5.61it/s]"
     ]
    },
    {
     "name": "stdout",
     "output_type": "stream",
     "text": [
      "mean flux 3.6661885205296363\n",
      "mean flux 1.0202046107439715\n"
     ]
    },
    {
     "name": "stderr",
     "output_type": "stream",
     "text": [
      " 59%|█████▊    | 269/458 [00:29<00:33,  5.64it/s]"
     ]
    },
    {
     "name": "stdout",
     "output_type": "stream",
     "text": [
      "mean flux 1.6602011010226012\n",
      "mean flux 1.0111037907700278\n"
     ]
    },
    {
     "name": "stderr",
     "output_type": "stream",
     "text": [
      " 59%|█████▉    | 271/458 [00:29<00:32,  5.67it/s]"
     ]
    },
    {
     "name": "stdout",
     "output_type": "stream",
     "text": [
      "mean flux 1.0647511060061594\n",
      "mean flux 1.0737968127451905\n"
     ]
    },
    {
     "name": "stderr",
     "output_type": "stream",
     "text": [
      " 60%|█████▉    | 273/458 [00:30<00:32,  5.73it/s]"
     ]
    },
    {
     "name": "stdout",
     "output_type": "stream",
     "text": [
      "mean flux 0.7035359434157957\n",
      "mean flux 1.9615158306825575\n"
     ]
    },
    {
     "name": "stderr",
     "output_type": "stream",
     "text": [
      " 60%|██████    | 275/458 [00:30<00:32,  5.57it/s]"
     ]
    },
    {
     "name": "stdout",
     "output_type": "stream",
     "text": [
      "mean flux 2.228693151525774\n",
      "mean flux 0.14456073897851204\n"
     ]
    },
    {
     "name": "stderr",
     "output_type": "stream",
     "text": [
      " 60%|██████    | 277/458 [00:30<00:33,  5.39it/s]"
     ]
    },
    {
     "name": "stdout",
     "output_type": "stream",
     "text": [
      "mean flux 1.0282581329812084\n",
      "mean flux 1.2422264661836493\n"
     ]
    },
    {
     "name": "stderr",
     "output_type": "stream",
     "text": [
      " 61%|██████    | 279/458 [00:31<00:33,  5.36it/s]"
     ]
    },
    {
     "name": "stdout",
     "output_type": "stream",
     "text": [
      "mean flux 0.649968209673349\n",
      "mean flux 3.5647593748809805\n"
     ]
    },
    {
     "name": "stderr",
     "output_type": "stream",
     "text": [
      " 61%|██████▏   | 281/458 [00:31<00:32,  5.43it/s]"
     ]
    },
    {
     "name": "stdout",
     "output_type": "stream",
     "text": [
      "mean flux 1.2632458132907645\n",
      "mean flux 1.5683433221610201\n"
     ]
    },
    {
     "name": "stderr",
     "output_type": "stream",
     "text": [
      " 62%|██████▏   | 283/458 [00:32<00:32,  5.37it/s]"
     ]
    },
    {
     "name": "stdout",
     "output_type": "stream",
     "text": [
      "mean flux 3.070222999858897\n",
      "mean flux 0.4491787652784639\n"
     ]
    },
    {
     "name": "stderr",
     "output_type": "stream",
     "text": [
      " 62%|██████▏   | 285/458 [00:32<00:32,  5.40it/s]"
     ]
    },
    {
     "name": "stdout",
     "output_type": "stream",
     "text": [
      "mean flux 4.812428994731229\n",
      "mean flux 1.0780184754500814\n"
     ]
    },
    {
     "name": "stderr",
     "output_type": "stream",
     "text": [
      " 63%|██████▎   | 287/458 [00:32<00:31,  5.43it/s]"
     ]
    },
    {
     "name": "stdout",
     "output_type": "stream",
     "text": [
      "mean flux 1.4230679822423273\n",
      "mean flux 0.2664778537215274\n"
     ]
    },
    {
     "name": "stderr",
     "output_type": "stream",
     "text": [
      " 63%|██████▎   | 289/458 [00:33<00:30,  5.49it/s]"
     ]
    },
    {
     "name": "stdout",
     "output_type": "stream",
     "text": [
      "mean flux 0.8620749793777253\n",
      "mean flux 0.8729118840265834\n"
     ]
    },
    {
     "name": "stderr",
     "output_type": "stream",
     "text": [
      " 64%|██████▎   | 291/458 [00:33<00:30,  5.45it/s]"
     ]
    },
    {
     "name": "stdout",
     "output_type": "stream",
     "text": [
      "mean flux 1.323431634485191\n",
      "mean flux 0.8982248251206876\n"
     ]
    },
    {
     "name": "stderr",
     "output_type": "stream",
     "text": [
      " 64%|██████▍   | 293/458 [00:33<00:30,  5.33it/s]"
     ]
    },
    {
     "name": "stdout",
     "output_type": "stream",
     "text": [
      "mean flux 0.9159600437306322\n",
      "mean flux 2.3430252695246505\n"
     ]
    },
    {
     "name": "stderr",
     "output_type": "stream",
     "text": [
      " 64%|██████▍   | 295/458 [00:34<00:30,  5.30it/s]"
     ]
    },
    {
     "name": "stdout",
     "output_type": "stream",
     "text": [
      "mean flux 2.7306838361024575\n",
      "mean flux 0.014631476404642435\n"
     ]
    },
    {
     "name": "stderr",
     "output_type": "stream",
     "text": [
      " 65%|██████▍   | 297/458 [00:34<00:30,  5.24it/s]"
     ]
    },
    {
     "name": "stdout",
     "output_type": "stream",
     "text": [
      "mean flux 1.8807654205128264\n",
      "mean flux 0.4933236378793826\n"
     ]
    },
    {
     "name": "stderr",
     "output_type": "stream",
     "text": [
      " 65%|██████▌   | 299/458 [00:34<00:29,  5.45it/s]"
     ]
    },
    {
     "name": "stdout",
     "output_type": "stream",
     "text": [
      "mean flux 0.743447013829046\n",
      "mean flux 2.1465203303813998\n"
     ]
    },
    {
     "name": "stderr",
     "output_type": "stream",
     "text": [
      " 66%|██████▌   | 301/458 [00:35<00:28,  5.52it/s]"
     ]
    },
    {
     "name": "stdout",
     "output_type": "stream",
     "text": [
      "mean flux 1.3399408548721972\n",
      "mean flux 0.049303300193272385\n"
     ]
    },
    {
     "name": "stderr",
     "output_type": "stream",
     "text": [
      " 66%|██████▌   | 303/458 [00:35<00:27,  5.56it/s]"
     ]
    },
    {
     "name": "stdout",
     "output_type": "stream",
     "text": [
      "mean flux 1.966034549118028\n",
      "mean flux 2.300719866827374\n"
     ]
    },
    {
     "name": "stderr",
     "output_type": "stream",
     "text": [
      " 67%|██████▋   | 305/458 [00:36<00:27,  5.47it/s]"
     ]
    },
    {
     "name": "stdout",
     "output_type": "stream",
     "text": [
      "mean flux 2.208950039696757\n",
      "mean flux 1.4197204371613275\n"
     ]
    },
    {
     "name": "stderr",
     "output_type": "stream",
     "text": [
      " 67%|██████▋   | 307/458 [00:36<00:27,  5.54it/s]"
     ]
    },
    {
     "name": "stdout",
     "output_type": "stream",
     "text": [
      "mean flux 0.3359323737277064\n",
      "mean flux 1.8879786773672558\n"
     ]
    },
    {
     "name": "stderr",
     "output_type": "stream",
     "text": [
      " 67%|██████▋   | 309/458 [00:36<00:26,  5.57it/s]"
     ]
    },
    {
     "name": "stdout",
     "output_type": "stream",
     "text": [
      "mean flux 0.2909957886647503\n",
      "mean flux 3.826843450916239\n"
     ]
    },
    {
     "name": "stderr",
     "output_type": "stream",
     "text": [
      " 68%|██████▊   | 311/458 [00:37<00:27,  5.25it/s]"
     ]
    },
    {
     "name": "stdout",
     "output_type": "stream",
     "text": [
      "mean flux 0.6871554868944171\n",
      "mean flux 2.0776866046425404\n"
     ]
    },
    {
     "name": "stderr",
     "output_type": "stream",
     "text": [
      " 68%|██████▊   | 313/458 [00:37<00:28,  5.10it/s]"
     ]
    },
    {
     "name": "stdout",
     "output_type": "stream",
     "text": [
      "mean flux 1.0328417835728336\n",
      "mean flux 0.8043429628293038\n"
     ]
    },
    {
     "name": "stderr",
     "output_type": "stream",
     "text": [
      " 69%|██████▉   | 315/458 [00:37<00:28,  5.08it/s]"
     ]
    },
    {
     "name": "stdout",
     "output_type": "stream",
     "text": [
      "mean flux 0.008005812223014318\n",
      "mean flux 3.0464716976945736\n"
     ]
    },
    {
     "name": "stderr",
     "output_type": "stream",
     "text": [
      " 69%|██████▉   | 317/458 [00:38<00:27,  5.10it/s]"
     ]
    },
    {
     "name": "stdout",
     "output_type": "stream",
     "text": [
      "mean flux 1.5479611771671984\n",
      "mean flux 0.02294922391431076\n"
     ]
    },
    {
     "name": "stderr",
     "output_type": "stream",
     "text": [
      " 70%|██████▉   | 319/458 [00:38<00:27,  5.03it/s]"
     ]
    },
    {
     "name": "stdout",
     "output_type": "stream",
     "text": [
      "mean flux 1.272082308535161\n",
      "mean flux 0.3957671008596922\n"
     ]
    },
    {
     "name": "stderr",
     "output_type": "stream",
     "text": [
      " 70%|██████▉   | 320/458 [00:38<00:28,  4.90it/s]"
     ]
    },
    {
     "name": "stdout",
     "output_type": "stream",
     "text": [
      "mean flux 0.5813295646612695\n"
     ]
    },
    {
     "name": "stderr",
     "output_type": "stream",
     "text": [
      " 70%|███████   | 322/458 [00:39<00:27,  4.88it/s]"
     ]
    },
    {
     "name": "stdout",
     "output_type": "stream",
     "text": [
      "mean flux 0.6745189960160584\n",
      "mean flux 0.607774020600574\n"
     ]
    },
    {
     "name": "stderr",
     "output_type": "stream",
     "text": [
      " 71%|███████   | 324/458 [00:39<00:27,  4.87it/s]"
     ]
    },
    {
     "name": "stdout",
     "output_type": "stream",
     "text": [
      "mean flux 3.339435572893625\n",
      "mean flux 1.3661553230891945\n"
     ]
    },
    {
     "name": "stderr",
     "output_type": "stream",
     "text": [
      " 71%|███████   | 325/458 [00:40<00:26,  4.94it/s]"
     ]
    },
    {
     "name": "stdout",
     "output_type": "stream",
     "text": [
      "mean flux 0.307175220196087\n"
     ]
    },
    {
     "name": "stderr",
     "output_type": "stream",
     "text": [
      " 71%|███████▏  | 327/458 [00:40<00:27,  4.79it/s]"
     ]
    },
    {
     "name": "stdout",
     "output_type": "stream",
     "text": [
      "mean flux 2.0987167100088824\n",
      "mean flux 1.1364150933978088\n"
     ]
    },
    {
     "name": "stderr",
     "output_type": "stream",
     "text": [
      " 72%|███████▏  | 328/458 [00:40<00:28,  4.61it/s]"
     ]
    },
    {
     "name": "stdout",
     "output_type": "stream",
     "text": [
      "mean flux 1.3459805234884359\n"
     ]
    },
    {
     "name": "stderr",
     "output_type": "stream",
     "text": [
      " 72%|███████▏  | 330/458 [00:41<00:27,  4.68it/s]"
     ]
    },
    {
     "name": "stdout",
     "output_type": "stream",
     "text": [
      "mean flux 0.449515837802843\n",
      "mean flux 2.1858152103442268\n"
     ]
    },
    {
     "name": "stderr",
     "output_type": "stream",
     "text": [
      " 72%|███████▏  | 331/458 [00:41<00:26,  4.72it/s]"
     ]
    },
    {
     "name": "stdout",
     "output_type": "stream",
     "text": [
      "mean flux 1.1945869487396878\n"
     ]
    },
    {
     "name": "stderr",
     "output_type": "stream",
     "text": [
      " 73%|███████▎  | 333/458 [00:41<00:26,  4.72it/s]"
     ]
    },
    {
     "name": "stdout",
     "output_type": "stream",
     "text": [
      "mean flux 1.543548460482272\n",
      "mean flux 2.113611275852772\n"
     ]
    },
    {
     "name": "stderr",
     "output_type": "stream",
     "text": [
      " 73%|███████▎  | 335/458 [00:42<00:27,  4.51it/s]"
     ]
    },
    {
     "name": "stdout",
     "output_type": "stream",
     "text": [
      "mean flux 0.6628458995304931\n",
      "mean flux 1.7767328947488688\n"
     ]
    },
    {
     "name": "stderr",
     "output_type": "stream",
     "text": [
      " 73%|███████▎  | 336/458 [00:42<00:27,  4.42it/s]"
     ]
    },
    {
     "name": "stdout",
     "output_type": "stream",
     "text": [
      "mean flux 0.8319863279361704\n"
     ]
    },
    {
     "name": "stderr",
     "output_type": "stream",
     "text": [
      " 74%|███████▍  | 338/458 [00:42<00:26,  4.55it/s]"
     ]
    },
    {
     "name": "stdout",
     "output_type": "stream",
     "text": [
      "mean flux 3.106385290420532\n",
      "mean flux 0.9977787719335263\n"
     ]
    },
    {
     "name": "stderr",
     "output_type": "stream",
     "text": [
      " 74%|███████▍  | 340/458 [00:43<00:25,  4.56it/s]"
     ]
    },
    {
     "name": "stdout",
     "output_type": "stream",
     "text": [
      "mean flux 0.01175855209954874\n",
      "mean flux 0.4895015834226798\n"
     ]
    },
    {
     "name": "stderr",
     "output_type": "stream",
     "text": [
      " 74%|███████▍  | 341/458 [00:43<00:26,  4.42it/s]"
     ]
    },
    {
     "name": "stdout",
     "output_type": "stream",
     "text": [
      "mean flux 0.6107711308481205\n"
     ]
    },
    {
     "name": "stderr",
     "output_type": "stream",
     "text": [
      " 75%|███████▍  | 343/458 [00:43<00:25,  4.57it/s]"
     ]
    },
    {
     "name": "stdout",
     "output_type": "stream",
     "text": [
      "mean flux 0.40141919258033776\n",
      "mean flux 0.8763425136776852\n"
     ]
    },
    {
     "name": "stderr",
     "output_type": "stream",
     "text": [
      " 75%|███████▌  | 345/458 [00:44<00:24,  4.61it/s]"
     ]
    },
    {
     "name": "stdout",
     "output_type": "stream",
     "text": [
      "mean flux 5.696340219974932\n",
      "mean flux 0.01113957487081977\n"
     ]
    },
    {
     "name": "stderr",
     "output_type": "stream",
     "text": [
      " 76%|███████▌  | 346/458 [00:44<00:24,  4.49it/s]"
     ]
    },
    {
     "name": "stdout",
     "output_type": "stream",
     "text": [
      "mean flux 3.898480956121011\n"
     ]
    },
    {
     "name": "stderr",
     "output_type": "stream",
     "text": [
      " 76%|███████▌  | 348/458 [00:45<00:23,  4.61it/s]"
     ]
    },
    {
     "name": "stdout",
     "output_type": "stream",
     "text": [
      "mean flux 0.8044766668076869\n",
      "mean flux 0.8605320288227619\n"
     ]
    },
    {
     "name": "stderr",
     "output_type": "stream",
     "text": [
      " 76%|███████▌  | 349/458 [00:45<00:24,  4.48it/s]"
     ]
    },
    {
     "name": "stdout",
     "output_type": "stream",
     "text": [
      "mean flux 0.7746049876515544\n"
     ]
    },
    {
     "name": "stderr",
     "output_type": "stream",
     "text": [
      " 76%|███████▋  | 350/458 [00:45<00:23,  4.56it/s]"
     ]
    },
    {
     "name": "stdout",
     "output_type": "stream",
     "text": [
      "mean flux 1.0678367264956858\n"
     ]
    },
    {
     "name": "stderr",
     "output_type": "stream",
     "text": [
      " 77%|███████▋  | 351/458 [00:45<00:24,  4.41it/s]"
     ]
    },
    {
     "name": "stdout",
     "output_type": "stream",
     "text": [
      "mean flux 1.326878740042052\n"
     ]
    },
    {
     "name": "stderr",
     "output_type": "stream",
     "text": [
      " 77%|███████▋  | 352/458 [00:45<00:23,  4.50it/s]"
     ]
    },
    {
     "name": "stdout",
     "output_type": "stream",
     "text": [
      "mean flux 3.020921392409813\n"
     ]
    },
    {
     "name": "stderr",
     "output_type": "stream",
     "text": [
      " 77%|███████▋  | 353/458 [00:46<00:24,  4.33it/s]"
     ]
    },
    {
     "name": "stdout",
     "output_type": "stream",
     "text": [
      "mean flux 1.4061781221611311\n"
     ]
    },
    {
     "name": "stderr",
     "output_type": "stream",
     "text": [
      " 78%|███████▊  | 355/458 [00:46<00:22,  4.51it/s]"
     ]
    },
    {
     "name": "stdout",
     "output_type": "stream",
     "text": [
      "mean flux 0.24756665571730566\n",
      "mean flux 0.9072818055438546\n"
     ]
    },
    {
     "name": "stderr",
     "output_type": "stream",
     "text": [
      " 78%|███████▊  | 356/458 [00:46<00:23,  4.36it/s]"
     ]
    },
    {
     "name": "stdout",
     "output_type": "stream",
     "text": [
      "mean flux 2.948693290540416\n"
     ]
    },
    {
     "name": "stderr",
     "output_type": "stream",
     "text": [
      " 78%|███████▊  | 357/458 [00:47<00:22,  4.46it/s]"
     ]
    },
    {
     "name": "stdout",
     "output_type": "stream",
     "text": [
      "mean flux 0.015875230497819713\n"
     ]
    },
    {
     "name": "stderr",
     "output_type": "stream",
     "text": [
      " 78%|███████▊  | 358/458 [00:47<00:22,  4.36it/s]"
     ]
    },
    {
     "name": "stdout",
     "output_type": "stream",
     "text": [
      "mean flux 1.095780123507976\n"
     ]
    },
    {
     "name": "stderr",
     "output_type": "stream",
     "text": [
      " 78%|███████▊  | 359/458 [00:47<00:22,  4.31it/s]"
     ]
    },
    {
     "name": "stdout",
     "output_type": "stream",
     "text": [
      "mean flux 1.132588328885198\n"
     ]
    },
    {
     "name": "stderr",
     "output_type": "stream",
     "text": [
      " 79%|███████▊  | 360/458 [00:47<00:22,  4.43it/s]"
     ]
    },
    {
     "name": "stdout",
     "output_type": "stream",
     "text": [
      "mean flux 0.05226578392400654\n"
     ]
    },
    {
     "name": "stderr",
     "output_type": "stream",
     "text": [
      " 79%|███████▉  | 361/458 [00:48<00:22,  4.33it/s]"
     ]
    },
    {
     "name": "stdout",
     "output_type": "stream",
     "text": [
      "mean flux 0.03295368180339485\n"
     ]
    },
    {
     "name": "stderr",
     "output_type": "stream",
     "text": [
      " 79%|███████▉  | 362/458 [00:48<00:22,  4.32it/s]"
     ]
    },
    {
     "name": "stdout",
     "output_type": "stream",
     "text": [
      "mean flux 1.2055699474689257\n"
     ]
    },
    {
     "name": "stderr",
     "output_type": "stream",
     "text": [
      " 79%|███████▉  | 363/458 [00:48<00:22,  4.25it/s]"
     ]
    },
    {
     "name": "stdout",
     "output_type": "stream",
     "text": [
      "mean flux 1.0794463068806575\n"
     ]
    },
    {
     "name": "stderr",
     "output_type": "stream",
     "text": [
      " 79%|███████▉  | 364/458 [00:48<00:22,  4.26it/s]"
     ]
    },
    {
     "name": "stdout",
     "output_type": "stream",
     "text": [
      "mean flux 0.3317168134993935\n"
     ]
    },
    {
     "name": "stderr",
     "output_type": "stream",
     "text": [
      " 80%|███████▉  | 365/458 [00:48<00:21,  4.40it/s]"
     ]
    },
    {
     "name": "stdout",
     "output_type": "stream",
     "text": [
      "mean flux 1.7398080658337052\n"
     ]
    },
    {
     "name": "stderr",
     "output_type": "stream",
     "text": [
      " 80%|███████▉  | 366/458 [00:49<00:21,  4.28it/s]"
     ]
    },
    {
     "name": "stdout",
     "output_type": "stream",
     "text": [
      "mean flux 1.3122247566733762\n"
     ]
    },
    {
     "name": "stderr",
     "output_type": "stream",
     "text": [
      " 80%|████████  | 367/458 [00:49<00:20,  4.37it/s]"
     ]
    },
    {
     "name": "stdout",
     "output_type": "stream",
     "text": [
      "mean flux 0.5000449735617027\n"
     ]
    },
    {
     "name": "stderr",
     "output_type": "stream",
     "text": [
      " 80%|████████  | 368/458 [00:49<00:20,  4.29it/s]"
     ]
    },
    {
     "name": "stdout",
     "output_type": "stream",
     "text": [
      "mean flux 1.501947899542886\n"
     ]
    },
    {
     "name": "stderr",
     "output_type": "stream",
     "text": [
      " 81%|████████  | 369/458 [00:49<00:20,  4.42it/s]"
     ]
    },
    {
     "name": "stdout",
     "output_type": "stream",
     "text": [
      "mean flux 2.2798341249759178\n"
     ]
    },
    {
     "name": "stderr",
     "output_type": "stream",
     "text": [
      " 81%|████████  | 370/458 [00:50<00:20,  4.29it/s]"
     ]
    },
    {
     "name": "stdout",
     "output_type": "stream",
     "text": [
      "mean flux 2.143406154348076\n"
     ]
    },
    {
     "name": "stderr",
     "output_type": "stream",
     "text": [
      " 81%|████████  | 371/458 [00:50<00:20,  4.32it/s]"
     ]
    },
    {
     "name": "stdout",
     "output_type": "stream",
     "text": [
      "mean flux 0.6331594349325097\n"
     ]
    },
    {
     "name": "stderr",
     "output_type": "stream",
     "text": [
      " 81%|████████  | 372/458 [00:50<00:19,  4.34it/s]"
     ]
    },
    {
     "name": "stdout",
     "output_type": "stream",
     "text": [
      "mean flux 0.4948158903381136\n"
     ]
    },
    {
     "name": "stderr",
     "output_type": "stream",
     "text": [
      " 81%|████████▏ | 373/458 [00:50<00:20,  4.20it/s]"
     ]
    },
    {
     "name": "stdout",
     "output_type": "stream",
     "text": [
      "mean flux 0.4434057596657199\n"
     ]
    },
    {
     "name": "stderr",
     "output_type": "stream",
     "text": [
      " 82%|████████▏ | 374/458 [00:51<00:20,  4.20it/s]"
     ]
    },
    {
     "name": "stdout",
     "output_type": "stream",
     "text": [
      "mean flux 1.6464877037823618\n"
     ]
    },
    {
     "name": "stderr",
     "output_type": "stream",
     "text": [
      " 82%|████████▏ | 375/458 [00:51<00:20,  4.13it/s]"
     ]
    },
    {
     "name": "stdout",
     "output_type": "stream",
     "text": [
      "mean flux 0.6833130610177427\n"
     ]
    },
    {
     "name": "stderr",
     "output_type": "stream",
     "text": [
      " 82%|████████▏ | 376/458 [00:51<00:19,  4.14it/s]"
     ]
    },
    {
     "name": "stdout",
     "output_type": "stream",
     "text": [
      "mean flux 0.9201705758108328\n"
     ]
    },
    {
     "name": "stderr",
     "output_type": "stream",
     "text": [
      " 82%|████████▏ | 377/458 [00:51<00:19,  4.11it/s]"
     ]
    },
    {
     "name": "stdout",
     "output_type": "stream",
     "text": [
      "mean flux 1.236818800605917\n"
     ]
    },
    {
     "name": "stderr",
     "output_type": "stream",
     "text": [
      " 83%|████████▎ | 378/458 [00:52<00:19,  4.15it/s]"
     ]
    },
    {
     "name": "stdout",
     "output_type": "stream",
     "text": [
      "mean flux 2.1466661172540364\n"
     ]
    },
    {
     "name": "stderr",
     "output_type": "stream",
     "text": [
      " 83%|████████▎ | 379/458 [00:52<00:19,  4.14it/s]"
     ]
    },
    {
     "name": "stdout",
     "output_type": "stream",
     "text": [
      "mean flux 4.59383303514436\n"
     ]
    },
    {
     "name": "stderr",
     "output_type": "stream",
     "text": [
      " 83%|████████▎ | 380/458 [00:52<00:18,  4.17it/s]"
     ]
    },
    {
     "name": "stdout",
     "output_type": "stream",
     "text": [
      "mean flux 0.6089970983144842\n"
     ]
    },
    {
     "name": "stderr",
     "output_type": "stream",
     "text": [
      " 83%|████████▎ | 381/458 [00:52<00:18,  4.12it/s]"
     ]
    },
    {
     "name": "stdout",
     "output_type": "stream",
     "text": [
      "mean flux 1.486135563011425\n"
     ]
    },
    {
     "name": "stderr",
     "output_type": "stream",
     "text": [
      " 83%|████████▎ | 382/458 [00:53<00:19,  3.95it/s]"
     ]
    },
    {
     "name": "stdout",
     "output_type": "stream",
     "text": [
      "mean flux 1.0905259484706107\n"
     ]
    },
    {
     "name": "stderr",
     "output_type": "stream",
     "text": [
      " 84%|████████▎ | 383/458 [00:53<00:19,  3.94it/s]"
     ]
    },
    {
     "name": "stdout",
     "output_type": "stream",
     "text": [
      "mean flux 1.4989964007662684\n"
     ]
    },
    {
     "name": "stderr",
     "output_type": "stream",
     "text": [
      " 84%|████████▍ | 384/458 [00:53<00:18,  3.97it/s]"
     ]
    },
    {
     "name": "stdout",
     "output_type": "stream",
     "text": [
      "mean flux 1.2923826126626579\n"
     ]
    },
    {
     "name": "stderr",
     "output_type": "stream",
     "text": [
      " 84%|████████▍ | 385/458 [00:53<00:18,  3.92it/s]"
     ]
    },
    {
     "name": "stdout",
     "output_type": "stream",
     "text": [
      "mean flux 1.1574331053828588\n"
     ]
    },
    {
     "name": "stderr",
     "output_type": "stream",
     "text": [
      " 84%|████████▍ | 386/458 [00:54<00:18,  3.89it/s]"
     ]
    },
    {
     "name": "stdout",
     "output_type": "stream",
     "text": [
      "mean flux 0.66383401974453\n"
     ]
    },
    {
     "name": "stderr",
     "output_type": "stream",
     "text": [
      " 84%|████████▍ | 387/458 [00:54<00:17,  3.96it/s]"
     ]
    },
    {
     "name": "stdout",
     "output_type": "stream",
     "text": [
      "mean flux 0.9765930172377745\n"
     ]
    },
    {
     "name": "stderr",
     "output_type": "stream",
     "text": [
      " 85%|████████▍ | 388/458 [00:54<00:17,  3.99it/s]"
     ]
    },
    {
     "name": "stdout",
     "output_type": "stream",
     "text": [
      "mean flux 0.42651598299176013\n"
     ]
    },
    {
     "name": "stderr",
     "output_type": "stream",
     "text": [
      " 85%|████████▍ | 389/458 [00:54<00:17,  4.03it/s]"
     ]
    },
    {
     "name": "stdout",
     "output_type": "stream",
     "text": [
      "mean flux 0.628184054615513\n"
     ]
    },
    {
     "name": "stderr",
     "output_type": "stream",
     "text": [
      " 85%|████████▌ | 390/458 [00:55<00:16,  4.04it/s]"
     ]
    },
    {
     "name": "stdout",
     "output_type": "stream",
     "text": [
      "mean flux 0.7436457140298087\n"
     ]
    },
    {
     "name": "stderr",
     "output_type": "stream",
     "text": [
      " 85%|████████▌ | 391/458 [00:55<00:16,  4.02it/s]"
     ]
    },
    {
     "name": "stdout",
     "output_type": "stream",
     "text": [
      "mean flux 0.5657503128293522\n"
     ]
    },
    {
     "name": "stderr",
     "output_type": "stream",
     "text": [
      " 86%|████████▌ | 392/458 [00:55<00:16,  4.01it/s]"
     ]
    },
    {
     "name": "stdout",
     "output_type": "stream",
     "text": [
      "mean flux 1.6326650148911854\n"
     ]
    },
    {
     "name": "stderr",
     "output_type": "stream",
     "text": [
      " 86%|████████▌ | 393/458 [00:55<00:16,  3.99it/s]"
     ]
    },
    {
     "name": "stdout",
     "output_type": "stream",
     "text": [
      "mean flux 1.3743795390938804\n"
     ]
    },
    {
     "name": "stderr",
     "output_type": "stream",
     "text": [
      " 86%|████████▌ | 394/458 [00:56<00:15,  4.02it/s]"
     ]
    },
    {
     "name": "stdout",
     "output_type": "stream",
     "text": [
      "mean flux 2.404705147655099\n"
     ]
    },
    {
     "name": "stderr",
     "output_type": "stream",
     "text": [
      " 86%|████████▌ | 395/458 [00:56<00:15,  3.99it/s]"
     ]
    },
    {
     "name": "stdout",
     "output_type": "stream",
     "text": [
      "mean flux 1.9938846292856611\n"
     ]
    },
    {
     "name": "stderr",
     "output_type": "stream",
     "text": [
      " 86%|████████▋ | 396/458 [00:56<00:15,  3.98it/s]"
     ]
    },
    {
     "name": "stdout",
     "output_type": "stream",
     "text": [
      "mean flux 0.4467008416262868\n"
     ]
    },
    {
     "name": "stderr",
     "output_type": "stream",
     "text": [
      " 87%|████████▋ | 397/458 [00:56<00:15,  3.97it/s]"
     ]
    },
    {
     "name": "stdout",
     "output_type": "stream",
     "text": [
      "mean flux 0.6887646663119977\n"
     ]
    },
    {
     "name": "stderr",
     "output_type": "stream",
     "text": [
      " 87%|████████▋ | 398/458 [00:57<00:15,  3.94it/s]"
     ]
    },
    {
     "name": "stdout",
     "output_type": "stream",
     "text": [
      "mean flux 0.572521761757655\n"
     ]
    },
    {
     "name": "stderr",
     "output_type": "stream",
     "text": [
      " 87%|████████▋ | 399/458 [00:57<00:15,  3.92it/s]"
     ]
    },
    {
     "name": "stdout",
     "output_type": "stream",
     "text": [
      "mean flux 0.32268615744843626\n"
     ]
    },
    {
     "name": "stderr",
     "output_type": "stream",
     "text": [
      " 87%|████████▋ | 400/458 [00:57<00:14,  3.96it/s]"
     ]
    },
    {
     "name": "stdout",
     "output_type": "stream",
     "text": [
      "mean flux 2.295951407985639\n"
     ]
    },
    {
     "name": "stderr",
     "output_type": "stream",
     "text": [
      " 88%|████████▊ | 401/458 [00:57<00:14,  3.95it/s]"
     ]
    },
    {
     "name": "stdout",
     "output_type": "stream",
     "text": [
      "mean flux 0.5819166408994321\n"
     ]
    },
    {
     "name": "stderr",
     "output_type": "stream",
     "text": [
      " 88%|████████▊ | 402/458 [00:58<00:14,  3.97it/s]"
     ]
    },
    {
     "name": "stdout",
     "output_type": "stream",
     "text": [
      "mean flux 0.8948289460354167\n"
     ]
    },
    {
     "name": "stderr",
     "output_type": "stream",
     "text": [
      " 88%|████████▊ | 403/458 [00:58<00:13,  3.94it/s]"
     ]
    },
    {
     "name": "stdout",
     "output_type": "stream",
     "text": [
      "mean flux 0.16026890517101083\n"
     ]
    },
    {
     "name": "stderr",
     "output_type": "stream",
     "text": [
      " 88%|████████▊ | 404/458 [00:58<00:13,  3.94it/s]"
     ]
    },
    {
     "name": "stdout",
     "output_type": "stream",
     "text": [
      "mean flux 1.420862838830672\n"
     ]
    },
    {
     "name": "stderr",
     "output_type": "stream",
     "text": [
      " 88%|████████▊ | 405/458 [00:58<00:13,  3.88it/s]"
     ]
    },
    {
     "name": "stdout",
     "output_type": "stream",
     "text": [
      "mean flux 1.4612963170340274\n"
     ]
    },
    {
     "name": "stderr",
     "output_type": "stream",
     "text": [
      " 89%|████████▊ | 406/458 [00:59<00:13,  3.92it/s]"
     ]
    },
    {
     "name": "stdout",
     "output_type": "stream",
     "text": [
      "mean flux 1.2534874974322658\n"
     ]
    },
    {
     "name": "stderr",
     "output_type": "stream",
     "text": [
      " 89%|████████▉ | 407/458 [00:59<00:13,  3.89it/s]"
     ]
    },
    {
     "name": "stdout",
     "output_type": "stream",
     "text": [
      "mean flux 0.6778510644529839\n"
     ]
    },
    {
     "name": "stderr",
     "output_type": "stream",
     "text": [
      " 89%|████████▉ | 408/458 [00:59<00:12,  3.89it/s]"
     ]
    },
    {
     "name": "stdout",
     "output_type": "stream",
     "text": [
      "mean flux 2.336760935732524\n"
     ]
    },
    {
     "name": "stderr",
     "output_type": "stream",
     "text": [
      " 89%|████████▉ | 409/458 [00:59<00:12,  3.87it/s]"
     ]
    },
    {
     "name": "stdout",
     "output_type": "stream",
     "text": [
      "mean flux 0.5638360494123741\n"
     ]
    },
    {
     "name": "stderr",
     "output_type": "stream",
     "text": [
      " 90%|████████▉ | 410/458 [01:00<00:12,  3.89it/s]"
     ]
    },
    {
     "name": "stdout",
     "output_type": "stream",
     "text": [
      "mean flux 1.0970414064177194\n"
     ]
    },
    {
     "name": "stderr",
     "output_type": "stream",
     "text": [
      " 90%|████████▉ | 411/458 [01:00<00:12,  3.86it/s]"
     ]
    },
    {
     "name": "stdout",
     "output_type": "stream",
     "text": [
      "mean flux 0.6716862670269036\n"
     ]
    },
    {
     "name": "stderr",
     "output_type": "stream",
     "text": [
      " 90%|████████▉ | 412/458 [01:00<00:11,  3.90it/s]"
     ]
    },
    {
     "name": "stdout",
     "output_type": "stream",
     "text": [
      "mean flux 0.25073087139791445\n"
     ]
    },
    {
     "name": "stderr",
     "output_type": "stream",
     "text": [
      " 90%|█████████ | 413/458 [01:00<00:11,  3.84it/s]"
     ]
    },
    {
     "name": "stdout",
     "output_type": "stream",
     "text": [
      "mean flux 0.5402568966833444\n"
     ]
    },
    {
     "name": "stderr",
     "output_type": "stream",
     "text": [
      " 90%|█████████ | 414/458 [01:01<00:11,  3.87it/s]"
     ]
    },
    {
     "name": "stdout",
     "output_type": "stream",
     "text": [
      "mean flux 4.290520371430645\n"
     ]
    },
    {
     "name": "stderr",
     "output_type": "stream",
     "text": [
      " 91%|█████████ | 415/458 [01:01<00:11,  3.80it/s]"
     ]
    },
    {
     "name": "stdout",
     "output_type": "stream",
     "text": [
      "mean flux 0.9286431473001437\n"
     ]
    },
    {
     "name": "stderr",
     "output_type": "stream",
     "text": [
      " 91%|█████████ | 416/458 [01:01<00:11,  3.76it/s]"
     ]
    },
    {
     "name": "stdout",
     "output_type": "stream",
     "text": [
      "mean flux 3.622285379686753\n"
     ]
    },
    {
     "name": "stderr",
     "output_type": "stream",
     "text": [
      " 91%|█████████ | 417/458 [01:02<00:11,  3.69it/s]"
     ]
    },
    {
     "name": "stdout",
     "output_type": "stream",
     "text": [
      "mean flux 2.7717897614327787\n"
     ]
    },
    {
     "name": "stderr",
     "output_type": "stream",
     "text": [
      " 91%|█████████▏| 418/458 [01:02<00:10,  3.78it/s]"
     ]
    },
    {
     "name": "stdout",
     "output_type": "stream",
     "text": [
      "mean flux 1.4901362616608025\n"
     ]
    },
    {
     "name": "stderr",
     "output_type": "stream",
     "text": [
      " 91%|█████████▏| 419/458 [01:02<00:10,  3.77it/s]"
     ]
    },
    {
     "name": "stdout",
     "output_type": "stream",
     "text": [
      "mean flux 0.8169630408522496\n"
     ]
    },
    {
     "name": "stderr",
     "output_type": "stream",
     "text": [
      " 92%|█████████▏| 420/458 [01:02<00:09,  3.80it/s]"
     ]
    },
    {
     "name": "stdout",
     "output_type": "stream",
     "text": [
      "mean flux 0.5138875538487337\n"
     ]
    },
    {
     "name": "stderr",
     "output_type": "stream",
     "text": [
      " 92%|█████████▏| 421/458 [01:03<00:09,  3.83it/s]"
     ]
    },
    {
     "name": "stdout",
     "output_type": "stream",
     "text": [
      "mean flux 2.5390250257578924\n"
     ]
    },
    {
     "name": "stderr",
     "output_type": "stream",
     "text": [
      " 92%|█████████▏| 422/458 [01:03<00:09,  3.76it/s]"
     ]
    },
    {
     "name": "stdout",
     "output_type": "stream",
     "text": [
      "mean flux 0.4303775277927433\n"
     ]
    },
    {
     "name": "stderr",
     "output_type": "stream",
     "text": [
      " 92%|█████████▏| 423/458 [01:03<00:09,  3.78it/s]"
     ]
    },
    {
     "name": "stdout",
     "output_type": "stream",
     "text": [
      "mean flux 1.4352366914177104\n"
     ]
    },
    {
     "name": "stderr",
     "output_type": "stream",
     "text": [
      " 93%|█████████▎| 424/458 [01:03<00:08,  3.81it/s]"
     ]
    },
    {
     "name": "stdout",
     "output_type": "stream",
     "text": [
      "mean flux 0.41024090594084023\n"
     ]
    },
    {
     "name": "stderr",
     "output_type": "stream",
     "text": [
      " 93%|█████████▎| 425/458 [01:04<00:08,  3.80it/s]"
     ]
    },
    {
     "name": "stdout",
     "output_type": "stream",
     "text": [
      "mean flux 1.0332031445939314\n"
     ]
    },
    {
     "name": "stderr",
     "output_type": "stream",
     "text": [
      " 93%|█████████▎| 426/458 [01:04<00:08,  3.70it/s]"
     ]
    },
    {
     "name": "stdout",
     "output_type": "stream",
     "text": [
      "mean flux 0.5181378757638249\n"
     ]
    },
    {
     "name": "stderr",
     "output_type": "stream",
     "text": [
      " 93%|█████████▎| 427/458 [01:04<00:08,  3.67it/s]"
     ]
    },
    {
     "name": "stdout",
     "output_type": "stream",
     "text": [
      "mean flux 0.8599470921963208\n"
     ]
    },
    {
     "name": "stderr",
     "output_type": "stream",
     "text": [
      " 93%|█████████▎| 428/458 [01:04<00:07,  3.76it/s]"
     ]
    },
    {
     "name": "stdout",
     "output_type": "stream",
     "text": [
      "mean flux 0.4730497575609138\n"
     ]
    },
    {
     "name": "stderr",
     "output_type": "stream",
     "text": [
      " 94%|█████████▎| 429/458 [01:05<00:07,  3.76it/s]"
     ]
    },
    {
     "name": "stdout",
     "output_type": "stream",
     "text": [
      "mean flux 0.3076803748696518\n"
     ]
    },
    {
     "name": "stderr",
     "output_type": "stream",
     "text": [
      " 94%|█████████▍| 430/458 [01:05<00:07,  3.63it/s]"
     ]
    },
    {
     "name": "stdout",
     "output_type": "stream",
     "text": [
      "mean flux 2.3340475348947174\n"
     ]
    },
    {
     "name": "stderr",
     "output_type": "stream",
     "text": [
      " 94%|█████████▍| 431/458 [01:05<00:07,  3.63it/s]"
     ]
    },
    {
     "name": "stdout",
     "output_type": "stream",
     "text": [
      "mean flux 0.46773489584495115\n"
     ]
    },
    {
     "name": "stderr",
     "output_type": "stream",
     "text": [
      " 94%|█████████▍| 432/458 [01:06<00:07,  3.67it/s]"
     ]
    },
    {
     "name": "stdout",
     "output_type": "stream",
     "text": [
      "mean flux 0.5306827701904121\n"
     ]
    },
    {
     "name": "stderr",
     "output_type": "stream",
     "text": [
      " 95%|█████████▍| 433/458 [01:06<00:06,  3.68it/s]"
     ]
    },
    {
     "name": "stdout",
     "output_type": "stream",
     "text": [
      "mean flux 0.4723360772076485\n"
     ]
    },
    {
     "name": "stderr",
     "output_type": "stream",
     "text": [
      " 95%|█████████▍| 434/458 [01:06<00:06,  3.73it/s]"
     ]
    },
    {
     "name": "stdout",
     "output_type": "stream",
     "text": [
      "mean flux 0.6045362334960047\n"
     ]
    },
    {
     "name": "stderr",
     "output_type": "stream",
     "text": [
      " 95%|█████████▍| 435/458 [01:06<00:06,  3.77it/s]"
     ]
    },
    {
     "name": "stdout",
     "output_type": "stream",
     "text": [
      "mean flux 0.6366288924844569\n"
     ]
    },
    {
     "name": "stderr",
     "output_type": "stream",
     "text": [
      " 95%|█████████▌| 436/458 [01:07<00:05,  3.80it/s]"
     ]
    },
    {
     "name": "stdout",
     "output_type": "stream",
     "text": [
      "mean flux 0.9955119439740604\n"
     ]
    },
    {
     "name": "stderr",
     "output_type": "stream",
     "text": [
      " 95%|█████████▌| 437/458 [01:07<00:05,  3.80it/s]"
     ]
    },
    {
     "name": "stdout",
     "output_type": "stream",
     "text": [
      "mean flux 0.2898891977113192\n"
     ]
    },
    {
     "name": "stderr",
     "output_type": "stream",
     "text": [
      " 96%|█████████▌| 438/458 [01:07<00:05,  3.71it/s]"
     ]
    },
    {
     "name": "stdout",
     "output_type": "stream",
     "text": [
      "mean flux 0.4116459095823761\n"
     ]
    },
    {
     "name": "stderr",
     "output_type": "stream",
     "text": [
      " 96%|█████████▌| 439/458 [01:07<00:05,  3.60it/s]"
     ]
    },
    {
     "name": "stdout",
     "output_type": "stream",
     "text": [
      "mean flux 0.9712801523939185\n"
     ]
    },
    {
     "name": "stderr",
     "output_type": "stream",
     "text": [
      " 96%|█████████▌| 440/458 [01:08<00:04,  3.76it/s]"
     ]
    },
    {
     "name": "stdout",
     "output_type": "stream",
     "text": [
      "mean flux 1.5238001909215482\n"
     ]
    },
    {
     "name": "stderr",
     "output_type": "stream",
     "text": [
      " 96%|█████████▋| 441/458 [01:08<00:04,  3.73it/s]"
     ]
    },
    {
     "name": "stdout",
     "output_type": "stream",
     "text": [
      "mean flux 0.7246387472624003\n"
     ]
    },
    {
     "name": "stderr",
     "output_type": "stream",
     "text": [
      " 97%|█████████▋| 442/458 [01:08<00:04,  3.79it/s]"
     ]
    },
    {
     "name": "stdout",
     "output_type": "stream",
     "text": [
      "mean flux 0.7767691635399756\n"
     ]
    },
    {
     "name": "stderr",
     "output_type": "stream",
     "text": [
      " 97%|█████████▋| 443/458 [01:09<00:04,  3.64it/s]"
     ]
    },
    {
     "name": "stdout",
     "output_type": "stream",
     "text": [
      "mean flux 1.6622002796846984\n"
     ]
    },
    {
     "name": "stderr",
     "output_type": "stream",
     "text": [
      " 97%|█████████▋| 444/458 [01:09<00:03,  3.63it/s]"
     ]
    },
    {
     "name": "stdout",
     "output_type": "stream",
     "text": [
      "mean flux 1.229498082592116\n"
     ]
    },
    {
     "name": "stderr",
     "output_type": "stream",
     "text": [
      " 97%|█████████▋| 445/458 [01:09<00:03,  3.55it/s]"
     ]
    },
    {
     "name": "stdout",
     "output_type": "stream",
     "text": [
      "mean flux 1.1871458145643583\n"
     ]
    },
    {
     "name": "stderr",
     "output_type": "stream",
     "text": [
      " 97%|█████████▋| 446/458 [01:09<00:03,  3.64it/s]"
     ]
    },
    {
     "name": "stdout",
     "output_type": "stream",
     "text": [
      "mean flux 1.30783855702825\n"
     ]
    },
    {
     "name": "stderr",
     "output_type": "stream",
     "text": [
      " 98%|█████████▊| 447/458 [01:10<00:03,  3.52it/s]"
     ]
    },
    {
     "name": "stdout",
     "output_type": "stream",
     "text": [
      "mean flux 0.38315791391368137\n"
     ]
    },
    {
     "name": "stderr",
     "output_type": "stream",
     "text": [
      " 98%|█████████▊| 448/458 [01:10<00:02,  3.58it/s]"
     ]
    },
    {
     "name": "stdout",
     "output_type": "stream",
     "text": [
      "mean flux 1.1588542798112642\n"
     ]
    },
    {
     "name": "stderr",
     "output_type": "stream",
     "text": [
      " 98%|█████████▊| 449/458 [01:10<00:02,  3.52it/s]"
     ]
    },
    {
     "name": "stdout",
     "output_type": "stream",
     "text": [
      "mean flux 1.6641734277371862\n"
     ]
    },
    {
     "name": "stderr",
     "output_type": "stream",
     "text": [
      " 98%|█████████▊| 450/458 [01:10<00:02,  3.58it/s]"
     ]
    },
    {
     "name": "stdout",
     "output_type": "stream",
     "text": [
      "mean flux 1.2288032359776457\n"
     ]
    },
    {
     "name": "stderr",
     "output_type": "stream",
     "text": [
      " 98%|█████████▊| 451/458 [01:11<00:02,  3.49it/s]"
     ]
    },
    {
     "name": "stdout",
     "output_type": "stream",
     "text": [
      "mean flux 1.1860145430652715\n"
     ]
    },
    {
     "name": "stderr",
     "output_type": "stream",
     "text": [
      " 99%|█████████▊| 452/458 [01:11<00:01,  3.53it/s]"
     ]
    },
    {
     "name": "stdout",
     "output_type": "stream",
     "text": [
      "mean flux 0.7164847853164525\n"
     ]
    },
    {
     "name": "stderr",
     "output_type": "stream",
     "text": [
      " 99%|█████████▉| 453/458 [01:11<00:01,  3.44it/s]"
     ]
    },
    {
     "name": "stdout",
     "output_type": "stream",
     "text": [
      "mean flux 2.129890836730999\n"
     ]
    },
    {
     "name": "stderr",
     "output_type": "stream",
     "text": [
      " 99%|█████████▉| 454/458 [01:12<00:01,  3.55it/s]"
     ]
    },
    {
     "name": "stdout",
     "output_type": "stream",
     "text": [
      "mean flux 0.8446071554458293\n"
     ]
    },
    {
     "name": "stderr",
     "output_type": "stream",
     "text": [
      " 99%|█████████▉| 455/458 [01:12<00:00,  3.50it/s]"
     ]
    },
    {
     "name": "stdout",
     "output_type": "stream",
     "text": [
      "mean flux 0.4344662163722593\n"
     ]
    },
    {
     "name": "stderr",
     "output_type": "stream",
     "text": [
      "100%|█████████▉| 456/458 [01:12<00:00,  3.58it/s]"
     ]
    },
    {
     "name": "stdout",
     "output_type": "stream",
     "text": [
      "mean flux 0.7279556108154946\n"
     ]
    },
    {
     "name": "stderr",
     "output_type": "stream",
     "text": [
      "100%|█████████▉| 457/458 [01:13<00:00,  3.48it/s]"
     ]
    },
    {
     "name": "stdout",
     "output_type": "stream",
     "text": [
      "mean flux 0.9279859023279262\n"
     ]
    },
    {
     "name": "stderr",
     "output_type": "stream",
     "text": [
      "100%|██████████| 458/458 [01:13<00:00,  6.25it/s]\n"
     ]
    }
   ],
   "source": [
    "#try standardizing each object separately\n",
    "#same idea that we are trying to remove the signal that some objects are brighter than others\n",
    "#but keep the info about relative differences within each object.\n",
    "\n",
    "#setup new column to hold the normalized fluxes\n",
    "df_reindex[[\"normflux\"]] = 100\n",
    "\n",
    "#can't figure out how to do this when using multiindex, so get rid of it for a minute\n",
    "#remove the index\n",
    "df_reindex_reset = df_reindex.reset_index()\n",
    "\n",
    "\n",
    "#how many objects are in the dataframe?\n",
    "#actually this is the max and some of them are missing\n",
    "nobj = df_reindex.index.unique('objectid').max() + 1\n",
    "\n",
    "#for each objct in the dataframe\n",
    "for oid in tqdm(range(nobj)):\n",
    "    try:\n",
    "        #what is the median flux of all bands for this object?\n",
    "        meanflux = df_reindex.loc[oid,:,:,:].flux.mean(skipna = True)\n",
    "        stdflux = df_reindex.loc[oid,:,:,:].flux.std(skipna=True)\n",
    "        print('mean flux', meanflux)\n",
    "    except KeyError:\n",
    "        #some of the data cleaning above must have removed some objects\n",
    "        print(oid, ' objectid doesnt exist')\n",
    "    else:\n",
    "        querystring = f'objectid == {oid}'\n",
    "        zflux = (df_reindex_reset.query(querystring).flux.values - meanflux) / stdflux\n",
    "        datetime = df_reindex_reset.query(querystring).datetime.values\n",
    "        objectid = df_reindex_reset.query(querystring).objectid.values\n",
    "        band = df_reindex_reset.query(querystring).band.values\n",
    "        label = df_reindex_reset.query(querystring).label.values\n",
    "        dfsingle = pd.DataFrame(dict(flux=zflux, err=df_reindex.loc[oid,:,:,:].err, datetime=datetime, objectid=objectid, band=band,label=label))\n",
    "\n",
    "        #now concatenate the single new df with df_lc\n",
    "        if oid == 0:\n",
    "            df_norm = dfsingle\n",
    "        else:\n",
    "            df_norm = pd.concat([df_norm, dfsingle])\n",
    "            \n",
    "            \n",
    "#reset the index\n",
    "df_norm = df_norm.set_index([\"objectid\", \"label\", \"band\", \"datetime\"])"
   ]
  },
  {
   "cell_type": "code",
   "execution_count": 21,
   "metadata": {},
   "outputs": [
    {
     "name": "stdout",
     "output_type": "stream",
     "text": [
      "2.0171084989526653e-16\n"
     ]
    }
   ],
   "source": [
    "#proove this did what I wanted it to do for one randomly chosen object\n",
    "oid = 318\n",
    "meanflux = df_norm.loc[oid,:,:,:].flux.mean(skipna = True)\n",
    "print(meanflux)"
   ]
  },
  {
   "cell_type": "markdown",
   "metadata": {},
   "source": [
    "### 2.5  Restructure dataframe in format expected by sktime\n",
    "- Make columns have band names in them and then remove band from the index\n",
    "- pivot the dataframe so that SKTIME understands its format"
   ]
  },
  {
   "cell_type": "code",
   "execution_count": 22,
   "metadata": {},
   "outputs": [],
   "source": [
    "pivoted_df_reindex = df_reindex.reset_index(level=\"band\").pivot(columns=\"band\")\n",
    "pivoted_df_reindex.columns = [\"_\".join(col) for col in pivoted_df_reindex.columns.values]"
   ]
  },
  {
   "cell_type": "raw",
   "metadata": {},
   "source": [
    "#proove this did what I wanted it to do\n",
    "pd.set_option('display.max_rows', None)\n",
    "display(pivoted_df_reindex.loc[4,:,:,:])\n",
    "pd.reset_option('all')"
   ]
  },
  {
   "cell_type": "code",
   "execution_count": 23,
   "metadata": {},
   "outputs": [
    {
     "data": {
      "text/html": [
       "<div>\n",
       "<style scoped>\n",
       "    .dataframe tbody tr th:only-of-type {\n",
       "        vertical-align: middle;\n",
       "    }\n",
       "\n",
       "    .dataframe tbody tr th {\n",
       "        vertical-align: top;\n",
       "    }\n",
       "\n",
       "    .dataframe thead th {\n",
       "        text-align: right;\n",
       "    }\n",
       "</style>\n",
       "<table border=\"1\" class=\"dataframe\">\n",
       "  <thead>\n",
       "    <tr style=\"text-align: right;\">\n",
       "      <th></th>\n",
       "      <th></th>\n",
       "      <th></th>\n",
       "      <th>flux_Gaia bp</th>\n",
       "      <th>flux_Gaia g</th>\n",
       "      <th>flux_Gaia rp</th>\n",
       "      <th>flux_panstarrs g</th>\n",
       "      <th>flux_panstarrs i</th>\n",
       "      <th>flux_panstarrs r</th>\n",
       "      <th>flux_panstarrs y</th>\n",
       "      <th>flux_panstarrs z</th>\n",
       "      <th>flux_w1</th>\n",
       "      <th>flux_w2</th>\n",
       "      <th>...</th>\n",
       "      <th>normflux_panstarrs g</th>\n",
       "      <th>normflux_panstarrs i</th>\n",
       "      <th>normflux_panstarrs r</th>\n",
       "      <th>normflux_panstarrs y</th>\n",
       "      <th>normflux_panstarrs z</th>\n",
       "      <th>normflux_w1</th>\n",
       "      <th>normflux_w2</th>\n",
       "      <th>normflux_zg</th>\n",
       "      <th>normflux_zi</th>\n",
       "      <th>normflux_zr</th>\n",
       "    </tr>\n",
       "    <tr>\n",
       "      <th>objectid</th>\n",
       "      <th>label</th>\n",
       "      <th>datetime</th>\n",
       "      <th></th>\n",
       "      <th></th>\n",
       "      <th></th>\n",
       "      <th></th>\n",
       "      <th></th>\n",
       "      <th></th>\n",
       "      <th></th>\n",
       "      <th></th>\n",
       "      <th></th>\n",
       "      <th></th>\n",
       "      <th></th>\n",
       "      <th></th>\n",
       "      <th></th>\n",
       "      <th></th>\n",
       "      <th></th>\n",
       "      <th></th>\n",
       "      <th></th>\n",
       "      <th></th>\n",
       "      <th></th>\n",
       "      <th></th>\n",
       "      <th></th>\n",
       "    </tr>\n",
       "  </thead>\n",
       "  <tbody>\n",
       "    <tr>\n",
       "      <th rowspan=\"5\" valign=\"top\">0</th>\n",
       "      <th rowspan=\"5\" valign=\"top\">CLAGN</th>\n",
       "      <th>2009-06-03 06:37:08.765742</th>\n",
       "      <td>0.046009</td>\n",
       "      <td>0.016719</td>\n",
       "      <td>0.137390</td>\n",
       "      <td>0.039161</td>\n",
       "      <td>0.10049</td>\n",
       "      <td>0.074390</td>\n",
       "      <td>0.130497</td>\n",
       "      <td>0.118545</td>\n",
       "      <td>0.276068</td>\n",
       "      <td>0.246261</td>\n",
       "      <td>...</td>\n",
       "      <td>100</td>\n",
       "      <td>100</td>\n",
       "      <td>100</td>\n",
       "      <td>100</td>\n",
       "      <td>100</td>\n",
       "      <td>100</td>\n",
       "      <td>100</td>\n",
       "      <td>100</td>\n",
       "      <td>100</td>\n",
       "      <td>100</td>\n",
       "    </tr>\n",
       "    <tr>\n",
       "      <th>2009-07-03 06:37:08.765742</th>\n",
       "      <td>0.046009</td>\n",
       "      <td>0.016719</td>\n",
       "      <td>0.137390</td>\n",
       "      <td>0.039161</td>\n",
       "      <td>0.10049</td>\n",
       "      <td>0.074390</td>\n",
       "      <td>0.130497</td>\n",
       "      <td>0.118545</td>\n",
       "      <td>0.276068</td>\n",
       "      <td>0.246261</td>\n",
       "      <td>...</td>\n",
       "      <td>100</td>\n",
       "      <td>100</td>\n",
       "      <td>100</td>\n",
       "      <td>100</td>\n",
       "      <td>100</td>\n",
       "      <td>100</td>\n",
       "      <td>100</td>\n",
       "      <td>100</td>\n",
       "      <td>100</td>\n",
       "      <td>100</td>\n",
       "    </tr>\n",
       "    <tr>\n",
       "      <th>2009-08-02 06:37:08.765742</th>\n",
       "      <td>0.046009</td>\n",
       "      <td>0.016719</td>\n",
       "      <td>0.137390</td>\n",
       "      <td>0.039161</td>\n",
       "      <td>0.10049</td>\n",
       "      <td>0.074390</td>\n",
       "      <td>0.130497</td>\n",
       "      <td>0.118545</td>\n",
       "      <td>0.276068</td>\n",
       "      <td>0.246261</td>\n",
       "      <td>...</td>\n",
       "      <td>100</td>\n",
       "      <td>100</td>\n",
       "      <td>100</td>\n",
       "      <td>100</td>\n",
       "      <td>100</td>\n",
       "      <td>100</td>\n",
       "      <td>100</td>\n",
       "      <td>100</td>\n",
       "      <td>100</td>\n",
       "      <td>100</td>\n",
       "    </tr>\n",
       "    <tr>\n",
       "      <th>2009-09-01 06:37:08.765742</th>\n",
       "      <td>0.046009</td>\n",
       "      <td>0.016719</td>\n",
       "      <td>0.137390</td>\n",
       "      <td>0.039161</td>\n",
       "      <td>0.10049</td>\n",
       "      <td>0.074390</td>\n",
       "      <td>0.130497</td>\n",
       "      <td>0.118545</td>\n",
       "      <td>0.276068</td>\n",
       "      <td>0.246261</td>\n",
       "      <td>...</td>\n",
       "      <td>100</td>\n",
       "      <td>100</td>\n",
       "      <td>100</td>\n",
       "      <td>100</td>\n",
       "      <td>100</td>\n",
       "      <td>100</td>\n",
       "      <td>100</td>\n",
       "      <td>100</td>\n",
       "      <td>100</td>\n",
       "      <td>100</td>\n",
       "    </tr>\n",
       "    <tr>\n",
       "      <th>2009-10-01 06:37:08.765742</th>\n",
       "      <td>0.046009</td>\n",
       "      <td>0.016719</td>\n",
       "      <td>0.137390</td>\n",
       "      <td>0.039161</td>\n",
       "      <td>0.10049</td>\n",
       "      <td>0.074390</td>\n",
       "      <td>0.130497</td>\n",
       "      <td>0.118545</td>\n",
       "      <td>0.276068</td>\n",
       "      <td>0.246261</td>\n",
       "      <td>...</td>\n",
       "      <td>100</td>\n",
       "      <td>100</td>\n",
       "      <td>100</td>\n",
       "      <td>100</td>\n",
       "      <td>100</td>\n",
       "      <td>100</td>\n",
       "      <td>100</td>\n",
       "      <td>100</td>\n",
       "      <td>100</td>\n",
       "      <td>100</td>\n",
       "    </tr>\n",
       "    <tr>\n",
       "      <th>...</th>\n",
       "      <th>...</th>\n",
       "      <th>...</th>\n",
       "      <td>...</td>\n",
       "      <td>...</td>\n",
       "      <td>...</td>\n",
       "      <td>...</td>\n",
       "      <td>...</td>\n",
       "      <td>...</td>\n",
       "      <td>...</td>\n",
       "      <td>...</td>\n",
       "      <td>...</td>\n",
       "      <td>...</td>\n",
       "      <td>...</td>\n",
       "      <td>...</td>\n",
       "      <td>...</td>\n",
       "      <td>...</td>\n",
       "      <td>...</td>\n",
       "      <td>...</td>\n",
       "      <td>...</td>\n",
       "      <td>...</td>\n",
       "      <td>...</td>\n",
       "      <td>...</td>\n",
       "      <td>...</td>\n",
       "    </tr>\n",
       "    <tr>\n",
       "      <th rowspan=\"5\" valign=\"top\">457</th>\n",
       "      <th rowspan=\"5\" valign=\"top\">SDSS</th>\n",
       "      <th>2022-10-23 06:37:08.765742</th>\n",
       "      <td>0.373805</td>\n",
       "      <td>0.091050</td>\n",
       "      <td>1.337251</td>\n",
       "      <td>0.346193</td>\n",
       "      <td>1.19908</td>\n",
       "      <td>0.428333</td>\n",
       "      <td>0.943049</td>\n",
       "      <td>1.091380</td>\n",
       "      <td>2.084480</td>\n",
       "      <td>1.435361</td>\n",
       "      <td>...</td>\n",
       "      <td>100</td>\n",
       "      <td>100</td>\n",
       "      <td>100</td>\n",
       "      <td>100</td>\n",
       "      <td>100</td>\n",
       "      <td>100</td>\n",
       "      <td>100</td>\n",
       "      <td>100</td>\n",
       "      <td>100</td>\n",
       "      <td>100</td>\n",
       "    </tr>\n",
       "    <tr>\n",
       "      <th>2022-11-22 06:37:08.765742</th>\n",
       "      <td>0.373805</td>\n",
       "      <td>0.091050</td>\n",
       "      <td>1.337251</td>\n",
       "      <td>0.346193</td>\n",
       "      <td>1.19908</td>\n",
       "      <td>0.428333</td>\n",
       "      <td>0.943049</td>\n",
       "      <td>1.091380</td>\n",
       "      <td>2.084480</td>\n",
       "      <td>1.435361</td>\n",
       "      <td>...</td>\n",
       "      <td>100</td>\n",
       "      <td>100</td>\n",
       "      <td>100</td>\n",
       "      <td>100</td>\n",
       "      <td>100</td>\n",
       "      <td>100</td>\n",
       "      <td>100</td>\n",
       "      <td>100</td>\n",
       "      <td>100</td>\n",
       "      <td>100</td>\n",
       "    </tr>\n",
       "    <tr>\n",
       "      <th>2022-12-22 06:37:08.765742</th>\n",
       "      <td>0.373805</td>\n",
       "      <td>0.091050</td>\n",
       "      <td>1.337251</td>\n",
       "      <td>0.346193</td>\n",
       "      <td>1.19908</td>\n",
       "      <td>0.428333</td>\n",
       "      <td>0.943049</td>\n",
       "      <td>1.091380</td>\n",
       "      <td>2.084480</td>\n",
       "      <td>1.435361</td>\n",
       "      <td>...</td>\n",
       "      <td>100</td>\n",
       "      <td>100</td>\n",
       "      <td>100</td>\n",
       "      <td>100</td>\n",
       "      <td>100</td>\n",
       "      <td>100</td>\n",
       "      <td>100</td>\n",
       "      <td>100</td>\n",
       "      <td>100</td>\n",
       "      <td>100</td>\n",
       "    </tr>\n",
       "    <tr>\n",
       "      <th>2023-01-21 06:37:08.765742</th>\n",
       "      <td>0.373805</td>\n",
       "      <td>0.091050</td>\n",
       "      <td>1.337251</td>\n",
       "      <td>0.346193</td>\n",
       "      <td>1.19908</td>\n",
       "      <td>0.428333</td>\n",
       "      <td>0.943049</td>\n",
       "      <td>1.091380</td>\n",
       "      <td>2.084480</td>\n",
       "      <td>1.435361</td>\n",
       "      <td>...</td>\n",
       "      <td>100</td>\n",
       "      <td>100</td>\n",
       "      <td>100</td>\n",
       "      <td>100</td>\n",
       "      <td>100</td>\n",
       "      <td>100</td>\n",
       "      <td>100</td>\n",
       "      <td>100</td>\n",
       "      <td>100</td>\n",
       "      <td>100</td>\n",
       "    </tr>\n",
       "    <tr>\n",
       "      <th>2023-02-20 06:37:08.765742</th>\n",
       "      <td>0.373805</td>\n",
       "      <td>0.091050</td>\n",
       "      <td>1.337251</td>\n",
       "      <td>0.346193</td>\n",
       "      <td>1.19908</td>\n",
       "      <td>0.428333</td>\n",
       "      <td>0.943049</td>\n",
       "      <td>1.091380</td>\n",
       "      <td>2.084480</td>\n",
       "      <td>1.435361</td>\n",
       "      <td>...</td>\n",
       "      <td>100</td>\n",
       "      <td>100</td>\n",
       "      <td>100</td>\n",
       "      <td>100</td>\n",
       "      <td>100</td>\n",
       "      <td>100</td>\n",
       "      <td>100</td>\n",
       "      <td>100</td>\n",
       "      <td>100</td>\n",
       "      <td>100</td>\n",
       "    </tr>\n",
       "  </tbody>\n",
       "</table>\n",
       "<p>75768 rows × 39 columns</p>\n",
       "</div>"
      ],
      "text/plain": [
       "                                           flux_Gaia bp  flux_Gaia g  \\\n",
       "objectid label datetime                                                \n",
       "0        CLAGN 2009-06-03 06:37:08.765742      0.046009     0.016719   \n",
       "               2009-07-03 06:37:08.765742      0.046009     0.016719   \n",
       "               2009-08-02 06:37:08.765742      0.046009     0.016719   \n",
       "               2009-09-01 06:37:08.765742      0.046009     0.016719   \n",
       "               2009-10-01 06:37:08.765742      0.046009     0.016719   \n",
       "...                                                 ...          ...   \n",
       "457      SDSS  2022-10-23 06:37:08.765742      0.373805     0.091050   \n",
       "               2022-11-22 06:37:08.765742      0.373805     0.091050   \n",
       "               2022-12-22 06:37:08.765742      0.373805     0.091050   \n",
       "               2023-01-21 06:37:08.765742      0.373805     0.091050   \n",
       "               2023-02-20 06:37:08.765742      0.373805     0.091050   \n",
       "\n",
       "                                           flux_Gaia rp  flux_panstarrs g  \\\n",
       "objectid label datetime                                                     \n",
       "0        CLAGN 2009-06-03 06:37:08.765742      0.137390          0.039161   \n",
       "               2009-07-03 06:37:08.765742      0.137390          0.039161   \n",
       "               2009-08-02 06:37:08.765742      0.137390          0.039161   \n",
       "               2009-09-01 06:37:08.765742      0.137390          0.039161   \n",
       "               2009-10-01 06:37:08.765742      0.137390          0.039161   \n",
       "...                                                 ...               ...   \n",
       "457      SDSS  2022-10-23 06:37:08.765742      1.337251          0.346193   \n",
       "               2022-11-22 06:37:08.765742      1.337251          0.346193   \n",
       "               2022-12-22 06:37:08.765742      1.337251          0.346193   \n",
       "               2023-01-21 06:37:08.765742      1.337251          0.346193   \n",
       "               2023-02-20 06:37:08.765742      1.337251          0.346193   \n",
       "\n",
       "                                           flux_panstarrs i  flux_panstarrs r  \\\n",
       "objectid label datetime                                                         \n",
       "0        CLAGN 2009-06-03 06:37:08.765742           0.10049          0.074390   \n",
       "               2009-07-03 06:37:08.765742           0.10049          0.074390   \n",
       "               2009-08-02 06:37:08.765742           0.10049          0.074390   \n",
       "               2009-09-01 06:37:08.765742           0.10049          0.074390   \n",
       "               2009-10-01 06:37:08.765742           0.10049          0.074390   \n",
       "...                                                     ...               ...   \n",
       "457      SDSS  2022-10-23 06:37:08.765742           1.19908          0.428333   \n",
       "               2022-11-22 06:37:08.765742           1.19908          0.428333   \n",
       "               2022-12-22 06:37:08.765742           1.19908          0.428333   \n",
       "               2023-01-21 06:37:08.765742           1.19908          0.428333   \n",
       "               2023-02-20 06:37:08.765742           1.19908          0.428333   \n",
       "\n",
       "                                           flux_panstarrs y  flux_panstarrs z  \\\n",
       "objectid label datetime                                                         \n",
       "0        CLAGN 2009-06-03 06:37:08.765742          0.130497          0.118545   \n",
       "               2009-07-03 06:37:08.765742          0.130497          0.118545   \n",
       "               2009-08-02 06:37:08.765742          0.130497          0.118545   \n",
       "               2009-09-01 06:37:08.765742          0.130497          0.118545   \n",
       "               2009-10-01 06:37:08.765742          0.130497          0.118545   \n",
       "...                                                     ...               ...   \n",
       "457      SDSS  2022-10-23 06:37:08.765742          0.943049          1.091380   \n",
       "               2022-11-22 06:37:08.765742          0.943049          1.091380   \n",
       "               2022-12-22 06:37:08.765742          0.943049          1.091380   \n",
       "               2023-01-21 06:37:08.765742          0.943049          1.091380   \n",
       "               2023-02-20 06:37:08.765742          0.943049          1.091380   \n",
       "\n",
       "                                            flux_w1   flux_w2  ...  \\\n",
       "objectid label datetime                                        ...   \n",
       "0        CLAGN 2009-06-03 06:37:08.765742  0.276068  0.246261  ...   \n",
       "               2009-07-03 06:37:08.765742  0.276068  0.246261  ...   \n",
       "               2009-08-02 06:37:08.765742  0.276068  0.246261  ...   \n",
       "               2009-09-01 06:37:08.765742  0.276068  0.246261  ...   \n",
       "               2009-10-01 06:37:08.765742  0.276068  0.246261  ...   \n",
       "...                                             ...       ...  ...   \n",
       "457      SDSS  2022-10-23 06:37:08.765742  2.084480  1.435361  ...   \n",
       "               2022-11-22 06:37:08.765742  2.084480  1.435361  ...   \n",
       "               2022-12-22 06:37:08.765742  2.084480  1.435361  ...   \n",
       "               2023-01-21 06:37:08.765742  2.084480  1.435361  ...   \n",
       "               2023-02-20 06:37:08.765742  2.084480  1.435361  ...   \n",
       "\n",
       "                                           normflux_panstarrs g  \\\n",
       "objectid label datetime                                           \n",
       "0        CLAGN 2009-06-03 06:37:08.765742                   100   \n",
       "               2009-07-03 06:37:08.765742                   100   \n",
       "               2009-08-02 06:37:08.765742                   100   \n",
       "               2009-09-01 06:37:08.765742                   100   \n",
       "               2009-10-01 06:37:08.765742                   100   \n",
       "...                                                         ...   \n",
       "457      SDSS  2022-10-23 06:37:08.765742                   100   \n",
       "               2022-11-22 06:37:08.765742                   100   \n",
       "               2022-12-22 06:37:08.765742                   100   \n",
       "               2023-01-21 06:37:08.765742                   100   \n",
       "               2023-02-20 06:37:08.765742                   100   \n",
       "\n",
       "                                           normflux_panstarrs i  \\\n",
       "objectid label datetime                                           \n",
       "0        CLAGN 2009-06-03 06:37:08.765742                   100   \n",
       "               2009-07-03 06:37:08.765742                   100   \n",
       "               2009-08-02 06:37:08.765742                   100   \n",
       "               2009-09-01 06:37:08.765742                   100   \n",
       "               2009-10-01 06:37:08.765742                   100   \n",
       "...                                                         ...   \n",
       "457      SDSS  2022-10-23 06:37:08.765742                   100   \n",
       "               2022-11-22 06:37:08.765742                   100   \n",
       "               2022-12-22 06:37:08.765742                   100   \n",
       "               2023-01-21 06:37:08.765742                   100   \n",
       "               2023-02-20 06:37:08.765742                   100   \n",
       "\n",
       "                                           normflux_panstarrs r  \\\n",
       "objectid label datetime                                           \n",
       "0        CLAGN 2009-06-03 06:37:08.765742                   100   \n",
       "               2009-07-03 06:37:08.765742                   100   \n",
       "               2009-08-02 06:37:08.765742                   100   \n",
       "               2009-09-01 06:37:08.765742                   100   \n",
       "               2009-10-01 06:37:08.765742                   100   \n",
       "...                                                         ...   \n",
       "457      SDSS  2022-10-23 06:37:08.765742                   100   \n",
       "               2022-11-22 06:37:08.765742                   100   \n",
       "               2022-12-22 06:37:08.765742                   100   \n",
       "               2023-01-21 06:37:08.765742                   100   \n",
       "               2023-02-20 06:37:08.765742                   100   \n",
       "\n",
       "                                           normflux_panstarrs y  \\\n",
       "objectid label datetime                                           \n",
       "0        CLAGN 2009-06-03 06:37:08.765742                   100   \n",
       "               2009-07-03 06:37:08.765742                   100   \n",
       "               2009-08-02 06:37:08.765742                   100   \n",
       "               2009-09-01 06:37:08.765742                   100   \n",
       "               2009-10-01 06:37:08.765742                   100   \n",
       "...                                                         ...   \n",
       "457      SDSS  2022-10-23 06:37:08.765742                   100   \n",
       "               2022-11-22 06:37:08.765742                   100   \n",
       "               2022-12-22 06:37:08.765742                   100   \n",
       "               2023-01-21 06:37:08.765742                   100   \n",
       "               2023-02-20 06:37:08.765742                   100   \n",
       "\n",
       "                                           normflux_panstarrs z  normflux_w1  \\\n",
       "objectid label datetime                                                        \n",
       "0        CLAGN 2009-06-03 06:37:08.765742                   100          100   \n",
       "               2009-07-03 06:37:08.765742                   100          100   \n",
       "               2009-08-02 06:37:08.765742                   100          100   \n",
       "               2009-09-01 06:37:08.765742                   100          100   \n",
       "               2009-10-01 06:37:08.765742                   100          100   \n",
       "...                                                         ...          ...   \n",
       "457      SDSS  2022-10-23 06:37:08.765742                   100          100   \n",
       "               2022-11-22 06:37:08.765742                   100          100   \n",
       "               2022-12-22 06:37:08.765742                   100          100   \n",
       "               2023-01-21 06:37:08.765742                   100          100   \n",
       "               2023-02-20 06:37:08.765742                   100          100   \n",
       "\n",
       "                                           normflux_w2  normflux_zg  \\\n",
       "objectid label datetime                                               \n",
       "0        CLAGN 2009-06-03 06:37:08.765742          100          100   \n",
       "               2009-07-03 06:37:08.765742          100          100   \n",
       "               2009-08-02 06:37:08.765742          100          100   \n",
       "               2009-09-01 06:37:08.765742          100          100   \n",
       "               2009-10-01 06:37:08.765742          100          100   \n",
       "...                                                ...          ...   \n",
       "457      SDSS  2022-10-23 06:37:08.765742          100          100   \n",
       "               2022-11-22 06:37:08.765742          100          100   \n",
       "               2022-12-22 06:37:08.765742          100          100   \n",
       "               2023-01-21 06:37:08.765742          100          100   \n",
       "               2023-02-20 06:37:08.765742          100          100   \n",
       "\n",
       "                                           normflux_zi  normflux_zr  \n",
       "objectid label datetime                                              \n",
       "0        CLAGN 2009-06-03 06:37:08.765742          100          100  \n",
       "               2009-07-03 06:37:08.765742          100          100  \n",
       "               2009-08-02 06:37:08.765742          100          100  \n",
       "               2009-09-01 06:37:08.765742          100          100  \n",
       "               2009-10-01 06:37:08.765742          100          100  \n",
       "...                                                ...          ...  \n",
       "457      SDSS  2022-10-23 06:37:08.765742          100          100  \n",
       "               2022-11-22 06:37:08.765742          100          100  \n",
       "               2022-12-22 06:37:08.765742          100          100  \n",
       "               2023-01-21 06:37:08.765742          100          100  \n",
       "               2023-02-20 06:37:08.765742          100          100  \n",
       "\n",
       "[75768 rows x 39 columns]"
      ]
     },
     "execution_count": 23,
     "metadata": {},
     "output_type": "execute_result"
    }
   ],
   "source": [
    "pivoted_df_reindex"
   ]
  },
  {
   "cell_type": "code",
   "execution_count": 24,
   "metadata": {},
   "outputs": [],
   "source": [
    "#save this dataframe to use for the ML below so we don't have to make it every time\n",
    "parquet_savename = 'output/df_ML_091523.parquet'\n",
    "pivoted_df_reindex.to_parquet(parquet_savename)\n",
    "#print(\"file saved!\")"
   ]
  },
  {
   "cell_type": "code",
   "execution_count": 25,
   "metadata": {},
   "outputs": [],
   "source": [
    "# could load a previously saved file in order to plot\n",
    "#parquet_loadname = 'output/df_ML_091523.parquet'\n",
    "#pivoted_df_reindex = MultiIndexDFObject()\n",
    "#pivoted_df_reindex.data = pd.read_parquet(parquet_loadname)\n",
    "#print(\"file loaded!\")"
   ]
  },
  {
   "cell_type": "markdown",
   "metadata": {},
   "source": [
    "## 3. Prep for ML algorithms in sktime\n",
    "\n"
   ]
  },
  {
   "cell_type": "markdown",
   "metadata": {},
   "source": [
    "### 3.0 Consider data augmentation\n",
    "\n",
    "1. https://arxiv.org/pdf/1811.08295.pdf which has the following github\n",
    "\n",
    "    - https://github.com/gioramponi/GAN_Time_Series/tree/master\n",
    "    - not easily usable\n",
    "2. https://arxiv.org/pdf/2205.06758.pdf\n",
    "\n",
    "3. ChatGPT - give multiindex df function and it will give a starting point for augmenting\n",
    "\n",
    "\n",
    "Worried that augmenting noisy data just makes more noise\n"
   ]
  },
  {
   "cell_type": "markdown",
   "metadata": {},
   "source": [
    "### 3.1 Train test split \n",
    "- Because thre are uneven numbers of each type (many more SDSS than CLAGN), we want to make sure to stratify evenly by type\n",
    "- Random split\n"
   ]
  },
  {
   "cell_type": "code",
   "execution_count": 26,
   "metadata": {},
   "outputs": [],
   "source": [
    "#y is defined to be the labels\n",
    "y = pivoted_df_reindex.droplevel('datetime').index.unique().get_level_values('label').to_series()\n",
    "\n",
    "#want a stratified split based on label\n",
    "train_ix, test_ix = train_test_split(pivoted_df_reindex.index.levels[0], stratify = y, shuffle = True, random_state = 43, test_size = 0.25)\n",
    "\n",
    "train_df = pivoted_df_reindex.loc[train_ix]  \n",
    "test_df = pivoted_df_reindex.loc[test_ix]   \n"
   ]
  },
  {
   "cell_type": "code",
   "execution_count": 27,
   "metadata": {},
   "outputs": [
    {
     "data": {
      "text/html": [
       "<div>\n",
       "<style scoped>\n",
       "    .dataframe tbody tr th:only-of-type {\n",
       "        vertical-align: middle;\n",
       "    }\n",
       "\n",
       "    .dataframe tbody tr th {\n",
       "        vertical-align: top;\n",
       "    }\n",
       "\n",
       "    .dataframe thead th {\n",
       "        text-align: right;\n",
       "    }\n",
       "</style>\n",
       "<table border=\"1\" class=\"dataframe\">\n",
       "  <thead>\n",
       "    <tr style=\"text-align: right;\">\n",
       "      <th></th>\n",
       "      <th></th>\n",
       "      <th></th>\n",
       "      <th>flux_Gaia bp</th>\n",
       "      <th>flux_Gaia g</th>\n",
       "      <th>flux_Gaia rp</th>\n",
       "      <th>flux_panstarrs g</th>\n",
       "      <th>flux_panstarrs i</th>\n",
       "      <th>flux_panstarrs r</th>\n",
       "      <th>flux_panstarrs y</th>\n",
       "      <th>flux_panstarrs z</th>\n",
       "      <th>flux_w1</th>\n",
       "      <th>flux_w2</th>\n",
       "      <th>...</th>\n",
       "      <th>normflux_panstarrs g</th>\n",
       "      <th>normflux_panstarrs i</th>\n",
       "      <th>normflux_panstarrs r</th>\n",
       "      <th>normflux_panstarrs y</th>\n",
       "      <th>normflux_panstarrs z</th>\n",
       "      <th>normflux_w1</th>\n",
       "      <th>normflux_w2</th>\n",
       "      <th>normflux_zg</th>\n",
       "      <th>normflux_zi</th>\n",
       "      <th>normflux_zr</th>\n",
       "    </tr>\n",
       "    <tr>\n",
       "      <th>objectid</th>\n",
       "      <th>label</th>\n",
       "      <th>datetime</th>\n",
       "      <th></th>\n",
       "      <th></th>\n",
       "      <th></th>\n",
       "      <th></th>\n",
       "      <th></th>\n",
       "      <th></th>\n",
       "      <th></th>\n",
       "      <th></th>\n",
       "      <th></th>\n",
       "      <th></th>\n",
       "      <th></th>\n",
       "      <th></th>\n",
       "      <th></th>\n",
       "      <th></th>\n",
       "      <th></th>\n",
       "      <th></th>\n",
       "      <th></th>\n",
       "      <th></th>\n",
       "      <th></th>\n",
       "      <th></th>\n",
       "      <th></th>\n",
       "    </tr>\n",
       "  </thead>\n",
       "  <tbody>\n",
       "    <tr>\n",
       "      <th rowspan=\"5\" valign=\"top\">230</th>\n",
       "      <th rowspan=\"5\" valign=\"top\">SDSS</th>\n",
       "      <th>2009-06-03 06:37:08.765742</th>\n",
       "      <td>0.254108</td>\n",
       "      <td>0.043370</td>\n",
       "      <td>0.886291</td>\n",
       "      <td>0.188602</td>\n",
       "      <td>0.462586</td>\n",
       "      <td>0.359711</td>\n",
       "      <td>0.548042</td>\n",
       "      <td>1.15449</td>\n",
       "      <td>2.301353</td>\n",
       "      <td>1.620021</td>\n",
       "      <td>...</td>\n",
       "      <td>100</td>\n",
       "      <td>100</td>\n",
       "      <td>100</td>\n",
       "      <td>100</td>\n",
       "      <td>100</td>\n",
       "      <td>100</td>\n",
       "      <td>100</td>\n",
       "      <td>100</td>\n",
       "      <td>100</td>\n",
       "      <td>100</td>\n",
       "    </tr>\n",
       "    <tr>\n",
       "      <th>2009-07-03 06:37:08.765742</th>\n",
       "      <td>0.254108</td>\n",
       "      <td>0.043370</td>\n",
       "      <td>0.886291</td>\n",
       "      <td>0.188602</td>\n",
       "      <td>0.462586</td>\n",
       "      <td>0.359711</td>\n",
       "      <td>0.516816</td>\n",
       "      <td>1.15449</td>\n",
       "      <td>2.301353</td>\n",
       "      <td>1.620021</td>\n",
       "      <td>...</td>\n",
       "      <td>100</td>\n",
       "      <td>100</td>\n",
       "      <td>100</td>\n",
       "      <td>100</td>\n",
       "      <td>100</td>\n",
       "      <td>100</td>\n",
       "      <td>100</td>\n",
       "      <td>100</td>\n",
       "      <td>100</td>\n",
       "      <td>100</td>\n",
       "    </tr>\n",
       "    <tr>\n",
       "      <th>2009-08-02 06:37:08.765742</th>\n",
       "      <td>0.254108</td>\n",
       "      <td>0.043370</td>\n",
       "      <td>0.886291</td>\n",
       "      <td>0.188602</td>\n",
       "      <td>0.462586</td>\n",
       "      <td>0.359711</td>\n",
       "      <td>0.516816</td>\n",
       "      <td>1.15449</td>\n",
       "      <td>2.301353</td>\n",
       "      <td>1.620021</td>\n",
       "      <td>...</td>\n",
       "      <td>100</td>\n",
       "      <td>100</td>\n",
       "      <td>100</td>\n",
       "      <td>100</td>\n",
       "      <td>100</td>\n",
       "      <td>100</td>\n",
       "      <td>100</td>\n",
       "      <td>100</td>\n",
       "      <td>100</td>\n",
       "      <td>100</td>\n",
       "    </tr>\n",
       "    <tr>\n",
       "      <th>2009-09-01 06:37:08.765742</th>\n",
       "      <td>0.254108</td>\n",
       "      <td>0.043370</td>\n",
       "      <td>0.886291</td>\n",
       "      <td>0.188602</td>\n",
       "      <td>0.462586</td>\n",
       "      <td>0.359711</td>\n",
       "      <td>0.516816</td>\n",
       "      <td>1.15449</td>\n",
       "      <td>2.301353</td>\n",
       "      <td>1.620021</td>\n",
       "      <td>...</td>\n",
       "      <td>100</td>\n",
       "      <td>100</td>\n",
       "      <td>100</td>\n",
       "      <td>100</td>\n",
       "      <td>100</td>\n",
       "      <td>100</td>\n",
       "      <td>100</td>\n",
       "      <td>100</td>\n",
       "      <td>100</td>\n",
       "      <td>100</td>\n",
       "    </tr>\n",
       "    <tr>\n",
       "      <th>2009-10-01 06:37:08.765742</th>\n",
       "      <td>0.254108</td>\n",
       "      <td>0.043370</td>\n",
       "      <td>0.886291</td>\n",
       "      <td>0.188602</td>\n",
       "      <td>0.462586</td>\n",
       "      <td>0.359711</td>\n",
       "      <td>1.074950</td>\n",
       "      <td>1.15449</td>\n",
       "      <td>2.301353</td>\n",
       "      <td>1.620021</td>\n",
       "      <td>...</td>\n",
       "      <td>100</td>\n",
       "      <td>100</td>\n",
       "      <td>100</td>\n",
       "      <td>100</td>\n",
       "      <td>100</td>\n",
       "      <td>100</td>\n",
       "      <td>100</td>\n",
       "      <td>100</td>\n",
       "      <td>100</td>\n",
       "      <td>100</td>\n",
       "    </tr>\n",
       "    <tr>\n",
       "      <th>...</th>\n",
       "      <th>...</th>\n",
       "      <th>...</th>\n",
       "      <td>...</td>\n",
       "      <td>...</td>\n",
       "      <td>...</td>\n",
       "      <td>...</td>\n",
       "      <td>...</td>\n",
       "      <td>...</td>\n",
       "      <td>...</td>\n",
       "      <td>...</td>\n",
       "      <td>...</td>\n",
       "      <td>...</td>\n",
       "      <td>...</td>\n",
       "      <td>...</td>\n",
       "      <td>...</td>\n",
       "      <td>...</td>\n",
       "      <td>...</td>\n",
       "      <td>...</td>\n",
       "      <td>...</td>\n",
       "      <td>...</td>\n",
       "      <td>...</td>\n",
       "      <td>...</td>\n",
       "      <td>...</td>\n",
       "    </tr>\n",
       "    <tr>\n",
       "      <th rowspan=\"5\" valign=\"top\">352</th>\n",
       "      <th rowspan=\"5\" valign=\"top\">SDSS</th>\n",
       "      <th>2022-10-23 06:37:08.765742</th>\n",
       "      <td>0.656215</td>\n",
       "      <td>0.172211</td>\n",
       "      <td>2.103956</td>\n",
       "      <td>0.415141</td>\n",
       "      <td>1.067200</td>\n",
       "      <td>0.807334</td>\n",
       "      <td>1.374620</td>\n",
       "      <td>1.09441</td>\n",
       "      <td>12.789999</td>\n",
       "      <td>17.248117</td>\n",
       "      <td>...</td>\n",
       "      <td>100</td>\n",
       "      <td>100</td>\n",
       "      <td>100</td>\n",
       "      <td>100</td>\n",
       "      <td>100</td>\n",
       "      <td>100</td>\n",
       "      <td>100</td>\n",
       "      <td>100</td>\n",
       "      <td>100</td>\n",
       "      <td>100</td>\n",
       "    </tr>\n",
       "    <tr>\n",
       "      <th>2022-11-22 06:37:08.765742</th>\n",
       "      <td>0.656215</td>\n",
       "      <td>0.172211</td>\n",
       "      <td>2.103956</td>\n",
       "      <td>0.415141</td>\n",
       "      <td>1.067200</td>\n",
       "      <td>0.807334</td>\n",
       "      <td>1.374620</td>\n",
       "      <td>1.09441</td>\n",
       "      <td>12.789999</td>\n",
       "      <td>17.248117</td>\n",
       "      <td>...</td>\n",
       "      <td>100</td>\n",
       "      <td>100</td>\n",
       "      <td>100</td>\n",
       "      <td>100</td>\n",
       "      <td>100</td>\n",
       "      <td>100</td>\n",
       "      <td>100</td>\n",
       "      <td>100</td>\n",
       "      <td>100</td>\n",
       "      <td>100</td>\n",
       "    </tr>\n",
       "    <tr>\n",
       "      <th>2022-12-22 06:37:08.765742</th>\n",
       "      <td>0.656215</td>\n",
       "      <td>0.172211</td>\n",
       "      <td>2.103956</td>\n",
       "      <td>0.415141</td>\n",
       "      <td>1.067200</td>\n",
       "      <td>0.807334</td>\n",
       "      <td>1.374620</td>\n",
       "      <td>1.09441</td>\n",
       "      <td>12.789999</td>\n",
       "      <td>17.248117</td>\n",
       "      <td>...</td>\n",
       "      <td>100</td>\n",
       "      <td>100</td>\n",
       "      <td>100</td>\n",
       "      <td>100</td>\n",
       "      <td>100</td>\n",
       "      <td>100</td>\n",
       "      <td>100</td>\n",
       "      <td>100</td>\n",
       "      <td>100</td>\n",
       "      <td>100</td>\n",
       "    </tr>\n",
       "    <tr>\n",
       "      <th>2023-01-21 06:37:08.765742</th>\n",
       "      <td>0.656215</td>\n",
       "      <td>0.172211</td>\n",
       "      <td>2.103956</td>\n",
       "      <td>0.415141</td>\n",
       "      <td>1.067200</td>\n",
       "      <td>0.807334</td>\n",
       "      <td>1.374620</td>\n",
       "      <td>1.09441</td>\n",
       "      <td>12.789999</td>\n",
       "      <td>17.248117</td>\n",
       "      <td>...</td>\n",
       "      <td>100</td>\n",
       "      <td>100</td>\n",
       "      <td>100</td>\n",
       "      <td>100</td>\n",
       "      <td>100</td>\n",
       "      <td>100</td>\n",
       "      <td>100</td>\n",
       "      <td>100</td>\n",
       "      <td>100</td>\n",
       "      <td>100</td>\n",
       "    </tr>\n",
       "    <tr>\n",
       "      <th>2023-02-20 06:37:08.765742</th>\n",
       "      <td>0.656215</td>\n",
       "      <td>0.172211</td>\n",
       "      <td>2.103956</td>\n",
       "      <td>0.415141</td>\n",
       "      <td>1.067200</td>\n",
       "      <td>0.807334</td>\n",
       "      <td>1.374620</td>\n",
       "      <td>1.09441</td>\n",
       "      <td>12.789999</td>\n",
       "      <td>17.248117</td>\n",
       "      <td>...</td>\n",
       "      <td>100</td>\n",
       "      <td>100</td>\n",
       "      <td>100</td>\n",
       "      <td>100</td>\n",
       "      <td>100</td>\n",
       "      <td>100</td>\n",
       "      <td>100</td>\n",
       "      <td>100</td>\n",
       "      <td>100</td>\n",
       "      <td>100</td>\n",
       "    </tr>\n",
       "  </tbody>\n",
       "</table>\n",
       "<p>56784 rows × 39 columns</p>\n",
       "</div>"
      ],
      "text/plain": [
       "                                           flux_Gaia bp  flux_Gaia g  \\\n",
       "objectid label datetime                                                \n",
       "230      SDSS  2009-06-03 06:37:08.765742      0.254108     0.043370   \n",
       "               2009-07-03 06:37:08.765742      0.254108     0.043370   \n",
       "               2009-08-02 06:37:08.765742      0.254108     0.043370   \n",
       "               2009-09-01 06:37:08.765742      0.254108     0.043370   \n",
       "               2009-10-01 06:37:08.765742      0.254108     0.043370   \n",
       "...                                                 ...          ...   \n",
       "352      SDSS  2022-10-23 06:37:08.765742      0.656215     0.172211   \n",
       "               2022-11-22 06:37:08.765742      0.656215     0.172211   \n",
       "               2022-12-22 06:37:08.765742      0.656215     0.172211   \n",
       "               2023-01-21 06:37:08.765742      0.656215     0.172211   \n",
       "               2023-02-20 06:37:08.765742      0.656215     0.172211   \n",
       "\n",
       "                                           flux_Gaia rp  flux_panstarrs g  \\\n",
       "objectid label datetime                                                     \n",
       "230      SDSS  2009-06-03 06:37:08.765742      0.886291          0.188602   \n",
       "               2009-07-03 06:37:08.765742      0.886291          0.188602   \n",
       "               2009-08-02 06:37:08.765742      0.886291          0.188602   \n",
       "               2009-09-01 06:37:08.765742      0.886291          0.188602   \n",
       "               2009-10-01 06:37:08.765742      0.886291          0.188602   \n",
       "...                                                 ...               ...   \n",
       "352      SDSS  2022-10-23 06:37:08.765742      2.103956          0.415141   \n",
       "               2022-11-22 06:37:08.765742      2.103956          0.415141   \n",
       "               2022-12-22 06:37:08.765742      2.103956          0.415141   \n",
       "               2023-01-21 06:37:08.765742      2.103956          0.415141   \n",
       "               2023-02-20 06:37:08.765742      2.103956          0.415141   \n",
       "\n",
       "                                           flux_panstarrs i  flux_panstarrs r  \\\n",
       "objectid label datetime                                                         \n",
       "230      SDSS  2009-06-03 06:37:08.765742          0.462586          0.359711   \n",
       "               2009-07-03 06:37:08.765742          0.462586          0.359711   \n",
       "               2009-08-02 06:37:08.765742          0.462586          0.359711   \n",
       "               2009-09-01 06:37:08.765742          0.462586          0.359711   \n",
       "               2009-10-01 06:37:08.765742          0.462586          0.359711   \n",
       "...                                                     ...               ...   \n",
       "352      SDSS  2022-10-23 06:37:08.765742          1.067200          0.807334   \n",
       "               2022-11-22 06:37:08.765742          1.067200          0.807334   \n",
       "               2022-12-22 06:37:08.765742          1.067200          0.807334   \n",
       "               2023-01-21 06:37:08.765742          1.067200          0.807334   \n",
       "               2023-02-20 06:37:08.765742          1.067200          0.807334   \n",
       "\n",
       "                                           flux_panstarrs y  flux_panstarrs z  \\\n",
       "objectid label datetime                                                         \n",
       "230      SDSS  2009-06-03 06:37:08.765742          0.548042           1.15449   \n",
       "               2009-07-03 06:37:08.765742          0.516816           1.15449   \n",
       "               2009-08-02 06:37:08.765742          0.516816           1.15449   \n",
       "               2009-09-01 06:37:08.765742          0.516816           1.15449   \n",
       "               2009-10-01 06:37:08.765742          1.074950           1.15449   \n",
       "...                                                     ...               ...   \n",
       "352      SDSS  2022-10-23 06:37:08.765742          1.374620           1.09441   \n",
       "               2022-11-22 06:37:08.765742          1.374620           1.09441   \n",
       "               2022-12-22 06:37:08.765742          1.374620           1.09441   \n",
       "               2023-01-21 06:37:08.765742          1.374620           1.09441   \n",
       "               2023-02-20 06:37:08.765742          1.374620           1.09441   \n",
       "\n",
       "                                             flux_w1    flux_w2  ...  \\\n",
       "objectid label datetime                                          ...   \n",
       "230      SDSS  2009-06-03 06:37:08.765742   2.301353   1.620021  ...   \n",
       "               2009-07-03 06:37:08.765742   2.301353   1.620021  ...   \n",
       "               2009-08-02 06:37:08.765742   2.301353   1.620021  ...   \n",
       "               2009-09-01 06:37:08.765742   2.301353   1.620021  ...   \n",
       "               2009-10-01 06:37:08.765742   2.301353   1.620021  ...   \n",
       "...                                              ...        ...  ...   \n",
       "352      SDSS  2022-10-23 06:37:08.765742  12.789999  17.248117  ...   \n",
       "               2022-11-22 06:37:08.765742  12.789999  17.248117  ...   \n",
       "               2022-12-22 06:37:08.765742  12.789999  17.248117  ...   \n",
       "               2023-01-21 06:37:08.765742  12.789999  17.248117  ...   \n",
       "               2023-02-20 06:37:08.765742  12.789999  17.248117  ...   \n",
       "\n",
       "                                           normflux_panstarrs g  \\\n",
       "objectid label datetime                                           \n",
       "230      SDSS  2009-06-03 06:37:08.765742                   100   \n",
       "               2009-07-03 06:37:08.765742                   100   \n",
       "               2009-08-02 06:37:08.765742                   100   \n",
       "               2009-09-01 06:37:08.765742                   100   \n",
       "               2009-10-01 06:37:08.765742                   100   \n",
       "...                                                         ...   \n",
       "352      SDSS  2022-10-23 06:37:08.765742                   100   \n",
       "               2022-11-22 06:37:08.765742                   100   \n",
       "               2022-12-22 06:37:08.765742                   100   \n",
       "               2023-01-21 06:37:08.765742                   100   \n",
       "               2023-02-20 06:37:08.765742                   100   \n",
       "\n",
       "                                           normflux_panstarrs i  \\\n",
       "objectid label datetime                                           \n",
       "230      SDSS  2009-06-03 06:37:08.765742                   100   \n",
       "               2009-07-03 06:37:08.765742                   100   \n",
       "               2009-08-02 06:37:08.765742                   100   \n",
       "               2009-09-01 06:37:08.765742                   100   \n",
       "               2009-10-01 06:37:08.765742                   100   \n",
       "...                                                         ...   \n",
       "352      SDSS  2022-10-23 06:37:08.765742                   100   \n",
       "               2022-11-22 06:37:08.765742                   100   \n",
       "               2022-12-22 06:37:08.765742                   100   \n",
       "               2023-01-21 06:37:08.765742                   100   \n",
       "               2023-02-20 06:37:08.765742                   100   \n",
       "\n",
       "                                           normflux_panstarrs r  \\\n",
       "objectid label datetime                                           \n",
       "230      SDSS  2009-06-03 06:37:08.765742                   100   \n",
       "               2009-07-03 06:37:08.765742                   100   \n",
       "               2009-08-02 06:37:08.765742                   100   \n",
       "               2009-09-01 06:37:08.765742                   100   \n",
       "               2009-10-01 06:37:08.765742                   100   \n",
       "...                                                         ...   \n",
       "352      SDSS  2022-10-23 06:37:08.765742                   100   \n",
       "               2022-11-22 06:37:08.765742                   100   \n",
       "               2022-12-22 06:37:08.765742                   100   \n",
       "               2023-01-21 06:37:08.765742                   100   \n",
       "               2023-02-20 06:37:08.765742                   100   \n",
       "\n",
       "                                           normflux_panstarrs y  \\\n",
       "objectid label datetime                                           \n",
       "230      SDSS  2009-06-03 06:37:08.765742                   100   \n",
       "               2009-07-03 06:37:08.765742                   100   \n",
       "               2009-08-02 06:37:08.765742                   100   \n",
       "               2009-09-01 06:37:08.765742                   100   \n",
       "               2009-10-01 06:37:08.765742                   100   \n",
       "...                                                         ...   \n",
       "352      SDSS  2022-10-23 06:37:08.765742                   100   \n",
       "               2022-11-22 06:37:08.765742                   100   \n",
       "               2022-12-22 06:37:08.765742                   100   \n",
       "               2023-01-21 06:37:08.765742                   100   \n",
       "               2023-02-20 06:37:08.765742                   100   \n",
       "\n",
       "                                           normflux_panstarrs z  normflux_w1  \\\n",
       "objectid label datetime                                                        \n",
       "230      SDSS  2009-06-03 06:37:08.765742                   100          100   \n",
       "               2009-07-03 06:37:08.765742                   100          100   \n",
       "               2009-08-02 06:37:08.765742                   100          100   \n",
       "               2009-09-01 06:37:08.765742                   100          100   \n",
       "               2009-10-01 06:37:08.765742                   100          100   \n",
       "...                                                         ...          ...   \n",
       "352      SDSS  2022-10-23 06:37:08.765742                   100          100   \n",
       "               2022-11-22 06:37:08.765742                   100          100   \n",
       "               2022-12-22 06:37:08.765742                   100          100   \n",
       "               2023-01-21 06:37:08.765742                   100          100   \n",
       "               2023-02-20 06:37:08.765742                   100          100   \n",
       "\n",
       "                                           normflux_w2  normflux_zg  \\\n",
       "objectid label datetime                                               \n",
       "230      SDSS  2009-06-03 06:37:08.765742          100          100   \n",
       "               2009-07-03 06:37:08.765742          100          100   \n",
       "               2009-08-02 06:37:08.765742          100          100   \n",
       "               2009-09-01 06:37:08.765742          100          100   \n",
       "               2009-10-01 06:37:08.765742          100          100   \n",
       "...                                                ...          ...   \n",
       "352      SDSS  2022-10-23 06:37:08.765742          100          100   \n",
       "               2022-11-22 06:37:08.765742          100          100   \n",
       "               2022-12-22 06:37:08.765742          100          100   \n",
       "               2023-01-21 06:37:08.765742          100          100   \n",
       "               2023-02-20 06:37:08.765742          100          100   \n",
       "\n",
       "                                           normflux_zi  normflux_zr  \n",
       "objectid label datetime                                              \n",
       "230      SDSS  2009-06-03 06:37:08.765742          100          100  \n",
       "               2009-07-03 06:37:08.765742          100          100  \n",
       "               2009-08-02 06:37:08.765742          100          100  \n",
       "               2009-09-01 06:37:08.765742          100          100  \n",
       "               2009-10-01 06:37:08.765742          100          100  \n",
       "...                                                ...          ...  \n",
       "352      SDSS  2022-10-23 06:37:08.765742          100          100  \n",
       "               2022-11-22 06:37:08.765742          100          100  \n",
       "               2022-12-22 06:37:08.765742          100          100  \n",
       "               2023-01-21 06:37:08.765742          100          100  \n",
       "               2023-02-20 06:37:08.765742          100          100  \n",
       "\n",
       "[56784 rows x 39 columns]"
      ]
     },
     "execution_count": 27,
     "metadata": {},
     "output_type": "execute_result"
    }
   ],
   "source": [
    "#what does it look like?\n",
    "train_df"
   ]
  },
  {
   "cell_type": "code",
   "execution_count": 28,
   "metadata": {},
   "outputs": [
    {
     "data": {
      "image/png": "[encoded data removed]",
      "text/plain": [
       "<Figure size 600x400 with 1 Axes>"
      ]
     },
     "metadata": {},
     "output_type": "display_data"
    }
   ],
   "source": [
    "#plot to show how many of each type of object in the test dataset\n",
    "\n",
    "plt.figure(figsize=(6,4))\n",
    "plt.title(\"Objects in the Test dataset\")\n",
    "h = plt.hist(test_df.droplevel('datetime').index.unique().get_level_values('label').to_series(),histtype='stepfilled',orientation='horizontal')\n"
   ]
  },
  {
   "cell_type": "markdown",
   "metadata": {},
   "source": [
    "### 3.2 Convert df_lc into X and y"
   ]
  },
  {
   "cell_type": "code",
   "execution_count": 29,
   "metadata": {},
   "outputs": [],
   "source": [
    "#divide the dataframe into X and y for ML algorithms \n",
    "\n",
    "#X is the multiindex light curve without the labels\n",
    "X_train  = train_df.droplevel('label')\n",
    "X_test = test_df.droplevel('label')\n",
    "\n",
    "#y are the labels, should be a series \n",
    "y_train = train_df.droplevel('datetime').index.unique().get_level_values('label').to_series()\n",
    "y_test = test_df.droplevel('datetime').index.unique().get_level_values('label').to_series()\n",
    "\n"
   ]
  },
  {
   "cell_type": "markdown",
   "metadata": {},
   "source": [
    "### 3.3 Check that the data types are ok for sktime"
   ]
  },
  {
   "cell_type": "code",
   "execution_count": 30,
   "metadata": {},
   "outputs": [
    {
     "data": {
      "text/plain": [
       "(True,\n",
       " None,\n",
       " {'is_univariate': False,\n",
       "  'is_empty': False,\n",
       "  'has_nans': False,\n",
       "  'n_instances': 338,\n",
       "  'is_one_series': False,\n",
       "  'is_equal_length': True,\n",
       "  'is_equally_spaced': True,\n",
       "  'n_panels': 1,\n",
       "  'is_one_panel': True,\n",
       "  'mtype': 'pd-multiindex',\n",
       "  'scitype': 'Panel'})"
      ]
     },
     "execution_count": 30,
     "metadata": {},
     "output_type": "execute_result"
    }
   ],
   "source": [
    "#ask sktime if it likes the data type of X\n",
    "from sktime.datatypes import check_is_mtype\n",
    "\n",
    "check_is_mtype(X_train, mtype=\"pd-multiindex\", scitype=\"Panel\", return_metadata=True)\n",
    "#check_is_mtype(X_test, mtype=\"pd-multiindex\", scitype=\"Panel\", return_metadata=True)"
   ]
  },
  {
   "cell_type": "markdown",
   "metadata": {},
   "source": [
    "## 4. Run Machine Learning Algorithms on the light curves\n",
    "\n",
    "We choose to use [sktime](https://www.sktime.net/en/stable/index.html) algorithms beacuse it is a library of many algorithms specifically tailored to time series datasets.  It is based on the sklearn library so syntax is familiar to many users.\n",
    "\n",
    "Types of classifiers are listed [here](https://www.sktime.net/en/stable/api_reference/classification.html).\n",
    "\n",
    "This notebook will invert the actual workflow and show you a single example of the algorithm which best fits the data and has the most accurate classifier. Then it will show how to write a for loop over a bunch of classifiers before narrowing it down to the most accurate.\n",
    "\n"
   ]
  },
  {
   "cell_type": "code",
   "execution_count": 31,
   "metadata": {
    "scrolled": true,
    "tags": []
   },
   "outputs": [
    {
     "data": {
      "text/plain": [
       "[('Arsenal', sktime.classification.kernel_based._arsenal.Arsenal),\n",
       " ('BaggingClassifier',\n",
       "  sktime.classification.ensemble._bagging.BaggingClassifier),\n",
       " ('CNNClassifier', sktime.classification.deep_learning.cnn.CNNClassifier),\n",
       " ('CanonicalIntervalForest',\n",
       "  sktime.classification.interval_based._cif.CanonicalIntervalForest),\n",
       " ('Catch22Classifier',\n",
       "  sktime.classification.feature_based._catch22_classifier.Catch22Classifier),\n",
       " ('ColumnEnsembleClassifier',\n",
       "  sktime.classification.compose._column_ensemble.ColumnEnsembleClassifier),\n",
       " ('DrCIF', sktime.classification.interval_based._drcif.DrCIF),\n",
       " ('DummyClassifier', sktime.classification.dummy._dummy.DummyClassifier),\n",
       " ('FCNClassifier', sktime.classification.deep_learning.fcn.FCNClassifier),\n",
       " ('FreshPRINCE',\n",
       "  sktime.classification.feature_based._fresh_prince.FreshPRINCE),\n",
       " ('HIVECOTEV2', sktime.classification.hybrid._hivecote_v2.HIVECOTEV2),\n",
       " ('InceptionTimeClassifier',\n",
       "  sktime.classification.deep_learning.inceptiontime.InceptionTimeClassifier),\n",
       " ('IndividualTDE', sktime.classification.dictionary_based._tde.IndividualTDE),\n",
       " ('KNeighborsTimeSeriesClassifier',\n",
       "  sktime.classification.distance_based._time_series_neighbors.KNeighborsTimeSeriesClassifier),\n",
       " ('LSTMFCNClassifier',\n",
       "  sktime.classification.deep_learning.lstmfcn.LSTMFCNClassifier),\n",
       " ('MACNNClassifier',\n",
       "  sktime.classification.deep_learning.macnn.MACNNClassifier),\n",
       " ('MCDCNNClassifier',\n",
       "  sktime.classification.deep_learning.mcdcnn.MCDCNNClassifier),\n",
       " ('MLPClassifier', sktime.classification.deep_learning.mlp.MLPClassifier),\n",
       " ('MUSE', sktime.classification.dictionary_based._muse.MUSE),\n",
       " ('ProbabilityThresholdEarlyClassifier',\n",
       "  sktime.classification.early_classification._probability_threshold.ProbabilityThresholdEarlyClassifier),\n",
       " ('RandomIntervalClassifier',\n",
       "  sktime.classification.feature_based._random_interval_classifier.RandomIntervalClassifier),\n",
       " ('ResNetClassifier',\n",
       "  sktime.classification.deep_learning.resnet.ResNetClassifier),\n",
       " ('RocketClassifier',\n",
       "  sktime.classification.kernel_based._rocket_classifier.RocketClassifier),\n",
       " ('ShapeletTransformClassifier',\n",
       "  sktime.classification.shapelet_based._stc.ShapeletTransformClassifier),\n",
       " ('SignatureClassifier',\n",
       "  sktime.classification.feature_based._signature_classifier.SignatureClassifier),\n",
       " ('SimpleRNNClassifier',\n",
       "  sktime.classification.deep_learning.rnn.SimpleRNNClassifier),\n",
       " ('SklearnClassifierPipeline',\n",
       "  sktime.classification.compose._pipeline.SklearnClassifierPipeline),\n",
       " ('SummaryClassifier',\n",
       "  sktime.classification.feature_based._summary_classifier.SummaryClassifier),\n",
       " ('TSFreshClassifier',\n",
       "  sktime.classification.feature_based._tsfresh_classifier.TSFreshClassifier),\n",
       " ('TapNetClassifier',\n",
       "  sktime.classification.deep_learning.tapnet.TapNetClassifier),\n",
       " ('TemporalDictionaryEnsemble',\n",
       "  sktime.classification.dictionary_based._tde.TemporalDictionaryEnsemble),\n",
       " ('TimeSeriesSVC', sktime.classification.kernel_based._svc.TimeSeriesSVC),\n",
       " ('WeightedEnsembleClassifier',\n",
       "  sktime.classification.ensemble._weighted.WeightedEnsembleClassifier)]"
      ]
     },
     "execution_count": 31,
     "metadata": {},
     "output_type": "execute_result"
    },
    {
     "name": "stdout",
     "output_type": "stream",
     "text": [
      "Accuracy of Random Interval Classifier: 0.8584070796460177\n",
      "\n"
     ]
    }
   ],
   "source": [
    "#what is the list of all possible classifiers that work with multivariate data\n",
    "#all_tags(estimator_types = 'classifier')\n",
    "classifiers = all_estimators(\"classifier\", filter_tags={'capability:multivariate':True})\n",
    "classifiers\n"
   ]
  },
  {
   "cell_type": "markdown",
   "metadata": {},
   "source": [
    "### 4.1 The Most Accurate Classifier\n",
    "See section 4.2 for how we landed with this algorithm\n"
   ]
  },
  {
   "cell_type": "code",
   "execution_count": 32,
   "metadata": {},
   "outputs": [
    {
     "data": {
      "image/png": "[encoded data removed]",
      "text/plain": [
       "<Figure size 640x480 with 2 Axes>"
      ]
     },
     "metadata": {},
     "output_type": "display_data"
    }
   ],
   "source": [
    "#looks like RandomIntervalClassifier is performing the best for the CLAGN (not for the SDSS)\n",
    "\n",
    "#setup the classifier\n",
    "clf = RandomIntervalClassifier(n_intervals = 20, n_jobs = -1, random_state = 43)\n",
    "\n",
    "#fit the classifier on the training dataset\n",
    "clf.fit(X_train, y_train)\n",
    "\n",
    "#make predictions on the test dataset using the trained model \n",
    "y_pred = clf.predict(X_test)\n",
    "\n",
    "print(f\"Accuracy of Random Interval Classifier: {accuracy_score(y_test, y_pred)}\\n\", flush=True)\n",
    "\n",
    "#plot a confusion matrix\n",
    "cm = confusion_matrix(y_test, y_pred, labels=clf.classes_)\n",
    "disp = ConfusionMatrixDisplay(confusion_matrix=cm,display_labels=clf.classes_)\n",
    "disp.plot()\n",
    "    \n",
    "plt.show()"
   ]
  },
  {
   "cell_type": "markdown",
   "metadata": {},
   "source": [
    "### 4.2 Loop over a bunch of classifiers\n",
    "\n",
    "Our method is to do a cursory check of a bunch of classifiers and then later drill down deeper on anything with good initial results.  We choose to run a loop over ~10 classifiers that seem promising and check the accuracy scores for each one.  Any classifier with a promising accuracy score could then be followed up with detailed hyperparameter tuning, or potentially with considering other classifiers in that same type."
   ]
  },
  {
   "cell_type": "code",
   "execution_count": null,
   "metadata": {},
   "outputs": [],
   "source": [
    "#which classifiers are we interestd in\n",
    "#roughly one from each type of classifier\n",
    "\n",
    "names = [\"Arsenal\",                     #kernel based\n",
    "        \"RocektClassifier\",             #kernel based\n",
    "        \"CanonicalIntervalForest\",      #interval based\n",
    "        \"HIVECOTEV2\",                   #hybrid\n",
    "#        \"CNNClassifier\",               #Deep Learning  - **requires tensorflow which is giving import errors\n",
    "#        \"WeightedEnsembleClassifier\",   #Ensemble - **maybe use in the future if we find good options\n",
    "        \"IndividualTDE\",               #Dictionary-based\n",
    "        \"KNeighborsTimeSeriesClassifier\", #Distance Based\n",
    "        \"RandomIntervalClassifier\",     #Feature based\n",
    "        \"Catch22Classifier\",            #Feature based\n",
    "        \"ShapeletTransformClassifier\"   #Shapelet based\n",
    "        \"DummyClassifier\"]             #Dummy - ignores input\n",
    "\n",
    "#for those with an impossible time limit, how long to let them run for before cutting off\n",
    "nmins = 10\n",
    "\n",
    "#these could certainly be more tailored\n",
    "classifier_call = [Arsenal(time_limit_in_minutes=nmins, n_jobs = -1), \n",
    "                  RocketClassifier(num_kernels=2000),\n",
    "                  CanonicalIntervalForest(n_jobs = -1),\n",
    "                  HIVECOTEV2(time_limit_in_minutes=nmins, n_jobs = -1),\n",
    "#                  CNNClassifier(),\n",
    "#                  WeightedEnsembleClassifier(),\n",
    "                  IndividualTDE(n_jobs=-1),\n",
    "                  KNeighborsTimeSeriesClassifier(n_jobs = -1),\n",
    "                  RandomIntervalClassifier(n_intervals = 20, n_jobs = -1, random_state = 43),\n",
    "                  Catch22Classifier(outlier_norm = True, n_jobs = -1, random_state = 43),\n",
    "                  ShapeletTransformClassifier(time_limit_in_minutes=nmins,n_jobs = -1),\n",
    "                  DummyClassifier()]\n",
    "\n",
    "#setup to store the accuracy scores\n",
    "accscore_dict = {}\n",
    "\n",
    "# iterate over classifiers\n",
    "for name, clf in tqdm(zip(names, classifier_call)):\n",
    "    #fit the classifier\n",
    "    clf.fit(X_train, y_train)\n",
    "    \n",
    "    #make predictions on the test dataset\n",
    "    y_pred = clf.predict(X_test)\n",
    "\n",
    "    #calculate and track accuracy score\n",
    "    accscore = accuracy_score(y_test, y_pred)\n",
    "    print(f\"Accuracy of {name} classifier: {accscore}\\n\", flush=True)\n",
    "    accscore_dict[name] = accscore\n",
    "    \n",
    "    #plot confusion matrix\n",
    "    cm = confusion_matrix(y_test, y_pred, labels=clf.classes_)\n",
    "    disp = ConfusionMatrixDisplay(confusion_matrix=cm,display_labels=clf.classes_)\n",
    "    disp.plot()\n",
    "    plt.show()\n",
    "\n",
    "#just for keeping track, I also tried \n",
    "#clf = SignatureClassifier(depth = 2, window_depth = 3, random_state = 43)\n",
    "#this fails to complete, and is a known limitation of this algorithm.  "
   ]
  },
  {
   "cell_type": "code",
   "execution_count": null,
   "metadata": {},
   "outputs": [],
   "source": [
    "#show the summary of the algorithms used and their accuracy score\n",
    "accscore_dict"
   ]
  },
  {
   "cell_type": "markdown",
   "metadata": {},
   "source": [
    "## 5.0 Conclusions:  \n",
    "This classifier can be used to predict CLAGN.  The feature based algorithms do the best jobs of having little to no predicted CLAGN that are truly normal SDSS quasars.  We infer then that if the trained model predicts CLAGN, it is a very good target for follow-up spectroscopy to confirm CLAGN.  However this algorthim will not catch all CLAGN, and will incorrectly labels some CLAGN as being normal SDSS quasars.  THis algorithm can therefore not be used to find a complete sample of CLAGN, but can be used to increase the known sample.\n"
   ]
  },
  {
   "cell_type": "markdown",
   "metadata": {},
   "source": [
    "### 5.1 Potential Areas of improvement\n",
    "- Data is messy\n",
    "    - ZTF calibration??\n",
    "- Label inaccuracy is a concern\n",
    "    - mostly SDSS, \n",
    "    - but CLAGN papers all have different selection criteria\n",
    "- Not enough data on CLAGN\n",
    "    - limited number of lightcurves\n",
    "    - consider data augmentation"
   ]
  },
  {
   "cell_type": "code",
   "execution_count": null,
   "metadata": {},
   "outputs": [],
   "source": []
  }
 ],
 "metadata": {
  "kernelspec": {
   "display_name": "Python 3 (ipykernel)",
   "language": "python",
   "name": "python3"
  },
  "language_info": {
   "codemirror_mode": {
    "name": "ipython",
    "version": 3
   },
   "file_extension": ".py",
   "mimetype": "text/x-python",
   "name": "python",
   "nbconvert_exporter": "python",
   "pygments_lexer": "ipython3",
   "version": "3.10.8"
  }
 },
 "nbformat": 4,
 "nbformat_minor": 4
}
