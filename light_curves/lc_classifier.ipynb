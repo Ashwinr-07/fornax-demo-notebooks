{
 "cells": [
  {
   "cell_type": "markdown",
   "metadata": {},
   "source": [
    "# Light Curve Classifier\n",
    "***\n",
    "\n",
    "## Learning Goals\n",
    "By the end of this tutorial, you will be able to:\n",
    "- do some basic data cleaning and filtering to prepare the data for the ML algorithms\n",
    "- work with Pandas data frames as a way of storing time domain datasets\n",
    "- use sktime algorithms to train a classifier and predict values on a test dataset\n",
    "\n",
    "## Introduction\n",
    "This notebook takes output of a previous demo notebook which generates light curves from archival data, does data prep, and runs the light curves through multiple [`sktime`](https://www.sktime.net/en/stable/) classifiers.  The goal of the classifiers is to be able to differentiate changing look active galactic nucleii (CLAGN) from an SDSS quasar sample based on multiband light curves.  CLAGN are quite interested objects in that they appear to change state, but only a few hundred are currently known, and finding them is quite expensive requiring spectroscopic follow up.  Being able to identify CLAGN in existing large samples would allow us to identify a statisitcal sample from which we could better understand the physics of what is occuring in these systems.\n",
    "\n",
    "The challenges of this time-domain dataset are:\n",
    "1. Multi-variate = There are multiple bands of observations per target (13+)\n",
    "2. Unequal length = Each band has a light curve with different sampling than other bands\n",
    "3. Missing data = Not each object has all observations in all bands\n",
    "\n",
    "We choose to use a Pandas multiindex dataframe to store and work with the data because it fulfills these requirements:\n",
    "1. It can handle the above challenges of a dataset = multi-variate, unqueal length with missing data.\n",
    "2. Multiple targets (multiple rows)\n",
    "3. Pandas has some built in understanding of time units\n",
    "4. Can be scaled up to big data numbers of rows (altough we don't push to out of memory structures in this use case)\n",
    "5. Pandas is user friendly\n",
    "\n",
    "\n",
    "## Input\n",
    "Light curve parquet file of multiband light curves from the mulitband_lc.ipynb demo notebook.  The format of the light curves is a Pandas multiindex data frame\n",
    "\n",
    "A useful reference for what sktime expects as input to its ML algorithms: https://github.com/sktime/sktime/blob/main/examples/AA_datatypes_and_datasets.ipynb\n",
    "\n",
    "## Output\n",
    "Trained classifiers as well as estimates of their accuracy and plots of confusion matrices\n",
    "\n",
    "## Imports\n",
    "- `pandas` to work with light curve data structure\n",
    "- `numpy` for numerical calculations\n",
    "- `matplotlib` for plotting\n",
    "- `sys` for paths\n",
    "- `astropy` to work with coordinates/units and data structures\n",
    "- `tqdm` for showing progress meter\n",
    "- `sktime` ML algorithms specifically for time-domain data\n",
    "- `sklearn` general use ML algorthims with easy to use interface\n",
    "\n",
    "## Authors\n",
    "\n",
    "## Acknowledgements"
   ]
  },
  {
   "cell_type": "code",
   "execution_count": null,
   "metadata": {
    "scrolled": true
   },
   "outputs": [],
   "source": [
    "#ensure all dependencies are installed\n",
    "!pip install -r requirements-lc_classifier.txt"
   ]
  },
  {
   "cell_type": "code",
   "execution_count": 1,
   "metadata": {},
   "outputs": [],
   "source": [
    "import sys\n",
    "\n",
    "import matplotlib.pyplot as plt\n",
    "import numpy as np\n",
    "import pandas as pd\n",
    "from astropy.time import Time\n",
    "from google_drive_downloader import GoogleDriveDownloader as gdd\n",
    "from scipy.stats import sigmaclip\n",
    "\n",
    "from sklearn.metrics import ConfusionMatrixDisplay, accuracy_score, confusion_matrix\n",
    "from sklearn.model_selection import train_test_split\n",
    "from sklearn.gaussian_process import GaussianProcessRegressor\n",
    "from sklearn.gaussian_process.kernels import RBF\n",
    "from sklearn.neighbors import KNeighborsRegressor\n",
    "\n",
    "from sktime.classification.deep_learning import CNNClassifier\n",
    "from sktime.classification.dictionary_based import IndividualTDE\n",
    "from sktime.classification.distance_based import KNeighborsTimeSeriesClassifier\n",
    "from sktime.classification.dummy import DummyClassifier\n",
    "from sktime.classification.ensemble import WeightedEnsembleClassifier\n",
    "from sktime.classification.feature_based import Catch22Classifier, RandomIntervalClassifier\n",
    "from sktime.classification.hybrid import HIVECOTEV2\n",
    "from sktime.classification.interval_based import CanonicalIntervalForest\n",
    "from sktime.classification.kernel_based import Arsenal, RocketClassifier\n",
    "from sktime.classification.shapelet_based import ShapeletTransformClassifier\n",
    "from sktime.registry import all_estimators, all_tags\n",
    "from tqdm import tqdm\n",
    "\n",
    "# local code imports\n",
    "sys.path.append('code_src/')\n",
    "from fluxconversions import mjd_to_jd"
   ]
  },
  {
   "cell_type": "markdown",
   "metadata": {},
   "source": [
    "## 1. Read in a dataset of archival light curves"
   ]
  },
  {
   "cell_type": "code",
   "execution_count": 2,
   "metadata": {},
   "outputs": [],
   "source": [
    "#access structure of light curves made in the light curve notebook\n",
    "# has CLAGN & SDSS small sample, all bands\n",
    "#https://drive.google.com/file/d/13RiPODiz2kI8j1OKpP1vfh6ByIUNsKEz/view?usp=share_link\n",
    "\n",
    "gdd.download_file_from_google_drive(file_id='13RiPODiz2kI8j1OKpP1vfh6ByIUNsKEz',\n",
    "                                    dest_path='./data/df_lc_458sample.parquet',\n",
    "                                    unzip=True)\n",
    "\n",
    "df_lc = pd.read_parquet(\"./data/df_lc_458sample.parquet\")\n",
    "\n",
    "#get rid of indices set in the light curve code and reset them as needed before sktime algorithms\n",
    "df_lc = df_lc.reset_index()  "
   ]
  },
  {
   "cell_type": "markdown",
   "metadata": {},
   "source": [
    "## 2. Data Prep\n",
    "This dataset needs significant work before it can be fed into a ML algorithm"
   ]
  },
  {
   "cell_type": "code",
   "execution_count": 3,
   "metadata": {},
   "outputs": [
    {
     "data": {
      "text/html": [
       "<div>\n",
       "<style scoped>\n",
       "    .dataframe tbody tr th:only-of-type {\n",
       "        vertical-align: middle;\n",
       "    }\n",
       "\n",
       "    .dataframe tbody tr th {\n",
       "        vertical-align: top;\n",
       "    }\n",
       "\n",
       "    .dataframe thead th {\n",
       "        text-align: right;\n",
       "    }\n",
       "</style>\n",
       "<table border=\"1\" class=\"dataframe\">\n",
       "  <thead>\n",
       "    <tr style=\"text-align: right;\">\n",
       "      <th></th>\n",
       "      <th>objectid</th>\n",
       "      <th>label</th>\n",
       "      <th>band</th>\n",
       "      <th>time</th>\n",
       "      <th>flux</th>\n",
       "      <th>err</th>\n",
       "    </tr>\n",
       "  </thead>\n",
       "  <tbody>\n",
       "    <tr>\n",
       "      <th>0</th>\n",
       "      <td>112</td>\n",
       "      <td>Lopez-Navas 22</td>\n",
       "      <td>FERMIGTRIG</td>\n",
       "      <td>56371.813768</td>\n",
       "      <td>0.100000</td>\n",
       "      <td>0.100000</td>\n",
       "    </tr>\n",
       "    <tr>\n",
       "      <th>1</th>\n",
       "      <td>218</td>\n",
       "      <td>SDSS</td>\n",
       "      <td>FERMIGTRIG</td>\n",
       "      <td>59568.171278</td>\n",
       "      <td>0.100000</td>\n",
       "      <td>0.100000</td>\n",
       "    </tr>\n",
       "    <tr>\n",
       "      <th>2</th>\n",
       "      <td>395</td>\n",
       "      <td>SDSS</td>\n",
       "      <td>FERMIGTRIG</td>\n",
       "      <td>54699.331556</td>\n",
       "      <td>0.100000</td>\n",
       "      <td>0.100000</td>\n",
       "    </tr>\n",
       "    <tr>\n",
       "      <th>3</th>\n",
       "      <td>414</td>\n",
       "      <td>SDSS</td>\n",
       "      <td>FERMIGTRIG</td>\n",
       "      <td>56369.455916</td>\n",
       "      <td>0.100000</td>\n",
       "      <td>0.100000</td>\n",
       "    </tr>\n",
       "    <tr>\n",
       "      <th>4</th>\n",
       "      <td>434</td>\n",
       "      <td>SDSS</td>\n",
       "      <td>FERMIGTRIG</td>\n",
       "      <td>58941.402522</td>\n",
       "      <td>0.100000</td>\n",
       "      <td>0.100000</td>\n",
       "    </tr>\n",
       "    <tr>\n",
       "      <th>...</th>\n",
       "      <td>...</td>\n",
       "      <td>...</td>\n",
       "      <td>...</td>\n",
       "      <td>...</td>\n",
       "      <td>...</td>\n",
       "      <td>...</td>\n",
       "    </tr>\n",
       "    <tr>\n",
       "      <th>426627</th>\n",
       "      <td>183</td>\n",
       "      <td>SDSS</td>\n",
       "      <td>w2</td>\n",
       "      <td>55230.410156</td>\n",
       "      <td>6.717855</td>\n",
       "      <td>0.019561</td>\n",
       "    </tr>\n",
       "    <tr>\n",
       "      <th>426628</th>\n",
       "      <td>183</td>\n",
       "      <td>SDSS</td>\n",
       "      <td>w2</td>\n",
       "      <td>57054.886719</td>\n",
       "      <td>6.715584</td>\n",
       "      <td>0.023281</td>\n",
       "    </tr>\n",
       "    <tr>\n",
       "      <th>426629</th>\n",
       "      <td>183</td>\n",
       "      <td>SDSS</td>\n",
       "      <td>w2</td>\n",
       "      <td>57247.308594</td>\n",
       "      <td>7.572342</td>\n",
       "      <td>0.024136</td>\n",
       "    </tr>\n",
       "    <tr>\n",
       "      <th>426630</th>\n",
       "      <td>183</td>\n",
       "      <td>SDSS</td>\n",
       "      <td>w2</td>\n",
       "      <td>57977.214844</td>\n",
       "      <td>7.876407</td>\n",
       "      <td>0.023734</td>\n",
       "    </tr>\n",
       "    <tr>\n",
       "      <th>426631</th>\n",
       "      <td>183</td>\n",
       "      <td>SDSS</td>\n",
       "      <td>w2</td>\n",
       "      <td>58706.855469</td>\n",
       "      <td>7.558403</td>\n",
       "      <td>0.024963</td>\n",
       "    </tr>\n",
       "  </tbody>\n",
       "</table>\n",
       "<p>426632 rows × 6 columns</p>\n",
       "</div>"
      ],
      "text/plain": [
       "        objectid           label        band          time      flux       err\n",
       "0            112  Lopez-Navas 22  FERMIGTRIG  56371.813768  0.100000  0.100000\n",
       "1            218            SDSS  FERMIGTRIG  59568.171278  0.100000  0.100000\n",
       "2            395            SDSS  FERMIGTRIG  54699.331556  0.100000  0.100000\n",
       "3            414            SDSS  FERMIGTRIG  56369.455916  0.100000  0.100000\n",
       "4            434            SDSS  FERMIGTRIG  58941.402522  0.100000  0.100000\n",
       "...          ...             ...         ...           ...       ...       ...\n",
       "426627       183            SDSS          w2  55230.410156  6.717855  0.019561\n",
       "426628       183            SDSS          w2  57054.886719  6.715584  0.023281\n",
       "426629       183            SDSS          w2  57247.308594  7.572342  0.024136\n",
       "426630       183            SDSS          w2  57977.214844  7.876407  0.023734\n",
       "426631       183            SDSS          w2  58706.855469  7.558403  0.024963\n",
       "\n",
       "[426632 rows x 6 columns]"
      ]
     },
     "execution_count": 3,
     "metadata": {},
     "output_type": "execute_result"
    }
   ],
   "source": [
    "#what does the dataset look like anyway?\n",
    "df_lc"
   ]
  },
  {
   "cell_type": "markdown",
   "metadata": {},
   "source": [
    "### 2.1 Remove bands with not enough data"
   ]
  },
  {
   "cell_type": "code",
   "execution_count": 4,
   "metadata": {},
   "outputs": [
    {
     "data": {
      "text/plain": [
       "array(['FERMIGTRIG', 'IceCube', 'zg', 'zr', 'zi', 'panstarrs i',\n",
       "       'panstarrs y', 'panstarrs z', 'panstarrs g', 'panstarrs r',\n",
       "       'Gaia g', 'Gaia bp', 'Gaia rp', 'K2', 'TESS', 'w1', 'w2'],\n",
       "      dtype=object)"
      ]
     },
     "execution_count": 4,
     "metadata": {},
     "output_type": "execute_result"
    }
   ],
   "source": [
    "##what are the unique set of bands included in our light curves\n",
    "df_lc.band.unique()"
   ]
  },
  {
   "cell_type": "code",
   "execution_count": 5,
   "metadata": {},
   "outputs": [],
   "source": [
    "## get rid of some of the bands that don't have enough data for all the sources\n",
    "bands_to_drop = [\"IceCube\", \"TESS\", \"FERMIGTRIG\", \"K2\"]\n",
    "df_lc = df_lc[~df_lc[\"band\"].isin(bands_to_drop)]\n"
   ]
  },
  {
   "cell_type": "markdown",
   "metadata": {},
   "source": [
    "### 2.2 Combine Labels for a Simpler Classification\n",
    "All CLAGN start in the dataset as having labels based on their discovery paper.  Because we want one sample with all known CLAGN, change those discoery names to be simply \"CLAGN\" for all CLAGN, regardless of origin"
   ]
  },
  {
   "cell_type": "code",
   "execution_count": 6,
   "metadata": {
    "scrolled": true,
    "tags": []
   },
   "outputs": [
    {
     "name": "stderr",
     "output_type": "stream",
     "text": [
      "/tmp/ipykernel_3141/2260488855.py:1: SettingWithCopyWarning: \n",
      "A value is trying to be set on a copy of a slice from a DataFrame.\n",
      "Try using .loc[row_indexer,col_indexer] = value instead\n",
      "\n",
      "See the caveats in the documentation: https://pandas.pydata.org/pandas-docs/stable/user_guide/indexing.html#returning-a-view-versus-a-copy\n",
      "  df_lc['label'] = df_lc.label.str.replace('MacLeod 16', 'CLAGN')\n",
      "/tmp/ipykernel_3141/2260488855.py:2: SettingWithCopyWarning: \n",
      "A value is trying to be set on a copy of a slice from a DataFrame.\n",
      "Try using .loc[row_indexer,col_indexer] = value instead\n",
      "\n",
      "See the caveats in the documentation: https://pandas.pydata.org/pandas-docs/stable/user_guide/indexing.html#returning-a-view-versus-a-copy\n",
      "  df_lc['label'] = df_lc.label.str.replace('LaMassa 15', 'CLAGN')\n",
      "/tmp/ipykernel_3141/2260488855.py:3: SettingWithCopyWarning: \n",
      "A value is trying to be set on a copy of a slice from a DataFrame.\n",
      "Try using .loc[row_indexer,col_indexer] = value instead\n",
      "\n",
      "See the caveats in the documentation: https://pandas.pydata.org/pandas-docs/stable/user_guide/indexing.html#returning-a-view-versus-a-copy\n",
      "  df_lc['label'] = df_lc.label.str.replace('Yang 18', 'CLAGN')\n",
      "/tmp/ipykernel_3141/2260488855.py:4: SettingWithCopyWarning: \n",
      "A value is trying to be set on a copy of a slice from a DataFrame.\n",
      "Try using .loc[row_indexer,col_indexer] = value instead\n",
      "\n",
      "See the caveats in the documentation: https://pandas.pydata.org/pandas-docs/stable/user_guide/indexing.html#returning-a-view-versus-a-copy\n",
      "  df_lc['label'] = df_lc.label.str.replace('Lyu 21', 'CLAGN')\n",
      "/tmp/ipykernel_3141/2260488855.py:5: SettingWithCopyWarning: \n",
      "A value is trying to be set on a copy of a slice from a DataFrame.\n",
      "Try using .loc[row_indexer,col_indexer] = value instead\n",
      "\n",
      "See the caveats in the documentation: https://pandas.pydata.org/pandas-docs/stable/user_guide/indexing.html#returning-a-view-versus-a-copy\n",
      "  df_lc['label'] = df_lc.label.str.replace('Hon 22', 'CLAGN')\n",
      "/tmp/ipykernel_3141/2260488855.py:6: SettingWithCopyWarning: \n",
      "A value is trying to be set on a copy of a slice from a DataFrame.\n",
      "Try using .loc[row_indexer,col_indexer] = value instead\n",
      "\n",
      "See the caveats in the documentation: https://pandas.pydata.org/pandas-docs/stable/user_guide/indexing.html#returning-a-view-versus-a-copy\n",
      "  df_lc['label'] = df_lc.label.str.replace('Sheng 20', 'CLAGN')\n",
      "/tmp/ipykernel_3141/2260488855.py:7: SettingWithCopyWarning: \n",
      "A value is trying to be set on a copy of a slice from a DataFrame.\n",
      "Try using .loc[row_indexer,col_indexer] = value instead\n",
      "\n",
      "See the caveats in the documentation: https://pandas.pydata.org/pandas-docs/stable/user_guide/indexing.html#returning-a-view-versus-a-copy\n",
      "  df_lc['label'] = df_lc.label.str.replace('MacLeod 19', 'CLAGN')\n",
      "/tmp/ipykernel_3141/2260488855.py:8: SettingWithCopyWarning: \n",
      "A value is trying to be set on a copy of a slice from a DataFrame.\n",
      "Try using .loc[row_indexer,col_indexer] = value instead\n",
      "\n",
      "See the caveats in the documentation: https://pandas.pydata.org/pandas-docs/stable/user_guide/indexing.html#returning-a-view-versus-a-copy\n",
      "  df_lc['label'] = df_lc.label.str.replace('Green 22', 'CLAGN')\n",
      "/tmp/ipykernel_3141/2260488855.py:9: SettingWithCopyWarning: \n",
      "A value is trying to be set on a copy of a slice from a DataFrame.\n",
      "Try using .loc[row_indexer,col_indexer] = value instead\n",
      "\n",
      "See the caveats in the documentation: https://pandas.pydata.org/pandas-docs/stable/user_guide/indexing.html#returning-a-view-versus-a-copy\n",
      "  df_lc['label'] = df_lc.label.str.replace('Lopez-Navas 22', 'CLAGN')\n"
     ]
    }
   ],
   "source": [
    "\n",
    "df_lc['label'] = df_lc.label.str.replace('MacLeod 16', 'CLAGN')\n",
    "df_lc['label'] = df_lc.label.str.replace('LaMassa 15', 'CLAGN')\n",
    "df_lc['label'] = df_lc.label.str.replace('Yang 18', 'CLAGN')\n",
    "df_lc['label'] = df_lc.label.str.replace('Lyu 21', 'CLAGN')\n",
    "df_lc['label'] = df_lc.label.str.replace('Hon 22', 'CLAGN')\n",
    "df_lc['label'] = df_lc.label.str.replace('Sheng 20', 'CLAGN')\n",
    "df_lc['label'] = df_lc.label.str.replace('MacLeod 19', 'CLAGN')\n",
    "df_lc['label'] = df_lc.label.str.replace('Green 22', 'CLAGN')\n",
    "df_lc['label'] = df_lc.label.str.replace('Lopez-Navas 22', 'CLAGN')\n",
    "\n"
   ]
  },
  {
   "cell_type": "markdown",
   "metadata": {},
   "source": [
    "### 2.3 Remove some rows based on filtering out bad data"
   ]
  },
  {
   "cell_type": "code",
   "execution_count": 7,
   "metadata": {},
   "outputs": [],
   "source": [
    "#find and drop bad rows\n",
    "\n",
    "#one panstarrs z has a crazy err value of -999000, definitely don't want to include that one\n",
    "querystring = 'err < -100'\n",
    "df_lc = df_lc.drop(df_lc.query(querystring).index)\n",
    "\n",
    "#drop rows which have Nans\n",
    "df_lc.dropna(inplace = True, axis = 0)\n",
    "\n",
    "#drop ~8 rows with zero flux\n",
    "#We are going to define zero flux later to be missing data, but not sure what these are\n",
    "querystring = 'flux < 0.000001'\n",
    "df_lc = df_lc.drop(df_lc.query(querystring).index)\n",
    "\n"
   ]
  },
  {
   "cell_type": "code",
   "execution_count": 8,
   "metadata": {
    "scrolled": true,
    "tags": []
   },
   "outputs": [
    {
     "data": {
      "image/png": "[encoded data removed]",
      "text/plain": [
       "<Figure size 1200x1200 with 15 Axes>"
      ]
     },
     "metadata": {},
     "output_type": "display_data"
    }
   ],
   "source": [
    "#consider Removing all rows with Signal to noise ratios outside of a normal distribution\n",
    "#plot histograms to see what these distributions look like\n",
    "\n",
    "#keep track of how many rows this removes\n",
    "start_len = len(df_lc)\n",
    "\n",
    "#first need a Signal to noise ratio column\n",
    "df_lc[\"SNR\"] = df_lc.flux / df_lc.err\n",
    "\n",
    "#setup to collect the outlier thresholds\n",
    "threesigmaonmean= {}\n",
    "\n",
    "#create the figure and axes\n",
    "fig, axs = plt.subplots(5, 3, figsize = (12, 12))\n",
    "# unpack all the axes subplots\n",
    "axe = axs.ravel()\n",
    "\n",
    "#for each band\n",
    "for count, (bandname, singleband) in enumerate(df_lc.groupby(\"band\")):\n",
    "    clippedarr, lower, upper = sigmaclip(singleband.err, low = 5.0, high = 5.0)\n",
    "    threesigmaonmean[bandname] = upper\n",
    "    #plot distributions and print stddev\n",
    "    singleband.err.plot(kind = 'hist', bins = 30, subplots =True, ax = axe[count],label = bandname+' '+str(upper), legend=True)\n",
    "\n"
   ]
  },
  {
   "cell_type": "code",
   "execution_count": 9,
   "metadata": {},
   "outputs": [
    {
     "name": "stdout",
     "output_type": "stream",
     "text": [
      "band == 'Gaia bp' & err > 0.03680413067051562\n",
      "band == 'Gaia g' & err > 0.04041072005535409\n",
      "band == 'Gaia rp' & err > 0.07521469612449463\n",
      "band == 'panstarrs g' & err > 0.008729845343396481\n",
      "band == 'panstarrs i' & err > 0.013543987434729378\n",
      "band == 'panstarrs r' & err > 0.010861125012506079\n",
      "band == 'panstarrs y' & err > 0.03934346919938586\n",
      "band == 'panstarrs z' & err > 0.018967366353713537\n",
      "band == 'w1' & err > 0.021537439437715807\n",
      "band == 'w2' & err > 0.03948210549653064\n",
      "band == 'zg' & err > 0.02952216949929979\n",
      "band == 'zi' & err > 0.06652938090729178\n",
      "band == 'zr' & err > 0.05374484163046275\n"
     ]
    }
   ],
   "source": [
    "#3sigma looks by eye like a reasonable cut for all distributions\n",
    "#make it so\n",
    "for bandname, cut in threesigmaonmean.items():\n",
    "    querystring = f'band == {bandname!r} & err > {cut}'\n",
    "    print(querystring)\n",
    "    df_lc = df_lc.drop(df_lc.query(querystring).index)"
   ]
  },
  {
   "cell_type": "code",
   "execution_count": 10,
   "metadata": {},
   "outputs": [
    {
     "name": "stdout",
     "output_type": "stream",
     "text": [
      "This sigma clipping removed 0.02727432129071453% of the rows in df_lc\n"
     ]
    }
   ],
   "source": [
    "end_len = len(df_lc)\n",
    "fraction = (start_len - end_len) / start_len\n",
    "print(f\"This sigma clipping removed {fraction}% of the rows in df_lc\")"
   ]
  },
  {
   "cell_type": "markdown",
   "metadata": {},
   "source": [
    "### 2.4 What to do with missing data?\n",
    "Some objects do not have light curves in all bands, what do we do about that?  Some ML algorithms can handle mising data, but not all. \n",
    "\n",
    "Some objects have only a few datapoints.  Three data points is not a large enough for outlier rejection, so we will consider any array with fewer than 4 photometry points to be missing data.\n",
    "\n",
    "Decide to add light curves with zero flux and err values for the missing data.  SKtime does not like NaNs\n",
    "\n"
   ]
  },
  {
   "cell_type": "code",
   "execution_count": 11,
   "metadata": {},
   "outputs": [],
   "source": [
    "def make_zero_df(oid, band, label):\n",
    "    timelist = [55230,57054, 57247, 57977, 58707]  #making this up for now from some WISE times\n",
    "    dfsingle = pd.DataFrame(dict(flux=np.zeros(len(timelist)), err=np.zeros(len(timelist)), \n",
    "                                 time=timelist, objectid=np.repeat(oid, len(timelist)), \n",
    "                                 band=np.repeat(band, len(timelist)),label=np.repeat(label, len(timelist))))\n",
    "\n",
    "\n",
    "    return dfsingle\n"
   ]
  },
  {
   "cell_type": "code",
   "execution_count": 12,
   "metadata": {
    "scrolled": true,
    "tags": []
   },
   "outputs": [],
   "source": [
    "#what is the full set of unique band names?\n",
    "full_bandname = df_lc.band.unique()\n",
    "\n",
    "#for the case where there is no photometry in a band:\n",
    "#for each object in each band\n",
    "for oid , singleoid in df_lc.groupby(\"objectid\"):\n",
    "                                  \n",
    "    #this is the list of bandnames for that object                                \n",
    "    oid_bandname = singleoid.band.unique()\n",
    "    \n",
    "    #figure out which bands are missing\n",
    "    missing = list(set(full_bandname).difference(oid_bandname))\n",
    "    \n",
    "    #if it is not the complete list, ie some bandnames are missing:                            \n",
    "    if len(missing) > 0:\n",
    "    \n",
    "        #make new dataframe for this object with zero flux and err values\n",
    "        for m in range(len(missing)):\n",
    "            label = singleoid.label.unique()\n",
    "            dfsingle = make_zero_df(oid, missing[m], label)\n",
    "            \n",
    "            #now concatenate the single new df with df_lc\n",
    "            df_lc = pd.concat([df_lc, dfsingle])\n",
    "\n",
    "            \n",
    "#and now for the case that the band is there but has too few datapoints:\n",
    "thresh_too_few = 4\n",
    "for (band,oid) , singleband_oid in df_lc.groupby([\"band\", \"objectid\"]):\n",
    "    #if there are less than 4 photometry points\n",
    "    if len(singleband_oid.time) < thresh_too_few:\n",
    "        label = singleband_oid.label.unique()\n",
    "        dfsingle = make_zero_df(oid, band, label)\n",
    "        \n",
    "        #now concatenate the single new df with df_lc\n",
    "        df_lc = pd.concat([df_lc, dfsingle])\n"
   ]
  },
  {
   "cell_type": "markdown",
   "metadata": {},
   "source": [
    "### 2.5 Make a new time column with datetime data type \n",
    "We need the times in python [datetime](https://docs.python.org/3/library/datetime.html) format for the next section where we will make the light curves be of uniform length. \n",
    "\n",
    "Once the time column is in datetime format, make it the time index"
   ]
  },
  {
   "cell_type": "code",
   "execution_count": 13,
   "metadata": {},
   "outputs": [],
   "source": [
    "#need to convert df_lc time into datetime\n",
    "mjd = df_lc.time\n",
    "\n",
    "#convert to JD\n",
    "jd = mjd_to_jd(mjd)\n",
    "\n",
    "#convert to individual components\n",
    "t = Time(jd, format = 'jd' )\n",
    "\n",
    "#t.datetime is now an array of type datetime\n",
    "#make it a column in the dataframe\n",
    "df_lc['datetime'] = t.datetime\n",
    "\n"
   ]
  },
  {
   "cell_type": "markdown",
   "metadata": {},
   "source": [
    "### 2.5  Make all objects and bands have identical time arrays (uniform length and spacing)\n",
    "\n",
    "It is very hard to find time-domain ML algorithms which can handle non uniform length datasets. Therefore we make them uniform using Pandas [reindex](https://pandas.pydata.org/docs/reference/api/pandas.DataFrame.reindex.html) which fills in the uniform length arrays with values according to the method chosen by the user.  We implement a nearest neighbor to fill the arrays.  \n",
    "\n",
    "Fluxes with missing data are set to zero.  Zero was chosen instead of 'None' or 'Nan' as it was better integrated with the ML algorithms.  \n",
    "\n",
    "Potential other options for uniformizing the time series dataset:\n",
    "- pandas.dataframe.interpolate with many methods"
   ]
  },
  {
   "cell_type": "code",
   "execution_count": 14,
   "metadata": {},
   "outputs": [
    {
     "data": {
      "text/html": [
       "<div>\n",
       "<style scoped>\n",
       "    .dataframe tbody tr th:only-of-type {\n",
       "        vertical-align: middle;\n",
       "    }\n",
       "\n",
       "    .dataframe tbody tr th {\n",
       "        vertical-align: top;\n",
       "    }\n",
       "\n",
       "    .dataframe thead th {\n",
       "        text-align: right;\n",
       "    }\n",
       "</style>\n",
       "<table border=\"1\" class=\"dataframe\">\n",
       "  <thead>\n",
       "    <tr style=\"text-align: right;\">\n",
       "      <th></th>\n",
       "      <th>objectid</th>\n",
       "      <th>label</th>\n",
       "      <th>band</th>\n",
       "      <th>time</th>\n",
       "      <th>flux</th>\n",
       "      <th>err</th>\n",
       "      <th>SNR</th>\n",
       "      <th>datetime</th>\n",
       "    </tr>\n",
       "  </thead>\n",
       "  <tbody>\n",
       "    <tr>\n",
       "      <th>1379</th>\n",
       "      <td>92</td>\n",
       "      <td>CLAGN</td>\n",
       "      <td>zg</td>\n",
       "      <td>58202.309236</td>\n",
       "      <td>0.736736</td>\n",
       "      <td>0.010347</td>\n",
       "      <td>71.205117</td>\n",
       "      <td>2018-03-25 07:25:17.999035</td>\n",
       "    </tr>\n",
       "    <tr>\n",
       "      <th>1380</th>\n",
       "      <td>92</td>\n",
       "      <td>CLAGN</td>\n",
       "      <td>zg</td>\n",
       "      <td>58202.314560</td>\n",
       "      <td>0.730595</td>\n",
       "      <td>0.010290</td>\n",
       "      <td>70.997201</td>\n",
       "      <td>2018-03-25 07:32:58.001288</td>\n",
       "    </tr>\n",
       "    <tr>\n",
       "      <th>1381</th>\n",
       "      <td>92</td>\n",
       "      <td>CLAGN</td>\n",
       "      <td>zg</td>\n",
       "      <td>58205.302651</td>\n",
       "      <td>0.658396</td>\n",
       "      <td>0.009634</td>\n",
       "      <td>68.338054</td>\n",
       "      <td>2018-03-28 07:15:49.003208</td>\n",
       "    </tr>\n",
       "    <tr>\n",
       "      <th>1382</th>\n",
       "      <td>92</td>\n",
       "      <td>CLAGN</td>\n",
       "      <td>zg</td>\n",
       "      <td>58205.320949</td>\n",
       "      <td>0.681111</td>\n",
       "      <td>0.009840</td>\n",
       "      <td>69.219502</td>\n",
       "      <td>2018-03-28 07:42:10.002236</td>\n",
       "    </tr>\n",
       "    <tr>\n",
       "      <th>1383</th>\n",
       "      <td>92</td>\n",
       "      <td>CLAGN</td>\n",
       "      <td>zg</td>\n",
       "      <td>58208.357257</td>\n",
       "      <td>0.589205</td>\n",
       "      <td>0.009014</td>\n",
       "      <td>65.364659</td>\n",
       "      <td>2018-03-31 08:34:26.996165</td>\n",
       "    </tr>\n",
       "    <tr>\n",
       "      <th>...</th>\n",
       "      <td>...</td>\n",
       "      <td>...</td>\n",
       "      <td>...</td>\n",
       "      <td>...</td>\n",
       "      <td>...</td>\n",
       "      <td>...</td>\n",
       "      <td>...</td>\n",
       "      <td>...</td>\n",
       "    </tr>\n",
       "    <tr>\n",
       "      <th>0</th>\n",
       "      <td>250</td>\n",
       "      <td>SDSS</td>\n",
       "      <td>zr</td>\n",
       "      <td>55230.000000</td>\n",
       "      <td>0.000000</td>\n",
       "      <td>0.000000</td>\n",
       "      <td>NaN</td>\n",
       "      <td>2010-02-03 00:00:00.000000</td>\n",
       "    </tr>\n",
       "    <tr>\n",
       "      <th>1</th>\n",
       "      <td>250</td>\n",
       "      <td>SDSS</td>\n",
       "      <td>zr</td>\n",
       "      <td>57054.000000</td>\n",
       "      <td>0.000000</td>\n",
       "      <td>0.000000</td>\n",
       "      <td>NaN</td>\n",
       "      <td>2015-02-01 00:00:00.000000</td>\n",
       "    </tr>\n",
       "    <tr>\n",
       "      <th>2</th>\n",
       "      <td>250</td>\n",
       "      <td>SDSS</td>\n",
       "      <td>zr</td>\n",
       "      <td>57247.000000</td>\n",
       "      <td>0.000000</td>\n",
       "      <td>0.000000</td>\n",
       "      <td>NaN</td>\n",
       "      <td>2015-08-13 00:00:00.000000</td>\n",
       "    </tr>\n",
       "    <tr>\n",
       "      <th>3</th>\n",
       "      <td>250</td>\n",
       "      <td>SDSS</td>\n",
       "      <td>zr</td>\n",
       "      <td>57977.000000</td>\n",
       "      <td>0.000000</td>\n",
       "      <td>0.000000</td>\n",
       "      <td>NaN</td>\n",
       "      <td>2017-08-12 00:00:00.000000</td>\n",
       "    </tr>\n",
       "    <tr>\n",
       "      <th>4</th>\n",
       "      <td>250</td>\n",
       "      <td>SDSS</td>\n",
       "      <td>zr</td>\n",
       "      <td>58707.000000</td>\n",
       "      <td>0.000000</td>\n",
       "      <td>0.000000</td>\n",
       "      <td>NaN</td>\n",
       "      <td>2019-08-12 00:00:00.000000</td>\n",
       "    </tr>\n",
       "  </tbody>\n",
       "</table>\n",
       "<p>402144 rows × 8 columns</p>\n",
       "</div>"
      ],
      "text/plain": [
       "      objectid  label band          time      flux       err        SNR  \\\n",
       "1379        92  CLAGN   zg  58202.309236  0.736736  0.010347  71.205117   \n",
       "1380        92  CLAGN   zg  58202.314560  0.730595  0.010290  70.997201   \n",
       "1381        92  CLAGN   zg  58205.302651  0.658396  0.009634  68.338054   \n",
       "1382        92  CLAGN   zg  58205.320949  0.681111  0.009840  69.219502   \n",
       "1383        92  CLAGN   zg  58208.357257  0.589205  0.009014  65.364659   \n",
       "...        ...    ...  ...           ...       ...       ...        ...   \n",
       "0          250   SDSS   zr  55230.000000  0.000000  0.000000        NaN   \n",
       "1          250   SDSS   zr  57054.000000  0.000000  0.000000        NaN   \n",
       "2          250   SDSS   zr  57247.000000  0.000000  0.000000        NaN   \n",
       "3          250   SDSS   zr  57977.000000  0.000000  0.000000        NaN   \n",
       "4          250   SDSS   zr  58707.000000  0.000000  0.000000        NaN   \n",
       "\n",
       "                       datetime  \n",
       "1379 2018-03-25 07:25:17.999035  \n",
       "1380 2018-03-25 07:32:58.001288  \n",
       "1381 2018-03-28 07:15:49.003208  \n",
       "1382 2018-03-28 07:42:10.002236  \n",
       "1383 2018-03-31 08:34:26.996165  \n",
       "...                         ...  \n",
       "0    2010-02-03 00:00:00.000000  \n",
       "1    2015-02-01 00:00:00.000000  \n",
       "2    2015-08-13 00:00:00.000000  \n",
       "3    2017-08-12 00:00:00.000000  \n",
       "4    2019-08-12 00:00:00.000000  \n",
       "\n",
       "[402144 rows x 8 columns]"
      ]
     },
     "execution_count": 14,
     "metadata": {},
     "output_type": "execute_result"
    }
   ],
   "source": [
    "df_lc"
   ]
  },
  {
   "cell_type": "code",
   "execution_count": 23,
   "metadata": {
    "scrolled": true,
    "tags": []
   },
   "outputs": [
    {
     "name": "stdout",
     "output_type": "stream",
     "text": [
      "CPU times: user 1min 43s, sys: 756 ms, total: 1min 44s\n",
      "Wall time: 11.8 s\n"
     ]
    },
    {
     "data": {
      "image/png": "[encoded data removed]",
      "text/plain": [
       "<Figure size 640x480 with 1 Axes>"
      ]
     },
     "metadata": {},
     "output_type": "display_data"
    }
   ],
   "source": [
    "%%time\n",
    "#try a sklearn regressor to fit the shape of the light curve and do interpolation\n",
    "#make a time array with the minimum and maximum of all light curves in the sample\n",
    "final_freq_int = 30  #this is the timescale of interpolation\n",
    "x_interpol = np.arange(df_lc.time.min(), df_lc.time.max(), final_freq_int)\n",
    "x_interpol = x_interpol.reshape(-1, 1) # needed for sklearn\n",
    "lc_interpol = []  # list to store interpolated light curves\n",
    "\n",
    "#look at each object in each band\n",
    "for (band,oid) , singleband_oid in df_lc.groupby([\"band\", \"objectid\"]):\n",
    "    #singleband_oid is now a dataframe with just one object and one band\n",
    "    \n",
    "    X = np.array(singleband_oid[\"time\"]).reshape(-1, 1)\n",
    "    y = np.array(singleband_oid[\"flux\"])\n",
    "    dy = np.array(singleband_oid[\"err\"])\n",
    "    \n",
    "    #kernel = 1.0 * RBF(length_scale=30)\n",
    "    #gp = GaussianProcessRegressor(kernel=kernel, alpha=dy**2, normalize_y = False)\n",
    "    #gp.fit(X, y)\n",
    "    #mean_prediction,std_prediction = gp.predict(x_interpol, return_std=True)\n",
    "\n",
    "    #try KNN\n",
    "    KNN = KNeighborsRegressor(n_neighbors = 3)\n",
    "    KNN.fit(X, y)\n",
    "    mean_prediction = KNN.predict(x_interpol)\n",
    "        \n",
    "    #KNN doesnt output an uncertainty array, so make our own:\n",
    "    #an array of the same length as mean_prediction\n",
    "    #having values equal to the mean of the original uncertainty array\n",
    "    err = np.full_like(mean_prediction, singleband_oid.err.mean())  \n",
    "    \n",
    "    #get these values into the dataframe\n",
    "    # append the results as a dict. the list will be converted to a dataframe later.\n",
    "    lc_interpol.append(\n",
    "        {\"objectid\": oid, \"label\": singleband_oid.label.unique().squeeze(), \"band\": band, \"time\": x_interpol.reshape(-1), \n",
    "         \"flux\": mean_prediction, \"err\": err}\n",
    "    )\n",
    "    \n",
    "        \n",
    "    #se what this looks like on just a single light curve for now\n",
    "    if (band == 'zr') and (oid == 9) :  \n",
    "        #see if this looks reasonable\n",
    "        plt.errorbar(X,y,dy,linestyle=\"None\",color=\"tab:blue\",marker=\".\")\n",
    "        plt.plot(x_interpol, mean_prediction, label=\"Mean prediction\")\n",
    "        #plt.fill_between(\n",
    "        #    x_interpol.ravel(),\n",
    "        #    mean_prediction - 1.96 * std_prediction,\n",
    "        #    mean_prediction + 1.96 * std_prediction,\n",
    "        #    color=\"tab:orange\",\n",
    "        #    alpha=0.5,\n",
    "        #    label=r\"95% confidence interval\",\n",
    "        #)\n",
    "        plt.legend()\n",
    "        plt.xlabel(\"time\")\n",
    "        plt.ylabel(\"flux\")\n",
    "        _ = plt.title(\"KNN regression\")\n",
    "        \n",
    "        \n",
    "# create a dataframe of the interpolated light curves\n",
    "df_lc_interpol = pd.DataFrame(lc_interpol)\n",
    "# df_lc_interpol has one row per dict in lc_interpol. time and flux columns store arrays.\n",
    "# \"explode\" the dataframe to get one row per light curve point. time and flux columns will now store floats.\n",
    "df_lc_interpol = df_lc_interpol.explode([\"time\", \"flux\",\"err\"], ignore_index=True)"
   ]
  },
  {
   "cell_type": "code",
   "execution_count": 24,
   "metadata": {},
   "outputs": [
    {
     "data": {
      "text/html": [
       "<div>\n",
       "<style scoped>\n",
       "    .dataframe tbody tr th:only-of-type {\n",
       "        vertical-align: middle;\n",
       "    }\n",
       "\n",
       "    .dataframe tbody tr th {\n",
       "        vertical-align: top;\n",
       "    }\n",
       "\n",
       "    .dataframe thead th {\n",
       "        text-align: right;\n",
       "    }\n",
       "</style>\n",
       "<table border=\"1\" class=\"dataframe\">\n",
       "  <thead>\n",
       "    <tr style=\"text-align: right;\">\n",
       "      <th></th>\n",
       "      <th>objectid</th>\n",
       "      <th>label</th>\n",
       "      <th>band</th>\n",
       "      <th>time</th>\n",
       "      <th>flux</th>\n",
       "      <th>err</th>\n",
       "    </tr>\n",
       "  </thead>\n",
       "  <tbody>\n",
       "    <tr>\n",
       "      <th>0</th>\n",
       "      <td>0</td>\n",
       "      <td>CLAGN</td>\n",
       "      <td>Gaia bp</td>\n",
       "      <td>54985.275796</td>\n",
       "      <td>0.0</td>\n",
       "      <td>0.000668</td>\n",
       "    </tr>\n",
       "    <tr>\n",
       "      <th>1</th>\n",
       "      <td>0</td>\n",
       "      <td>CLAGN</td>\n",
       "      <td>Gaia bp</td>\n",
       "      <td>55015.275796</td>\n",
       "      <td>0.0</td>\n",
       "      <td>0.000668</td>\n",
       "    </tr>\n",
       "    <tr>\n",
       "      <th>2</th>\n",
       "      <td>0</td>\n",
       "      <td>CLAGN</td>\n",
       "      <td>Gaia bp</td>\n",
       "      <td>55045.275796</td>\n",
       "      <td>0.0</td>\n",
       "      <td>0.000668</td>\n",
       "    </tr>\n",
       "    <tr>\n",
       "      <th>3</th>\n",
       "      <td>0</td>\n",
       "      <td>CLAGN</td>\n",
       "      <td>Gaia bp</td>\n",
       "      <td>55075.275796</td>\n",
       "      <td>0.0</td>\n",
       "      <td>0.000668</td>\n",
       "    </tr>\n",
       "    <tr>\n",
       "      <th>4</th>\n",
       "      <td>0</td>\n",
       "      <td>CLAGN</td>\n",
       "      <td>Gaia bp</td>\n",
       "      <td>55105.275796</td>\n",
       "      <td>0.0</td>\n",
       "      <td>0.000668</td>\n",
       "    </tr>\n",
       "    <tr>\n",
       "      <th>...</th>\n",
       "      <td>...</td>\n",
       "      <td>...</td>\n",
       "      <td>...</td>\n",
       "      <td>...</td>\n",
       "      <td>...</td>\n",
       "      <td>...</td>\n",
       "    </tr>\n",
       "    <tr>\n",
       "      <th>982795</th>\n",
       "      <td>457</td>\n",
       "      <td>SDSS</td>\n",
       "      <td>zr</td>\n",
       "      <td>59875.275796</td>\n",
       "      <td>0.830931</td>\n",
       "      <td>0.013213</td>\n",
       "    </tr>\n",
       "    <tr>\n",
       "      <th>982796</th>\n",
       "      <td>457</td>\n",
       "      <td>SDSS</td>\n",
       "      <td>zr</td>\n",
       "      <td>59905.275796</td>\n",
       "      <td>0.830027</td>\n",
       "      <td>0.013213</td>\n",
       "    </tr>\n",
       "    <tr>\n",
       "      <th>982797</th>\n",
       "      <td>457</td>\n",
       "      <td>SDSS</td>\n",
       "      <td>zr</td>\n",
       "      <td>59935.275796</td>\n",
       "      <td>0.741216</td>\n",
       "      <td>0.013213</td>\n",
       "    </tr>\n",
       "    <tr>\n",
       "      <th>982798</th>\n",
       "      <td>457</td>\n",
       "      <td>SDSS</td>\n",
       "      <td>zr</td>\n",
       "      <td>59965.275796</td>\n",
       "      <td>0.813474</td>\n",
       "      <td>0.013213</td>\n",
       "    </tr>\n",
       "    <tr>\n",
       "      <th>982799</th>\n",
       "      <td>457</td>\n",
       "      <td>SDSS</td>\n",
       "      <td>zr</td>\n",
       "      <td>59995.275796</td>\n",
       "      <td>0.766961</td>\n",
       "      <td>0.013213</td>\n",
       "    </tr>\n",
       "  </tbody>\n",
       "</table>\n",
       "<p>982800 rows × 6 columns</p>\n",
       "</div>"
      ],
      "text/plain": [
       "        objectid  label     band          time      flux       err\n",
       "0              0  CLAGN  Gaia bp  54985.275796       0.0  0.000668\n",
       "1              0  CLAGN  Gaia bp  55015.275796       0.0  0.000668\n",
       "2              0  CLAGN  Gaia bp  55045.275796       0.0  0.000668\n",
       "3              0  CLAGN  Gaia bp  55075.275796       0.0  0.000668\n",
       "4              0  CLAGN  Gaia bp  55105.275796       0.0  0.000668\n",
       "...          ...    ...      ...           ...       ...       ...\n",
       "982795       457   SDSS       zr  59875.275796  0.830931  0.013213\n",
       "982796       457   SDSS       zr  59905.275796  0.830027  0.013213\n",
       "982797       457   SDSS       zr  59935.275796  0.741216  0.013213\n",
       "982798       457   SDSS       zr  59965.275796  0.813474  0.013213\n",
       "982799       457   SDSS       zr  59995.275796  0.766961  0.013213\n",
       "\n",
       "[982800 rows x 6 columns]"
      ]
     },
     "execution_count": 24,
     "metadata": {},
     "output_type": "execute_result"
    }
   ],
   "source": [
    "df_lc_interpol"
   ]
  },
  {
   "cell_type": "code",
   "execution_count": 25,
   "metadata": {},
   "outputs": [],
   "source": [
    "#need to consider naming scheme better\n",
    "df_reindex = df_lc_interpol"
   ]
  },
  {
   "cell_type": "markdown",
   "metadata": {},
   "source": [
    "### 2.6  Restructure dataframe in format expected by sktime\n",
    "- Make columns have band names in them and then remove band from the index\n",
    "- pivot the dataframe so that SKTIME understands its format"
   ]
  },
  {
   "cell_type": "code",
   "execution_count": 26,
   "metadata": {},
   "outputs": [
    {
     "ename": "KeyError",
     "evalue": "'Requested level (band) does not match index name (None)'",
     "output_type": "error",
     "traceback": [
      "\u001b[0;31m---------------------------------------------------------------------------\u001b[0m",
      "\u001b[0;31mKeyError\u001b[0m                                  Traceback (most recent call last)",
      "Cell \u001b[0;32mIn[26], line 1\u001b[0m\n\u001b[0;32m----> 1\u001b[0m pivoted_df_reindex \u001b[38;5;241m=\u001b[39m \u001b[43mdf_reindex\u001b[49m\u001b[38;5;241;43m.\u001b[39;49m\u001b[43mreset_index\u001b[49m\u001b[43m(\u001b[49m\u001b[43mlevel\u001b[49m\u001b[38;5;241;43m=\u001b[39;49m\u001b[38;5;124;43m\"\u001b[39;49m\u001b[38;5;124;43mband\u001b[39;49m\u001b[38;5;124;43m\"\u001b[39;49m\u001b[43m)\u001b[49m\u001b[38;5;241m.\u001b[39mpivot(columns\u001b[38;5;241m=\u001b[39m\u001b[38;5;124m\"\u001b[39m\u001b[38;5;124mband\u001b[39m\u001b[38;5;124m\"\u001b[39m)\n\u001b[1;32m      2\u001b[0m pivoted_df_reindex\u001b[38;5;241m.\u001b[39mcolumns \u001b[38;5;241m=\u001b[39m [\u001b[38;5;124m\"\u001b[39m\u001b[38;5;124m_\u001b[39m\u001b[38;5;124m\"\u001b[39m\u001b[38;5;241m.\u001b[39mjoin(col) \u001b[38;5;28;01mfor\u001b[39;00m col \u001b[38;5;129;01min\u001b[39;00m pivoted_df_reindex\u001b[38;5;241m.\u001b[39mcolumns\u001b[38;5;241m.\u001b[39mvalues]\n",
      "File \u001b[0;32m/opt/conda/lib/python3.10/site-packages/pandas/util/_decorators.py:331\u001b[0m, in \u001b[0;36mdeprecate_nonkeyword_arguments.<locals>.decorate.<locals>.wrapper\u001b[0;34m(*args, **kwargs)\u001b[0m\n\u001b[1;32m    325\u001b[0m \u001b[38;5;28;01mif\u001b[39;00m \u001b[38;5;28mlen\u001b[39m(args) \u001b[38;5;241m>\u001b[39m num_allow_args:\n\u001b[1;32m    326\u001b[0m     warnings\u001b[38;5;241m.\u001b[39mwarn(\n\u001b[1;32m    327\u001b[0m         msg\u001b[38;5;241m.\u001b[39mformat(arguments\u001b[38;5;241m=\u001b[39m_format_argument_list(allow_args)),\n\u001b[1;32m    328\u001b[0m         \u001b[38;5;167;01mFutureWarning\u001b[39;00m,\n\u001b[1;32m    329\u001b[0m         stacklevel\u001b[38;5;241m=\u001b[39mfind_stack_level(),\n\u001b[1;32m    330\u001b[0m     )\n\u001b[0;32m--> 331\u001b[0m \u001b[38;5;28;01mreturn\u001b[39;00m \u001b[43mfunc\u001b[49m\u001b[43m(\u001b[49m\u001b[38;5;241;43m*\u001b[39;49m\u001b[43margs\u001b[49m\u001b[43m,\u001b[49m\u001b[43m \u001b[49m\u001b[38;5;241;43m*\u001b[39;49m\u001b[38;5;241;43m*\u001b[39;49m\u001b[43mkwargs\u001b[49m\u001b[43m)\u001b[49m\n",
      "File \u001b[0;32m/opt/conda/lib/python3.10/site-packages/pandas/core/frame.py:6314\u001b[0m, in \u001b[0;36mDataFrame.reset_index\u001b[0;34m(self, level, drop, inplace, col_level, col_fill, allow_duplicates, names)\u001b[0m\n\u001b[1;32m   6312\u001b[0m \u001b[38;5;28;01mif\u001b[39;00m \u001b[38;5;129;01mnot\u001b[39;00m \u001b[38;5;28misinstance\u001b[39m(level, (\u001b[38;5;28mtuple\u001b[39m, \u001b[38;5;28mlist\u001b[39m)):\n\u001b[1;32m   6313\u001b[0m     level \u001b[38;5;241m=\u001b[39m [level]\n\u001b[0;32m-> 6314\u001b[0m level \u001b[38;5;241m=\u001b[39m [\u001b[38;5;28mself\u001b[39m\u001b[38;5;241m.\u001b[39mindex\u001b[38;5;241m.\u001b[39m_get_level_number(lev) \u001b[38;5;28;01mfor\u001b[39;00m lev \u001b[38;5;129;01min\u001b[39;00m level]\n\u001b[1;32m   6315\u001b[0m \u001b[38;5;28;01mif\u001b[39;00m \u001b[38;5;28mlen\u001b[39m(level) \u001b[38;5;241m<\u001b[39m \u001b[38;5;28mself\u001b[39m\u001b[38;5;241m.\u001b[39mindex\u001b[38;5;241m.\u001b[39mnlevels:\n\u001b[1;32m   6316\u001b[0m     new_index \u001b[38;5;241m=\u001b[39m \u001b[38;5;28mself\u001b[39m\u001b[38;5;241m.\u001b[39mindex\u001b[38;5;241m.\u001b[39mdroplevel(level)\n",
      "File \u001b[0;32m/opt/conda/lib/python3.10/site-packages/pandas/core/frame.py:6314\u001b[0m, in \u001b[0;36m<listcomp>\u001b[0;34m(.0)\u001b[0m\n\u001b[1;32m   6312\u001b[0m \u001b[38;5;28;01mif\u001b[39;00m \u001b[38;5;129;01mnot\u001b[39;00m \u001b[38;5;28misinstance\u001b[39m(level, (\u001b[38;5;28mtuple\u001b[39m, \u001b[38;5;28mlist\u001b[39m)):\n\u001b[1;32m   6313\u001b[0m     level \u001b[38;5;241m=\u001b[39m [level]\n\u001b[0;32m-> 6314\u001b[0m level \u001b[38;5;241m=\u001b[39m [\u001b[38;5;28;43mself\u001b[39;49m\u001b[38;5;241;43m.\u001b[39;49m\u001b[43mindex\u001b[49m\u001b[38;5;241;43m.\u001b[39;49m\u001b[43m_get_level_number\u001b[49m\u001b[43m(\u001b[49m\u001b[43mlev\u001b[49m\u001b[43m)\u001b[49m \u001b[38;5;28;01mfor\u001b[39;00m lev \u001b[38;5;129;01min\u001b[39;00m level]\n\u001b[1;32m   6315\u001b[0m \u001b[38;5;28;01mif\u001b[39;00m \u001b[38;5;28mlen\u001b[39m(level) \u001b[38;5;241m<\u001b[39m \u001b[38;5;28mself\u001b[39m\u001b[38;5;241m.\u001b[39mindex\u001b[38;5;241m.\u001b[39mnlevels:\n\u001b[1;32m   6316\u001b[0m     new_index \u001b[38;5;241m=\u001b[39m \u001b[38;5;28mself\u001b[39m\u001b[38;5;241m.\u001b[39mindex\u001b[38;5;241m.\u001b[39mdroplevel(level)\n",
      "File \u001b[0;32m/opt/conda/lib/python3.10/site-packages/pandas/core/indexes/base.py:2055\u001b[0m, in \u001b[0;36mIndex._get_level_number\u001b[0;34m(self, level)\u001b[0m\n\u001b[1;32m   2054\u001b[0m \u001b[38;5;28;01mdef\u001b[39;00m \u001b[38;5;21m_get_level_number\u001b[39m(\u001b[38;5;28mself\u001b[39m, level) \u001b[38;5;241m-\u001b[39m\u001b[38;5;241m>\u001b[39m \u001b[38;5;28mint\u001b[39m:\n\u001b[0;32m-> 2055\u001b[0m     \u001b[38;5;28;43mself\u001b[39;49m\u001b[38;5;241;43m.\u001b[39;49m\u001b[43m_validate_index_level\u001b[49m\u001b[43m(\u001b[49m\u001b[43mlevel\u001b[49m\u001b[43m)\u001b[49m\n\u001b[1;32m   2056\u001b[0m     \u001b[38;5;28;01mreturn\u001b[39;00m \u001b[38;5;241m0\u001b[39m\n",
      "File \u001b[0;32m/opt/conda/lib/python3.10/site-packages/pandas/core/indexes/base.py:2050\u001b[0m, in \u001b[0;36mIndex._validate_index_level\u001b[0;34m(self, level)\u001b[0m\n\u001b[1;32m   2046\u001b[0m         \u001b[38;5;28;01mraise\u001b[39;00m \u001b[38;5;167;01mIndexError\u001b[39;00m(\n\u001b[1;32m   2047\u001b[0m             \u001b[38;5;124mf\u001b[39m\u001b[38;5;124m\"\u001b[39m\u001b[38;5;124mToo many levels: Index has only 1 level, not \u001b[39m\u001b[38;5;132;01m{\u001b[39;00mlevel \u001b[38;5;241m+\u001b[39m \u001b[38;5;241m1\u001b[39m\u001b[38;5;132;01m}\u001b[39;00m\u001b[38;5;124m\"\u001b[39m\n\u001b[1;32m   2048\u001b[0m         )\n\u001b[1;32m   2049\u001b[0m \u001b[38;5;28;01melif\u001b[39;00m level \u001b[38;5;241m!=\u001b[39m \u001b[38;5;28mself\u001b[39m\u001b[38;5;241m.\u001b[39mname:\n\u001b[0;32m-> 2050\u001b[0m     \u001b[38;5;28;01mraise\u001b[39;00m \u001b[38;5;167;01mKeyError\u001b[39;00m(\n\u001b[1;32m   2051\u001b[0m         \u001b[38;5;124mf\u001b[39m\u001b[38;5;124m\"\u001b[39m\u001b[38;5;124mRequested level (\u001b[39m\u001b[38;5;132;01m{\u001b[39;00mlevel\u001b[38;5;132;01m}\u001b[39;00m\u001b[38;5;124m) does not match index name (\u001b[39m\u001b[38;5;132;01m{\u001b[39;00m\u001b[38;5;28mself\u001b[39m\u001b[38;5;241m.\u001b[39mname\u001b[38;5;132;01m}\u001b[39;00m\u001b[38;5;124m)\u001b[39m\u001b[38;5;124m\"\u001b[39m\n\u001b[1;32m   2052\u001b[0m     )\n",
      "\u001b[0;31mKeyError\u001b[0m: 'Requested level (band) does not match index name (None)'"
     ]
    }
   ],
   "source": [
    "pivoted_df_reindex = df_reindex.reset_index(level=\"band\").pivot(columns=\"band\")\n",
    "pivoted_df_reindex.columns = [\"_\".join(col) for col in pivoted_df_reindex.columns.values]"
   ]
  },
  {
   "cell_type": "raw",
   "metadata": {},
   "source": [
    "#proove this did what I wanted it to do\n",
    "pd.set_option('display.max_rows', None)\n",
    "display(pivoted_df_reindex.loc[4,:,:,:])\n",
    "pd.reset_option('all')"
   ]
  },
  {
   "cell_type": "code",
   "execution_count": null,
   "metadata": {},
   "outputs": [],
   "source": [
    "pivoted_df_reindex"
   ]
  },
  {
   "cell_type": "markdown",
   "metadata": {},
   "source": [
    "### 2.7 Normalize to the mean of each objectid\n",
    "- this is normalizing across all bands\n",
    "- think this is the right place to do this, rather than before we reindex over time \n",
    "    so that the final light curves are normalized since that is the chunk of information \n",
    "    which goes into the ML algorithms.\n",
    "- chose max and not median or mean because there are some objects where the median flux = 0.0\n",
    "    - if we did this before the reindexing, the median might be a non-zero value\n",
    "- normalizing is required so that the CLAGN and it's comparison SDSS sample don't have different flux levels.\n",
    "\n",
    "\n",
    "Idea here is that we normalize across each object.  So the algorithms will know for example that within one object W1 will be brighter than ZTF bands but from one object to the next, it will not know that one is brighter than the other."
   ]
  },
  {
   "cell_type": "code",
   "execution_count": null,
   "metadata": {},
   "outputs": [],
   "source": [
    "# make a new column with max_r_flux for each objectid\n",
    "pivoted_df_reindex['max_zr'] = pivoted_df_reindex.groupby('objectid', sort=False)[\"flux_zr\"].transform('max')\n",
    "\n",
    "#figure out which columns in the dataframe are flux columns\n",
    "flux_cols = [col for col in pivoted_df_reindex.columns if 'flux' in col]\n",
    "\n",
    "# make new normalized flux columns for all fluxes\n",
    "pivoted_df_reinde[flux_cols] = pivoted_df_reindex[flux_cols].div(pivoted_df_reinde['max_zr'], axis=0)"
   ]
  },
  {
   "cell_type": "markdown",
   "metadata": {},
   "source": [
    "### 2.8 Save this dataframe"
   ]
  },
  {
   "cell_type": "code",
   "execution_count": null,
   "metadata": {},
   "outputs": [],
   "source": [
    "#save this dataframe to use for the ML below so we don't have to make it every time\n",
    "parquet_savename = 'output/df_ML_091523.parquet'\n",
    "pivoted_df_reindex.to_parquet(parquet_savename)\n",
    "#print(\"file saved!\")"
   ]
  },
  {
   "cell_type": "code",
   "execution_count": null,
   "metadata": {},
   "outputs": [],
   "source": [
    "# could load a previously saved file in order to plot\n",
    "#parquet_loadname = 'output/df_ML_091523.parquet'\n",
    "#pivoted_df_reindex = MultiIndexDFObject()\n",
    "#pivoted_df_reindex.data = pd.read_parquet(parquet_loadname)\n",
    "#print(\"file loaded!\")"
   ]
  },
  {
   "cell_type": "markdown",
   "metadata": {},
   "source": [
    "## 3. Prep for ML algorithms in sktime\n",
    "\n"
   ]
  },
  {
   "cell_type": "markdown",
   "metadata": {},
   "source": [
    "### 3.0 Consider data augmentation\n",
    "\n",
    "1. https://arxiv.org/pdf/1811.08295.pdf which has the following github\n",
    "\n",
    "    - https://github.com/gioramponi/GAN_Time_Series/tree/master\n",
    "    - not easily usable\n",
    "2. https://arxiv.org/pdf/2205.06758.pdf\n",
    "\n",
    "3. ChatGPT - give multiindex df function and it will give a starting point for augmenting\n",
    "\n",
    "\n",
    "Worried that augmenting noisy data just makes more noise\n"
   ]
  },
  {
   "cell_type": "markdown",
   "metadata": {},
   "source": [
    "### 3.1 Train test split \n",
    "- Because thre are uneven numbers of each type (many more SDSS than CLAGN), we want to make sure to stratify evenly by type\n",
    "- Random split\n"
   ]
  },
  {
   "cell_type": "code",
   "execution_count": null,
   "metadata": {},
   "outputs": [],
   "source": [
    "#y is defined to be the labels\n",
    "y = pivoted_df_reindex.droplevel('datetime').index.unique().get_level_values('label').to_series()\n",
    "\n",
    "#want a stratified split based on label\n",
    "train_ix, test_ix = train_test_split(pivoted_df_reindex.index.levels[0], stratify = y, shuffle = True, random_state = 43, test_size = 0.25)\n",
    "\n",
    "train_df = pivoted_df_reindex.loc[train_ix]  \n",
    "test_df = pivoted_df_reindex.loc[test_ix]   \n"
   ]
  },
  {
   "cell_type": "code",
   "execution_count": null,
   "metadata": {},
   "outputs": [],
   "source": [
    "#what does it look like?\n",
    "train_df"
   ]
  },
  {
   "cell_type": "code",
   "execution_count": null,
   "metadata": {},
   "outputs": [],
   "source": [
    "#plot to show how many of each type of object in the test dataset\n",
    "\n",
    "plt.figure(figsize=(6,4))\n",
    "plt.title(\"Objects in the Test dataset\")\n",
    "h = plt.hist(test_df.droplevel('datetime').index.unique().get_level_values('label').to_series(),histtype='stepfilled',orientation='horizontal')\n"
   ]
  },
  {
   "cell_type": "markdown",
   "metadata": {},
   "source": [
    "### 3.2 Convert df_lc into X and y"
   ]
  },
  {
   "cell_type": "code",
   "execution_count": null,
   "metadata": {},
   "outputs": [],
   "source": [
    "#divide the dataframe into X and y for ML algorithms \n",
    "\n",
    "#X is the multiindex light curve without the labels\n",
    "X_train  = train_df.droplevel('label')\n",
    "X_test = test_df.droplevel('label')\n",
    "\n",
    "#y are the labels, should be a series \n",
    "y_train = train_df.droplevel('datetime').index.unique().get_level_values('label').to_series()\n",
    "y_test = test_df.droplevel('datetime').index.unique().get_level_values('label').to_series()\n",
    "\n"
   ]
  },
  {
   "cell_type": "markdown",
   "metadata": {},
   "source": [
    "### 3.3 Check that the data types are ok for sktime"
   ]
  },
  {
   "cell_type": "code",
   "execution_count": null,
   "metadata": {},
   "outputs": [],
   "source": [
    "#ask sktime if it likes the data type of X\n",
    "from sktime.datatypes import check_is_mtype\n",
    "\n",
    "check_is_mtype(X_train, mtype=\"pd-multiindex\", scitype=\"Panel\", return_metadata=True)\n",
    "#check_is_mtype(X_test, mtype=\"pd-multiindex\", scitype=\"Panel\", return_metadata=True)"
   ]
  },
  {
   "cell_type": "markdown",
   "metadata": {},
   "source": [
    "## 4. Run Machine Learning Algorithms on the light curves\n",
    "\n",
    "We choose to use [sktime](https://www.sktime.net/en/stable/index.html) algorithms beacuse it is a library of many algorithms specifically tailored to time series datasets.  It is based on the sklearn library so syntax is familiar to many users.\n",
    "\n",
    "Types of classifiers are listed [here](https://www.sktime.net/en/stable/api_reference/classification.html).\n",
    "\n",
    "This notebook will invert the actual workflow and show you a single example of the algorithm which best fits the data and has the most accurate classifier. Then it will show how to write a for loop over a bunch of classifiers before narrowing it down to the most accurate.\n",
    "\n"
   ]
  },
  {
   "cell_type": "code",
   "execution_count": null,
   "metadata": {
    "scrolled": true,
    "tags": []
   },
   "outputs": [],
   "source": [
    "#what is the list of all possible classifiers that work with multivariate data\n",
    "#all_tags(estimator_types = 'classifier')\n",
    "classifiers = all_estimators(\"classifier\", filter_tags={'capability:multivariate':True})\n",
    "classifiers\n"
   ]
  },
  {
   "cell_type": "markdown",
   "metadata": {},
   "source": [
    "### 4.1 The Most Accurate Classifier\n",
    "See section 4.2 for how we landed with this algorithm\n"
   ]
  },
  {
   "cell_type": "code",
   "execution_count": null,
   "metadata": {},
   "outputs": [],
   "source": [
    "#looks like RandomIntervalClassifier is performing the best for the CLAGN (not for the SDSS)\n",
    "\n",
    "#setup the classifier\n",
    "clf = RandomIntervalClassifier(n_intervals = 20, n_jobs = -1, random_state = 43)\n",
    "\n",
    "#fit the classifier on the training dataset\n",
    "clf.fit(X_train, y_train)\n",
    "\n",
    "#make predictions on the test dataset using the trained model \n",
    "y_pred = clf.predict(X_test)\n",
    "\n",
    "print(f\"Accuracy of Random Interval Classifier: {accuracy_score(y_test, y_pred)}\\n\", flush=True)\n",
    "\n",
    "#plot a confusion matrix\n",
    "cm = confusion_matrix(y_test, y_pred, labels=clf.classes_)\n",
    "disp = ConfusionMatrixDisplay(confusion_matrix=cm,display_labels=clf.classes_)\n",
    "disp.plot()\n",
    "    \n",
    "plt.show()"
   ]
  },
  {
   "cell_type": "markdown",
   "metadata": {},
   "source": [
    "### 4.2 Loop over a bunch of classifiers\n",
    "\n",
    "Our method is to do a cursory check of a bunch of classifiers and then later drill down deeper on anything with good initial results.  We choose to run a loop over ~10 classifiers that seem promising and check the accuracy scores for each one.  Any classifier with a promising accuracy score could then be followed up with detailed hyperparameter tuning, or potentially with considering other classifiers in that same type."
   ]
  },
  {
   "cell_type": "code",
   "execution_count": null,
   "metadata": {},
   "outputs": [],
   "source": [
    "#which classifiers are we interestd in\n",
    "#roughly one from each type of classifier\n",
    "\n",
    "names = [\"Arsenal\",                     #kernel based\n",
    "        \"RocektClassifier\",             #kernel based\n",
    "        \"CanonicalIntervalForest\",      #interval based\n",
    "        \"HIVECOTEV2\",                   #hybrid\n",
    "#        \"CNNClassifier\",               #Deep Learning  - **requires tensorflow which is giving import errors\n",
    "#        \"WeightedEnsembleClassifier\",   #Ensemble - **maybe use in the future if we find good options\n",
    "        \"IndividualTDE\",               #Dictionary-based\n",
    "        \"KNeighborsTimeSeriesClassifier\", #Distance Based\n",
    "        \"RandomIntervalClassifier\",     #Feature based\n",
    "        \"Catch22Classifier\",            #Feature based\n",
    "        \"ShapeletTransformClassifier\"   #Shapelet based\n",
    "        \"DummyClassifier\"]             #Dummy - ignores input\n",
    "\n",
    "#for those with an impossible time limit, how long to let them run for before cutting off\n",
    "nmins = 10\n",
    "\n",
    "#these could certainly be more tailored\n",
    "classifier_call = [Arsenal(time_limit_in_minutes=nmins, n_jobs = -1), \n",
    "                  RocketClassifier(num_kernels=2000),\n",
    "                  CanonicalIntervalForest(n_jobs = -1),\n",
    "                  HIVECOTEV2(time_limit_in_minutes=nmins, n_jobs = -1),\n",
    "#                  CNNClassifier(),\n",
    "#                  WeightedEnsembleClassifier(),\n",
    "                  IndividualTDE(n_jobs=-1),\n",
    "                  KNeighborsTimeSeriesClassifier(n_jobs = -1),\n",
    "                  RandomIntervalClassifier(n_intervals = 20, n_jobs = -1, random_state = 43),\n",
    "                  Catch22Classifier(outlier_norm = True, n_jobs = -1, random_state = 43),\n",
    "                  ShapeletTransformClassifier(time_limit_in_minutes=nmins,n_jobs = -1),\n",
    "                  DummyClassifier()]\n",
    "\n",
    "#setup to store the accuracy scores\n",
    "accscore_dict = {}\n",
    "\n",
    "# iterate over classifiers\n",
    "for name, clf in tqdm(zip(names, classifier_call)):\n",
    "    #fit the classifier\n",
    "    clf.fit(X_train, y_train)\n",
    "    \n",
    "    #make predictions on the test dataset\n",
    "    y_pred = clf.predict(X_test)\n",
    "\n",
    "    #calculate and track accuracy score\n",
    "    accscore = accuracy_score(y_test, y_pred)\n",
    "    print(f\"Accuracy of {name} classifier: {accscore}\\n\", flush=True)\n",
    "    accscore_dict[name] = accscore\n",
    "    \n",
    "    #plot confusion matrix\n",
    "    cm = confusion_matrix(y_test, y_pred, labels=clf.classes_)\n",
    "    disp = ConfusionMatrixDisplay(confusion_matrix=cm,display_labels=clf.classes_)\n",
    "    disp.plot()\n",
    "    plt.show()\n",
    "\n",
    "#just for keeping track, I also tried \n",
    "#clf = SignatureClassifier(depth = 2, window_depth = 3, random_state = 43)\n",
    "#this fails to complete, and is a known limitation of this algorithm.  "
   ]
  },
  {
   "cell_type": "code",
   "execution_count": null,
   "metadata": {},
   "outputs": [],
   "source": [
    "#show the summary of the algorithms used and their accuracy score\n",
    "accscore_dict"
   ]
  },
  {
   "cell_type": "markdown",
   "metadata": {},
   "source": [
    "## 5.0 Conclusions:  \n",
    "This classifier can be used to predict CLAGN.  The feature based algorithms do the best jobs of having little to no predicted CLAGN that are truly normal SDSS quasars.  We infer then that if the trained model predicts CLAGN, it is a very good target for follow-up spectroscopy to confirm CLAGN.  However this algorthim will not catch all CLAGN, and will incorrectly labels some CLAGN as being normal SDSS quasars.  THis algorithm can therefore not be used to find a complete sample of CLAGN, but can be used to increase the known sample.\n"
   ]
  },
  {
   "cell_type": "markdown",
   "metadata": {},
   "source": [
    "### 5.1 Potential Areas of improvement\n",
    "- Data is messy\n",
    "    - ZTF calibration??\n",
    "- Label inaccuracy is a concern\n",
    "    - mostly SDSS, \n",
    "    - but CLAGN papers all have different selection criteria\n",
    "- Not enough data on CLAGN\n",
    "    - limited number of lightcurves\n",
    "    - consider data augmentation"
   ]
  },
  {
   "cell_type": "code",
   "execution_count": null,
   "metadata": {},
   "outputs": [],
   "source": []
  }
 ],
 "metadata": {
  "kernelspec": {
   "display_name": "Python 3 (ipykernel)",
   "language": "python",
   "name": "python3"
  },
  "language_info": {
   "codemirror_mode": {
    "name": "ipython",
    "version": 3
   },
   "file_extension": ".py",
   "mimetype": "text/x-python",
   "name": "python",
   "nbconvert_exporter": "python",
   "pygments_lexer": "ipython3",
   "version": "3.10.8"
  }
 },
 "nbformat": 4,
 "nbformat_minor": 4
}
