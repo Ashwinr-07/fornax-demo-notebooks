{
 "cells": [
  {
   "cell_type": "code",
   "execution_count": 1,
   "metadata": {},
   "outputs": [],
   "source": [
    "import sys\n",
    "import time\n",
    "import warnings\n",
    "from math import ceil\n",
    "from multiprocessing import Pool\n",
    "\n",
    "import astropy.units as u\n",
    "from astropy.coordinates import SkyCoord\n",
    "import matplotlib.pyplot as plt\n",
    "import numpy as np\n",
    "from astropy.table import Table\n",
    "from scipy import stats\n",
    "import pandas as pd\n",
    "\n",
    "warnings.filterwarnings('ignore')\n",
    "\n",
    "# local code imports\n",
    "sys.path.append('code/')\n",
    "from panstarrs import panstarrs_get_lightcurves\n",
    "from gaia_functions import Gaia_get_lightcurve\n",
    "from HCV_functions import HCV_get_lightcurves\n",
    "from icecube_functions import icecube_get_lightcurve\n",
    "from sample_selection import get_lamassa_sample, get_macleod16_sample, get_ruan_sample, get_macleod19_sample, get_sheng_sample, get_green_sample, get_lyu_sample, get_lopeznavas_sample, get_hon_sample, get_yang_sample,get_SDSS_sample, get_paper_sample, clean_sample,noclean_sample,TDE_id2coord\n",
    "from data_structures import MultiIndexDFObject\n",
    "from heasarc_functions import HEASARC_get_lightcurves\n",
    "from TESS_Kepler_functions import TESS_Kepler_get_lightcurves\n",
    "from WISE_functions import WISE_get_lightcurves\n",
    "from ztf_functions_old import ZTF_get_lightcurve\n",
    "import os\n",
    "import re\n",
    "import matplotlib.pyplot as plt\n",
    "import matplotlib as mpl\n",
    "import matplotlib.cm as cm\n",
    "\n",
    "from utils import *\n",
    "\n",
    "from tqdm import tqdm\n",
    "\n",
    "try:\n",
    "    import umap\n",
    "    import umap.plot\n",
    "except:\n",
    "    !pip install umap-learn[plot]\n",
    "\n",
    "plt.style.use('bmh')\n",
    "\n",
    "def build_sample():\n",
    "    '''Putting together a sample of SDSS quasars, WISE variable AGNs,\n",
    "    TDEs, Changing look AGNs, .. coordinates from different \n",
    "    papers.'''\n",
    "    \n",
    "    coords =[]\n",
    "    labels = []\n",
    "\n",
    "    # Variable AGN sample from Ranga/Andreas:\n",
    "    VAGN = pd.read_csv('data/WISE_MIR_variable_AGN_with_PS1_photometry_and_SDSS_redshift.csv')\n",
    "    vagn_coords = [SkyCoord(ra, dec, frame='icrs', unit='deg') for ra, dec in zip(VAGN['SDSS_RA'], VAGN['SDSS_Dec'])]\n",
    "    vagn_labels = ['WISE-Variable' for ra in VAGN['SDSS_RA']]\n",
    "    coords.extend(vagn_coords)\n",
    "    labels.extend(vagn_labels)    \n",
    "\n",
    "    num_normal_QSO = 100 \n",
    "    get_SDSS_sample(coords, labels, num_normal_QSO)\n",
    "\n",
    "    get_paper_sample('2015ApJ...810...14A','FermiBL',coords,labels)\n",
    "    get_paper_sample('2019A&A...627A..33D','DeCicco19',coords,labels)\n",
    "    get_paper_sample('2022ApJ...933...37W','Galex variable 22',coords,labels)\n",
    "    get_paper_sample('2020ApJ...896...10B','Palomar variable 20',coords,labels)\n",
    "\n",
    "    #remove duplicates from the list if combining multiple references\n",
    "    coords_list, labels_list = noclean_sample(coords, labels) #!!!!\n",
    "    print('final sample: ',len(coords))\n",
    "    return coords_list,labels_list\n"
   ]
  },
  {
   "cell_type": "code",
   "execution_count": 3,
   "metadata": {},
   "outputs": [
    {
     "name": "stdout",
     "output_type": "stream",
     "text": [
      "SDSS Quasar: 100\n",
      "number of sources added from FermiBL :1870\n",
      "number of sources added from DeCicco19 :299\n",
      "number of sources added from Galex variable 22 :48\n",
      "number of sources added from Palomar variable 20 :20\n",
      "without duplicates removal, sample size: 3104\n",
      "final sample:  3104\n"
     ]
    }
   ],
   "source": [
    "coords,labels = build_sample()\n",
    "#dflc = parallel_lc(coords,labels)\n"
   ]
  },
  {
   "cell_type": "code",
   "execution_count": null,
   "metadata": {},
   "outputs": [],
   "source": []
  }
 ],
 "metadata": {
  "kernelspec": {
   "display_name": "Python 3",
   "language": "python",
   "name": "python3"
  },
  "language_info": {
   "codemirror_mode": {
    "name": "ipython",
    "version": 3
   },
   "file_extension": ".py",
   "mimetype": "text/x-python",
   "name": "python",
   "nbconvert_exporter": "python",
   "pygments_lexer": "ipython3",
   "version": "3.8.6"
  }
 },
 "nbformat": 4,
 "nbformat_minor": 4
}
