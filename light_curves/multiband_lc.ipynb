{
 "cells": [
  {
   "cell_type": "markdown",
   "metadata": {},
   "source": [
    "## Make multiwavelength light curves using archival data\n",
    "\n",
    "### Summary:\n",
    " - model plots after van Velzen et al. 2021, https://arxiv.org/pdf/2111.09391.pdf\n",
    " \n",
    "### Input:\n",
    " - a catalog of CLAGN from the literature\n",
    "\n",
    "### Output:\n",
    " - an archival optical + IR + neutrino light curve\n",
    " \n",
    "### Technical Goals:\n",
    " - should be able to run from a clean checkout from github\n",
    " - should be able to automatically download all catalogs & images used\n",
    " - need to have all photometry in the same physical unit\n",
    " - need to have a data structure that is easy to use but holds light curve information (time and units) and is extendable to ML applications\n",
    " - need to have a curated list of catalogs to search for photometry that is generalizeable to other input catalogs\n",
    " \n",
    "### Authors:\n",
    "IPAC SP team\n",
    "\n",
    "### Acknowledgements:\n",
    "Suvi Gezari, Antara Basu-zych,\n",
    "MAST, HEASARC, & IRSA Fornax teams"
   ]
  },
  {
   "cell_type": "code",
   "execution_count": 2,
   "metadata": {},
   "outputs": [
    {
     "name": "stdout",
     "output_type": "stream",
     "text": [
      "Requirement already satisfied: lightkurve in /opt/conda/lib/python3.8/site-packages (2.3.0)\n",
      "Requirement already satisfied: uncertainties>=3.1.4 in /opt/conda/lib/python3.8/site-packages (from lightkurve) (3.1.7)\n",
      "Requirement already satisfied: pandas>=1.1.4 in /opt/conda/lib/python3.8/site-packages (from lightkurve) (1.3.5)\n",
      "Requirement already satisfied: scikit-learn>=0.24.0 in /opt/conda/lib/python3.8/site-packages (from lightkurve) (1.0.2)\n",
      "Requirement already satisfied: patsy>=0.5.0 in /opt/conda/lib/python3.8/site-packages (from lightkurve) (0.5.2)\n",
      "Requirement already satisfied: urllib3>=1.23 in /opt/conda/lib/python3.8/site-packages (from lightkurve) (1.25.11)\n",
      "Requirement already satisfied: beautifulsoup4>=4.6.0 in /opt/conda/lib/python3.8/site-packages (from lightkurve) (4.10.0)\n",
      "Requirement already satisfied: fbpca>=1.0 in /opt/conda/lib/python3.8/site-packages (from lightkurve) (1.0)\n",
      "Requirement already satisfied: bokeh>=1.1 in /opt/conda/lib/python3.8/site-packages (from lightkurve) (2.4.2)\n",
      "Requirement already satisfied: astropy>=5.0 in /opt/conda/lib/python3.8/site-packages (from lightkurve) (5.0.1)\n",
      "Requirement already satisfied: requests>=2.22.0 in /opt/conda/lib/python3.8/site-packages (from lightkurve) (2.24.0)\n",
      "Requirement already satisfied: matplotlib>=3.1 in /opt/conda/lib/python3.8/site-packages (from lightkurve) (3.5.1)\n",
      "Requirement already satisfied: numpy>=1.18 in /opt/conda/lib/python3.8/site-packages (from lightkurve) (1.21.5)\n",
      "Requirement already satisfied: oktopus>=0.1.2 in /opt/conda/lib/python3.8/site-packages (from lightkurve) (0.1.2)\n",
      "Requirement already satisfied: scipy>=1.7 in /opt/conda/lib/python3.8/site-packages (from lightkurve) (1.8.0)\n",
      "Requirement already satisfied: astroquery>=0.3.10 in /opt/conda/lib/python3.8/site-packages (from lightkurve) (0.4.5)\n",
      "Requirement already satisfied: memoization>=0.3.1 in /opt/conda/lib/python3.8/site-packages (from lightkurve) (0.4.0)\n",
      "Requirement already satisfied: tqdm>=4.25.0 in /opt/conda/lib/python3.8/site-packages (from lightkurve) (4.50.2)\n",
      "Requirement already satisfied: PyYAML>=3.13 in /opt/conda/lib/python3.8/site-packages (from astropy>=5.0->lightkurve) (6.0)\n",
      "Requirement already satisfied: pyerfa>=2.0 in /opt/conda/lib/python3.8/site-packages (from astropy>=5.0->lightkurve) (2.0.0.1)\n",
      "Requirement already satisfied: packaging>=19.0 in /opt/conda/lib/python3.8/site-packages (from astropy>=5.0->lightkurve) (20.4)\n",
      "Requirement already satisfied: html5lib>=0.999 in /opt/conda/lib/python3.8/site-packages (from astroquery>=0.3.10->lightkurve) (1.1)\n",
      "Requirement already satisfied: keyring>=4.0 in /opt/conda/lib/python3.8/site-packages (from astroquery>=0.3.10->lightkurve) (22.3.0)\n",
      "Requirement already satisfied: pyvo>=1.1 in /opt/conda/lib/python3.8/site-packages (from astroquery>=0.3.10->lightkurve) (1.3)\n",
      "Requirement already satisfied: soupsieve>1.2 in /opt/conda/lib/python3.8/site-packages (from beautifulsoup4>=4.6.0->lightkurve) (2.3.1)\n",
      "Requirement already satisfied: typing-extensions>=3.10.0 in /opt/conda/lib/python3.8/site-packages (from bokeh>=1.1->lightkurve) (4.1.1)\n",
      "Requirement already satisfied: tornado>=5.1 in /opt/conda/lib/python3.8/site-packages (from bokeh>=1.1->lightkurve) (6.1)\n",
      "Requirement already satisfied: pillow>=7.1.0 in /opt/conda/lib/python3.8/site-packages (from bokeh>=1.1->lightkurve) (9.0.1)\n",
      "Requirement already satisfied: Jinja2>=2.9 in /opt/conda/lib/python3.8/site-packages (from bokeh>=1.1->lightkurve) (2.11.2)\n",
      "Requirement already satisfied: fonttools>=4.22.0 in /opt/conda/lib/python3.8/site-packages (from matplotlib>=3.1->lightkurve) (4.29.1)\n",
      "Requirement already satisfied: python-dateutil>=2.7 in /opt/conda/lib/python3.8/site-packages (from matplotlib>=3.1->lightkurve) (2.8.1)\n",
      "Requirement already satisfied: cycler>=0.10 in /opt/conda/lib/python3.8/site-packages (from matplotlib>=3.1->lightkurve) (0.11.0)\n",
      "Requirement already satisfied: kiwisolver>=1.0.1 in /opt/conda/lib/python3.8/site-packages (from matplotlib>=3.1->lightkurve) (1.3.2)\n",
      "Requirement already satisfied: pyparsing>=2.2.1 in /opt/conda/lib/python3.8/site-packages (from matplotlib>=3.1->lightkurve) (2.4.7)\n",
      "Requirement already satisfied: autograd in /opt/conda/lib/python3.8/site-packages (from oktopus>=0.1.2->lightkurve) (1.5)\n",
      "Requirement already satisfied: pytz>=2017.3 in /opt/conda/lib/python3.8/site-packages (from pandas>=1.1.4->lightkurve) (2021.3)\n",
      "Requirement already satisfied: six in /opt/conda/lib/python3.8/site-packages (from patsy>=0.5.0->lightkurve) (1.15.0)\n",
      "Requirement already satisfied: certifi>=2017.4.17 in /opt/conda/lib/python3.8/site-packages (from requests>=2.22.0->lightkurve) (2022.12.7)\n",
      "Requirement already satisfied: idna<3,>=2.5 in /opt/conda/lib/python3.8/site-packages (from requests>=2.22.0->lightkurve) (2.10)\n",
      "Requirement already satisfied: chardet<4,>=3.0.2 in /opt/conda/lib/python3.8/site-packages (from requests>=2.22.0->lightkurve) (3.0.4)\n",
      "Requirement already satisfied: threadpoolctl>=2.0.0 in /opt/conda/lib/python3.8/site-packages (from scikit-learn>=0.24.0->lightkurve) (3.1.0)\n",
      "Requirement already satisfied: joblib>=0.11 in /opt/conda/lib/python3.8/site-packages (from scikit-learn>=0.24.0->lightkurve) (1.1.0)\n",
      "Requirement already satisfied: future in /opt/conda/lib/python3.8/site-packages (from uncertainties>=3.1.4->lightkurve) (0.18.2)\n",
      "Requirement already satisfied: webencodings in /opt/conda/lib/python3.8/site-packages (from html5lib>=0.999->astroquery>=0.3.10->lightkurve) (0.5.1)\n",
      "Requirement already satisfied: MarkupSafe>=0.23 in /opt/conda/lib/python3.8/site-packages (from Jinja2>=2.9->bokeh>=1.1->lightkurve) (1.1.1)\n",
      "Requirement already satisfied: SecretStorage>=3.2 in /opt/conda/lib/python3.8/site-packages (from keyring>=4.0->astroquery>=0.3.10->lightkurve) (3.3.1)\n",
      "Requirement already satisfied: jeepney>=0.4.2 in /opt/conda/lib/python3.8/site-packages (from keyring>=4.0->astroquery>=0.3.10->lightkurve) (0.7.1)\n",
      "Requirement already satisfied: cryptography>=2.0 in /opt/conda/lib/python3.8/site-packages (from SecretStorage>=3.2->keyring>=4.0->astroquery>=0.3.10->lightkurve) (3.1.1)\n",
      "Requirement already satisfied: cffi!=1.11.3,>=1.8 in /opt/conda/lib/python3.8/site-packages (from cryptography>=2.0->SecretStorage>=3.2->keyring>=4.0->astroquery>=0.3.10->lightkurve) (1.14.3)\n",
      "Requirement already satisfied: pycparser in /opt/conda/lib/python3.8/site-packages (from cffi!=1.11.3,>=1.8->cryptography>=2.0->SecretStorage>=3.2->keyring>=4.0->astroquery>=0.3.10->lightkurve) (2.20)\n",
      "\u001b[33mWARNING: You are using pip version 22.0.3; however, version 22.3.1 is available.\n",
      "You should consider upgrading via the '/opt/conda/bin/python3 -m pip install --upgrade pip' command.\u001b[0m\u001b[33m\n",
      "\u001b[0mRequirement already satisfied: ztfquery in /opt/conda/lib/python3.8/site-packages (1.20.3)\n",
      "\u001b[33mWARNING: You are using pip version 22.0.3; however, version 22.3.1 is available.\n",
      "You should consider upgrading via the '/opt/conda/bin/python3 -m pip install --upgrade pip' command.\u001b[0m\u001b[33m\n",
      "\u001b[0m"
     ]
    },
    {
     "ename": "FileNotFoundError",
     "evalue": "[Errno 2] No such file or directory: './Data/skyvision'",
     "output_type": "error",
     "traceback": [
      "\u001b[0;31m---------------------------------------------------------------------------\u001b[0m",
      "\u001b[0;31mFileNotFoundError\u001b[0m                         Traceback (most recent call last)",
      "\u001b[0;32m<ipython-input-2-825918a496b2>\u001b[0m in \u001b[0;36m<module>\u001b[0;34m\u001b[0m\n\u001b[1;32m     36\u001b[0m \u001b[0;34m\u001b[0m\u001b[0m\n\u001b[1;32m     37\u001b[0m \u001b[0mget_ipython\u001b[0m\u001b[0;34m(\u001b[0m\u001b[0;34m)\u001b[0m\u001b[0;34m.\u001b[0m\u001b[0msystem\u001b[0m\u001b[0;34m(\u001b[0m\u001b[0;34m'pip install ztfquery'\u001b[0m\u001b[0;34m)\u001b[0m\u001b[0;34m\u001b[0m\u001b[0;34m\u001b[0m\u001b[0m\n\u001b[0;32m---> 38\u001b[0;31m \u001b[0;32mfrom\u001b[0m \u001b[0mztfquery\u001b[0m \u001b[0;32mimport\u001b[0m \u001b[0mlightcurve\u001b[0m\u001b[0;34m\u001b[0m\u001b[0;34m\u001b[0m\u001b[0m\n\u001b[0m",
      "\u001b[0;32m/opt/conda/lib/python3.8/site-packages/ztfquery/__init__.py\u001b[0m in \u001b[0;36m<module>\u001b[0;34m\u001b[0m\n\u001b[1;32m      3\u001b[0m \u001b[0;34m\u001b[0m\u001b[0m\n\u001b[1;32m      4\u001b[0m \u001b[0;32mfrom\u001b[0m \u001b[0;34m.\u001b[0m\u001b[0mio\u001b[0m \u001b[0;32mimport\u001b[0m \u001b[0mget_file\u001b[0m\u001b[0;34m\u001b[0m\u001b[0;34m\u001b[0m\u001b[0m\n\u001b[0;32m----> 5\u001b[0;31m \u001b[0;32mfrom\u001b[0m \u001b[0;34m.\u001b[0m\u001b[0mskyvision\u001b[0m \u001b[0;32mimport\u001b[0m \u001b[0mget_summary_logs\u001b[0m\u001b[0;34m\u001b[0m\u001b[0;34m\u001b[0m\u001b[0m\n\u001b[0m",
      "\u001b[0;32m/opt/conda/lib/python3.8/site-packages/ztfquery/skyvision.py\u001b[0m in \u001b[0;36m<module>\u001b[0;34m\u001b[0m\n\u001b[1;32m     18\u001b[0m \u001b[0mSKYVISIONSOURCE\u001b[0m \u001b[0;34m=\u001b[0m \u001b[0mos\u001b[0m\u001b[0;34m.\u001b[0m\u001b[0mpath\u001b[0m\u001b[0;34m.\u001b[0m\u001b[0mjoin\u001b[0m\u001b[0;34m(\u001b[0m\u001b[0mio\u001b[0m\u001b[0;34m.\u001b[0m\u001b[0mLOCALSOURCE\u001b[0m\u001b[0;34m,\u001b[0m\u001b[0;34m\"skyvision\"\u001b[0m\u001b[0;34m)\u001b[0m\u001b[0;34m\u001b[0m\u001b[0;34m\u001b[0m\u001b[0m\n\u001b[1;32m     19\u001b[0m \u001b[0;32mif\u001b[0m \u001b[0;32mnot\u001b[0m \u001b[0mos\u001b[0m\u001b[0;34m.\u001b[0m\u001b[0mpath\u001b[0m\u001b[0;34m.\u001b[0m\u001b[0mexists\u001b[0m\u001b[0;34m(\u001b[0m \u001b[0mSKYVISIONSOURCE\u001b[0m \u001b[0;34m)\u001b[0m\u001b[0;34m:\u001b[0m\u001b[0;34m\u001b[0m\u001b[0;34m\u001b[0m\u001b[0m\n\u001b[0;32m---> 20\u001b[0;31m     \u001b[0mos\u001b[0m\u001b[0;34m.\u001b[0m\u001b[0mmkdir\u001b[0m\u001b[0;34m(\u001b[0m\u001b[0mSKYVISIONSOURCE\u001b[0m\u001b[0;34m)\u001b[0m\u001b[0;34m\u001b[0m\u001b[0;34m\u001b[0m\u001b[0m\n\u001b[0m\u001b[1;32m     21\u001b[0m \u001b[0;34m\u001b[0m\u001b[0m\n\u001b[1;32m     22\u001b[0m \u001b[0;34m\u001b[0m\u001b[0m\n",
      "\u001b[0;31mFileNotFoundError\u001b[0m: [Errno 2] No such file or directory: './Data/skyvision'"
     ]
    }
   ],
   "source": [
    "import numpy as np\n",
    "import time\n",
    "import pandas as pd\n",
    "import axs\n",
    "import os\n",
    "import sys\n",
    "import re\n",
    "import matplotlib.pyplot as plt\n",
    "import json\n",
    "import requests\n",
    "\n",
    "from astroquery.ipac.ned import Ned\n",
    "from astroquery.heasarc import Heasarc\n",
    "from astroquery.gaia import Gaia\n",
    "\n",
    "from astropy.coordinates import SkyCoord\n",
    "import astropy.units as u\n",
    "from astropy.table import Table, vstack, hstack, unique\n",
    "from astropy.io import ascii\n",
    "\n",
    "\n",
    "try: # Python 3.x\n",
    "    from urllib.parse import quote as urlencode\n",
    "    from urllib.request import urlretrieve\n",
    "except ImportError:  # Python 2.x\n",
    "    from urllib import pathname2url as urlencode\n",
    "    from urllib import urlretrieve\n",
    "\n",
    "try: # Python 3.x\n",
    "    import http.client as httplib \n",
    "except ImportError:  # Python 2.x\n",
    "    import httplib   \n",
    "\n",
    "!pip install lightkurve --upgrade\n",
    "import lightkurve as lk\n",
    "\n",
    "!pip install ztfquery\n",
    "from ztfquery import lightcurve"
   ]
  },
  {
   "cell_type": "markdown",
   "metadata": {},
   "source": [
    "## 1. Define the Sample"
   ]
  },
  {
   "cell_type": "code",
   "execution_count": 3,
   "metadata": {},
   "outputs": [],
   "source": [
    "# use the following paper to make a sample of CLAGN: https://iopscience.iop.org/article/10.3847/1538-4357/aaca3a \n",
    "\n",
    "# This sample can later be switched out to a differen/larger sample of \"interesting\" targets\n",
    "\n",
    "#use ADS to find the refcode for this paper\n",
    "CLAGN = Ned.query_refcode('2018ApJ...862..109Y')\n",
    "\n"
   ]
  },
  {
   "cell_type": "code",
   "execution_count": 4,
   "metadata": {},
   "outputs": [
    {
     "data": {
      "text/html": [
       "<div><i>Table length=31</i>\n",
       "<table id=\"table140477515188400\" class=\"table-striped table-bordered table-condensed\">\n",
       "<thead><tr><th>No.</th><th>Object Name</th><th>RA</th><th>DEC</th><th>Type</th><th>Velocity</th><th>Redshift</th><th>Redshift Flag</th><th>Magnitude and Filter</th><th>Separation</th><th>References</th><th>Notes</th><th>Photometry Points</th><th>Positions</th><th>Redshift Points</th><th>Diameter Points</th><th>Associations</th></tr></thead>\n",
       "<thead><tr><th></th><th></th><th>degrees</th><th>degrees</th><th></th><th>km / s</th><th></th><th></th><th></th><th>arcmin</th><th></th><th></th><th></th><th></th><th></th><th></th><th></th></tr></thead>\n",
       "<thead><tr><th>int32</th><th>str30</th><th>float64</th><th>float64</th><th>object</th><th>float64</th><th>float64</th><th>object</th><th>object</th><th>float64</th><th>int32</th><th>int32</th><th>int32</th><th>int32</th><th>int32</th><th>int32</th><th>int32</th></tr></thead>\n",
       "<tr><td>1</td><td>WISEA J000107.52-000552.5</td><td>0.28136</td><td>-0.09789</td><td>G</td><td>59147.0</td><td>0.197292</td><td>SPEC</td><td>19.7g</td><td>--</td><td>6</td><td>0</td><td>34</td><td>8</td><td>5</td><td>4</td><td>0</td></tr>\n",
       "<tr><td>2</td><td>WISEA J012648.10-083948.0</td><td>21.70037</td><td>-8.66335</td><td>G</td><td>59333.0</td><td>0.197913</td><td>SPEC</td><td>18.6g</td><td>--</td><td>22</td><td>0</td><td>62</td><td>14</td><td>8</td><td>8</td><td>0</td></tr>\n",
       "<tr><td>3</td><td>2MASS J01595763+0033105</td><td>29.99</td><td>0.55301</td><td>QSO</td><td>93546.0</td><td>0.312036</td><td>SPEC</td><td>19.6g</td><td>--</td><td>63</td><td>0</td><td>76</td><td>17</td><td>19</td><td>10</td><td>0</td></tr>\n",
       "<tr><td>4</td><td>WISEA J015957.63+003310.3</td><td>29.99015</td><td>0.55288</td><td>IrS</td><td>93547.0</td><td>0.31204</td><td>SLS</td><td></td><td>--</td><td>4</td><td>0</td><td>12</td><td>3</td><td>2</td><td>0</td><td>0</td></tr>\n",
       "<tr><td>5</td><td>WISEA J080347.56+425839.0</td><td>120.94815</td><td>42.97747</td><td>G</td><td>125547.0</td><td>0.418778</td><td>SPEC</td><td>21.8g</td><td>--</td><td>4</td><td>0</td><td>27</td><td>5</td><td>3</td><td>4</td><td>0</td></tr>\n",
       "<tr><td>6</td><td>WISEA J083132.25+364617.0</td><td>127.88438</td><td>36.77146</td><td>G</td><td>58463.0</td><td>0.19501</td><td>SPEC</td><td>18.8g</td><td>--</td><td>17</td><td>0</td><td>62</td><td>9</td><td>7</td><td>10</td><td>0</td></tr>\n",
       "<tr><td>7</td><td>WISEA J084957.78+274728.8</td><td>132.49077</td><td>27.79139</td><td>QSO</td><td>89499.0</td><td>0.298537</td><td>SPEC</td><td>19.1g</td><td>--</td><td>23</td><td>0</td><td>65</td><td>12</td><td>11</td><td>8</td><td>0</td></tr>\n",
       "<tr><td>8</td><td>WISEA J090932.02+474730.7</td><td>137.38346</td><td>47.79186</td><td>G</td><td>35059.0</td><td>0.116944</td><td>SPEC</td><td>18.7g</td><td>--</td><td>19</td><td>0</td><td>53</td><td>8</td><td>6</td><td>8</td><td>1</td></tr>\n",
       "<tr><td>9</td><td>WISEA J093730.32+260232.1</td><td>144.37635</td><td>26.04226</td><td>G</td><td>48643.0</td><td>0.162254</td><td>SPEC</td><td>18.1g</td><td>--</td><td>17</td><td>0</td><td>46</td><td>10</td><td>9</td><td>6</td><td>1</td></tr>\n",
       "<tr><td>...</td><td>...</td><td>...</td><td>...</td><td>...</td><td>...</td><td>...</td><td>...</td><td>...</td><td>...</td><td>...</td><td>...</td><td>...</td><td>...</td><td>...</td><td>...</td><td>...</td></tr>\n",
       "<tr><td>22</td><td>WISEA J131930.75+675355.4</td><td>199.87808</td><td>67.89872</td><td>G</td><td>49894.0</td><td>0.166428</td><td>SPEC</td><td>18.3g</td><td>--</td><td>17</td><td>0</td><td>53</td><td>8</td><td>7</td><td>8</td><td>0</td></tr>\n",
       "<tr><td>23</td><td>WISEA J135618.50-011514.0</td><td>209.07707</td><td>-1.2539</td><td>G</td><td>74174.0</td><td>0.247417</td><td>SPEC</td><td>19.3g</td><td>--</td><td>21</td><td>0</td><td>80</td><td>11</td><td>12</td><td>12</td><td>0</td></tr>\n",
       "<tr><td>24</td><td>WISEA J135855.82+493414.0</td><td>209.73263</td><td>49.5706</td><td>G</td><td>34751.0</td><td>0.115918</td><td>SPEC</td><td>18.8g</td><td>--</td><td>12</td><td>0</td><td>53</td><td>9</td><td>8</td><td>8</td><td>0</td></tr>\n",
       "<tr><td>25</td><td>WISEA J144754.23+283324.1</td><td>221.97599</td><td>28.55669</td><td>G</td><td>48997.0</td><td>0.163438</td><td>SPEC</td><td>17.8g</td><td>--</td><td>26</td><td>0</td><td>42</td><td>8</td><td>5</td><td>6</td><td>0</td></tr>\n",
       "<tr><td>26</td><td>WISEA J153355.99+011029.7</td><td>233.48331</td><td>1.17494</td><td>G</td><td>42773.0</td><td>0.142677</td><td>SPEC</td><td>18.2g</td><td>--</td><td>13</td><td>0</td><td>57</td><td>11</td><td>9</td><td>8</td><td>0</td></tr>\n",
       "<tr><td>27</td><td>WISEA J154529.63+251127.9</td><td>236.3735</td><td>25.19107</td><td>G</td><td>35065.0</td><td>0.116963</td><td>SPEC</td><td>17.8g</td><td>--</td><td>22</td><td>0</td><td>46</td><td>8</td><td>8</td><td>6</td><td>0</td></tr>\n",
       "<tr><td>28</td><td>WISEA J155017.23+413902.4</td><td>237.57179</td><td>41.65064</td><td>G</td><td>65997.0</td><td>0.220142</td><td>SPEC</td><td>18.9g</td><td>--</td><td>13</td><td>0</td><td>59</td><td>8</td><td>4</td><td>8</td><td>0</td></tr>\n",
       "<tr><td>29</td><td>WISEA J155258.27+273728.5</td><td>238.24292</td><td>27.62456</td><td>G</td><td>25925.0</td><td>0.086478</td><td>SPEC</td><td>18.1g</td><td>--</td><td>21</td><td>0</td><td>66</td><td>8</td><td>5</td><td>10</td><td>0</td></tr>\n",
       "<tr><td>30</td><td>WISEA J155440.26+362951.9</td><td>238.66774</td><td>36.4978</td><td>G</td><td>71000.0</td><td>0.236831</td><td>SPEC</td><td>19.2g</td><td>--</td><td>10</td><td>0</td><td>53</td><td>7</td><td>4</td><td>8</td><td>0</td></tr>\n",
       "<tr><td>31</td><td>WISEA J233602.97+001728.9</td><td>354.01242</td><td>0.29132</td><td>QSO</td><td>72787.0</td><td>0.242792</td><td>SPEC</td><td>20.0g</td><td>--</td><td>20</td><td>0</td><td>63</td><td>14</td><td>13</td><td>8</td><td>0</td></tr>\n",
       "</table></div>"
      ],
      "text/plain": [
       "<Table length=31>\n",
       " No.         Object Name            RA     ... Diameter Points Associations\n",
       "                                 degrees   ...                             \n",
       "int32           str30            float64   ...      int32         int32    \n",
       "----- ------------------------- ---------- ... --------------- ------------\n",
       "    1 WISEA J000107.52-000552.5    0.28136 ...               4            0\n",
       "    2 WISEA J012648.10-083948.0   21.70037 ...               8            0\n",
       "    3   2MASS J01595763+0033105      29.99 ...              10            0\n",
       "    4 WISEA J015957.63+003310.3   29.99015 ...               0            0\n",
       "    5 WISEA J080347.56+425839.0  120.94815 ...               4            0\n",
       "    6 WISEA J083132.25+364617.0  127.88438 ...              10            0\n",
       "    7 WISEA J084957.78+274728.8  132.49077 ...               8            0\n",
       "    8 WISEA J090932.02+474730.7  137.38346 ...               8            1\n",
       "    9 WISEA J093730.32+260232.1  144.37635 ...               6            1\n",
       "  ...                       ...        ... ...             ...          ...\n",
       "   22 WISEA J131930.75+675355.4  199.87808 ...               8            0\n",
       "   23 WISEA J135618.50-011514.0  209.07707 ...              12            0\n",
       "   24 WISEA J135855.82+493414.0  209.73263 ...               8            0\n",
       "   25 WISEA J144754.23+283324.1  221.97599 ...               6            0\n",
       "   26 WISEA J153355.99+011029.7  233.48331 ...               8            0\n",
       "   27 WISEA J154529.63+251127.9   236.3735 ...               6            0\n",
       "   28 WISEA J155017.23+413902.4  237.57179 ...               8            0\n",
       "   29 WISEA J155258.27+273728.5  238.24292 ...              10            0\n",
       "   30 WISEA J155440.26+362951.9  238.66774 ...               8            0\n",
       "   31 WISEA J233602.97+001728.9  354.01242 ...               8            0"
      ]
     },
     "execution_count": 4,
     "metadata": {},
     "output_type": "execute_result"
    }
   ],
   "source": [
    "CLAGN"
   ]
  },
  {
   "cell_type": "markdown",
   "metadata": {},
   "source": [
    "### What is the best data structure for this work?\n",
    " - list of requirements is being kept here: https://github.com/fornax-navo/fornax-demo-notebooks/issues/69 \n",
    " - some things to keep an eye on as other people are actively working on this field\n",
    "     - astropy has a light curve class\n",
    "         -would require development work to make this work for multiwavelength application\n",
    "     - LINCC people are interested in this and might have some suggestions on a 6mo. timescale\n",
    "     - xarray\n",
    "     - pandas pint has units support but also has a warning that it doesn't yet work perfectly\n",
    "     - lightKurve is not suitable for this application\n",
    "     - sunpy is also not suitable for this application\n",
    "\n",
    "### Since there is nothing perfectly ready now, we need to go with something practical for the time being\n",
    " - instead of one large dataframe with the multiwavelength information, we could keep them as seperate astropy light curves for each band, do the feature extraction on each light curve and keep the features in one large dataframe. - how would we link targets between bands?\n",
    " - ZTF keeps the light curve info as multidimensional arrays in pandas columns - this works out of the box but doesn't have unit support so we just need to do that manually."
   ]
  },
  {
   "cell_type": "code",
   "execution_count": 3,
   "metadata": {},
   "outputs": [
    {
     "data": {
      "text/plain": [
       "astropy.table.table.Table"
      ]
     },
     "execution_count": 3,
     "metadata": {},
     "output_type": "execute_result"
    }
   ],
   "source": [
    "type(CLAGN)"
   ]
  },
  {
   "cell_type": "code",
   "execution_count": 6,
   "metadata": {},
   "outputs": [],
   "source": [
    "#### Build a list of skycoords from target ra and dec #####\n",
    "coords_list = [\n",
    "    SkyCoord(ra, dec, frame='icrs', unit='deg')\n",
    "    for ra, dec in zip(CLAGN['RA'], CLAGN['DEC'])\n",
    "]\n"
   ]
  },
  {
   "cell_type": "markdown",
   "metadata": {},
   "source": [
    "## 2. Find light curves for these targets in NASA catalogs\n",
    "- look at NAVO use cases to get help with tools to do this - although they mostly use pyvo\n",
    "- deciding up front to use astroquery instead of pyvo\n",
    "    - astroquery is apparently more user friendly\n",
    "- data access concerns:\n",
    "    - can't ask the archives to search their entire holdings\n",
    "        - not good enough meta data\n",
    "        - not clear that the data is all vetted and good enough to include for science\n",
    "        - all catalogs have differently named columns so how would we know which columns to keep\n",
    "    - instead work with a curated list of catalogs for each archive\n",
    "        - focus on general surveys\n",
    "        - try to ensure that this list is also appropriate for a generalization of this use case to other input catalogs\n",
    "        - could astroquery.NED be useful in finding a generalized curated list\n",
    "- How do we know we have a match that is good enough to include in our light curve\n",
    "     - look at nway for the high energy catalogs\n",
    "     - probably need to generate a table of search radii for each catalog based on bandpass\n",
    "         - need domain knowledge for that\n",
    "     \n"
   ]
  },
  {
   "cell_type": "markdown",
   "metadata": {},
   "source": [
    "## 2.1 HEASARC: FERMI & Beppo SAX\n"
   ]
  },
  {
   "cell_type": "code",
   "execution_count": 41,
   "metadata": {},
   "outputs": [
    {
     "name": "stdout",
     "output_type": "stream",
     "text": [
      "no results at that location for  FERMIGTRIG\n",
      "no results at that location for  SAXGRBMGRB\n",
      "no results at that location for  FERMIGTRIG\n",
      "no results at that location for  SAXGRBMGRB\n",
      "no results at that location for  FERMIGTRIG\n",
      "no results at that location for  SAXGRBMGRB\n",
      "no results at that location for  FERMIGTRIG\n",
      "no results at that location for  SAXGRBMGRB\n",
      "no results at that location for  FERMIGTRIG\n",
      "no results at that location for  SAXGRBMGRB\n",
      "no results at that location for  FERMIGTRIG\n",
      "no results at that location for  SAXGRBMGRB\n",
      "no results at that location for  FERMIGTRIG\n",
      "no results at that location for  SAXGRBMGRB\n",
      "no results at that location for  FERMIGTRIG\n",
      "no results at that location for  SAXGRBMGRB\n",
      "no results at that location for  FERMIGTRIG\n",
      "no results at that location for  SAXGRBMGRB\n",
      "no results at that location for  FERMIGTRIG\n",
      "no results at that location for  SAXGRBMGRB\n",
      "no results at that location for  FERMIGTRIG\n",
      "no results at that location for  SAXGRBMGRB\n",
      "no results at that location for  FERMIGTRIG\n",
      "no results at that location for  SAXGRBMGRB\n",
      "no results at that location for  FERMIGTRIG\n",
      "no results at that location for  SAXGRBMGRB\n",
      "no results at that location for  FERMIGTRIG\n",
      "no results at that location for  SAXGRBMGRB\n",
      "no results at that location for  FERMIGTRIG\n",
      "no results at that location for  SAXGRBMGRB\n",
      "no results at that location for  FERMIGTRIG\n",
      "no results at that location for  SAXGRBMGRB\n",
      "no results at that location for  FERMIGTRIG\n",
      "no results at that location for  SAXGRBMGRB\n",
      "no results at that location for  FERMIGTRIG\n",
      "no results at that location for  SAXGRBMGRB\n",
      "no results at that location for  FERMIGTRIG\n",
      "no results at that location for  SAXGRBMGRB\n",
      "no results at that location for  FERMIGTRIG\n",
      "no results at that location for  SAXGRBMGRB\n",
      "no results at that location for  FERMIGTRIG\n",
      "no results at that location for  SAXGRBMGRB\n",
      "no results at that location for  FERMIGTRIG\n",
      "no results at that location for  SAXGRBMGRB\n",
      "no results at that location for  FERMIGTRIG\n",
      "no results at that location for  SAXGRBMGRB\n",
      "no results at that location for  FERMIGTRIG\n",
      "no results at that location for  SAXGRBMGRB\n",
      "no results at that location for  FERMIGTRIG\n",
      "no results at that location for  SAXGRBMGRB\n",
      "no results at that location for  FERMIGTRIG\n",
      "no results at that location for  SAXGRBMGRB\n",
      "no results at that location for  FERMIGTRIG\n",
      "no results at that location for  SAXGRBMGRB\n",
      "no results at that location for  FERMIGTRIG\n",
      "no results at that location for  SAXGRBMGRB\n",
      "no results at that location for  FERMIGTRIG\n",
      "no results at that location for  SAXGRBMGRB\n",
      "no results at that location for  FERMIGTRIG\n",
      "no results at that location for  SAXGRBMGRB\n",
      "no results at that location for  FERMIGTRIG\n",
      "no results at that location for  SAXGRBMGRB\n"
     ]
    }
   ],
   "source": [
    "mission_list = ['FERMIGTRIG', 'SAXGRBMGRB']\n",
    "radius = 0.1*u.degree\n",
    "\n",
    "for ccount, coord in enumerate(coords_list):\n",
    "    #use astroquery to search that position for either a Fermi or Beppo Sax trigger\n",
    "    for mcount, mission in enumerate(mission_list):\n",
    "        try:\n",
    "            results = heasarc.query_region(coord, mission = mission, radius = radius)#, sortvar = 'SEARCH_OFFSET_')\n",
    "            print (\"got a live one\")\n",
    "            #need to figure out what this result would look like and how to add that to the saved data structure\n",
    "        except AttributeError:\n",
    "            print(\"no results at that location for \", mission)\n",
    "\n",
    "\n",
    "#**** These HEASARC searches are returning an attribute error because of an astroquery bug\n",
    "# bug submitted to astroquery Oct 18, waiting for a fix.\n",
    "# if that gets fixed, can probably change this cell "
   ]
  },
  {
   "cell_type": "markdown",
   "metadata": {},
   "source": [
    "## 2.2 IRSA: ZTF"
   ]
  },
  {
   "cell_type": "code",
   "execution_count": 8,
   "metadata": {},
   "outputs": [
    {
     "name": "stdout",
     "output_type": "stream",
     "text": [
      "0 0.28136 -0.09789\n"
     ]
    },
    {
     "ename": "KeyboardInterrupt",
     "evalue": "",
     "output_type": "error",
     "traceback": [
      "\u001b[0;31m---------------------------------------------------------------------------\u001b[0m",
      "\u001b[0;31mKeyboardInterrupt\u001b[0m                         Traceback (most recent call last)",
      "\u001b[0;32m<ipython-input-8-c23284f8e935>\u001b[0m in \u001b[0;36m<module>\u001b[0;34m\u001b[0m\n\u001b[1;32m     14\u001b[0m     \u001b[0murlstr\u001b[0m \u001b[0;34m=\u001b[0m \u001b[0;34m'https://irsa.ipac.caltech.edu/cgi-bin/ZTF/nph_light_curves?POS=CIRCLE %f %f %f&BANDNAME=g,r,i&FORMAT=ipac_table&BAD_CATFLAGS_MASK=32768'\u001b[0m\u001b[0;34m%\u001b[0m\u001b[0;34m(\u001b[0m\u001b[0mra\u001b[0m\u001b[0;34m,\u001b[0m \u001b[0mdec\u001b[0m\u001b[0;34m,\u001b[0m\u001b[0mztf_radius\u001b[0m\u001b[0;34m)\u001b[0m\u001b[0;34m\u001b[0m\u001b[0;34m\u001b[0m\u001b[0m\n\u001b[1;32m     15\u001b[0m \u001b[0;34m\u001b[0m\u001b[0m\n\u001b[0;32m---> 16\u001b[0;31m     \u001b[0mresponse\u001b[0m \u001b[0;34m=\u001b[0m \u001b[0mrequests\u001b[0m\u001b[0;34m.\u001b[0m\u001b[0mget\u001b[0m\u001b[0;34m(\u001b[0m\u001b[0murlstr\u001b[0m\u001b[0;34m)\u001b[0m\u001b[0;34m\u001b[0m\u001b[0;34m\u001b[0m\u001b[0m\n\u001b[0m\u001b[1;32m     17\u001b[0m     \u001b[0;32mif\u001b[0m \u001b[0mresponse\u001b[0m\u001b[0;34m.\u001b[0m\u001b[0mok\u001b[0m\u001b[0;34m:\u001b[0m\u001b[0;34m\u001b[0m\u001b[0;34m\u001b[0m\u001b[0m\n\u001b[1;32m     18\u001b[0m         \u001b[0mztf_lc\u001b[0m \u001b[0;34m=\u001b[0m \u001b[0mascii\u001b[0m\u001b[0;34m.\u001b[0m\u001b[0mread\u001b[0m\u001b[0;34m(\u001b[0m\u001b[0mresponse\u001b[0m\u001b[0;34m.\u001b[0m\u001b[0mtext\u001b[0m\u001b[0;34m,\u001b[0m \u001b[0mformat\u001b[0m\u001b[0;34m=\u001b[0m\u001b[0;34m'ipac'\u001b[0m\u001b[0;34m)\u001b[0m\u001b[0;34m\u001b[0m\u001b[0;34m\u001b[0m\u001b[0m\n",
      "\u001b[0;32m/opt/conda/lib/python3.8/site-packages/requests/api.py\u001b[0m in \u001b[0;36mget\u001b[0;34m(url, params, **kwargs)\u001b[0m\n\u001b[1;32m     74\u001b[0m \u001b[0;34m\u001b[0m\u001b[0m\n\u001b[1;32m     75\u001b[0m     \u001b[0mkwargs\u001b[0m\u001b[0;34m.\u001b[0m\u001b[0msetdefault\u001b[0m\u001b[0;34m(\u001b[0m\u001b[0;34m'allow_redirects'\u001b[0m\u001b[0;34m,\u001b[0m \u001b[0;32mTrue\u001b[0m\u001b[0;34m)\u001b[0m\u001b[0;34m\u001b[0m\u001b[0;34m\u001b[0m\u001b[0m\n\u001b[0;32m---> 76\u001b[0;31m     \u001b[0;32mreturn\u001b[0m \u001b[0mrequest\u001b[0m\u001b[0;34m(\u001b[0m\u001b[0;34m'get'\u001b[0m\u001b[0;34m,\u001b[0m \u001b[0murl\u001b[0m\u001b[0;34m,\u001b[0m \u001b[0mparams\u001b[0m\u001b[0;34m=\u001b[0m\u001b[0mparams\u001b[0m\u001b[0;34m,\u001b[0m \u001b[0;34m**\u001b[0m\u001b[0mkwargs\u001b[0m\u001b[0;34m)\u001b[0m\u001b[0;34m\u001b[0m\u001b[0;34m\u001b[0m\u001b[0m\n\u001b[0m\u001b[1;32m     77\u001b[0m \u001b[0;34m\u001b[0m\u001b[0m\n\u001b[1;32m     78\u001b[0m \u001b[0;34m\u001b[0m\u001b[0m\n",
      "\u001b[0;32m/opt/conda/lib/python3.8/site-packages/requests/api.py\u001b[0m in \u001b[0;36mrequest\u001b[0;34m(method, url, **kwargs)\u001b[0m\n\u001b[1;32m     59\u001b[0m     \u001b[0;31m# cases, and look like a memory leak in others.\u001b[0m\u001b[0;34m\u001b[0m\u001b[0;34m\u001b[0m\u001b[0;34m\u001b[0m\u001b[0m\n\u001b[1;32m     60\u001b[0m     \u001b[0;32mwith\u001b[0m \u001b[0msessions\u001b[0m\u001b[0;34m.\u001b[0m\u001b[0mSession\u001b[0m\u001b[0;34m(\u001b[0m\u001b[0;34m)\u001b[0m \u001b[0;32mas\u001b[0m \u001b[0msession\u001b[0m\u001b[0;34m:\u001b[0m\u001b[0;34m\u001b[0m\u001b[0;34m\u001b[0m\u001b[0m\n\u001b[0;32m---> 61\u001b[0;31m         \u001b[0;32mreturn\u001b[0m \u001b[0msession\u001b[0m\u001b[0;34m.\u001b[0m\u001b[0mrequest\u001b[0m\u001b[0;34m(\u001b[0m\u001b[0mmethod\u001b[0m\u001b[0;34m=\u001b[0m\u001b[0mmethod\u001b[0m\u001b[0;34m,\u001b[0m \u001b[0murl\u001b[0m\u001b[0;34m=\u001b[0m\u001b[0murl\u001b[0m\u001b[0;34m,\u001b[0m \u001b[0;34m**\u001b[0m\u001b[0mkwargs\u001b[0m\u001b[0;34m)\u001b[0m\u001b[0;34m\u001b[0m\u001b[0;34m\u001b[0m\u001b[0m\n\u001b[0m\u001b[1;32m     62\u001b[0m \u001b[0;34m\u001b[0m\u001b[0m\n\u001b[1;32m     63\u001b[0m \u001b[0;34m\u001b[0m\u001b[0m\n",
      "\u001b[0;32m/opt/conda/lib/python3.8/site-packages/requests/sessions.py\u001b[0m in \u001b[0;36mrequest\u001b[0;34m(self, method, url, params, data, headers, cookies, files, auth, timeout, allow_redirects, proxies, hooks, stream, verify, cert, json)\u001b[0m\n\u001b[1;32m    528\u001b[0m         }\n\u001b[1;32m    529\u001b[0m         \u001b[0msend_kwargs\u001b[0m\u001b[0;34m.\u001b[0m\u001b[0mupdate\u001b[0m\u001b[0;34m(\u001b[0m\u001b[0msettings\u001b[0m\u001b[0;34m)\u001b[0m\u001b[0;34m\u001b[0m\u001b[0;34m\u001b[0m\u001b[0m\n\u001b[0;32m--> 530\u001b[0;31m         \u001b[0mresp\u001b[0m \u001b[0;34m=\u001b[0m \u001b[0mself\u001b[0m\u001b[0;34m.\u001b[0m\u001b[0msend\u001b[0m\u001b[0;34m(\u001b[0m\u001b[0mprep\u001b[0m\u001b[0;34m,\u001b[0m \u001b[0;34m**\u001b[0m\u001b[0msend_kwargs\u001b[0m\u001b[0;34m)\u001b[0m\u001b[0;34m\u001b[0m\u001b[0;34m\u001b[0m\u001b[0m\n\u001b[0m\u001b[1;32m    531\u001b[0m \u001b[0;34m\u001b[0m\u001b[0m\n\u001b[1;32m    532\u001b[0m         \u001b[0;32mreturn\u001b[0m \u001b[0mresp\u001b[0m\u001b[0;34m\u001b[0m\u001b[0;34m\u001b[0m\u001b[0m\n",
      "\u001b[0;32m/opt/conda/lib/python3.8/site-packages/requests/sessions.py\u001b[0m in \u001b[0;36msend\u001b[0;34m(self, request, **kwargs)\u001b[0m\n\u001b[1;32m    641\u001b[0m \u001b[0;34m\u001b[0m\u001b[0m\n\u001b[1;32m    642\u001b[0m         \u001b[0;31m# Send the request\u001b[0m\u001b[0;34m\u001b[0m\u001b[0;34m\u001b[0m\u001b[0;34m\u001b[0m\u001b[0m\n\u001b[0;32m--> 643\u001b[0;31m         \u001b[0mr\u001b[0m \u001b[0;34m=\u001b[0m \u001b[0madapter\u001b[0m\u001b[0;34m.\u001b[0m\u001b[0msend\u001b[0m\u001b[0;34m(\u001b[0m\u001b[0mrequest\u001b[0m\u001b[0;34m,\u001b[0m \u001b[0;34m**\u001b[0m\u001b[0mkwargs\u001b[0m\u001b[0;34m)\u001b[0m\u001b[0;34m\u001b[0m\u001b[0;34m\u001b[0m\u001b[0m\n\u001b[0m\u001b[1;32m    644\u001b[0m \u001b[0;34m\u001b[0m\u001b[0m\n\u001b[1;32m    645\u001b[0m         \u001b[0;31m# Total elapsed time of the request (approximately)\u001b[0m\u001b[0;34m\u001b[0m\u001b[0;34m\u001b[0m\u001b[0;34m\u001b[0m\u001b[0m\n",
      "\u001b[0;32m/opt/conda/lib/python3.8/site-packages/requests/adapters.py\u001b[0m in \u001b[0;36msend\u001b[0;34m(self, request, stream, timeout, verify, cert, proxies)\u001b[0m\n\u001b[1;32m    437\u001b[0m         \u001b[0;32mtry\u001b[0m\u001b[0;34m:\u001b[0m\u001b[0;34m\u001b[0m\u001b[0;34m\u001b[0m\u001b[0m\n\u001b[1;32m    438\u001b[0m             \u001b[0;32mif\u001b[0m \u001b[0;32mnot\u001b[0m \u001b[0mchunked\u001b[0m\u001b[0;34m:\u001b[0m\u001b[0;34m\u001b[0m\u001b[0;34m\u001b[0m\u001b[0m\n\u001b[0;32m--> 439\u001b[0;31m                 resp = conn.urlopen(\n\u001b[0m\u001b[1;32m    440\u001b[0m                     \u001b[0mmethod\u001b[0m\u001b[0;34m=\u001b[0m\u001b[0mrequest\u001b[0m\u001b[0;34m.\u001b[0m\u001b[0mmethod\u001b[0m\u001b[0;34m,\u001b[0m\u001b[0;34m\u001b[0m\u001b[0;34m\u001b[0m\u001b[0m\n\u001b[1;32m    441\u001b[0m                     \u001b[0murl\u001b[0m\u001b[0;34m=\u001b[0m\u001b[0murl\u001b[0m\u001b[0;34m,\u001b[0m\u001b[0;34m\u001b[0m\u001b[0;34m\u001b[0m\u001b[0m\n",
      "\u001b[0;32m/opt/conda/lib/python3.8/site-packages/urllib3/connectionpool.py\u001b[0m in \u001b[0;36murlopen\u001b[0;34m(self, method, url, body, headers, retries, redirect, assert_same_host, timeout, pool_timeout, release_conn, chunked, body_pos, **response_kw)\u001b[0m\n\u001b[1;32m    668\u001b[0m \u001b[0;34m\u001b[0m\u001b[0m\n\u001b[1;32m    669\u001b[0m             \u001b[0;31m# Make the request on the httplib connection object.\u001b[0m\u001b[0;34m\u001b[0m\u001b[0;34m\u001b[0m\u001b[0;34m\u001b[0m\u001b[0m\n\u001b[0;32m--> 670\u001b[0;31m             httplib_response = self._make_request(\n\u001b[0m\u001b[1;32m    671\u001b[0m                 \u001b[0mconn\u001b[0m\u001b[0;34m,\u001b[0m\u001b[0;34m\u001b[0m\u001b[0;34m\u001b[0m\u001b[0m\n\u001b[1;32m    672\u001b[0m                 \u001b[0mmethod\u001b[0m\u001b[0;34m,\u001b[0m\u001b[0;34m\u001b[0m\u001b[0;34m\u001b[0m\u001b[0m\n",
      "\u001b[0;32m/opt/conda/lib/python3.8/site-packages/urllib3/connectionpool.py\u001b[0m in \u001b[0;36m_make_request\u001b[0;34m(self, conn, method, url, timeout, chunked, **httplib_request_kw)\u001b[0m\n\u001b[1;32m    424\u001b[0m                     \u001b[0;31m# Python 3 (including for exceptions like SystemExit).\u001b[0m\u001b[0;34m\u001b[0m\u001b[0;34m\u001b[0m\u001b[0;34m\u001b[0m\u001b[0m\n\u001b[1;32m    425\u001b[0m                     \u001b[0;31m# Otherwise it looks like a bug in the code.\u001b[0m\u001b[0;34m\u001b[0m\u001b[0;34m\u001b[0m\u001b[0;34m\u001b[0m\u001b[0m\n\u001b[0;32m--> 426\u001b[0;31m                     \u001b[0msix\u001b[0m\u001b[0;34m.\u001b[0m\u001b[0mraise_from\u001b[0m\u001b[0;34m(\u001b[0m\u001b[0me\u001b[0m\u001b[0;34m,\u001b[0m \u001b[0;32mNone\u001b[0m\u001b[0;34m)\u001b[0m\u001b[0;34m\u001b[0m\u001b[0;34m\u001b[0m\u001b[0m\n\u001b[0m\u001b[1;32m    427\u001b[0m         \u001b[0;32mexcept\u001b[0m \u001b[0;34m(\u001b[0m\u001b[0mSocketTimeout\u001b[0m\u001b[0;34m,\u001b[0m \u001b[0mBaseSSLError\u001b[0m\u001b[0;34m,\u001b[0m \u001b[0mSocketError\u001b[0m\u001b[0;34m)\u001b[0m \u001b[0;32mas\u001b[0m \u001b[0me\u001b[0m\u001b[0;34m:\u001b[0m\u001b[0;34m\u001b[0m\u001b[0;34m\u001b[0m\u001b[0m\n\u001b[1;32m    428\u001b[0m             \u001b[0mself\u001b[0m\u001b[0;34m.\u001b[0m\u001b[0m_raise_timeout\u001b[0m\u001b[0;34m(\u001b[0m\u001b[0merr\u001b[0m\u001b[0;34m=\u001b[0m\u001b[0me\u001b[0m\u001b[0;34m,\u001b[0m \u001b[0murl\u001b[0m\u001b[0;34m=\u001b[0m\u001b[0murl\u001b[0m\u001b[0;34m,\u001b[0m \u001b[0mtimeout_value\u001b[0m\u001b[0;34m=\u001b[0m\u001b[0mread_timeout\u001b[0m\u001b[0;34m)\u001b[0m\u001b[0;34m\u001b[0m\u001b[0;34m\u001b[0m\u001b[0m\n",
      "\u001b[0;32m/opt/conda/lib/python3.8/site-packages/urllib3/packages/six.py\u001b[0m in \u001b[0;36mraise_from\u001b[0;34m(value, from_value)\u001b[0m\n",
      "\u001b[0;32m/opt/conda/lib/python3.8/site-packages/urllib3/connectionpool.py\u001b[0m in \u001b[0;36m_make_request\u001b[0;34m(self, conn, method, url, timeout, chunked, **httplib_request_kw)\u001b[0m\n\u001b[1;32m    419\u001b[0m                 \u001b[0;31m# Python 3\u001b[0m\u001b[0;34m\u001b[0m\u001b[0;34m\u001b[0m\u001b[0;34m\u001b[0m\u001b[0m\n\u001b[1;32m    420\u001b[0m                 \u001b[0;32mtry\u001b[0m\u001b[0;34m:\u001b[0m\u001b[0;34m\u001b[0m\u001b[0;34m\u001b[0m\u001b[0m\n\u001b[0;32m--> 421\u001b[0;31m                     \u001b[0mhttplib_response\u001b[0m \u001b[0;34m=\u001b[0m \u001b[0mconn\u001b[0m\u001b[0;34m.\u001b[0m\u001b[0mgetresponse\u001b[0m\u001b[0;34m(\u001b[0m\u001b[0;34m)\u001b[0m\u001b[0;34m\u001b[0m\u001b[0;34m\u001b[0m\u001b[0m\n\u001b[0m\u001b[1;32m    422\u001b[0m                 \u001b[0;32mexcept\u001b[0m \u001b[0mBaseException\u001b[0m \u001b[0;32mas\u001b[0m \u001b[0me\u001b[0m\u001b[0;34m:\u001b[0m\u001b[0;34m\u001b[0m\u001b[0;34m\u001b[0m\u001b[0m\n\u001b[1;32m    423\u001b[0m                     \u001b[0;31m# Remove the TypeError from the exception chain in\u001b[0m\u001b[0;34m\u001b[0m\u001b[0;34m\u001b[0m\u001b[0;34m\u001b[0m\u001b[0m\n",
      "\u001b[0;32m/opt/conda/lib/python3.8/http/client.py\u001b[0m in \u001b[0;36mgetresponse\u001b[0;34m(self)\u001b[0m\n\u001b[1;32m   1345\u001b[0m         \u001b[0;32mtry\u001b[0m\u001b[0;34m:\u001b[0m\u001b[0;34m\u001b[0m\u001b[0;34m\u001b[0m\u001b[0m\n\u001b[1;32m   1346\u001b[0m             \u001b[0;32mtry\u001b[0m\u001b[0;34m:\u001b[0m\u001b[0;34m\u001b[0m\u001b[0;34m\u001b[0m\u001b[0m\n\u001b[0;32m-> 1347\u001b[0;31m                 \u001b[0mresponse\u001b[0m\u001b[0;34m.\u001b[0m\u001b[0mbegin\u001b[0m\u001b[0;34m(\u001b[0m\u001b[0;34m)\u001b[0m\u001b[0;34m\u001b[0m\u001b[0;34m\u001b[0m\u001b[0m\n\u001b[0m\u001b[1;32m   1348\u001b[0m             \u001b[0;32mexcept\u001b[0m \u001b[0mConnectionError\u001b[0m\u001b[0;34m:\u001b[0m\u001b[0;34m\u001b[0m\u001b[0;34m\u001b[0m\u001b[0m\n\u001b[1;32m   1349\u001b[0m                 \u001b[0mself\u001b[0m\u001b[0;34m.\u001b[0m\u001b[0mclose\u001b[0m\u001b[0;34m(\u001b[0m\u001b[0;34m)\u001b[0m\u001b[0;34m\u001b[0m\u001b[0;34m\u001b[0m\u001b[0m\n",
      "\u001b[0;32m/opt/conda/lib/python3.8/http/client.py\u001b[0m in \u001b[0;36mbegin\u001b[0;34m(self)\u001b[0m\n\u001b[1;32m    305\u001b[0m         \u001b[0;31m# read until we get a non-100 response\u001b[0m\u001b[0;34m\u001b[0m\u001b[0;34m\u001b[0m\u001b[0;34m\u001b[0m\u001b[0m\n\u001b[1;32m    306\u001b[0m         \u001b[0;32mwhile\u001b[0m \u001b[0;32mTrue\u001b[0m\u001b[0;34m:\u001b[0m\u001b[0;34m\u001b[0m\u001b[0;34m\u001b[0m\u001b[0m\n\u001b[0;32m--> 307\u001b[0;31m             \u001b[0mversion\u001b[0m\u001b[0;34m,\u001b[0m \u001b[0mstatus\u001b[0m\u001b[0;34m,\u001b[0m \u001b[0mreason\u001b[0m \u001b[0;34m=\u001b[0m \u001b[0mself\u001b[0m\u001b[0;34m.\u001b[0m\u001b[0m_read_status\u001b[0m\u001b[0;34m(\u001b[0m\u001b[0;34m)\u001b[0m\u001b[0;34m\u001b[0m\u001b[0;34m\u001b[0m\u001b[0m\n\u001b[0m\u001b[1;32m    308\u001b[0m             \u001b[0;32mif\u001b[0m \u001b[0mstatus\u001b[0m \u001b[0;34m!=\u001b[0m \u001b[0mCONTINUE\u001b[0m\u001b[0;34m:\u001b[0m\u001b[0;34m\u001b[0m\u001b[0;34m\u001b[0m\u001b[0m\n\u001b[1;32m    309\u001b[0m                 \u001b[0;32mbreak\u001b[0m\u001b[0;34m\u001b[0m\u001b[0;34m\u001b[0m\u001b[0m\n",
      "\u001b[0;32m/opt/conda/lib/python3.8/http/client.py\u001b[0m in \u001b[0;36m_read_status\u001b[0;34m(self)\u001b[0m\n\u001b[1;32m    266\u001b[0m \u001b[0;34m\u001b[0m\u001b[0m\n\u001b[1;32m    267\u001b[0m     \u001b[0;32mdef\u001b[0m \u001b[0m_read_status\u001b[0m\u001b[0;34m(\u001b[0m\u001b[0mself\u001b[0m\u001b[0;34m)\u001b[0m\u001b[0;34m:\u001b[0m\u001b[0;34m\u001b[0m\u001b[0;34m\u001b[0m\u001b[0m\n\u001b[0;32m--> 268\u001b[0;31m         \u001b[0mline\u001b[0m \u001b[0;34m=\u001b[0m \u001b[0mstr\u001b[0m\u001b[0;34m(\u001b[0m\u001b[0mself\u001b[0m\u001b[0;34m.\u001b[0m\u001b[0mfp\u001b[0m\u001b[0;34m.\u001b[0m\u001b[0mreadline\u001b[0m\u001b[0;34m(\u001b[0m\u001b[0m_MAXLINE\u001b[0m \u001b[0;34m+\u001b[0m \u001b[0;36m1\u001b[0m\u001b[0;34m)\u001b[0m\u001b[0;34m,\u001b[0m \u001b[0;34m\"iso-8859-1\"\u001b[0m\u001b[0;34m)\u001b[0m\u001b[0;34m\u001b[0m\u001b[0;34m\u001b[0m\u001b[0m\n\u001b[0m\u001b[1;32m    269\u001b[0m         \u001b[0;32mif\u001b[0m \u001b[0mlen\u001b[0m\u001b[0;34m(\u001b[0m\u001b[0mline\u001b[0m\u001b[0;34m)\u001b[0m \u001b[0;34m>\u001b[0m \u001b[0m_MAXLINE\u001b[0m\u001b[0;34m:\u001b[0m\u001b[0;34m\u001b[0m\u001b[0;34m\u001b[0m\u001b[0m\n\u001b[1;32m    270\u001b[0m             \u001b[0;32mraise\u001b[0m \u001b[0mLineTooLong\u001b[0m\u001b[0;34m(\u001b[0m\u001b[0;34m\"status line\"\u001b[0m\u001b[0;34m)\u001b[0m\u001b[0;34m\u001b[0m\u001b[0;34m\u001b[0m\u001b[0m\n",
      "\u001b[0;32m/opt/conda/lib/python3.8/socket.py\u001b[0m in \u001b[0;36mreadinto\u001b[0;34m(self, b)\u001b[0m\n\u001b[1;32m    667\u001b[0m         \u001b[0;32mwhile\u001b[0m \u001b[0;32mTrue\u001b[0m\u001b[0;34m:\u001b[0m\u001b[0;34m\u001b[0m\u001b[0;34m\u001b[0m\u001b[0m\n\u001b[1;32m    668\u001b[0m             \u001b[0;32mtry\u001b[0m\u001b[0;34m:\u001b[0m\u001b[0;34m\u001b[0m\u001b[0;34m\u001b[0m\u001b[0m\n\u001b[0;32m--> 669\u001b[0;31m                 \u001b[0;32mreturn\u001b[0m \u001b[0mself\u001b[0m\u001b[0;34m.\u001b[0m\u001b[0m_sock\u001b[0m\u001b[0;34m.\u001b[0m\u001b[0mrecv_into\u001b[0m\u001b[0;34m(\u001b[0m\u001b[0mb\u001b[0m\u001b[0;34m)\u001b[0m\u001b[0;34m\u001b[0m\u001b[0;34m\u001b[0m\u001b[0m\n\u001b[0m\u001b[1;32m    670\u001b[0m             \u001b[0;32mexcept\u001b[0m \u001b[0mtimeout\u001b[0m\u001b[0;34m:\u001b[0m\u001b[0;34m\u001b[0m\u001b[0;34m\u001b[0m\u001b[0m\n\u001b[1;32m    671\u001b[0m                 \u001b[0mself\u001b[0m\u001b[0;34m.\u001b[0m\u001b[0m_timeout_occurred\u001b[0m \u001b[0;34m=\u001b[0m \u001b[0;32mTrue\u001b[0m\u001b[0;34m\u001b[0m\u001b[0;34m\u001b[0m\u001b[0m\n",
      "\u001b[0;32m/opt/conda/lib/python3.8/ssl.py\u001b[0m in \u001b[0;36mrecv_into\u001b[0;34m(self, buffer, nbytes, flags)\u001b[0m\n\u001b[1;32m   1239\u001b[0m                   \u001b[0;34m\"non-zero flags not allowed in calls to recv_into() on %s\"\u001b[0m \u001b[0;34m%\u001b[0m\u001b[0;34m\u001b[0m\u001b[0;34m\u001b[0m\u001b[0m\n\u001b[1;32m   1240\u001b[0m                   self.__class__)\n\u001b[0;32m-> 1241\u001b[0;31m             \u001b[0;32mreturn\u001b[0m \u001b[0mself\u001b[0m\u001b[0;34m.\u001b[0m\u001b[0mread\u001b[0m\u001b[0;34m(\u001b[0m\u001b[0mnbytes\u001b[0m\u001b[0;34m,\u001b[0m \u001b[0mbuffer\u001b[0m\u001b[0;34m)\u001b[0m\u001b[0;34m\u001b[0m\u001b[0;34m\u001b[0m\u001b[0m\n\u001b[0m\u001b[1;32m   1242\u001b[0m         \u001b[0;32melse\u001b[0m\u001b[0;34m:\u001b[0m\u001b[0;34m\u001b[0m\u001b[0;34m\u001b[0m\u001b[0m\n\u001b[1;32m   1243\u001b[0m             \u001b[0;32mreturn\u001b[0m \u001b[0msuper\u001b[0m\u001b[0;34m(\u001b[0m\u001b[0;34m)\u001b[0m\u001b[0;34m.\u001b[0m\u001b[0mrecv_into\u001b[0m\u001b[0;34m(\u001b[0m\u001b[0mbuffer\u001b[0m\u001b[0;34m,\u001b[0m \u001b[0mnbytes\u001b[0m\u001b[0;34m,\u001b[0m \u001b[0mflags\u001b[0m\u001b[0;34m)\u001b[0m\u001b[0;34m\u001b[0m\u001b[0;34m\u001b[0m\u001b[0m\n",
      "\u001b[0;32m/opt/conda/lib/python3.8/ssl.py\u001b[0m in \u001b[0;36mread\u001b[0;34m(self, len, buffer)\u001b[0m\n\u001b[1;32m   1097\u001b[0m         \u001b[0;32mtry\u001b[0m\u001b[0;34m:\u001b[0m\u001b[0;34m\u001b[0m\u001b[0;34m\u001b[0m\u001b[0m\n\u001b[1;32m   1098\u001b[0m             \u001b[0;32mif\u001b[0m \u001b[0mbuffer\u001b[0m \u001b[0;32mis\u001b[0m \u001b[0;32mnot\u001b[0m \u001b[0;32mNone\u001b[0m\u001b[0;34m:\u001b[0m\u001b[0;34m\u001b[0m\u001b[0;34m\u001b[0m\u001b[0m\n\u001b[0;32m-> 1099\u001b[0;31m                 \u001b[0;32mreturn\u001b[0m \u001b[0mself\u001b[0m\u001b[0;34m.\u001b[0m\u001b[0m_sslobj\u001b[0m\u001b[0;34m.\u001b[0m\u001b[0mread\u001b[0m\u001b[0;34m(\u001b[0m\u001b[0mlen\u001b[0m\u001b[0;34m,\u001b[0m \u001b[0mbuffer\u001b[0m\u001b[0;34m)\u001b[0m\u001b[0;34m\u001b[0m\u001b[0;34m\u001b[0m\u001b[0m\n\u001b[0m\u001b[1;32m   1100\u001b[0m             \u001b[0;32melse\u001b[0m\u001b[0;34m:\u001b[0m\u001b[0;34m\u001b[0m\u001b[0;34m\u001b[0m\u001b[0m\n\u001b[1;32m   1101\u001b[0m                 \u001b[0;32mreturn\u001b[0m \u001b[0mself\u001b[0m\u001b[0;34m.\u001b[0m\u001b[0m_sslobj\u001b[0m\u001b[0;34m.\u001b[0m\u001b[0mread\u001b[0m\u001b[0;34m(\u001b[0m\u001b[0mlen\u001b[0m\u001b[0;34m)\u001b[0m\u001b[0;34m\u001b[0m\u001b[0;34m\u001b[0m\u001b[0m\n",
      "\u001b[0;31mKeyboardInterrupt\u001b[0m: "
     ]
    }
   ],
   "source": [
    "#python package ztfquery is not a good solution for this because it requires IRSA password\n",
    "#Instead will construct the URL for an API query\n",
    "#https://irsa.ipac.caltech.edu/docs/program_interface/ztf_lightcurve_api.html\n",
    "ztf_radius = 0.000278   #as suggested by Dave Shupe\n",
    "\n",
    "for ccount, coord in enumerate(coords_list):\n",
    "    #doesn't take SkyCoord\n",
    "    ra = CLAGN['RA'][ccount]\n",
    "    dec = CLAGN['DEC'][ccount]\n",
    "    #make the string for the URL query\n",
    "    #ask for all three bands (g, r, i)\n",
    "    #don't want data that is flagged as unusable by the ZTF pipeline\n",
    "    urlstr = 'https://irsa.ipac.caltech.edu/cgi-bin/ZTF/nph_light_curves?POS=CIRCLE %f %f %f&BANDNAME=g,r,i&FORMAT=ipac_table&BAD_CATFLAGS_MASK=32768'%(ra, dec,ztf_radius)\n",
    "\n",
    "    response = requests.get(urlstr)\n",
    "    if response.ok:\n",
    "        ztf_lc = ascii.read(response.text, format='ipac')\n",
    "        #print(count, len(ztf_lc))\n",
    "        #this could be up to 3 light curves because there are 3 filters\n",
    "        #need to sort by filtercode 'zg','zr','zi'\n",
    "        #and store the light curves\n",
    "    else:\n",
    "        print(ccount, \" There is no ZTF light curve at this position\")"
   ]
  },
  {
   "cell_type": "markdown",
   "metadata": {},
   "source": [
    "## 2.3 IRSA:WISE\n",
    "\n",
    "- Dave Shupe has made a catalog of neowise light curves of half the sky in a parquet file\n",
    "\n",
    "- Pandas is not a good option for working with this catalog because it is so large (2 billion rows?)\n",
    "\n",
    "- Instead we can use AXS to cross match the CLAGN sample with the neowise catalog to find those rows in neowise which correspond to the CLAGN sample. AXS is a part of spark. \n"
   ]
  },
  {
   "cell_type": "code",
   "execution_count": 12,
   "metadata": {},
   "outputs": [
    {
     "name": "stdout",
     "output_type": "stream",
     "text": [
      "CPU times: user 1h 53min 48s, sys: 4h 16min 37s, total: 6h 10min 25s\n",
      "Wall time: 23min 46s\n"
     ]
    }
   ],
   "source": [
    "#%%time\n",
    "#could load the neowise light curves into pandas, but would need to severely\n",
    "# filter the catalog to get it to fit into memory.  Since these targets are all over the sky\n",
    "# it is not obvious how to filter the catalog\n",
    "\n",
    "#Here is one way it could work in Pandas if we had a way to filter significantly before matching\n",
    "#subset = pd.read_parquet('/stage/irsa-data-download10/parquet-work/NEOWISE-R/neowise_lc_half.parquet',\n",
    "#                    engine='pyarrow', \n",
    "#                    filters=[ ('ra', '<', 121) , ('ra', '>', 120) , \n",
    "#                            ('dec', '<', 68) , ('dec', '>', -9),\n",
    "#                            ('cw_w1mpro', '>', 15.0) ])\n",
    "#\n",
    "#len(subset)"
   ]
  },
  {
   "cell_type": "code",
   "execution_count": 24,
   "metadata": {},
   "outputs": [],
   "source": [
    "#start up SPARK\n",
    "os.environ['SPARK_CONF_DIR'] = '/home/jkrick/axs_store/conf_alt'\n",
    "\n",
    "def spark_start(work_dir, database_dir, warehouse_dir):\n",
    "    from pyspark.sql import SparkSession\n",
    "    import os\n",
    "    \n",
    "    spark = (\n",
    "            SparkSession.builder\n",
    "            .appName(\"spark trial\")\n",
    "            .config(\"spark.sql.warehouse.dir\", warehouse_dir)\n",
    "            .config('spark.master', \"local[20]\")\n",
    "            .config('spark.driver.memory', '64G') # 128\n",
    "            .config('spark.executor.memory', '30G')\n",
    "            .config('spark.local.dir', work_dir)\n",
    "            .config('spark.memory.offHeap.enabled', 'true')\n",
    "            .config('spark.memory.offHeap.size', '128G') # 256\n",
    "            .config(\"spark.sql.execution.arrow.enabled\", \"true\")\n",
    "            .config(\"spark.driver.maxResultSize\", \"60G\")\n",
    "            .config(\"spark.driver.extraJavaOptions\", \n",
    "                    f\"-Dderby.system.home={database_dir}\")\n",
    "            .config(\"spark.sql.hive.metastore.sharedPrefixes\",\n",
    "                    \"org.apache.derby\")\n",
    "            .enableHiveSupport()\n",
    "            .getOrCreate()\n",
    "                    )   \n",
    "\n",
    "    return spark\n",
    "\n",
    "spark_session = spark_start(\n",
    "    \"/stage/irsa-staff-jkrick/spark_work\",\n",
    "    \"/home/jkrick/axs_store\",\n",
    "    \"/stage/irsa-staff-jkrick/sp_axs_warehouse/warehouse\")"
   ]
  },
  {
   "cell_type": "code",
   "execution_count": 25,
   "metadata": {},
   "outputs": [],
   "source": [
    "#if the one we want is not yet available, add it to the list\n",
    "catalog = axs.AxsCatalog(spark_session)\n",
    "catlist = catalog.list_table_names()\n",
    "\n",
    "if 'neowise_lc_half' not in catlist:\n",
    "    catalog.import_existing_table('neowise_lc_half', \n",
    "        '/stage/irsa-data-download10/parquet-work/NEOWISE-R/neowise_lc_half.parquet',\n",
    "        import_into_spark=True)"
   ]
  },
  {
   "cell_type": "code",
   "execution_count": 26,
   "metadata": {},
   "outputs": [],
   "source": [
    "#lazy load in the catalog\n",
    "neowise_lc_half = catalog.load('neowise_lc_half')"
   ]
  },
  {
   "cell_type": "code",
   "execution_count": 27,
   "metadata": {},
   "outputs": [],
   "source": [
    "#now figure out how to get the CLAGN catalog into AXS\n",
    "#can't go direct from astropy table into AXS, so first to pandas\n",
    "\n",
    "if 'axs_clagn' not in catlist:\n",
    "\n",
    "    pd_CLAGN = CLAGN.to_pandas()\n",
    "\n",
    "    #then pandas to spark dataframe\n",
    "    sp_CLAGN = spark_session.createDataFrame(pd_CLAGN)\n",
    "\n",
    "    #ok, saving below can't handle capital \"RA\" and \"DEC\", so need to change that\n",
    "    #also can't handle column names with spaces in them so need to rename those as well.\n",
    "    sp_CLAGN2 = sp_CLAGN.withColumnRenamed(\"RA\",\"ra\").withColumnRenamed(\"DEC\",\"dec\").withColumnRenamed(\"Object Name\", \"Object_name\").withColumnRenamed(\"Redshift Flag\",\"redshift_flag\").withColumnRenamed(\"Magnitude and Filter\", \"magnitude_and_filter\").withColumnRenamed(\"Photometry Points\",\"photometry_points\").withColumnRenamed(\"Redshift Points\", \"redshift_points\").withColumnRenamed(\"Diameter Points\",\"diameter_points\")\n",
    "\n",
    "    #now save spark to AXS\n",
    "    catalog.save_axs_table(sp_CLAGN2, 'AXS_CLAGN', calculate_zone=True)"
   ]
  },
  {
   "cell_type": "code",
   "execution_count": 28,
   "metadata": {},
   "outputs": [
    {
     "data": {
      "text/plain": [
       "['gaia_edr3', 'catwise_corrected', 'neowise_lc_half', 'axs_clagn']"
      ]
     },
     "execution_count": 28,
     "metadata": {},
     "output_type": "execute_result"
    }
   ],
   "source": [
    "#just confirm that worked:\n",
    "catalog = axs.AxsCatalog(spark_session)\n",
    "catlist = catalog.list_table_names()\n",
    "catlist"
   ]
  },
  {
   "cell_type": "code",
   "execution_count": 29,
   "metadata": {},
   "outputs": [],
   "source": [
    "#lazy load in the catalog\n",
    "axs_clagn = catalog.load('axs_clagn')"
   ]
  },
  {
   "cell_type": "code",
   "execution_count": 49,
   "metadata": {},
   "outputs": [],
   "source": [
    "axs_clagn = axs_clagn.withColumnRenamed(\"No.\", \"objnum\")"
   ]
  },
  {
   "cell_type": "code",
   "execution_count": 50,
   "metadata": {},
   "outputs": [],
   "source": [
    "#ready to try the crossmatch\n",
    "\n",
    "neowise_CLAGN = neowise_lc_half.crossmatch(axs_clagn, 2*axs.Constants.ONE_ASEC, return_min = True, include_dist_col = True)\n",
    "\n"
   ]
  },
  {
   "cell_type": "code",
   "execution_count": 51,
   "metadata": {},
   "outputs": [
    {
     "name": "stdout",
     "output_type": "stream",
     "text": [
      "CPU times: user 29.5 ms, sys: 16.8 ms, total: 46.4 ms\n",
      "Wall time: 2min 7s\n"
     ]
    },
    {
     "data": {
      "text/plain": [
       "29"
      ]
     },
     "execution_count": 51,
     "metadata": {},
     "output_type": "execute_result"
    }
   ],
   "source": [
    "%%time\n",
    "#lazy evaluation means the cross match won't happen until this cell gets executed\n",
    "neowise_CLAGN.count()"
   ]
  },
  {
   "cell_type": "code",
   "execution_count": 52,
   "metadata": {},
   "outputs": [
    {
     "data": {
      "text/html": [
       "AxsFrame[cw_cntr: bigint, cw_w1mpro: float, cw_w1sigmpro: float, cw_w2mpro: float, cw_w2sigmpro: float, mean_w1mpro: decimal(10,7), mean_w2mpro: decimal(10,7), mjd: array<decimal(13,8)>, wise_cntr: array<decimal(19,0)>, wise_ra: array<decimal(13,8)>, wise_dec: array<decimal(10,7)>, w1pmag: array<decimal(6,3)>, w1pmagerr: array<decimal(4,3)>, w2pmag: array<decimal(6,3)>, w2pmagerr: array<decimal(4,3)>, dup: int, objnum: bigint, Object_name: string, Type: string, Velocity: double, Redshift: double, redshift_flag: string, magnitude_and_filter: string, Separation: double, References: bigint, Notes: bigint, photometry_points: bigint, Positions: bigint, redshift_points: bigint, diameter_points: bigint, Associations: bigint, dup2: int, axsdist: double, ra: float, dec: float, zone: bigint]"
      ],
      "text/plain": [
       "AxsFrame[cw_cntr: bigint, cw_w1mpro: float, cw_w1sigmpro: float, cw_w2mpro: float, cw_w2sigmpro: float, mean_w1mpro: decimal(10,7), mean_w2mpro: decimal(10,7), mjd: array<decimal(13,8)>, wise_cntr: array<decimal(19,0)>, wise_ra: array<decimal(13,8)>, wise_dec: array<decimal(10,7)>, w1pmag: array<decimal(6,3)>, w1pmagerr: array<decimal(4,3)>, w2pmag: array<decimal(6,3)>, w2pmagerr: array<decimal(4,3)>, dup: int, objnum: bigint, Object_name: string, Type: string, Velocity: double, Redshift: double, redshift_flag: string, magnitude_and_filter: string, Separation: double, References: bigint, Notes: bigint, photometry_points: bigint, Positions: bigint, redshift_points: bigint, diameter_points: bigint, Associations: bigint, dup2: int, axsdist: double, ra: float, dec: float, zone: bigint]"
      ]
     },
     "execution_count": 52,
     "metadata": {},
     "output_type": "execute_result"
    }
   ],
   "source": [
    "neowise_CLAGN"
   ]
  },
  {
   "cell_type": "code",
   "execution_count": 53,
   "metadata": {},
   "outputs": [],
   "source": [
    "#make a smaller version with just the light curve info to save\n",
    "neowise_lc = neowise_CLAGN.select('objnum','Object_name','w1pmag','w1pmagerr','w2pmag','w2pmagerr', 'mjd')"
   ]
  },
  {
   "cell_type": "code",
   "execution_count": 54,
   "metadata": {},
   "outputs": [
    {
     "data": {
      "text/html": [
       "AxsFrame[objnum: bigint, Object_name: string, w1pmag: array<decimal(6,3)>, w1pmagerr: array<decimal(4,3)>, w2pmag: array<decimal(6,3)>, w2pmagerr: array<decimal(4,3)>, mjd: array<decimal(13,8)>]"
      ],
      "text/plain": [
       "AxsFrame[objnum: bigint, Object_name: string, w1pmag: array<decimal(6,3)>, w1pmagerr: array<decimal(4,3)>, w2pmag: array<decimal(6,3)>, w2pmagerr: array<decimal(4,3)>, mjd: array<decimal(13,8)>]"
      ]
     },
     "execution_count": 54,
     "metadata": {},
     "output_type": "execute_result"
    }
   ],
   "source": [
    "neowise_lc"
   ]
  },
  {
   "cell_type": "code",
   "execution_count": 60,
   "metadata": {},
   "outputs": [
    {
     "name": "stdout",
     "output_type": "stream",
     "text": [
      "CPU times: user 311 ms, sys: 72.3 ms, total: 383 ms\n",
      "Wall time: 17min 21s\n"
     ]
    }
   ],
   "source": [
    "%%time\n",
    "#now get it into a format that I can handle\n",
    "#this is taking a long time 45min? for 29 rows? for all columns\n",
    "#more like 18 min for limited set of columns\n",
    "\n",
    "pd_neowise_lc = neowise_lc.toPandas()\n",
    "\n",
    "#instead maybe try parquet?  csv doesn't work since there are arrays in the columns\n",
    "#neowise_CLAGN.write.parquet(\"neowise_CLAGN.parquet\")\n",
    "\n",
    "#instead try pulling the data into a pandas dataframe\n",
    "#is this faster? no 1h 58 min. for all columns\n",
    "#pd_neowise_CLAGN = pd.DataFrame.from_records(neowise_CLAGN.collect(), columns=neowise_CLAGN.columns)"
   ]
  },
  {
   "cell_type": "code",
   "execution_count": 75,
   "metadata": {},
   "outputs": [],
   "source": [
    "#dealing with datatype issues\n",
    "#w1pmag = pd_neowise_lc.w1pmag.to_numpy\n",
    "#err = pd_neowise_lc.w1pmagerr.to_numpy\n",
    "#time = pd_neowise_lc.mjd.to_numpy\n",
    "#dfall = pd.DataFrame(dict(flux=w1pmag, err=err, time=time, objectid=pd_neowise_lc.objnum, band='w1')).set_index([\"objectid\", \"band\", \"time\"])\n",
    "\n",
    "#dfsingle = pd.DataFrame(dict(flux=pd_neowise_lc.w1pmag, err=pd_neowise_lc.w1pmagerr, time=pd_neowise_lc.mjd, objectid=pd_neowise_lc.objnum, band='w1')).set_index([\"objectid\", \"band\", \"time\"])\n",
    "#first try dropping columns we don't need\n",
    "#and renaming columns to fit in our data structure\n",
    "#and adding a filter name\n",
    "#and setting multiindex\n",
    "#w1df = pd_neowise_lc.drop(columns=[\"w2pmag\", \"w2pmagerr\", \"Object_name\"])\n",
    "#w1df = w1df.rename(columns = {\"objnum\":\"objectid\", \"w1pmag\":\"flux\", \"w1pmagerr\":\"err\", \"mjd\":\"time\"})\n",
    "#w1df['band']= 'w1'\n",
    "#w1df.set_index([\"objectid\", \"band\", \"time\"])\n",
    "#w1df"
   ]
  },
  {
   "cell_type": "code",
   "execution_count": 91,
   "metadata": {},
   "outputs": [],
   "source": [
    "#need to convert those magnitudes into flux to be consistent in data structure.\n",
    "#go to Janskies\n",
    "#using zeropoints from here: https://wise2.ipac.caltech.edu/docs/release/allsky/expsup/sec4_4h.html\n",
    "def convert_WISEtoJanskies(mag, band):\n",
    "    if band == 'w1':\n",
    "        zpt = 309.54\n",
    "    elif band == 'w2':\n",
    "        zpt = 171.787\n",
    "            \n",
    "    flux_Jy = zpt*(10**(-mag/2.5))\n",
    "    print(mag, flux_Jy)  #just testing\n",
    "    return flux_Jy"
   ]
  },
  {
   "cell_type": "code",
   "execution_count": 107,
   "metadata": {},
   "outputs": [],
   "source": [
    "#decimals are causing problems when trying to do things with these columns, aka, convert units\n",
    "def convert_decimal_float(changetype):\n",
    "\n",
    "    #columns which are themselves arrays\n",
    "    changetype['mjd'] = [changetype.mjd[i].astype(float) for i in range(len(changetype))]\n",
    "    changetype['w1mag'] = [changetype.w1pmag[i].astype(float) for i in range(len(changetype))]\n",
    "    changetype['w2mag'] = [changetype.w2pmag[i].astype(float) for i in range(len(changetype))]\n",
    "    changetype['w1error'] = [changetype.w1pmagerr[i].astype(float) for i in range(len(changetype))]\n",
    "    changetype['w2error'] = [changetype.w2pmagerr[i].astype(float) for i in range(len(changetype))]\n",
    "\n",
    "    return changetype\n"
   ]
  },
  {
   "cell_type": "code",
   "execution_count": 102,
   "metadata": {},
   "outputs": [
    {
     "name": "stdout",
     "output_type": "stream",
     "text": [
      "[14.79400766 14.77280104 14.69026247 14.28531994 14.27794221 14.05528064\n",
      " 14.6686564  14.29742879 14.66672655 14.54650354] [0.00037421 0.00038159 0.00041173 0.00059785 0.00060192 0.00073893\n",
      " 0.00042    0.00059121 0.00042075 0.00047002]\n"
     ]
    },
    {
     "data": {
      "text/plain": [
       "array([0.00037421, 0.00038159, 0.00041173, 0.00059785, 0.00060192,\n",
       "       0.00073893, 0.00042   , 0.00059121, 0.00042075, 0.00047002])"
      ]
     },
     "execution_count": 102,
     "metadata": {},
     "output_type": "execute_result"
    }
   ],
   "source": [
    "magtest = np.random.rand(10) + 14\n",
    "convert_WISEtoJanskies(magtest, 'w1')"
   ]
  },
  {
   "cell_type": "code",
   "execution_count": 108,
   "metadata": {},
   "outputs": [
    {
     "name": "stdout",
     "output_type": "stream",
     "text": [
      "CPU times: user 13.9 ms, sys: 0 ns, total: 13.9 ms\n",
      "Wall time: 13.7 ms\n"
     ]
    }
   ],
   "source": [
    "%%time\n",
    "floats = convert_decimal_float(pd_neowise_lc)"
   ]
  },
  {
   "cell_type": "code",
   "execution_count": 109,
   "metadata": {},
   "outputs": [
    {
     "name": "stdout",
     "output_type": "stream",
     "text": [
      "0     [14.972, 14.98, 15.193, 15.011, 15.203, 15.149...\n",
      "1     [14.249, 13.946, 14.276, 13.924, 14.158, 13.83...\n",
      "2     [13.691, 13.848, 13.589, 13.744, 13.694, 13.80...\n",
      "3     [14.913, 15.034, 14.961, 15.153, 15.027, 15.32...\n",
      "4     [14.346, 14.443, 14.448, 14.409, 14.761, 14.49...\n",
      "5     [13.172, 13.194, 13.162, 13.153, 13.064, 13.22...\n",
      "6     [15.435, 15.555, 15.487, 15.742, 15.639, 15.71...\n",
      "7     [15.163, 15.192, 15.255, 15.26, 15.082, 14.956...\n",
      "8     [13.922, 13.783, 13.902, 13.753, 13.892, 13.95...\n",
      "9     [13.938, 14.204, 14.031, 14.034, 14.042, 14.02...\n",
      "10    [13.362, 13.4, 13.337, 13.413, 13.369, 13.307,...\n",
      "11    [14.164, 14.448, 14.14, 14.25, 14.083, 14.427,...\n",
      "12    [14.99, 15.188, 15.017, 15.086, 15.161, 14.932...\n",
      "13    [13.808, 13.835, 13.815, 13.984, 13.798, 13.88...\n",
      "14    [13.801, 13.727, 13.775, 13.786, 13.815, 13.79...\n",
      "15    [13.479, 13.457, 13.552, 13.492, 13.427, 13.46...\n",
      "16    [13.004, 12.989, 13.04, 13.04, 13.073, 13.079,...\n",
      "17    [15.921, 15.518, 15.571, 15.414, 15.581, 15.33...\n",
      "18    [15.242, 15.368, 15.22, 15.433, 15.269, 15.466...\n",
      "19    [14.158, 14.316, 14.184, 14.144, 14.237, 14.14...\n",
      "20    [15.085, 14.904, 15.181, 14.903, 14.833, 15.05...\n",
      "21    [15.318, 15.806, 15.714, 15.394, 15.774, 15.55...\n",
      "22    [14.056, 14.144, 14.195, 14.179, 14.202, 14.02...\n",
      "23    [14.115, 14.036, 14.134, 14.017, 14.069, 14.03...\n",
      "24    [13.523, 13.622, 13.58, 13.599, 13.529, 13.701...\n",
      "25    [15.044, 15.084, 15.412, 15.122, 15.116, 15.16...\n",
      "26    [14.636, 14.179, 14.838, 14.214, 14.591, 14.15...\n",
      "27    [13.861, 13.843, 13.892, 13.831, 13.85, 13.857...\n",
      "28    [14.831, 15.269, 14.814, 14.823, 14.701, 14.84...\n",
      "Name: w1mag, dtype: object 0     [0.0003176265360019476, 0.0003152947782582714,...\n",
      "1     [0.0006181826020703642, 0.0008171782110804874,...\n",
      "2     [0.001033514985914946, 0.0008943690837517979, ...\n",
      "3     [0.00033536426044995386, 0.0002999969077850443...\n",
      "4     [0.0005653491951856132, 0.0005170312322387887,...\n",
      "5     [0.0016669277566711462, 0.0016334911213347972,...\n",
      "6     [0.00020735608199879142, 0.0001856593297441306...\n",
      "7     [0.00026638930099282627, 0.0002593682299748850...\n",
      "8     [0.0008354429110225269, 0.0009495476827151795,...\n",
      "9     [0.0008232216401286177, 0.0006443425006856455,...\n",
      "10    [0.0013993191521439708, 0.001351191107116209, ...\n",
      "11    [0.0006685236539805959, 0.0005146556895104248,...\n",
      "12    [0.00031240413835617657, 0.0002603255401945901...\n",
      "13    [0.0009279333386216104, 0.0009051421270376247,...\n",
      "14    [0.0009339352731061517, 0.0009998083932139697,...\n",
      "15    [0.001256367745356503, 0.0012820848794144494, ...\n",
      "16    [0.0019458832434737544, 0.0019729531758722555,...\n",
      "17    [0.00013253078740720441, 0.0001920953173202315...\n",
      "18    [0.00024769473667551824, 0.0002205549342538169...\n",
      "19    [0.0006722282790499376, 0.0005811881867834956,...\n",
      "20    [0.000286231072760837, 0.0003381557513158215, ...\n",
      "21    [0.0002309493680706607, 0.00014733868120220053...\n",
      "22    [0.000738442660380215, 0.000680952436655104, 0...\n",
      "23    [0.0006993857483142016, 0.000752171334435058, ...\n",
      "24    [0.0012064706973186812, 0.0011013282471346272,...\n",
      "25    [0.00029724651960247203, 0.000286494822764074,...\n",
      "26    [0.0004328294255541153, 0.0006593511655802792,...\n",
      "27    [0.0008837242617233516, 0.0008984973038738763,...\n",
      "28    [0.0003616735743723165, 0.00024161104195645944...\n",
      "Name: w1mag, dtype: object\n"
     ]
    },
    {
     "data": {
      "text/plain": [
       "0     [0.0003176265360019476, 0.0003152947782582714,...\n",
       "1     [0.0006181826020703642, 0.0008171782110804874,...\n",
       "2     [0.001033514985914946, 0.0008943690837517979, ...\n",
       "3     [0.00033536426044995386, 0.0002999969077850443...\n",
       "4     [0.0005653491951856132, 0.0005170312322387887,...\n",
       "5     [0.0016669277566711462, 0.0016334911213347972,...\n",
       "6     [0.00020735608199879142, 0.0001856593297441306...\n",
       "7     [0.00026638930099282627, 0.0002593682299748850...\n",
       "8     [0.0008354429110225269, 0.0009495476827151795,...\n",
       "9     [0.0008232216401286177, 0.0006443425006856455,...\n",
       "10    [0.0013993191521439708, 0.001351191107116209, ...\n",
       "11    [0.0006685236539805959, 0.0005146556895104248,...\n",
       "12    [0.00031240413835617657, 0.0002603255401945901...\n",
       "13    [0.0009279333386216104, 0.0009051421270376247,...\n",
       "14    [0.0009339352731061517, 0.0009998083932139697,...\n",
       "15    [0.001256367745356503, 0.0012820848794144494, ...\n",
       "16    [0.0019458832434737544, 0.0019729531758722555,...\n",
       "17    [0.00013253078740720441, 0.0001920953173202315...\n",
       "18    [0.00024769473667551824, 0.0002205549342538169...\n",
       "19    [0.0006722282790499376, 0.0005811881867834956,...\n",
       "20    [0.000286231072760837, 0.0003381557513158215, ...\n",
       "21    [0.0002309493680706607, 0.00014733868120220053...\n",
       "22    [0.000738442660380215, 0.000680952436655104, 0...\n",
       "23    [0.0006993857483142016, 0.000752171334435058, ...\n",
       "24    [0.0012064706973186812, 0.0011013282471346272,...\n",
       "25    [0.00029724651960247203, 0.000286494822764074,...\n",
       "26    [0.0004328294255541153, 0.0006593511655802792,...\n",
       "27    [0.0008837242617233516, 0.0008984973038738763,...\n",
       "28    [0.0003616735743723165, 0.00024161104195645944...\n",
       "Name: w1mag, dtype: object"
      ]
     },
     "execution_count": 109,
     "metadata": {},
     "output_type": "execute_result"
    }
   ],
   "source": [
    "convert_WISEtoJanskies(floats['w1mag'], 'w1')"
   ]
  },
  {
   "cell_type": "code",
   "execution_count": 112,
   "metadata": {},
   "outputs": [
    {
     "name": "stdout",
     "output_type": "stream",
     "text": [
      "0     [14.972, 14.98, 15.193, 15.011, 15.203, 15.149...\n",
      "1     [14.249, 13.946, 14.276, 13.924, 14.158, 13.83...\n",
      "2     [13.691, 13.848, 13.589, 13.744, 13.694, 13.80...\n",
      "3     [14.913, 15.034, 14.961, 15.153, 15.027, 15.32...\n",
      "4     [14.346, 14.443, 14.448, 14.409, 14.761, 14.49...\n",
      "5     [13.172, 13.194, 13.162, 13.153, 13.064, 13.22...\n",
      "6     [15.435, 15.555, 15.487, 15.742, 15.639, 15.71...\n",
      "7     [15.163, 15.192, 15.255, 15.26, 15.082, 14.956...\n",
      "8     [13.922, 13.783, 13.902, 13.753, 13.892, 13.95...\n",
      "9     [13.938, 14.204, 14.031, 14.034, 14.042, 14.02...\n",
      "10    [13.362, 13.4, 13.337, 13.413, 13.369, 13.307,...\n",
      "11    [14.164, 14.448, 14.14, 14.25, 14.083, 14.427,...\n",
      "12    [14.99, 15.188, 15.017, 15.086, 15.161, 14.932...\n",
      "13    [13.808, 13.835, 13.815, 13.984, 13.798, 13.88...\n",
      "14    [13.801, 13.727, 13.775, 13.786, 13.815, 13.79...\n",
      "15    [13.479, 13.457, 13.552, 13.492, 13.427, 13.46...\n",
      "16    [13.004, 12.989, 13.04, 13.04, 13.073, 13.079,...\n",
      "17    [15.921, 15.518, 15.571, 15.414, 15.581, 15.33...\n",
      "18    [15.242, 15.368, 15.22, 15.433, 15.269, 15.466...\n",
      "19    [14.158, 14.316, 14.184, 14.144, 14.237, 14.14...\n",
      "20    [15.085, 14.904, 15.181, 14.903, 14.833, 15.05...\n",
      "21    [15.318, 15.806, 15.714, 15.394, 15.774, 15.55...\n",
      "22    [14.056, 14.144, 14.195, 14.179, 14.202, 14.02...\n",
      "23    [14.115, 14.036, 14.134, 14.017, 14.069, 14.03...\n",
      "24    [13.523, 13.622, 13.58, 13.599, 13.529, 13.701...\n",
      "25    [15.044, 15.084, 15.412, 15.122, 15.116, 15.16...\n",
      "26    [14.636, 14.179, 14.838, 14.214, 14.591, 14.15...\n",
      "27    [13.861, 13.843, 13.892, 13.831, 13.85, 13.857...\n",
      "28    [14.831, 15.269, 14.814, 14.823, 14.701, 14.84...\n",
      "Name: w1mag, dtype: object 0     [0.0003176265360019476, 0.0003152947782582714,...\n",
      "1     [0.0006181826020703642, 0.0008171782110804874,...\n",
      "2     [0.001033514985914946, 0.0008943690837517979, ...\n",
      "3     [0.00033536426044995386, 0.0002999969077850443...\n",
      "4     [0.0005653491951856132, 0.0005170312322387887,...\n",
      "5     [0.0016669277566711462, 0.0016334911213347972,...\n",
      "6     [0.00020735608199879142, 0.0001856593297441306...\n",
      "7     [0.00026638930099282627, 0.0002593682299748850...\n",
      "8     [0.0008354429110225269, 0.0009495476827151795,...\n",
      "9     [0.0008232216401286177, 0.0006443425006856455,...\n",
      "10    [0.0013993191521439708, 0.001351191107116209, ...\n",
      "11    [0.0006685236539805959, 0.0005146556895104248,...\n",
      "12    [0.00031240413835617657, 0.0002603255401945901...\n",
      "13    [0.0009279333386216104, 0.0009051421270376247,...\n",
      "14    [0.0009339352731061517, 0.0009998083932139697,...\n",
      "15    [0.001256367745356503, 0.0012820848794144494, ...\n",
      "16    [0.0019458832434737544, 0.0019729531758722555,...\n",
      "17    [0.00013253078740720441, 0.0001920953173202315...\n",
      "18    [0.00024769473667551824, 0.0002205549342538169...\n",
      "19    [0.0006722282790499376, 0.0005811881867834956,...\n",
      "20    [0.000286231072760837, 0.0003381557513158215, ...\n",
      "21    [0.0002309493680706607, 0.00014733868120220053...\n",
      "22    [0.000738442660380215, 0.000680952436655104, 0...\n",
      "23    [0.0006993857483142016, 0.000752171334435058, ...\n",
      "24    [0.0012064706973186812, 0.0011013282471346272,...\n",
      "25    [0.00029724651960247203, 0.000286494822764074,...\n",
      "26    [0.0004328294255541153, 0.0006593511655802792,...\n",
      "27    [0.0008837242617233516, 0.0008984973038738763,...\n",
      "28    [0.0003616735743723165, 0.00024161104195645944...\n",
      "Name: w1mag, dtype: object\n",
      "0     [0.092, 0.091, 0.114, 0.091, 0.105, 0.115, 0.1...\n",
      "1     [0.056, 0.047, 0.061, 0.055, 0.054, 0.047, 0.0...\n",
      "2     [0.04, 0.047, 0.041, 0.04, 0.048, 0.047, 0.037...\n",
      "3     [0.116, 0.142, 0.161, 0.112, 0.143, 0.125, 0.1...\n",
      "4     [0.067, 0.068, 0.069, 0.073, 0.098, 0.071, 0.0...\n",
      "5     [0.032, 0.031, 0.03, 0.029, 0.033, 0.032, 0.03...\n",
      "6     [0.144, 0.17, 0.143, 0.182, 0.176, 0.179, 0.18...\n",
      "7     [0.109, 0.109, 0.145, 0.132, 0.104, 0.092, 0.0...\n",
      "8     [0.048, 0.045, 0.051, 0.045, 0.072, 0.054, 0.0...\n",
      "9     [0.058, 0.077, 0.053, 0.053, 0.055, 0.055, 0.0...\n",
      "10    [0.035, 0.037, 0.034, 0.038, 0.04, 0.037, 0.04...\n",
      "11    [0.078, 0.066, 0.068, 0.068, 0.062, 0.072, 0.0...\n",
      "12    [0.096, 0.114, 0.118, 0.133, 0.116, 0.095, 0.1...\n",
      "13    [0.042, 0.045, 0.045, 0.072, 0.046, 0.046, 0.0...\n",
      "14    [0.045, 0.04, 0.044, 0.041, 0.041, 0.044, 0.04...\n",
      "15    [0.034, 0.034, 0.038, 0.039, 0.037, 0.034, 0.0...\n",
      "16    [0.036, 0.03, 0.03, 0.033, 0.031, 0.031, 0.03,...\n",
      "17    [0.196, 0.136, 0.144, 0.179, 0.148, 0.146, 0.1...\n",
      "18    [0.131, 0.148, 0.139, 0.154, 0.154, 0.156, 0.1...\n",
      "19    [0.071, 0.064, 0.053, 0.053, 0.074, 0.052, 0.0...\n",
      "20    [0.138, 0.112, 0.177, 0.105, 0.094, 0.104, 0.1...\n",
      "21    [0.12, 0.185, 0.186, 0.159, 0.177, 0.155, 0.18...\n",
      "22    [0.051, 0.059, 0.063, 0.052, 0.057, 0.047, 0.0...\n",
      "23    [0.052, 0.05, 0.054, 0.05, 0.049, 0.049, 0.045...\n",
      "24    [0.034, 0.04, 0.036, 0.038, 0.039, 0.043, 0.03...\n",
      "25    [0.09, 0.104, 0.134, 0.12, 0.12, 0.114, 0.13, ...\n",
      "26    [0.08, 0.065, 0.102, 0.067, 0.091, 0.073, 0.06...\n",
      "27    [0.044, 0.049, 0.045, 0.044, 0.044, 0.044, 0.0...\n",
      "28    [0.084, 0.156, 0.081, 0.088, 0.085, 0.108, 0.0...\n",
      "Name: w1error, dtype: object 0     [284.391608939713, 284.6536639537085, 278.6870...\n",
      "1     [293.9793181399644, 296.4263307710675, 292.628...\n",
      "2     [298.34363597256385, 296.4263307710675, 298.06...\n",
      "3     [278.17415549701127, 271.5918780641335, 266.88...\n",
      "4     [291.015940491457, 290.7480283019593, 290.4803...\n",
      "5     [300.55003180093235, 300.82697612809994, 301.1...\n",
      "6     [271.0920478382733, 264.67735030632485, 271.34...\n",
      "7     [279.9734044161911, 279.9734044161911, 270.842...\n",
      "8     [296.1534377220904, 296.97287147944195, 295.33...\n",
      "9     [293.4382866848579, 288.3478903119482, 294.792...\n",
      "10    [299.72072762710707, 299.1691298398217, 299.99...\n",
      "11    [288.08243435616777, 291.28409955087056, 290.7...\n",
      "12    [283.3457991684825, 278.6870434702265, 277.662...\n",
      "13    [297.79457254690095, 296.97287147944195, 296.9...\n",
      "14    [296.97287147944195, 298.34363597256385, 297.2...\n",
      "15    [299.9969077850445, 299.9969077850445, 298.893...\n",
      "16    [299.44480172338916, 301.1041756479218, 301.10...\n",
      "17    [258.4144401276187, 273.0969049605121, 271.092...\n",
      "18    [274.35746299948863, 270.0951453150618, 272.34...\n",
      "19    [289.94577068129803, 291.82115918957624, 294.7...\n",
      "20    [272.5943049245276, 279.2008770887071, 262.976...\n",
      "21    [277.1512095282213, 261.0458409183538, 260.805...\n",
      "22    [295.33626501868406, 293.16814445919346, 292.0...\n",
      "23    [295.06437549515624, 295.6084050770753, 294.52...\n",
      "24    [299.9969077850445, 298.34363597256385, 299.44...\n",
      "25    [284.9159604404767, 281.26570293450453, 273.60...\n",
      "26    [287.55225536386155, 291.5525057076803, 281.78...\n",
      "27    [297.2465196024719, 295.88079590118735, 296.97...\n",
      "28    [286.4948227640739, 268.11232469010696, 287.28...\n",
      "Name: w1error, dtype: object\n",
      "0     [14.443, 14.711, 14.428, 14.357, 14.692, 14.34...\n",
      "1     [13.914, 13.294, 13.82, 13.295, 13.59, 13.38, ...\n",
      "2     [13.076, 12.985, 13.02, 12.857, 12.876, 13.207...\n",
      "3     [14.23, 13.99, 14.256, 14.284, 14.641, 14.222,...\n",
      "4     [13.719, 13.585, 13.693, 13.546, 13.472, 13.65...\n",
      "5     [12.507, 12.559, 12.516, 12.451, 12.49, 12.476...\n",
      "6     [15.119, 14.817, 14.662, 14.622, 14.723, 14.94...\n",
      "7     [14.685, 14.486, 14.634, 14.569, 14.451, 14.38...\n",
      "8     [13.321, 13.37, 13.185, 13.39, 13.384, 13.531,...\n",
      "9     [13.886, 14.32, 14.288, 13.934, 14.038, 13.982...\n",
      "10    [12.715, 12.751, 12.802, 12.819, 12.776, 12.83...\n",
      "11    [13.28, 13.591, 13.587, 13.447, 13.577, 13.527...\n",
      "12    [14.611, 14.216, 14.491, 14.245, 14.548, 14.55...\n",
      "13    [13.193, 13.439, 13.466, 13.187, 13.444, 13.49...\n",
      "14    [13.239, 13.433, 13.214, 13.158, 13.245, 13.20...\n",
      "15    [12.965, 12.998, 13.004, 12.907, 13.085, 12.99...\n",
      "16    [12.353, 12.455, 12.346, 12.408, 12.389, 12.37...\n",
      "17    [15.12, 14.662, 14.542, 14.776, 15.342, 15.052...\n",
      "18    [14.649, 14.256, 14.657, 14.503, 14.866, 14.59...\n",
      "19    [13.744, 13.776, 13.664, 13.905, 13.831, 13.94...\n",
      "20    [14.627, 14.578, 14.464, 13.966, 14.424, 14.64...\n",
      "21    [15.072, 14.917, 14.789, 15.178, 14.544, 14.79...\n",
      "22    [13.275, 13.274, 13.369, 13.309, 13.286, 13.22...\n",
      "23    [13.51, 13.3, 13.51, 13.606, 13.323, 13.465, 1...\n",
      "24    [12.782, 12.957, 12.815, 12.963, 12.76, 12.987...\n",
      "25    [14.752, 14.398, 14.509, 14.612, 14.346, 14.21...\n",
      "26    [14.243, 13.595, 14.216, 13.721, 13.904, 13.85...\n",
      "27    [13.32, 13.383, 13.278, 13.313, 13.294, 13.423...\n",
      "28    [14.512, 14.24, 14.053, 14.0, 14.125, 13.79, 1...\n",
      "Name: w2mag, dtype: object 0     [0.0002869394724190889, 0.00022417660895818846...\n",
      "1     [0.0004670789502356937, 0.000826780634053697, ...\n",
      "2     [0.0010106256008581007, 0.0010989812818305768,...\n",
      "3     [0.00034913251383770057, 0.000435502142047344,...\n",
      "4     [0.0005589723110674941, 0.0006323977199512952,...\n",
      "5     [0.0017068301094531238, 0.0016270102743494042,...\n",
      "6     [0.00015395375835133604, 0.0002033247726946521...\n",
      "7     [0.0002296097340009634, 0.0002757974811478783,...\n",
      "8     [0.0008064738603017714, 0.0007708862430044301,...\n",
      "9     [0.00047928109130577443, 0.0003213588728470199...\n",
      "10    [0.001409257307457864, 0.001363296423754468, 0...\n",
      "11    [0.0008375105672939055, 0.0006289125996132498,...\n",
      "12    [0.00024580476380797067, 0.0003536635446954224...\n",
      "13    [0.0009073822834513856, 0.0007234196404692374,...\n",
      "14    [0.0008697417050398799, 0.0007274284717495968,...\n",
      "15    [0.0011194128693053, 0.0010859011559963918, 0....\n",
      "16    [0.0019669363004782337, 0.0017905658424318745,...\n",
      "17    [0.00015381202697946805, 0.0002345256214603792...\n",
      "18    [0.0002373505789835421, 0.0003408711889751814,...\n",
      "19    [0.000546248547858844, 0.0005303838548497411, ...\n",
      "20    [0.00024220901050648675, 0.0002533904807300038...\n",
      "21    [0.00016076455231258408, 0.0001854343966070992...\n",
      "22    [0.0008413763404284718, 0.0008421516336570199,...\n",
      "23    [0.0006776263655160587, 0.0008222242766982901,...\n",
      "24    [0.0013249219510380206, 0.0011276914701777653,...\n",
      "25    [0.00021586900783835265, 0.0002990820132833354...\n",
      "26    [0.000344977122577354, 0.000626599862805093, 0...\n",
      "27    [0.000807216992349641, 0.000761711119434041, 0...\n",
      "28    [0.0002692714416135418, 0.0003459316477111103,...\n",
      "Name: w2mag, dtype: object\n",
      "0     [0.234, 0.277, 0.184, 0.187, 0.328, 0.175, 0.2...\n",
      "1     [0.147, 0.077, 0.143, 0.085, 0.112, 0.089, 0.1...\n",
      "2     [0.079, 0.077, 0.079, 0.069, 0.06, 0.093, 0.07...\n",
      "3     [0.168, 0.148, 0.187, 0.195, 0.261, 0.162, 0.1...\n",
      "4     [0.158, 0.111, 0.145, 0.115, 0.166, 0.137, 0.1...\n",
      "5     [0.05, 0.063, 0.052, 0.048, 0.062, 0.044, 0.04...\n",
      "6     [0.382, 0.283, 0.273, 0.264, 0.351, 0.447, 0.2...\n",
      "7     [0.433, 0.207, 0.351, 0.246, 0.192, 0.359, 0.2...\n",
      "8     [0.097, 0.084, 0.093, 0.086, 0.122, 0.133, 0.1...\n",
      "9     [0.139, 0.271, 0.246, 0.148, 0.158, 0.188, 0.1...\n",
      "10    [0.061, 0.069, 0.078, 0.066, 0.059, 0.086, 0.0...\n",
      "11    [0.121, 0.117, 0.137, 0.093, 0.139, 0.107, 0.1...\n",
      "12    [0.341, 0.197, 0.321, 0.188, 0.24, 0.311, 0.45...\n",
      "13    [0.116, 0.106, 0.105, 0.087, 0.129, 0.121, 0.1...\n",
      "14    [0.075, 0.099, 0.07, 0.068, 0.076, 0.077, 0.07...\n",
      "15    [0.069, 0.069, 0.062, 0.068, 0.07, 0.077, 0.07...\n",
      "16    [0.043, 0.045, 0.041, 0.045, 0.044, 0.049, 0.0...\n",
      "17    [0.441, 0.426, 0.388, 0.262, 0.37, 0.446, 0.26...\n",
      "18    [0.299, 0.312, 0.482, 0.51, 0.415, 0.324, 0.35...\n",
      "19    [0.117, 0.126, 0.177, 0.143, 0.121, 0.129, 0.1...\n",
      "20    [0.305, 0.331, 0.336, 0.311, 0.291, 0.277, 0.3...\n",
      "21    [0.396, 0.396, 0.29, 0.358, 0.506, 0.516, 0.43...\n",
      "22    [0.073, 0.091, 0.085, 0.092, 0.101, 0.09, 0.07...\n",
      "23    [0.093, 0.096, 0.112, 0.102, 0.077, 0.089, 0.0...\n",
      "24    [0.066, 0.059, 0.051, 0.076, 0.058, 0.059, 0.0...\n",
      "25    [0.247, 0.176, 0.203, 0.228, 0.204, 0.193, 0.3...\n",
      "26    [0.218, 0.124, 0.216, 0.135, 0.143, 0.229, 0.2...\n",
      "27    [0.083, 0.089, 0.09, 0.08, 0.081, 0.103, 0.082...\n",
      "28    [0.241, 0.201, 0.223, 0.238, 0.181, 0.138, 0.1...\n",
      "Name: w2error, dtype: object 0     [138.48103330448626, 133.10375128992544, 145.0...\n",
      "1     [150.03420986142174, 160.02590629003893, 150.5...\n",
      "2     [159.73139901149085, 160.02590629003893, 159.7...\n",
      "3     [147.16017494660588, 149.89608686514998, 144.6...\n",
      "4     [148.52183128041176, 155.09232103285837, 150.3...\n",
      "5     [164.05531137486443, 162.10271750267808, 163.7...\n",
      "6     [120.83431806472548, 132.37022146200886, 133.5...\n",
      "7     [115.28964328783267, 141.9679448470314, 124.33...\n",
      "8     [157.10510433015452, 158.9974998971763, 157.68...\n",
      "9     [151.14378558161994, 133.84134597474485, 136.9...\n",
      "10    [162.40159693698098, 161.20937544941359, 159.8...\n",
      "11    [153.67042608692054, 154.23761301406924, 151.4...\n",
      "12    [125.48456094174287, 143.28155806724197, 127.8...\n",
      "13    [154.3797365457294, 155.80819466053558, 155.95...\n",
      "14    [160.3209565710127, 156.8159724152355, 161.060...\n",
      "15    [161.20937544941359, 161.20937544941359, 162.2...\n",
      "16    [165.11643202839724, 164.81255628622762, 165.4...\n",
      "17    [114.44327975068673, 116.03534436026925, 120.1...\n",
      "18    [130.4338445852287, 128.88141495933948, 110.20...\n",
      "19    [154.23761301406924, 152.9643746136381, 145.94...\n",
      "20    [129.7150285139619, 126.64565528851958, 126.06...\n",
      "21    [119.28622516107457, 119.28622516107457, 131.5...\n",
      "22    [160.6165508555814, 157.97570255739393, 158.85...\n",
      "23    [157.68496841743175, 157.24987013554338, 154.9...\n",
      "24    [161.65542937761, 162.70102743494044, 163.9042...\n",
      "25    [136.83282566781597, 146.07984368142996, 142.4...\n",
      "26    [140.53687603162606, 153.24640508454783, 140.7...\n",
      "27    [159.1440094662038, 158.26697274299815, 158.12...\n",
      "28    [137.5910850252218, 142.75466047689986, 139.89...\n",
      "Name: w2error, dtype: object\n"
     ]
    }
   ],
   "source": [
    "#make a new column with fluxes\n",
    "pd_neowise_lc['w1flux'] = convert_WISEtoJanskies(floats['w1mag'], 'w1')\n",
    "pd_neowise_lc['w1fluxerr'] = convert_WISEtoJanskies(floats['w1error'], 'w1')\n",
    "pd_neowise_lc['w2flux'] = convert_WISEtoJanskies(floats['w2mag'], 'w2')\n",
    "pd_neowise_lc['w2fluxerr'] = convert_WISEtoJanskies(floats['w2error'], 'w2')\n",
    "\n"
   ]
  },
  {
   "cell_type": "code",
   "execution_count": 114,
   "metadata": {},
   "outputs": [],
   "source": [
    "#syntax isn't working and getting data type errors to convert the whole dataframe of arrays \n",
    "#into the multiindex dataframe structure for saving\n",
    "#instead try iterating over rows in df and filling dfsingle from there.\n",
    "#this is a crazy inefficiency, but....\n",
    "pd_neowise_lc.reset_index()\n",
    "for index, row in pd_neowise_lc.iterrows():\n",
    "    dfw1 = pd.DataFrame(dict(flux=row.w1flux, err=row.w1fluxerr, time=row.mjd, objectid=row.objnum, band='w1')).set_index([\"objectid\", \"band\", \"time\"])\n",
    "    #dfw2 = pd.DataFrame(dict(flux=row.w2pmag, err=row.w2pmagerr, time=row.mjd, objectid=row.objnum, band='w2')).set_index([\"objectid\", \"band\", \"time\"])\n",
    "    #then concatenate each individual df together\n",
    "    #first make sure that df has been defined before\n",
    "    try:\n",
    "        df_lc\n",
    "    except NameError:\n",
    "        #df_lc doesn't exist (yet)\n",
    "        df_lc = dfw1\n",
    "    else:\n",
    "        #df_lc exists\n",
    "        df_lc = pd.concat([df_lc, dfw1])#, dfw2])\n"
   ]
  },
  {
   "cell_type": "code",
   "execution_count": 115,
   "metadata": {},
   "outputs": [
    {
     "data": {
      "text/html": [
       "<div>\n",
       "<style scoped>\n",
       "    .dataframe tbody tr th:only-of-type {\n",
       "        vertical-align: middle;\n",
       "    }\n",
       "\n",
       "    .dataframe tbody tr th {\n",
       "        vertical-align: top;\n",
       "    }\n",
       "\n",
       "    .dataframe thead th {\n",
       "        text-align: right;\n",
       "    }\n",
       "</style>\n",
       "<table border=\"1\" class=\"dataframe\">\n",
       "  <thead>\n",
       "    <tr style=\"text-align: right;\">\n",
       "      <th></th>\n",
       "      <th></th>\n",
       "      <th></th>\n",
       "      <th>flux</th>\n",
       "      <th>err</th>\n",
       "    </tr>\n",
       "    <tr>\n",
       "      <th>objectid</th>\n",
       "      <th>band</th>\n",
       "      <th>time</th>\n",
       "      <th></th>\n",
       "      <th></th>\n",
       "    </tr>\n",
       "  </thead>\n",
       "  <tbody>\n",
       "    <tr>\n",
       "      <th rowspan=\"5\" valign=\"top\">1</th>\n",
       "      <th rowspan=\"5\" valign=\"top\">r</th>\n",
       "      <th>55088.484765</th>\n",
       "      <td>0.000063</td>\n",
       "      <td>0.000001</td>\n",
       "    </tr>\n",
       "    <tr>\n",
       "      <th>55088.495212</th>\n",
       "      <td>0.000061</td>\n",
       "      <td>0.000001</td>\n",
       "    </tr>\n",
       "    <tr>\n",
       "      <th>55094.521832</th>\n",
       "      <td>0.00009</td>\n",
       "      <td>0.000002</td>\n",
       "    </tr>\n",
       "    <tr>\n",
       "      <th>55104.427380</th>\n",
       "      <td>0.000063</td>\n",
       "      <td>0.000002</td>\n",
       "    </tr>\n",
       "    <tr>\n",
       "      <th>55104.437309</th>\n",
       "      <td>0.000066</td>\n",
       "      <td>0.000002</td>\n",
       "    </tr>\n",
       "    <tr>\n",
       "      <th>...</th>\n",
       "      <th>...</th>\n",
       "      <th>...</th>\n",
       "      <td>...</td>\n",
       "      <td>...</td>\n",
       "    </tr>\n",
       "    <tr>\n",
       "      <th rowspan=\"5\" valign=\"top\">14</th>\n",
       "      <th rowspan=\"5\" valign=\"top\">w1</th>\n",
       "      <th>58825.941642</th>\n",
       "      <td>0.000325</td>\n",
       "      <td>273.600432</td>\n",
       "    </tr>\n",
       "    <tr>\n",
       "      <th>58826.006966</th>\n",
       "      <td>0.000283</td>\n",
       "      <td>278.430481</td>\n",
       "    </tr>\n",
       "    <tr>\n",
       "      <th>58826.072418</th>\n",
       "      <td>0.000384</td>\n",
       "      <td>284.391609</td>\n",
       "    </tr>\n",
       "    <tr>\n",
       "      <th>58826.137870</th>\n",
       "      <td>0.000458</td>\n",
       "      <td>287.023052</td>\n",
       "    </tr>\n",
       "    <tr>\n",
       "      <th>58826.530325</th>\n",
       "      <td>0.000293</td>\n",
       "      <td>279.200877</td>\n",
       "    </tr>\n",
       "  </tbody>\n",
       "</table>\n",
       "<p>9367 rows × 2 columns</p>\n",
       "</div>"
      ],
      "text/plain": [
       "                                flux         err\n",
       "objectid band time                              \n",
       "1        r    55088.484765  0.000063    0.000001\n",
       "              55088.495212  0.000061    0.000001\n",
       "              55094.521832   0.00009    0.000002\n",
       "              55104.427380  0.000063    0.000002\n",
       "              55104.437309  0.000066    0.000002\n",
       "...                              ...         ...\n",
       "14       w1   58825.941642  0.000325  273.600432\n",
       "              58826.006966  0.000283  278.430481\n",
       "              58826.072418  0.000384  284.391609\n",
       "              58826.137870  0.000458  287.023052\n",
       "              58826.530325  0.000293  279.200877\n",
       "\n",
       "[9367 rows x 2 columns]"
      ]
     },
     "execution_count": 115,
     "metadata": {},
     "output_type": "execute_result"
    }
   ],
   "source": [
    "df_lc"
   ]
  },
  {
   "cell_type": "markdown",
   "metadata": {},
   "source": [
    "## 2.4 MAST: Pan-STARRS\n",
    "Code ideas taken from this website: https://ps1images.stsci.edu/ps1_dr2_api.html"
   ]
  },
  {
   "cell_type": "code",
   "execution_count": 9,
   "metadata": {},
   "outputs": [],
   "source": [
    "def ps1cone(ra,dec,radius,table=\"mean\",release=\"dr1\",format=\"csv\",columns=None,\n",
    "           baseurl=\"https://catalogs.mast.stsci.edu/api/v0.1/panstarrs\", verbose=False,\n",
    "           **kw):\n",
    "    \"\"\"Do a cone search of the PS1 catalog\n",
    "    \n",
    "    Parameters\n",
    "    ----------\n",
    "    ra (float): (degrees) J2000 Right Ascension\n",
    "    dec (float): (degrees) J2000 Declination\n",
    "    radius (float): (degrees) Search radius (<= 0.5 degrees)\n",
    "    table (string): mean, stack, or detection\n",
    "    release (string): dr1 or dr2\n",
    "    format: csv, votable, json\n",
    "    columns: list of column names to include (None means use defaults)\n",
    "    baseurl: base URL for the request\n",
    "    verbose: print info about request\n",
    "    **kw: other parameters (e.g., 'nDetections.min':2)\n",
    "    \"\"\"\n",
    "    \n",
    "    data = kw.copy()\n",
    "    data['ra'] = ra\n",
    "    data['dec'] = dec\n",
    "    data['radius'] = radius\n",
    "    return ps1search(table=table,release=release,format=format,columns=columns,\n",
    "                    baseurl=baseurl, verbose=verbose, **data)\n",
    "\n",
    "\n",
    "def ps1search(table=\"mean\",release=\"dr1\",format=\"csv\",columns=None,\n",
    "           baseurl=\"https://catalogs.mast.stsci.edu/api/v0.1/panstarrs\", verbose=False,\n",
    "           **kw):\n",
    "    \"\"\"Do a general search of the PS1 catalog (possibly without ra/dec/radius)\n",
    "    \n",
    "    Parameters\n",
    "    ----------\n",
    "    table (string): mean, stack, or detection\n",
    "    release (string): dr1 or dr2\n",
    "    format: csv, votable, json\n",
    "    columns: list of column names to include (None means use defaults)\n",
    "    baseurl: base URL for the request\n",
    "    verbose: print info about request\n",
    "    **kw: other parameters (e.g., 'nDetections.min':2).  Note this is required!\n",
    "    \"\"\"\n",
    "    \n",
    "    data = kw.copy()\n",
    "    if not data:\n",
    "        raise ValueError(\"You must specify some parameters for search\")\n",
    "    checklegal(table,release)\n",
    "    if format not in (\"csv\",\"votable\",\"json\"):\n",
    "        raise ValueError(\"Bad value for format\")\n",
    "    url = f\"{baseurl}/{release}/{table}.{format}\"\n",
    "    if columns:\n",
    "        # check that column values are legal\n",
    "        # create a dictionary to speed this up\n",
    "        dcols = {}\n",
    "        for col in ps1metadata(table,release)['name']:\n",
    "            dcols[col.lower()] = 1\n",
    "        badcols = []\n",
    "        for col in columns:\n",
    "            if col.lower().strip() not in dcols:\n",
    "                badcols.append(col)\n",
    "        if badcols:\n",
    "            raise ValueError('Some columns not found in table: {}'.format(', '.join(badcols)))\n",
    "        # two different ways to specify a list of column values in the API\n",
    "        # data['columns'] = columns\n",
    "        data['columns'] = '[{}]'.format(','.join(columns))\n",
    "\n",
    "# either get or post works\n",
    "#    r = requests.post(url, data=data)\n",
    "    r = requests.get(url, params=data)\n",
    "\n",
    "    if verbose:\n",
    "        print(r.url)\n",
    "    r.raise_for_status()\n",
    "    if format == \"json\":\n",
    "        return r.json()\n",
    "    else:\n",
    "        return r.text\n",
    "\n",
    "\n",
    "def checklegal(table,release):\n",
    "    \"\"\"Checks if this combination of table and release is acceptable\n",
    "    \n",
    "    Raises a VelueError exception if there is problem\n",
    "    \"\"\"\n",
    "    \n",
    "    releaselist = (\"dr1\", \"dr2\")\n",
    "    if release not in (\"dr1\",\"dr2\"):\n",
    "        raise ValueError(\"Bad value for release (must be one of {})\".format(', '.join(releaselist)))\n",
    "    if release==\"dr1\":\n",
    "        tablelist = (\"mean\", \"stack\")\n",
    "    else:\n",
    "        tablelist = (\"mean\", \"stack\", \"detection\")\n",
    "    if table not in tablelist:\n",
    "        raise ValueError(\"Bad value for table (for {} must be one of {})\".format(release, \", \".join(tablelist)))\n",
    "\n",
    "\n",
    "def ps1metadata(table=\"mean\",release=\"dr1\",\n",
    "           baseurl=\"https://catalogs.mast.stsci.edu/api/v0.1/panstarrs\"):\n",
    "    \"\"\"Return metadata for the specified catalog and table\n",
    "    \n",
    "    Parameters\n",
    "    ----------\n",
    "    table (string): mean, stack, or detection\n",
    "    release (string): dr1 or dr2\n",
    "    baseurl: base URL for the request\n",
    "    \n",
    "    Returns an astropy table with columns name, type, description\n",
    "    \"\"\"\n",
    "    \n",
    "    checklegal(table,release)\n",
    "    url = f\"{baseurl}/{release}/{table}/metadata\"\n",
    "    r = requests.get(url)\n",
    "    r.raise_for_status()\n",
    "    v = r.json()\n",
    "    # convert to astropy table\n",
    "    tab = Table(rows=[(x['name'],x['type'],x['description']) for x in v],\n",
    "               names=('name','type','description'))\n",
    "    return tab\n",
    "\n",
    "\n",
    "def addfilter(dtab):\n",
    "    \"\"\"Add filter name as column in detection table by translating filterID\n",
    "    \n",
    "    This modifies the table in place.  If the 'filter' column already exists,\n",
    "    the table is returned unchanged.\n",
    "    \"\"\"\n",
    "    if 'filter' not in dtab.colnames:\n",
    "        # the filterID value goes from 1 to 5 for grizy\n",
    "        id2filter = np.array(list('grizy'))\n",
    "        dtab['filter'] = id2filter[(dtab['filterID']-1).data]\n",
    "    return dtab\n"
   ]
  },
  {
   "cell_type": "code",
   "execution_count": 14,
   "metadata": {},
   "outputs": [
    {
     "name": "stdout",
     "output_type": "stream",
     "text": [
      "for object 1 there is  1 match in panSTARRS       objID       \n",
      "------------------\n",
      "107880002813502994\n",
      "for object 2 there is  1 match in panSTARRS       objID      \n",
      "-----------------\n",
      "97600217003204448\n",
      "for object 3 there is  1 match in panSTARRS       objID       \n",
      "------------------\n",
      "108660299901643946\n",
      "for object 4 there is  1 match in panSTARRS       objID       \n",
      "------------------\n",
      "108660299901643946\n",
      "for object 5 there is  1 match in panSTARRS       objID       \n",
      "------------------\n",
      "159571209481313539\n",
      "for object 6 there is  1 match in panSTARRS       objID       \n",
      "------------------\n",
      "152121278843466366\n",
      "for object 7 there is  1 match in panSTARRS       objID       \n",
      "------------------\n",
      "141351324907980270\n",
      "for object 8 there is  1 match in panSTARRS       objID       \n",
      "------------------\n",
      "165351373834610943\n",
      "for object 9 there is  1 match in panSTARRS       objID       \n",
      "------------------\n",
      "139251443763301302\n",
      "for object 10 there is  1 match in panSTARRS       objID       \n",
      "------------------\n",
      "147051443978157244\n",
      "for object 11 there is  1 match in panSTARRS       objID       \n",
      "------------------\n",
      "150501508477321934\n",
      "for object 12 there is  2 match in panSTARRS       objID       \n",
      "------------------\n",
      "173641529707872869\n",
      "173641529710272566\n",
      "for object 13 there is  1 match in panSTARRS       objID       \n",
      "------------------\n",
      "184461660967422468\n",
      "for object 14 there is  1 match in panSTARRS       objID       \n",
      "------------------\n",
      "109571662298799359\n",
      "for object 15 there is  1 match in panSTARRS       objID       \n",
      "------------------\n",
      "107921676060339191\n",
      "for object 16 there is  1 match in panSTARRS       objID       \n",
      "------------------\n",
      "114891689023877011\n",
      "for object 17 there is  1 match in panSTARRS       objID       \n",
      "------------------\n",
      "146481696235170610\n",
      "for object 18 there is  1 match in panSTARRS       objID       \n",
      "------------------\n",
      "112751731214870180\n",
      "for object 19 there is  1 match in panSTARRS       objID       \n",
      "------------------\n",
      "151861776638610046\n",
      "for object 20 there is  1 match in panSTARRS       objID       \n",
      "------------------\n",
      "146601781145970398\n",
      "for object 21 there is  1 match in panSTARRS       objID       \n",
      "------------------\n",
      "174301948198173071\n",
      "for object 22 there is  1 match in panSTARRS       objID       \n",
      "------------------\n",
      "189471998781649218\n",
      "for object 23 there is  1 match in panSTARRS       objID       \n",
      "------------------\n",
      "106492090770995745\n",
      "for object 24 there is  1 match in panSTARRS       objID       \n",
      "------------------\n",
      "167482097326855388\n",
      "for object 25 there is  1 match in panSTARRS       objID       \n",
      "------------------\n",
      "142262219759638577\n",
      "for object 26 there is  1 match in panSTARRS       objID       \n",
      "------------------\n",
      "109412334832990418\n",
      "for object 27 there is  1 match in panSTARRS       objID       \n",
      "------------------\n",
      "138222363734619843\n",
      "for object 28 there is  1 match in panSTARRS       objID       \n",
      "------------------\n",
      "157982375718471399\n",
      "for object 29 there is  2 match in panSTARRS       objID       \n",
      "------------------\n",
      "141152382428010165\n",
      "141142382429509855\n",
      "for object 30 there is  1 match in panSTARRS       objID       \n",
      "------------------\n",
      "151792386677517975\n",
      "for object 31 there is  1 match in panSTARRS       objID       \n",
      "------------------\n",
      "108343540124359978\n"
     ]
    },
    {
     "data": {
      "text/plain": [
       "<Figure size 720x720 with 0 Axes>"
      ]
     },
     "metadata": {},
     "output_type": "display_data"
    }
   ],
   "source": [
    "#try for panstarrs\n",
    "radius = 1.0/3600.0 # radius = 1 arcsec\n",
    "plt.rcParams.update({'font.size': 14})\n",
    "plt.figure(1,(10,10))\n",
    "\n",
    "        \n",
    "#for all objects\n",
    "for ccount, coord in enumerate(coords_list):\n",
    "    #doesn't take SkyCoord\n",
    "    ra = CLAGN['RA'][ccount]\n",
    "    dec = CLAGN['DEC'][ccount]\n",
    "\n",
    "    #see if there is an object in panSTARRS at this location\n",
    "    results = ps1cone(ra,dec,radius,release='dr2')\n",
    "    tab = ascii.read(results)\n",
    "    \n",
    "    # improve the format\n",
    "    for filter in 'grizy':\n",
    "        col = filter+'MeanPSFMag'\n",
    "        tab[col].format = \".4f\"\n",
    "        tab[col][tab[col] == -999.0] = np.nan\n",
    "        \n",
    "    #in case there is more than one object within 1 arcsec, sort them by match distance\n",
    "    tab.sort('distance')\n",
    "    \n",
    "    #if there is an object at that location\n",
    "    if len(tab) > 0:   \n",
    "        #got a live one\n",
    "        print( 'for object', ccount + 1, 'there is ',len(tab), 'match in panSTARRS', tab['objID'])\n",
    "\n",
    "        #take the closest match as the best match\n",
    "        objid = tab['objID'][0]\n",
    "        \n",
    "        #setup to pull light curve info\n",
    "        dconstraints = {'objID': objid}\n",
    "        dcolumns = (\"\"\"objID,detectID,filterID,obsTime,ra,dec,psfFlux,psfFluxErr,psfMajorFWHM,psfMinorFWHM,\n",
    "                    psfQfPerfect,apFlux,apFluxErr,infoFlag,infoFlag2,infoFlag3\"\"\").split(',')\n",
    "        # strip blanks and weed out blank and commented-out values\n",
    "        dcolumns = [x.strip() for x in dcolumns]\n",
    "        dcolumns = [x for x in dcolumns if x and not x.startswith('#')]\n",
    "\n",
    "\n",
    "        #get the actual detections and light curve info for this target\n",
    "        dresults = ps1search(table='detection',release='dr2',columns=dcolumns,**dconstraints)\n",
    "        \n",
    "        #sometimes there isn't actually a light curve for the target???\n",
    "        try:\n",
    "            ascii.read(dresults)\n",
    "        except FileNotFoundError:\n",
    "            print(\"There is no light curve\")\n",
    "            #no need to store PanSTARRS data for this one\n",
    "        else:\n",
    "            #There is a light curve for this target\n",
    "            \n",
    "            #fix the column names to include filter names\n",
    "            dtab = addfilter(ascii.read(dresults))\n",
    "            dtab.sort('obsTime')\n",
    "\n",
    "            #here is the light curve mixed from all 5 bands\n",
    "            t_panstarrs = dtab['obsTime']\n",
    "            flux_panstarrs = dtab['psfFlux']  # in Jy\n",
    "            err_panstarrs = dtab['psfFluxErr']\n",
    "            filtername = dtab['filter']\n",
    "            \n",
    "            #put this single object light curves into a pandas multiindex dataframe\n",
    "            dfsingle = pd.DataFrame(dict(flux=flux_panstarrs, err=err_panstarrs, time=t_panstarrs, objectid=ccount + 1, band=filtername)).set_index([\"objectid\", \"band\", \"time\"])\n",
    "            \n",
    "            #then concatenate each individual df together\n",
    "            #first make sure that df has been defined before\n",
    "            try:\n",
    "                df_lc\n",
    "            except NameError:\n",
    "                #df_lc doesn't exist (yet)\n",
    "                df_lc = dfsingle\n",
    "            else:\n",
    "                #df_lc exists\n",
    "                df_lc = pd.concat([df_lc, dfsingle])\n",
    "                \n",
    "            \n",
    "            #plot light curves on same plot just to know they are there?\n",
    "            #not currently working\n",
    "            #xlim = np.array([t.min(),t.max()])\n",
    "            #xlim = xlim + np.array([-1,1])*0.02*(xlim[1]-xlim[0])\n",
    "            #for i, filter in enumerate(\"grizy\"):\n",
    "            #    plt.subplot(511+i)\n",
    "            #    w = np.where(dtab['filter']==filter)\n",
    "            #    plt.plot(t[w],flux[w],'-o')\n",
    "            #    plt.ylabel(filter+' [Jy]')\n",
    "            #    plt.xlim(xlim)\n",
    "            #    #plt.gca().invert_yaxis()\n",
    "            #    if i==0:\n",
    "            #        plt.title(objid)\n",
    "            #plt.xlabel('Time [MJD]')\n",
    "            #plt.tight_layout()"
   ]
  },
  {
   "cell_type": "code",
   "execution_count": null,
   "metadata": {},
   "outputs": [],
   "source": []
  },
  {
   "cell_type": "code",
   "execution_count": 23,
   "metadata": {},
   "outputs": [
    {
     "data": {
      "text/html": [
       "<div>\n",
       "<style scoped>\n",
       "    .dataframe tbody tr th:only-of-type {\n",
       "        vertical-align: middle;\n",
       "    }\n",
       "\n",
       "    .dataframe tbody tr th {\n",
       "        vertical-align: top;\n",
       "    }\n",
       "\n",
       "    .dataframe thead th {\n",
       "        text-align: right;\n",
       "    }\n",
       "</style>\n",
       "<table border=\"1\" class=\"dataframe\">\n",
       "  <thead>\n",
       "    <tr style=\"text-align: right;\">\n",
       "      <th></th>\n",
       "      <th></th>\n",
       "      <th></th>\n",
       "      <th>flux</th>\n",
       "      <th>err</th>\n",
       "    </tr>\n",
       "    <tr>\n",
       "      <th>objectid</th>\n",
       "      <th>band</th>\n",
       "      <th>time</th>\n",
       "      <th></th>\n",
       "      <th></th>\n",
       "    </tr>\n",
       "  </thead>\n",
       "  <tbody>\n",
       "    <tr>\n",
       "      <th rowspan=\"5\" valign=\"top\">1</th>\n",
       "      <th rowspan=\"5\" valign=\"top\">r</th>\n",
       "      <th>55088.484765</th>\n",
       "      <td>0.000063</td>\n",
       "      <td>0.000001</td>\n",
       "    </tr>\n",
       "    <tr>\n",
       "      <th>55088.495212</th>\n",
       "      <td>0.000061</td>\n",
       "      <td>0.000001</td>\n",
       "    </tr>\n",
       "    <tr>\n",
       "      <th>55094.521832</th>\n",
       "      <td>0.000090</td>\n",
       "      <td>0.000002</td>\n",
       "    </tr>\n",
       "    <tr>\n",
       "      <th>55104.427380</th>\n",
       "      <td>0.000063</td>\n",
       "      <td>0.000002</td>\n",
       "    </tr>\n",
       "    <tr>\n",
       "      <th>55104.437309</th>\n",
       "      <td>0.000066</td>\n",
       "      <td>0.000002</td>\n",
       "    </tr>\n",
       "    <tr>\n",
       "      <th>...</th>\n",
       "      <th>...</th>\n",
       "      <th>...</th>\n",
       "      <td>...</td>\n",
       "      <td>...</td>\n",
       "    </tr>\n",
       "    <tr>\n",
       "      <th rowspan=\"5\" valign=\"top\">31</th>\n",
       "      <th>y</th>\n",
       "      <th>56868.625712</th>\n",
       "      <td>0.000094</td>\n",
       "      <td>0.000010</td>\n",
       "    </tr>\n",
       "    <tr>\n",
       "      <th rowspan=\"4\" valign=\"top\">i</th>\n",
       "      <th>56912.473952</th>\n",
       "      <td>0.000056</td>\n",
       "      <td>0.000002</td>\n",
       "    </tr>\n",
       "    <tr>\n",
       "      <th>56912.485421</th>\n",
       "      <td>0.000057</td>\n",
       "      <td>0.000002</td>\n",
       "    </tr>\n",
       "    <tr>\n",
       "      <th>56912.496921</th>\n",
       "      <td>0.000060</td>\n",
       "      <td>0.000002</td>\n",
       "    </tr>\n",
       "    <tr>\n",
       "      <th>56912.508399</th>\n",
       "      <td>0.000060</td>\n",
       "      <td>0.000002</td>\n",
       "    </tr>\n",
       "  </tbody>\n",
       "</table>\n",
       "<p>2157 rows × 2 columns</p>\n",
       "</div>"
      ],
      "text/plain": [
       "                                flux       err\n",
       "objectid band time                            \n",
       "1        r    55088.484765  0.000063  0.000001\n",
       "              55088.495212  0.000061  0.000001\n",
       "              55094.521832  0.000090  0.000002\n",
       "              55104.427380  0.000063  0.000002\n",
       "              55104.437309  0.000066  0.000002\n",
       "...                              ...       ...\n",
       "31       y    56868.625712  0.000094  0.000010\n",
       "         i    56912.473952  0.000056  0.000002\n",
       "              56912.485421  0.000057  0.000002\n",
       "              56912.496921  0.000060  0.000002\n",
       "              56912.508399  0.000060  0.000002\n",
       "\n",
       "[2157 rows x 2 columns]"
      ]
     },
     "execution_count": 23,
     "metadata": {},
     "output_type": "execute_result"
    }
   ],
   "source": [
    "#pd.set_option('display.max_rows',None)\n",
    "df_lc\n",
    "#pd.reset_option('all')"
   ]
  },
  {
   "cell_type": "markdown",
   "metadata": {},
   "source": [
    "## 2.5 MAST: ATLAS all-sky stellar reference catalog (g, r, i) < 19mag\n",
    " -  MAST has this catalog but it is not clear that it has the individual epoch photometry and it is only accessible with casjobs, not through python notebooks.  \n",
    "\n",
    " https://archive.stsci.edu/hlsp/atlas-refcat2#section-a737bc3e-2d56-4827-9ab4-838fbf8d67c1\n",
    " \n",
    " - if we really want to pursue this, we can put in a MAST helpdesk ticket to see if a) they do have the light curves, and b) they could switch the catalog to a searchable with python version.  There are some ways of accessing casjobs through python (<https://github.com/spacetelescope/notebooks/blob/master/notebooks/MAST/HSC/HCV_CASJOBS/HCV_casjobs_demo.ipynb), but apparently not this particular catalog.  \n",
    " "
   ]
  },
  {
   "cell_type": "markdown",
   "metadata": {},
   "source": [
    "## 2.6 MAST: TESS, Kepler and K2\n",
    " - use lightKurve to search all 3"
   ]
  },
  {
   "cell_type": "code",
   "execution_count": 5,
   "metadata": {},
   "outputs": [
    {
     "name": "stdout",
     "output_type": "stream",
     "text": [
      "working on object 0 <SkyCoord (ICRS): (ra, dec) in deg\n",
      "    (0.28136, -0.09789)>\n"
     ]
    },
    {
     "name": "stderr",
     "output_type": "stream",
     "text": [
      "No data found for target \"<SkyCoord (ICRS): (ra, dec) in deg\n",
      "    (0.28136, -0.09789)>\".\n"
     ]
    },
    {
     "name": "stdout",
     "output_type": "stream",
     "text": [
      "0\n",
      "working on object 1 <SkyCoord (ICRS): (ra, dec) in deg\n",
      "    (21.70037, -8.66335)>\n"
     ]
    },
    {
     "name": "stderr",
     "output_type": "stream",
     "text": [
      "No data found for target \"<SkyCoord (ICRS): (ra, dec) in deg\n",
      "    (21.70037, -8.66335)>\".\n"
     ]
    },
    {
     "name": "stdout",
     "output_type": "stream",
     "text": [
      "0\n",
      "working on object 2 <SkyCoord (ICRS): (ra, dec) in deg\n",
      "    (29.99, 0.55301)>\n"
     ]
    },
    {
     "name": "stderr",
     "output_type": "stream",
     "text": [
      "No data found for target \"<SkyCoord (ICRS): (ra, dec) in deg\n",
      "    (29.99, 0.55301)>\".\n"
     ]
    },
    {
     "name": "stdout",
     "output_type": "stream",
     "text": [
      "0\n",
      "working on object 3 <SkyCoord (ICRS): (ra, dec) in deg\n",
      "    (29.99015, 0.55288)>\n"
     ]
    },
    {
     "name": "stderr",
     "output_type": "stream",
     "text": [
      "No data found for target \"<SkyCoord (ICRS): (ra, dec) in deg\n",
      "    (29.99015, 0.55288)>\".\n"
     ]
    },
    {
     "name": "stdout",
     "output_type": "stream",
     "text": [
      "0\n",
      "working on object 4 <SkyCoord (ICRS): (ra, dec) in deg\n",
      "    (120.94815, 42.97747)>\n"
     ]
    },
    {
     "name": "stderr",
     "output_type": "stream",
     "text": [
      "No data found for target \"<SkyCoord (ICRS): (ra, dec) in deg\n",
      "    (120.94815, 42.97747)>\".\n"
     ]
    },
    {
     "name": "stdout",
     "output_type": "stream",
     "text": [
      "0\n",
      "working on object 5 <SkyCoord (ICRS): (ra, dec) in deg\n",
      "    (127.88438, 36.77146)>\n"
     ]
    },
    {
     "name": "stderr",
     "output_type": "stream",
     "text": [
      "No data found for target \"<SkyCoord (ICRS): (ra, dec) in deg\n",
      "    (127.88438, 36.77146)>\".\n"
     ]
    },
    {
     "name": "stdout",
     "output_type": "stream",
     "text": [
      "0\n",
      "working on object 6 <SkyCoord (ICRS): (ra, dec) in deg\n",
      "    (132.49077, 27.79139)>\n"
     ]
    },
    {
     "name": "stderr",
     "output_type": "stream",
     "text": [
      "No data found for target \"<SkyCoord (ICRS): (ra, dec) in deg\n",
      "    (132.49077, 27.79139)>\".\n"
     ]
    },
    {
     "name": "stdout",
     "output_type": "stream",
     "text": [
      "0\n",
      "working on object 7 <SkyCoord (ICRS): (ra, dec) in deg\n",
      "    (137.38346, 47.79186)>\n"
     ]
    },
    {
     "name": "stderr",
     "output_type": "stream",
     "text": [
      "No data found for target \"<SkyCoord (ICRS): (ra, dec) in deg\n",
      "    (137.38346, 47.79186)>\".\n"
     ]
    },
    {
     "name": "stdout",
     "output_type": "stream",
     "text": [
      "0\n",
      "working on object 8 <SkyCoord (ICRS): (ra, dec) in deg\n",
      "    (144.37635, 26.04226)>\n"
     ]
    },
    {
     "name": "stderr",
     "output_type": "stream",
     "text": [
      "No data found for target \"<SkyCoord (ICRS): (ra, dec) in deg\n",
      "    (144.37635, 26.04226)>\".\n"
     ]
    },
    {
     "name": "stdout",
     "output_type": "stream",
     "text": [
      "0\n",
      "working on object 9 <SkyCoord (ICRS): (ra, dec) in deg\n",
      "    (144.39777, 32.5472)>\n"
     ]
    },
    {
     "name": "stderr",
     "output_type": "stream",
     "text": [
      "No data found for target \"<SkyCoord (ICRS): (ra, dec) in deg\n",
      "    (144.39777, 32.5472)>\".\n"
     ]
    },
    {
     "name": "stdout",
     "output_type": "stream",
     "text": [
      "0\n",
      "working on object 10 <SkyCoord (ICRS): (ra, dec) in deg\n",
      "    (150.84777, 35.41774)>\n"
     ]
    },
    {
     "name": "stderr",
     "output_type": "stream",
     "text": [
      "No data found for target \"<SkyCoord (ICRS): (ra, dec) in deg\n",
      "    (150.84777, 35.41774)>\".\n"
     ]
    },
    {
     "name": "stdout",
     "output_type": "stream",
     "text": [
      "0\n",
      "working on object 11 <SkyCoord (ICRS): (ra, dec) in deg\n",
      "    (152.97077, 54.7018)>\n"
     ]
    },
    {
     "name": "stderr",
     "output_type": "stream",
     "text": [
      "No data found for target \"<SkyCoord (ICRS): (ra, dec) in deg\n",
      "    (152.97077, 54.7018)>\".\n"
     ]
    },
    {
     "name": "stdout",
     "output_type": "stream",
     "text": [
      "0\n",
      "working on object 12 <SkyCoord (ICRS): (ra, dec) in deg\n",
      "    (166.09674, 63.71816)>\n"
     ]
    },
    {
     "name": "stderr",
     "output_type": "stream",
     "text": [
      "No data found for target \"<SkyCoord (ICRS): (ra, dec) in deg\n",
      "    (166.09674, 63.71816)>\".\n"
     ]
    },
    {
     "name": "stdout",
     "output_type": "stream",
     "text": [
      "0\n",
      "working on object 13 <SkyCoord (ICRS): (ra, dec) in deg\n",
      "    (166.22989, 1.31573)>\n"
     ]
    },
    {
     "name": "stderr",
     "output_type": "stream",
     "text": [
      "No data found for target \"<SkyCoord (ICRS): (ra, dec) in deg\n",
      "    (166.22989, 1.31573)>\".\n"
     ]
    },
    {
     "name": "stdout",
     "output_type": "stream",
     "text": [
      "0\n",
      "working on object 14 <SkyCoord (ICRS): (ra, dec) in deg\n",
      "    (167.60602, -0.05948)>\n"
     ]
    },
    {
     "name": "stderr",
     "output_type": "stream",
     "text": [
      "No data found for target \"<SkyCoord (ICRS): (ra, dec) in deg\n",
      "    (167.60602, -0.05948)>\".\n"
     ]
    },
    {
     "name": "stdout",
     "output_type": "stream",
     "text": [
      "0\n",
      "working on object 15 <SkyCoord (ICRS): (ra, dec) in deg\n",
      "    (168.90238, 5.74715)>\n"
     ]
    },
    {
     "name": "stderr",
     "output_type": "stream",
     "text": [
      "No data found for target \"<SkyCoord (ICRS): (ra, dec) in deg\n",
      "    (168.90238, 5.74715)>\".\n"
     ]
    },
    {
     "name": "stdout",
     "output_type": "stream",
     "text": [
      "0\n",
      "working on object 16 <SkyCoord (ICRS): (ra, dec) in deg\n",
      "    (169.62351, 32.06666)>\n"
     ]
    },
    {
     "name": "stderr",
     "output_type": "stream",
     "text": [
      "No data found for target \"<SkyCoord (ICRS): (ra, dec) in deg\n",
      "    (169.62351, 32.06666)>\".\n"
     ]
    },
    {
     "name": "stdout",
     "output_type": "stream",
     "text": [
      "0\n",
      "working on object 17 <SkyCoord (ICRS): (ra, dec) in deg\n",
      "    (173.12142, 3.95808)>\n"
     ]
    },
    {
     "name": "stderr",
     "output_type": "stream",
     "text": [
      "No data found for target \"<SkyCoord (ICRS): (ra, dec) in deg\n",
      "    (173.12142, 3.95808)>\".\n"
     ]
    },
    {
     "name": "stdout",
     "output_type": "stream",
     "text": [
      "0\n",
      "working on object 18 <SkyCoord (ICRS): (ra, dec) in deg\n",
      "    (177.66385, 36.54956)>\n"
     ]
    },
    {
     "name": "stderr",
     "output_type": "stream",
     "text": [
      "No data found for target \"<SkyCoord (ICRS): (ra, dec) in deg\n",
      "    (177.66385, 36.54956)>\".\n"
     ]
    },
    {
     "name": "stdout",
     "output_type": "stream",
     "text": [
      "0\n",
      "working on object 19 <SkyCoord (ICRS): (ra, dec) in deg\n",
      "    (178.11465, 32.16646)>\n"
     ]
    },
    {
     "name": "stderr",
     "output_type": "stream",
     "text": [
      "No data found for target \"<SkyCoord (ICRS): (ra, dec) in deg\n",
      "    (178.11465, 32.16646)>\".\n"
     ]
    },
    {
     "name": "stdout",
     "output_type": "stream",
     "text": [
      "0\n",
      "working on object 20 <SkyCoord (ICRS): (ra, dec) in deg\n",
      "    (194.81978, 55.25199)>\n"
     ]
    },
    {
     "name": "stderr",
     "output_type": "stream",
     "text": [
      "No data found for target \"<SkyCoord (ICRS): (ra, dec) in deg\n",
      "    (194.81978, 55.25199)>\".\n"
     ]
    },
    {
     "name": "stdout",
     "output_type": "stream",
     "text": [
      "0\n",
      "working on object 21 <SkyCoord (ICRS): (ra, dec) in deg\n",
      "    (199.87808, 67.89872)>\n"
     ]
    },
    {
     "name": "stderr",
     "output_type": "stream",
     "text": [
      "No data found for target \"<SkyCoord (ICRS): (ra, dec) in deg\n",
      "    (199.87808, 67.89872)>\".\n"
     ]
    },
    {
     "name": "stdout",
     "output_type": "stream",
     "text": [
      "0\n",
      "working on object 22 <SkyCoord (ICRS): (ra, dec) in deg\n",
      "    (209.07707, -1.2539)>\n"
     ]
    },
    {
     "name": "stderr",
     "output_type": "stream",
     "text": [
      "No data found for target \"<SkyCoord (ICRS): (ra, dec) in deg\n",
      "    (209.07707, -1.2539)>\".\n"
     ]
    },
    {
     "name": "stdout",
     "output_type": "stream",
     "text": [
      "0\n",
      "working on object 23 <SkyCoord (ICRS): (ra, dec) in deg\n",
      "    (209.73263, 49.5706)>\n"
     ]
    },
    {
     "name": "stderr",
     "output_type": "stream",
     "text": [
      "No data found for target \"<SkyCoord (ICRS): (ra, dec) in deg\n",
      "    (209.73263, 49.5706)>\".\n"
     ]
    },
    {
     "name": "stdout",
     "output_type": "stream",
     "text": [
      "0\n",
      "working on object 24 <SkyCoord (ICRS): (ra, dec) in deg\n",
      "    (221.97599, 28.55669)>\n"
     ]
    },
    {
     "name": "stderr",
     "output_type": "stream",
     "text": [
      "No data found for target \"<SkyCoord (ICRS): (ra, dec) in deg\n",
      "    (221.97599, 28.55669)>\".\n"
     ]
    },
    {
     "name": "stdout",
     "output_type": "stream",
     "text": [
      "0\n",
      "working on object 25 <SkyCoord (ICRS): (ra, dec) in deg\n",
      "    (233.48331, 1.17494)>\n"
     ]
    },
    {
     "name": "stderr",
     "output_type": "stream",
     "text": [
      "No data found for target \"<SkyCoord (ICRS): (ra, dec) in deg\n",
      "    (233.48331, 1.17494)>\".\n"
     ]
    },
    {
     "name": "stdout",
     "output_type": "stream",
     "text": [
      "0\n",
      "working on object 26 <SkyCoord (ICRS): (ra, dec) in deg\n",
      "    (236.3735, 25.19107)>\n"
     ]
    },
    {
     "name": "stderr",
     "output_type": "stream",
     "text": [
      "No data found for target \"<SkyCoord (ICRS): (ra, dec) in deg\n",
      "    (236.3735, 25.19107)>\".\n"
     ]
    },
    {
     "name": "stdout",
     "output_type": "stream",
     "text": [
      "0\n",
      "working on object 27 <SkyCoord (ICRS): (ra, dec) in deg\n",
      "    (237.57179, 41.65064)>\n"
     ]
    },
    {
     "name": "stderr",
     "output_type": "stream",
     "text": [
      "No data found for target \"<SkyCoord (ICRS): (ra, dec) in deg\n",
      "    (237.57179, 41.65064)>\".\n"
     ]
    },
    {
     "name": "stdout",
     "output_type": "stream",
     "text": [
      "0\n",
      "working on object 28 <SkyCoord (ICRS): (ra, dec) in deg\n",
      "    (238.24292, 27.62456)>\n"
     ]
    },
    {
     "name": "stderr",
     "output_type": "stream",
     "text": [
      "No data found for target \"<SkyCoord (ICRS): (ra, dec) in deg\n",
      "    (238.24292, 27.62456)>\".\n"
     ]
    },
    {
     "name": "stdout",
     "output_type": "stream",
     "text": [
      "0\n",
      "working on object 29 <SkyCoord (ICRS): (ra, dec) in deg\n",
      "    (238.66774, 36.4978)>\n"
     ]
    },
    {
     "name": "stderr",
     "output_type": "stream",
     "text": [
      "No data found for target \"<SkyCoord (ICRS): (ra, dec) in deg\n",
      "    (238.66774, 36.4978)>\".\n"
     ]
    },
    {
     "name": "stdout",
     "output_type": "stream",
     "text": [
      "0\n",
      "working on object 30 <SkyCoord (ICRS): (ra, dec) in deg\n",
      "    (354.01242, 0.29132)>\n"
     ]
    },
    {
     "name": "stderr",
     "output_type": "stream",
     "text": [
      "No data found for target \"<SkyCoord (ICRS): (ra, dec) in deg\n",
      "    (354.01242, 0.29132)>\".\n"
     ]
    },
    {
     "name": "stdout",
     "output_type": "stream",
     "text": [
      "0\n"
     ]
    }
   ],
   "source": [
    "radius = 1.0  #arcseconds\n",
    "\n",
    "#for all objects\n",
    "for count, coord in enumerate(coords_list):\n",
    "    print(\"working on object\", count, coord)\n",
    "    \n",
    "    #use lightkurve to search TESS, Kepler and K2\n",
    "    search_result = lk.search_lightcurve(coord, radius = radius)\n",
    "    \n",
    "    #figure out what to do with the results\n",
    "    if len(search_result) < 1:\n",
    "        #there is no data in these missions at this location\n",
    "    else:\n",
    "        #don't know what this looks like because none of these targets has a light curve\n",
    "        #https://docs.lightkurve.org/tutorials/1-getting-started/searching-for-data-products.html\n",
    "        #has a tutorial on how to do this\n",
    "        #might look something like this:\n",
    "        #lc_collection = search_result[*].download_all()\n"
   ]
  },
  {
   "cell_type": "markdown",
   "metadata": {},
   "source": [
    "## 2.6 MAST: HCV\n",
    " - hubble catalog of variables (https://archive.stsci.edu/hlsp/hcv)\n",
    " - follow notebook here to know how to search and download light curves https://archive.stsci.edu/hst/hsc/help/HCV/HCV_API_demo.html"
   ]
  },
  {
   "cell_type": "markdown",
   "metadata": {},
   "source": [
    "## 3. Find light curves for these targets in relevant, non-NASA catalogs\n"
   ]
  },
  {
   "cell_type": "markdown",
   "metadata": {},
   "source": [
    "### Gaia (Faisst)\n",
    "- astroquery.gaia will presumably work out of the box for this"
   ]
  },
  {
   "cell_type": "code",
   "execution_count": 12,
   "metadata": {},
   "outputs": [
    {
     "name": "stdout",
     "output_type": "stream",
     "text": [
      "31 30 29 28 27 26 25 24 23 22 21 20 19 18 17 16 15 14 13 12 11 10 9 8 7 6 5 4 3 2 1 \n",
      "Search completed in 79.36 seconds\n",
      "Number of objects mached: 28 out of 31.\n"
     ]
    }
   ],
   "source": [
    "############ EXTRACT GAIA DATA FOR OBJECTS ##########\n",
    "\n",
    "## Select Gaia table (DR3)\n",
    "Gaia.MAIN_GAIA_TABLE = \"gaiaedr3.gaia_source\"\n",
    "\n",
    "## Define search radius\n",
    "radius = u.Quantity(20, u.arcsec)\n",
    "\n",
    "## Search and Cross match.\n",
    "# This can be done in a smarter way by matching catalogs on the Gaia server, or grouping the\n",
    "# sources and search a larger area.\n",
    "\n",
    "# get catalog\n",
    "gaia_table = Table()\n",
    "t1 = time.time()\n",
    "for cc,coord in enumerate(coords_list):\n",
    "    print(len(coords_list)-cc , end=\" \")\n",
    "\n",
    "    gaia_search = Gaia.cone_search_async(coordinate=coord, radius=radius , background=True)\n",
    "    gaia_search.get_data()[\"dist\"].unit = \"deg\"\n",
    "    gaia_search.get_data()[\"dist\"] = gaia_search.get_data()[\"dist\"].to(u.arcsec) # Change distance unit from degrees to arcseconds\n",
    "    \n",
    "    \n",
    "    # match\n",
    "    if len(gaia_search.get_data()[\"dist\"]) > 0:\n",
    "        gaia_search.get_data()[\"input_object_name\"] = CLAGN[\"Object Name\"][cc] # add input object name to catalog\n",
    "        sel_min = np.where( (gaia_search.get_data()[\"dist\"] < 1*u.arcsec) & (gaia_search.get_data()[\"dist\"] == np.nanmin(gaia_search.get_data()[\"dist\"]) ) )[0]\n",
    "    else:\n",
    "        sel_min = []\n",
    "        \n",
    "    #print(\"Number of sources matched: {}\".format(len(sel_min)) )\n",
    "    \n",
    "    if len(sel_min) > 0:\n",
    "        gaia_table = vstack( [gaia_table , gaia_search.get_data()[sel_min]] )\n",
    "    else:\n",
    "        gaia_table = vstack( [gaia_table , gaia_search.get_data()[sel_min]] )\n",
    "\n",
    "print(\"\\nSearch completed in {:.2f} seconds\".format((time.time()-t1) ) )\n",
    "print(\"Number of objects mached: {} out of {}.\".format(len(gaia_table),len(CLAGN) ) )"
   ]
  },
  {
   "cell_type": "code",
   "execution_count": 13,
   "metadata": {},
   "outputs": [],
   "source": [
    "########## EXTRACT PHOTOMETRY #########\n",
    "# Note that the fluxes are in e/s, not very useful. However, there are magnitudes (what unit??) but without errors.\n",
    "# We can get the errors from the flux errors?\n",
    "\n",
    "## Define keys (columns) that will be used later. Also add wavelength in angstroms for each filter\n",
    "mag_keys = [\"phot_bp_mean_mag\" , \"phot_g_mean_mag\" , \"phot_rp_mean_mag\"]\n",
    "magerr_keys = [\"phot_bp_mean_mag_error\" , \"phot_g_mean_mag_error\" , \"phot_rp_mean_mag_error\"]\n",
    "flux_keys = [\"phot_bp_mean_flux\" , \"phot_g_mean_flux\" , \"phot_rp_mean_flux\"]\n",
    "fluxerr_keys = [\"phot_bp_mean_flux_error\" , \"phot_g_mean_flux_error\" , \"phot_rp_mean_flux_error\"]\n",
    "mag_lambda = [\"5319.90\" , \"6735.42\" , \"7992.90\"]\n",
    "\n",
    "## Get photometry. Note that this includes only objects that are \n",
    "# matched to the catalog. We have to add the missing ones later.\n",
    "_phot = gaia_table[mag_keys]\n",
    "_err = hstack( [ 2.5/np.log(10) * gaia_table[e]/gaia_table[f] for e,f in zip(fluxerr_keys,flux_keys) ] )\n",
    "gaia_phot2 = hstack( [_phot , _err] )\n",
    "\n",
    "## Clean up (change units and column names)\n",
    "_ = [gaia_phot2.rename_column(f,m) for m,f in zip(magerr_keys,fluxerr_keys)]\n",
    "for key in magerr_keys:\n",
    "    gaia_phot2[key].unit = \"mag\"\n",
    "gaia_phot2[\"input_object_name\"] = gaia_table[\"input_object_name\"].copy()\n",
    "\n",
    "## Also add object for which we don't have photometry.\n",
    "# Add Nan for now, need to think about proper format. Also, there are probably smarter ways to do this.\n",
    "# We do this by matching the object names from the original catalog to the photometry catalog. Then add\n",
    "# an entry [np.nan, ...] if it does not exist. To make life easier, we add a dummy entry as the first\n",
    "# row so we can compy all the \n",
    "gaia_phot = Table( names=gaia_phot2.keys() , dtype=gaia_phot2.dtype )\n",
    "for ii in range(len(CLAGN)):\n",
    "    sel = np.where( CLAGN[\"Object Name\"][ii] == gaia_phot2[\"input_object_name\"] )[0]\n",
    "    if len(sel) > 0:\n",
    "        gaia_phot = vstack([gaia_phot , gaia_phot2[sel] ])\n",
    "    else:\n",
    "        tmp = Table( np.repeat(np.NaN , len(gaia_phot2.keys())) , names=gaia_phot2.keys() , dtype=gaia_phot2.dtype )\n",
    "        gaia_phot = vstack([gaia_phot , tmp ])"
   ]
  },
  {
   "cell_type": "code",
   "execution_count": 16,
   "metadata": {},
   "outputs": [
    {
     "name": "stdout",
     "output_type": "stream",
     "text": [
      "phot_bp_mean_mag phot_g_mean_mag phot_rp_mean_mag phot_bp_mean_mag_error phot_g_mean_mag_error phot_rp_mean_mag_error     input_object_name    \n",
      "      mag              mag             mag                 mag                    mag                   mag                                    \n",
      "---------------- --------------- ---------------- ---------------------- --------------------- ---------------------- -------------------------\n",
      "             nan             nan              nan                    nan                   nan                    nan                       nan\n",
      "       19.334736       20.655428        18.006554     0.0489463475382072   0.01195253816419854    0.03560993262228968 WISEA J012648.10-083948.0\n",
      "       19.742887       20.841955         18.55511    0.09464535378467852   0.02097086422081428    0.04248351283430384   2MASS J01595763+0033105\n",
      "       19.742887       20.841955         18.55511    0.09464535378467852   0.02097086422081428    0.04248351283430384 WISEA J015957.63+003310.3\n",
      "             nan             nan              nan                    nan                   nan                    nan                       nan\n",
      "       18.682938       19.121965        17.443657    0.06859739379512571  0.021330523804058837    0.03162004672292963 WISEA J083132.25+364617.0\n",
      "       20.032625       20.557375        18.566603    0.06488202490701654  0.014519066831425122    0.04852070859643191 WISEA J084957.78+274728.8\n",
      "        18.83343       19.598389        17.521133    0.03458888778092869  0.016285677301456646    0.01904929130253408 WISEA J090932.02+474730.7\n",
      "       18.673218       19.429667        17.303476    0.03206049783838812   0.01638385902470684   0.015951683357388665 WISEA J093730.32+260232.1\n",
      "       20.719622       20.899273        20.309593    0.21206420971063977    0.0127293510325973    0.08330623112919122 WISEA J093735.45+323250.6\n",
      "       18.200468       18.499763         16.91392    0.03844232555379939   0.01714990678192904   0.026451385308381172 WISEA J100323.46+352503.8\n",
      "       19.619595       20.656897        18.403805    0.05453472749477915  0.012338307743282848   0.040835372481844184 WISEA J101152.99+544206.3\n",
      "       19.937426        21.00606        18.767895    0.07560871467243252  0.017358940646531835   0.029639224132883397 WISEA J110423.23+634305.2\n",
      "             nan             nan              nan                    nan                   nan                    nan                       nan\n",
      "       19.177925       19.460379        17.980103    0.06588865692512147  0.026474082800289827    0.03147298622848686 WISEA J111025.44-000334.1\n",
      "       18.464869       19.234829        17.152103    0.07593085210097976   0.03550375722728837    0.05933948408335441 WISEA J111536.56+054449.7\n",
      "       20.339615        20.92694        19.324455    0.22314439211453288  0.050885603619372055    0.11504180587462766 WISEA J111829.66+320400.0\n",
      "       18.131878       19.102892        16.809544   0.022033936427205306  0.015683407746881643   0.015797201278530137 WISEA J113229.14+035729.1\n",
      "       20.302738       21.031055         19.02412    0.11851525820756251  0.031049577608767722    0.09821581567984367 WISEA J115039.31+363258.3\n",
      "         20.1978       20.374107         18.47522     0.0865202827166565  0.006475987938930861    0.03329089887079503     FBQS J115227.5+320959\n",
      "       19.133806       19.522717        17.848743    0.04391213996920919   0.01722840080053144   0.030791177447689166 WISEA J125916.74+551507.1\n",
      "        18.36343       18.994835        17.185936   0.028814018342841197  0.014117377582083175   0.019365044097712805 WISEA J131930.75+675355.4\n",
      "       19.337309       19.772038        18.679356     0.0343266769847331  0.010097260520322109   0.029189919317396503 WISEA J135618.50-011514.0\n",
      "        19.23167       19.990995        18.109407    0.04067276857874131  0.012271122068066435   0.028570931164036632 WISEA J135855.82+493414.0\n",
      "       17.656807       18.011076        16.650372   0.024810326487981142   0.00986601220089287   0.014320332096800996 WISEA J144754.23+283324.1\n",
      "       18.879412       20.113039        17.437674   0.055547993309524764   0.01583562186684592   0.021049902715324503 WISEA J153355.99+011029.7\n",
      "       18.094048       19.134172        16.777948     0.0252111433628053  0.015455575156292103   0.017681559703418063 WISEA J154529.63+251127.9\n",
      "        18.89239       19.558643        17.498657    0.03719779255012713  0.014864182693170745   0.025478937985966617 WISEA J155017.23+413902.4\n",
      "       19.303299       19.721245        17.588148    0.04885142485011689  0.010884735268919523    0.02524641844934949 WISEA J155258.27+273728.5\n",
      "        18.53089       18.783075        17.495468   0.026886543515692477  0.008898602660410003    0.01792306879369694 WISEA J155440.26+362951.9\n",
      "       20.564999       21.272406        18.978415     0.3678877392428809  0.037285691524539914    0.20983582155857536 WISEA J233602.97+001728.9\n"
     ]
    }
   ],
   "source": [
    "gaia_phot.pprint_all()"
   ]
  },
  {
   "cell_type": "markdown",
   "metadata": {},
   "source": [
    "### ASAS-SN (all sky automated survey for supernovae) has a website that can be manually searched (Faisst)\n",
    "- see if astroquery.vizier can find it\n",
    "\n"
   ]
  },
  {
   "cell_type": "markdown",
   "metadata": {},
   "source": [
    "### icecube has a 2008 - 2018 catalog which we can download and is small (Faisst)\n",
    "- https://icecube.wisc.edu/data-releases/2021/01/all-sky-point-source-icecube-data-years-2008-2018/"
   ]
  },
  {
   "cell_type": "markdown",
   "metadata": {},
   "source": [
    "## 4. Make plots of luminosity as a function of time\n",
    "- time could be days since peak, or days since first observation, or??"
   ]
  },
  {
   "cell_type": "markdown",
   "metadata": {},
   "source": [
    "## Image extension: look for archival images of these targets\n",
    "- NASA NAVO use cases should help us to learn how to do this\n",
    "- can use the cutout service now in astropy from the first fornax use case"
   ]
  },
  {
   "cell_type": "markdown",
   "metadata": {},
   "source": [
    "## ML Extension \n",
    "Consider training a ML model to do light curve classification based on this sample of CLAGN\n",
    " - once we figure out which bands these are likely to be observed in, could then have a optical + IR light curve classifier\n",
    " - what would the features of the light curve be?\n",
    " - what models are reasonable to test as light curve classifiers?\n",
    " - could we make also a sample of TDEs, SNe, flaring AGN? - then train the model to distinguish between these things?\n",
    " - need a sample of non-flaring light curves\n",
    " \n",
    "After training the model:\n",
    " - would then need a sample of optical + IR light curves for \"all\" galaxies = big data to run the model on.\n",
    "\n",
    "Some resources to consider:\n",
    "- https://github.com/dirac-institute/ZTF_Boyajian\n",
    "- https://ui.adsabs.harvard.edu/abs/2022AJ....164...68S/abstract\n",
    "- https://ui.adsabs.harvard.edu/abs/2019ApJ...881L...9F/abstract\n",
    "\n"
   ]
  },
  {
   "cell_type": "code",
   "execution_count": null,
   "metadata": {},
   "outputs": [],
   "source": []
  }
 ],
 "metadata": {
  "kernelspec": {
   "display_name": "Python 3",
   "language": "python",
   "name": "python3"
  },
  "language_info": {
   "codemirror_mode": {
    "name": "ipython",
    "version": 3
   },
   "file_extension": ".py",
   "mimetype": "text/x-python",
   "name": "python",
   "nbconvert_exporter": "python",
   "pygments_lexer": "ipython3",
   "version": "3.8.6"
  }
 },
 "nbformat": 4,
 "nbformat_minor": 4
}
