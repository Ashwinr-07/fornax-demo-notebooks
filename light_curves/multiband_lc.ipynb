{
 "cells": [
  {
   "cell_type": "markdown",
   "metadata": {},
   "source": [
    "## Make multiwavelength light curves using archival data\n",
    "\n",
    "### Summary:\n",
    " - model plots after van Velzen et al. 2021, https://arxiv.org/pdf/2111.09391.pdf\n",
    " \n",
    "### Input:\n",
    " - a catalog of CLAGN from the literature\n",
    "\n",
    "### Output:\n",
    " - an archival optical + IR + neutrino light curve\n",
    " \n",
    "### Technical Goals:\n",
    " - should be able to run from a clean checkout from github\n",
    " - should be able to automatically download all catalogs & images used\n",
    " - need to have all photometry in the same physical unit\n",
    " - need to have a data structure that is easy to use but holds light curve information (time and units) and is extendable to ML applications\n",
    " - need to have a curated list of catalogs to search for photometry that is generalizeable to other input catalogs\n",
    " \n",
    "### Authors:\n",
    "IPAC SP team\n",
    "\n",
    "### Acknowledgements:\n",
    "Suvi Gezari, Antara Basu-zych,\n",
    "MAST, HEASARC, & IRSA Fornax teams"
   ]
  },
  {
   "cell_type": "code",
   "execution_count": 300,
   "metadata": {},
   "outputs": [],
   "source": [
    "import numpy as np\n",
    "import time\n",
    "\n",
    "import os\n",
    "\n",
    "from astroquery.ipac.ned import Ned\n",
    "from astroquery.heasarc import Heasarc\n",
    "from astroquery.gaia import Gaia\n",
    "\n",
    "from astropy.coordinates import SkyCoord\n",
    "import astropy.units as u\n",
    "from astropy.table import Table, vstack, hstack\n",
    "from astropy.io import fits, ascii\n",
    "from astropy.time import Time\n",
    "from astropy.timeseries import TimeSeries\n",
    "\n",
    "import matplotlib.pyplot as plt\n",
    "import matplotlib as mpl\n",
    "import matplotlib.patheffects as path_effects\n",
    "\n",
    "\n",
    "## Plotting stuff\n",
    "mpl.rcParams['font.size'] = 12\n",
    "mpl.rcParams['axes.labelpad'] = 10\n",
    "mpl.rcParams['xtick.major.pad'] = 7\n",
    "mpl.rcParams['ytick.major.pad'] = 7\n",
    "mpl.rcParams['xtick.minor.visible'] = True\n",
    "mpl.rcParams['ytick.minor.visible'] = True\n",
    "mpl.rcParams['xtick.minor.top'] = True\n",
    "mpl.rcParams['xtick.minor.bottom'] = True\n",
    "mpl.rcParams['ytick.minor.left'] = True\n",
    "mpl.rcParams['ytick.minor.right'] = True\n",
    "mpl.rcParams['xtick.major.size'] = 5\n",
    "mpl.rcParams['ytick.major.size'] = 5\n",
    "mpl.rcParams['xtick.minor.size'] = 3\n",
    "mpl.rcParams['ytick.minor.size'] = 3\n",
    "mpl.rcParams['xtick.direction'] = 'in'\n",
    "mpl.rcParams['ytick.direction'] = 'in'\n",
    "#mpl.rc('text', usetex=True)\n",
    "mpl.rc('font', family='serif')\n",
    "mpl.rcParams['xtick.top'] = True\n",
    "mpl.rcParams['ytick.right'] = True\n",
    "mpl.rcParams['hatch.linewidth'] = 1\n",
    "def_cols = plt.rcParams['axes.prop_cycle'].by_key()['color']\n",
    "\n",
    "\n",
    "## From Brigitta\n",
    "class MultibandTimeSeries(TimeSeries):\n",
    "    def __init__(self, *, data=None, time=None, **kwargs):\n",
    "        # using kwargs to swallow all other arguments a TimeSeries/QTable can have,\n",
    "        # but we dont explicitly use. Ideally they are spelt out if we have docstrings here.\n",
    "        # Also using keyword only arguments everywhere to force being explicit.\n",
    "        super().__init__(data=data, time=time, **kwargs)\n",
    "                \n",
    "    def add_band(self, *, time=None, data=None, band_name=\"None\"):\n",
    "        '''Add a time, flux/mag data set and resort the arrays. ``time`` can be a TimeSeries instance'''\n",
    "        if 'time' not in self.colnames:\n",
    "            if isinstance(time, TimeSeries):\n",
    "                super().__init__(time)\n",
    "            else:\n",
    "                super().__init__(data={band_name: data}, time=time)\n",
    "        else:\n",
    "            if time is None:\n",
    "                # this assumes ``band_name`` fluxes are taken at the very same times as the already exitsing bands\n",
    "                # TODO: include checks for sizes and other assumptions\n",
    "                self[band_name] = data\n",
    "                return \n",
    "            elif not isinstance(time, TimeSeries):\n",
    "                # TODO: handle band_name=None case\n",
    "                time = TimeSeries(time=time, data={band_name: data})\n",
    "            super().__init__(vstack([self, time]))"
   ]
  },
  {
   "cell_type": "markdown",
   "metadata": {},
   "source": [
    "## 1. Define the Sample"
   ]
  },
  {
   "cell_type": "code",
   "execution_count": 2,
   "metadata": {},
   "outputs": [],
   "source": [
    "# use the following paper to make a sample of CLAGN: https://iopscience.iop.org/article/10.3847/1538-4357/aaca3a \n",
    "\n",
    "# This sample can later be switched out to a differen/larger sample of \"interesting\" targets\n",
    "\n",
    "#use ADS to find the refcode for this paper\n",
    "CLAGN = Ned.query_refcode('2018ApJ...862..109Y')\n"
   ]
  },
  {
   "cell_type": "markdown",
   "metadata": {},
   "source": [
    "### What is the best data structure for this work?\n",
    " - needs to hold multiwavelength light curves\n",
    " - understands both time and units on fluxes\n",
    " - would like to know if whatever we choose can be scaled up to make light curves of the while WISE sample\n",
    " - some things to look into\n",
    "     - astropy has a light curve class\n",
    "         -would probably need to do some development work to make this work for multiwavelength application\n",
    "     - LINCC people are interested in this and might have some suggestions on a 6mo. timescale\n",
    "     - xarray\n",
    "     - pandas might have more unit support now than before\n",
    "     - what is ZTF using?\n",
    "     - what did Dave do in his WISE parquet files?\n",
    "     \n",
    "- One suggestion is that instead of one large dataframe with the multiwavelength information, we keep them as seperate astropy light curves for each band, do the feature extraction on each light curve and keep the features in one large dataframe."
   ]
  },
  {
   "cell_type": "code",
   "execution_count": 3,
   "metadata": {},
   "outputs": [
    {
     "data": {
      "text/plain": [
       "astropy.table.table.Table"
      ]
     },
     "execution_count": 3,
     "metadata": {},
     "output_type": "execute_result"
    }
   ],
   "source": [
    "type(CLAGN)"
   ]
  },
  {
   "cell_type": "code",
   "execution_count": 4,
   "metadata": {},
   "outputs": [],
   "source": [
    "#### Build a list of skycoords from target ra and dec #####\n",
    "coords_list = [\n",
    "    SkyCoord(ra, dec, frame='icrs', unit='deg')\n",
    "    for ra, dec in zip(CLAGN['RA'], CLAGN['DEC'])\n",
    "]\n"
   ]
  },
  {
   "cell_type": "markdown",
   "metadata": {},
   "source": [
    "## 2. Find photometry for these targets in NASA catalogs\n",
    "- look at NAVO use cases to get help with tools to do this - although they mostly use pyvo\n",
    "- deciding up front to use astroquery instead of pyvo\n",
    "    - astroquery is apparently more user friendly\n",
    "- data access concerns:\n",
    "    - can't ask the archives to search their entire holdings\n",
    "        - not good enough meta data\n",
    "        - not clear that the data is all vetted and good enough to include for science\n",
    "        - all catalogs have differently named columns so how would we know which columns to keep\n",
    "    - instead work with a curated list of catalogs for each archive\n",
    "        - focus on general surveys\n",
    "        - try to ensure that this list is also appropriate for a generalization of this use case to other input catalogs\n",
    "        - could astroquery.NED be useful in finding a generalized curated list\n",
    "- How do we know we have a match that is good enough to include in our light curve\n",
    "     - look at nway for the high energy catalogs\n",
    "     - probably need to generate a table of search radii for each catalog based on bandpass\n",
    "         - need domain knowledge for that\n",
    "     \n"
   ]
  },
  {
   "cell_type": "markdown",
   "metadata": {},
   "source": [
    "### HEASARC (Krick)\n",
    "- asked Antara for help making a curated list of catalogs\n",
    "- Suvi mentioned scientifically sensible to include Fermi Gamma ray photometry"
   ]
  },
  {
   "cell_type": "code",
   "execution_count": null,
   "metadata": {},
   "outputs": [],
   "source": [
    "#list all the available HEASARC missions\n",
    "heasarc = Heasarc()\n",
    "mission_table = heasarc.query_mission_list()\n",
    "#mission_table.pprint_all()\n",
    "\n"
   ]
  },
  {
   "cell_type": "code",
   "execution_count": null,
   "metadata": {},
   "outputs": [],
   "source": [
    "#figure out what the column names are in one of the catalogs\n",
    "cols = heasarc.query_mission_cols(mission='fermi3fgl')\n",
    "#cols\n"
   ]
  },
  {
   "cell_type": "code",
   "execution_count": null,
   "metadata": {},
   "outputs": [],
   "source": [
    "#For all CLAGN coords in the paper\n",
    "c = 1 #just playing with astroquery query_region\n",
    "#do a query on position\n",
    "mission = 'fermi3fgl'\n",
    "radius = 0.1*u.degree\n",
    "results = heasarc.query_region(coords(c), mission = mission, radius = radius, sortvar = 'SEARCH_OFFSET_')\n",
    "#if there is a good match where good = ??\n",
    "#save the found photometry in the chosen data structure\n",
    "        "
   ]
  },
  {
   "cell_type": "markdown",
   "metadata": {},
   "source": [
    "### IRSA"
   ]
  },
  {
   "cell_type": "markdown",
   "metadata": {},
   "source": [
    "astroquery.ipac.irsa \n",
    "\n",
    " - need to make a curated list of catalogs here\n",
    "     - ZTF (Faisst)\n",
    " \n",
    "     - WISE (Krick)\n",
    "         - use Dave Shupe's light curve catalog parquet file /irsa-data-download10/parquet-work/NEOWISE-R/neowise_lc_half.parquet\n",
    "         - can use existing code in https://github.com/IPAC-SW/ipac-sp-notebooks/blob/main/catwise_variables/nhel_xgboost.ipynb to access and work with this catalog\n",
    "         - will need to work on how to efficiently search that catalog since it is too big to fit in memory\n",
    "             - re-do work on Vaex and Dask and Spark\n",
    "         - Do we need updates to this catalog from Dave?\n",
    "             - once concern is that it is only half sky, hopefully enough of our targets are in the catalog\n"
   ]
  },
  {
   "cell_type": "markdown",
   "metadata": {},
   "source": [
    "### MAST (Krick)"
   ]
  },
  {
   "cell_type": "markdown",
   "metadata": {},
   "source": [
    "- astroquery MAST doesn't require a catalog input but we might want it to narrow things down?\n",
    "    - which catalogs are interesting?\n",
    "        - Pan-STARRS\n",
    "        - need to ask someone at MAST for a curated list of catalogs to search\n",
    "        \n",
    "- MAST has copies of ATLAS all-sky stellar reference catalog- but not searchable\n",
    "     - might be available through astroquery.vizier\n",
    "    \n"
   ]
  },
  {
   "cell_type": "markdown",
   "metadata": {},
   "source": [
    "## 3. Find photometry for these targets in relevant, non-NASA catalogs\n"
   ]
  },
  {
   "cell_type": "markdown",
   "metadata": {},
   "source": [
    "### Gaia (Faisst)\n",
    "- astroquery.gaia will presumably work out of the box for this\n",
    "\n",
    "We first get the median photometry by matching to the Gaia catalog. After that, we can use\n",
    "the Gaia IDs to extract the light curves."
   ]
  },
  {
   "cell_type": "code",
   "execution_count": 6,
   "metadata": {},
   "outputs": [
    {
     "name": "stdout",
     "output_type": "stream",
     "text": [
      "31 30 29 28 27 26 25 24 23 22 21 20 19 18 17 16 15 14 13 12 11 10 9 8 7 6 5 4 3 2 1 \n",
      "Search completed in 76.60 seconds\n",
      "Number of objects mached: 28 out of 31.\n"
     ]
    }
   ],
   "source": [
    "############ EXTRACT GAIA DATA FOR OBJECTS ##########\n",
    "# First need to search the Gaia catalog and match to our objects.\n",
    "\n",
    "## Select Gaia table (DR3)\n",
    "Gaia.MAIN_GAIA_TABLE = \"gaiaedr3.gaia_source\"\n",
    "\n",
    "## Define search radius\n",
    "radius = u.Quantity(20, u.arcsec)\n",
    "\n",
    "## Search and Cross match.\n",
    "# This can be done in a smarter way by matching catalogs on the Gaia server, or grouping the\n",
    "# sources and search a larger area.\n",
    "\n",
    "# get catalog\n",
    "gaia_table = Table()\n",
    "t1 = time.time()\n",
    "for cc,coord in enumerate(coords_list):\n",
    "    print(len(coords_list)-cc , end=\" \")\n",
    "\n",
    "    gaia_search = Gaia.cone_search_async(coordinate=coord, radius=radius , background=True)\n",
    "    gaia_search.get_data()[\"dist\"].unit = \"deg\"\n",
    "    gaia_search.get_data()[\"dist\"] = gaia_search.get_data()[\"dist\"].to(u.arcsec) # Change distance unit from degrees to arcseconds\n",
    "    \n",
    "    \n",
    "    # match\n",
    "    if len(gaia_search.get_data()[\"dist\"]) > 0:\n",
    "        gaia_search.get_data()[\"input_object_name\"] = CLAGN[\"Object Name\"][cc] # add input object name to catalog\n",
    "        sel_min = np.where( (gaia_search.get_data()[\"dist\"] < 1*u.arcsec) & (gaia_search.get_data()[\"dist\"] == np.nanmin(gaia_search.get_data()[\"dist\"]) ) )[0]\n",
    "    else:\n",
    "        sel_min = []\n",
    "        \n",
    "    #print(\"Number of sources matched: {}\".format(len(sel_min)) )\n",
    "    \n",
    "    if len(sel_min) > 0:\n",
    "        gaia_table = vstack( [gaia_table , gaia_search.get_data()[sel_min]] )\n",
    "    else:\n",
    "        gaia_table = vstack( [gaia_table , gaia_search.get_data()[sel_min]] )\n",
    "\n",
    "print(\"\\nSearch completed in {:.2f} seconds\".format((time.time()-t1) ) )\n",
    "print(\"Number of objects mached: {} out of {}.\".format(len(gaia_table),len(CLAGN) ) )"
   ]
  },
  {
   "cell_type": "code",
   "execution_count": 109,
   "metadata": {},
   "outputs": [],
   "source": [
    "########## EXTRACT PHOTOMETRY #########\n",
    "# Once we matched the objects, we have to extract the photometry for them. Here we extract\n",
    "# the mean photometry (later we will do the time series).\n",
    "# Note that the fluxes are in e/s, not very useful. However, there are magnitudes (what unit??) but without errors.\n",
    "# We can get the errors from the flux errors?\n",
    "# Also note that we should include the source_id in order to search for epoch photometry\n",
    "\n",
    "## Define keys (columns) that will be used later. Also add wavelength in angstroms for each filter\n",
    "other_keys = [\"source_id\",\"phot_g_n_obs\",\"phot_rp_n_obs\",\"phot_bp_n_obs\"] # some other useful info\n",
    "mag_keys = [\"phot_bp_mean_mag\" , \"phot_g_mean_mag\" , \"phot_rp_mean_mag\"]\n",
    "magerr_keys = [\"phot_bp_mean_mag_error\" , \"phot_g_mean_mag_error\" , \"phot_rp_mean_mag_error\"]\n",
    "flux_keys = [\"phot_bp_mean_flux\" , \"phot_g_mean_flux\" , \"phot_rp_mean_flux\"]\n",
    "fluxerr_keys = [\"phot_bp_mean_flux_error\" , \"phot_g_mean_flux_error\" , \"phot_rp_mean_flux_error\"]\n",
    "mag_lambda = [\"5319.90\" , \"6735.42\" , \"7992.90\"]\n",
    "\n",
    "## Get photometry. Note that this includes only objects that are \n",
    "# matched to the catalog. We have to add the missing ones later.\n",
    "_phot = gaia_table[mag_keys]\n",
    "_err = hstack( [ 2.5/np.log(10) * gaia_table[e]/gaia_table[f] for e,f in zip(fluxerr_keys,flux_keys) ] )\n",
    "gaia_phot2 = hstack( [_phot , _err] )\n",
    "\n",
    "## Clean up (change units and column names)\n",
    "_ = [gaia_phot2.rename_column(f,m) for m,f in zip(magerr_keys,fluxerr_keys)]\n",
    "for key in magerr_keys:\n",
    "    gaia_phot2[key].unit = \"mag\"\n",
    "gaia_phot2[\"input_object_name\"] = gaia_table[\"input_object_name\"].copy()\n",
    "\n",
    "## Add Some other useful information\n",
    "for key in other_keys:\n",
    "    gaia_phot2[key] = gaia_table[key]\n",
    "\n",
    "\n",
    "## Also add object for which we don't have photometry.\n",
    "# Add Nan for now, need to think about proper format. Also, there are probably smarter ways to do this.\n",
    "# We do this by matching the object names from the original catalog to the photometry catalog. Then add\n",
    "# an entry [np.nan, ...] if it does not exist. To make life easier, we add a dummy entry as the first\n",
    "# row so we can compy all the \n",
    "gaia_phot = Table( names=gaia_phot2.keys() , dtype=gaia_phot2.dtype )\n",
    "for ii in range(len(CLAGN)):\n",
    "    sel = np.where( CLAGN[\"Object Name\"][ii] == gaia_phot2[\"input_object_name\"] )[0]\n",
    "    if len(sel) > 0:\n",
    "        gaia_phot = vstack([gaia_phot , gaia_phot2[sel] ])\n",
    "    else:\n",
    "        tmp = Table( np.repeat(np.NaN , len(gaia_phot2.keys())) , names=gaia_phot2.keys() , dtype=gaia_phot2.dtype )\n",
    "        gaia_phot = vstack([gaia_phot , tmp ])\n",
    "        \n",
    "## Some cleanup:\n",
    "gaia_phot[\"source_id\"][gaia_phot[\"source_id\"] < 0] = 0"
   ]
  },
  {
   "cell_type": "code",
   "execution_count": 330,
   "metadata": {},
   "outputs": [
    {
     "name": "stdout",
     "output_type": "stream",
     "text": [
      "904082683004665984\n",
      "Number of entries for band G: 27\n",
      "Number of entries for band BP: 26\n",
      "Number of entries for band RP: 26\n",
      "795660322425388672\n",
      "Number of entries for band G: 49\n",
      "Number of entries for band BP: 40\n",
      "Number of entries for band RP: 41\n",
      "3804083732709918336\n",
      "Number of entries for band G: 26\n",
      "Number of entries for band BP: 25\n",
      "Number of entries for band RP: 25\n",
      "4027439177611191424\n",
      "Number of entries for band G: 49\n",
      "Number of entries for band BP: 34\n",
      "Number of entries for band RP: 35\n",
      "1576323954788254336\n",
      "Number of entries for band G: 56\n",
      "Number of entries for band BP: 48\n",
      "Number of entries for band RP: 46\n",
      "1684682543691923840\n",
      "Number of entries for band G: 45\n",
      "Number of entries for band BP: 41\n",
      "Number of entries for band RP: 42\n",
      "3658807529075031552\n",
      "Number of entries for band G: 30\n",
      "Number of entries for band BP: 29\n",
      "Number of entries for band RP: 26\n",
      "1281601065553105408\n",
      "Number of entries for band G: 46\n",
      "Number of entries for band BP: 42\n",
      "Number of entries for band RP: 43\n",
      "1373132896008893184\n",
      "Number of entries for band G: 56\n",
      "Number of entries for band BP: 54\n",
      "Number of entries for band RP: 54\n"
     ]
    }
   ],
   "source": [
    "######## EXTRACT LIGHT CURVES ##########\n",
    "# Now since we have matched the objects to the Gaia catalog, we can also extract the full light curves using\n",
    "# the Gaia IDs.\n",
    "\n",
    "## Log in (apparently not necessary for small queries) =========\n",
    "#Gaia.login(user=None , password=None)\n",
    "\n",
    "\n",
    "## For each of the objects, request the EPOCH_PHOTOMETRY from the Gaia DataLink Service =======\n",
    "# First we define two function, one to retrieve the photometry and one to make a nice light\n",
    "# curve dictionary. We define another function to transform the epoch photometry tables into\n",
    "# a MultiBandTimeSeries object.\n",
    "\n",
    "\n",
    "\n",
    "## Define function to retrieve epoch photometry\n",
    "def Gaia_retrieve_EPOCH_PHOTOMETRY(ids, verbose):\n",
    "    '''\n",
    "    Function to retrieve EPOCH_PHOTOMETRY (or actually any) catalog product for Gaia\n",
    "    entries using the DataLink. Note that the IDs need to be DR3 source_id and needs to be a list.\n",
    "    \n",
    "    Code fragments taken from: https://www.cosmos.esa.int/web/gaia-users/archive/datalink-products\n",
    "    \n",
    "    INPUT:\n",
    "        - ids: List of Gaia DR3 source IDs (source_id). \n",
    "    \n",
    "    OUTPUT:\n",
    "        - Dictionary (key = source_id) with a table of photometry as a function of time\n",
    "        \n",
    "    '''\n",
    "    \n",
    "    ## Some Definitions\n",
    "    retrieval_type = 'EPOCH_PHOTOMETRY'# Options are: 'EPOCH_PHOTOMETRY', 'MCMC_GSPPHOT', 'MCMC_MSC', 'XP_SAMPLED', 'XP_CONTINUOUS', 'RVS', 'ALL'\n",
    "    data_structure = 'INDIVIDUAL'   # Options are: 'INDIVIDUAL', 'COMBINED', 'RAW'\n",
    "    data_release   = 'Gaia DR3'     # Options are: 'Gaia DR3' (default), 'Gaia DR2'\n",
    "\n",
    "    ## Get the files\n",
    "    datalink = Gaia.load_data(ids=ids,\n",
    "                              data_release = data_release,\n",
    "                              retrieval_type=retrieval_type,\n",
    "                              data_structure = data_structure, verbose = False, output_file = None , overwrite_output_file=True)\n",
    "    dl_keys  = list(datalink.keys())\n",
    "    \n",
    "    if verbose:\n",
    "        print(f'The following Datalink products have been downloaded:')\n",
    "        for dl_key in dl_keys:\n",
    "            print(f' * {dl_key}')\n",
    "    \n",
    "    ## Extract the info\n",
    "    prod_tab = dict() # Dictionary to save the light curves. The key is the source_id\n",
    "    for dd in ids:\n",
    "        if verbose: print(\"{}: \".format(dd) , end=\" \")\n",
    "        this_dl_key = 'EPOCH_PHOTOMETRY-Gaia DR3 {}.xml'.format(dd)\n",
    "        if this_dl_key in datalink.keys():\n",
    "            prod_tab[str(dd)] = datalink[this_dl_key][0].to_table()\n",
    "            if verbose: print(\"found\")\n",
    "        else:\n",
    "            pass\n",
    "            if verbose: print(\"not found\")\n",
    "    \n",
    "    return(prod_tab)\n",
    "\n",
    "## Define function to extract nice light curve from product table.\n",
    "def Gaia_mk_lightcurves(prod_tab):\n",
    "    '''\n",
    "    This function creates light curves from the table downloaded with DataLink from the Gaia server.\n",
    "    \n",
    "    INPUT:\n",
    "        - prod_tab: product table downloaded via datalink, produced by `Gaia_retrieve_EPOCH_PHOTOMETRY()`.\n",
    "        \n",
    "    OUTPUT:\n",
    "        - A dictionary (key = source_id) including a dictionary of light curves for bands \"G\", \"BP\", \"RP\". Each\n",
    "        of them includes a time stamp (`time_jd` and `time_isot`) a magnitude (`mag`) and magnitude error (`magerr`).\n",
    "    '''\n",
    "    \n",
    "    bands = [\"G\",\"BP\",\"RP\"]\n",
    "    output = dict()\n",
    "    for ii,key in enumerate(list(prod_tab.keys()) ):\n",
    "        print(key)\n",
    "    \n",
    "        output[str(key)] = dict()\n",
    "        for band in bands:\n",
    "            sel_band = np.where( (prod_tab[key][\"band\"] == band) & (prod_tab[key][\"rejected_by_photometry\"] == False) )[0]\n",
    "            print(\"Number of entries for band {}: {}\".format(band , len(sel_band)))\n",
    "            \n",
    "            time_jd = prod_tab[key][sel_band][\"time\"] + 2455197.5 # What unit???\n",
    "            time_isot = Time(time_jd , format=\"jd\").isot\n",
    "            mag = prod_tab[key][sel_band][\"mag\"]\n",
    "            magerr = 2.5/np.log(10) * prod_tab[key][sel_band][\"flux_error\"]/prod_tab[key][sel_band][\"flux\"]\n",
    "            \n",
    "            output[str(key)][band] = Table([time_jd , time_isot , mag , magerr] , names=[\"time_jd\",\"time_isot\",\"mag\",\"magerr\"] ,\n",
    "                                           dtype = [float , str , float , float], units=[u.d , \"\"  , u.mag , u.mag])\n",
    "            \n",
    "    return(output)\n",
    "\n",
    "## Function to add light curves into Multi-Band Time Series object\n",
    "def Gaia_mk_MultibandTimeSeries(epoch_phot):\n",
    "    '''\n",
    "    Creates MultibandTimeSeries object from epoch photometry lightcurves\n",
    "    \n",
    "    INPUT\n",
    "        - epoch_phot: Epoch photometry light curve (see `Gaia_mk_lightcurves`)\n",
    "        \n",
    "    OUTPUT\n",
    "        - Dictionary of MultibandTimeSeries light curves (for each source_id)\n",
    "    '''\n",
    "    \n",
    "    \n",
    "    \n",
    "    ## For each source, create a MultibandTimeSeries object and add the bands.\n",
    "    bands = [\"G\",\"BP\",\"RP\"]\n",
    "    out = dict()\n",
    "    for key in epoch_phot.keys():\n",
    "        \n",
    "        # Initialize\n",
    "        ts = MultibandTimeSeries()\n",
    "        \n",
    "        # Add bands\n",
    "        for band in bands:\n",
    "            ts.add_band(time = Time(epoch_phot[str(source_id)][band][\"time_jd\"] , format=\"jd\") ,\n",
    "                 data = epoch_phot[str(source_id)][band][\"mag\"],\n",
    "                 band_name=band\n",
    "                )\n",
    "        out[key] = ts\n",
    "        \n",
    "    return(out)\n",
    "\n",
    "## Run search\n",
    "ids = list(gaia_phot[\"source_id\"])\n",
    "prod_tab = Gaia_retrieve_EPOCH_PHOTOMETRY(ids=ids , verbose=False)\n",
    "\n",
    "## Create light curves\n",
    "gaia_epoch_phot = Gaia_mk_lightcurves(prod_tab)\n",
    "\n",
    "## Create MultiBandTimeSeries photometry object\n",
    "gaia_multibandTS_phot = Gaia_mk_MultibandTimeSeries(epoch_phot = gaia_epoch_phot)\n"
   ]
  },
  {
   "cell_type": "code",
   "execution_count": 298,
   "metadata": {},
   "outputs": [
    {
     "data": {
      "image/png": "[encoded data removed]",
      "text/plain": [
       "<Figure size 600x600 with 1 Axes>"
      ]
     },
     "metadata": {},
     "output_type": "display_data"
    }
   ],
   "source": [
    "## MAKE A FIGURE OF ONE LIGHT CURVE ###\n",
    "# Make a figure of one of the light curves in all the bands.\n",
    "source_id = 904082683004665984\n",
    "\n",
    "fig = plt.figure(figsize=(6,6))\n",
    "ax1 = fig.add_subplot(1,1,1)\n",
    "\n",
    "for band in [\"G\",\"BP\",\"RP\"]:\n",
    "    d = gaia_epoch_phot[str(source_id)][band][\"time_isot\"]\n",
    "    t = Time(d , format=\"isot\") # convert to time object\n",
    "    ax1.errorbar(t.mjd , gaia_epoch_phot[str(source_id)][band][\"mag\"] , yerr=gaia_epoch_phot[str(source_id)][band][\"magerr\"] , fmt=\"o\" , label=band)\n",
    "\n",
    "ax1.legend()\n",
    "ax1.set_xlabel(\"MJD (Days)\")\n",
    "ax1.set_ylabel(\"Magnitude\")\n",
    "plt.show()\n"
   ]
  },
  {
   "cell_type": "code",
   "execution_count": null,
   "metadata": {},
   "outputs": [],
   "source": []
  },
  {
   "cell_type": "markdown",
   "metadata": {},
   "source": [
    "### ASAS-SN (all sky automated survey for supernovae) has a website that can be manually searched (Faisst)\n",
    "- see if astroquery.vizier can find it\n",
    "\n"
   ]
  },
  {
   "cell_type": "code",
   "execution_count": 9,
   "metadata": {},
   "outputs": [],
   "source": [
    "#### GET CATALOG #####\n",
    "from astroquery.vizier import Vizier\n"
   ]
  },
  {
   "cell_type": "code",
   "execution_count": 17,
   "metadata": {},
   "outputs": [
    {
     "data": {
      "text/plain": [
       "<SkyCoord (ICRS): (ra, dec) in deg\n",
       "    (21.70037, -8.66335)>"
      ]
     },
     "execution_count": 17,
     "metadata": {},
     "output_type": "execute_result"
    }
   ],
   "source": [
    "coords_list[1]"
   ]
  },
  {
   "cell_type": "code",
   "execution_count": 18,
   "metadata": {},
   "outputs": [],
   "source": [
    "#catalog_list = Vizier.find_catalogs('ASAS-SN')\n",
    "#catalogs = Vizier.get_catalogs(catalog_list.keys())\n",
    "#catalogs"
   ]
  },
  {
   "cell_type": "markdown",
   "metadata": {},
   "source": [
    "### icecube has a 2008 - 2018 catalog which we can download and is small (Faisst)\n",
    "- https://icecube.wisc.edu/data-releases/2021/01/all-sky-point-source-icecube-data-years-2008-2018/\n",
    "\n",
    "There are several catalogs (basically one for each year of IceCube data). The following code creates a large catalog by combining\n",
    "all the yearly catalogs.\n",
    "The IceCube catalog contains Neutrino detections with associated energy and time and approximate direction (which is uncertain by half-degree scales....). Usually, for active events only one or two Neutrinos are detected, which makes matching quite different compared to \"photons\". For our purpose, I suggest that we just list the top 5 events in energy that are within a given distance to the target.\n",
    "\n",
    "The final __question__ is how we store this information. It is basically a time series (time vs. neutrino energy) for each source in the catalog."
   ]
  },
  {
   "cell_type": "code",
   "execution_count": 42,
   "metadata": {},
   "outputs": [],
   "source": [
    "def get_icecube_catalog(path):\n",
    "    '''\n",
    "    Creates the combined IceCube catalog based on the yearly catalog\n",
    "    \n",
    "    INPUT:\n",
    "        - path: path to the directory where the cataogs are saved. Must be the main directory,\n",
    "                such as /my/path/icecube_10year_ps/ which includes the \"events\" directory.\n",
    "    \n",
    "    OUTPUT:\n",
    "        - returns combined catalog with columns [\"mjd\",\"energy_logGeV\",\"AngErr\",\"ra\",\"dec\",\"az\",\"zen\"]\n",
    "        - returns event file names (for convenience)\n",
    "    '''\n",
    "    \n",
    "    event_names = [\"IC40_exp.csv\",\n",
    "                    \"IC59_exp.csv\",\n",
    "                    \"IC79_exp.csv\",\n",
    "                    \"IC86_III_exp.csv\",\n",
    "                    \"IC86_II_exp.csv\",\n",
    "                    \"IC86_IV_exp.csv\",\n",
    "                    \"IC86_I_exp.csv\",\n",
    "                    \"IC86_VII_exp.csv\",\n",
    "                    \"IC86_VI_exp.csv\",\n",
    "                    \"IC86_V_exp.csv\"\n",
    "                  ]\n",
    "    \n",
    "    EVENTS = Table(names=[\"mjd\",\"energy_logGeV\",\"AngErr\",\"ra\",\"dec\",\"az\",\"zen\"] ,\n",
    "                   units=[u.d , u.electronvolt*1e9 , u.degree , u.degree , u.degree , u.degree , u.degree ])\n",
    "    for event_name in event_names:\n",
    "        print(\"Loading: \", event_name)\n",
    "        tmp = ascii.read(os.path.join(path , \"events\" , event_name))\n",
    "        tmp.rename_columns(names=tmp.keys() , new_names=EVENTS.keys() )\n",
    "\n",
    "        EVENTS = vstack([EVENTS , tmp])\n",
    "    print(\"done\")\n",
    "    return(EVENTS , event_names)"
   ]
  },
  {
   "cell_type": "code",
   "execution_count": 72,
   "metadata": {},
   "outputs": [
    {
     "name": "stdout",
     "output_type": "stream",
     "text": [
      "Loading:  IC40_exp.csv\n",
      "Loading:  IC59_exp.csv\n",
      "Loading:  IC79_exp.csv\n",
      "Loading:  IC86_III_exp.csv\n",
      "Loading:  IC86_II_exp.csv\n",
      "Loading:  IC86_IV_exp.csv\n",
      "Loading:  IC86_I_exp.csv\n",
      "Loading:  IC86_VII_exp.csv\n",
      "Loading:  IC86_VI_exp.csv\n",
      "Loading:  IC86_V_exp.csv\n",
      "done\n"
     ]
    }
   ],
   "source": [
    "#### LOAD EVENTS ####\n",
    "# This loads the IceCube catalog\n",
    "icecube_events , _ = get_icecube_catalog(path=\"./data/icecube/icecube_10year_ps/\")\n",
    "\n",
    "# sort by Neutrino energy\n",
    "icecube_events.sort(keys=\"energy_logGeV\" , reverse=True)"
   ]
  },
  {
   "cell_type": "code",
   "execution_count": 90,
   "metadata": {},
   "outputs": [],
   "source": [
    "### MATCH OBJECTS ###\n",
    "# Here we match the objects to the IceCube catalog to extract the N highest energy events close\n",
    "# to the objects' coordinates. We also want to include the errors in position of the IceCube\n",
    "# events.\n",
    "\n",
    "## Top N (in energy) events to selected\n",
    "icecube_select_topN = 3\n",
    "\n",
    "## create SkyCoord objects from event coordinates\n",
    "c2 = SkyCoord(icecube_events[\"ra\"], icecube_events[\"dec\"], unit=\"deg\", frame='icrs')\n",
    "\n",
    "## Match\n",
    "icecube_matches = []\n",
    "for cc,coord in enumerate(coords_list):\n",
    "\n",
    "    # get all distances\n",
    "    dist_angle =  coord.separation(c2)\n",
    "    \n",
    "    # make selection: here we have to also include errors on the\n",
    "    # angles somehow.\n",
    "    sel = np.where( (dist_angle.to(u.degree).value - icecube_events[\"AngErr\"]) <= 0.0)[0]\n",
    "    #print(len(sel))\n",
    "\n",
    "    # select the top N events in energy. Note that we already sorted the table\n",
    "    # by energy_logGeV. Hence we only have to pick the top N here.\n",
    "    if len(sel) < icecube_select_topN:\n",
    "        this_topN = len(sel)\n",
    "    else:\n",
    "        this_topN = icecube_select_topN * 1\n",
    "    \n",
    "    if len(sel) > 0:\n",
    "        icecube_matches.append(icecube_events[sel[0:this_topN]])\n",
    "        icecube_matches[cc][\"Ang_match\"] = dist_angle.to(u.degree).value[sel[0:this_topN]]\n",
    "        icecube_matches[cc][\"Ang_match\"].unit = u.degree\n",
    "    else:\n",
    "        pass # no match found\n",
    "        print(\"No match found.\")\n"
   ]
  },
  {
   "cell_type": "markdown",
   "metadata": {},
   "source": [
    "## 4. Make plots of luminosity as a function of time\n",
    "- time could be days since peak, or days since first observation, or??"
   ]
  },
  {
   "cell_type": "markdown",
   "metadata": {},
   "source": [
    "## Image extension: look for archival images of these targets\n",
    "- NASA NAVO use cases should help us to learn how to do this\n",
    "- can use the cutout service now in astropy from the first fornax use case"
   ]
  },
  {
   "cell_type": "markdown",
   "metadata": {},
   "source": [
    "## ML Extension \n",
    "Consider training a ML model to do light curve classification based on this sample of CLAGN\n",
    " - once we figure out which bands these are likely to be observed in, could then have a optical + IR light curve classifier\n",
    " - what would the features of the light curve be?\n",
    " - what models are reasonable to test as light curve classifiers?\n",
    " - could we make also a sample of TDEs, SNe, flaring AGN? - then train the model to distinguish between these things?\n",
    " - need a sample of non-flaring light curves\n",
    " \n",
    "After training the model:\n",
    " - would then need a sample of optical + IR light curves for \"all\" galaxies = big data to run the model on.\n",
    "\n",
    "Some resources to consider:\n",
    "- https://github.com/dirac-institute/ZTF_Boyajian\n",
    "- https://ui.adsabs.harvard.edu/abs/2022AJ....164...68S/abstract\n",
    "- https://ui.adsabs.harvard.edu/abs/2019ApJ...881L...9F/abstract\n",
    "\n"
   ]
  },
  {
   "cell_type": "code",
   "execution_count": null,
   "metadata": {},
   "outputs": [],
   "source": []
  }
 ],
 "metadata": {
  "kernelspec": {
   "display_name": "Python 3 (ipykernel)",
   "language": "python",
   "name": "python3"
  },
  "language_info": {
   "codemirror_mode": {
    "name": "ipython",
    "version": 3
   },
   "file_extension": ".py",
   "mimetype": "text/x-python",
   "name": "python",
   "nbconvert_exporter": "python",
   "pygments_lexer": "ipython3",
   "version": "3.9.13"
  }
 },
 "nbformat": 4,
 "nbformat_minor": 4
}
