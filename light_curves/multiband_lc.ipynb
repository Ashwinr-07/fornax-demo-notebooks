{
 "cells": [
  {
   "cell_type": "markdown",
   "metadata": {},
   "source": [
    "# Make multiwavelength light curves using archival data\n",
    "***\n",
    "\n",
    "## Learning Goals    \n",
    "By the end of this tutorial, you will be able to:\n",
    " - automatically load a catalog of sources\n",
    " - automatically search NASA and non-NASA resources for light curves\n",
    " - store light curves in a Pandas multiindex dataframe\n",
    " - plot all light curves on the same plot\n",
    " \n",
    " \n",
    "## Introduction:\n",
    " - A user has a sample of interesting targets for which they would like to see a plot of available archival light curves.  We start with a small set of changing look AGN from Yang et al., 2018, which are automatically downloaded. Changing look AGN are cases where the broad emission lines appear or disappear (and not just that the flux is variable). \n",
    " - We model light curve plots after van Velzen et al. 2021.  We search through a curated list of time-domain NASA holdings as well as non-NASA sources.  HEASARC catalogs used are Fermi and Beppo-Sax, IRSA catalogs used are ZTF and WISE, and MAST catalogs used are Pan-Starrs, TESS, Kepler, and K2.  Non-NASA sources are Gaia and IceCube. This list is generalized enough to include many types of targets to make this notebook interesting for many types of science.  All of these time-domain archives are searched in an automated fashion using astroquery or APIs.\n",
    " - Light curve data storage is a tricky problem.  Currently we are using a multi-index Pandas dataframe, as the best existing choice for right now.  One downside is that we need to manually track the units of flux and time instead of relying on an astropy storage scheme which would be able to do some of the units worrying for us (even astropy can't do all magnitude to flux conversions).  Astropy does not currently have a good option for multi-band light curve storage.\n",
    " - We intend to explore a ML classifier for these changing look AGN light curves.\n",
    " \n",
    "## Input:\n",
    " - choose from a list of known changing look AGN from the literature\n",
    " \n",
    "  OR - \n",
    " - input your own sample\n",
    "\n",
    "## Output:\n",
    " - an archival optical + IR + neutrino light curve\n",
    " \n",
    "## Technical Goals:\n",
    " - should be able to run from a clean checkout from github\n",
    " - should be able to automatically download all catalogs & images used\n",
    " - need to have all photometry in the same physical unit\n",
    " - need to have a data structure that is easy to use but holds light curve information (time and units) and is extendable to ML applications\n",
    " - need to have a curated list of catalogs to search for photometry that is generalizeable to other input catalogs\n",
    " \n",
    "## Non-standard Imports:\n",
    "- `astroquery` to interface with archives APIs\n",
    "- `astropy` to work with coordinates/units and data structures\n",
    "- `lightkurve` to search TESSS, Kepler, and K2 archives\n",
    "- `urllib` to handle archive searches with website interface\n",
    "- `acstools` to work with HST magnitude to flux conversion\n",
    "- `unTimely` to retrieve WISE light curves\n",
    "- `alerce` to convert ZTF object names into coordinates\n",
    "\n",
    "## Authors:\n",
    "IPAC SP team\n",
    "\n",
    "## Acknowledgements:\n",
    "Suvi Gezari, Antara Basu-zych,Stephanie LaMassa\\\n",
    "MAST, HEASARC, & IRSA Fornax teams\n",
    "\n"
   ]
  },
  {
   "cell_type": "code",
   "execution_count": null,
   "metadata": {
    "scrolled": true,
    "tags": []
   },
   "outputs": [],
   "source": [
    "import numpy as np\n",
    "import time\n",
    "import pandas as pd\n",
    "import os\n",
    "import sys\n",
    "import re\n",
    "import matplotlib.pyplot as plt\n",
    "import matplotlib as mpl\n",
    "import json\n",
    "import requests\n",
    "import pickle\n",
    "\n",
    "from scipy import stats\n",
    "\n",
    "from astroquery.ipac.ned import Ned\n",
    "from astroquery.heasarc import Heasarc\n",
    "from astroquery.gaia import Gaia\n",
    "\n",
    "from astropy.coordinates import SkyCoord, name_resolve\n",
    "import astropy.units as u\n",
    "from astropy.table import Table, vstack, hstack, unique\n",
    "from astropy.io import fits,ascii\n",
    "from astropy.time import Time\n",
    "from astropy.timeseries import TimeSeries\n",
    "\n",
    "try:\n",
    "    from tqdm import tqdm\n",
    "except ImportError:\n",
    "    !pip install tqdm\n",
    "    from tqdm import tqdm\n",
    "\n",
    "try: # Python 3.x\n",
    "    from urllib.parse import quote as urlencode\n",
    "    from urllib.request import urlretrieve\n",
    "except ImportError:  # Python 2.x\n",
    "    from urllib import pathname2url as urlencode\n",
    "    from urllib import urlretrieve\n",
    "\n",
    "try:\n",
    "    import lightkurve as lk\n",
    "except ImportError:\n",
    "    !pip install lightkurve --upgrade\n",
    "    import lightkurve as lk\n",
    "        \n",
    "try:\n",
    "    from acstools import acszpt\n",
    "except ImportError:\n",
    "    !pip install acstools\n",
    "    from acstools import acszpt\n",
    "\n",
    "import warnings\n",
    "warnings.filterwarnings('ignore')\n",
    "\n",
    "try:\n",
    "    from unTimely_Catalog_tools import unTimelyCatalogExplorer\n",
    "except ImportError:\n",
    "    if not os.path.exists('./unTimely_Catalog_explorer'):\n",
    "        !git clone https://github.com/fkiwy/unTimely_Catalog_explorer.git\n",
    "    sys.path.append('./unTimely_Catalog_explorer')\n",
    "    from unTimely_Catalog_tools import unTimelyCatalogExplorer\n",
    "    \n",
    "\n",
    "!pip install alerce\n",
    "\n",
    "\n",
    "import tempfile\n",
    "\n",
    "# Local code imports\n",
    "sys.path.append('code/')\n",
    "from fluxconversions import convert_WISEtoJanskies, convertACSmagtoflux\n",
    "from panstarrs import panstarrs_get_lightcurves, ps1cone, ps1search, checklegal, ps1metadata, addfilter, improve_filter_format, search_lightcurve\n",
    "from clean_filternames import clean_filternames\n",
    "from gaia_functions import Gaia_get_lightcurve, Gaia_extract_median_photometry, Gaia_retrieve_median_photometry, Gaia_retrieve_EPOCH_PHOTOMETRY, Gaia_mk_lightcurves, Gaia_mk_MultiIndex, Gaia_plot_lightcurves\n",
    "from HCV_functions import get_hscapiurl, hcvcone, hcvsearch, hcvmetadata, cat2url, checklegal_hcv, HCV_get_lightcurves\n",
    "from mast_functions import resolve, mastQuery\n",
    "from icecube_functions import icecube_get_lightcurve, icecube_get_catalog, icecube_download_data\n",
    "from sample_selection import get_lamassa_sample, get_macleod16_sample, get_ruan_sample, get_macleod19_sample, get_sheng_sample, \\\n",
    "    get_green_sample, get_lyu_sample, get_lopeznavas_sample, get_hon_sample, get_yang_sample,  get_SDSS_sample, remove_duplicate_coords\n",
    "from ztf_functions import ZTF_id2coord,ZTF_get_lightcurve\n",
    "from data_structures import MultiIndexDFObject\n",
    "from heasarc_functions import HEASARC_get_lightcurves\n",
    "from TESS_Kepler_functions import TESS_Kepler_get_lightcurves\n",
    "from WISE_functions import WISE_get_lightcurves\n",
    "\n",
    "## Plotting stuff\n",
    "mpl.rcParams['font.size'] = 14\n",
    "mpl.rcParams['axes.labelpad'] = 7\n",
    "mpl.rcParams['xtick.major.pad'] = 7\n",
    "mpl.rcParams['ytick.major.pad'] = 7\n",
    "mpl.rcParams['xtick.minor.visible'] = True\n",
    "mpl.rcParams['ytick.minor.visible'] = True\n",
    "mpl.rcParams['xtick.minor.top'] = True\n",
    "mpl.rcParams['xtick.minor.bottom'] = True\n",
    "mpl.rcParams['ytick.minor.left'] = True\n",
    "mpl.rcParams['ytick.minor.right'] = True\n",
    "mpl.rcParams['xtick.major.size'] = 5\n",
    "mpl.rcParams['ytick.major.size'] = 5\n",
    "mpl.rcParams['xtick.minor.size'] = 3\n",
    "mpl.rcParams['ytick.minor.size'] = 3\n",
    "mpl.rcParams['xtick.direction'] = 'in'\n",
    "mpl.rcParams['ytick.direction'] = 'in'\n",
    "#mpl.rc('text', usetex=True)\n",
    "mpl.rc('font', family='serif')\n",
    "mpl.rcParams['xtick.top'] = True\n",
    "mpl.rcParams['ytick.right'] = True\n",
    "mpl.rcParams['hatch.linewidth'] = 1\n",
    "\n",
    "\n",
    "\n",
    "## NEW! LOAD/SAVE PICKLE FILE! ##\n",
    "SAVEDF = False # if set to True, pickle file will be saved. If False, pickle file will be loaded.\n",
    "pickle_file_name = \"data/dflc_Shooby_March102023.pkl\" # name of pickle file (to be loaded or saved)\n",
    "#pickle_file_name = \"data/dflc_Krick_Feb232023.pkl\" # name of pickle file (to be loaded or saved)\n",
    "###\n",
    "\n"
   ]
  },
  {
   "cell_type": "code",
   "execution_count": null,
   "metadata": {},
   "outputs": [],
   "source": [
    "### Initialize Pandas MultiIndex data frame for storing the light curve\n",
    "df_lc = MultiIndexDFObject()"
   ]
  },
  {
   "cell_type": "markdown",
   "metadata": {},
   "source": [
    "## 1. Define the Sample\n",
    " We define here a \"gold\" sample of spectroscopically confirmed changing look AGN and quasars. This sample includes both objects which change from type 1 to type 2 and also the opposite.  Future studies may want to treat these as seperate objects or seperate QSOs from AGN.\n",
    " \n",
    " Bibcodes for the samples used are listed next to their functions for reference.  \n",
    " \n",
    " Functions used to grab the samples from the papers use Astroquery, NED, SIMBAD, Vizier, and in a few cases grab the tables from the html versions of the paper."
   ]
  },
  {
   "cell_type": "code",
   "execution_count": null,
   "metadata": {},
   "outputs": [],
   "source": [
    "#build up the sample\n",
    "coords =[]\n",
    "labels = []\n",
    "\n",
    "#choose your own adventure:\n",
    "\n",
    "#get_lamassa_sample(coords, labels)  #2015ApJ...800..144L\n",
    "#get_macleod16_sample(coords, labels) #2016MNRAS.457..389M\n",
    "#get_ruan_sample(coords, labels) #2016ApJ...826..188R\n",
    "#get_macleod19_sample(coords, labels)  #2019ApJ...874....8M\n",
    "#get_sheng_sample(coords, labels)  #2020ApJ...889...46S\n",
    "#get_green_sample(coords, labels)  #2022ApJ...933..180G\n",
    "#get_lyu_sample(coords, labels)  #z32022ApJ...927..227L\n",
    "#get_lopeznavas_sample(coords, labels)  #2022MNRAS.513L..57L\n",
    "#get_hon_sample(coords, labels)  #2022MNRAS.511...54H\n",
    "get_yang_sample(coords, labels)   #2018ApJ...862..109Y\n",
    "\n",
    "#now get some \"normal\" QSOs for use in the classifier\n",
    "#there are ~500K of these, so choose the number based on\n",
    "#a balance between speed of running the light curves and whatever \n",
    "#the ML algorithms would like to have\n",
    "\n",
    "num_normal_QSO = 100 \n",
    "#get_SDSS_sample(coords, labels, num_normal_QSO)\n",
    "\n",
    "#remove duplicates from the list if combining multiple references\n",
    "coords_list, labels_list = remove_duplicate_coords(coords, labels)\n",
    "\n",
    "#add an index-like list with our own object name\n",
    "object_names = [['CLAGN' + str(i)] for i in range(len(coords_list))]\n",
    "print('sample size: '+str(len(coords_list)))\n",
    "\n",
    "## For testing\n",
    "#coords_list = coords_list[0:4]\n",
    "#labels_list = labels_list[0:4]\n",
    "#object_names = object_names[0:4]"
   ]
  },
  {
   "cell_type": "markdown",
   "metadata": {},
   "source": [
    "### 1.1 Build your own Sample\n",
    "\n",
    "To build your own sample, you can follow the examples of functions above to grab coordinates from your favorite literature resource, \n",
    "\n",
    "or\n",
    "\n",
    "You can use [astropy's read](https://docs.astropy.org/en/stable/io/ascii/read.html) function to read in an input table\n",
    "and then convert that table into a list of [skycoords](https://docs.astropy.org/en/stable/api/astropy.coordinates.SkyCoord.html) "
   ]
  },
  {
   "cell_type": "markdown",
   "metadata": {},
   "source": [
    "## 2. Find light curves for these targets in NASA catalogs\n",
    "  - We search a curated list of time-domain catalogs from all NASA archives\n"
   ]
  },
  {
   "cell_type": "markdown",
   "metadata": {},
   "source": [
    "### 2.1 HEASARC: FERMI & Beppo SAX\n"
   ]
  },
  {
   "cell_type": "code",
   "execution_count": null,
   "metadata": {},
   "outputs": [],
   "source": [
    "mission_list = ['FERMIGTRIG', 'SAXGRBMGRB']\n",
    "radius = 0.1*u.degree\n",
    "\n",
    "#go out and find all light curves in the above curated list which match our target positions\n",
    "df_lc = HEASARC_get_lightcurves(df_lc, coords_list,radius, mission_list)"
   ]
  },
  {
   "cell_type": "markdown",
   "metadata": {},
   "source": [
    "### 2.2 IRSA: ZTF"
   ]
  },
  {
   "cell_type": "code",
   "execution_count": null,
   "metadata": {},
   "outputs": [],
   "source": [
    "df_lc = ZTF_get_lightcurve(df_lc,coords_list,labels_list,plotprint=1) ## number of plots to show to be set by plotprint"
   ]
  },
  {
   "cell_type": "markdown",
   "metadata": {},
   "source": [
    "### 2.3 IRSA:WISE\n",
    "\n",
    "- use the unTimely catalog which ties together all WISE & NEOWISE 2010 - 2020 epochs.  Specifically it combined all observations at a single epoch to achieve deeper mag limits than individual observations alone.\n",
    "- https://github.com/fkiwy/unTimely_Catalog_explorer\n",
    "- https://iopscience-iop-org.caltech.idm.oclc.org/article/10.3847/1538-3881/aca2ab"
   ]
  },
  {
   "cell_type": "code",
   "execution_count": null,
   "metadata": {
    "scrolled": true,
    "tags": []
   },
   "outputs": [],
   "source": [
    "bandlist = ['w1', 'w2']\n",
    "radius = 1.0\n",
    "\n",
    "df_lc = WISE_get_lightcurves(df_lc, coords_list, labels_list, radius, bandlist)"
   ]
  },
  {
   "cell_type": "markdown",
   "metadata": {},
   "source": [
    "### 2.4 MAST: Pan-STARRS\n",
    "Query the Pan-STARRS API; based on this [example](https://ps1images.stsci.edu/ps1_dr2_api.html)"
   ]
  },
  {
   "cell_type": "code",
   "execution_count": null,
   "metadata": {},
   "outputs": [],
   "source": [
    "#Do a panstarrs search\n",
    "radius = 1.0/3600.0    # search radius = 1 arcsec\n",
    "df_lc = panstarrs_get_lightcurves(df_lc, coords_list, labels_list, radius)"
   ]
  },
  {
   "cell_type": "markdown",
   "metadata": {},
   "source": [
    "### 2.5 MAST: Asteroid Terrestrial-impact Last Alert System (ATLAS)\n",
    " - All-sky stellar reference catalog \n",
    " -  MAST hosts this catalog but there are three barriers to using it\n",
    "     1. it is unclear if the MAST [holdings]( https://archive.stsci.edu/hlsp/atlas-refcat2#section-a737bc3e-2d56-4827-9ab4-838fbf8d67c1) include the individual epoch photometry and \n",
    "     2. it is only accessible with casjobs, not through python notebooks.  \n",
    "     3. magnitude range (g, r, i) < 19mag makes it not relevant for this use case\n",
    " \n",
    "One path forward if this catalog becomes scientifically interesting is to put in a MAST helpdesk ticket to see if 1) they do have the light curves, and 2) they could switch the catalog to a searchable with python version.  There are some ways of [accessing casjobs with python](<https://github.com/spacetelescope/notebooks/blob/master/notebooks/MAST/HSC/HCV_CASJOBS/HCV_casjobs_demo.ipynb), but not this particular catalog.  \n",
    " "
   ]
  },
  {
   "cell_type": "markdown",
   "metadata": {},
   "source": [
    "### 2.6 MAST: TESS, Kepler and K2\n",
    " - use [`lightKurve`](https://docs.lightkurve.org/index.html) to search all 3 missions and download light curves\n",
    " \n"
   ]
  },
  {
   "cell_type": "code",
   "execution_count": null,
   "metadata": {},
   "outputs": [],
   "source": [
    "#go get the lightcurves using lightkurve\n",
    "radius = 1.0  #arcseconds\n",
    "df_lc = TESS_Kepler_get_lightcurves(df_lc, coords_list, labels_list, radius)"
   ]
  },
  {
   "cell_type": "markdown",
   "metadata": {},
   "source": [
    "### 2.7 MAST: HCV\n",
    " - [hubble catalog of variables](https://archive.stsci.edu/hlsp/hcv) \n",
    " - using [this notebook](https://archive.stsci.edu/hst/hsc/help/HCV/HCV_API_demo.html) as a reference to search and download light curves via API"
   ]
  },
  {
   "cell_type": "code",
   "execution_count": null,
   "metadata": {},
   "outputs": [],
   "source": [
    "#Do an HCV search\n",
    "radius = 1.0/3600.0 # radius = 1 arcsec\n",
    "df_lc = HCV_get_lightcurves(df_lc, coords_list, labels_list, radius)"
   ]
  },
  {
   "cell_type": "markdown",
   "metadata": {},
   "source": [
    "## 3. Find light curves for these targets in relevant, non-NASA catalogs\n"
   ]
  },
  {
   "cell_type": "markdown",
   "metadata": {},
   "source": [
    "### 3.1 Gaia \n"
   ]
  },
  {
   "cell_type": "code",
   "execution_count": null,
   "metadata": {},
   "outputs": [],
   "source": [
    "%time\n",
    "## Note: This is very slow. Can probably make faster with direct SQL search?\n",
    "df_lc = Gaia_get_lightcurve(df_lc , coords_list,  labels_list , object_names , verbose = 1)\n",
    "\n",
    "## Make a plot for checking\n",
    "_ = Gaia_plot_lightcurves(df_lc , nbr_objects = 10)\n"
   ]
  },
  {
   "cell_type": "markdown",
   "metadata": {},
   "source": [
    "### 3.2 ASAS-SN (all sky automated survey for supernovae) \n",
    "- Has a [website](https://asas-sn.osu.edu/photometry) that can be manually searched; but no API which would allow automatic searches from within this notebook\n",
    "- Magnitude range of this survey is not consistent with the magnitude range of our CLAGN.  If this catalog becomes scientifically interesting, one path forward would be to ask ASAS-SN team about implementing an API\n",
    "\n"
   ]
  },
  {
   "cell_type": "markdown",
   "metadata": {},
   "source": [
    "### 3.3 Icecube Neutrinos\n",
    "\n",
    "There are several [catalogs](https://icecube.wisc.edu/data-releases/2021/01/all-sky-point-source-icecube-data-years-2008-2018) (basically one for each year of IceCube data from 2008 - 2018). The following code creates a large catalog by combining\n",
    "all the yearly catalogs.\n",
    "The IceCube catalog contains Neutrino detections with associated energy and time and approximate direction (which is uncertain by half-degree scales....). Usually, for active events only one or two Neutrinos are detected, which makes matching quite different compared to \"photons\". For our purpose, we will list the top 3 events in energy that are within a given distance to the target.\n",
    "\n",
    "This time series (time vs. neutrino energy) information is similar to photometry. We choose to storing time and energy in our data structure, leaving error = 0. What is __not__ stored in this format is the distance or angular uncertainty of the event direction. "
   ]
  },
  {
   "cell_type": "code",
   "execution_count": null,
   "metadata": {},
   "outputs": [],
   "source": [
    "%%time\n",
    "## Note: IceCube catalogs are currently stored in a personal Caltech Box directory of A. Faisst\n",
    "df_lc = icecube_get_lightcurve(df_lc , coords_list , labels_list , object_names ,\n",
    "                                   icecube_select_topN = 3,\n",
    "                                   path = \"./data/tmp/\",\n",
    "                                   verbose = 1)"
   ]
  },
  {
   "cell_type": "code",
   "execution_count": null,
   "metadata": {},
   "outputs": [],
   "source": []
  },
  {
   "cell_type": "code",
   "execution_count": null,
   "metadata": {},
   "outputs": [],
   "source": [
    "# Save or load the data frame. This is mainly for debugging.\n",
    "if SAVEDF:\n",
    "    df_lc.pickle(pickle_file_name)\n",
    "    print(\"Pickle file saved!\")\n",
    "else:\n",
    "    df_lc = MultiIndexDFObject()\n",
    "    df_lc.load_pickle(pickle_file_name)\n",
    "    print(\"Pickle file loaded!\")"
   ]
  },
  {
   "cell_type": "markdown",
   "metadata": {},
   "source": [
    "## 4. Make plots of luminosity as a function of time\n",
    "- model plots after [van Velzen et al., 2021](https://arxiv.org/pdf/2111.09391.pdf)\n"
   ]
  },
  {
   "cell_type": "code",
   "execution_count": null,
   "metadata": {},
   "outputs": [],
   "source": [
    "%%time\n",
    "\n",
    "## NOTE: have to go in order such that the plots turn out correctly!!!!\n",
    "# Would be easier to link with a (made-up) object name instead of number of row??\n",
    "for ccount, coord in enumerate(coords_list):\n",
    "    singleobj = df_lc.data.loc[(ccount+1),:,:]\n",
    "\n",
    "    # Set up for plotting. We use the \"mosaic\" method so we can plot\n",
    "    # the ZTF data in a subplot for better visibility.\n",
    "    fig, axes = plt.subplot_mosaic(mosaic=[[\"A\"],[\"A\"],[\"B\"]] , figsize=(10,8))\n",
    "    plt.subplots_adjust(hspace=0.3 , wspace=0.3)\n",
    "\n",
    "    # First check to see which bands we have in the dataframe\n",
    "    availband = singleobj.index.unique('band')\n",
    "    \n",
    "\n",
    "    # Plot all the bands in the *main plot* (A)\n",
    "    leg_handles_A = []\n",
    "    max_list = [] # store maximum flux for each band\n",
    "    ztf_minmax_tab = Table(names=[\"tmin\",\"tmax\",\"fluxmin\",\"fluxmax\"]) # store the min and max of the ZTF band fluxes and time\n",
    "    has_ztf = False # flag to set to True if ZTF data is available.\n",
    "    for l in range(len(availband)):\n",
    "        #band_lc = singleobj.loc[ccount+1,:, availband[l], :]\n",
    "        band_lc = singleobj.loc[: , availband[l] , :] # above line doesn't work for me [ALF]\n",
    "        band_lc.reset_index(inplace = True)\n",
    "\n",
    "        # first clean dataframe to remove erroneous rows\n",
    "        band_lc_clean = band_lc[band_lc['time'] < 65000]\n",
    "        \n",
    "        #before plotting need to scale the Kepler, K2, and TESS fluxes to the other available fluxes\n",
    "        if availband[l] in ['Kepler', 'K2', 'TESS']: # Note: these are not included anymore...\n",
    "            #remove outliers in the dataset\n",
    "            bandlc_clip = band_lc_clean[(np.abs(stats.zscore(band_lc_clean['flux'])) < 3.0)]\n",
    "\n",
    "            #find the maximum value of 'other bands'\n",
    "            max_electrons = max(band_lc_clean.flux)\n",
    "            factor = np.mean(max_list)/ max_electrons\n",
    "            lh = axes[\"A\"].errorbar(bandlc_clip.time, bandlc_clip.flux * factor, bandlc_clip.err* factor,\n",
    "                                    capsize = 3.0,label = availband[l])\n",
    "        elif availband[l] in ['zg','zr','zi']: # for ZTF\n",
    "            has_ztf = True\n",
    "            max_list.append(max(band_lc_clean.flux)) \n",
    "            lh = axes[\"A\"].errorbar(band_lc_clean.time, band_lc_clean.flux, band_lc_clean.err,\n",
    "                                    capsize = 1.0, elinewidth=0.5,marker='o',markersize=2,linestyle='', label = \"ZTF {}\".format(availband[l]))\n",
    "            ztf_minmax_tab.add_row( [np.min(band_lc_clean.time) , np.max(band_lc_clean.time) , np.min(band_lc_clean.flux) , np.max(band_lc_clean.flux) ] )\n",
    "            \n",
    "            \n",
    "            # plot ZTF in zoomin\n",
    "            p1 = axes[\"B\"].errorbar(band_lc_clean.time, band_lc_clean.flux, band_lc_clean.err,\n",
    "                                    capsize = 1.0, elinewidth=0.5, marker='o',linestyle='',markersize=0.5, alpha=0.5,\n",
    "                                    label = \"ZTF {}\".format(availband[l]))\n",
    "            \n",
    "            # overplot running mean fo ZTF in zoomin \n",
    "            xx = band_lc_clean.time\n",
    "            yy = band_lc_clean.flux\n",
    "            ee = band_lc_clean.err\n",
    "            x_bin = 30 # in MJD\n",
    "            x_grid = np.arange(np.nanmin(xx) , np.nanmax(xx)+x_bin/4 , x_bin/4)\n",
    "            tmp = Table(names=[\"xbin\",\"ybin\",\"yerr\"])\n",
    "            for xxx in x_grid:\n",
    "                s = np.where( np.abs(xx - xxx) < x_bin/2 )[0]\n",
    "                if len(s) > 1:\n",
    "                    mn = np.nansum(yy[s]*ee[s]) / np.nansum(ee[s]) # weighted mean\n",
    "                    tmp.add_row([xxx , mn , np.nanstd(yy[s])])\n",
    "                else:\n",
    "                    #pass\n",
    "                    tmp.add_row([xxx , np.nan , np.nan])\n",
    "            axes[\"B\"].plot(tmp[\"xbin\"] , tmp[\"ybin\"] , \"-\", linewidth=1.5 , color=p1.lines[0].get_color())\n",
    "            \n",
    "        elif availband[l] in [\"IceCube\"]: # IceCube (no fluxes, just events)\n",
    "            y = axes[\"A\"].get_ylim()[0] + np.diff(axes[\"A\"].get_ylim())*0.7\n",
    "            dy = np.diff(axes[\"A\"].get_ylim())/20\n",
    "            lh = axes[\"A\"].errorbar(band_lc_clean.time , np.repeat(y , len(band_lc_clean.time)) , yerr=dy, uplims=True ,\n",
    "                                    fmt=\"o\"  , label=availband[l] , color=\"black\")\n",
    "            \n",
    "        else: # everything else\n",
    "            max_list.append(max(band_lc_clean.flux)) \n",
    "            lh = axes[\"A\"].errorbar(band_lc_clean.time, band_lc_clean.flux, band_lc_clean.err,\n",
    "                                    capsize = 3.0, label = availband[l])\n",
    "\n",
    "        leg_handles_A.append(lh)\n",
    "    \n",
    "    # Plot the ZTF bands in a separate plot to show their variability\n",
    "    # more clearly. Can still also plot the rest, just change the x and\n",
    "    # y axis limits. Only do this if ZTF is available for source.\n",
    "\n",
    "    ## Do Axes\n",
    "    \n",
    "    #axes[\"A\"].spines['top'].set_visible(False)\n",
    "    #axes[\"A\"].spines['right'].set_visible(False)\n",
    "    axes[\"A\"].set_ylabel('Flux(mJy)')\n",
    "    \n",
    "    if has_ztf:\n",
    "        axes[\"B\"].set_ylabel('Flux(mJy)')\n",
    "        axes[\"B\"].set_xlabel('Time(MJD)')\n",
    "\n",
    "        axes[\"B\"].set_xlim( np.min(ztf_minmax_tab[\"tmin\"])-100 , np.max(ztf_minmax_tab[\"tmax\"])+100 )\n",
    "    \n",
    "    \n",
    "    plt.legend(handles=leg_handles_A , bbox_to_anchor=(1.4,3.5))\n",
    "    plt.tight_layout()\n",
    "    #save the plot to data/*.pdf\n",
    "    savename = \"data/lightcurve_{}.pdf\".format(ccount+1)\n",
    "    plt.savefig(savename, bbox_inches=\"tight\")\n",
    "    plt.show()\n",
    "    \n",
    "## TODO:\n",
    "## - add running median to ZTF lightcurve. [ALF]\n"
   ]
  },
  {
   "cell_type": "markdown",
   "metadata": {},
   "source": [
    "## ML Extension \n",
    "Consider training a ML model to do light curve classification based on this sample of CLAGN\n",
    " - once we figure out which bands these are likely to be observed in, could then have a optical + IR light curve classifier\n",
    " - what would the features of the light curve be?\n",
    " - what models are reasonable to test as light curve classifiers?\n",
    " - could we make also a sample of TDEs, SNe, flaring AGN? - then train the model to distinguish between these things?\n",
    " - need a sample of non-flaring light curves\n",
    " \n",
    "After training the model:\n",
    " - would then need a sample of optical + IR light curves for \"all\" galaxies = big data to run the model on.\n",
    "\n",
    "Some resources to consider:\n",
    "- https://github.com/dirac-institute/ZTF_Boyajian\n",
    "- https://ui.adsabs.harvard.edu/abs/2022AJ....164...68S/abstract\n",
    "- https://ui.adsabs.harvard.edu/abs/2019ApJ...881L...9F/abstract\n",
    "\n"
   ]
  },
  {
   "cell_type": "markdown",
   "metadata": {},
   "source": [
    "## References\n",
    "\n",
    "This work made use of:\n",
    "\n",
    "- Astroquery; Ginsburg et al., 2019, 2019AJ....157...98G\n",
    "\n",
    "- Astropy; Astropy Collaboration 2022, Astropy Collaboration 2018, Astropy Collaboration 2013, 2022ApJ...935..167A, 2018AJ....156..123A, 2013A&A...558A..33A\n",
    "\n",
    "- Lightkurve; Lightkurve Collaboration 2018, 2018ascl.soft12013L\n",
    "\n",
    "- acstools; https://zenodo.org/record/7406933#.ZBH1HS-B0eY\n",
    "\n",
    "- unTimely; Meisner et al., 2023, 2023AJ....165...36M\n",
    "\n",
    "- Alerce; Forster et al., 2021, 2021AJ....161..242F"
   ]
  },
  {
   "cell_type": "code",
   "execution_count": null,
   "metadata": {},
   "outputs": [],
   "source": []
  }
 ],
 "metadata": {
  "kernelspec": {
   "display_name": "Python 3 (ipykernel)",
   "language": "python",
   "name": "python3"
  },
  "language_info": {
   "codemirror_mode": {
    "name": "ipython",
    "version": 3
   },
   "file_extension": ".py",
   "mimetype": "text/x-python",
   "name": "python",
   "nbconvert_exporter": "python",
   "pygments_lexer": "ipython3",
   "version": "3.10.8"
  }
 },
 "nbformat": 4,
 "nbformat_minor": 4
}
