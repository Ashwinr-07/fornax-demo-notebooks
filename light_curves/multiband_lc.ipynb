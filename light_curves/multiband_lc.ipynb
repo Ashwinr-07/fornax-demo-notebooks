{
 "cells": [
  {
   "cell_type": "markdown",
   "metadata": {},
   "source": [
    "# Make multiwavelength light curves using archival data\n",
    "***\n",
    "\n",
    "## Learning Goals    \n",
    "By the end of this tutorial, you will be able to:\n",
    " - automatically load a catalog of sources\n",
    " - automatically search NASA and non-NASA resources for light curves\n",
    " - store light curves in a Pandas multiindex dataframe\n",
    " - plot all light curves on the same plot\n",
    " \n",
    " \n",
    "## Introduction:\n",
    " - A user has a sample of interesting targets for which they would like to see a plot of available archival light curves.  We start with a small set of changing look AGN from Yang et al., 2018, which are automatically downloaded. Changing look AGN are cases where the broad emission lines appear or disappear (and not just that the flux is variable). \n",
    " - We model light curve plots after van Velzen et al. 2021.  We search through a curated list of time-domain NASA holdings as well as non-NASA sources.  HEASARC catalogs used are Fermi and Beppo-Sax, IRSA catalogs used are ZTF and WISE, and MAST catalogs used are Pan-Starrs, TESS, Kepler, and K2.  Non-NASA sources are Gaia and IceCube. This list is generalized enough to include many types of targets to make this notebook interesting for many types of science.  All of these time-domain archives are searched in an automated fashion using astroquery or APIs.\n",
    " - Light curve data storage is a tricky problem.  Currently we are using a multi-index Pandas dataframe, as the best existing choice for right now.  One downside is that we need to manually track the units of flux and time instead of relying on an astropy storage scheme which would be able to do some of the units worrying for us (even astropy can't do all magnitude to flux conversions).  Astropy does not currently have a good option for multi-band light curve storage.\n",
    " - We intend to explore a ML classifier for these changing look AGN light curves.\n",
    " \n",
    "## Input:\n",
    " - choose from a list of known changing look AGN from the literature\n",
    " \n",
    "  OR - \n",
    " - input your own sample\n",
    "\n",
    "## Output:\n",
    " - an archival optical + IR + neutrino light curve\n",
    " \n",
    "## Non-standard Imports:\n",
    "- `astroquery` to interface with archives APIs\n",
    "- `astropy` to work with coordinates/units and data structures\n",
    "- `lightkurve` to search TESSS, Kepler, and K2 archives\n",
    "- `urllib` to handle archive searches with website interface\n",
    "- `acstools` to work with HST magnitude to flux conversion\n",
    "- `unTimely` to retrieve WISE light curves\n",
    "- `alerce` to convert ZTF object names into coordinates\n",
    "\n",
    "## Authors:\n",
    "Jessica Krick, Shoubaneh Hemmati, Andreas Faisst, Troy Raen, Brigitta Sipocz, Dave Shupe\n",
    "\n",
    "## Acknowledgements:\n",
    "Suvi Gezari, Antara Basu-zych,Stephanie LaMassa\\\n",
    "MAST, HEASARC, & IRSA Fornax teams\n",
    "\n"
   ]
  },
  {
   "cell_type": "code",
   "execution_count": 1,
   "metadata": {},
   "outputs": [
    {
     "name": "stdout",
     "output_type": "stream",
     "text": [
      "Requirement already satisfied: numpy in /opt/conda/lib/python3.8/site-packages (from -r requirements.txt (line 4)) (1.21.5)\n",
      "Requirement already satisfied: matplotlib in /opt/conda/lib/python3.8/site-packages (from -r requirements.txt (line 5)) (3.5.1)\n",
      "Requirement already satisfied: pandas in /opt/conda/lib/python3.8/site-packages (from -r requirements.txt (line 6)) (1.3.5)\n",
      "Requirement already satisfied: astropy in /opt/conda/lib/python3.8/site-packages (from -r requirements.txt (line 7)) (5.0.1)\n",
      "Requirement already satisfied: astroquery in /opt/conda/lib/python3.8/site-packages (from -r requirements.txt (line 8)) (0.4.5)\n",
      "Requirement already satisfied: tqdm in /opt/conda/lib/python3.8/site-packages (from -r requirements.txt (line 9)) (4.50.2)\n",
      "Requirement already satisfied: lightkurve in /opt/conda/lib/python3.8/site-packages (from -r requirements.txt (line 10)) (2.4.0)\n",
      "Requirement already satisfied: acstools in /opt/conda/lib/python3.8/site-packages (from -r requirements.txt (line 11)) (3.6.0)\n",
      "Requirement already satisfied: alerce in /opt/conda/lib/python3.8/site-packages (from -r requirements.txt (line 12)) (1.2.0)\n",
      "Requirement already satisfied: wget in /opt/conda/lib/python3.8/site-packages (from -r requirements.txt (line 13)) (3.2)\n",
      "Requirement already satisfied: cycler>=0.10 in /opt/conda/lib/python3.8/site-packages (from matplotlib->-r requirements.txt (line 5)) (0.11.0)\n",
      "Requirement already satisfied: python-dateutil>=2.7 in /opt/conda/lib/python3.8/site-packages (from matplotlib->-r requirements.txt (line 5)) (2.8.1)\n",
      "Requirement already satisfied: pyparsing>=2.2.1 in /opt/conda/lib/python3.8/site-packages (from matplotlib->-r requirements.txt (line 5)) (2.4.7)\n",
      "Requirement already satisfied: fonttools>=4.22.0 in /opt/conda/lib/python3.8/site-packages (from matplotlib->-r requirements.txt (line 5)) (4.29.1)\n",
      "Requirement already satisfied: packaging>=20.0 in /opt/conda/lib/python3.8/site-packages (from matplotlib->-r requirements.txt (line 5)) (20.4)\n",
      "Requirement already satisfied: pillow>=6.2.0 in /opt/conda/lib/python3.8/site-packages (from matplotlib->-r requirements.txt (line 5)) (9.0.1)\n",
      "Requirement already satisfied: kiwisolver>=1.0.1 in /opt/conda/lib/python3.8/site-packages (from matplotlib->-r requirements.txt (line 5)) (1.3.2)\n",
      "Requirement already satisfied: pytz>=2017.3 in /opt/conda/lib/python3.8/site-packages (from pandas->-r requirements.txt (line 6)) (2021.3)\n",
      "Requirement already satisfied: pyerfa>=2.0 in /opt/conda/lib/python3.8/site-packages (from astropy->-r requirements.txt (line 7)) (2.0.0.1)\n",
      "Requirement already satisfied: PyYAML>=3.13 in /opt/conda/lib/python3.8/site-packages (from astropy->-r requirements.txt (line 7)) (6.0)\n",
      "Requirement already satisfied: requests>=2.4.3 in /opt/conda/lib/python3.8/site-packages (from astroquery->-r requirements.txt (line 8)) (2.24.0)\n",
      "Requirement already satisfied: beautifulsoup4>=4.3.2 in /opt/conda/lib/python3.8/site-packages (from astroquery->-r requirements.txt (line 8)) (4.10.0)\n",
      "Requirement already satisfied: html5lib>=0.999 in /opt/conda/lib/python3.8/site-packages (from astroquery->-r requirements.txt (line 8)) (1.1)\n",
      "Requirement already satisfied: keyring>=4.0 in /opt/conda/lib/python3.8/site-packages (from astroquery->-r requirements.txt (line 8)) (22.3.0)\n",
      "Requirement already satisfied: pyvo>=1.1 in /opt/conda/lib/python3.8/site-packages (from astroquery->-r requirements.txt (line 8)) (1.3)\n",
      "Requirement already satisfied: scipy>=1.7 in /opt/conda/lib/python3.8/site-packages (from lightkurve->-r requirements.txt (line 10)) (1.8.0)\n",
      "Requirement already satisfied: fbpca>=1.0 in /opt/conda/lib/python3.8/site-packages (from lightkurve->-r requirements.txt (line 10)) (1.0)\n",
      "Requirement already satisfied: patsy>=0.5.0 in /opt/conda/lib/python3.8/site-packages (from lightkurve->-r requirements.txt (line 10)) (0.5.2)\n",
      "Requirement already satisfied: urllib3>=1.23 in /opt/conda/lib/python3.8/site-packages (from lightkurve->-r requirements.txt (line 10)) (1.25.11)\n",
      "Requirement already satisfied: oktopus>=0.1.2 in /opt/conda/lib/python3.8/site-packages (from lightkurve->-r requirements.txt (line 10)) (0.1.2)\n",
      "Requirement already satisfied: uncertainties>=3.1.4 in /opt/conda/lib/python3.8/site-packages (from lightkurve->-r requirements.txt (line 10)) (3.1.7)\n",
      "Requirement already satisfied: bokeh>=2.0.0 in /opt/conda/lib/python3.8/site-packages (from lightkurve->-r requirements.txt (line 10)) (2.4.2)\n",
      "Requirement already satisfied: memoization>=0.3.1 in /opt/conda/lib/python3.8/site-packages (from lightkurve->-r requirements.txt (line 10)) (0.4.0)\n",
      "Requirement already satisfied: scikit-learn>=0.24.0 in /opt/conda/lib/python3.8/site-packages (from lightkurve->-r requirements.txt (line 10)) (1.0.2)\n",
      "Requirement already satisfied: soupsieve>1.2 in /opt/conda/lib/python3.8/site-packages (from beautifulsoup4>=4.3.2->astroquery->-r requirements.txt (line 8)) (2.3.1)\n",
      "Requirement already satisfied: Jinja2>=2.9 in /opt/conda/lib/python3.8/site-packages (from bokeh>=2.0.0->lightkurve->-r requirements.txt (line 10)) (2.11.2)\n",
      "Requirement already satisfied: typing-extensions>=3.10.0 in /opt/conda/lib/python3.8/site-packages (from bokeh>=2.0.0->lightkurve->-r requirements.txt (line 10)) (4.1.1)\n",
      "Requirement already satisfied: tornado>=5.1 in /opt/conda/lib/python3.8/site-packages (from bokeh>=2.0.0->lightkurve->-r requirements.txt (line 10)) (6.1)\n",
      "Requirement already satisfied: six>=1.9 in /opt/conda/lib/python3.8/site-packages (from html5lib>=0.999->astroquery->-r requirements.txt (line 8)) (1.15.0)\n",
      "Requirement already satisfied: webencodings in /opt/conda/lib/python3.8/site-packages (from html5lib>=0.999->astroquery->-r requirements.txt (line 8)) (0.5.1)\n",
      "Requirement already satisfied: jeepney>=0.4.2 in /opt/conda/lib/python3.8/site-packages (from keyring>=4.0->astroquery->-r requirements.txt (line 8)) (0.7.1)\n",
      "Requirement already satisfied: SecretStorage>=3.2 in /opt/conda/lib/python3.8/site-packages (from keyring>=4.0->astroquery->-r requirements.txt (line 8)) (3.3.1)\n",
      "Requirement already satisfied: autograd in /opt/conda/lib/python3.8/site-packages (from oktopus>=0.1.2->lightkurve->-r requirements.txt (line 10)) (1.5)\n",
      "Requirement already satisfied: certifi>=2017.4.17 in /opt/conda/lib/python3.8/site-packages (from requests>=2.4.3->astroquery->-r requirements.txt (line 8)) (2022.12.7)\n",
      "Requirement already satisfied: idna<3,>=2.5 in /opt/conda/lib/python3.8/site-packages (from requests>=2.4.3->astroquery->-r requirements.txt (line 8)) (2.10)\n",
      "Requirement already satisfied: chardet<4,>=3.0.2 in /opt/conda/lib/python3.8/site-packages (from requests>=2.4.3->astroquery->-r requirements.txt (line 8)) (3.0.4)\n",
      "Requirement already satisfied: threadpoolctl>=2.0.0 in /opt/conda/lib/python3.8/site-packages (from scikit-learn>=0.24.0->lightkurve->-r requirements.txt (line 10)) (3.1.0)\n",
      "Requirement already satisfied: joblib>=0.11 in /opt/conda/lib/python3.8/site-packages (from scikit-learn>=0.24.0->lightkurve->-r requirements.txt (line 10)) (1.1.0)\n",
      "Requirement already satisfied: future in /opt/conda/lib/python3.8/site-packages (from uncertainties>=3.1.4->lightkurve->-r requirements.txt (line 10)) (0.18.2)\n",
      "Requirement already satisfied: MarkupSafe>=0.23 in /opt/conda/lib/python3.8/site-packages (from Jinja2>=2.9->bokeh>=2.0.0->lightkurve->-r requirements.txt (line 10)) (1.1.1)\n",
      "Requirement already satisfied: cryptography>=2.0 in /opt/conda/lib/python3.8/site-packages (from SecretStorage>=3.2->keyring>=4.0->astroquery->-r requirements.txt (line 8)) (3.1.1)\n",
      "Requirement already satisfied: cffi!=1.11.3,>=1.8 in /opt/conda/lib/python3.8/site-packages (from cryptography>=2.0->SecretStorage>=3.2->keyring>=4.0->astroquery->-r requirements.txt (line 8)) (1.14.3)\n",
      "Requirement already satisfied: pycparser in /opt/conda/lib/python3.8/site-packages (from cffi!=1.11.3,>=1.8->cryptography>=2.0->SecretStorage>=3.2->keyring>=4.0->astroquery->-r requirements.txt (line 8)) (2.20)\n",
      "\u001b[33mWARNING: You are using pip version 22.0.3; however, version 23.1.2 is available.\n",
      "You should consider upgrading via the '/opt/conda/bin/python3 -m pip install --upgrade pip' command.\u001b[0m\u001b[33m\n",
      "\u001b[0m"
     ]
    }
   ],
   "source": [
    "#ensure all dependencies are installed\n",
    "!pip install -r requirements.txt"
   ]
  },
  {
   "cell_type": "code",
   "execution_count": 12,
   "metadata": {
    "scrolled": true,
    "tags": []
   },
   "outputs": [],
   "source": [
    "import sys\n",
    "import time\n",
    "import warnings\n",
    "from math import ceil\n",
    "from multiprocessing import Pool\n",
    "\n",
    "import astropy.units as u\n",
    "import matplotlib.pyplot as plt\n",
    "import numpy as np\n",
    "from astropy.table import Table\n",
    "from scipy import stats\n",
    "import pandas as pd\n",
    "\n",
    "warnings.filterwarnings('ignore')\n",
    "\n",
    "#get tools for accessing Meisner et al., 2023 WISE light curves\n",
    "try:\n",
    "    from unTimely_Catalog_tools import unTimelyCatalogExplorer\n",
    "except ImportError:\n",
    "    !pip install git+https://github.com/fkiwy/unTimely_Catalog_explorer\n",
    "    !pip install reproject\n",
    "    from unTimely_Catalog_tools import unTimelyCatalogExplorer\n",
    "\n",
    "# local code imports\n",
    "sys.path.append('code/')\n",
    "from panstarrs import panstarrs_get_lightcurves\n",
    "from gaia_functions import Gaia_get_lightcurve\n",
    "from HCV_functions import HCV_get_lightcurves\n",
    "from icecube_functions import icecube_get_lightcurve\n",
    "from sample_selection import get_lamassa_sample, get_macleod16_sample, get_ruan_sample, get_macleod19_sample, get_sheng_sample, \\\n",
    "    get_green_sample, get_lyu_sample, get_lopeznavas_sample, get_hon_sample, get_yang_sample,  get_SDSS_sample, clean_sample\n",
    "from ztf_functions import ZTF_get_lightcurve\n",
    "from data_structures import MultiIndexDFObject\n",
    "from heasarc_functions import HEASARC_get_lightcurves\n",
    "from TESS_Kepler_functions import TESS_Kepler_get_lightcurves\n",
    "from WISE_functions import WISE_get_lightcurves"
   ]
  },
  {
   "cell_type": "markdown",
   "metadata": {},
   "source": [
    "## 1. Define the Sample\n",
    " We define here a \"gold\" sample of spectroscopically confirmed changing look AGN and quasars. This sample includes both objects which change from type 1 to type 2 and also the opposite.  Future studies may want to treat these as seperate objects or seperate QSOs from AGN.\n",
    " \n",
    " Bibcodes for the samples used are listed next to their functions for reference.  \n",
    " \n",
    " Functions used to grab the samples from the papers use Astroquery, NED, SIMBAD, Vizier, and in a few cases grab the tables from the html versions of the paper."
   ]
  },
  {
   "cell_type": "code",
   "execution_count": 3,
   "metadata": {},
   "outputs": [
    {
     "name": "stdout",
     "output_type": "stream",
     "text": [
      "Changing Look AGN- Yang et al:  31\n",
      "after duplicates removal, sample size: 30\n"
     ]
    }
   ],
   "source": [
    "#build up the sample\n",
    "coords =[]\n",
    "labels = []\n",
    "\n",
    "#choose your own adventure:\n",
    "\n",
    "#get_lamassa_sample(coords, labels)  #2015ApJ...800..144L\n",
    "#get_macleod16_sample(coords, labels) #2016MNRAS.457..389M\n",
    "#get_ruan_sample(coords, labels) #2016ApJ...826..188R\n",
    "#get_macleod19_sample(coords, labels)  #2019ApJ...874....8M\n",
    "#get_sheng_sample(coords, labels)  #2020ApJ...889...46S\n",
    "#get_green_sample(coords, labels)  #2022ApJ...933..180G\n",
    "#get_lyu_sample(coords, labels)  #z32022ApJ...927..227L\n",
    "#get_lopeznavas_sample(coords, labels)  #2022MNRAS.513L..57L\n",
    "#get_hon_sample(coords, labels)  #2022MNRAS.511...54H\n",
    "get_yang_sample(coords, labels)   #2018ApJ...862..109Y\n",
    "\n",
    "#now get some \"normal\" QSOs for use in the classifier\n",
    "#there are ~500K of these, so choose the number based on\n",
    "#a balance between speed of running the light curves and whatever \n",
    "#the ML algorithms would like to have\n",
    "\n",
    "# num_normal_QSO = 100 \n",
    "#get_SDSS_sample(coords, labels, num_normal_QSO)\n",
    "\n",
    "# remove duplicates and attach an objectid to the coords\n",
    "coords_list, labels_list = clean_sample(coords, labels)\n",
    "\n",
    "#add an index-like list with our own object name\n",
    "object_names = [['CLAGN' + str(i)] for i in range(len(coords_list))]\n",
    "\n",
    "## For testing\n",
    "#coords_list = coords_list[0:4]\n",
    "#labels_list = labels_list[0:4]\n",
    "#object_names = object_names[0:4]"
   ]
  },
  {
   "cell_type": "markdown",
   "metadata": {},
   "source": [
    "### 1.1 Build your own Sample\n",
    "\n",
    "To build your own sample, you can follow the examples of functions above to grab coordinates from your favorite literature resource, \n",
    "\n",
    "or\n",
    "\n",
    "You can use [astropy's read](https://docs.astropy.org/en/stable/io/ascii/read.html) function to read in an input table\n",
    "and then convert that table into a list of [skycoords](https://docs.astropy.org/en/stable/api/astropy.coordinates.SkyCoord.html) "
   ]
  },
  {
   "cell_type": "markdown",
   "metadata": {},
   "source": [
    "## 2. Find light curves for these targets in NASA catalogs\n",
    "  - We search a curated list of time-domain catalogs from all NASA astrophysics archives\n"
   ]
  },
  {
   "cell_type": "code",
   "execution_count": 4,
   "metadata": {},
   "outputs": [],
   "source": [
    "### Initialize Pandas MultiIndex data frame for storing the light curves\n",
    "df_lc = MultiIndexDFObject()"
   ]
  },
  {
   "cell_type": "markdown",
   "metadata": {},
   "source": [
    "### 2.1 HEASARC: FERMI & Beppo SAX\n"
   ]
  },
  {
   "cell_type": "code",
   "execution_count": null,
   "metadata": {},
   "outputs": [],
   "source": [
    "start_serial = time.time()\n",
    "mission_list = ['FERMIGTRIG', 'SAXGRBMGRB']\n",
    "radius = 0.1*u.degree\n",
    "\n",
    "#go out and find all light curves in the above curated list which match our target positions\n",
    "df_lc_heasarc = HEASARC_get_lightcurves(coords_list,labels_list,radius, mission_list)\n",
    "\n",
    "df_lc.append(df_lc_heasarc)"
   ]
  },
  {
   "cell_type": "markdown",
   "metadata": {},
   "source": [
    "### 2.2 IRSA: ZTF"
   ]
  },
  {
   "cell_type": "code",
   "execution_count": null,
   "metadata": {
    "scrolled": true
   },
   "outputs": [],
   "source": [
    "df_lc_ZTF = ZTF_get_lightcurve(coords_list,labels_list,plotprint=0) ## number of plots to show to be set by plotprint\n",
    "\n",
    "#add the resulting dataframe to all other archives\n",
    "df_lc.append(df_lc_ZTF)"
   ]
  },
  {
   "cell_type": "markdown",
   "metadata": {},
   "source": [
    "### 2.3 IRSA:WISE\n",
    "\n",
    "- use the unTimely catalog which ties together all WISE & NEOWISE 2010 - 2020 epochs.  Specifically it combined all observations at a single epoch to achieve deeper mag limits than individual observations alone.\n",
    "- https://github.com/fkiwy/unTimely_Catalog_explorer\n",
    "- https://iopscience-iop-org.caltech.idm.oclc.org/article/10.3847/1538-3881/aca2ab"
   ]
  },
  {
   "cell_type": "code",
   "execution_count": null,
   "metadata": {
    "scrolled": true,
    "tags": []
   },
   "outputs": [],
   "source": [
    "bandlist = ['w1', 'w2']\n",
    "WISE_radius = 1.0\n",
    "\n",
    "df_lc_WISE = WISE_get_lightcurves(coords_list, labels_list, WISE_radius, bandlist)\n",
    "\n",
    "#add the resulting dataframe to all other archives\n",
    "df_lc.append(df_lc_WISE)"
   ]
  },
  {
   "cell_type": "markdown",
   "metadata": {},
   "source": [
    "### 2.4 MAST: Pan-STARRS\n",
    "Query the Pan-STARRS API; based on this [example](https://ps1images.stsci.edu/ps1_dr2_api.html)"
   ]
  },
  {
   "cell_type": "code",
   "execution_count": null,
   "metadata": {},
   "outputs": [],
   "source": [
    "#Do a panstarrs search\n",
    "panstarrs_radius = 1.0/3600.0    # search radius = 1 arcsec\n",
    "df_lc_panstarrs = panstarrs_get_lightcurves(coords_list, labels_list, panstarrs_radius)\n",
    "\n",
    "#add the resulting dataframe to all other archives\n",
    "df_lc.append(df_lc_panstarrs)"
   ]
  },
  {
   "cell_type": "markdown",
   "metadata": {},
   "source": [
    "### 2.5 MAST: Asteroid Terrestrial-impact Last Alert System (ATLAS)\n",
    " - All-sky stellar reference catalog \n",
    " -  MAST hosts this catalog but there are three barriers to using it\n",
    "     1. it is unclear if the MAST [holdings]( https://archive.stsci.edu/hlsp/atlas-refcat2#section-a737bc3e-2d56-4827-9ab4-838fbf8d67c1) include the individual epoch photometry and \n",
    "     2. it is only accessible with casjobs, not through python notebooks.  \n",
    "     3. magnitude range (g, r, i) < 19mag makes it not relevant for this use case\n",
    " \n",
    "One path forward if this catalog becomes scientifically interesting is to put in a MAST helpdesk ticket to see if 1) they do have the light curves, and 2) they could switch the catalog to a searchable with python version.  There are some ways of [accessing casjobs with python](<https://github.com/spacetelescope/notebooks/blob/master/notebooks/MAST/HSC/HCV_CASJOBS/HCV_casjobs_demo.ipynb), but not this particular catalog.  \n",
    " "
   ]
  },
  {
   "cell_type": "markdown",
   "metadata": {},
   "source": [
    "### 2.6 MAST: TESS, Kepler and K2\n",
    " - use [`lightKurve`](https://docs.lightkurve.org/index.html) to search all 3 missions and download light curves\n",
    " \n"
   ]
  },
  {
   "cell_type": "code",
   "execution_count": null,
   "metadata": {
    "scrolled": true
   },
   "outputs": [],
   "source": [
    "#go get the lightcurves using lightkurve\n",
    "TESS_radius = 1.0  #arcseconds\n",
    "df_lc_TESS = TESS_Kepler_get_lightcurves(coords_list, labels_list, TESS_radius)\n",
    "\n",
    "#add the resulting dataframe to all other archives\n",
    "df_lc.append(df_lc_TESS)"
   ]
  },
  {
   "cell_type": "markdown",
   "metadata": {},
   "source": [
    "### 2.7 MAST: HCV\n",
    " - [hubble catalog of variables](https://archive.stsci.edu/hlsp/hcv) \n",
    " - using [this notebook](https://archive.stsci.edu/hst/hsc/help/HCV/HCV_API_demo.html) as a reference to search and download light curves via API"
   ]
  },
  {
   "cell_type": "code",
   "execution_count": null,
   "metadata": {},
   "outputs": [],
   "source": [
    "%%time\n",
    "#Do an HCV search\n",
    "HCV_radius = 1.0/3600.0 # radius = 1 arcsec\n",
    "df_lc_HCV = HCV_get_lightcurves(coords_list, labels_list, HCV_radius)\n",
    "\n",
    "#add the resulting dataframe to all other archives\n",
    "df_lc.append(df_lc_HCV)"
   ]
  },
  {
   "cell_type": "markdown",
   "metadata": {},
   "source": [
    "## 3. Find light curves for these targets in relevant, non-NASA catalogs\n"
   ]
  },
  {
   "cell_type": "markdown",
   "metadata": {},
   "source": [
    "### 3.1 Gaia \n"
   ]
  },
  {
   "cell_type": "code",
   "execution_count": null,
   "metadata": {},
   "outputs": [],
   "source": [
    "starttime = time.time()\n",
    "## Note: This is very slow. Can probably make faster with direct SQL search?\n",
    "df_lc_gaia = Gaia_get_lightcurve(coords_list,  labels_list , object_names , verbose = 1)\n",
    "\n",
    "#add the resulting dataframe to all other archives\n",
    "df_lc.append(df_lc_gaia)\n",
    "\n",
    "print('gaia search took:', time.time() - starttime, 's')"
   ]
  },
  {
   "cell_type": "markdown",
   "metadata": {},
   "source": [
    "### 3.2 ASAS-SN (all sky automated survey for supernovae) \n",
    "- Has a [website](https://asas-sn.osu.edu/photometry) that can be manually searched; but no API which would allow automatic searches from within this notebook\n",
    "- Magnitude range of this survey is not consistent with the magnitude range of our CLAGN.  If this catalog becomes scientifically interesting, one path forward would be to ask ASAS-SN team about implementing an API\n",
    "\n"
   ]
  },
  {
   "cell_type": "markdown",
   "metadata": {},
   "source": [
    "### 3.3 Icecube Neutrinos\n",
    "\n",
    "There are several [catalogs](https://icecube.wisc.edu/data-releases/2021/01/all-sky-point-source-icecube-data-years-2008-2018) (basically one for each year of IceCube data from 2008 - 2018). The following code creates a large catalog by combining\n",
    "all the yearly catalogs.\n",
    "The IceCube catalog contains Neutrino detections with associated energy and time and approximate direction (which is uncertain by half-degree scales....). Usually, for active events only one or two Neutrinos are detected, which makes matching quite different compared to \"photons\". For our purpose, we will list the top 3 events in energy that are within a given distance to the target.\n",
    "\n",
    "This time series (time vs. neutrino energy) information is similar to photometry. We choose to storing time and energy in our data structure, leaving error = 0. What is __not__ stored in this format is the distance or angular uncertainty of the event direction. "
   ]
  },
  {
   "cell_type": "code",
   "execution_count": null,
   "metadata": {},
   "outputs": [],
   "source": [
    "%%time\n",
    "## Note: IceCube catalogs are currently stored in a personal Caltech Box directory of A. Faisst\n",
    "df_lc_icecube = icecube_get_lightcurve(coords_list , labels_list , object_names ,\n",
    "                                   icecube_select_topN = 3,\n",
    "                                   path = \"./data/\",\n",
    "                                   verbose = 1)\n",
    "\n",
    "#add the resulting dataframe to all other archives\n",
    "df_lc.append(df_lc_icecube)\n",
    "end_serial = time.time()"
   ]
  },
  {
   "cell_type": "code",
   "execution_count": null,
   "metadata": {},
   "outputs": [],
   "source": [
    "#benchmarking\n",
    "print('total time for serial archive calls is ', end_serial - start_serial, 's')"
   ]
  },
  {
   "cell_type": "markdown",
   "metadata": {},
   "source": [
    "## 4. Parallel Processing the archive calls\n"
   ]
  },
  {
   "cell_type": "code",
   "execution_count": 5,
   "metadata": {},
   "outputs": [],
   "source": [
    "# define some variables in case the above serial cells are not run\n",
    "mission_list = [\"FERMIGTRIG\", \"SAXGRBMGRB\"]\n",
    "heasarc_radius = 0.1 * u.degree\n",
    "bandlist = [\"w1\", \"w2\"]\n",
    "wise_radius = 1.0\n",
    "panstarrs_radius = 1.0 / 3600.0  # search radius = 1 arcsec\n",
    "lk_radius = 1.0  # arcseconds\n",
    "hcv_radius = 1.0 / 3600.0  # radius = 1 arcsec"
   ]
  },
  {
   "cell_type": "code",
   "execution_count": 6,
   "metadata": {},
   "outputs": [],
   "source": [
    "# calculate the number of workers needed\n",
    "n_single_archives, n_multiple_archives = 6, 2  # must sum to total number of archives called\n",
    "n_chunks_per_archive = 5  # will make one api call per chunk per slow archive\n",
    "n_workers = n_single_archives + n_multiple_archives * n_chunks_per_archive"
   ]
  },
  {
   "cell_type": "code",
   "execution_count": 7,
   "metadata": {
    "scrolled": true
   },
   "outputs": [
    {
     "name": "stdout",
     "output_type": "stream",
     "text": [
      "Downloading IceCube data to ./data/ |  "
     ]
    },
    {
     "name": "stderr",
     "output_type": "stream",
     "text": [
      "100%|██████████| 30/30 [00:00<00:00, 41.37it/s]\n",
      "  3%|▎         | 1/30 [00:01<00:45,  1.55s/it]"
     ]
    },
    {
     "name": "stdout",
     "output_type": "stream",
     "text": [
      "Unzipping IceCube data |  "
     ]
    },
    {
     "name": "stderr",
     "output_type": "stream",
     "text": [
      " 17%|█▋        | 1/6 [00:03<00:15,  3.08s/it]]"
     ]
    },
    {
     "name": "stdout",
     "output_type": "stream",
     "text": [
      "0 no matches\n"
     ]
    },
    {
     "name": "stderr",
     "output_type": "stream",
     "text": [
      " 10%|█         | 3/30 [00:03<00:37,  1.37s/it]"
     ]
    },
    {
     "name": "stdout",
     "output_type": "stream",
     "text": [
      "Scanning catalog index file ...\n"
     ]
    },
    {
     "name": "stderr",
     "output_type": "stream",
     "text": [
      " 17%|█▋        | 1/6 [00:04<00:21,  4.39s/it]"
     ]
    },
    {
     "name": "stdout",
     "output_type": "stream",
     "text": [
      "Scanning catalog index file ...\n",
      "Scanning catalog index file ...\n",
      "Scanning catalog index file ...\n",
      "Scanning catalog index file ..."
     ]
    },
    {
     "name": "stderr",
     "output_type": "stream",
     "text": [
      " 17%|█▋        | 1/6 [00:05<00:25,  5.05s/it]"
     ]
    },
    {
     "name": "stdout",
     "output_type": "stream",
     "text": [
      "\n"
     ]
    },
    {
     "name": "stderr",
     "output_type": "stream",
     "text": [
      "  7%|▋         | 2/30 [00:05<01:18,  2.79s/it]No data found for target \"<SkyCoord (ICRS): (ra, dec) in deg\n",
      "    (0.28136, -0.09789)>\".\n",
      "ERROR:lightkurve.search:No data found for target \"<SkyCoord (ICRS): (ra, dec) in deg\n",
      "    (0.28136, -0.09789)>\".\n",
      " 17%|█▋        | 5/30 [00:06<00:31,  1.26s/it]"
     ]
    },
    {
     "name": "stdout",
     "output_type": "stream",
     "text": [
      "1 no matches\n"
     ]
    },
    {
     "name": "stderr",
     "output_type": "stream",
     "text": [
      " 20%|██        | 6/30 [00:07<00:29,  1.22s/it]"
     ]
    },
    {
     "name": "stdout",
     "output_type": "stream",
     "text": [
      "Done.\n",
      "Loading:  IC40_exp.csv\n"
     ]
    },
    {
     "name": "stderr",
     "output_type": "stream",
     "text": [
      "No data found for target \"<SkyCoord (ICRS): (ra, dec) in deg\n",
      "    (21.70037, -8.66335)>\".\n",
      "ERROR:lightkurve.search:No data found for target \"<SkyCoord (ICRS): (ra, dec) in deg\n",
      "    (21.70037, -8.66335)>\".\n",
      " 10%|█         | 3/30 [00:08<01:14,  2.78s/it]"
     ]
    },
    {
     "name": "stdout",
     "output_type": "stream",
     "text": [
      "Loading:  IC59_exp.csv\n"
     ]
    },
    {
     "name": "stderr",
     "output_type": "stream",
     "text": [
      " 33%|███▎      | 2/6 [00:09<00:15,  3.98s/it]]"
     ]
    },
    {
     "name": "stdout",
     "output_type": "stream",
     "text": [
      "2 no matches\n"
     ]
    },
    {
     "name": "stderr",
     "output_type": "stream",
     "text": [
      " 30%|███       | 9/30 [00:10<00:24,  1.15s/it]"
     ]
    },
    {
     "name": "stdout",
     "output_type": "stream",
     "text": [
      "Loading:  IC79_exp.csv\n",
      "Scanning individual catalog files ...\n",
      "./166/1663p015/1663p015_w1_e000.cat.fits.gz\n",
      "Scanning individual catalog files ...\n",
      "./178/1782p318/1782p318_w1_e000.cat.fits.gz\n"
     ]
    },
    {
     "name": "stderr",
     "output_type": "stream",
     "text": [
      " 33%|███▎      | 10/30 [00:11<00:22,  1.14s/it]"
     ]
    },
    {
     "name": "stdout",
     "output_type": "stream",
     "text": [
      "Scanning individual catalog files ...\n",
      "./000/0000p000/0000p000_w1_e000.cat.fits.gz\n",
      "Scanning individual catalog files ...\n",
      "./232/2329p015/2329p015_w1_e000.cat.fits.gz\n",
      "./166/1663p015/1663p015_w2_e000.cat.fits.gz\n",
      "Scanning individual catalog files ...\n",
      "./137/1372p484/1372p484_w1_e000.cat.fits.gz\n",
      "3 no matches\n",
      "./178/1782p318/1782p318_w2_e000.cat.fits.gz\n",
      "./000/0000p000/0000p000_w2_e000.cat.fits.gz\n"
     ]
    },
    {
     "name": "stderr",
     "output_type": "stream",
     "text": [
      " 33%|███▎      | 2/6 [00:12<00:23,  5.84s/it]"
     ]
    },
    {
     "name": "stdout",
     "output_type": "stream",
     "text": [
      "./166/1663p015/1663p015_w1_e001.cat.fits.gz\n",
      "./232/2329p015/2329p015_w2_e000.cat.fits.gz\n",
      "./137/1372p484/1372p484_w2_e000.cat.fits.gz\n"
     ]
    },
    {
     "name": "stderr",
     "output_type": "stream",
     "text": [
      " 37%|███▋      | 11/30 [00:13<00:21,  1.15s/it]"
     ]
    },
    {
     "name": "stdout",
     "output_type": "stream",
     "text": [
      "./178/1782p318/1782p318_w1_e001.cat.fits.gz./000/0000p000/0000p000_w1_e001.cat.fits.gz\n",
      "\n",
      "./166/1663p015/1663p015_w2_e001.cat.fits.gz\n",
      "Loading:  "
     ]
    },
    {
     "name": "stderr",
     "output_type": "stream",
     "text": [
      " 17%|█▋        | 5/30 [00:13<01:06,  2.67s/it]"
     ]
    },
    {
     "name": "stdout",
     "output_type": "stream",
     "text": [
      "IC86_III_exp.csv\n",
      "./232/2329p015/2329p015_w1_e001.cat.fits.gz\n",
      "./000/0000p000/0000p000_w2_e001.cat.fits.gz\n",
      "./137/1372p484/1372p484_w1_e001.cat.fits.gz\n",
      "./178/1782p318/1782p318_w2_e001.cat.fits.gz\n",
      "./166/1663p015/1663p015_w1_e002.cat.fits.gz\n"
     ]
    },
    {
     "name": "stderr",
     "output_type": "stream",
     "text": [
      " 33%|███▎      | 2/6 [00:13<00:25,  6.39s/it]"
     ]
    },
    {
     "name": "stdout",
     "output_type": "stream",
     "text": [
      "./232/2329p015/2329p015_w2_e001.cat.fits.gz\n",
      "./000/0000p000/0000p000_w1_e002.cat.fits.gz\n",
      "./178/1782p318/1782p318_w1_e002.cat.fits.gz"
     ]
    },
    {
     "name": "stderr",
     "output_type": "stream",
     "text": [
      " 40%|████      | 12/30 [00:14<00:20,  1.15s/it]"
     ]
    },
    {
     "name": "stdout",
     "output_type": "stream",
     "text": [
      "\n",
      "./137/1372p484/1372p484_w2_e001.cat.fits.gz\n",
      "./166/1663p015/1663p015_w2_e002.cat.fits.gz\n",
      "./000/0000p000/0000p000_w2_e002.cat.fits.gz\n"
     ]
    },
    {
     "name": "stderr",
     "output_type": "stream",
     "text": [
      " 33%|███▎      | 2/6 [00:14<00:28,  7.06s/it]"
     ]
    },
    {
     "name": "stdout",
     "output_type": "stream",
     "text": [
      "./166/1663p015/1663p015_w1_e003.cat.fits.gz\n",
      "./178/1782p318/1782p318_w2_e002.cat.fits.gz\n",
      "./232/2329p015/2329p015_w1_e002.cat.fits.gz\n",
      "./137/1372p484/1372p484_w1_e002.cat.fits.gz\n",
      "./137/1372p484/1372p484_w2_e002.cat.fits.gz\n",
      "./137/1372p484/1372p484_w1_e003.cat.fits.gz\n",
      "./000/0000p000/0000p000_w1_e003.cat.fits.gz\n",
      "./166/1663p015/1663p015_w2_e003.cat.fits.gz\n",
      "./178/1782p318/1782p318_w1_e003.cat.fits.gz\n",
      "./232/2329p015/2329p015_w2_e002.cat.fits.gz\n",
      "4 no matches\n"
     ]
    },
    {
     "name": "stderr",
     "output_type": "stream",
     "text": [
      " 43%|████▎     | 13/30 [00:15<00:19,  1.14s/it]"
     ]
    },
    {
     "name": "stdout",
     "output_type": "stream",
     "text": [
      "./137/1372p484/1372p484_w2_e003.cat.fits.gz\n",
      "./000/0000p000/0000p000_w2_e003.cat.fits.gz\n"
     ]
    },
    {
     "name": "stderr",
     "output_type": "stream",
     "text": [
      "No data found for target \"<SkyCoord (ICRS): (ra, dec) in deg\n",
      "    (29.99, 0.55301)>\".\n",
      "ERROR:lightkurve.search:No data found for target \"<SkyCoord (ICRS): (ra, dec) in deg\n",
      "    (29.99, 0.55301)>\".\n",
      " 10%|█         | 3/30 [00:15<02:27,  5.48s/it]"
     ]
    },
    {
     "name": "stdout",
     "output_type": "stream",
     "text": [
      "./166/1663p015/1663p015_w1_e004.cat.fits.gz\n"
     ]
    },
    {
     "name": "stderr",
     "output_type": "stream",
     "text": [
      " 20%|██        | 6/30 [00:15<01:01,  2.56s/it]"
     ]
    },
    {
     "name": "stdout",
     "output_type": "stream",
     "text": [
      "./178/1782p318/1782p318_w2_e003.cat.fits.gz\n",
      "./232/2329p015/2329p015_w1_e003.cat.fits.gz\n",
      "./137/1372p484/1372p484_w1_e004.cat.fits.gz\n",
      "Loading:  IC86_II_exp.csv\n",
      "./000/0000p000/0000p000_w1_e004.cat.fits.gz\n",
      "./166/1663p015/1663p015_w2_e004.cat.fits.gz\n",
      "./178/1782p318/1782p318_w1_e004.cat.fits.gz\n",
      "./137/1372p484/1372p484_w2_e004.cat.fits.gz\n",
      "./232/2329p015/2329p015_w2_e003.cat.fits.gz\n",
      "./000/0000p000/0000p000_w2_e004.cat.fits.gz\n",
      "./166/1663p015/1663p015_w1_e005.cat.fits.gz\n"
     ]
    },
    {
     "name": "stderr",
     "output_type": "stream",
     "text": [
      " 47%|████▋     | 14/30 [00:16<00:18,  1.14s/it]"
     ]
    },
    {
     "name": "stdout",
     "output_type": "stream",
     "text": [
      "./178/1782p318/1782p318_w2_e004.cat.fits.gz\n",
      "./137/1372p484/1372p484_w1_e005.cat.fits.gz\n",
      "./166/1663p015/1663p015_w2_e005.cat.fits.gz\n",
      "./232/2329p015/2329p015_w1_e004.cat.fits.gz\n",
      "./000/0000p000/0000p000_w1_e005.cat.fits.gz\n",
      "./178/1782p318/1782p318_w1_e005.cat.fits.gz\n",
      "./166/1663p015/1663p015_w1_e006.cat.fits.gz\n",
      "./137/1372p484/1372p484_w2_e005.cat.fits.gz\n",
      "./000/0000p000/0000p000_w2_e005.cat.fits.gz\n",
      "./232/2329p015/2329p015_w2_e004.cat.fits.gz\n",
      "./178/1782p318/1782p318_w2_e005.cat.fits.gz\n"
     ]
    },
    {
     "name": "stderr",
     "output_type": "stream",
     "text": [
      " 50%|█████     | 15/30 [00:17<00:17,  1.14s/it]"
     ]
    },
    {
     "name": "stdout",
     "output_type": "stream",
     "text": [
      "./166/1663p015/1663p015_w2_e006.cat.fits.gz\n",
      "./137/1372p484/1372p484_w1_e006.cat.fits.gz\n",
      "./000/0000p000/0000p000_w1_e006.cat.fits.gz\n"
     ]
    },
    {
     "name": "stderr",
     "output_type": "stream",
     "text": [
      " 50%|█████     | 3/6 [00:17<00:17,  5.67s/it]"
     ]
    },
    {
     "name": "stdout",
     "output_type": "stream",
     "text": [
      "./232/2329p015/2329p015_w1_e005.cat.fits.gz\n"
     ]
    },
    {
     "name": "stderr",
     "output_type": "stream",
     "text": [
      " 23%|██▎       | 7/30 [00:17<00:57,  2.49s/it]"
     ]
    },
    {
     "name": "stdout",
     "output_type": "stream",
     "text": [
      "Loading:  IC86_IV_exp.csv\n",
      "./178/1782p318/1782p318_w1_e006.cat.fits.gz\n",
      "./166/1663p015/1663p015_w1_e007.cat.fits.gz\n",
      "./000/0000p000/0000p000_w2_e006.cat.fits.gz\n",
      "5 no matches\n",
      "./137/1372p484/1372p484_w2_e006.cat.fits.gz\n",
      "./232/2329p015/2329p015_w2_e005.cat.fits.gz\n",
      "./166/1663p015/1663p015_w2_e007.cat.fits.gz\n",
      "./178/1782p318/1782p318_w2_e006.cat.fits.gz\n",
      "./000/0000p000/0000p000_w1_e007.cat.fits.gz\n"
     ]
    },
    {
     "name": "stderr",
     "output_type": "stream",
     "text": [
      " 53%|█████▎    | 16/30 [00:18<00:15,  1.13s/it]"
     ]
    },
    {
     "name": "stdout",
     "output_type": "stream",
     "text": [
      "./137/1372p484/1372p484_w1_e007.cat.fits.gz\n"
     ]
    },
    {
     "name": "stderr",
     "output_type": "stream",
     "text": [
      " 50%|█████     | 3/6 [00:18<00:17,  5.91s/it]"
     ]
    },
    {
     "name": "stdout",
     "output_type": "stream",
     "text": [
      "./166/1663p015/1663p015_w1_e008.cat.fits.gz\n",
      "./232/2329p015/2329p015_w1_e006.cat.fits.gz\n",
      "./178/1782p318/1782p318_w1_e007.cat.fits.gz\n",
      "./000/0000p000/0000p000_w2_e007.cat.fits.gz\n",
      "./137/1372p484/1372p484_w2_e007.cat.fits.gz\n",
      "./166/1663p015/1663p015_w2_e008.cat.fits.gz\n",
      "./232/2329p015/2329p015_w2_e006.cat.fits.gz\n",
      "./178/1782p318/1782p318_w2_e007.cat.fits.gz\n",
      "./000/0000p000/0000p000_w1_e008.cat.fits.gz\n",
      "./137/1372p484/1372p484_w1_e008.cat.fits.gz\n",
      "./166/1663p015/1663p015_w1_e009.cat.fits.gz\n"
     ]
    },
    {
     "name": "stderr",
     "output_type": "stream",
     "text": [
      " 57%|█████▋    | 17/30 [00:19<00:14,  1.13s/it]"
     ]
    },
    {
     "name": "stdout",
     "output_type": "stream",
     "text": [
      "./178/1782p318/1782p318_w1_e008.cat.fits.gz\n",
      "./232/2329p015/2329p015_w1_e007.cat.fits.gz\n",
      "./000/0000p000/0000p000_w2_e008.cat.fits.gz\n",
      "./166/1663p015/1663p015_w2_e009.cat.fits.gz\n",
      "./137/1372p484/1372p484_w2_e008.cat.fits.gz\n"
     ]
    },
    {
     "name": "stderr",
     "output_type": "stream",
     "text": [
      " 27%|██▋       | 8/30 [00:20<00:54,  2.46s/it]"
     ]
    },
    {
     "name": "stdout",
     "output_type": "stream",
     "text": [
      "./178/1782p318/1782p318_w2_e008.cat.fits.gz\n",
      "./000/0000p000/0000p000_w1_e009.cat.fits.gz\n",
      "Loading:  IC86_I_exp.csv\n",
      "./232/2329p015/2329p015_w2_e007.cat.fits.gz\n",
      "./166/1663p015/1663p015_w1_e010.cat.fits.gz\n",
      "./000/0000p000/0000p000_w2_e009.cat.fits.gz\n"
     ]
    },
    {
     "name": "stderr",
     "output_type": "stream",
     "text": [
      " 50%|█████     | 3/6 [00:20<00:18,  6.29s/it]"
     ]
    },
    {
     "name": "stdout",
     "output_type": "stream",
     "text": [
      "./178/1782p318/1782p318_w1_e009.cat.fits.gz\n",
      "./137/1372p484/1372p484_w1_e009.cat.fits.gz\n"
     ]
    },
    {
     "name": "stderr",
     "output_type": "stream",
     "text": [
      " 60%|██████    | 18/30 [00:20<00:13,  1.13s/it]"
     ]
    },
    {
     "name": "stdout",
     "output_type": "stream",
     "text": [
      "6 no matches\n",
      "./232/2329p015/2329p015_w1_e008.cat.fits.gz\n",
      "./000/0000p000/0000p000_w1_e010.cat.fits.gz\n",
      "./166/1663p015/1663p015_w2_e010.cat.fits.gz\n",
      "./178/1782p318/1782p318_w2_e009.cat.fits.gz\n",
      "./137/1372p484/1372p484_w2_e009.cat.fits.gz\n"
     ]
    },
    {
     "name": "stderr",
     "output_type": "stream",
     "text": [
      " 50%|█████     | 3/6 [00:21<00:20,  6.99s/it]"
     ]
    },
    {
     "name": "stdout",
     "output_type": "stream",
     "text": [
      "./232/2329p015/2329p015_w2_e008.cat.fits.gz\n",
      "./166/1663p015/1663p015_w1_e011.cat.fits.gz\n",
      "./178/1782p318/1782p318_w1_e010.cat.fits.gz\n",
      "./137/1372p484/1372p484_w1_e010.cat.fits.gz\n",
      "./000/0000p000/0000p000_w2_e010.cat.fits.gz\n"
     ]
    },
    {
     "name": "stderr",
     "output_type": "stream",
     "text": [
      " 63%|██████▎   | 19/30 [00:22<00:12,  1.13s/it]"
     ]
    },
    {
     "name": "stdout",
     "output_type": "stream",
     "text": [
      "./232/2329p015/2329p015_w1_e009.cat.fits.gz\n",
      "./166/1663p015/1663p015_w2_e011.cat.fits.gz\n",
      "./178/1782p318/1782p318_w2_e010.cat.fits.gz\n",
      "./000/0000p000/0000p000_w1_e011.cat.fits.gz\n",
      "./137/1372p484/1372p484_w2_e010.cat.fits.gz\n",
      "./166/1663p015/1663p015_w1_e012.cat.fits.gz\n"
     ]
    },
    {
     "name": "stderr",
     "output_type": "stream",
     "text": [
      " 30%|███       | 9/30 [00:22<00:50,  2.42s/it]"
     ]
    },
    {
     "name": "stdout",
     "output_type": "stream",
     "text": [
      "./232/2329p015/2329p015_w2_e009.cat.fits.gz\n",
      "./178/1782p318/1782p318_w1_e011.cat.fits.gz\n",
      "./000/0000p000/0000p000_w2_e011.cat.fits.gz\n",
      "./166/1663p015/1663p015_w2_e012.cat.fits.gz\n",
      "./137/1372p484/1372p484_w1_e011.cat.fits.gz\n",
      "./178/1782p318/1782p318_w2_e011.cat.fits.gz\n",
      "./000/0000p000/0000p000_w1_e012.cat.fits.gz\n"
     ]
    },
    {
     "name": "stderr",
     "output_type": "stream",
     "text": [
      " 67%|██████▋   | 20/30 [00:23<00:11,  1.14s/it]"
     ]
    },
    {
     "name": "stdout",
     "output_type": "stream",
     "text": [
      "./232/2329p015/2329p015_w1_e010.cat.fits.gz\n",
      "./166/1663p015/1663p015_w1_e013.cat.fits.gz\n",
      "Loading:  IC86_VII_exp.csv\n",
      "./178/1782p318/1782p318_w1_e012.cat.fits.gz"
     ]
    },
    {
     "name": "stderr",
     "output_type": "stream",
     "text": [
      " 67%|██████▋   | 4/6 [00:23<00:11,  5.71s/it]"
     ]
    },
    {
     "name": "stdout",
     "output_type": "stream",
     "text": [
      "\n",
      "./000/0000p000/0000p000_w2_e012.cat.fits.gz\n",
      "./137/1372p484/1372p484_w2_e011.cat.fits.gz\n",
      "./232/2329p015/2329p015_w2_e010.cat.fits.gz\n",
      "./166/1663p015/1663p015_w2_e013.cat.fits.gz\n",
      "7 no matches\n",
      "./000/0000p000/0000p000_w1_e013.cat.fits.gz\n"
     ]
    },
    {
     "name": "stderr",
     "output_type": "stream",
     "text": [
      " 50%|█████     | 3/6 [00:24<00:21,  7.33s/it]"
     ]
    },
    {
     "name": "stdout",
     "output_type": "stream",
     "text": [
      "./178/1782p318/1782p318_w2_e012.cat.fits.gz\n",
      "./137/1372p484/1372p484_w1_e012.cat.fits.gz\n",
      "./166/1663p015/1663p015_w1_e014.cat.fits.gz\n"
     ]
    },
    {
     "name": "stderr",
     "output_type": "stream",
     "text": [
      " 70%|███████   | 21/30 [00:24<00:10,  1.15s/it]"
     ]
    },
    {
     "name": "stdout",
     "output_type": "stream",
     "text": [
      "./232/2329p015/2329p015_w1_e011.cat.fits.gz\n",
      "./000/0000p000/0000p000_w2_e013.cat.fits.gz\n",
      "./178/1782p318/1782p318_w1_e013.cat.fits.gz\n",
      "./137/1372p484/1372p484_w2_e012.cat.fits.gz\n",
      "./166/1663p015/1663p015_w2_e014.cat.fits.gz\n"
     ]
    },
    {
     "name": "stderr",
     "output_type": "stream",
     "text": [
      " 33%|███▎      | 10/30 [00:24<00:47,  2.40s/it]"
     ]
    },
    {
     "name": "stdout",
     "output_type": "stream",
     "text": [
      "./000/0000p000/0000p000_w1_e014.cat.fits.gz\n",
      "./178/1782p318/1782p318_w2_e013.cat.fits.gz\n",
      "./137/1372p484/1372p484_w1_e013.cat.fits.gz\n",
      "./232/2329p015/2329p015_w2_e011.cat.fits.gz\n",
      "./166/1663p015/1663p015_w1_e015.cat.fits.gz\n"
     ]
    },
    {
     "name": "stderr",
     "output_type": "stream",
     "text": [
      " 67%|██████▋   | 4/6 [00:25<00:12,  6.09s/it]"
     ]
    },
    {
     "name": "stdout",
     "output_type": "stream",
     "text": [
      "./000/0000p000/0000p000_w2_e014.cat.fits.gz\n"
     ]
    },
    {
     "name": "stderr",
     "output_type": "stream",
     "text": [
      " 73%|███████▎  | 22/30 [00:25<00:09,  1.15s/it]"
     ]
    },
    {
     "name": "stdout",
     "output_type": "stream",
     "text": [
      "./166/1663p015/1663p015_w2_e015.cat.fits.gz\n",
      "./137/1372p484/1372p484_w2_e013.cat.fits.gz./232/2329p015/2329p015_w1_e012.cat.fits.gz\n",
      "\n",
      "./178/1782p318/1782p318_w1_e014.cat.fits.gz\n",
      "./000/0000p000/0000p000_w1_e015.cat.fits.gz\n"
     ]
    },
    {
     "name": "stderr",
     "output_type": "stream",
     "text": [
      " 17%|█▋        | 1/6 [00:26<02:10, 26.08s/it]"
     ]
    },
    {
     "name": "stdout",
     "output_type": "stream",
     "text": [
      "./137/1372p484/1372p484_w1_e014.cat.fits.gz\n"
     ]
    },
    {
     "name": "stderr",
     "output_type": "stream",
     "text": [
      "No data found for target \"<SkyCoord (ICRS): (ra, dec) in deg\n",
      "    (120.94815, 42.97747)>\".\n",
      "ERROR:lightkurve.search:No data found for target \"<SkyCoord (ICRS): (ra, dec) in deg\n",
      "    (120.94815, 42.97747)>\".\n",
      " 13%|█▎        | 4/30 [00:26<03:03,  7.06s/it]"
     ]
    },
    {
     "name": "stdout",
     "output_type": "stream",
     "text": [
      "./178/1782p318/1782p318_w2_e014.cat.fits.gz\n",
      "./232/2329p015/2329p015_w2_e012.cat.fits.gz\n",
      "Loading:  IC86_VI_exp.csv\n",
      "./000/0000p000/0000p000_w2_e015.cat.fits.gz\n"
     ]
    },
    {
     "name": "stderr",
     "output_type": "stream",
     "text": [
      " 77%|███████▋  | 23/30 [00:26<00:07,  1.14s/it]"
     ]
    },
    {
     "name": "stdout",
     "output_type": "stream",
     "text": [
      "./232/2329p015/2329p015_w1_e013.cat.fits.gz./178/1782p318/1782p318_w1_e015.cat.fits.gz\n",
      "\n",
      "./137/1372p484/1372p484_w2_e014.cat.fits.gz\n",
      "./000/0000p000/0000p000_w1_e016.cat.fits.gz\n",
      "8 no matches\n",
      "./178/1782p318/1782p318_w2_e015.cat.fits.gz\n"
     ]
    },
    {
     "name": "stderr",
     "output_type": "stream",
     "text": [
      " 37%|███▋      | 11/30 [00:27<00:45,  2.39s/it]"
     ]
    },
    {
     "name": "stdout",
     "output_type": "stream",
     "text": [
      "./232/2329p015/2329p015_w2_e013.cat.fits.gz\n",
      "./137/1372p484/1372p484_w1_e015.cat.fits.gz\n",
      "./000/0000p000/0000p000_w2_e016.cat.fits.gz\n"
     ]
    },
    {
     "name": "stderr",
     "output_type": "stream",
     "text": [
      " 67%|██████▋   | 4/6 [00:27<00:12,  6.50s/it]t]"
     ]
    },
    {
     "name": "stdout",
     "output_type": "stream",
     "text": [
      "./137/1372p484/1372p484_w2_e015.cat.fits.gz\n",
      "./232/2329p015/2329p015_w1_e014.cat.fits.gz\n"
     ]
    },
    {
     "name": "stderr",
     "output_type": "stream",
     "text": [
      " 17%|█▋        | 1/6 [00:27<02:19, 27.87s/it]"
     ]
    },
    {
     "name": "stdout",
     "output_type": "stream",
     "text": [
      "Scanning catalog index file ...\n"
     ]
    },
    {
     "name": "stderr",
     "output_type": "stream",
     "text": [
      " 17%|█▋        | 1/6 [00:28<02:21, 28.36s/it]"
     ]
    },
    {
     "name": "stdout",
     "output_type": "stream",
     "text": [
      "./232/2329p015/2329p015_w2_e014.cat.fits.gz\n",
      "./232/2329p015/2329p015_w1_e015.cat.fits.gz\n",
      "Loading:  IC86_V_exp.csv\n"
     ]
    },
    {
     "name": "stderr",
     "output_type": "stream",
     "text": [
      " 83%|████████▎ | 25/30 [00:28<00:05,  1.14s/it]"
     ]
    },
    {
     "name": "stdout",
     "output_type": "stream",
     "text": [
      "Scanning catalog index file ..../232/2329p015/2329p015_w2_e015.cat.fits.gz\n",
      "\n",
      "Scanning catalog index file ...\n"
     ]
    },
    {
     "name": "stderr",
     "output_type": "stream",
     "text": [
      " 40%|████      | 12/30 [00:29<00:43,  2.44s/it]"
     ]
    },
    {
     "name": "stdout",
     "output_type": "stream",
     "text": [
      "9 no matches\n"
     ]
    },
    {
     "name": "stderr",
     "output_type": "stream",
     "text": [
      " 87%|████████▋ | 26/30 [00:30<00:04,  1.13s/it]"
     ]
    },
    {
     "name": "stdout",
     "output_type": "stream",
     "text": [
      "Scanning catalog index file ...\n"
     ]
    },
    {
     "name": "stderr",
     "output_type": "stream",
     "text": [
      " 90%|█████████ | 27/30 [00:31<00:03,  1.13s/it]"
     ]
    },
    {
     "name": "stdout",
     "output_type": "stream",
     "text": [
      "Scanning catalog index file ...\n",
      "done\n"
     ]
    },
    {
     "name": "stderr",
     "output_type": "stream",
     "text": [
      " 83%|████████▎ | 5/6 [00:32<00:06,  6.38s/it]t]No data found for target \"<SkyCoord (ICRS): (ra, dec) in deg\n",
      "    (127.88438, 36.77146)>\".\n",
      "ERROR:lightkurve.search:No data found for target \"<SkyCoord (ICRS): (ra, dec) in deg\n",
      "    (127.88438, 36.77146)>\".\n",
      "  7%|▋         | 2/30 [00:00<00:08,  3.47it/s]]"
     ]
    },
    {
     "name": "stdout",
     "output_type": "stream",
     "text": [
      "10 no matches\n"
     ]
    },
    {
     "name": "stderr",
     "output_type": "stream",
     "text": [
      "100%|██████████| 6/6 [00:34<00:00,  5.67s/it]]]\n"
     ]
    },
    {
     "name": "stdout",
     "output_type": "stream",
     "text": [
      "0  objects did not match to ztf\n",
      "Scanning individual catalog files ...\n",
      "./167/1678p000/1678p000_w1_e000.cat.fits.gz\n"
     ]
    },
    {
     "name": "stderr",
     "output_type": "stream",
     "text": [
      " 30%|███       | 9/30 [00:02<00:05,  4.03it/s]"
     ]
    },
    {
     "name": "stdout",
     "output_type": "stream",
     "text": [
      "./167/1678p000/1678p000_w2_e000.cat.fits.gz\n"
     ]
    },
    {
     "name": "stderr",
     "output_type": "stream",
     "text": [
      "100%|██████████| 30/30 [00:34<00:00,  1.16s/it]\n",
      " 40%|████      | 12/30 [00:03<00:04,  3.91it/s]"
     ]
    },
    {
     "name": "stdout",
     "output_type": "stream",
     "text": [
      "./167/1678p000/1678p000_w1_e001.cat.fits.gz\n"
     ]
    },
    {
     "name": "stderr",
     "output_type": "stream",
     "text": [
      " 43%|████▎     | 13/30 [00:03<00:04,  3.95it/s]"
     ]
    },
    {
     "name": "stdout",
     "output_type": "stream",
     "text": [
      "./167/1678p000/1678p000_w2_e001.cat.fits.gz\n"
     ]
    },
    {
     "name": "stderr",
     "output_type": "stream",
     "text": [
      " 47%|████▋     | 14/30 [00:03<00:04,  3.98it/s]"
     ]
    },
    {
     "name": "stdout",
     "output_type": "stream",
     "text": [
      "11 no matches\n",
      "Scanning individual catalog files ...\n",
      "./194/1940p545/1940p545_w1_e000.cat.fits.gz\n"
     ]
    },
    {
     "name": "stderr",
     "output_type": "stream",
     "text": [
      " 50%|█████     | 15/30 [00:03<00:03,  4.06it/s]"
     ]
    },
    {
     "name": "stdout",
     "output_type": "stream",
     "text": [
      "Scanning individual catalog files ...\n",
      "./021/0214m091/0214m091_w1_e000.cat.fits.gz\n"
     ]
    },
    {
     "name": "stderr",
     "output_type": "stream",
     "text": [
      " 53%|█████▎    | 16/30 [00:03<00:03,  4.12it/s]"
     ]
    },
    {
     "name": "stdout",
     "output_type": "stream",
     "text": [
      "./167/1678p000/1678p000_w1_e002.cat.fits.gz\n",
      "./167/1678p000/1678p000_w2_e002.cat.fits.gz\n",
      "./194/1940p545/1940p545_w2_e000.cat.fits.gz\n"
     ]
    },
    {
     "name": "stderr",
     "output_type": "stream",
     "text": [
      " 57%|█████▋    | 17/30 [00:04<00:03,  4.11it/s]"
     ]
    },
    {
     "name": "stdout",
     "output_type": "stream",
     "text": [
      "./167/1678p000/1678p000_w1_e003.cat.fits.gz\n",
      "./021/0214m091/0214m091_w2_e000.cat.fits.gz\n",
      "Scanning individual catalog files ..."
     ]
    },
    {
     "name": "stderr",
     "output_type": "stream",
     "text": [
      " 60%|██████    | 18/30 [00:04<00:02,  4.16it/s]"
     ]
    },
    {
     "name": "stdout",
     "output_type": "stream",
     "text": [
      "\n",
      "./145/1450p257/1450p257_w1_e000.cat.fits.gz\n"
     ]
    },
    {
     "name": "stderr",
     "output_type": "stream",
     "text": [
      " 63%|██████▎   | 19/30 [00:04<00:02,  4.20it/s]"
     ]
    },
    {
     "name": "stdout",
     "output_type": "stream",
     "text": [
      "./167/1678p000/1678p000_w2_e003.cat.fits.gz\n",
      "./194/1940p545/1940p545_w1_e001.cat.fits.gz\n"
     ]
    },
    {
     "name": "stderr",
     "output_type": "stream",
     "text": [
      " 67%|██████▋   | 20/30 [00:04<00:02,  4.21it/s]"
     ]
    },
    {
     "name": "stdout",
     "output_type": "stream",
     "text": [
      "./145/1450p257/1450p257_w2_e000.cat.fits.gz./021/0214m091/0214m091_w1_e001.cat.fits.gz\n",
      "\n",
      "./167/1678p000/1678p000_w1_e004.cat.fits.gz\n"
     ]
    },
    {
     "name": "stderr",
     "output_type": "stream",
     "text": [
      " 70%|███████   | 21/30 [00:05<00:02,  4.20it/s]"
     ]
    },
    {
     "name": "stdout",
     "output_type": "stream",
     "text": [
      "./194/1940p545/1940p545_w2_e001.cat.fits.gz\n",
      "./021/0214m091/0214m091_w2_e001.cat.fits.gz\n"
     ]
    },
    {
     "name": "stderr",
     "output_type": "stream",
     "text": [
      " 73%|███████▎  | 22/30 [00:05<00:01,  4.14it/s]"
     ]
    },
    {
     "name": "stdout",
     "output_type": "stream",
     "text": [
      "./145/1450p257/1450p257_w1_e001.cat.fits.gz\n",
      "./167/1678p000/1678p000_w2_e004.cat.fits.gz\n",
      "Scanning individual catalog files ...\n",
      "./236/2366p257/2366p257_w1_e000.cat.fits.gz\n"
     ]
    },
    {
     "name": "stderr",
     "output_type": "stream",
     "text": [
      " 77%|███████▋  | 23/30 [00:05<00:01,  4.17it/s]"
     ]
    },
    {
     "name": "stdout",
     "output_type": "stream",
     "text": [
      "./021/0214m091/0214m091_w1_e002.cat.fits.gz\n",
      "./194/1940p545/1940p545_w1_e002.cat.fits.gz\n"
     ]
    },
    {
     "name": "stderr",
     "output_type": "stream",
     "text": [
      " 80%|████████  | 24/30 [00:05<00:01,  4.19it/s]"
     ]
    },
    {
     "name": "stdout",
     "output_type": "stream",
     "text": [
      "./167/1678p000/1678p000_w1_e005.cat.fits.gz\n",
      "./145/1450p257/1450p257_w2_e001.cat.fits.gz\n"
     ]
    },
    {
     "name": "stderr",
     "output_type": "stream",
     "text": [
      " 83%|████████▎ | 25/30 [00:06<00:01,  4.14it/s]"
     ]
    },
    {
     "name": "stdout",
     "output_type": "stream",
     "text": [
      "./021/0214m091/0214m091_w2_e002.cat.fits.gz\n",
      "./236/2366p257/2366p257_w2_e000.cat.fits.gz\n",
      "./194/1940p545/1940p545_w2_e002.cat.fits.gz\n"
     ]
    },
    {
     "name": "stderr",
     "output_type": "stream",
     "text": [
      " 87%|████████▋ | 26/30 [00:06<00:00,  4.19it/s]"
     ]
    },
    {
     "name": "stdout",
     "output_type": "stream",
     "text": [
      "./167/1678p000/1678p000_w2_e005.cat.fits.gz\n",
      "./145/1450p257/1450p257_w1_e002.cat.fits.gz\n"
     ]
    },
    {
     "name": "stderr",
     "output_type": "stream",
     "text": [
      " 83%|████████▎ | 5/6 [00:38<00:07,  7.80s/it]"
     ]
    },
    {
     "name": "stdout",
     "output_type": "stream",
     "text": [
      "12 no matches\n",
      "./021/0214m091/0214m091_w1_e003.cat.fits.gz\n"
     ]
    },
    {
     "name": "stderr",
     "output_type": "stream",
     "text": [
      " 93%|█████████▎| 28/30 [00:06<00:00,  4.25it/s]"
     ]
    },
    {
     "name": "stdout",
     "output_type": "stream",
     "text": [
      "./194/1940p545/1940p545_w1_e003.cat.fits.gz\n"
     ]
    },
    {
     "name": "stderr",
     "output_type": "stream",
     "text": [
      "100%|██████████| 6/6 [00:39<00:00,  6.51s/it]\n"
     ]
    },
    {
     "name": "stdout",
     "output_type": "stream",
     "text": [
      "0  objects did not match to ztf\n",
      "./021/0214m091/0214m091_w2_e003.cat.fits.gz\n",
      "./167/1678p000/1678p000_w1_e006.cat.fits.gz\n",
      "./145/1450p257/1450p257_w2_e002.cat.fits.gz\n",
      "./236/2366p257/2366p257_w1_e001.cat.fits.gz\n"
     ]
    },
    {
     "name": "stderr",
     "output_type": "stream",
     "text": [
      "100%|██████████| 30/30 [00:07<00:00,  4.09it/s]\n",
      "  0%|          | 0/30 [00:00<?, ?it/s]"
     ]
    },
    {
     "name": "stdout",
     "output_type": "stream",
     "text": [
      "./194/1940p545/1940p545_w2_e003.cat.fits.gz\n",
      "./021/0214m091/0214m091_w1_e004.cat.fits.gz\n",
      "./167/1678p000/1678p000_w2_e006.cat.fits.gz\n"
     ]
    },
    {
     "name": "stderr",
     "output_type": "stream",
     "text": [
      " 30%|███       | 9/30 [00:00<00:00, 89.82it/s]"
     ]
    },
    {
     "name": "stdout",
     "output_type": "stream",
     "text": [
      "./145/1450p257/1450p257_w1_e003.cat.fits.gz\n"
     ]
    },
    {
     "name": "stderr",
     "output_type": "stream",
     "text": [
      "100%|██████████| 30/30 [00:00<00:00, 118.34it/s]\n"
     ]
    },
    {
     "name": "stdout",
     "output_type": "stream",
     "text": [
      "IceCube Matched and added to lightcurve object.\n"
     ]
    },
    {
     "name": "stderr",
     "output_type": "stream",
     "text": [
      " 83%|████████▎ | 5/6 [00:39<00:08,  8.37s/it]"
     ]
    },
    {
     "name": "stdout",
     "output_type": "stream",
     "text": [
      "./236/2366p257/2366p257_w2_e001.cat.fits.gz\n"
     ]
    },
    {
     "name": "stderr",
     "output_type": "stream",
     "text": [
      " 53%|█████▎    | 16/30 [00:39<00:34,  2.47s/it]"
     ]
    },
    {
     "name": "stdout",
     "output_type": "stream",
     "text": [
      "./194/1940p545/1940p545_w1_e004.cat.fits.gz\n",
      "./021/0214m091/0214m091_w2_e004.cat.fits.gz\n",
      "./167/1678p000/1678p000_w1_e007.cat.fits.gz\n",
      "./145/1450p257/1450p257_w2_e003.cat.fits.gz\n",
      "./021/0214m091/0214m091_w1_e005.cat.fits.gz\n",
      "./236/2366p257/2366p257_w1_e002.cat.fits.gz\n",
      "./167/1678p000/1678p000_w2_e007.cat.fits.gz\n",
      "./194/1940p545/1940p545_w2_e004.cat.fits.gz\n",
      "./145/1450p257/1450p257_w1_e004.cat.fits.gz\n",
      "./167/1678p000/1678p000_w1_e008.cat.fits.gz\n",
      "./236/2366p257/2366p257_w2_e002.cat.fits.gz\n",
      "./021/0214m091/0214m091_w2_e005.cat.fits.gz\n",
      "./145/1450p257/1450p257_w2_e004.cat.fits.gz\n",
      "./194/1940p545/1940p545_w1_e005.cat.fits.gz\n",
      "./167/1678p000/1678p000_w2_e008.cat.fits.gz\n",
      "./145/1450p257/1450p257_w1_e005.cat.fits.gz\n",
      "./021/0214m091/0214m091_w1_e006.cat.fits.gz\n",
      "./236/2366p257/2366p257_w1_e003.cat.fits.gz\n",
      "13 no matches\n",
      "./194/1940p545/1940p545_w2_e005.cat.fits.gz\n",
      "./167/1678p000/1678p000_w1_e009.cat.fits.gz\n",
      "./145/1450p257/1450p257_w2_e005.cat.fits.gz\n",
      "./021/0214m091/0214m091_w2_e006.cat.fits.gz\n",
      "./236/2366p257/2366p257_w2_e003.cat.fits.gz\n",
      "./167/1678p000/1678p000_w2_e009.cat.fits.gz\n",
      "./145/1450p257/1450p257_w1_e006.cat.fits.gz\n"
     ]
    },
    {
     "name": "stderr",
     "output_type": "stream",
     "text": [
      " 57%|█████▋    | 17/30 [00:42<00:31,  2.42s/it]"
     ]
    },
    {
     "name": "stdout",
     "output_type": "stream",
     "text": [
      "./194/1940p545/1940p545_w1_e006.cat.fits.gz\n",
      "./021/0214m091/0214m091_w1_e007.cat.fits.gz\n",
      "./236/2366p257/2366p257_w1_e004.cat.fits.gz\n"
     ]
    },
    {
     "name": "stderr",
     "output_type": "stream",
     "text": [
      "100%|██████████| 6/6 [00:42<00:00,  7.08s/it]\n"
     ]
    },
    {
     "name": "stdout",
     "output_type": "stream",
     "text": [
      "0  objects did not match to ztf\n",
      "./167/1678p000/1678p000_w1_e010.cat.fits.gz\n",
      "./021/0214m091/0214m091_w2_e007.cat.fits.gz./145/1450p257/1450p257_w2_e006.cat.fits.gz\n",
      "\n",
      "./194/1940p545/1940p545_w2_e006.cat.fits.gz\n"
     ]
    },
    {
     "name": "stderr",
     "output_type": "stream",
     "text": [
      " 83%|████████▎ | 5/6 [00:42<00:08,  8.65s/it]"
     ]
    },
    {
     "name": "stdout",
     "output_type": "stream",
     "text": [
      "./167/1678p000/1678p000_w2_e010.cat.fits.gz\n",
      "./236/2366p257/2366p257_w2_e004.cat.fits.gz\n",
      "./021/0214m091/0214m091_w1_e008.cat.fits.gz\n",
      "./145/1450p257/1450p257_w1_e007.cat.fits.gz\n",
      "./194/1940p545/1940p545_w1_e007.cat.fits.gz\n"
     ]
    },
    {
     "name": "stderr",
     "output_type": "stream",
     "text": [
      "No data found for target \"<SkyCoord (ICRS): (ra, dec) in deg\n",
      "    (132.49077, 27.79139)>\".\n",
      "ERROR:lightkurve.search:No data found for target \"<SkyCoord (ICRS): (ra, dec) in deg\n",
      "    (132.49077, 27.79139)>\".\n",
      " 20%|██        | 6/30 [00:43<03:12,  8.04s/it]"
     ]
    },
    {
     "name": "stdout",
     "output_type": "stream",
     "text": [
      "./167/1678p000/1678p000_w1_e011.cat.fits.gz\n",
      "./021/0214m091/0214m091_w2_e008.cat.fits.gz\n",
      "./236/2366p257/2366p257_w1_e005.cat.fits.gz\n",
      "./145/1450p257/1450p257_w2_e007.cat.fits.gz\n",
      "./194/1940p545/1940p545_w2_e007.cat.fits.gz\n"
     ]
    },
    {
     "name": "stderr",
     "output_type": "stream",
     "text": [
      "100%|██████████| 6/6 [00:43<00:00,  7.29s/it]\n"
     ]
    },
    {
     "name": "stdout",
     "output_type": "stream",
     "text": [
      "0  objects did not match to ztf\n",
      "./021/0214m091/0214m091_w1_e009.cat.fits.gz\n",
      "./167/1678p000/1678p000_w2_e011.cat.fits.gz\n",
      "./145/1450p257/1450p257_w1_e008.cat.fits.gz\n",
      "./236/2366p257/2366p257_w2_e005.cat.fits.gz\n",
      "./194/1940p545/1940p545_w1_e008.cat.fits.gz\n",
      "./021/0214m091/0214m091_w2_e009.cat.fits.gz\n",
      "./167/1678p000/1678p000_w1_e012.cat.fits.gz\n",
      "./145/1450p257/1450p257_w2_e008.cat.fits.gz\n"
     ]
    },
    {
     "name": "stderr",
     "output_type": "stream",
     "text": [
      " 60%|██████    | 18/30 [00:44<00:28,  2.40s/it]"
     ]
    },
    {
     "name": "stdout",
     "output_type": "stream",
     "text": [
      "./236/2366p257/2366p257_w1_e006.cat.fits.gz\n",
      "14 no matches\n",
      "./021/0214m091/0214m091_w1_e010.cat.fits.gz\n",
      "./194/1940p545/1940p545_w2_e008.cat.fits.gz\n",
      "./167/1678p000/1678p000_w2_e012.cat.fits.gz\n",
      "./145/1450p257/1450p257_w1_e009.cat.fits.gz\n",
      "./236/2366p257/2366p257_w2_e006.cat.fits.gz\n",
      "./167/1678p000/1678p000_w1_e013.cat.fits.gz\n",
      "./021/0214m091/0214m091_w2_e010.cat.fits.gz\n",
      "./194/1940p545/1940p545_w1_e009.cat.fits.gz\n",
      "./145/1450p257/1450p257_w2_e009.cat.fits.gz\n",
      "./021/0214m091/0214m091_w1_e011.cat.fits.gz\n",
      "./167/1678p000/1678p000_w2_e013.cat.fits.gz\n",
      "./236/2366p257/2366p257_w1_e007.cat.fits.gz\n",
      "./145/1450p257/1450p257_w1_e010.cat.fits.gz\n",
      "./194/1940p545/1940p545_w2_e009.cat.fits.gz\n",
      "./021/0214m091/0214m091_w2_e011.cat.fits.gz\n",
      "./167/1678p000/1678p000_w1_e014.cat.fits.gz\n",
      "./145/1450p257/1450p257_w2_e010.cat.fits.gz\n",
      "./236/2366p257/2366p257_w2_e007.cat.fits.gz\n",
      "./194/1940p545/1940p545_w1_e010.cat.fits.gz\n",
      "./021/0214m091/0214m091_w1_e012.cat.fits.gz\n",
      "./167/1678p000/1678p000_w2_e014.cat.fits.gz\n",
      "./145/1450p257/1450p257_w1_e011.cat.fits.gz\n",
      "./236/2366p257/2366p257_w1_e008.cat.fits.gz\n",
      "./194/1940p545/1940p545_w2_e010.cat.fits.gz\n",
      "./167/1678p000/1678p000_w1_e015.cat.fits.gz\n",
      "./021/0214m091/0214m091_w2_e012.cat.fits.gz\n",
      "./145/1450p257/1450p257_w2_e011.cat.fits.gz"
     ]
    },
    {
     "name": "stderr",
     "output_type": "stream",
     "text": [
      " 63%|██████▎   | 19/30 [00:46<00:26,  2.40s/it]"
     ]
    },
    {
     "name": "stdout",
     "output_type": "stream",
     "text": [
      "\n",
      "./167/1678p000/1678p000_w2_e015.cat.fits.gz./021/0214m091/0214m091_w1_e013.cat.fits.gz\n",
      "\n",
      "./194/1940p545/1940p545_w1_e011.cat.fits.gz\n",
      "./236/2366p257/2366p257_w2_e008.cat.fits.gz\n",
      "./145/1450p257/1450p257_w1_e012.cat.fits.gz\n",
      "./021/0214m091/0214m091_w2_e013.cat.fits.gz\n",
      "15 no matches\n",
      "./167/1678p000/1678p000_w1_e016.cat.fits.gz\n",
      "./194/1940p545/1940p545_w2_e011.cat.fits.gz\n",
      "./236/2366p257/2366p257_w1_e009.cat.fits.gz\n",
      "./145/1450p257/1450p257_w2_e012.cat.fits.gz\n",
      "./021/0214m091/0214m091_w1_e014.cat.fits.gz\n",
      "./167/1678p000/1678p000_w2_e016.cat.fits.gz\n",
      "./194/1940p545/1940p545_w1_e012.cat.fits.gz\n",
      "./145/1450p257/1450p257_w1_e013.cat.fits.gz\n",
      "./236/2366p257/2366p257_w2_e009.cat.fits.gz\n",
      "./021/0214m091/0214m091_w2_e014.cat.fits.gz\n"
     ]
    },
    {
     "name": "stderr",
     "output_type": "stream",
     "text": [
      " 33%|███▎      | 2/6 [00:48<01:39, 24.95s/it]"
     ]
    },
    {
     "name": "stdout",
     "output_type": "stream",
     "text": [
      "./145/1450p257/1450p257_w2_e013.cat.fits.gz\n",
      "./194/1940p545/1940p545_w2_e012.cat.fits.gz\n",
      "./236/2366p257/2366p257_w1_e010.cat.fits.gz\n",
      "./021/0214m091/0214m091_w1_e015.cat.fits.gz\n",
      "./145/1450p257/1450p257_w1_e014.cat.fits.gz\n",
      "./194/1940p545/1940p545_w1_e013.cat.fits.gz\n",
      "./021/0214m091/0214m091_w2_e015.cat.fits.gz\n"
     ]
    },
    {
     "name": "stderr",
     "output_type": "stream",
     "text": [
      "100%|██████████| 6/6 [00:49<00:00,  8.20s/it]\n"
     ]
    },
    {
     "name": "stdout",
     "output_type": "stream",
     "text": [
      "0  objects did not match to ztf\n"
     ]
    },
    {
     "name": "stderr",
     "output_type": "stream",
     "text": [
      " 67%|██████▋   | 20/30 [00:49<00:23,  2.37s/it]"
     ]
    },
    {
     "name": "stdout",
     "output_type": "stream",
     "text": [
      "./236/2366p257/2366p257_w2_e010.cat.fits.gz\n",
      "./145/1450p257/1450p257_w2_e014.cat.fits.gz\n"
     ]
    },
    {
     "name": "stderr",
     "output_type": "stream",
     "text": [
      " 33%|███▎      | 2/6 [00:49<01:44, 26.04s/it]"
     ]
    },
    {
     "name": "stdout",
     "output_type": "stream",
     "text": [
      "./194/1940p545/1940p545_w2_e013.cat.fits.gz\n",
      "./236/2366p257/2366p257_w1_e011.cat.fits.gz\n",
      "./145/1450p257/1450p257_w1_e015.cat.fits.gz\n",
      "Scanning catalog index file ...\n"
     ]
    },
    {
     "name": "stderr",
     "output_type": "stream",
     "text": [
      "No data found for target \"<SkyCoord (ICRS): (ra, dec) in deg\n",
      "    (137.38346, 47.79186)>\".\n",
      "ERROR:lightkurve.search:No data found for target \"<SkyCoord (ICRS): (ra, dec) in deg\n",
      "    (137.38346, 47.79186)>\".\n",
      " 23%|██▎       | 7/30 [00:50<02:56,  7.65s/it]"
     ]
    },
    {
     "name": "stdout",
     "output_type": "stream",
     "text": [
      "./194/1940p545/1940p545_w1_e014.cat.fits.gz\n",
      "./145/1450p257/1450p257_w2_e015.cat.fits.gz\n",
      "./236/2366p257/2366p257_w2_e011.cat.fits.gz\n",
      "16 no matches\n"
     ]
    },
    {
     "name": "stderr",
     "output_type": "stream",
     "text": [
      " 33%|███▎      | 2/6 [00:50<01:46, 26.54s/it]"
     ]
    },
    {
     "name": "stdout",
     "output_type": "stream",
     "text": [
      "./194/1940p545/1940p545_w2_e014.cat.fits.gz\n",
      "./236/2366p257/2366p257_w1_e012.cat.fits.gz\n",
      "./194/1940p545/1940p545_w1_e015.cat.fits.gz\n",
      "Scanning catalog index file ...\n",
      "./236/2366p257/2366p257_w2_e012.cat.fits.gz\n"
     ]
    },
    {
     "name": "stderr",
     "output_type": "stream",
     "text": [
      " 70%|███████   | 21/30 [00:51<00:21,  2.35s/it]"
     ]
    },
    {
     "name": "stdout",
     "output_type": "stream",
     "text": [
      "./194/1940p545/1940p545_w2_e015.cat.fits.gz\n",
      "./236/2366p257/2366p257_w1_e013.cat.fits.gz\n"
     ]
    },
    {
     "name": "stderr",
     "output_type": "stream",
     "text": [
      " 33%|███▎      | 2/6 [00:52<01:47, 26.76s/it]"
     ]
    },
    {
     "name": "stdout",
     "output_type": "stream",
     "text": [
      "Scanning catalog index file ...\n",
      "./236/2366p257/2366p257_w2_e013.cat.fits.gz\n",
      "./236/2366p257/2366p257_w1_e014.cat.fits.gz\n",
      "./236/2366p257/2366p257_w2_e014.cat.fits.gz\n",
      "17 no matches\n",
      "Scanning catalog index file ...\n",
      "./236/2366p257/2366p257_w1_e015.cat.fits.gz\n",
      "./236/2366p257/2366p257_w2_e015.cat.fits.gz\n"
     ]
    },
    {
     "name": "stderr",
     "output_type": "stream",
     "text": [
      " 33%|███▎      | 2/6 [00:54<01:53, 28.41s/it]t]"
     ]
    },
    {
     "name": "stdout",
     "output_type": "stream",
     "text": [
      "Scanning individual catalog files ...\n",
      "./168/1686p060/1686p060_w1_e000.cat.fits.gz\n",
      "Scanning catalog index file ...\n",
      "18 no matches\n",
      "./168/1686p060/1686p060_w2_e000.cat.fits.gz\n",
      "./168/1686p060/1686p060_w1_e001.cat.fits.gz\n",
      "Scanning individual catalog files ...\n",
      "./030/0302p000/0302p000_w1_e000.cat.fits.gz\n",
      "./168/1686p060/1686p060_w2_e001.cat.fits.gz\n"
     ]
    },
    {
     "name": "stderr",
     "output_type": "stream",
     "text": [
      " 77%|███████▋  | 23/30 [00:57<00:19,  2.78s/it]"
     ]
    },
    {
     "name": "stdout",
     "output_type": "stream",
     "text": [
      "./030/0302p000/0302p000_w2_e000.cat.fits.gz\n",
      "./168/1686p060/1686p060_w1_e002.cat.fits.gz\n",
      "./030/0302p000/0302p000_w1_e001.cat.fits.gz\n",
      "./168/1686p060/1686p060_w2_e002.cat.fits.gz\n",
      "Scanning individual catalog files ...\n",
      "./144/1447p318/1447p318_w1_e000.cat.fits.gz\n",
      "./030/0302p000/0302p000_w2_e001.cat.fits.gz\n",
      "./168/1686p060/1686p060_w1_e003.cat.fits.gz\n",
      "./144/1447p318/1447p318_w2_e000.cat.fits.gz\n",
      "./030/0302p000/0302p000_w1_e002.cat.fits.gz\n",
      "19 no matches\n",
      "./168/1686p060/1686p060_w2_e003.cat.fits.gz\n",
      "./144/1447p318/1447p318_w1_e001.cat.fits.gz\n",
      "./030/0302p000/0302p000_w2_e002.cat.fits.gz\n",
      "./168/1686p060/1686p060_w1_e004.cat.fits.gz\n",
      "Scanning individual catalog files ...\n",
      "./201/2017p681/2017p681_w1_e000.cat.fits.gz\n",
      "./144/1447p318/1447p318_w2_e001.cat.fits.gz\n"
     ]
    },
    {
     "name": "stderr",
     "output_type": "stream",
     "text": [
      " 80%|████████  | 24/30 [01:00<00:15,  2.64s/it]"
     ]
    },
    {
     "name": "stdout",
     "output_type": "stream",
     "text": [
      "./030/0302p000/0302p000_w1_e003.cat.fits.gz\n",
      "./168/1686p060/1686p060_w2_e004.cat.fits.gz\n",
      "./201/2017p681/2017p681_w2_e000.cat.fits.gz\n",
      "./144/1447p318/1447p318_w1_e002.cat.fits.gz\n",
      "./030/0302p000/0302p000_w2_e003.cat.fits.gz\n",
      "./168/1686p060/1686p060_w1_e005.cat.fits.gz\n",
      "./144/1447p318/1447p318_w2_e002.cat.fits.gz\n",
      "./030/0302p000/0302p000_w1_e004.cat.fits.gz\n",
      "./168/1686p060/1686p060_w2_e005.cat.fits.gz\n",
      "./201/2017p681/2017p681_w1_e001.cat.fits.gz\n",
      "./030/0302p000/0302p000_w2_e004.cat.fits.gz\n",
      "./144/1447p318/1447p318_w1_e003.cat.fits.gz\n",
      "./168/1686p060/1686p060_w1_e006.cat.fits.gz\n",
      "./201/2017p681/2017p681_w2_e001.cat.fits.gz\n",
      "./030/0302p000/0302p000_w1_e005.cat.fits.gz\n",
      "./144/1447p318/1447p318_w2_e003.cat.fits.gz\n",
      "./168/1686p060/1686p060_w2_e006.cat.fits.gz\n",
      "./030/0302p000/0302p000_w2_e005.cat.fits.gz\n",
      "./144/1447p318/1447p318_w1_e004.cat.fits.gz\n",
      "./201/2017p681/2017p681_w1_e002.cat.fits.gz\n",
      "20 no matches\n",
      "./168/1686p060/1686p060_w1_e007.cat.fits.gz\n"
     ]
    },
    {
     "name": "stderr",
     "output_type": "stream",
     "text": [
      " 83%|████████▎ | 25/30 [01:02<00:12,  2.55s/it]"
     ]
    },
    {
     "name": "stdout",
     "output_type": "stream",
     "text": [
      "./030/0302p000/0302p000_w1_e006.cat.fits.gz\n",
      "./144/1447p318/1447p318_w2_e004.cat.fits.gz\n"
     ]
    },
    {
     "name": "stderr",
     "output_type": "stream",
     "text": [
      "No data found for target \"<SkyCoord (ICRS): (ra, dec) in deg\n",
      "    (144.37635, 26.04226)>\".\n",
      "ERROR:lightkurve.search:No data found for target \"<SkyCoord (ICRS): (ra, dec) in deg\n",
      "    (144.37635, 26.04226)>\".\n",
      " 27%|██▋       | 8/30 [01:02<03:21,  9.18s/it]"
     ]
    },
    {
     "name": "stdout",
     "output_type": "stream",
     "text": [
      "./168/1686p060/1686p060_w2_e007.cat.fits.gz\n",
      "Scanning individual catalog files ...\n",
      "./237/2373p408/2373p408_w1_e000.cat.fits.gz\n",
      "./201/2017p681/2017p681_w2_e002.cat.fits.gz\n",
      "./030/0302p000/0302p000_w2_e006.cat.fits.gz\n",
      "./144/1447p318/1447p318_w1_e005.cat.fits.gz\n",
      "./168/1686p060/1686p060_w1_e008.cat.fits.gz\n",
      "./237/2373p408/2373p408_w2_e000.cat.fits.gz\n",
      "./201/2017p681/2017p681_w1_e003.cat.fits.gz\n",
      "./030/0302p000/0302p000_w1_e007.cat.fits.gz\n",
      "./168/1686p060/1686p060_w2_e008.cat.fits.gz\n",
      "./144/1447p318/1447p318_w2_e005.cat.fits.gz\n",
      "./030/0302p000/0302p000_w2_e007.cat.fits.gz\n",
      "./237/2373p408/2373p408_w1_e001.cat.fits.gz\n",
      "./168/1686p060/1686p060_w1_e009.cat.fits.gz\n",
      "./144/1447p318/1447p318_w1_e006.cat.fits.gz\n",
      "./201/2017p681/2017p681_w2_e003.cat.fits.gz\n",
      "./030/0302p000/0302p000_w1_e008.cat.fits.gz\n",
      "./168/1686p060/1686p060_w2_e009.cat.fits.gz\n",
      "./144/1447p318/1447p318_w2_e006.cat.fits.gz\n",
      "./201/2017p681/2017p681_w1_e004.cat.fits.gz\n",
      "./237/2373p408/2373p408_w2_e001.cat.fits.gz\n",
      "./030/0302p000/0302p000_w2_e008.cat.fits.gz\n"
     ]
    },
    {
     "name": "stderr",
     "output_type": "stream",
     "text": [
      " 87%|████████▋ | 26/30 [01:04<00:09,  2.48s/it]"
     ]
    },
    {
     "name": "stdout",
     "output_type": "stream",
     "text": [
      "./168/1686p060/1686p060_w1_e010.cat.fits.gz\n",
      "./144/1447p318/1447p318_w1_e007.cat.fits.gz\n",
      "./030/0302p000/0302p000_w1_e009.cat.fits.gz\n",
      "./201/2017p681/2017p681_w2_e004.cat.fits.gz\n",
      "./168/1686p060/1686p060_w2_e010.cat.fits.gz\n",
      "21 no matches\n",
      "./237/2373p408/2373p408_w1_e002.cat.fits.gz\n",
      "./144/1447p318/1447p318_w2_e007.cat.fits.gz\n",
      "./030/0302p000/0302p000_w2_e009.cat.fits.gz\n",
      "./168/1686p060/1686p060_w1_e011.cat.fits.gz\n",
      "./201/2017p681/2017p681_w1_e005.cat.fits.gz\n",
      "./237/2373p408/2373p408_w2_e002.cat.fits.gz\n",
      "./144/1447p318/1447p318_w1_e008.cat.fits.gz\n",
      "./030/0302p000/0302p000_w1_e010.cat.fits.gz\n",
      "./168/1686p060/1686p060_w2_e011.cat.fits.gz\n",
      "./201/2017p681/2017p681_w2_e005.cat.fits.gz\n",
      "./144/1447p318/1447p318_w2_e008.cat.fits.gz\n",
      "./030/0302p000/0302p000_w2_e010.cat.fits.gz\n",
      "./168/1686p060/1686p060_w1_e012.cat.fits.gz\n",
      "./237/2373p408/2373p408_w1_e003.cat.fits.gz\n",
      "./144/1447p318/1447p318_w1_e009.cat.fits.gz\n",
      "./030/0302p000/0302p000_w1_e011.cat.fits.gz\n",
      "./168/1686p060/1686p060_w2_e012.cat.fits.gz\n",
      "./201/2017p681/2017p681_w1_e006.cat.fits.gz\n",
      "./237/2373p408/2373p408_w2_e003.cat.fits.gz\n"
     ]
    },
    {
     "name": "stderr",
     "output_type": "stream",
     "text": [
      " 90%|█████████ | 27/30 [01:07<00:07,  2.43s/it]"
     ]
    },
    {
     "name": "stdout",
     "output_type": "stream",
     "text": [
      "./144/1447p318/1447p318_w2_e009.cat.fits.gz\n",
      "./030/0302p000/0302p000_w2_e011.cat.fits.gz\n",
      "./168/1686p060/1686p060_w1_e013.cat.fits.gz\n",
      "./201/2017p681/2017p681_w2_e006.cat.fits.gz\n",
      "./237/2373p408/2373p408_w1_e004.cat.fits.gz\n",
      "./144/1447p318/1447p318_w1_e010.cat.fits.gz\n",
      "./168/1686p060/1686p060_w2_e013.cat.fits.gz\n",
      "./030/0302p000/0302p000_w1_e012.cat.fits.gz\n"
     ]
    },
    {
     "name": "stderr",
     "output_type": "stream",
     "text": [
      "No data found for target \"<SkyCoord (ICRS): (ra, dec) in deg\n",
      "    (144.39777, 32.5472)>\".\n",
      "ERROR:lightkurve.search:No data found for target \"<SkyCoord (ICRS): (ra, dec) in deg\n",
      "    (144.39777, 32.5472)>\".\n",
      " 30%|███       | 9/30 [01:07<02:46,  7.94s/it]"
     ]
    },
    {
     "name": "stdout",
     "output_type": "stream",
     "text": [
      "./201/2017p681/2017p681_w1_e007.cat.fits.gz\n",
      "./144/1447p318/1447p318_w2_e010.cat.fits.gz\n",
      "./168/1686p060/1686p060_w1_e014.cat.fits.gz\n",
      "./030/0302p000/0302p000_w2_e012.cat.fits.gz\n",
      "./237/2373p408/2373p408_w2_e004.cat.fits.gz\n",
      "22 no matches\n",
      "./030/0302p000/0302p000_w1_e013.cat.fits.gz\n",
      "./168/1686p060/1686p060_w2_e014.cat.fits.gz\n",
      "./144/1447p318/1447p318_w1_e011.cat.fits.gz\n",
      "./201/2017p681/2017p681_w2_e007.cat.fits.gz\n",
      "./237/2373p408/2373p408_w1_e005.cat.fits.gz\n",
      "./168/1686p060/1686p060_w1_e015.cat.fits.gz\n",
      "./030/0302p000/0302p000_w2_e013.cat.fits.gz\n",
      "./144/1447p318/1447p318_w2_e011.cat.fits.gz\n",
      "./201/2017p681/2017p681_w1_e008.cat.fits.gz\n",
      "./237/2373p408/2373p408_w2_e005.cat.fits.gz\n",
      "./030/0302p000/0302p000_w1_e014.cat.fits.gz\n",
      "./168/1686p060/1686p060_w2_e015.cat.fits.gz\n",
      "./144/1447p318/1447p318_w1_e012.cat.fits.gz\n"
     ]
    },
    {
     "name": "stderr",
     "output_type": "stream",
     "text": [
      " 93%|█████████▎| 28/30 [01:09<00:04,  2.41s/it]"
     ]
    },
    {
     "name": "stdout",
     "output_type": "stream",
     "text": [
      "./237/2373p408/2373p408_w1_e006.cat.fits.gz./030/0302p000/0302p000_w2_e014.cat.fits.gz\n",
      "\n"
     ]
    },
    {
     "name": "stderr",
     "output_type": "stream",
     "text": [
      " 50%|█████     | 3/6 [01:09<01:11, 23.85s/it]"
     ]
    },
    {
     "name": "stdout",
     "output_type": "stream",
     "text": [
      "./201/2017p681/2017p681_w2_e008.cat.fits.gz\n",
      "./144/1447p318/1447p318_w2_e012.cat.fits.gz\n",
      "./030/0302p000/0302p000_w1_e015.cat.fits.gz\n",
      "./201/2017p681/2017p681_w1_e009.cat.fits.gz\n",
      "./237/2373p408/2373p408_w2_e006.cat.fits.gz\n",
      "./144/1447p318/1447p318_w1_e013.cat.fits.gz\n",
      "./030/0302p000/0302p000_w2_e015.cat.fits.gz\n",
      "./144/1447p318/1447p318_w2_e013.cat.fits.gz\n",
      "./201/2017p681/2017p681_w2_e009.cat.fits.gz\n",
      "./237/2373p408/2373p408_w1_e007.cat.fits.gz\n",
      "./030/0302p000/0302p000_w1_e016.cat.fits.gz\n",
      "23 no matches\n",
      "./144/1447p318/1447p318_w1_e014.cat.fits.gz\n",
      "Scanning catalog index file ...\n",
      "./030/0302p000/0302p000_w2_e016.cat.fits.gz\n",
      "./201/2017p681/2017p681_w1_e010.cat.fits.gz\n"
     ]
    },
    {
     "name": "stderr",
     "output_type": "stream",
     "text": [
      "No data found for target \"<SkyCoord (ICRS): (ra, dec) in deg\n",
      "    (150.84777, 35.41774)>\".\n",
      "ERROR:lightkurve.search:No data found for target \"<SkyCoord (ICRS): (ra, dec) in deg\n",
      "    (150.84777, 35.41774)>\".\n",
      " 33%|███▎      | 10/30 [01:11<02:12,  6.63s/it]"
     ]
    },
    {
     "name": "stdout",
     "output_type": "stream",
     "text": [
      "./237/2373p408/2373p408_w2_e007.cat.fits.gz\n",
      "./144/1447p318/1447p318_w2_e014.cat.fits.gz\n"
     ]
    },
    {
     "name": "stderr",
     "output_type": "stream",
     "text": [
      " 97%|█████████▋| 29/30 [01:11<00:02,  2.43s/it]"
     ]
    },
    {
     "name": "stdout",
     "output_type": "stream",
     "text": [
      "./237/2373p408/2373p408_w1_e008.cat.fits.gz\n",
      "./201/2017p681/2017p681_w2_e010.cat.fits.gz\n",
      "./144/1447p318/1447p318_w1_e015.cat.fits.gz\n",
      "./237/2373p408/2373p408_w2_e008.cat.fits.gz\n",
      "./144/1447p318/1447p318_w2_e015.cat.fits.gz\n",
      "./201/2017p681/2017p681_w1_e011.cat.fits.gz\n"
     ]
    },
    {
     "name": "stderr",
     "output_type": "stream",
     "text": [
      " 50%|█████     | 3/6 [01:13<01:15, 25.32s/it]"
     ]
    },
    {
     "name": "stdout",
     "output_type": "stream",
     "text": [
      "./237/2373p408/2373p408_w1_e009.cat.fits.gz\n",
      "./201/2017p681/2017p681_w2_e011.cat.fits.gz\n",
      "Scanning catalog index file ...\n",
      "./237/2373p408/2373p408_w2_e009.cat.fits.gz\n",
      "./201/2017p681/2017p681_w1_e012.cat.fits.gz\n",
      "24 no matches\n",
      "./237/2373p408/2373p408_w1_e010.cat.fits.gz\n"
     ]
    },
    {
     "name": "stderr",
     "output_type": "stream",
     "text": [
      "100%|██████████| 30/30 [01:14<00:00,  2.48s/it]\n"
     ]
    },
    {
     "name": "stdout",
     "output_type": "stream",
     "text": [
      "\n",
      "Search completed in 74.43 seconds\n",
      "Number of objects mached: 27 out of 30.\n",
      "./201/2017p681/2017p681_w2_e012.cat.fits.gz\n",
      "Scanning catalog index file ...\n",
      "./237/2373p408/2373p408_w2_e010.cat.fits.gz\n",
      "./201/2017p681/2017p681_w1_e013.cat.fits.gz\n",
      "./237/2373p408/2373p408_w1_e011.cat.fits.gz\n",
      "./201/2017p681/2017p681_w2_e013.cat.fits.gz\n",
      "./237/2373p408/2373p408_w2_e011.cat.fits.gz\n",
      "./201/2017p681/2017p681_w1_e014.cat.fits.gz\n",
      "./237/2373p408/2373p408_w1_e012.cat.fits.gz\n",
      "./201/2017p681/2017p681_w2_e014.cat.fits.gz\n",
      "25 no matches\n",
      "./237/2373p408/2373p408_w2_e012.cat.fits.gz\n",
      "./201/2017p681/2017p681_w1_e015.cat.fits.gz\n",
      "./237/2373p408/2373p408_w1_e013.cat.fits.gz\n",
      "Scanning individual catalog files ...\n",
      "./169/1694p318/1694p318_w1_e000.cat.fits.gz\n",
      "./201/2017p681/2017p681_w2_e015.cat.fits.gz\n",
      "./169/1694p318/1694p318_w2_e000.cat.fits.gz\n",
      "./237/2373p408/2373p408_w2_e013.cat.fits.gz\n"
     ]
    },
    {
     "name": "stderr",
     "output_type": "stream",
     "text": [
      " 50%|█████     | 3/6 [01:18<01:19, 26.65s/it]No data found for target \"<SkyCoord (ICRS): (ra, dec) in deg\n",
      "    (152.97077, 54.7018)>\".\n",
      "ERROR:lightkurve.search:No data found for target \"<SkyCoord (ICRS): (ra, dec) in deg\n",
      "    (152.97077, 54.7018)>\".\n",
      " 37%|███▋      | 11/30 [01:18<02:09,  6.80s/it]"
     ]
    },
    {
     "name": "stdout",
     "output_type": "stream",
     "text": [
      "./169/1694p318/1694p318_w1_e001.cat.fits.gz\n",
      "./237/2373p408/2373p408_w1_e014.cat.fits.gz\n",
      "./169/1694p318/1694p318_w2_e001.cat.fits.gz\n",
      "./237/2373p408/2373p408_w2_e014.cat.fits.gz\n",
      "./169/1694p318/1694p318_w1_e002.cat.fits.gz\n",
      "26 no matches\n",
      "./237/2373p408/2373p408_w1_e015.cat.fits.gz\n",
      "./169/1694p318/1694p318_w2_e002.cat.fits.gz\n",
      "Scanning individual catalog files ...\n",
      "./121/1213p424/1213p424_w1_e000.cat.fits.gz\n",
      "Scanning catalog index file ...\n",
      "./169/1694p318/1694p318_w1_e003.cat.fits.gz\n",
      "./237/2373p408/2373p408_w2_e015.cat.fits.gz\n",
      "./121/1213p424/1213p424_w2_e000.cat.fits.gz\n",
      "./169/1694p318/1694p318_w2_e003.cat.fits.gz\n",
      "./237/2373p408/2373p408_w1_e016.cat.fits.gz\n",
      "./169/1694p318/1694p318_w1_e004.cat.fits.gz\n",
      "./121/1213p424/1213p424_w1_e001.cat.fits.gz\n",
      "Scanning individual catalog files ...\n",
      "./151/1516p348/1516p348_w1_e000.cat.fits.gz\n",
      "./237/2373p408/2373p408_w2_e016.cat.fits.gz\n",
      "./169/1694p318/1694p318_w2_e004.cat.fits.gz\n",
      "./121/1213p424/1213p424_w2_e001.cat.fits.gz\n",
      "./151/1516p348/1516p348_w2_e000.cat.fits.gz\n",
      "./169/1694p318/1694p318_w1_e005.cat.fits.gz\n"
     ]
    },
    {
     "name": "stderr",
     "output_type": "stream",
     "text": [
      " 50%|█████     | 3/6 [01:22<01:24, 28.11s/it]"
     ]
    },
    {
     "name": "stdout",
     "output_type": "stream",
     "text": [
      "./121/1213p424/1213p424_w1_e002.cat.fits.gz\n",
      "./169/1694p318/1694p318_w2_e005.cat.fits.gz\n",
      "./151/1516p348/1516p348_w1_e001.cat.fits.gz\n",
      "27 no matches\n",
      "./169/1694p318/1694p318_w1_e006.cat.fits.gz\n",
      "./121/1213p424/1213p424_w2_e002.cat.fits.gz\n",
      "./151/1516p348/1516p348_w2_e001.cat.fits.gz\n",
      "./169/1694p318/1694p318_w2_e006.cat.fits.gz\n",
      "./151/1516p348/1516p348_w1_e002.cat.fits.gz\n",
      "./121/1213p424/1213p424_w1_e003.cat.fits.gz\n",
      "Scanning catalog index file ...\n",
      "./151/1516p348/1516p348_w2_e002.cat.fits.gz\n",
      "./169/1694p318/1694p318_w1_e007.cat.fits.gz\n",
      "./121/1213p424/1213p424_w2_e003.cat.fits.gz\n"
     ]
    },
    {
     "name": "stderr",
     "output_type": "stream",
     "text": [
      "No data found for target \"<SkyCoord (ICRS): (ra, dec) in deg\n",
      "    (166.09674, 63.71816)>\".\n",
      "ERROR:lightkurve.search:No data found for target \"<SkyCoord (ICRS): (ra, dec) in deg\n",
      "    (166.09674, 63.71816)>\".\n",
      " 40%|████      | 12/30 [01:24<01:57,  6.50s/it]"
     ]
    },
    {
     "name": "stdout",
     "output_type": "stream",
     "text": [
      "./169/1694p318/1694p318_w2_e007.cat.fits.gz\n",
      "./151/1516p348/1516p348_w1_e003.cat.fits.gz\n",
      "./121/1213p424/1213p424_w1_e004.cat.fits.gz\n",
      "./169/1694p318/1694p318_w1_e008.cat.fits.gz\n",
      "./151/1516p348/1516p348_w2_e003.cat.fits.gz\n",
      "./121/1213p424/1213p424_w2_e004.cat.fits.gz\n",
      "./169/1694p318/1694p318_w2_e008.cat.fits.gz\n",
      "./151/1516p348/1516p348_w1_e004.cat.fits.gz\n",
      "./121/1213p424/1213p424_w1_e005.cat.fits.gz\n",
      "./169/1694p318/1694p318_w1_e009.cat.fits.gz\n",
      "28 no matches\n",
      "./151/1516p348/1516p348_w2_e004.cat.fits.gz\n",
      "./121/1213p424/1213p424_w2_e005.cat.fits.gz\n",
      "./169/1694p318/1694p318_w2_e009.cat.fits.gz\n",
      "./151/1516p348/1516p348_w1_e005.cat.fits.gz\n",
      "./121/1213p424/1213p424_w1_e006.cat.fits.gz\n",
      "./169/1694p318/1694p318_w1_e010.cat.fits.gz\n",
      "./151/1516p348/1516p348_w2_e005.cat.fits.gz\n",
      "Scanning individual catalog files ...\n",
      "./208/2087m016/2087m016_w1_e000.cat.fits.gz\n",
      "./169/1694p318/1694p318_w2_e010.cat.fits.gz\n",
      "./121/1213p424/1213p424_w2_e006.cat.fits.gz\n",
      "./151/1516p348/1516p348_w1_e006.cat.fits.gz\n",
      "./208/2087m016/2087m016_w2_e000.cat.fits.gz\n",
      "./169/1694p318/1694p318_w1_e011.cat.fits.gz\n",
      "./121/1213p424/1213p424_w1_e007.cat.fits.gz\n",
      "./151/1516p348/1516p348_w2_e006.cat.fits.gz\n"
     ]
    },
    {
     "name": "stderr",
     "output_type": "stream",
     "text": [
      "No data found for target \"<SkyCoord (ICRS): (ra, dec) in deg\n",
      "    (166.22989, 1.31573)>\".\n",
      "ERROR:lightkurve.search:No data found for target \"<SkyCoord (ICRS): (ra, dec) in deg\n",
      "    (166.22989, 1.31573)>\".\n",
      " 43%|████▎     | 13/30 [01:27<01:33,  5.52s/it]"
     ]
    },
    {
     "name": "stdout",
     "output_type": "stream",
     "text": [
      "./169/1694p318/1694p318_w2_e011.cat.fits.gz\n",
      "./208/2087m016/2087m016_w1_e001.cat.fits.gz\n",
      "./121/1213p424/1213p424_w2_e007.cat.fits.gz\n",
      "./151/1516p348/1516p348_w1_e007.cat.fits.gz\n",
      "./169/1694p318/1694p318_w1_e012.cat.fits.gz\n",
      "./208/2087m016/2087m016_w2_e001.cat.fits.gz\n",
      "./121/1213p424/1213p424_w1_e008.cat.fits.gz\n",
      "./151/1516p348/1516p348_w2_e007.cat.fits.gz\n",
      "./169/1694p318/1694p318_w2_e012.cat.fits.gz\n",
      "29 no matches\n",
      "./208/2087m016/2087m016_w1_e002.cat.fits.gz\n",
      "./121/1213p424/1213p424_w2_e008.cat.fits.gz\n",
      "./151/1516p348/1516p348_w1_e008.cat.fits.gz\n",
      "./169/1694p318/1694p318_w1_e013.cat.fits.gz\n",
      "./208/2087m016/2087m016_w2_e002.cat.fits.gz\n",
      "./151/1516p348/1516p348_w2_e008.cat.fits.gz\n",
      "./121/1213p424/1213p424_w1_e009.cat.fits.gz\n",
      "./169/1694p318/1694p318_w2_e013.cat.fits.gz\n",
      "./208/2087m016/2087m016_w1_e003.cat.fits.gz\n",
      "./151/1516p348/1516p348_w1_e009.cat.fits.gz\n",
      "./169/1694p318/1694p318_w1_e014.cat.fits.gz\n",
      "./121/1213p424/1213p424_w2_e009.cat.fits.gz\n",
      "./208/2087m016/2087m016_w2_e003.cat.fits.gz\n",
      "./151/1516p348/1516p348_w2_e009.cat.fits.gz\n",
      "Scanning individual catalog files ...\n",
      "./238/2383p272/2383p272_w1_e000.cat.fits.gz\n",
      "./169/1694p318/1694p318_w2_e014.cat.fits.gz\n",
      "./121/1213p424/1213p424_w1_e010.cat.fits.gz\n",
      "./208/2087m016/2087m016_w1_e004.cat.fits.gz\n",
      "./151/1516p348/1516p348_w1_e010.cat.fits.gz\n",
      "./169/1694p318/1694p318_w1_e015.cat.fits.gz\n",
      "./121/1213p424/1213p424_w2_e010.cat.fits.gz\n",
      "./238/2383p272/2383p272_w2_e000.cat.fits.gz\n",
      "./208/2087m016/2087m016_w2_e004.cat.fits.gz\n",
      "./151/1516p348/1516p348_w2_e010.cat.fits.gz./169/1694p318/1694p318_w2_e015.cat.fits.gz\n",
      "\n",
      "./121/1213p424/1213p424_w1_e011.cat.fits.gz\n",
      "./208/2087m016/2087m016_w1_e005.cat.fits.gz\n"
     ]
    },
    {
     "name": "stderr",
     "output_type": "stream",
     "text": [
      " 67%|██████▋   | 4/6 [01:31<00:46, 23.25s/it]"
     ]
    },
    {
     "name": "stdout",
     "output_type": "stream",
     "text": [
      "./151/1516p348/1516p348_w1_e011.cat.fits.gz\n",
      "./238/2383p272/2383p272_w1_e001.cat.fits.gz\n"
     ]
    },
    {
     "name": "stderr",
     "output_type": "stream",
     "text": [
      "No data found for target \"<SkyCoord (ICRS): (ra, dec) in deg\n",
      "    (167.60602, -0.05948)>\".\n",
      "ERROR:lightkurve.search:No data found for target \"<SkyCoord (ICRS): (ra, dec) in deg\n",
      "    (167.60602, -0.05948)>\".\n",
      " 47%|████▋     | 14/30 [01:31<01:21,  5.10s/it]"
     ]
    },
    {
     "name": "stdout",
     "output_type": "stream",
     "text": [
      "./121/1213p424/1213p424_w2_e011.cat.fits.gz\n",
      "./208/2087m016/2087m016_w2_e005.cat.fits.gz\n",
      "./151/1516p348/1516p348_w2_e011.cat.fits.gz\n",
      "./238/2383p272/2383p272_w2_e001.cat.fits.gz\n",
      "./121/1213p424/1213p424_w1_e012.cat.fits.gz\n",
      "./208/2087m016/2087m016_w1_e006.cat.fits.gz\n",
      "./151/1516p348/1516p348_w1_e012.cat.fits.gz\n",
      "./121/1213p424/1213p424_w2_e012.cat.fits.gz\n",
      "./208/2087m016/2087m016_w2_e006.cat.fits.gz\n",
      "./151/1516p348/1516p348_w2_e012.cat.fits.gz\n",
      "./238/2383p272/2383p272_w1_e002.cat.fits.gz\n",
      "Scanning catalog index file ...\n",
      "./121/1213p424/1213p424_w1_e013.cat.fits.gz\n",
      "./208/2087m016/2087m016_w1_e007.cat.fits.gz\n",
      "./151/1516p348/1516p348_w1_e013.cat.fits.gz\n",
      "./238/2383p272/2383p272_w2_e002.cat.fits.gz\n",
      "./208/2087m016/2087m016_w2_e007.cat.fits.gz\n",
      "./121/1213p424/1213p424_w2_e013.cat.fits.gz\n",
      "./151/1516p348/1516p348_w2_e013.cat.fits.gz\n",
      "./238/2383p272/2383p272_w1_e003.cat.fits.gz\n",
      "./151/1516p348/1516p348_w1_e014.cat.fits.gz\n",
      "./208/2087m016/2087m016_w1_e008.cat.fits.gz\n",
      "./121/1213p424/1213p424_w1_e014.cat.fits.gz\n",
      "./238/2383p272/2383p272_w2_e003.cat.fits.gz\n",
      "./151/1516p348/1516p348_w2_e014.cat.fits.gz\n",
      "./208/2087m016/2087m016_w2_e008.cat.fits.gz\n",
      "./121/1213p424/1213p424_w2_e014.cat.fits.gz\n",
      "./238/2383p272/2383p272_w1_e004.cat.fits.gz\n",
      "./151/1516p348/1516p348_w1_e015.cat.fits.gz\n",
      "./208/2087m016/2087m016_w1_e009.cat.fits.gz\n"
     ]
    },
    {
     "name": "stderr",
     "output_type": "stream",
     "text": [
      " 67%|██████▋   | 4/6 [01:35<00:48, 24.44s/it]"
     ]
    },
    {
     "name": "stdout",
     "output_type": "stream",
     "text": [
      "./151/1516p348/1516p348_w2_e015.cat.fits.gz\n",
      "./208/2087m016/2087m016_w2_e009.cat.fits.gz\n",
      "./238/2383p272/2383p272_w2_e004.cat.fits.gz\n"
     ]
    },
    {
     "name": "stderr",
     "output_type": "stream",
     "text": [
      "No data found for target \"<SkyCoord (ICRS): (ra, dec) in deg\n",
      "    (168.90238, 5.74715)>\".\n",
      "ERROR:lightkurve.search:No data found for target \"<SkyCoord (ICRS): (ra, dec) in deg\n",
      "    (168.90238, 5.74715)>\".\n",
      " 67%|██████▋   | 4/6 [01:35<00:49, 24.58s/it]t]"
     ]
    },
    {
     "name": "stdout",
     "output_type": "stream",
     "text": [
      "./208/2087m016/2087m016_w1_e010.cat.fits.gz\n",
      "./238/2383p272/2383p272_w1_e005.cat.fits.gz\n",
      "./208/2087m016/2087m016_w2_e010.cat.fits.gz\n",
      "./238/2383p272/2383p272_w2_e005.cat.fits.gz\n",
      "./208/2087m016/2087m016_w1_e011.cat.fits.gz\n",
      "Scanning catalog index file ...\n",
      "./238/2383p272/2383p272_w1_e006.cat.fits.gz\n",
      "./208/2087m016/2087m016_w2_e011.cat.fits.gz\n",
      "Scanning catalog index file ...\n",
      "./238/2383p272/2383p272_w2_e006.cat.fits.gz\n",
      "./208/2087m016/2087m016_w1_e012.cat.fits.gz\n"
     ]
    },
    {
     "name": "stderr",
     "output_type": "stream",
     "text": [
      "No data found for target \"<SkyCoord (ICRS): (ra, dec) in deg\n",
      "    (169.62351, 32.06666)>\".\n",
      "ERROR:lightkurve.search:No data found for target \"<SkyCoord (ICRS): (ra, dec) in deg\n",
      "    (169.62351, 32.06666)>\".\n",
      " 53%|█████▎    | 16/30 [01:37<00:55,  3.98s/it]"
     ]
    },
    {
     "name": "stdout",
     "output_type": "stream",
     "text": [
      "./238/2383p272/2383p272_w1_e007.cat.fits.gz\n",
      "./208/2087m016/2087m016_w2_e012.cat.fits.gz\n",
      "./208/2087m016/2087m016_w1_e013.cat.fits.gz\n",
      "./238/2383p272/2383p272_w2_e007.cat.fits.gz\n",
      "./208/2087m016/2087m016_w2_e013.cat.fits.gz\n",
      "./238/2383p272/2383p272_w1_e008.cat.fits.gz\n",
      "./208/2087m016/2087m016_w1_e014.cat.fits.gz\n",
      "Scanning individual catalog files ...\n",
      "./173/1731p045/1731p045_w1_e000.cat.fits.gz\n",
      "./238/2383p272/2383p272_w2_e008.cat.fits.gz\n",
      "./208/2087m016/2087m016_w2_e014.cat.fits.gz\n",
      "./173/1731p045/1731p045_w2_e000.cat.fits.gz\n",
      "./238/2383p272/2383p272_w1_e009.cat.fits.gz\n",
      "./208/2087m016/2087m016_w1_e015.cat.fits.gz\n",
      "./173/1731p045/1731p045_w1_e001.cat.fits.gz\n",
      "./238/2383p272/2383p272_w2_e009.cat.fits.gz\n",
      "./208/2087m016/2087m016_w2_e015.cat.fits.gz\n",
      "./173/1731p045/1731p045_w2_e001.cat.fits.gz\n",
      "./238/2383p272/2383p272_w1_e010.cat.fits.gz\n",
      "./208/2087m016/2087m016_w1_e016.cat.fits.gz\n",
      "./173/1731p045/1731p045_w1_e002.cat.fits.gz\n",
      "./208/2087m016/2087m016_w2_e016.cat.fits.gz\n",
      "./173/1731p045/1731p045_w2_e002.cat.fits.gz\n",
      "./238/2383p272/2383p272_w2_e010.cat.fits.gz\n",
      "./173/1731p045/1731p045_w1_e003.cat.fits.gz\n"
     ]
    },
    {
     "name": "stderr",
     "output_type": "stream",
     "text": [
      " 67%|██████▋   | 4/6 [01:42<00:51, 25.81s/it]"
     ]
    },
    {
     "name": "stdout",
     "output_type": "stream",
     "text": [
      "./238/2383p272/2383p272_w1_e011.cat.fits.gz\n",
      "./173/1731p045/1731p045_w2_e003.cat.fits.gz\n"
     ]
    },
    {
     "name": "stderr",
     "output_type": "stream",
     "text": [
      "No data found for target \"<SkyCoord (ICRS): (ra, dec) in deg\n",
      "    (173.12142, 3.95808)>\".\n",
      "ERROR:lightkurve.search:No data found for target \"<SkyCoord (ICRS): (ra, dec) in deg\n",
      "    (173.12142, 3.95808)>\".\n",
      " 57%|█████▋    | 17/30 [01:43<00:56,  4.33s/it]"
     ]
    },
    {
     "name": "stdout",
     "output_type": "stream",
     "text": [
      "./173/1731p045/1731p045_w1_e004.cat.fits.gz\n",
      "./238/2383p272/2383p272_w2_e011.cat.fits.gz\n",
      "Scanning individual catalog files ...\n",
      "./128/1287p363/1287p363_w1_e000.cat.fits.gz\n",
      "./173/1731p045/1731p045_w2_e004.cat.fits.gz\n",
      "./238/2383p272/2383p272_w1_e012.cat.fits.gz\n",
      "./128/1287p363/1287p363_w2_e000.cat.fits.gz\n",
      "./173/1731p045/1731p045_w1_e005.cat.fits.gz\n",
      "Scanning catalog index file ...\n",
      "Scanning individual catalog files ...\n",
      "./153/1531p545/1531p545_w1_e000.cat.fits.gz\n",
      "./238/2383p272/2383p272_w2_e012.cat.fits.gz\n",
      "./173/1731p045/1731p045_w2_e005.cat.fits.gz\n",
      "./128/1287p363/1287p363_w1_e001.cat.fits.gz\n",
      "./153/1531p545/1531p545_w2_e000.cat.fits.gz\n",
      "./238/2383p272/2383p272_w1_e013.cat.fits.gz\n",
      "./173/1731p045/1731p045_w1_e006.cat.fits.gz\n",
      "./128/1287p363/1287p363_w2_e001.cat.fits.gz\n",
      "./173/1731p045/1731p045_w2_e006.cat.fits.gz\n",
      "./238/2383p272/2383p272_w2_e013.cat.fits.gz\n",
      "./153/1531p545/1531p545_w1_e001.cat.fits.gz\n",
      "./173/1731p045/1731p045_w1_e007.cat.fits.gz\n",
      "./128/1287p363/1287p363_w1_e002.cat.fits.gz\n",
      "./153/1531p545/1531p545_w2_e001.cat.fits.gz\n",
      "./238/2383p272/2383p272_w1_e014.cat.fits.gz\n",
      "./173/1731p045/1731p045_w2_e007.cat.fits.gz\n"
     ]
    },
    {
     "name": "stderr",
     "output_type": "stream",
     "text": [
      "No data found for target \"<SkyCoord (ICRS): (ra, dec) in deg\n",
      "    (177.66385, 36.54956)>\".\n",
      "ERROR:lightkurve.search:No data found for target \"<SkyCoord (ICRS): (ra, dec) in deg\n",
      "    (177.66385, 36.54956)>\".\n",
      " 60%|██████    | 18/30 [01:45<00:46,  3.88s/it]"
     ]
    },
    {
     "name": "stdout",
     "output_type": "stream",
     "text": [
      "./128/1287p363/1287p363_w2_e002.cat.fits.gz\n",
      "./153/1531p545/1531p545_w1_e002.cat.fits.gz\n",
      "./173/1731p045/1731p045_w1_e008.cat.fits.gz\n",
      "./238/2383p272/2383p272_w2_e014.cat.fits.gz\n",
      "./128/1287p363/1287p363_w1_e003.cat.fits.gz\n",
      "./173/1731p045/1731p045_w2_e008.cat.fits.gz\n",
      "./153/1531p545/1531p545_w2_e002.cat.fits.gz\n",
      "./238/2383p272/2383p272_w1_e015.cat.fits.gz\n",
      "./128/1287p363/1287p363_w2_e003.cat.fits.gz\n",
      "./173/1731p045/1731p045_w1_e009.cat.fits.gz\n",
      "./153/1531p545/1531p545_w1_e003.cat.fits.gz\n",
      "./128/1287p363/1287p363_w1_e004.cat.fits.gz\n",
      "./238/2383p272/2383p272_w2_e015.cat.fits.gz\n",
      "./173/1731p045/1731p045_w2_e009.cat.fits.gz\n",
      "./153/1531p545/1531p545_w2_e003.cat.fits.gz\n",
      "./128/1287p363/1287p363_w2_e004.cat.fits.gz\n",
      "./173/1731p045/1731p045_w1_e010.cat.fits.gz\n"
     ]
    },
    {
     "name": "stderr",
     "output_type": "stream",
     "text": [
      " 67%|██████▋   | 4/6 [01:47<00:54, 27.36s/it]"
     ]
    },
    {
     "name": "stdout",
     "output_type": "stream",
     "text": [
      "./153/1531p545/1531p545_w1_e004.cat.fits.gz\n",
      "./128/1287p363/1287p363_w1_e005.cat.fits.gz\n",
      "./173/1731p045/1731p045_w2_e010.cat.fits.gz\n",
      "./153/1531p545/1531p545_w2_e004.cat.fits.gz\n",
      "./173/1731p045/1731p045_w1_e011.cat.fits.gz\n",
      "./128/1287p363/1287p363_w2_e005.cat.fits.gz\n"
     ]
    },
    {
     "name": "stderr",
     "output_type": "stream",
     "text": [
      "No data found for target \"<SkyCoord (ICRS): (ra, dec) in deg\n",
      "    (178.11465, 32.16646)>\".\n",
      "ERROR:lightkurve.search:No data found for target \"<SkyCoord (ICRS): (ra, dec) in deg\n",
      "    (178.11465, 32.16646)>\".\n",
      " 63%|██████▎   | 19/30 [01:48<00:39,  3.59s/it]"
     ]
    },
    {
     "name": "stdout",
     "output_type": "stream",
     "text": [
      "./173/1731p045/1731p045_w2_e011.cat.fits.gz\n",
      "./153/1531p545/1531p545_w1_e005.cat.fits.gz\n",
      "./128/1287p363/1287p363_w1_e006.cat.fits.gz\n",
      "./173/1731p045/1731p045_w1_e012.cat.fits.gz\n",
      "Scanning catalog index file ...\n",
      "./153/1531p545/1531p545_w2_e005.cat.fits.gz\n",
      "./128/1287p363/1287p363_w2_e006.cat.fits.gz\n",
      "./173/1731p045/1731p045_w2_e012.cat.fits.gz\n",
      "./153/1531p545/1531p545_w1_e006.cat.fits.gz\n",
      "./128/1287p363/1287p363_w1_e007.cat.fits.gz\n",
      "./173/1731p045/1731p045_w1_e013.cat.fits.gz\n",
      "./153/1531p545/1531p545_w2_e006.cat.fits.gz\n",
      "./128/1287p363/1287p363_w2_e007.cat.fits.gz\n",
      "Scanning individual catalog files ...\n",
      "./209/2090p499/2090p499_w1_e000.cat.fits.gz\n",
      "./173/1731p045/1731p045_w2_e013.cat.fits.gz\n",
      "./153/1531p545/1531p545_w1_e007.cat.fits.gz\n",
      "./128/1287p363/1287p363_w1_e008.cat.fits.gz\n",
      "./173/1731p045/1731p045_w1_e014.cat.fits.gz\n",
      "./209/2090p499/2090p499_w2_e000.cat.fits.gz\n",
      "./153/1531p545/1531p545_w2_e007.cat.fits.gz\n",
      "./173/1731p045/1731p045_w2_e014.cat.fits.gz\n",
      "./128/1287p363/1287p363_w2_e008.cat.fits.gz\n",
      "./209/2090p499/2090p499_w1_e001.cat.fits.gz\n",
      "./153/1531p545/1531p545_w1_e008.cat.fits.gz\n",
      "./173/1731p045/1731p045_w1_e015.cat.fits.gz\n",
      "./128/1287p363/1287p363_w1_e009.cat.fits.gz\n",
      "./173/1731p045/1731p045_w2_e015.cat.fits.gz\n",
      "./209/2090p499/2090p499_w2_e001.cat.fits.gz\n",
      "./153/1531p545/1531p545_w2_e008.cat.fits.gz\n",
      "./128/1287p363/1287p363_w2_e009.cat.fits.gz\n",
      "./173/1731p045/1731p045_w1_e016.cat.fits.gz\n",
      "./173/1731p045/1731p045_w2_e016.cat.fits.gz\n",
      "./153/1531p545/1531p545_w1_e009.cat.fits.gz\n",
      "./128/1287p363/1287p363_w1_e010.cat.fits.gz\n",
      "./209/2090p499/2090p499_w1_e002.cat.fits.gz\n"
     ]
    },
    {
     "name": "stderr",
     "output_type": "stream",
     "text": [
      " 83%|████████▎ | 5/6 [01:52<00:22, 22.67s/it]"
     ]
    },
    {
     "name": "stdout",
     "output_type": "stream",
     "text": [
      "./153/1531p545/1531p545_w2_e009.cat.fits.gz\n",
      "./128/1287p363/1287p363_w2_e010.cat.fits.gz\n",
      "./209/2090p499/2090p499_w2_e002.cat.fits.gz\n"
     ]
    },
    {
     "name": "stderr",
     "output_type": "stream",
     "text": [
      "No data found for target \"<SkyCoord (ICRS): (ra, dec) in deg\n",
      "    (194.81978, 55.25199)>\".\n",
      "ERROR:lightkurve.search:No data found for target \"<SkyCoord (ICRS): (ra, dec) in deg\n",
      "    (194.81978, 55.25199)>\".\n",
      " 67%|██████▋   | 20/30 [01:53<00:39,  3.93s/it]"
     ]
    },
    {
     "name": "stdout",
     "output_type": "stream",
     "text": [
      "./153/1531p545/1531p545_w1_e010.cat.fits.gz\n",
      "./128/1287p363/1287p363_w1_e011.cat.fits.gz\n",
      "./209/2090p499/2090p499_w1_e003.cat.fits.gz\n",
      "./153/1531p545/1531p545_w2_e010.cat.fits.gz\n",
      "./128/1287p363/1287p363_w2_e011.cat.fits.gz\n",
      "./209/2090p499/2090p499_w2_e003.cat.fits.gz\n",
      "Scanning catalog index file ...\n",
      "./153/1531p545/1531p545_w1_e011.cat.fits.gz\n",
      "./128/1287p363/1287p363_w1_e012.cat.fits.gz\n",
      "./209/2090p499/2090p499_w1_e004.cat.fits.gz\n",
      "./128/1287p363/1287p363_w2_e012.cat.fits.gz\n",
      "./153/1531p545/1531p545_w2_e011.cat.fits.gz\n",
      "./209/2090p499/2090p499_w2_e004.cat.fits.gz\n",
      "./153/1531p545/1531p545_w1_e012.cat.fits.gz\n",
      "./128/1287p363/1287p363_w1_e013.cat.fits.gz\n",
      "./209/2090p499/2090p499_w1_e005.cat.fits.gz\n",
      "./153/1531p545/1531p545_w2_e012.cat.fits.gz\n",
      "./128/1287p363/1287p363_w2_e013.cat.fits.gz\n",
      "Scanning individual catalog files ...\n",
      "./238/2387p363/2387p363_w1_e000.cat.fits.gz\n",
      "./209/2090p499/2090p499_w2_e005.cat.fits.gz\n",
      "./153/1531p545/1531p545_w1_e013.cat.fits.gz\n",
      "./128/1287p363/1287p363_w1_e014.cat.fits.gz\n",
      "./238/2387p363/2387p363_w2_e000.cat.fits.gz\n",
      "./209/2090p499/2090p499_w1_e006.cat.fits.gz\n",
      "./153/1531p545/1531p545_w2_e013.cat.fits.gz\n",
      "./128/1287p363/1287p363_w2_e014.cat.fits.gz\n",
      "./209/2090p499/2090p499_w2_e006.cat.fits.gz\n",
      "./153/1531p545/1531p545_w1_e014.cat.fits.gz\n",
      "./238/2387p363/2387p363_w1_e001.cat.fits.gz\n"
     ]
    },
    {
     "name": "stderr",
     "output_type": "stream",
     "text": [
      " 83%|████████▎ | 5/6 [01:57<00:23, 23.81s/it]"
     ]
    },
    {
     "name": "stdout",
     "output_type": "stream",
     "text": [
      "./153/1531p545/1531p545_w2_e014.cat.fits.gz\n",
      "./209/2090p499/2090p499_w1_e007.cat.fits.gz\n",
      "./238/2387p363/2387p363_w2_e001.cat.fits.gz\n",
      "./153/1531p545/1531p545_w1_e015.cat.fits.gz\n",
      "./209/2090p499/2090p499_w2_e007.cat.fits.gz\n",
      "./238/2387p363/2387p363_w1_e002.cat.fits.gz\n",
      "./238/2387p363/2387p363_w2_e002.cat.fits.gz\n",
      "./153/1531p545/1531p545_w2_e015.cat.fits.gz\n",
      "./238/2387p363/2387p363_w1_e003.cat.fits.gz\n",
      "./209/2090p499/2090p499_w1_e008.cat.fits.gz\n",
      "Scanning catalog index file ...\n"
     ]
    },
    {
     "name": "stderr",
     "output_type": "stream",
     "text": [
      " 83%|████████▎ | 5/6 [01:59<00:24, 24.21s/it]"
     ]
    },
    {
     "name": "stdout",
     "output_type": "stream",
     "text": [
      "./238/2387p363/2387p363_w2_e003.cat.fits.gz\n",
      "./209/2090p499/2090p499_w2_e008.cat.fits.gz\n",
      "./238/2387p363/2387p363_w1_e004.cat.fits.gz\n",
      "./209/2090p499/2090p499_w1_e009.cat.fits.gz\n",
      "./238/2387p363/2387p363_w2_e004.cat.fits.gz\n",
      "./209/2090p499/2090p499_w2_e009.cat.fits.gz\n",
      "Scanning individual catalog files ...\n",
      "./177/1772p363/1772p363_w1_e000.cat.fits.gz\n",
      "Scanning catalog index file ...\n",
      "./209/2090p499/2090p499_w1_e010.cat.fits.gz\n",
      "./177/1772p363/1772p363_w2_e000.cat.fits.gz\n",
      "./238/2387p363/2387p363_w1_e005.cat.fits.gz\n",
      "./209/2090p499/2090p499_w2_e010.cat.fits.gz\n",
      "./177/1772p363/1772p363_w1_e001.cat.fits.gz\n",
      "./238/2387p363/2387p363_w2_e005.cat.fits.gz\n",
      "./177/1772p363/1772p363_w2_e001.cat.fits.gz\n",
      "./209/2090p499/2090p499_w1_e011.cat.fits.gz\n",
      "./238/2387p363/2387p363_w1_e006.cat.fits.gz\n",
      "./177/1772p363/1772p363_w1_e002.cat.fits.gz\n",
      "./209/2090p499/2090p499_w2_e011.cat.fits.gz\n",
      "./238/2387p363/2387p363_w2_e006.cat.fits.gz\n",
      "./177/1772p363/1772p363_w2_e002.cat.fits.gz\n",
      "./209/2090p499/2090p499_w1_e012.cat.fits.gz\n",
      "./238/2387p363/2387p363_w1_e007.cat.fits.gz\n",
      "./177/1772p363/1772p363_w1_e003.cat.fits.gz\n",
      "./209/2090p499/2090p499_w2_e012.cat.fits.gz\n",
      "./177/1772p363/1772p363_w2_e003.cat.fits.gz\n",
      "./238/2387p363/2387p363_w2_e007.cat.fits.gz\n",
      "./209/2090p499/2090p499_w1_e013.cat.fits.gz\n",
      "./177/1772p363/1772p363_w1_e004.cat.fits.gz\n",
      "./238/2387p363/2387p363_w1_e008.cat.fits.gz\n",
      "./177/1772p363/1772p363_w2_e004.cat.fits.gz\n",
      "./209/2090p499/2090p499_w2_e013.cat.fits.gz\n",
      "./177/1772p363/1772p363_w1_e005.cat.fits.gz\n",
      "./238/2387p363/2387p363_w2_e008.cat.fits.gz\n",
      "./209/2090p499/2090p499_w1_e014.cat.fits.gz\n",
      "Scanning individual catalog files ...\n",
      "./131/1318p272/1318p272_w1_e000.cat.fits.gz\n",
      "./177/1772p363/1772p363_w2_e005.cat.fits.gz\n",
      "./238/2387p363/2387p363_w1_e009.cat.fits.gz\n",
      "./209/2090p499/2090p499_w2_e014.cat.fits.gz\n",
      "./131/1318p272/1318p272_w2_e000.cat.fits.gz\n",
      "./177/1772p363/1772p363_w1_e006.cat.fits.gz\n",
      "./238/2387p363/2387p363_w2_e009.cat.fits.gz\n",
      "./209/2090p499/2090p499_w1_e015.cat.fits.gz\n",
      "./177/1772p363/1772p363_w2_e006.cat.fits.gz\n",
      "./131/1318p272/1318p272_w1_e001.cat.fits.gz\n",
      "./238/2387p363/2387p363_w1_e010.cat.fits.gz\n",
      "./209/2090p499/2090p499_w2_e015.cat.fits.gz\n",
      "./177/1772p363/1772p363_w1_e007.cat.fits.gz\n",
      "./131/1318p272/1318p272_w2_e001.cat.fits.gz\n",
      "Scanning individual catalog files ...\n",
      "./165/1651p636/1651p636_w1_e000.cat.fits.gz\n",
      "./177/1772p363/1772p363_w2_e007.cat.fits.gz\n",
      "./238/2387p363/2387p363_w2_e010.cat.fits.gz\n"
     ]
    },
    {
     "name": "stderr",
     "output_type": "stream",
     "text": [
      " 83%|████████▎ | 5/6 [02:07<00:25, 25.64s/it]"
     ]
    },
    {
     "name": "stdout",
     "output_type": "stream",
     "text": [
      "./131/1318p272/1318p272_w1_e002.cat.fits.gz\n",
      "./177/1772p363/1772p363_w1_e008.cat.fits.gz\n",
      "./165/1651p636/1651p636_w2_e000.cat.fits.gz\n",
      "./238/2387p363/2387p363_w1_e011.cat.fits.gz\n",
      "./131/1318p272/1318p272_w2_e002.cat.fits.gz\n",
      "./177/1772p363/1772p363_w2_e008.cat.fits.gz\n",
      "./131/1318p272/1318p272_w1_e003.cat.fits.gz\n",
      "./165/1651p636/1651p636_w1_e001.cat.fits.gz\n",
      "./238/2387p363/2387p363_w2_e011.cat.fits.gz\n",
      "./177/1772p363/1772p363_w1_e009.cat.fits.gz\n",
      "./131/1318p272/1318p272_w2_e003.cat.fits.gz\n",
      "./165/1651p636/1651p636_w2_e001.cat.fits.gz\n",
      "Scanning catalog index file ..../238/2387p363/2387p363_w1_e012.cat.fits.gz\n",
      "\n",
      "./177/1772p363/1772p363_w2_e009.cat.fits.gz\n",
      "./131/1318p272/1318p272_w1_e004.cat.fits.gz\n",
      "./177/1772p363/1772p363_w1_e010.cat.fits.gz\n",
      "./165/1651p636/1651p636_w1_e002.cat.fits.gz\n",
      "./238/2387p363/2387p363_w2_e012.cat.fits.gz\n",
      "./131/1318p272/1318p272_w2_e004.cat.fits.gz\n",
      "./177/1772p363/1772p363_w2_e010.cat.fits.gz\n",
      "./165/1651p636/1651p636_w2_e002.cat.fits.gz\n",
      "./131/1318p272/1318p272_w1_e005.cat.fits.gz\n",
      "./238/2387p363/2387p363_w1_e013.cat.fits.gz\n",
      "./177/1772p363/1772p363_w1_e011.cat.fits.gz\n",
      "./131/1318p272/1318p272_w2_e005.cat.fits.gz\n",
      "./165/1651p636/1651p636_w1_e003.cat.fits.gz\n",
      "./238/2387p363/2387p363_w2_e013.cat.fits.gz\n",
      "./177/1772p363/1772p363_w2_e011.cat.fits.gz\n",
      "./131/1318p272/1318p272_w1_e006.cat.fits.gz\n",
      "./165/1651p636/1651p636_w2_e003.cat.fits.gz\n"
     ]
    },
    {
     "name": "stderr",
     "output_type": "stream",
     "text": [
      "No data found for target \"<SkyCoord (ICRS): (ra, dec) in deg\n",
      "    (199.87808, 67.89872)>\".\n"
     ]
    },
    {
     "name": "stdout",
     "output_type": "stream",
     "text": [
      "./177/1772p363/1772p363_w1_e012.cat.fits.gz\n"
     ]
    },
    {
     "name": "stderr",
     "output_type": "stream",
     "text": [
      "ERROR:lightkurve.search:No data found for target \"<SkyCoord (ICRS): (ra, dec) in deg\n",
      "    (199.87808, 67.89872)>\".\n",
      " 70%|███████   | 21/30 [02:11<01:12,  8.10s/it]"
     ]
    },
    {
     "name": "stdout",
     "output_type": "stream",
     "text": [
      "./238/2387p363/2387p363_w1_e014.cat.fits.gz\n",
      "./131/1318p272/1318p272_w2_e006.cat.fits.gz\n",
      "./177/1772p363/1772p363_w2_e012.cat.fits.gz\n",
      "./165/1651p636/1651p636_w1_e004.cat.fits.gz\n",
      "./238/2387p363/2387p363_w2_e014.cat.fits.gz\n",
      "./131/1318p272/1318p272_w1_e007.cat.fits.gz\n",
      "./177/1772p363/1772p363_w1_e013.cat.fits.gz\n",
      "./165/1651p636/1651p636_w2_e004.cat.fits.gz\n",
      "./238/2387p363/2387p363_w1_e015.cat.fits.gz\n",
      "./131/1318p272/1318p272_w2_e007.cat.fits.gz\n",
      "./177/1772p363/1772p363_w2_e013.cat.fits.gz\n",
      "./165/1651p636/1651p636_w1_e005.cat.fits.gz\n",
      "./131/1318p272/1318p272_w1_e008.cat.fits.gz\n",
      "./238/2387p363/2387p363_w2_e015.cat.fits.gz\n",
      "./177/1772p363/1772p363_w1_e014.cat.fits.gz\n",
      "./165/1651p636/1651p636_w2_e005.cat.fits.gz\n",
      "./131/1318p272/1318p272_w2_e008.cat.fits.gz\n",
      "./238/2387p363/2387p363_w1_e016.cat.fits.gz\n",
      "./177/1772p363/1772p363_w2_e014.cat.fits.gz\n"
     ]
    },
    {
     "name": "stderr",
     "output_type": "stream",
     "text": [
      "No data found for target \"<SkyCoord (ICRS): (ra, dec) in deg\n",
      "    (209.07707, -1.2539)>\".\n",
      "ERROR:lightkurve.search:No data found for target \"<SkyCoord (ICRS): (ra, dec) in deg\n",
      "    (209.07707, -1.2539)>\".\n",
      " 73%|███████▎  | 22/30 [02:13<00:51,  6.42s/it]"
     ]
    },
    {
     "name": "stdout",
     "output_type": "stream",
     "text": [
      "./131/1318p272/1318p272_w1_e009.cat.fits.gz\n",
      "./165/1651p636/1651p636_w1_e006.cat.fits.gz\n",
      "./177/1772p363/1772p363_w1_e015.cat.fits.gz\n",
      "./238/2387p363/2387p363_w2_e016.cat.fits.gz\n",
      "./131/1318p272/1318p272_w2_e009.cat.fits.gz\n",
      "./177/1772p363/1772p363_w2_e015.cat.fits.gz\n",
      "./165/1651p636/1651p636_w2_e006.cat.fits.gz\n"
     ]
    },
    {
     "name": "stderr",
     "output_type": "stream",
     "text": [
      " 83%|████████▎ | 5/6 [02:14<00:27, 27.19s/it]"
     ]
    },
    {
     "name": "stdout",
     "output_type": "stream",
     "text": [
      "./131/1318p272/1318p272_w1_e010.cat.fits.gz\n"
     ]
    },
    {
     "name": "stderr",
     "output_type": "stream",
     "text": [
      "100%|██████████| 6/6 [02:14<00:00, 22.47s/it]\n"
     ]
    },
    {
     "name": "stdout",
     "output_type": "stream",
     "text": [
      "./165/1651p636/1651p636_w1_e007.cat.fits.gz\n",
      "./131/1318p272/1318p272_w2_e010.cat.fits.gz\n",
      "./165/1651p636/1651p636_w2_e007.cat.fits.gz\n",
      "./131/1318p272/1318p272_w1_e011.cat.fits.gz\n",
      "Scanning individual catalog files ...\n",
      "./221/2211p287/2211p287_w1_e000.cat.fits.gz\n",
      "./165/1651p636/1651p636_w1_e008.cat.fits.gz\n",
      "./131/1318p272/1318p272_w2_e011.cat.fits.gz\n",
      "Scanning catalog index file ...\n",
      "./221/2211p287/2211p287_w2_e000.cat.fits.gz\n",
      "./131/1318p272/1318p272_w1_e012.cat.fits.gz\n",
      "./165/1651p636/1651p636_w2_e008.cat.fits.gz\n",
      "./221/2211p287/2211p287_w1_e001.cat.fits.gz\n",
      "./131/1318p272/1318p272_w2_e012.cat.fits.gz\n",
      "./165/1651p636/1651p636_w1_e009.cat.fits.gz\n",
      "./221/2211p287/2211p287_w2_e001.cat.fits.gz\n",
      "./131/1318p272/1318p272_w1_e013.cat.fits.gz\n",
      "./165/1651p636/1651p636_w2_e009.cat.fits.gz\n",
      "./131/1318p272/1318p272_w2_e013.cat.fits.gz\n",
      "./221/2211p287/2211p287_w1_e002.cat.fits.gz\n",
      "./165/1651p636/1651p636_w1_e010.cat.fits.gz\n",
      "./131/1318p272/1318p272_w1_e014.cat.fits.gz\n",
      "./221/2211p287/2211p287_w2_e002.cat.fits.gz\n",
      "./165/1651p636/1651p636_w2_e010.cat.fits.gz\n",
      "./131/1318p272/1318p272_w2_e014.cat.fits.gz\n",
      "./221/2211p287/2211p287_w1_e003.cat.fits.gz\n",
      "./165/1651p636/1651p636_w1_e011.cat.fits.gz\n",
      "./131/1318p272/1318p272_w1_e015.cat.fits.gz\n"
     ]
    },
    {
     "name": "stderr",
     "output_type": "stream",
     "text": [
      "No data found for target \"<SkyCoord (ICRS): (ra, dec) in deg\n",
      "    (209.73263, 49.5706)>\".\n",
      "ERROR:lightkurve.search:No data found for target \"<SkyCoord (ICRS): (ra, dec) in deg\n",
      "    (209.73263, 49.5706)>\".\n",
      " 77%|███████▋  | 23/30 [02:19<00:42,  6.11s/it]"
     ]
    },
    {
     "name": "stdout",
     "output_type": "stream",
     "text": [
      "./221/2211p287/2211p287_w2_e003.cat.fits.gz\n",
      "./165/1651p636/1651p636_w2_e011.cat.fits.gz\n",
      "./131/1318p272/1318p272_w2_e015.cat.fits.gz\n",
      "./221/2211p287/2211p287_w1_e004.cat.fits.gz\n"
     ]
    },
    {
     "name": "stderr",
     "output_type": "stream",
     "text": [
      "100%|██████████| 6/6 [02:20<00:00, 23.34s/it]\n"
     ]
    },
    {
     "name": "stdout",
     "output_type": "stream",
     "text": [
      "./165/1651p636/1651p636_w1_e012.cat.fits.gz\n",
      "./221/2211p287/2211p287_w2_e004.cat.fits.gz\n",
      "./165/1651p636/1651p636_w2_e012.cat.fits.gz\n",
      "./221/2211p287/2211p287_w1_e005.cat.fits.gz\n",
      "./165/1651p636/1651p636_w1_e013.cat.fits.gz\n",
      "./221/2211p287/2211p287_w2_e005.cat.fits.gz\n",
      "./165/1651p636/1651p636_w2_e013.cat.fits.gz\n",
      "./221/2211p287/2211p287_w1_e006.cat.fits.gz\n",
      "./165/1651p636/1651p636_w1_e014.cat.fits.gz\n",
      "./221/2211p287/2211p287_w2_e006.cat.fits.gz\n",
      "Scanning individual catalog files ...\n",
      "./353/3539p000/3539p000_w1_e000.cat.fits.gz\n",
      "./165/1651p636/1651p636_w2_e014.cat.fits.gz\n",
      "./221/2211p287/2211p287_w1_e007.cat.fits.gz\n"
     ]
    },
    {
     "name": "stderr",
     "output_type": "stream",
     "text": [
      "No data found for target \"<SkyCoord (ICRS): (ra, dec) in deg\n",
      "    (221.97599, 28.55669)>\".\n",
      "ERROR:lightkurve.search:No data found for target \"<SkyCoord (ICRS): (ra, dec) in deg\n",
      "    (221.97599, 28.55669)>\".\n",
      " 80%|████████  | 24/30 [02:22<00:31,  5.31s/it]"
     ]
    },
    {
     "name": "stdout",
     "output_type": "stream",
     "text": [
      "./353/3539p000/3539p000_w2_e000.cat.fits.gz\n",
      "./165/1651p636/1651p636_w1_e015.cat.fits.gz\n",
      "./221/2211p287/2211p287_w2_e007.cat.fits.gz\n",
      "./353/3539p000/3539p000_w1_e001.cat.fits.gz\n",
      "./165/1651p636/1651p636_w2_e015.cat.fits.gz\n",
      "./221/2211p287/2211p287_w1_e008.cat.fits.gz./353/3539p000/3539p000_w2_e001.cat.fits.gz\n",
      "\n"
     ]
    },
    {
     "name": "stderr",
     "output_type": "stream",
     "text": [
      "100%|██████████| 6/6 [02:24<00:00, 24.00s/it]\n"
     ]
    },
    {
     "name": "stdout",
     "output_type": "stream",
     "text": [
      "./353/3539p000/3539p000_w1_e002.cat.fits.gz\n",
      "./221/2211p287/2211p287_w2_e008.cat.fits.gz\n",
      "./353/3539p000/3539p000_w2_e002.cat.fits.gz\n",
      "./353/3539p000/3539p000_w1_e003.cat.fits.gz\n",
      "./221/2211p287/2211p287_w1_e009.cat.fits.gz\n"
     ]
    },
    {
     "name": "stderr",
     "output_type": "stream",
     "text": [
      "No data found for target \"<SkyCoord (ICRS): (ra, dec) in deg\n",
      "    (233.48331, 1.17494)>\".\n",
      "ERROR:lightkurve.search:No data found for target \"<SkyCoord (ICRS): (ra, dec) in deg\n",
      "    (233.48331, 1.17494)>\".\n",
      " 83%|████████▎ | 25/30 [02:24<00:21,  4.38s/it]"
     ]
    },
    {
     "name": "stdout",
     "output_type": "stream",
     "text": [
      "./353/3539p000/3539p000_w2_e003.cat.fits.gz\n",
      "./221/2211p287/2211p287_w2_e009.cat.fits.gz\n",
      "./353/3539p000/3539p000_w1_e004.cat.fits.gz\n",
      "./221/2211p287/2211p287_w1_e010.cat.fits.gz\n",
      "./353/3539p000/3539p000_w2_e004.cat.fits.gz\n",
      "./221/2211p287/2211p287_w2_e010.cat.fits.gz\n",
      "./353/3539p000/3539p000_w1_e005.cat.fits.gz\n",
      "./221/2211p287/2211p287_w1_e011.cat.fits.gz\n",
      "./353/3539p000/3539p000_w2_e005.cat.fits.gz\n",
      "./221/2211p287/2211p287_w2_e011.cat.fits.gz\n",
      "./353/3539p000/3539p000_w1_e006.cat.fits.gz\n",
      "./221/2211p287/2211p287_w1_e012.cat.fits.gz./353/3539p000/3539p000_w2_e006.cat.fits.gz\n",
      "\n",
      "./353/3539p000/3539p000_w1_e007.cat.fits.gz\n",
      "./221/2211p287/2211p287_w2_e012.cat.fits.gz\n",
      "./353/3539p000/3539p000_w2_e007.cat.fits.gz\n",
      "./221/2211p287/2211p287_w1_e013.cat.fits.gz\n",
      "./353/3539p000/3539p000_w1_e008.cat.fits.gz\n",
      "./221/2211p287/2211p287_w2_e013.cat.fits.gz\n",
      "./353/3539p000/3539p000_w2_e008.cat.fits.gz\n",
      "./221/2211p287/2211p287_w1_e014.cat.fits.gz\n",
      "./353/3539p000/3539p000_w1_e009.cat.fits.gz\n",
      "./221/2211p287/2211p287_w2_e014.cat.fits.gz\n",
      "./353/3539p000/3539p000_w2_e009.cat.fits.gz\n",
      "./221/2211p287/2211p287_w1_e015.cat.fits.gz\n",
      "./353/3539p000/3539p000_w1_e010.cat.fits.gz\n",
      "./221/2211p287/2211p287_w2_e015.cat.fits.gz\n",
      "./353/3539p000/3539p000_w2_e010.cat.fits.gz\n",
      "./353/3539p000/3539p000_w1_e011.cat.fits.gz\n",
      "./221/2211p287/2211p287_w1_e016.cat.fits.gz\n"
     ]
    },
    {
     "name": "stderr",
     "output_type": "stream",
     "text": [
      "No data found for target \"<SkyCoord (ICRS): (ra, dec) in deg\n",
      "    (236.3735, 25.19107)>\".\n",
      "ERROR:lightkurve.search:No data found for target \"<SkyCoord (ICRS): (ra, dec) in deg\n",
      "    (236.3735, 25.19107)>\".\n",
      " 87%|████████▋ | 26/30 [02:31<00:19,  4.98s/it]"
     ]
    },
    {
     "name": "stdout",
     "output_type": "stream",
     "text": [
      "./353/3539p000/3539p000_w2_e011.cat.fits.gz\n",
      "./221/2211p287/2211p287_w2_e016.cat.fits.gz\n",
      "./353/3539p000/3539p000_w1_e012.cat.fits.gz\n"
     ]
    },
    {
     "name": "stderr",
     "output_type": "stream",
     "text": [
      "100%|██████████| 6/6 [02:32<00:00, 25.37s/it]\n"
     ]
    },
    {
     "name": "stdout",
     "output_type": "stream",
     "text": [
      "./353/3539p000/3539p000_w2_e012.cat.fits.gz\n",
      "./353/3539p000/3539p000_w1_e013.cat.fits.gz\n",
      "./353/3539p000/3539p000_w2_e013.cat.fits.gz\n",
      "./353/3539p000/3539p000_w1_e014.cat.fits.gz\n",
      "./353/3539p000/3539p000_w2_e014.cat.fits.gz\n",
      "./353/3539p000/3539p000_w1_e015.cat.fits.gz\n",
      "./353/3539p000/3539p000_w2_e015.cat.fits.gz\n",
      "./353/3539p000/3539p000_w1_e016.cat.fits.gz\n",
      "./353/3539p000/3539p000_w2_e016.cat.fits.gz\n"
     ]
    },
    {
     "name": "stderr",
     "output_type": "stream",
     "text": [
      "100%|██████████| 6/6 [02:36<00:00, 26.00s/it]\n",
      "No data found for target \"<SkyCoord (ICRS): (ra, dec) in deg\n",
      "    (237.57179, 41.65064)>\".\n",
      "ERROR:lightkurve.search:No data found for target \"<SkyCoord (ICRS): (ra, dec) in deg\n",
      "    (237.57179, 41.65064)>\".\n",
      " 90%|█████████ | 27/30 [02:38<00:16,  5.51s/it]No data found for target \"<SkyCoord (ICRS): (ra, dec) in deg\n",
      "    (238.24292, 27.62456)>\".\n",
      "ERROR:lightkurve.search:No data found for target \"<SkyCoord (ICRS): (ra, dec) in deg\n",
      "    (238.24292, 27.62456)>\".\n",
      " 93%|█████████▎| 28/30 [02:43<00:10,  5.37s/it]No data found for target \"<SkyCoord (ICRS): (ra, dec) in deg\n",
      "    (238.66774, 36.4978)>\".\n",
      "ERROR:lightkurve.search:No data found for target \"<SkyCoord (ICRS): (ra, dec) in deg\n",
      "    (238.66774, 36.4978)>\".\n",
      " 97%|█████████▋| 29/30 [02:49<00:05,  5.62s/it]No data found for target \"<SkyCoord (ICRS): (ra, dec) in deg\n",
      "    (354.01242, 0.29132)>\".\n",
      "ERROR:lightkurve.search:No data found for target \"<SkyCoord (ICRS): (ra, dec) in deg\n",
      "    (354.01242, 0.29132)>\".\n",
      "100%|██████████| 30/30 [02:52<00:00,  5.76s/it]\n"
     ]
    }
   ],
   "source": [
    "parallel_starttime = time.time()\n",
    "\n",
    "# start a multiprocessing pool and run all the archive queries\n",
    "parallel_df_lc = MultiIndexDFObject()  # to collect the results\n",
    "callback = parallel_df_lc.append  # will be called once on the result returned by each archive\n",
    "with Pool(processes=n_workers) as pool:\n",
    "\n",
    "    # start the processes that call the fast archives\n",
    "    pool.apply_async(\n",
    "        Gaia_get_lightcurve, (coords_list, labels_list, object_names, 1), callback=callback\n",
    "    )\n",
    "    pool.apply_async(\n",
    "        HEASARC_get_lightcurves, (coords_list, labels_list, heasarc_radius, mission_list), callback=callback\n",
    "    )\n",
    "    pool.apply_async(\n",
    "        HCV_get_lightcurves, (coords_list, labels_list, hcv_radius), callback=callback\n",
    "    )\n",
    "    pool.apply_async(\n",
    "        icecube_get_lightcurve, (coords_list, labels_list, object_names, 3, \"./data/\", 1), callback=callback\n",
    "    )\n",
    "    pool.apply_async(\n",
    "        panstarrs_get_lightcurves, (coords_list, labels_list, panstarrs_radius), callback=callback\n",
    "    )\n",
    "    pool.apply_async(\n",
    "        TESS_Kepler_get_lightcurves, (coords_list, labels_list, lk_radius), callback=callback\n",
    "    )\n",
    "\n",
    "    # split coords_list into smaller chunks and call slow archives\n",
    "    chunksize = ceil(len(coords_list) / n_chunks_per_archive)  # num coords per api call\n",
    "    for n in range(0, len(coords_list), chunksize):\n",
    "        coords = coords_list[n : n + chunksize]\n",
    "\n",
    "        # start the processes that call the slow archives\n",
    "        pool.apply_async(\n",
    "            WISE_get_lightcurves, (coords, labels_list, wise_radius, bandlist), callback=callback\n",
    "        )\n",
    "        pool.apply_async(\n",
    "            ZTF_get_lightcurve, (coords, labels_list, 0), callback=callback\n",
    "        )\n",
    "\n",
    "    pool.close()  # signal that no more jobs will be submitted to the pool\n",
    "    pool.join()  # wait for all jobs to complete, including the callback\n",
    "\n",
    "parallel_endtime = time.time()"
   ]
  },
  {
   "cell_type": "code",
   "execution_count": 8,
   "metadata": {},
   "outputs": [
    {
     "name": "stdout",
     "output_type": "stream",
     "text": [
      "parallel processing took 173.46000123023987 s\n"
     ]
    },
    {
     "data": {
      "text/html": [
       "<div>\n",
       "<style scoped>\n",
       "    .dataframe tbody tr th:only-of-type {\n",
       "        vertical-align: middle;\n",
       "    }\n",
       "\n",
       "    .dataframe tbody tr th {\n",
       "        vertical-align: top;\n",
       "    }\n",
       "\n",
       "    .dataframe thead th {\n",
       "        text-align: right;\n",
       "    }\n",
       "</style>\n",
       "<table border=\"1\" class=\"dataframe\">\n",
       "  <thead>\n",
       "    <tr style=\"text-align: right;\">\n",
       "      <th></th>\n",
       "      <th></th>\n",
       "      <th></th>\n",
       "      <th></th>\n",
       "      <th>flux</th>\n",
       "      <th>err</th>\n",
       "    </tr>\n",
       "    <tr>\n",
       "      <th>objectid</th>\n",
       "      <th>label</th>\n",
       "      <th>band</th>\n",
       "      <th>time</th>\n",
       "      <th></th>\n",
       "      <th></th>\n",
       "    </tr>\n",
       "  </thead>\n",
       "  <tbody>\n",
       "    <tr>\n",
       "      <th rowspan=\"5\" valign=\"top\">18</th>\n",
       "      <th rowspan=\"5\" valign=\"top\">Yang 18</th>\n",
       "      <th rowspan=\"5\" valign=\"top\">zg</th>\n",
       "      <th>58202.331875</th>\n",
       "      <td>0.027848</td>\n",
       "      <td>0.003577</td>\n",
       "    </tr>\n",
       "    <tr>\n",
       "      <th>58227.298484</th>\n",
       "      <td>0.036612</td>\n",
       "      <td>0.003902</td>\n",
       "    </tr>\n",
       "    <tr>\n",
       "      <th>58227.300370</th>\n",
       "      <td>0.033007</td>\n",
       "      <td>0.003784</td>\n",
       "    </tr>\n",
       "    <tr>\n",
       "      <th>58229.262442</th>\n",
       "      <td>0.028886</td>\n",
       "      <td>0.003624</td>\n",
       "    </tr>\n",
       "    <tr>\n",
       "      <th>58230.331678</th>\n",
       "      <td>0.027161</td>\n",
       "      <td>0.003545</td>\n",
       "    </tr>\n",
       "    <tr>\n",
       "      <th>...</th>\n",
       "      <th>...</th>\n",
       "      <th>...</th>\n",
       "      <th>...</th>\n",
       "      <td>...</td>\n",
       "      <td>...</td>\n",
       "    </tr>\n",
       "    <tr>\n",
       "      <th rowspan=\"5\" valign=\"top\">29</th>\n",
       "      <th rowspan=\"5\" valign=\"top\">Yang 18</th>\n",
       "      <th rowspan=\"5\" valign=\"top\">w2</th>\n",
       "      <th>58285.304688</th>\n",
       "      <td>0.132997</td>\n",
       "      <td>0.02059</td>\n",
       "    </tr>\n",
       "    <tr>\n",
       "      <th>58447.750000</th>\n",
       "      <td>0.130770</td>\n",
       "      <td>0.016078</td>\n",
       "    </tr>\n",
       "    <tr>\n",
       "      <th>58649.484375</th>\n",
       "      <td>0.148172</td>\n",
       "      <td>0.019403</td>\n",
       "    </tr>\n",
       "    <tr>\n",
       "      <th>58811.941406</th>\n",
       "      <td>0.162735</td>\n",
       "      <td>0.016916</td>\n",
       "    </tr>\n",
       "    <tr>\n",
       "      <th>59177.519531</th>\n",
       "      <td>0.203871</td>\n",
       "      <td>0.021772</td>\n",
       "    </tr>\n",
       "  </tbody>\n",
       "</table>\n",
       "<p>29880 rows × 2 columns</p>\n",
       "</div>"
      ],
      "text/plain": [
       "                                        flux       err\n",
       "objectid label   band time                            \n",
       "18       Yang 18 zg   58202.331875  0.027848  0.003577\n",
       "                      58227.298484  0.036612  0.003902\n",
       "                      58227.300370  0.033007  0.003784\n",
       "                      58229.262442  0.028886  0.003624\n",
       "                      58230.331678  0.027161  0.003545\n",
       "...                                      ...       ...\n",
       "29       Yang 18 w2   58285.304688  0.132997   0.02059\n",
       "                      58447.750000  0.130770  0.016078\n",
       "                      58649.484375  0.148172  0.019403\n",
       "                      58811.941406  0.162735  0.016916\n",
       "                      59177.519531  0.203871  0.021772\n",
       "\n",
       "[29880 rows x 2 columns]"
      ]
     },
     "execution_count": 8,
     "metadata": {},
     "output_type": "execute_result"
    }
   ],
   "source": [
    "# look at the results\n",
    "print('parallel processing took', parallel_endtime - parallel_starttime, 's')\n",
    "parallel_df_lc.data"
   ]
  },
  {
   "cell_type": "code",
   "execution_count": 18,
   "metadata": {},
   "outputs": [
    {
     "name": "stdout",
     "output_type": "stream",
     "text": [
      "file saved!\n"
     ]
    }
   ],
   "source": [
    "# # Save the data for future use with ML notebook\n",
    "parquet_savename = 'data/df_lc_051123.parquet.gzip'\n",
    "#parallel_df_lc.data.to_parquet(parquet_savename)\n",
    "#print(\"file saved!\")"
   ]
  },
  {
   "cell_type": "code",
   "execution_count": 19,
   "metadata": {},
   "outputs": [
    {
     "name": "stdout",
     "output_type": "stream",
     "text": [
      "file loaded!\n"
     ]
    }
   ],
   "source": [
    "# could load a previously saved file in order to plot\n",
    "#parallel_df_lc = MultiIndexDFObject()\n",
    "#parallel_df_lc.data = pd.read_parquet(parquet_savename)\n",
    "#print(\"file loaded!\")"
   ]
  },
  {
   "cell_type": "markdown",
   "metadata": {},
   "source": [
    "## 5. Make plots of luminosity as a function of time\n",
    "- model plots after [van Velzen et al., 2021](https://arxiv.org/pdf/2111.09391.pdf)\n"
   ]
  },
  {
   "cell_type": "code",
   "execution_count": null,
   "metadata": {
    "lines_to_end_of_cell_marker": 2
   },
   "outputs": [],
   "source": [
    "%%time\n",
    "\n",
    "for objectid, coord in coords_list:\n",
    "    \n",
    "    ## Set up =================\n",
    "    # choose whether to plot data from the serial or parallel calls\n",
    "    singleobj = df_lc.data.loc[objectid]\n",
    "    # singleobj = parallel_df_lc.data.loc[objectid]\n",
    "\n",
    "    # Set up for plotting. We use the \"mosaic\" method so we can plot\n",
    "    # the ZTF data in a subplot for better visibility.\n",
    "    fig, axes = plt.subplot_mosaic(mosaic=[[\"A\"],[\"A\"],[\"B\"]] , figsize=(10,8))\n",
    "    plt.subplots_adjust(hspace=0.3 , wspace=0.3)\n",
    "\n",
    "    ## Plot all the bands in the *main plot* (A) ====================\n",
    "    leg_handles_A = []\n",
    "    max_list = [] # store maximum flux for each band\n",
    "    ztf_minmax_tab = Table(names=[\"tmin\",\"tmax\",\"fluxmin\",\"fluxmax\"]) # store the min and max of the ZTF band fluxes and time\n",
    "    has_ztf = False # flag to set to True if ZTF data is available.\n",
    "    has_icecube = False # flag to set to True if IceCube data is available.\n",
    "    \n",
    "    for band in singleobj.index.unique('band'):\n",
    "        \n",
    "        # get data\n",
    "        band_lc = singleobj.loc[:, band, :]\n",
    "        band_lc.reset_index(inplace = True)\n",
    "\n",
    "        # first clean dataframe to remove erroneous rows\n",
    "        band_lc_clean = band_lc[band_lc['time'] < 65000]\n",
    "        \n",
    "        # Do some sigma-clipping, but only if more than 10 data points.\n",
    "        if len(band_lc_clean) >= 10:\n",
    "            band_lc_clean = band_lc_clean[np.abs(stats.zscore(band_lc_clean.flux)) < 3.0]\n",
    "        \n",
    "        # before plotting need to scale the Kepler, K2, and TESS fluxes to the other available fluxes\n",
    "        if band in ['Kepler', 'K2', 'TESS']: # Note: these are not included anymore...\n",
    "            \n",
    "            #remove outliers in the dataset\n",
    "            #bandlc_clip = band_lc_clean[(np.abs(stats.zscore(band_lc_clean['flux'])) < 3.0)]\n",
    "\n",
    "            #find the maximum value of 'other bands'\n",
    "            max_electrons = max(band_lc_clean.flux)\n",
    "            factor = np.mean(max_list)/ max_electrons\n",
    "            lh = axes[\"A\"].errorbar(bandlc_clip.time, bandlc_clip.flux * factor, bandlc_clip.err* factor,\n",
    "                                    capsize = 3.0,label = band)\n",
    "            \n",
    "        # ZTF is special because we are plotting the data also in \"B\" zoom-in\n",
    "        elif band in ['zg','zr','zi']: # for ZTF\n",
    "            has_ztf = True\n",
    "            max_list.append(max(band_lc_clean.flux)) \n",
    "            lh = axes[\"A\"].errorbar(band_lc_clean.time, band_lc_clean.flux, band_lc_clean.err,\n",
    "                                    capsize = 1.0, elinewidth=0.5,marker='o',markersize=2,linestyle='', label = \"ZTF {}\".format(band))\n",
    "            ztf_minmax_tab.add_row( [np.min(band_lc_clean.time) , np.max(band_lc_clean.time) , np.min(band_lc_clean.flux) , np.max(band_lc_clean.flux) ] )\n",
    "            \n",
    "            \n",
    "            # plot ZTF in zoomin\n",
    "            p1 = axes[\"B\"].errorbar(band_lc_clean.time, band_lc_clean.flux, band_lc_clean.err,\n",
    "                                    capsize = 1.0, elinewidth=0.5, marker='o',linestyle='',markersize=0.5, alpha=0.5,\n",
    "                                    label = \"ZTF {}\".format(band) , color=lh.lines[0].get_color())\n",
    "            \n",
    "            \n",
    "            \n",
    "            # overplot running mean fo ZTF in zoomin \n",
    "            xx = band_lc_clean.time.values # Note: need to use .values here to remove indexing.\n",
    "            yy = band_lc_clean.flux.values # Note: need to use .values here to remove indexing.\n",
    "            ee = band_lc_clean.err.values # Note: need to use .values here to remove indexing.\n",
    "            x_bin = 30 # in MJD\n",
    "            x_grid = np.arange(np.nanmin(xx) , np.nanmax(xx)+x_bin/4 , x_bin/4)\n",
    "            tmp = Table(names=[\"xbin\",\"ybin\",\"yerr\"])\n",
    "            \n",
    "            for xxx in x_grid:\n",
    "                s = np.where( np.abs(xx - xxx) < x_bin/2 )[0]\n",
    "                if len(s) > 1:\n",
    "                    mn = np.nansum(yy[s]*ee[s]) / np.nansum(ee[s]) # weighted mean\n",
    "                    tmp.add_row([xxx , mn , np.nanstd(yy[s])])\n",
    "                else:\n",
    "                    tmp.add_row([xxx , np.nan , np.nan])\n",
    "                    \n",
    "            axes[\"B\"].plot(tmp[\"xbin\"] , tmp[\"ybin\"] , \"-\", linewidth=1.5 , color=p1.lines[0].get_color())\n",
    "            \n",
    "            \n",
    "        \n",
    "        # IceCube is special because it's only events (= limits on plot.)\n",
    "        elif band in [\"IceCube\"]:\n",
    "            has_icecube = True\n",
    "            # We deal with this later. Need to wait for all the things to plot\n",
    "            # so we know the y limits.\n",
    "            \n",
    "        # Now plot everything else\n",
    "        else:\n",
    "            max_list.append(max(band_lc_clean.flux)) \n",
    "            lh = axes[\"A\"].errorbar(band_lc_clean.time, band_lc_clean.flux, band_lc_clean.err,\n",
    "                                    capsize = 3.0, label = band)\n",
    "            \n",
    "        leg_handles_A.append(lh) # add legend handles\n",
    "        \n",
    "    ## Now plot IceCube.\n",
    "    # we had to wait for all the data to be plotted so we know\n",
    "    # the y-limits of the resulting final plot. So, we do IceCube\n",
    "    # at the end.\n",
    "    if has_icecube:\n",
    "        band_lc = singleobj.loc[:, \"IceCube\", :]\n",
    "        band_lc.reset_index(inplace = True)\n",
    "        band_lc_clean = band_lc[band_lc['time'] < 65000]\n",
    "        \n",
    "        y = axes[\"A\"].get_ylim()[0] + np.diff(axes[\"A\"].get_ylim())*0.7\n",
    "        dy = np.diff(axes[\"A\"].get_ylim())/20\n",
    "        lh = axes[\"A\"].errorbar(band_lc_clean.time , np.repeat(y , len(band_lc_clean.time)) , yerr=dy, uplims=True ,\n",
    "                                fmt=\"o\"  , label=\"IceCube\" , color=\"black\")\n",
    "    \n",
    "        leg_handles_A.append(lh) # add legend handles (for IceCube)\n",
    "    \n",
    "    \n",
    "    ## Do Axes ===============\n",
    "    axes[\"A\"].set_ylabel('Flux(mJy)')\n",
    "    \n",
    "    # Plot the ZTF bands in a separate plot to show their variability\n",
    "    # more clearly. Can still also plot the rest, just change the x and\n",
    "    # y axis limits. Only do this if ZTF is available for source.\n",
    "    if has_ztf:\n",
    "        axes[\"B\"].set_ylabel('Flux(mJy)')\n",
    "        axes[\"B\"].set_xlabel('Time(MJD)')\n",
    "        axes[\"B\"].set_xlim( np.min(ztf_minmax_tab[\"tmin\"])-100 , np.max(ztf_minmax_tab[\"tmax\"])+100 )\n",
    "    \n",
    "    \n",
    "    plt.legend(handles=leg_handles_A , bbox_to_anchor=(1.4,3.5))\n",
    "    plt.tight_layout()\n",
    "    #save the plot to data/*.pdf\n",
    "    savename = \"data/lightcurve_{}.pdf\".format(objectid)\n",
    "    plt.savefig(savename, bbox_inches=\"tight\")\n",
    "    plt.show()"
   ]
  },
  {
   "cell_type": "markdown",
   "metadata": {},
   "source": [
    "## References\n",
    "\n",
    "This work made use of:\n",
    "\n",
    "- Astroquery; Ginsburg et al., 2019, 2019AJ....157...98G\n",
    "\n",
    "- Astropy; Astropy Collaboration 2022, Astropy Collaboration 2018, Astropy Collaboration 2013, 2022ApJ...935..167A, 2018AJ....156..123A, 2013A&A...558A..33A\n",
    "\n",
    "- Lightkurve; Lightkurve Collaboration 2018, 2018ascl.soft12013L\n",
    "\n",
    "- acstools; https://zenodo.org/record/7406933#.ZBH1HS-B0eY\n",
    "\n",
    "- unTimely; Meisner et al., 2023, 2023AJ....165...36M\n",
    "\n",
    "- Alerce; Forster et al., 2021, 2021AJ....161..242F"
   ]
  },
  {
   "cell_type": "code",
   "execution_count": null,
   "metadata": {},
   "outputs": [],
   "source": []
  }
 ],
 "metadata": {
  "kernelspec": {
   "display_name": "Python 3",
   "language": "python",
   "name": "python3"
  },
  "language_info": {
   "codemirror_mode": {
    "name": "ipython",
    "version": 3
   },
   "file_extension": ".py",
   "mimetype": "text/x-python",
   "name": "python",
   "nbconvert_exporter": "python",
   "pygments_lexer": "ipython3",
   "version": "3.8.6"
  }
 },
 "nbformat": 4,
 "nbformat_minor": 4
}
