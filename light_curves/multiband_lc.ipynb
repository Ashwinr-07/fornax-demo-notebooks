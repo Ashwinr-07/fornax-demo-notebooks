{
 "cells": [
  {
   "cell_type": "markdown",
   "metadata": {},
   "source": [
    "# Make multiwavelength light curves using archival data\n",
    "***\n",
    "\n",
    "## Learning Goals    \n",
    "By the end of this tutorial, you will be able to:\n",
    " - automatically load a catalog of sources\n",
    " - automatically search NASA and non-NASA resources for light curves\n",
    " - store light curves in a Pandas multiindex dataframe\n",
    " - plot all light curves on the same plot\n",
    " \n",
    " \n",
    "## Introduction:\n",
    " - A user has a sample of interesting targets for which they would like to see a plot of available archival light curves.  We start with a small set of changing look AGN from Yang et al., 2018, which are automatically downloaded. Changing look AGN are cases where the broad emission lines appear or disappear (and not just that the flux is variable). \n",
    " - We model light curve plots after van Velzen et al. 2021.  We search through a curated list of time-domain NASA holdings as well as non-NASA sources.  HEASARC catalogs used are Fermi and Beppo-Sax, IRSA catalogs used are ZTF and WISE, and MAST catalogs used are Pan-Starrs, TESS, Kepler, and K2.  Non-NASA sources are Gaia and IceCube. This list is generalized enough to include many types of targets to make this notebook interesting for many types of science.  All of these time-domain archives are searched in an automated fashion using astroquery or APIs.\n",
    " - Light curve data storage is a tricky problem.  Currently we are using a multi-index Pandas dataframe, as the best existing choice for right now.  One downside is that we need to manually track the units of flux and time instead of relying on an astropy storage scheme which would be able to do some of the units worrying for us (even astropy can't do all magnitude to flux conversions).  Astropy does not currently have a good option for multi-band light curve storage.\n",
    " - We intend to explore a ML classifier for these changing look AGN light curves.\n",
    " \n",
    "## Input:\n",
    " - choose from a list of known changing look AGN from the literature\n",
    " \n",
    "  OR - \n",
    " - input your own sample\n",
    "\n",
    "## Output:\n",
    " - an archival optical + IR + neutrino light curve\n",
    " \n",
    "## Non-standard Imports:\n",
    "- `acstools` to work with HST magnitude to flux conversion\n",
    "- `astropy` to work with coordinates/units and data structures\n",
    "- `astroquery` to interface with archives APIs\n",
    "- `hpgeom` to locate coordinates in HEALPix space\n",
    "- `lightkurve` to search TESSS, Kepler, and K2 archives\n",
    "- `s3fs` to connect to AWS S3 buckets\n",
    "- `unTimely` to retrieve WISE light curves\n",
    "- `urllib` to handle archive searches with website interface\n",
    "\n",
    "## Authors:\n",
    "Jessica Krick, Shoubaneh Hemmati, Andreas Faisst, Troy Raen, Brigitta Sipocz, Dave Shupe\n",
    "\n",
    "## Acknowledgements:\n",
    "Suvi Gezari, Antara Basu-zych,Stephanie LaMassa\\\n",
    "MAST, HEASARC, & IRSA Fornax teams\n",
    "\n"
   ]
  },
  {
   "cell_type": "code",
   "execution_count": 1,
   "metadata": {
    "scrolled": true,
    "tags": []
   },
   "outputs": [
    {
     "name": "stdout",
     "output_type": "stream",
     "text": [
      "Collecting git+https://github.com/fkiwy/unTimely_Catalog_explorer (from -r requirements.txt (line 7))\n",
      "  Cloning https://github.com/fkiwy/unTimely_Catalog_explorer to /tmp/pip-req-build-dm0wt4cq\n",
      "  Running command git clone --filter=blob:none --quiet https://github.com/fkiwy/unTimely_Catalog_explorer /tmp/pip-req-build-dm0wt4cq\n",
      "  Resolved https://github.com/fkiwy/unTimely_Catalog_explorer to commit 954b06b5dc91c207c335e652083327c4ec136dd9\n",
      "  Preparing metadata (setup.py) ... \u001b[?25ldone\n",
      "\u001b[?25hCollecting acstools\n",
      "  Using cached acstools-3.6.1-py3-none-any.whl (102 kB)\n",
      "Requirement already satisfied: astropy in /srv/conda/envs/notebook/lib/python3.9/site-packages (from -r requirements.txt (line 5)) (5.1)\n",
      "Collecting astroquery\n",
      "  Using cached astroquery-0.4.6-py3-none-any.whl (4.5 MB)\n",
      "Collecting hpgeom\n",
      "  Downloading hpgeom-1.0.0-cp39-cp39-manylinux_2_5_x86_64.manylinux1_x86_64.manylinux_2_17_x86_64.manylinux2014_x86_64.whl (151 kB)\n",
      "\u001b[2K     \u001b[90m━━━━━━━━━━━━━━━━━━━━━━━━━━━━━━━━━━━━━━\u001b[0m \u001b[32m151.1/151.1 kB\u001b[0m \u001b[31m13.2 MB/s\u001b[0m eta \u001b[36m0:00:00\u001b[0m\n",
      "\u001b[?25hCollecting lightkurve\n",
      "  Downloading lightkurve-2.4.1-py3-none-any.whl (265 kB)\n",
      "\u001b[2K     \u001b[90m━━━━━━━━━━━━━━━━━━━━━━━━━━━━━━━━━━━━━━\u001b[0m \u001b[32m265.8/265.8 kB\u001b[0m \u001b[31m29.8 MB/s\u001b[0m eta \u001b[36m0:00:00\u001b[0m\n",
      "\u001b[?25hRequirement already satisfied: matplotlib in /srv/conda/envs/notebook/lib/python3.9/site-packages (from -r requirements.txt (line 10)) (3.5.2)\n",
      "Requirement already satisfied: numpy in /srv/conda/envs/notebook/lib/python3.9/site-packages (from -r requirements.txt (line 11)) (1.22.4)\n",
      "Requirement already satisfied: pandas in /srv/conda/envs/notebook/lib/python3.9/site-packages (from -r requirements.txt (line 12)) (1.4.2)\n",
      "Collecting pyvo\n",
      "  Using cached pyvo-1.4.2-py3-none-any.whl (888 kB)\n",
      "Collecting reproject\n",
      "  Using cached reproject-0.11.0-cp39-cp39-manylinux_2_17_x86_64.manylinux2014_x86_64.whl (1.5 MB)\n",
      "Requirement already satisfied: s3fs in /srv/conda/envs/notebook/lib/python3.9/site-packages (from -r requirements.txt (line 15)) (2022.5.0)\n",
      "Requirement already satisfied: tqdm in /srv/conda/envs/notebook/lib/python3.9/site-packages (from -r requirements.txt (line 16)) (4.64.0)\n",
      "Collecting wget\n",
      "  Using cached wget-3.2-py3-none-any.whl\n",
      "Requirement already satisfied: requests in /srv/conda/envs/notebook/lib/python3.9/site-packages (from acstools->-r requirements.txt (line 4)) (2.28.0)\n",
      "Requirement already satisfied: PyYAML in /srv/conda/envs/notebook/lib/python3.9/site-packages (from acstools->-r requirements.txt (line 4)) (5.4.1)\n",
      "Requirement already satisfied: pyerfa>=2.0 in /srv/conda/envs/notebook/lib/python3.9/site-packages (from astropy->-r requirements.txt (line 5)) (2.0.0.1)\n",
      "Requirement already satisfied: packaging>=19.0 in /srv/conda/envs/notebook/lib/python3.9/site-packages (from astropy->-r requirements.txt (line 5)) (21.3)\n",
      "Requirement already satisfied: beautifulsoup4>=4.3.2 in /srv/conda/envs/notebook/lib/python3.9/site-packages (from astroquery->-r requirements.txt (line 6)) (4.11.1)\n",
      "Collecting keyring>=4.0\n",
      "  Using cached keyring-24.2.0-py3-none-any.whl (37 kB)\n",
      "Collecting html5lib>=0.999\n",
      "  Using cached html5lib-1.1-py2.py3-none-any.whl (112 kB)\n",
      "Requirement already satisfied: pillow in /srv/conda/envs/notebook/lib/python3.9/site-packages (from unTimely-Catalog-explorer==1.1.0->-r requirements.txt (line 7)) (9.1.1)\n",
      "Requirement already satisfied: patsy>=0.5.0 in /srv/conda/envs/notebook/lib/python3.9/site-packages (from lightkurve->-r requirements.txt (line 9)) (0.5.2)\n",
      "Collecting memoization>=0.3.1\n",
      "  Using cached memoization-0.4.0-py3-none-any.whl\n",
      "Collecting fbpca>=1.0\n",
      "  Using cached fbpca-1.0-py3-none-any.whl\n",
      "Requirement already satisfied: urllib3>=1.23 in /srv/conda/envs/notebook/lib/python3.9/site-packages (from lightkurve->-r requirements.txt (line 9)) (1.26.9)\n",
      "Collecting oktopus>=0.1.2\n",
      "  Using cached oktopus-0.1.2-py3-none-any.whl\n",
      "Requirement already satisfied: scikit-learn>=0.24.0 in /srv/conda/envs/notebook/lib/python3.9/site-packages (from lightkurve->-r requirements.txt (line 9)) (1.1.1)\n",
      "Requirement already satisfied: scipy>=1.7 in /srv/conda/envs/notebook/lib/python3.9/site-packages (from lightkurve->-r requirements.txt (line 9)) (1.8.1)\n",
      "Collecting uncertainties>=3.1.4\n",
      "  Using cached uncertainties-3.1.7-py2.py3-none-any.whl (98 kB)\n",
      "Requirement already satisfied: bokeh>=2.0.0 in /srv/conda/envs/notebook/lib/python3.9/site-packages (from lightkurve->-r requirements.txt (line 9)) (2.4.3)\n",
      "Requirement already satisfied: cycler>=0.10 in /srv/conda/envs/notebook/lib/python3.9/site-packages (from matplotlib->-r requirements.txt (line 10)) (0.11.0)\n",
      "Requirement already satisfied: fonttools>=4.22.0 in /srv/conda/envs/notebook/lib/python3.9/site-packages (from matplotlib->-r requirements.txt (line 10)) (4.33.3)\n",
      "Requirement already satisfied: kiwisolver>=1.0.1 in /srv/conda/envs/notebook/lib/python3.9/site-packages (from matplotlib->-r requirements.txt (line 10)) (1.4.3)\n",
      "Requirement already satisfied: python-dateutil>=2.7 in /srv/conda/envs/notebook/lib/python3.9/site-packages (from matplotlib->-r requirements.txt (line 10)) (2.8.2)\n",
      "Requirement already satisfied: pyparsing>=2.2.1 in /srv/conda/envs/notebook/lib/python3.9/site-packages (from matplotlib->-r requirements.txt (line 10)) (3.0.9)\n",
      "Requirement already satisfied: pytz>=2020.1 in /srv/conda/envs/notebook/lib/python3.9/site-packages (from pandas->-r requirements.txt (line 12)) (2022.1)\n",
      "Requirement already satisfied: cloudpickle in /srv/conda/envs/notebook/lib/python3.9/site-packages (from reproject->-r requirements.txt (line 14)) (2.1.0)\n",
      "Requirement already satisfied: zarr in /srv/conda/envs/notebook/lib/python3.9/site-packages (from reproject->-r requirements.txt (line 14)) (2.11.3)\n",
      "Requirement already satisfied: dask[array]>=2020 in /srv/conda/envs/notebook/lib/python3.9/site-packages (from reproject->-r requirements.txt (line 14)) (2022.6.0)\n",
      "Requirement already satisfied: fsspec in /srv/conda/envs/notebook/lib/python3.9/site-packages (from reproject->-r requirements.txt (line 14)) (2022.5.0)\n",
      "Collecting astropy-healpix>=0.6\n",
      "  Using cached astropy_healpix-1.0.0-cp39-abi3-manylinux_2_17_x86_64.manylinux2014_x86_64.whl (195 kB)\n",
      "Requirement already satisfied: aiobotocore~=2.3.0 in /srv/conda/envs/notebook/lib/python3.9/site-packages (from s3fs->-r requirements.txt (line 15)) (2.3.3)\n",
      "Requirement already satisfied: aiohttp<=4 in /srv/conda/envs/notebook/lib/python3.9/site-packages (from s3fs->-r requirements.txt (line 15)) (3.8.1)\n",
      "Requirement already satisfied: aioitertools>=0.5.1 in /srv/conda/envs/notebook/lib/python3.9/site-packages (from aiobotocore~=2.3.0->s3fs->-r requirements.txt (line 15)) (0.10.0)\n",
      "Requirement already satisfied: botocore<1.24.22,>=1.24.21 in /srv/conda/envs/notebook/lib/python3.9/site-packages (from aiobotocore~=2.3.0->s3fs->-r requirements.txt (line 15)) (1.24.21)\n",
      "Requirement already satisfied: wrapt>=1.10.10 in /srv/conda/envs/notebook/lib/python3.9/site-packages (from aiobotocore~=2.3.0->s3fs->-r requirements.txt (line 15)) (1.14.1)\n",
      "Requirement already satisfied: yarl<2.0,>=1.0 in /srv/conda/envs/notebook/lib/python3.9/site-packages (from aiohttp<=4->s3fs->-r requirements.txt (line 15)) (1.7.2)\n",
      "Requirement already satisfied: charset-normalizer<3.0,>=2.0 in /srv/conda/envs/notebook/lib/python3.9/site-packages (from aiohttp<=4->s3fs->-r requirements.txt (line 15)) (2.0.12)\n",
      "Requirement already satisfied: frozenlist>=1.1.1 in /srv/conda/envs/notebook/lib/python3.9/site-packages (from aiohttp<=4->s3fs->-r requirements.txt (line 15)) (1.3.0)\n",
      "Requirement already satisfied: aiosignal>=1.1.2 in /srv/conda/envs/notebook/lib/python3.9/site-packages (from aiohttp<=4->s3fs->-r requirements.txt (line 15)) (1.2.0)\n",
      "Requirement already satisfied: async-timeout<5.0,>=4.0.0a3 in /srv/conda/envs/notebook/lib/python3.9/site-packages (from aiohttp<=4->s3fs->-r requirements.txt (line 15)) (4.0.2)\n",
      "Requirement already satisfied: attrs>=17.3.0 in /srv/conda/envs/notebook/lib/python3.9/site-packages (from aiohttp<=4->s3fs->-r requirements.txt (line 15)) (21.4.0)\n",
      "Requirement already satisfied: multidict<7.0,>=4.5 in /srv/conda/envs/notebook/lib/python3.9/site-packages (from aiohttp<=4->s3fs->-r requirements.txt (line 15)) (6.0.2)\n",
      "Requirement already satisfied: soupsieve>1.2 in /srv/conda/envs/notebook/lib/python3.9/site-packages (from beautifulsoup4>=4.3.2->astroquery->-r requirements.txt (line 6)) (2.3.1)\n",
      "Requirement already satisfied: tornado>=5.1 in /srv/conda/envs/notebook/lib/python3.9/site-packages (from bokeh>=2.0.0->lightkurve->-r requirements.txt (line 9)) (6.1)\n",
      "Requirement already satisfied: typing-extensions>=3.10.0 in /srv/conda/envs/notebook/lib/python3.9/site-packages (from bokeh>=2.0.0->lightkurve->-r requirements.txt (line 9)) (4.2.0)\n",
      "Requirement already satisfied: Jinja2>=2.9 in /srv/conda/envs/notebook/lib/python3.9/site-packages (from bokeh>=2.0.0->lightkurve->-r requirements.txt (line 9)) (3.1.2)\n",
      "Requirement already satisfied: partd>=0.3.10 in /srv/conda/envs/notebook/lib/python3.9/site-packages (from dask[array]>=2020->reproject->-r requirements.txt (line 14)) (1.2.0)\n",
      "Requirement already satisfied: toolz>=0.8.2 in /srv/conda/envs/notebook/lib/python3.9/site-packages (from dask[array]>=2020->reproject->-r requirements.txt (line 14)) (0.11.2)\n",
      "Requirement already satisfied: six>=1.9 in /srv/conda/envs/notebook/lib/python3.9/site-packages (from html5lib>=0.999->astroquery->-r requirements.txt (line 6)) (1.16.0)\n",
      "Requirement already satisfied: webencodings in /srv/conda/envs/notebook/lib/python3.9/site-packages (from html5lib>=0.999->astroquery->-r requirements.txt (line 6)) (0.5.1)\n",
      "Collecting SecretStorage>=3.2\n",
      "  Using cached SecretStorage-3.3.3-py3-none-any.whl (15 kB)\n",
      "Collecting jaraco.classes\n",
      "  Using cached jaraco.classes-3.3.0-py3-none-any.whl (5.9 kB)\n",
      "Collecting jeepney>=0.4.2\n",
      "  Using cached jeepney-0.8.0-py3-none-any.whl (48 kB)\n",
      "Requirement already satisfied: importlib-metadata>=4.11.4 in /srv/conda/envs/notebook/lib/python3.9/site-packages (from keyring>=4.0->astroquery->-r requirements.txt (line 6)) (4.11.4)\n",
      "Collecting autograd\n",
      "  Using cached autograd-1.6.2-py3-none-any.whl (49 kB)\n",
      "Requirement already satisfied: certifi>=2017.4.17 in /srv/conda/envs/notebook/lib/python3.9/site-packages (from requests->acstools->-r requirements.txt (line 4)) (2022.6.15)\n",
      "Requirement already satisfied: idna<4,>=2.5 in /srv/conda/envs/notebook/lib/python3.9/site-packages (from requests->acstools->-r requirements.txt (line 4)) (3.3)\n",
      "Requirement already satisfied: threadpoolctl>=2.0.0 in /srv/conda/envs/notebook/lib/python3.9/site-packages (from scikit-learn>=0.24.0->lightkurve->-r requirements.txt (line 9)) (3.1.0)\n",
      "Requirement already satisfied: joblib>=1.0.0 in /srv/conda/envs/notebook/lib/python3.9/site-packages (from scikit-learn>=0.24.0->lightkurve->-r requirements.txt (line 9)) (1.1.0)\n",
      "Requirement already satisfied: future in /srv/conda/envs/notebook/lib/python3.9/site-packages (from uncertainties>=3.1.4->lightkurve->-r requirements.txt (line 9)) (0.18.2)\n",
      "Requirement already satisfied: fasteners in /srv/conda/envs/notebook/lib/python3.9/site-packages (from zarr->reproject->-r requirements.txt (line 14)) (0.17.3)\n",
      "Requirement already satisfied: numcodecs>=0.6.4 in /srv/conda/envs/notebook/lib/python3.9/site-packages (from zarr->reproject->-r requirements.txt (line 14)) (0.9.1)\n",
      "Requirement already satisfied: asciitree in /srv/conda/envs/notebook/lib/python3.9/site-packages (from zarr->reproject->-r requirements.txt (line 14)) (0.3.3)\n",
      "Requirement already satisfied: jmespath<2.0.0,>=0.7.1 in /srv/conda/envs/notebook/lib/python3.9/site-packages (from botocore<1.24.22,>=1.24.21->aiobotocore~=2.3.0->s3fs->-r requirements.txt (line 15)) (1.0.0)\n",
      "Requirement already satisfied: zipp>=0.5 in /srv/conda/envs/notebook/lib/python3.9/site-packages (from importlib-metadata>=4.11.4->keyring>=4.0->astroquery->-r requirements.txt (line 6)) (3.8.0)\n",
      "Requirement already satisfied: MarkupSafe>=2.0 in /srv/conda/envs/notebook/lib/python3.9/site-packages (from Jinja2>=2.9->bokeh>=2.0.0->lightkurve->-r requirements.txt (line 9)) (2.1.1)\n",
      "Requirement already satisfied: locket in /srv/conda/envs/notebook/lib/python3.9/site-packages (from partd>=0.3.10->dask[array]>=2020->reproject->-r requirements.txt (line 14)) (1.0.0)\n",
      "Requirement already satisfied: cryptography>=2.0 in /srv/conda/envs/notebook/lib/python3.9/site-packages (from SecretStorage>=3.2->keyring>=4.0->astroquery->-r requirements.txt (line 6)) (37.0.2)\n",
      "Collecting more-itertools\n",
      "  Using cached more_itertools-10.1.0-py3-none-any.whl (55 kB)\n",
      "Requirement already satisfied: cffi>=1.12 in /srv/conda/envs/notebook/lib/python3.9/site-packages (from cryptography>=2.0->SecretStorage>=3.2->keyring>=4.0->astroquery->-r requirements.txt (line 6)) (1.15.0)\n",
      "Requirement already satisfied: pycparser in /srv/conda/envs/notebook/lib/python3.9/site-packages (from cffi>=1.12->cryptography>=2.0->SecretStorage>=3.2->keyring>=4.0->astroquery->-r requirements.txt (line 6)) (2.21)\n",
      "Building wheels for collected packages: unTimely-Catalog-explorer\n",
      "  Building wheel for unTimely-Catalog-explorer (setup.py) ... \u001b[?25ldone\n",
      "\u001b[?25h  Created wheel for unTimely-Catalog-explorer: filename=unTimely_Catalog_explorer-1.1.0-py3-none-any.whl size=13217 sha256=eb840099e4d3a913d2d5bcc3197622791b67833b8c021509e55fd0df95c072ef\n",
      "  Stored in directory: /tmp/pip-ephem-wheel-cache-7hgziz3i/wheels/10/84/2d/f0d1765ad9b0ecd47489f350ba673b6fe9f9ba3bdf07e10e1b\n",
      "Successfully built unTimely-Catalog-explorer\n",
      "Installing collected packages: wget, fbpca, uncertainties, more-itertools, memoization, jeepney, html5lib, hpgeom, autograd, oktopus, jaraco.classes, SecretStorage, pyvo, astropy-healpix, acstools, reproject, keyring, unTimely-Catalog-explorer, astroquery, lightkurve\n",
      "Successfully installed SecretStorage-3.3.3 acstools-3.6.1 astropy-healpix-1.0.0 astroquery-0.4.6 autograd-1.6.2 fbpca-1.0 hpgeom-1.0.0 html5lib-1.1 jaraco.classes-3.3.0 jeepney-0.8.0 keyring-24.2.0 lightkurve-2.4.1 memoization-0.4.0 more-itertools-10.1.0 oktopus-0.1.2 pyvo-1.4.2 reproject-0.11.0 unTimely-Catalog-explorer-1.1.0 uncertainties-3.1.7 wget-3.2\n"
     ]
    }
   ],
   "source": [
    "#ensure all dependencies are installed\n",
    "!pip install -r requirements.txt"
   ]
  },
  {
   "cell_type": "code",
   "execution_count": 1,
   "metadata": {
    "scrolled": true,
    "tags": []
   },
   "outputs": [],
   "source": [
    "import sys\n",
    "import time\n",
    "import warnings\n",
    "from math import ceil\n",
    "from multiprocessing import Pool\n",
    "\n",
    "import astropy.units as u\n",
    "import matplotlib.pyplot as plt\n",
    "import numpy as np\n",
    "from astropy.table import Table\n",
    "from scipy import stats\n",
    "import pandas as pd\n",
    "\n",
    "warnings.filterwarnings('ignore')\n",
    "\n",
    "# local code imports\n",
    "sys.path.append('code/')\n",
    "from panstarrs import panstarrs_get_lightcurves\n",
    "from gaia_functions import Gaia_get_lightcurve\n",
    "from HCV_functions import HCV_get_lightcurves\n",
    "from icecube_functions import icecube_get_lightcurve\n",
    "from sample_selection import get_lamassa_sample, get_macleod16_sample, get_ruan_sample, get_macleod19_sample, get_sheng_sample, \\\n",
    "    get_green_sample, get_lyu_sample, get_lopeznavas_sample, get_hon_sample, get_yang_sample,  get_SDSS_sample, clean_sample\n",
    "from data_structures import MultiIndexDFObject\n",
    "from heasarc_functions import HEASARC_get_lightcurves\n",
    "from TESS_Kepler_functions import TESS_Kepler_get_lightcurves\n",
    "from WISE_functions import WISE_get_lightcurves\n",
    "from plot_functions import create_figures\n",
    "# Note: ZTF data is temporarily located in a non-public AWS S3 bucket. It is automatically\n",
    "# available from the Fornax SMCE, but will require user credentials for access outside the SMCE.\n",
    "from ztf_functions import ZTF_get_lightcurve\n"
   ]
  },
  {
   "cell_type": "markdown",
   "metadata": {},
   "source": [
    "## 1. Define the Sample\n",
    " We define here a \"gold\" sample of spectroscopically confirmed changing look AGN and quasars. This sample includes both objects which change from type 1 to type 2 and also the opposite.  Future studies may want to treat these as seperate objects or seperate QSOs from AGN.\n",
    " \n",
    " Bibcodes for the samples used are listed next to their functions for reference.  \n",
    " \n",
    " Functions used to grab the samples from the papers use Astroquery, NED, SIMBAD, Vizier, and in a few cases grab the tables from the html versions of the paper."
   ]
  },
  {
   "cell_type": "code",
   "execution_count": 2,
   "metadata": {},
   "outputs": [
    {
     "name": "stdout",
     "output_type": "stream",
     "text": [
      "Changing Look AGN- Yang et al:  31\n",
      "SDSS Quasar: 0\n",
      "after duplicates removal, sample size: 30\n"
     ]
    }
   ],
   "source": [
    "#build up the sample\n",
    "coords =[]\n",
    "labels = []\n",
    "\n",
    "#choose your own adventure:\n",
    "\n",
    "#get_lamassa_sample(coords, labels)  #2015ApJ...800..144L\n",
    "#get_macleod16_sample(coords, labels) #2016MNRAS.457..389M\n",
    "#get_ruan_sample(coords, labels) #2016ApJ...826..188R\n",
    "#get_macleod19_sample(coords, labels)  #2019ApJ...874....8M\n",
    "#get_sheng_sample(coords, labels)  #2020ApJ...889...46S\n",
    "#get_green_sample(coords, labels)  #2022ApJ...933..180G\n",
    "#get_lyu_sample(coords, labels)  #z32022ApJ...927..227L\n",
    "#get_lopeznavas_sample(coords, labels)  #2022MNRAS.513L..57L\n",
    "#get_hon_sample(coords, labels)  #2022MNRAS.511...54H\n",
    "get_yang_sample(coords, labels)   #2018ApJ...862..109Y\n",
    "\n",
    "#now get some \"normal\" QSOs for use in the classifier\n",
    "#there are ~500K of these, so choose the number based on\n",
    "#a balance between speed of running the light curves and whatever \n",
    "#the ML algorithms would like to have\n",
    "\n",
    "num_normal_QSO = 0\n",
    "get_SDSS_sample(coords, labels, num_normal_QSO)\n",
    "\n",
    "# remove duplicates and attach an objectid to the coords\n",
    "coords_list, labels_list = clean_sample(coords, labels)\n",
    "\n"
   ]
  },
  {
   "cell_type": "markdown",
   "metadata": {},
   "source": [
    "### 1.1 Build your own Sample\n",
    "\n",
    "To build your own sample, you can follow the examples of functions above to grab coordinates from your favorite literature resource, \n",
    "\n",
    "or\n",
    "\n",
    "You can use [astropy's read](https://docs.astropy.org/en/stable/io/ascii/read.html) function to read in an input table\n",
    "and then convert that table into a list of [skycoords](https://docs.astropy.org/en/stable/api/astropy.coordinates.SkyCoord.html) "
   ]
  },
  {
   "cell_type": "markdown",
   "metadata": {},
   "source": [
    "## 2. Find light curves for these targets in NASA catalogs\n",
    "  - We search a curated list of time-domain catalogs from all NASA astrophysics archives\n"
   ]
  },
  {
   "cell_type": "code",
   "execution_count": 3,
   "metadata": {},
   "outputs": [],
   "source": [
    "### Initialize Pandas MultiIndex data frame for storing the light curves\n",
    "df_lc = MultiIndexDFObject()"
   ]
  },
  {
   "cell_type": "markdown",
   "metadata": {},
   "source": [
    "### 2.1 HEASARC: FERMI & Beppo SAX\n"
   ]
  },
  {
   "cell_type": "code",
   "execution_count": null,
   "metadata": {},
   "outputs": [],
   "source": [
    "start_serial = time.time()\n",
    "\n",
    "#what is the size of error_radius for the fermi catalog that we will accept for our cross-matching?\n",
    "#in degrees; chosen based on histogram of all values for these catalogs\n",
    "max_fermi_error_radius = str(1.0)  \n",
    "max_sax_error_radius = str(3.0)\n",
    "\n",
    "#list of missions to query and their corresponding error radii\n",
    "heasarc_cat = [\"FERMIGTRIG\", \"SAXGRBMGRB\"]\n",
    "error_radius = [max_fermi_error_radius , max_sax_error_radius]\n",
    "\n",
    "\n",
    "#go out and find all light curves in the above curated list which match our target positions\n",
    "df_lc_fermi = HEASARC_get_lightcurves(coords_list, labels_list, heasarc_cat, error_radius)\n",
    "df_lc.append(df_lc_fermi)\n",
    "    "
   ]
  },
  {
   "cell_type": "code",
   "execution_count": null,
   "metadata": {},
   "outputs": [],
   "source": [
    "df_lc.data"
   ]
  },
  {
   "cell_type": "markdown",
   "metadata": {},
   "source": [
    "### 2.2 IRSA: ZTF"
   ]
  },
  {
   "cell_type": "code",
   "execution_count": null,
   "metadata": {
    "scrolled": true
   },
   "outputs": [],
   "source": [
    "df_lc_ZTF = ZTF_get_lightcurve(coords_list, labels_list)\n",
    "\n",
    "#add the resulting dataframe to all other archives\n",
    "df_lc.append(df_lc_ZTF)"
   ]
  },
  {
   "cell_type": "markdown",
   "metadata": {},
   "source": [
    "### 2.3 IRSA:WISE\n",
    "\n",
    "- use the unTimely catalog which ties together all WISE & NEOWISE 2010 - 2020 epochs.  Specifically it combined all observations at a single epoch to achieve deeper mag limits than individual observations alone.\n",
    "- https://github.com/fkiwy/unTimely_Catalog_explorer\n",
    "- https://iopscience-iop-org.caltech.idm.oclc.org/article/10.3847/1538-3881/aca2ab"
   ]
  },
  {
   "cell_type": "code",
   "execution_count": null,
   "metadata": {
    "scrolled": true,
    "tags": []
   },
   "outputs": [],
   "source": [
    "bandlist = ['w1', 'w2']\n",
    "WISE_radius = 1.0\n",
    "\n",
    "df_lc_WISE = WISE_get_lightcurves(coords_list, labels_list, WISE_radius, bandlist)\n",
    "\n",
    "#add the resulting dataframe to all other archives\n",
    "df_lc.append(df_lc_WISE)"
   ]
  },
  {
   "cell_type": "markdown",
   "metadata": {},
   "source": [
    "### 2.4 MAST: Pan-STARRS\n",
    "Query the Pan-STARRS API; based on this [example](https://ps1images.stsci.edu/ps1_dr2_api.html)"
   ]
  },
  {
   "cell_type": "code",
   "execution_count": null,
   "metadata": {},
   "outputs": [],
   "source": [
    "#Do a panstarrs search\n",
    "panstarrs_radius = 1.0/3600.0    # search radius = 1 arcsec\n",
    "df_lc_panstarrs = panstarrs_get_lightcurves(coords_list, labels_list, panstarrs_radius)\n",
    "\n",
    "#add the resulting dataframe to all other archives\n",
    "df_lc.append(df_lc_panstarrs)"
   ]
  },
  {
   "cell_type": "markdown",
   "metadata": {},
   "source": [
    "### 2.5 MAST: Asteroid Terrestrial-impact Last Alert System (ATLAS)\n",
    " - All-sky stellar reference catalog \n",
    " -  MAST hosts this catalog but there are three barriers to using it\n",
    "     1. it is unclear if the MAST [holdings]( https://archive.stsci.edu/hlsp/atlas-refcat2#section-a737bc3e-2d56-4827-9ab4-838fbf8d67c1) include the individual epoch photometry and \n",
    "     2. it is only accessible with casjobs, not through python notebooks.  \n",
    "     3. magnitude range (g, r, i) < 19mag makes it not relevant for this use case\n",
    " \n",
    "One path forward if this catalog becomes scientifically interesting is to put in a MAST helpdesk ticket to see if 1) they do have the light curves, and 2) they could switch the catalog to a searchable with python version.  There are some ways of [accessing casjobs with python](<https://github.com/spacetelescope/notebooks/blob/master/notebooks/MAST/HSC/HCV_CASJOBS/HCV_casjobs_demo.ipynb), but not this particular catalog.  \n",
    " "
   ]
  },
  {
   "cell_type": "markdown",
   "metadata": {},
   "source": [
    "### 2.6 MAST: TESS, Kepler and K2\n",
    " - use [`lightKurve`](https://docs.lightkurve.org/index.html) to search all 3 missions and download light curves\n",
    " \n"
   ]
  },
  {
   "cell_type": "code",
   "execution_count": 5,
   "metadata": {
    "scrolled": true
   },
   "outputs": [
    {
     "name": "stderr",
     "output_type": "stream",
     "text": [
      "  0%|          | 0/50 [00:00<?, ?it/s]No data found for target \"<SkyCoord (ICRS): (ra, dec) in deg\n",
      "    (23.631323, 30.353149)>\".\n",
      "ERROR:lightkurve.search:No data found for target \"<SkyCoord (ICRS): (ra, dec) in deg\n",
      "    (23.631323, 30.353149)>\".\n",
      "  2%|▏         | 1/50 [00:04<04:00,  4.90s/it]"
     ]
    },
    {
     "name": "stdout",
     "output_type": "stream",
     "text": [
      "1 got a live one\n"
     ]
    },
    {
     "name": "stderr",
     "output_type": "stream",
     "text": [
      "  4%|▍         | 2/50 [00:07<02:44,  3.43s/it]No data found for target \"<SkyCoord (ICRS): (ra, dec) in deg\n",
      "    (146.92371, 45.404365)>\".\n",
      "ERROR:lightkurve.search:No data found for target \"<SkyCoord (ICRS): (ra, dec) in deg\n",
      "    (146.92371, 45.404365)>\".\n",
      "  6%|▌         | 3/50 [00:10<02:28,  3.17s/it]No data found for target \"<SkyCoord (ICRS): (ra, dec) in deg\n",
      "    (37.692791, -0.758662)>\".\n",
      "ERROR:lightkurve.search:No data found for target \"<SkyCoord (ICRS): (ra, dec) in deg\n",
      "    (37.692791, -0.758662)>\".\n",
      "  8%|▊         | 4/50 [00:11<01:45,  2.30s/it]No data found for target \"<SkyCoord (ICRS): (ra, dec) in deg\n",
      "    (204.56854, 37.277746)>\".\n",
      "ERROR:lightkurve.search:No data found for target \"<SkyCoord (ICRS): (ra, dec) in deg\n",
      "    (204.56854, 37.277746)>\".\n",
      " 10%|█         | 5/50 [00:12<01:32,  2.06s/it]No data found for target \"<SkyCoord (ICRS): (ra, dec) in deg\n",
      "    (229.82555, 19.102299)>\".\n",
      "ERROR:lightkurve.search:No data found for target \"<SkyCoord (ICRS): (ra, dec) in deg\n",
      "    (229.82555, 19.102299)>\".\n",
      " 12%|█▏        | 6/50 [00:13<01:09,  1.58s/it]No data found for target \"<SkyCoord (ICRS): (ra, dec) in deg\n",
      "    (198.03416, 44.01478)>\".\n",
      "ERROR:lightkurve.search:No data found for target \"<SkyCoord (ICRS): (ra, dec) in deg\n",
      "    (198.03416, 44.01478)>\".\n",
      " 14%|█▍        | 7/50 [00:14<01:06,  1.54s/it]No data found for target \"<SkyCoord (ICRS): (ra, dec) in deg\n",
      "    (28.184407, 31.761413)>\".\n",
      "ERROR:lightkurve.search:No data found for target \"<SkyCoord (ICRS): (ra, dec) in deg\n",
      "    (28.184407, 31.761413)>\".\n",
      " 16%|█▌        | 8/50 [00:18<01:36,  2.29s/it]No data found for target \"<SkyCoord (ICRS): (ra, dec) in deg\n",
      "    (163.17191, 36.669169)>\".\n",
      "ERROR:lightkurve.search:No data found for target \"<SkyCoord (ICRS): (ra, dec) in deg\n",
      "    (163.17191, 36.669169)>\".\n",
      " 18%|█▊        | 9/50 [00:20<01:20,  1.97s/it]No data found for target \"<SkyCoord (ICRS): (ra, dec) in deg\n",
      "    (318.9311, 0.53348942)>\".\n",
      "ERROR:lightkurve.search:No data found for target \"<SkyCoord (ICRS): (ra, dec) in deg\n",
      "    (318.9311, 0.53348942)>\".\n",
      " 20%|██        | 10/50 [00:21<01:07,  1.68s/it]No data found for target \"<SkyCoord (ICRS): (ra, dec) in deg\n",
      "    (21.348922, 16.562467)>\".\n",
      "ERROR:lightkurve.search:No data found for target \"<SkyCoord (ICRS): (ra, dec) in deg\n",
      "    (21.348922, 16.562467)>\".\n",
      " 22%|██▏       | 11/50 [00:24<01:32,  2.37s/it]No data found for target \"<SkyCoord (ICRS): (ra, dec) in deg\n",
      "    (206.82867, 44.612197)>\".\n",
      "ERROR:lightkurve.search:No data found for target \"<SkyCoord (ICRS): (ra, dec) in deg\n",
      "    (206.82867, 44.612197)>\".\n",
      " 24%|██▍       | 12/50 [00:26<01:25,  2.26s/it]No data found for target \"<SkyCoord (ICRS): (ra, dec) in deg\n",
      "    (173.3499, 55.071078)>\".\n",
      "ERROR:lightkurve.search:No data found for target \"<SkyCoord (ICRS): (ra, dec) in deg\n",
      "    (173.3499, 55.071078)>\".\n",
      " 26%|██▌       | 13/50 [00:30<01:32,  2.50s/it]"
     ]
    },
    {
     "name": "stdout",
     "output_type": "stream",
     "text": [
      "13 got a live one\n"
     ]
    },
    {
     "name": "stderr",
     "output_type": "stream",
     "text": [
      " 28%|██▊       | 14/50 [00:32<01:32,  2.57s/it]No data found for target \"<SkyCoord (ICRS): (ra, dec) in deg\n",
      "    (145.97096, 49.010633)>\".\n",
      "ERROR:lightkurve.search:No data found for target \"<SkyCoord (ICRS): (ra, dec) in deg\n",
      "    (145.97096, 49.010633)>\".\n",
      " 30%|███       | 15/50 [00:33<01:13,  2.11s/it]No data found for target \"<SkyCoord (ICRS): (ra, dec) in deg\n",
      "    (41.364797, -3.1138116)>\".\n",
      "ERROR:lightkurve.search:No data found for target \"<SkyCoord (ICRS): (ra, dec) in deg\n",
      "    (41.364797, -3.1138116)>\".\n",
      " 32%|███▏      | 16/50 [00:35<01:06,  1.96s/it]No data found for target \"<SkyCoord (ICRS): (ra, dec) in deg\n",
      "    (120.3977, 34.061566)>\".\n",
      "ERROR:lightkurve.search:No data found for target \"<SkyCoord (ICRS): (ra, dec) in deg\n",
      "    (120.3977, 34.061566)>\".\n",
      " 34%|███▍      | 17/50 [00:39<01:25,  2.60s/it]No data found for target \"<SkyCoord (ICRS): (ra, dec) in deg\n",
      "    (12.486346, -2.5469314)>\".\n",
      "ERROR:lightkurve.search:No data found for target \"<SkyCoord (ICRS): (ra, dec) in deg\n",
      "    (12.486346, -2.5469314)>\".\n",
      " 36%|███▌      | 18/50 [00:41<01:18,  2.45s/it]No data found for target \"<SkyCoord (ICRS): (ra, dec) in deg\n",
      "    (146.37237, 9.6028969)>\".\n",
      "ERROR:lightkurve.search:No data found for target \"<SkyCoord (ICRS): (ra, dec) in deg\n",
      "    (146.37237, 9.6028969)>\".\n",
      " 38%|███▊      | 19/50 [00:45<01:30,  2.92s/it]No data found for target \"<SkyCoord (ICRS): (ra, dec) in deg\n",
      "    (179.20813, 47.941557)>\".\n",
      "ERROR:lightkurve.search:No data found for target \"<SkyCoord (ICRS): (ra, dec) in deg\n",
      "    (179.20813, 47.941557)>\".\n",
      " 40%|████      | 20/50 [00:48<01:22,  2.76s/it]"
     ]
    },
    {
     "name": "stdout",
     "output_type": "stream",
     "text": [
      "20 got a live one\n"
     ]
    },
    {
     "name": "stderr",
     "output_type": "stream",
     "text": [
      " 42%|████▏     | 21/50 [00:50<01:16,  2.63s/it]"
     ]
    },
    {
     "name": "stdout",
     "output_type": "stream",
     "text": [
      "21 got a live one\n"
     ]
    },
    {
     "name": "stderr",
     "output_type": "stream",
     "text": [
      " 46%|████▌     | 23/50 [00:58<01:31,  3.39s/it]"
     ]
    },
    {
     "name": "stdout",
     "output_type": "stream",
     "text": [
      "22 got a live one\n"
     ]
    },
    {
     "name": "stderr",
     "output_type": "stream",
     "text": [
      "No data found for target \"<SkyCoord (ICRS): (ra, dec) in deg\n",
      "    (174.80641, 15.037701)>\".\n",
      "ERROR:lightkurve.search:No data found for target \"<SkyCoord (ICRS): (ra, dec) in deg\n",
      "    (174.80641, 15.037701)>\".\n",
      " 48%|████▊     | 24/50 [01:00<01:22,  3.16s/it]No data found for target \"<SkyCoord (ICRS): (ra, dec) in deg\n",
      "    (185.92837, 58.246151)>\".\n",
      "ERROR:lightkurve.search:No data found for target \"<SkyCoord (ICRS): (ra, dec) in deg\n",
      "    (185.92837, 58.246151)>\".\n",
      " 50%|█████     | 25/50 [01:04<01:21,  3.27s/it]No data found for target \"<SkyCoord (ICRS): (ra, dec) in deg\n",
      "    (139.56059, 26.609858)>\".\n",
      "ERROR:lightkurve.search:No data found for target \"<SkyCoord (ICRS): (ra, dec) in deg\n",
      "    (139.56059, 26.609858)>\".\n",
      " 52%|█████▏    | 26/50 [01:07<01:16,  3.18s/it]No data found for target \"<SkyCoord (ICRS): (ra, dec) in deg\n",
      "    (43.787434, 0.91687474)>\".\n",
      "ERROR:lightkurve.search:No data found for target \"<SkyCoord (ICRS): (ra, dec) in deg\n",
      "    (43.787434, 0.91687474)>\".\n",
      " 54%|█████▍    | 27/50 [01:09<01:03,  2.75s/it]No data found for target \"<SkyCoord (ICRS): (ra, dec) in deg\n",
      "    (354.69518, 18.28872)>\".\n",
      "ERROR:lightkurve.search:No data found for target \"<SkyCoord (ICRS): (ra, dec) in deg\n",
      "    (354.69518, 18.28872)>\".\n",
      " 56%|█████▌    | 28/50 [01:15<01:23,  3.77s/it]No data found for target \"<SkyCoord (ICRS): (ra, dec) in deg\n",
      "    (121.4111, 26.16819)>\".\n",
      "ERROR:lightkurve.search:No data found for target \"<SkyCoord (ICRS): (ra, dec) in deg\n",
      "    (121.4111, 26.16819)>\".\n",
      " 58%|█████▊    | 29/50 [01:17<01:11,  3.41s/it]No data found for target \"<SkyCoord (ICRS): (ra, dec) in deg\n",
      "    (216.99647, 36.248931)>\".\n",
      "ERROR:lightkurve.search:No data found for target \"<SkyCoord (ICRS): (ra, dec) in deg\n",
      "    (216.99647, 36.248931)>\".\n",
      " 60%|██████    | 30/50 [01:20<01:04,  3.24s/it]No data found for target \"<SkyCoord (ICRS): (ra, dec) in deg\n",
      "    (337.80623, 3.5590394)>\".\n",
      "ERROR:lightkurve.search:No data found for target \"<SkyCoord (ICRS): (ra, dec) in deg\n",
      "    (337.80623, 3.5590394)>\".\n",
      " 62%|██████▏   | 31/50 [01:25<01:08,  3.59s/it]No data found for target \"<SkyCoord (ICRS): (ra, dec) in deg\n",
      "    (185.52368, 35.758791)>\".\n",
      "ERROR:lightkurve.search:No data found for target \"<SkyCoord (ICRS): (ra, dec) in deg\n",
      "    (185.52368, 35.758791)>\".\n",
      " 64%|██████▍   | 32/50 [01:26<00:51,  2.88s/it]No data found for target \"<SkyCoord (ICRS): (ra, dec) in deg\n",
      "    (66.11451, 27.584355)>\".\n",
      "ERROR:lightkurve.search:No data found for target \"<SkyCoord (ICRS): (ra, dec) in deg\n",
      "    (66.11451, 27.584355)>\".\n",
      " 66%|██████▌   | 33/50 [01:32<01:06,  3.92s/it]No data found for target \"<SkyCoord (ICRS): (ra, dec) in deg\n",
      "    (175.28812, 1.5560344)>\".\n",
      "ERROR:lightkurve.search:No data found for target \"<SkyCoord (ICRS): (ra, dec) in deg\n",
      "    (175.28812, 1.5560344)>\".\n",
      " 68%|██████▊   | 34/50 [01:35<00:56,  3.53s/it]"
     ]
    },
    {
     "name": "stdout",
     "output_type": "stream",
     "text": [
      "34 got a live one\n"
     ]
    },
    {
     "name": "stderr",
     "output_type": "stream",
     "text": [
      " 70%|███████   | 35/50 [01:38<00:53,  3.56s/it]No data found for target \"<SkyCoord (ICRS): (ra, dec) in deg\n",
      "    (233.96878, 14.517719)>\".\n",
      "ERROR:lightkurve.search:No data found for target \"<SkyCoord (ICRS): (ra, dec) in deg\n",
      "    (233.96878, 14.517719)>\".\n",
      " 72%|███████▏  | 36/50 [01:40<00:40,  2.88s/it]"
     ]
    },
    {
     "name": "stdout",
     "output_type": "stream",
     "text": [
      "36 got a live one\n"
     ]
    },
    {
     "name": "stderr",
     "output_type": "stream",
     "text": [
      " 74%|███████▍  | 37/50 [01:42<00:34,  2.66s/it]"
     ]
    },
    {
     "name": "stdout",
     "output_type": "stream",
     "text": [
      "37 got a live one\n"
     ]
    },
    {
     "name": "stderr",
     "output_type": "stream",
     "text": [
      " 76%|███████▌  | 38/50 [01:44<00:30,  2.55s/it]No data found for target \"<SkyCoord (ICRS): (ra, dec) in deg\n",
      "    (155.71902, 22.077768)>\".\n",
      "ERROR:lightkurve.search:No data found for target \"<SkyCoord (ICRS): (ra, dec) in deg\n",
      "    (155.71902, 22.077768)>\".\n",
      " 78%|███████▊  | 39/50 [01:46<00:26,  2.42s/it]No data found for target \"<SkyCoord (ICRS): (ra, dec) in deg\n",
      "    (122.56533, 43.143756)>\".\n",
      "ERROR:lightkurve.search:No data found for target \"<SkyCoord (ICRS): (ra, dec) in deg\n",
      "    (122.56533, 43.143756)>\".\n",
      " 80%|████████  | 40/50 [01:49<00:25,  2.56s/it]No data found for target \"<SkyCoord (ICRS): (ra, dec) in deg\n",
      "    (171.40069, 54.382555)>\".\n",
      "ERROR:lightkurve.search:No data found for target \"<SkyCoord (ICRS): (ra, dec) in deg\n",
      "    (171.40069, 54.382555)>\".\n",
      " 82%|████████▏ | 41/50 [01:50<00:19,  2.16s/it]No data found for target \"<SkyCoord (ICRS): (ra, dec) in deg\n",
      "    (189.42164, 26.707643)>\".\n",
      "ERROR:lightkurve.search:No data found for target \"<SkyCoord (ICRS): (ra, dec) in deg\n",
      "    (189.42164, 26.707643)>\".\n",
      " 86%|████████▌ | 43/50 [01:53<00:13,  1.88s/it]"
     ]
    },
    {
     "name": "stdout",
     "output_type": "stream",
     "text": [
      "42 got a live one\n"
     ]
    },
    {
     "name": "stderr",
     "output_type": "stream",
     "text": [
      "No data found for target \"<SkyCoord (ICRS): (ra, dec) in deg\n",
      "    (169.03189, 41.398105)>\".\n",
      "ERROR:lightkurve.search:No data found for target \"<SkyCoord (ICRS): (ra, dec) in deg\n",
      "    (169.03189, 41.398105)>\".\n",
      " 88%|████████▊ | 44/50 [01:55<00:10,  1.70s/it]No data found for target \"<SkyCoord (ICRS): (ra, dec) in deg\n",
      "    (245.04708, 47.314297)>\".\n",
      "ERROR:lightkurve.search:No data found for target \"<SkyCoord (ICRS): (ra, dec) in deg\n",
      "    (245.04708, 47.314297)>\".\n",
      " 90%|█████████ | 45/50 [01:58<00:11,  2.22s/it]No data found for target \"<SkyCoord (ICRS): (ra, dec) in deg\n",
      "    (23.719198, -0.89584198)>\".\n",
      "ERROR:lightkurve.search:No data found for target \"<SkyCoord (ICRS): (ra, dec) in deg\n",
      "    (23.719198, -0.89584198)>\".\n",
      " 92%|█████████▏| 46/50 [02:02<00:10,  2.56s/it]No data found for target \"<SkyCoord (ICRS): (ra, dec) in deg\n",
      "    (145.51997, 23.685263)>\".\n",
      "ERROR:lightkurve.search:No data found for target \"<SkyCoord (ICRS): (ra, dec) in deg\n",
      "    (145.51997, 23.685263)>\".\n",
      " 94%|█████████▍| 47/50 [02:05<00:08,  2.80s/it]No data found for target \"<SkyCoord (ICRS): (ra, dec) in deg\n",
      "    (126.29263, 37.98882)>\".\n",
      "ERROR:lightkurve.search:No data found for target \"<SkyCoord (ICRS): (ra, dec) in deg\n",
      "    (126.29263, 37.98882)>\".\n",
      " 96%|█████████▌| 48/50 [02:07<00:04,  2.48s/it]No data found for target \"<SkyCoord (ICRS): (ra, dec) in deg\n",
      "    (115.6346, 49.810025)>\".\n",
      "ERROR:lightkurve.search:No data found for target \"<SkyCoord (ICRS): (ra, dec) in deg\n",
      "    (115.6346, 49.810025)>\".\n",
      " 98%|█████████▊| 49/50 [02:11<00:03,  3.08s/it]No data found for target \"<SkyCoord (ICRS): (ra, dec) in deg\n",
      "    (200.22361, 21.919523)>\".\n",
      "ERROR:lightkurve.search:No data found for target \"<SkyCoord (ICRS): (ra, dec) in deg\n",
      "    (200.22361, 21.919523)>\".\n",
      "100%|██████████| 50/50 [02:12<00:00,  2.66s/it]\n"
     ]
    },
    {
     "ename": "NameError",
     "evalue": "name 'df_lc' is not defined",
     "output_type": "error",
     "traceback": [
      "\u001b[0;31m---------------------------------------------------------------------------\u001b[0m",
      "\u001b[0;31mNameError\u001b[0m                                 Traceback (most recent call last)",
      "Input \u001b[0;32mIn [5]\u001b[0m, in \u001b[0;36m<cell line: 6>\u001b[0;34m()\u001b[0m\n\u001b[1;32m      3\u001b[0m df_lc_TESS \u001b[38;5;241m=\u001b[39m TESS_Kepler_get_lightcurves(coords_list, labels_list, TESS_radius)\n\u001b[1;32m      5\u001b[0m \u001b[38;5;66;03m#add the resulting dataframe to all other archives\u001b[39;00m\n\u001b[0;32m----> 6\u001b[0m \u001b[43mdf_lc\u001b[49m\u001b[38;5;241m.\u001b[39mappend(df_lc_TESS)\n",
      "\u001b[0;31mNameError\u001b[0m: name 'df_lc' is not defined"
     ]
    }
   ],
   "source": [
    "#go get the lightcurves using lightkurve\n",
    "TESS_radius = 1.0  #arcseconds\n",
    "df_lc_TESS = TESS_Kepler_get_lightcurves(coords_list, labels_list, TESS_radius)\n",
    "\n",
    "#add the resulting dataframe to all other archives\n",
    "df_lc.append(df_lc_TESS)"
   ]
  },
  {
   "cell_type": "markdown",
   "metadata": {},
   "source": [
    "### 2.7 MAST: HCV\n",
    " - [hubble catalog of variables](https://archive.stsci.edu/hlsp/hcv) \n",
    " - using [this notebook](https://archive.stsci.edu/hst/hsc/help/HCV/HCV_API_demo.html) as a reference to search and download light curves via API"
   ]
  },
  {
   "cell_type": "code",
   "execution_count": null,
   "metadata": {},
   "outputs": [],
   "source": [
    "#Do an HCV search\n",
    "HCV_radius = 1.0/3600.0 # radius = 1 arcsec\n",
    "df_lc_HCV = HCV_get_lightcurves(coords_list, labels_list, HCV_radius)\n",
    "\n",
    "#add the resulting dataframe to all other archives\n",
    "df_lc.append(df_lc_HCV)"
   ]
  },
  {
   "cell_type": "markdown",
   "metadata": {},
   "source": [
    "## 3. Find light curves for these targets in relevant, non-NASA catalogs\n"
   ]
  },
  {
   "cell_type": "markdown",
   "metadata": {},
   "source": [
    "### 3.1 Gaia \n"
   ]
  },
  {
   "cell_type": "code",
   "execution_count": 5,
   "metadata": {},
   "outputs": [
    {
     "name": "stderr",
     "output_type": "stream",
     "text": [
      "INFO:astroquery:Query finished.\n"
     ]
    },
    {
     "name": "stdout",
     "output_type": "stream",
     "text": [
      "INFO: Query finished. [astroquery.utils.tap.core]\n",
      "\n",
      "Search completed in 2.22 seconds\n",
      "Number of objects matched: 27 out of 50.\n",
      "<TableColumns names=('ra','dec','random_index','source_id','ra_2','dec_2','objectid')>\n",
      "gaia search took: 2.7914934158325195 s\n"
     ]
    }
   ],
   "source": [
    "gaiastarttime = time.time()\n",
    "## Note: This is very slow. Can probably make faster with direct SQL search?\n",
    "df_lc_gaia = Gaia_get_lightcurve(coords_list,  labels_list , verbose = 1)\n",
    "\n",
    "#add the resulting dataframe to all other archives\n",
    "df_lc.append(df_lc_gaia)\n",
    "\n",
    "print('gaia search took:', time.time() - gaiastarttime, 's')"
   ]
  },
  {
   "cell_type": "markdown",
   "metadata": {},
   "source": [
    "### 3.2 ASAS-SN (all sky automated survey for supernovae) \n",
    "- Has a [website](https://asas-sn.osu.edu/photometry) that can be manually searched; but no API which would allow automatic searches from within this notebook\n",
    "- Magnitude range of this survey is not consistent with the magnitude range of our CLAGN.  If this catalog becomes scientifically interesting, one path forward would be to ask ASAS-SN team about implementing an API\n",
    "\n"
   ]
  },
  {
   "cell_type": "markdown",
   "metadata": {},
   "source": [
    "### 3.3 Icecube Neutrinos\n",
    "\n",
    "There are several [catalogs](https://icecube.wisc.edu/data-releases/2021/01/all-sky-point-source-icecube-data-years-2008-2018) (basically one for each year of IceCube data from 2008 - 2018). The following code creates a large catalog by combining\n",
    "all the yearly catalogs.\n",
    "The IceCube catalog contains Neutrino detections with associated energy and time and approximate direction (which is uncertain by half-degree scales....). Usually, for active events only one or two Neutrinos are detected, which makes matching quite different compared to \"photons\". For our purpose, we will list the top 3 events in energy that are within a given distance to the target.\n",
    "\n",
    "This time series (time vs. neutrino energy) information is similar to photometry. We choose to storing time and energy in our data structure, leaving error = 0. What is __not__ stored in this format is the distance or angular uncertainty of the event direction. "
   ]
  },
  {
   "cell_type": "code",
   "execution_count": null,
   "metadata": {},
   "outputs": [],
   "source": [
    "df_lc_icecube = icecube_get_lightcurve(coords_list , labels_list ,\n",
    "                                   icecube_select_topN = 3,\n",
    "                                   path = \"./data/\",\n",
    "                                   verbose = 1)\n",
    "\n",
    "#add the resulting dataframe to all other archives\n",
    "df_lc.append(df_lc_icecube)\n",
    "end_serial = time.time()"
   ]
  },
  {
   "cell_type": "code",
   "execution_count": null,
   "metadata": {},
   "outputs": [],
   "source": [
    "#benchmarking\n",
    "print('total time for serial archive calls is ', end_serial - start_serial, 's')"
   ]
  },
  {
   "cell_type": "markdown",
   "metadata": {},
   "source": [
    "## 4. Parallel Processing the archive calls\n"
   ]
  },
  {
   "cell_type": "code",
   "execution_count": 11,
   "metadata": {},
   "outputs": [],
   "source": [
    "# define some variables in case the above serial cells are not run\n",
    "max_fermi_error_radius = str(1.0)  \n",
    "max_sax_error_radius = str(3.0)\n",
    "heasarc_cat = [\"FERMIGTRIG\", \"SAXGRBMGRB\"]\n",
    "error_radius = [max_fermi_error_radius , max_sax_error_radius]\n",
    "bandlist = [\"w1\", \"w2\"]\n",
    "wise_radius = 1.0\n",
    "panstarrs_radius = 1.0 / 3600.0  # search radius = 1 arcsec\n",
    "lk_radius = 1.0  # arcseconds\n",
    "hcv_radius = 1.0 / 3600.0  # radius = 1 arcsec\n"
   ]
  },
  {
   "cell_type": "code",
   "execution_count": 12,
   "metadata": {},
   "outputs": [],
   "source": [
    "# calculate the number of workers needed\n",
    "n_single_archives, n_multiple_archives = 7, 1  # must sum to total number of archives called\n",
    "n_chunks_per_archive = 5  # will make one api call per chunk per 'multiple' archive\n",
    "n_workers = n_single_archives + n_multiple_archives * n_chunks_per_archive"
   ]
  },
  {
   "cell_type": "code",
   "execution_count": 13,
   "metadata": {
    "scrolled": true
   },
   "outputs": [
    {
     "name": "stdout",
     "output_type": "stream",
     "text": [
      "Downloading IceCube data to ./data/ |  "
     ]
    },
    {
     "name": "stderr",
     "output_type": "stream",
     "text": [
      "  0%|          | 0/2 [00:00<?, ?it/s]1.61it/s]"
     ]
    },
    {
     "name": "stdout",
     "output_type": "stream",
     "text": [
      "working on mission FERMIGTRIG\n"
     ]
    },
    {
     "name": "stderr",
     "output_type": "stream",
     "text": [
      "  0%|          | 0/2 [00:01<?, ?it/s]1.43it/s]\n",
      "No data found for target \"<SkyCoord (ICRS): (ra, dec) in deg\n",
      "    (0.28136, -0.09789)>\".\n",
      "ERROR:lightkurve.search:No data found for target \"<SkyCoord (ICRS): (ra, dec) in deg\n",
      "    (0.28136, -0.09789)>\".\n",
      " 10%|█         | 3/30 [00:02<00:18,  1.45it/s]"
     ]
    },
    {
     "name": "stdout",
     "output_type": "stream",
     "text": [
      "INFO: Query finished. [astroquery.utils.tap.core]\n"
     ]
    },
    {
     "name": "stderr",
     "output_type": "stream",
     "text": [
      "INFO:astroquery:Query finished.\n"
     ]
    },
    {
     "name": "stdout",
     "output_type": "stream",
     "text": [
      "\n",
      "Search completed in 2.39 seconds\n",
      "Number of objects matched: 27 out of 30.\n",
      "<TableColumns names=('ra','dec','random_index','source_id','ra_2','dec_2','objectid')>\n"
     ]
    },
    {
     "name": "stderr",
     "output_type": "stream",
     "text": [
      " 13%|█▎        | 4/30 [00:02<00:16,  1.56it/s]"
     ]
    },
    {
     "name": "stdout",
     "output_type": "stream",
     "text": [
      "0 no matches\n",
      "Scanning catalog index file ...\n"
     ]
    },
    {
     "name": "stderr",
     "output_type": "stream",
     "text": [
      " 17%|█▋        | 5/30 [00:03<00:16,  1.49it/s]"
     ]
    },
    {
     "name": "stdout",
     "output_type": "stream",
     "text": [
      "Scanning catalog index file ...\n",
      "Unzipping IceCube data |  "
     ]
    },
    {
     "name": "stderr",
     "output_type": "stream",
     "text": [
      "No data found for target \"<SkyCoord (ICRS): (ra, dec) in deg\n",
      "    (21.70037, -8.66335)>\".\n",
      "ERROR:lightkurve.search:No data found for target \"<SkyCoord (ICRS): (ra, dec) in deg\n",
      "    (21.70037, -8.66335)>\".\n",
      "  7%|▋         | 2/30 [00:03<00:51,  1.84s/it]"
     ]
    },
    {
     "name": "stdout",
     "output_type": "stream",
     "text": [
      "Scanning catalog index file ...\n",
      "Scanning catalog index file ...\n",
      "Scanning catalog index file ...\n"
     ]
    },
    {
     "name": "stderr",
     "output_type": "stream",
     "text": [
      " 30%|███       | 9/30 [00:05<00:12,  1.66it/s]"
     ]
    },
    {
     "name": "stdout",
     "output_type": "stream",
     "text": [
      "1 no matches\n"
     ]
    },
    {
     "name": "stderr",
     "output_type": "stream",
     "text": [
      "No data found for target \"<SkyCoord (ICRS): (ra, dec) in deg\n",
      "    (29.99, 0.55301)>\".\n",
      "ERROR:lightkurve.search:No data found for target \"<SkyCoord (ICRS): (ra, dec) in deg\n",
      "    (29.99, 0.55301)>\".\n",
      " 47%|████▋     | 14/30 [00:08<00:09,  1.65it/s]"
     ]
    },
    {
     "name": "stdout",
     "output_type": "stream",
     "text": [
      "2 no matches\n"
     ]
    },
    {
     "name": "stderr",
     "output_type": "stream",
     "text": [
      " 53%|█████▎    | 16/30 [00:10<00:08,  1.60it/s]No data found for target \"<SkyCoord (ICRS): (ra, dec) in deg\n",
      "    (120.94815, 42.97747)>\".\n",
      "ERROR:lightkurve.search:No data found for target \"<SkyCoord (ICRS): (ra, dec) in deg\n",
      "    (120.94815, 42.97747)>\".\n",
      " 57%|█████▋    | 17/30 [00:10<00:08,  1.59it/s]"
     ]
    },
    {
     "name": "stdout",
     "output_type": "stream",
     "text": [
      "Done.\n",
      "Loading:  IC40_exp.csv\n"
     ]
    },
    {
     "name": "stderr",
     "output_type": "stream",
     "text": [
      " 63%|██████▎   | 19/30 [00:11<00:06,  1.67it/s]No data found for target \"<SkyCoord (ICRS): (ra, dec) in deg\n",
      "    (127.88438, 36.77146)>\".\n",
      "ERROR:lightkurve.search:No data found for target \"<SkyCoord (ICRS): (ra, dec) in deg\n",
      "    (127.88438, 36.77146)>\".\n",
      " 17%|█▋        | 5/30 [00:12<01:03,  2.54s/it]"
     ]
    },
    {
     "name": "stdout",
     "output_type": "stream",
     "text": [
      "3 no matches\n"
     ]
    },
    {
     "name": "stderr",
     "output_type": "stream",
     "text": [
      " 67%|██████▋   | 20/30 [00:12<00:06,  1.59it/s]"
     ]
    },
    {
     "name": "stdout",
     "output_type": "stream",
     "text": [
      "Loading:  IC59_exp.csv\n"
     ]
    },
    {
     "name": "stderr",
     "output_type": "stream",
     "text": [
      " 77%|███████▋  | 23/30 [00:14<00:04,  1.57it/s]"
     ]
    },
    {
     "name": "stdout",
     "output_type": "stream",
     "text": [
      "4 no matches\n"
     ]
    },
    {
     "name": "stderr",
     "output_type": "stream",
     "text": [
      "No data found for target \"<SkyCoord (ICRS): (ra, dec) in deg\n",
      "    (132.49077, 27.79139)>\".\n",
      "ERROR:lightkurve.search:No data found for target \"<SkyCoord (ICRS): (ra, dec) in deg\n",
      "    (132.49077, 27.79139)>\".\n",
      " 80%|████████  | 24/30 [00:15<00:03,  1.50it/s]"
     ]
    },
    {
     "name": "stdout",
     "output_type": "stream",
     "text": [
      "Scanning individual catalog files ...\n",
      "./232/2329p015/2329p015_w1_e000.cat.fits.gz\n"
     ]
    },
    {
     "name": "stderr",
     "output_type": "stream",
     "text": [
      " 83%|████████▎ | 25/30 [00:15<00:03,  1.55it/s]"
     ]
    },
    {
     "name": "stdout",
     "output_type": "stream",
     "text": [
      "Scanning individual catalog files ...\n",
      "./166/1663p015/1663p015_w1_e000.cat.fits.gz\n",
      "Scanning individual catalog files ...\n",
      "./178/1782p318/1782p318_w1_e000.cat.fits.gz\n",
      "Scanning individual catalog files ...\n",
      "./000/0000p000/0000p000_w1_e000.cat.fits.gz"
     ]
    },
    {
     "name": "stderr",
     "output_type": "stream",
     "text": [
      " 87%|████████▋ | 26/30 [00:16<00:02,  1.61it/s]"
     ]
    },
    {
     "name": "stdout",
     "output_type": "stream",
     "text": [
      "\n",
      "./232/2329p015/2329p015_w2_e000.cat.fits.gz\n",
      "Scanning individual catalog files ..."
     ]
    },
    {
     "name": "stderr",
     "output_type": "stream",
     "text": [
      " 90%|█████████ | 27/30 [00:16<00:01,  1.65it/s]"
     ]
    },
    {
     "name": "stdout",
     "output_type": "stream",
     "text": [
      "\n",
      "./137/1372p484/1372p484_w1_e000.cat.fits.gz./166/1663p015/1663p015_w2_e000.cat.fits.gz\n",
      "\n",
      "./000/0000p000/0000p000_w2_e000.cat.fits.gz\n"
     ]
    },
    {
     "name": "stderr",
     "output_type": "stream",
     "text": [
      "No data found for target \"<SkyCoord (ICRS): (ra, dec) in deg\n",
      "    (137.38346, 47.79186)>\".\n",
      "ERROR:lightkurve.search:No data found for target \"<SkyCoord (ICRS): (ra, dec) in deg\n",
      "    (137.38346, 47.79186)>\".\n"
     ]
    },
    {
     "name": "stdout",
     "output_type": "stream",
     "text": [
      "./178/1782p318/1782p318_w2_e000.cat.fits.gz"
     ]
    },
    {
     "name": "stderr",
     "output_type": "stream",
     "text": [
      " 23%|██▎       | 7/30 [00:17<00:59,  2.60s/it]"
     ]
    },
    {
     "name": "stdout",
     "output_type": "stream",
     "text": [
      "\n"
     ]
    },
    {
     "name": "stderr",
     "output_type": "stream",
     "text": [
      " 93%|█████████▎| 28/30 [00:17<00:01,  1.66it/s]"
     ]
    },
    {
     "name": "stdout",
     "output_type": "stream",
     "text": [
      "Loading: 5  IC79_exp.csvno matches\n",
      "\n",
      "./166/1663p015/1663p015_w1_e001.cat.fits.gz\n"
     ]
    },
    {
     "name": "stderr",
     "output_type": "stream",
     "text": [
      " 97%|█████████▋| 29/30 [00:18<00:00,  1.66it/s]"
     ]
    },
    {
     "name": "stdout",
     "output_type": "stream",
     "text": [
      "./137/1372p484/1372p484_w2_e000.cat.fits.gz\n",
      "./232/2329p015/2329p015_w1_e001.cat.fits.gz\n",
      "./166/1663p015/1663p015_w2_e001.cat.fits.gz\n"
     ]
    },
    {
     "name": "stderr",
     "output_type": "stream",
     "text": [
      "100%|██████████| 30/30 [00:18<00:00,  1.60it/s]\n"
     ]
    },
    {
     "name": "stdout",
     "output_type": "stream",
     "text": [
      "./178/1782p318/1782p318_w1_e001.cat.fits.gz./000/0000p000/0000p000_w1_e001.cat.fits.gz\n",
      "\n",
      "./232/2329p015/2329p015_w2_e001.cat.fits.gz\n",
      "./137/1372p484/1372p484_w1_e001.cat.fits.gz\n",
      "./166/1663p015/1663p015_w1_e002.cat.fits.gz\n",
      "./000/0000p000/0000p000_w2_e001.cat.fits.gz\n",
      "./178/1782p318/1782p318_w2_e001.cat.fits.gz\n",
      "6 no matches\n",
      "./232/2329p015/2329p015_w1_e002.cat.fits.gz./166/1663p015/1663p015_w2_e002.cat.fits.gz\n",
      "./000/0000p000/0000p000_w1_e002.cat.fits.gz\n",
      "\n",
      "./178/1782p318/1782p318_w1_e002.cat.fits.gz\n",
      "./137/1372p484/1372p484_w2_e001.cat.fits.gz\n",
      "Loading:  IC86_III_exp.csv\n",
      "./166/1663p015/1663p015_w1_e003.cat.fits.gz\n",
      "./000/0000p000/0000p000_w2_e002.cat.fits.gz\n",
      "./232/2329p015/2329p015_w2_e002.cat.fits.gz\n",
      "./137/1372p484/1372p484_w1_e002.cat.fits.gz\n",
      "./178/1782p318/1782p318_w2_e002.cat.fits.gz\n",
      "./137/1372p484/1372p484_w2_e002.cat.fits.gz\n",
      "./137/1372p484/1372p484_w1_e003.cat.fits.gz\n",
      "./166/1663p015/1663p015_w2_e003.cat.fits.gz\n",
      "./000/0000p000/0000p000_w1_e003.cat.fits.gz\n",
      "./232/2329p015/2329p015_w1_e003.cat.fits.gz\n",
      "./178/1782p318/1782p318_w1_e003.cat.fits.gz\n",
      "./137/1372p484/1372p484_w2_e003.cat.fits.gz\n",
      "7 no matches./166/1663p015/1663p015_w1_e004.cat.fits.gz\n",
      "\n",
      "./000/0000p000/0000p000_w2_e003.cat.fits.gz\n",
      "./232/2329p015/2329p015_w2_e003.cat.fits.gz\n",
      "./166/1663p015/1663p015_w2_e004.cat.fits.gz./137/1372p484/1372p484_w1_e004.cat.fits.gz\n",
      "\n",
      "./178/1782p318/1782p318_w2_e003.cat.fits.gz\n",
      "./000/0000p000/0000p000_w1_e004.cat.fits.gz\n",
      "./232/2329p015/2329p015_w1_e004.cat.fits.gz\n",
      "./166/1663p015/1663p015_w1_e005.cat.fits.gz\n",
      "./000/0000p000/0000p000_w2_e004.cat.fits.gz\n",
      "./178/1782p318/1782p318_w1_e004.cat.fits.gz\n",
      "./137/1372p484/1372p484_w2_e004.cat.fits.gz\n",
      "./166/1663p015/1663p015_w2_e005.cat.fits.gz\n",
      "./232/2329p015/2329p015_w2_e004.cat.fits.gz\n",
      "./000/0000p000/0000p000_w1_e005.cat.fits.gz\n",
      "8Loading:   IC86_II_exp.csv\n",
      "no matches\n",
      "./137/1372p484/1372p484_w1_e005.cat.fits.gz\n",
      "./178/1782p318/1782p318_w2_e004.cat.fits.gz\n"
     ]
    },
    {
     "name": "stderr",
     "output_type": "stream",
     "text": [
      "No data found for target \"<SkyCoord (ICRS): (ra, dec) in deg\n",
      "    (144.37635, 26.04226)>\".\n",
      "ERROR:lightkurve.search:No data found for target \"<SkyCoord (ICRS): (ra, dec) in deg\n",
      "    (144.37635, 26.04226)>\".\n",
      " 27%|██▋       | 8/30 [00:27<01:45,  4.81s/it]"
     ]
    },
    {
     "name": "stdout",
     "output_type": "stream",
     "text": [
      "./166/1663p015/1663p015_w1_e006.cat.fits.gz\n",
      "./232/2329p015/2329p015_w1_e005.cat.fits.gz\n",
      "./000/0000p000/0000p000_w2_e005.cat.fits.gz\n",
      "./137/1372p484/1372p484_w2_e005.cat.fits.gz\n",
      "./178/1782p318/1782p318_w1_e005.cat.fits.gz\n",
      "./166/1663p015/1663p015_w2_e006.cat.fits.gz\n",
      "./000/0000p000/0000p000_w1_e006.cat.fits.gz\n",
      "./232/2329p015/2329p015_w2_e005.cat.fits.gz\n",
      "./137/1372p484/1372p484_w1_e006.cat.fits.gz\n",
      "./178/1782p318/1782p318_w2_e005.cat.fits.gz\n",
      "./166/1663p015/1663p015_w1_e007.cat.fits.gz\n",
      "./000/0000p000/0000p000_w2_e006.cat.fits.gz\n",
      "./232/2329p015/2329p015_w1_e006.cat.fits.gz\n",
      "9 no matches\n",
      "./137/1372p484/1372p484_w2_e006.cat.fits.gz\n",
      "./178/1782p318/1782p318_w1_e006.cat.fits.gz\n",
      "./166/1663p015/1663p015_w2_e007.cat.fits.gz\n",
      "./000/0000p000/0000p000_w1_e007.cat.fits.gz\n",
      "./232/2329p015/2329p015_w2_e006.cat.fits.gz\n",
      "./137/1372p484/1372p484_w1_e007.cat.fits.gz\n",
      "./178/1782p318/1782p318_w2_e006.cat.fits.gz\n",
      "Loading:  IC86_IV_exp.csv\n",
      "./166/1663p015/1663p015_w1_e008.cat.fits.gz./000/0000p000/0000p000_w2_e007.cat.fits.gz\n",
      "\n",
      "./232/2329p015/2329p015_w1_e007.cat.fits.gz\n",
      "./178/1782p318/1782p318_w1_e007.cat.fits.gz./166/1663p015/1663p015_w2_e008.cat.fits.gz\n",
      "\n",
      "./137/1372p484/1372p484_w2_e007.cat.fits.gz\n",
      "./000/0000p000/0000p000_w1_e008.cat.fits.gz\n",
      "10 no matches\n",
      "./178/1782p318/1782p318_w2_e007.cat.fits.gz\n",
      "./166/1663p015/1663p015_w1_e009.cat.fits.gz./137/1372p484/1372p484_w1_e008.cat.fits.gz\n",
      "\n",
      "./232/2329p015/2329p015_w2_e007.cat.fits.gz\n"
     ]
    },
    {
     "name": "stderr",
     "output_type": "stream",
     "text": [
      "No data found for target \"<SkyCoord (ICRS): (ra, dec) in deg\n",
      "    (144.39777, 32.5472)>\".\n",
      "ERROR:lightkurve.search:No data found for target \"<SkyCoord (ICRS): (ra, dec) in deg\n",
      "    (144.39777, 32.5472)>\".\n"
     ]
    },
    {
     "name": "stdout",
     "output_type": "stream",
     "text": [
      "./000/0000p000/0000p000_w2_e008.cat.fits.gz"
     ]
    },
    {
     "name": "stderr",
     "output_type": "stream",
     "text": [
      " 30%|███       | 9/30 [00:33<01:48,  5.18s/it]"
     ]
    },
    {
     "name": "stdout",
     "output_type": "stream",
     "text": [
      "\n",
      "./166/1663p015/1663p015_w2_e009.cat.fits.gz\n",
      "./178/1782p318/1782p318_w1_e008.cat.fits.gz\n",
      "./137/1372p484/1372p484_w2_e008.cat.fits.gz\n",
      "./000/0000p000/0000p000_w1_e009.cat.fits.gz\n",
      "./232/2329p015/2329p015_w1_e008.cat.fits.gz\n",
      "./166/1663p015/1663p015_w1_e010.cat.fits.gz\n",
      "11 no matches\n",
      "./178/1782p318/1782p318_w2_e008.cat.fits.gz\n",
      "./000/0000p000/0000p000_w2_e009.cat.fits.gz\n",
      "./137/1372p484/1372p484_w1_e009.cat.fits.gz\n",
      "./232/2329p015/2329p015_w2_e008.cat.fits.gz\n",
      "./166/1663p015/1663p015_w2_e010.cat.fits.gz\n",
      "./178/1782p318/1782p318_w1_e009.cat.fits.gz\n",
      "./000/0000p000/0000p000_w1_e010.cat.fits.gz\n",
      "Loading:  IC86_I_exp.csv\n",
      "./137/1372p484/1372p484_w2_e009.cat.fits.gz\n",
      "./232/2329p015/2329p015_w1_e009.cat.fits.gz\n",
      "./166/1663p015/1663p015_w1_e011.cat.fits.gz\n",
      "./000/0000p000/0000p000_w2_e010.cat.fits.gz\n",
      "./178/1782p318/1782p318_w2_e009.cat.fits.gz\n",
      "./137/1372p484/1372p484_w1_e010.cat.fits.gz\n",
      "./232/2329p015/2329p015_w2_e009.cat.fits.gz\n"
     ]
    },
    {
     "name": "stderr",
     "output_type": "stream",
     "text": [
      "No data found for target \"<SkyCoord (ICRS): (ra, dec) in deg\n",
      "    (150.84777, 35.41774)>\".\n",
      "ERROR:lightkurve.search:No data found for target \"<SkyCoord (ICRS): (ra, dec) in deg\n",
      "    (150.84777, 35.41774)>\".\n",
      " 33%|███▎      | 10/30 [00:37<01:38,  4.93s/it]"
     ]
    },
    {
     "name": "stdout",
     "output_type": "stream",
     "text": [
      "./166/1663p015/1663p015_w2_e011.cat.fits.gz\n",
      "./000/0000p000/0000p000_w1_e011.cat.fits.gz\n",
      "12 no matches\n",
      "./178/1782p318/1782p318_w1_e010.cat.fits.gz\n",
      "./137/1372p484/1372p484_w2_e010.cat.fits.gz\n",
      "./166/1663p015/1663p015_w1_e012.cat.fits.gz\n",
      "./000/0000p000/0000p000_w2_e011.cat.fits.gz\n",
      "./232/2329p015/2329p015_w1_e010.cat.fits.gz\n",
      "./178/1782p318/1782p318_w2_e010.cat.fits.gz\n",
      "./137/1372p484/1372p484_w1_e011.cat.fits.gz\n",
      "./166/1663p015/1663p015_w2_e012.cat.fits.gz\n",
      "./000/0000p000/0000p000_w1_e012.cat.fits.gz\n",
      "./178/1782p318/1782p318_w1_e011.cat.fits.gz\n",
      "./232/2329p015/2329p015_w2_e010.cat.fits.gz\n",
      "./137/1372p484/1372p484_w2_e011.cat.fits.gz\n",
      "./000/0000p000/0000p000_w2_e012.cat.fits.gz\n",
      "./166/1663p015/1663p015_w1_e013.cat.fits.gz\n",
      "13 no matches\n",
      "./178/1782p318/1782p318_w2_e011.cat.fits.gz\n",
      "./137/1372p484/1372p484_w1_e012.cat.fits.gz\n",
      "./232/2329p015/2329p015_w1_e011.cat.fits.gz\n",
      "./166/1663p015/1663p015_w2_e013.cat.fits.gz\n",
      "./000/0000p000/0000p000_w1_e013.cat.fits.gz\n",
      "./178/1782p318/1782p318_w1_e012.cat.fits.gz\n",
      "./166/1663p015/1663p015_w1_e014.cat.fits.gz\n",
      "./137/1372p484/1372p484_w2_e012.cat.fits.gz\n",
      "./000/0000p000/0000p000_w2_e013.cat.fits.gz\n",
      "./232/2329p015/2329p015_w2_e011.cat.fits.gz\n",
      "Loading:  IC86_VII_exp.csv\n",
      "./178/1782p318/1782p318_w2_e012.cat.fits.gz\n",
      "./166/1663p015/1663p015_w2_e014.cat.fits.gz\n",
      "./137/1372p484/1372p484_w1_e013.cat.fits.gz\n",
      "./000/0000p000/0000p000_w1_e014.cat.fits.gz\n"
     ]
    },
    {
     "name": "stderr",
     "output_type": "stream",
     "text": [
      "No data found for target \"<SkyCoord (ICRS): (ra, dec) in deg\n",
      "    (152.97077, 54.7018)>\".\n",
      "ERROR:lightkurve.search:No data found for target \"<SkyCoord (ICRS): (ra, dec) in deg\n",
      "    (152.97077, 54.7018)>\".\n",
      " 37%|███▋      | 11/30 [00:43<01:39,  5.24s/it]"
     ]
    },
    {
     "name": "stdout",
     "output_type": "stream",
     "text": [
      "14 no matches\n",
      "./178/1782p318/1782p318_w1_e013.cat.fits.gz\n",
      "./232/2329p015/2329p015_w1_e012.cat.fits.gz\n",
      "./166/1663p015/1663p015_w1_e015.cat.fits.gz\n",
      "./137/1372p484/1372p484_w2_e013.cat.fits.gz\n",
      "./000/0000p000/0000p000_w2_e014.cat.fits.gz\n",
      "./166/1663p015/1663p015_w2_e015.cat.fits.gz./178/1782p318/1782p318_w2_e013.cat.fits.gz\n",
      "\n",
      "./000/0000p000/0000p000_w1_e015.cat.fits.gz\n",
      "./137/1372p484/1372p484_w1_e014.cat.fits.gz\n",
      "./232/2329p015/2329p015_w2_e012.cat.fits.gz\n",
      "./178/1782p318/1782p318_w1_e014.cat.fits.gz\n"
     ]
    },
    {
     "name": "stderr",
     "output_type": "stream",
     "text": [
      " 17%|█▋        | 1/6 [00:45<03:47, 45.54s/it]"
     ]
    },
    {
     "name": "stdout",
     "output_type": "stream",
     "text": [
      "./000/0000p000/0000p000_w2_e015.cat.fits.gz\n",
      "./232/2329p015/2329p015_w1_e013.cat.fits.gz\n",
      "./137/1372p484/1372p484_w2_e014.cat.fits.gz\n",
      "./178/1782p318/1782p318_w2_e014.cat.fits.gz\n",
      "15 no matches\n",
      "./000/0000p000/0000p000_w1_e016.cat.fits.gz\n",
      "./232/2329p015/2329p015_w2_e013.cat.fits.gz\n",
      "./137/1372p484/1372p484_w1_e015.cat.fits.gz\n",
      "./000/0000p000/0000p000_w2_e016.cat.fits.gz\n",
      "./178/1782p318/1782p318_w1_e015.cat.fits.gz\n",
      "./137/1372p484/1372p484_w2_e015.cat.fits.gz./232/2329p015/2329p015_w1_e014.cat.fits.gz\n",
      "\n",
      "Loading:  IC86_VI_exp.csv\n"
     ]
    },
    {
     "name": "stderr",
     "output_type": "stream",
     "text": [
      " 17%|█▋        | 1/6 [00:48<04:03, 48.66s/it]"
     ]
    },
    {
     "name": "stdout",
     "output_type": "stream",
     "text": [
      "./178/1782p318/1782p318_w2_e015.cat.fits.gz\n",
      "Scanning catalog index file ...\n"
     ]
    },
    {
     "name": "stderr",
     "output_type": "stream",
     "text": [
      " 17%|█▋        | 1/6 [00:49<04:06, 49.21s/it]"
     ]
    },
    {
     "name": "stdout",
     "output_type": "stream",
     "text": [
      "./232/2329p015/2329p015_w2_e014.cat.fits.gz16\n",
      " no matches\n"
     ]
    },
    {
     "name": "stderr",
     "output_type": "stream",
     "text": [
      " 17%|█▋        | 1/6 [00:49<04:08, 49.70s/it]No data found for target \"<SkyCoord (ICRS): (ra, dec) in deg\n",
      "    (166.09674, 63.71816)>\".\n",
      "ERROR:lightkurve.search:No data found for target \"<SkyCoord (ICRS): (ra, dec) in deg\n",
      "    (166.09674, 63.71816)>\".\n",
      " 40%|████      | 12/30 [00:50<01:42,  5.72s/it]"
     ]
    },
    {
     "name": "stdout",
     "output_type": "stream",
     "text": [
      "./232/2329p015/2329p015_w1_e015.cat.fits.gz\n",
      "./232/2329p015/2329p015_w2_e015.cat.fits.gz\n",
      "Scanning catalog index file ...\n",
      "17 no matches\n"
     ]
    },
    {
     "name": "stderr",
     "output_type": "stream",
     "text": [
      " 17%|█▋        | 1/6 [00:52<04:23, 52.70s/it]"
     ]
    },
    {
     "name": "stdout",
     "output_type": "stream",
     "text": [
      "Scanning catalog index file ...\n",
      "Scanning catalog index file ...\n"
     ]
    },
    {
     "name": "stderr",
     "output_type": "stream",
     "text": [
      "No data found for target \"<SkyCoord (ICRS): (ra, dec) in deg\n",
      "    (166.22989, 1.31573)>\".\n",
      "ERROR:lightkurve.search:No data found for target \"<SkyCoord (ICRS): (ra, dec) in deg\n",
      "    (166.22989, 1.31573)>\".\n",
      " 43%|████▎     | 13/30 [00:53<01:24,  4.98s/it]"
     ]
    },
    {
     "name": "stdout",
     "output_type": "stream",
     "text": [
      "Loading:  IC86_V_exp.csv\n",
      "18 no matches\n",
      "Scanning catalog index file ...\n"
     ]
    },
    {
     "name": "stderr",
     "output_type": "stream",
     "text": [
      "No data found for target \"<SkyCoord (ICRS): (ra, dec) in deg\n",
      "    (167.60602, -0.05948)>\".\n",
      "ERROR:lightkurve.search:No data found for target \"<SkyCoord (ICRS): (ra, dec) in deg\n",
      "    (167.60602, -0.05948)>\".\n",
      " 47%|████▋     | 14/30 [00:56<01:12,  4.55s/it]"
     ]
    },
    {
     "name": "stdout",
     "output_type": "stream",
     "text": [
      "19 no matches\n"
     ]
    },
    {
     "name": "stderr",
     "output_type": "stream",
     "text": [
      "No data found for target \"<SkyCoord (ICRS): (ra, dec) in deg\n",
      "    (168.90238, 5.74715)>\".\n",
      "ERROR:lightkurve.search:No data found for target \"<SkyCoord (ICRS): (ra, dec) in deg\n",
      "    (168.90238, 5.74715)>\".\n",
      " 50%|█████     | 15/30 [00:59<01:01,  4.07s/it]"
     ]
    },
    {
     "name": "stdout",
     "output_type": "stream",
     "text": [
      "done\n"
     ]
    },
    {
     "name": "stderr",
     "output_type": "stream",
     "text": [
      "  0%|          | 0/30 [00:00<?, ?it/s]"
     ]
    },
    {
     "name": "stdout",
     "output_type": "stream",
     "text": [
      "20 no matches\n"
     ]
    },
    {
     "name": "stderr",
     "output_type": "stream",
     "text": [
      "  3%|▎         | 1/30 [00:00<00:18,  1.53it/s]No data found for target \"<SkyCoord (ICRS): (ra, dec) in deg\n",
      "    (169.62351, 32.06666)>\".\n",
      "ERROR:lightkurve.search:No data found for target \"<SkyCoord (ICRS): (ra, dec) in deg\n",
      "    (169.62351, 32.06666)>\".\n",
      " 53%|█████▎    | 16/30 [01:01<00:47,  3.39s/it]"
     ]
    },
    {
     "name": "stdout",
     "output_type": "stream",
     "text": [
      "Scanning individual catalog files ...\n",
      "./167/1678p000/1678p000_w1_e000.cat.fits.gz\n"
     ]
    },
    {
     "name": "stderr",
     "output_type": "stream",
     "text": [
      " 10%|█         | 3/30 [00:01<00:14,  1.91it/s]"
     ]
    },
    {
     "name": "stdout",
     "output_type": "stream",
     "text": [
      "./167/1678p000/1678p000_w2_e000.cat.fits.gz\n"
     ]
    },
    {
     "name": "stderr",
     "output_type": "stream",
     "text": [
      " 20%|██        | 6/30 [00:03<00:11,  2.02it/s]"
     ]
    },
    {
     "name": "stdout",
     "output_type": "stream",
     "text": [
      "21 no matches\n",
      "./167/1678p000/1678p000_w1_e001.cat.fits.gz\n"
     ]
    },
    {
     "name": "stderr",
     "output_type": "stream",
     "text": [
      " 23%|██▎       | 7/30 [00:03<00:11,  2.00it/s]"
     ]
    },
    {
     "name": "stdout",
     "output_type": "stream",
     "text": [
      "Scanning individual catalog files ...\n",
      "./021/0214m091/0214m091_w1_e000.cat.fits.gz\n",
      "Scanning individual catalog files ...\n"
     ]
    },
    {
     "name": "stderr",
     "output_type": "stream",
     "text": [
      " 27%|██▋       | 8/30 [00:04<00:10,  2.11it/s]"
     ]
    },
    {
     "name": "stdout",
     "output_type": "stream",
     "text": [
      "./194/1940p545/1940p545_w1_e000.cat.fits.gz\n"
     ]
    },
    {
     "name": "stderr",
     "output_type": "stream",
     "text": [
      "No data found for target \"<SkyCoord (ICRS): (ra, dec) in deg\n",
      "    (173.12142, 3.95808)>\".\n",
      "ERROR:lightkurve.search:No data found for target \"<SkyCoord (ICRS): (ra, dec) in deg\n",
      "    (173.12142, 3.95808)>\".\n",
      " 57%|█████▋    | 17/30 [01:05<00:43,  3.37s/it]"
     ]
    },
    {
     "name": "stdout",
     "output_type": "stream",
     "text": [
      "./167/1678p000/1678p000_w2_e001.cat.fits.gz\n"
     ]
    },
    {
     "name": "stderr",
     "output_type": "stream",
     "text": [
      " 30%|███       | 9/30 [00:04<00:09,  2.15it/s]"
     ]
    },
    {
     "name": "stdout",
     "output_type": "stream",
     "text": [
      "Scanning individual catalog files ...\n",
      "./145/1450p257/1450p257_w1_e000.cat.fits.gz./021/0214m091/0214m091_w2_e000.cat.fits.gz\n",
      "\n"
     ]
    },
    {
     "name": "stderr",
     "output_type": "stream",
     "text": [
      " 33%|███▎      | 10/30 [00:04<00:08,  2.28it/s]"
     ]
    },
    {
     "name": "stdout",
     "output_type": "stream",
     "text": [
      "./167/1678p000/1678p000_w1_e002.cat.fits.gz\n"
     ]
    },
    {
     "name": "stderr",
     "output_type": "stream",
     "text": [
      " 37%|███▋      | 11/30 [00:05<00:08,  2.37it/s]"
     ]
    },
    {
     "name": "stdout",
     "output_type": "stream",
     "text": [
      "./194/1940p545/1940p545_w2_e000.cat.fits.gz\n"
     ]
    },
    {
     "name": "stderr",
     "output_type": "stream",
     "text": [
      "No data found for target \"<SkyCoord (ICRS): (ra, dec) in deg\n",
      "    (177.66385, 36.54956)>\".\n",
      "ERROR:lightkurve.search:No data found for target \"<SkyCoord (ICRS): (ra, dec) in deg\n",
      "    (177.66385, 36.54956)>\".\n",
      " 60%|██████    | 18/30 [01:06<00:33,  2.78s/it]"
     ]
    },
    {
     "name": "stdout",
     "output_type": "stream",
     "text": [
      "./167/1678p000/1678p000_w2_e002.cat.fits.gz\n",
      "./021/0214m091/0214m091_w1_e001.cat.fits.gz\n"
     ]
    },
    {
     "name": "stderr",
     "output_type": "stream",
     "text": [
      " 40%|████      | 12/30 [00:05<00:07,  2.36it/s]"
     ]
    },
    {
     "name": "stdout",
     "output_type": "stream",
     "text": [
      "./145/1450p257/1450p257_w2_e000.cat.fits.gz22\n",
      " no matches\n",
      "./167/1678p000/1678p000_w1_e003.cat.fits.gz\n"
     ]
    },
    {
     "name": "stderr",
     "output_type": "stream",
     "text": [
      " 47%|████▋     | 14/30 [00:06<00:06,  2.35it/s]"
     ]
    },
    {
     "name": "stdout",
     "output_type": "stream",
     "text": [
      "./021/0214m091/0214m091_w2_e001.cat.fits.gz\n",
      "./194/1940p545/1940p545_w1_e001.cat.fits.gz\n"
     ]
    },
    {
     "name": "stderr",
     "output_type": "stream",
     "text": [
      " 50%|█████     | 15/30 [00:06<00:05,  2.52it/s]"
     ]
    },
    {
     "name": "stdout",
     "output_type": "stream",
     "text": [
      "./167/1678p000/1678p000_w2_e003.cat.fits.gz\n",
      "./145/1450p257/1450p257_w1_e001.cat.fits.gz\n"
     ]
    },
    {
     "name": "stderr",
     "output_type": "stream",
     "text": [
      " 53%|█████▎    | 16/30 [00:07<00:05,  2.63it/s]No data found for target \"<SkyCoord (ICRS): (ra, dec) in deg\n",
      "    (178.11465, 32.16646)>\".\n"
     ]
    },
    {
     "name": "stdout",
     "output_type": "stream",
     "text": [
      "Scanning individual catalog files ..."
     ]
    },
    {
     "name": "stderr",
     "output_type": "stream",
     "text": [
      "ERROR:lightkurve.search:No data found for target \"<SkyCoord (ICRS): (ra, dec) in deg\n",
      "    (178.11465, 32.16646)>\".\n"
     ]
    },
    {
     "name": "stdout",
     "output_type": "stream",
     "text": [
      "\n"
     ]
    },
    {
     "name": "stderr",
     "output_type": "stream",
     "text": [
      " 63%|██████▎   | 19/30 [01:08<00:27,  2.54s/it]"
     ]
    },
    {
     "name": "stdout",
     "output_type": "stream",
     "text": [
      "./236/2366p257/2366p257_w1_e000.cat.fits.gz./167/1678p000/1678p000_w1_e004.cat.fits.gz\n"
     ]
    },
    {
     "name": "stderr",
     "output_type": "stream",
     "text": [
      " 57%|█████▋    | 17/30 [00:07<00:04,  2.75it/s]"
     ]
    },
    {
     "name": "stdout",
     "output_type": "stream",
     "text": [
      "\n",
      "./021/0214m091/0214m091_w1_e002.cat.fits.gz\n",
      "./194/1940p545/1940p545_w2_e001.cat.fits.gz\n"
     ]
    },
    {
     "name": "stderr",
     "output_type": "stream",
     "text": [
      " 60%|██████    | 18/30 [00:08<00:04,  2.61it/s]"
     ]
    },
    {
     "name": "stdout",
     "output_type": "stream",
     "text": [
      "./145/1450p257/1450p257_w2_e001.cat.fits.gz\n",
      "./167/1678p000/1678p000_w2_e004.cat.fits.gz\n"
     ]
    },
    {
     "name": "stderr",
     "output_type": "stream",
     "text": [
      " 63%|██████▎   | 19/30 [00:08<00:04,  2.48it/s]"
     ]
    },
    {
     "name": "stdout",
     "output_type": "stream",
     "text": [
      "./021/0214m091/0214m091_w2_e002.cat.fits.gz\n"
     ]
    },
    {
     "name": "stderr",
     "output_type": "stream",
     "text": [
      " 67%|██████▋   | 20/30 [00:08<00:04,  2.49it/s]"
     ]
    },
    {
     "name": "stdout",
     "output_type": "stream",
     "text": [
      "./236/2366p257/2366p257_w2_e000.cat.fits.gz\n",
      "23 no matches\n",
      "./194/1940p545/1940p545_w1_e002.cat.fits.gz\n",
      "./145/1450p257/1450p257_w1_e002.cat.fits.gz\n",
      "./167/1678p000/1678p000_w1_e005.cat.fits.gz\n",
      "./021/0214m091/0214m091_w1_e003.cat.fits.gz\n"
     ]
    },
    {
     "name": "stderr",
     "output_type": "stream",
     "text": [
      " 73%|███████▎  | 22/30 [00:09<00:03,  2.21it/s]"
     ]
    },
    {
     "name": "stdout",
     "output_type": "stream",
     "text": [
      "./021/0214m091/0214m091_w2_e003.cat.fits.gz\n",
      "./194/1940p545/1940p545_w2_e002.cat.fits.gz\n",
      "./167/1678p000/1678p000_w2_e005.cat.fits.gz\n"
     ]
    },
    {
     "name": "stderr",
     "output_type": "stream",
     "text": [
      "No data found for target \"<SkyCoord (ICRS): (ra, dec) in deg\n",
      "    (194.81978, 55.25199)>\".\n"
     ]
    },
    {
     "name": "stdout",
     "output_type": "stream",
     "text": [
      "./236/2366p257/2366p257_w1_e001.cat.fits.gz"
     ]
    },
    {
     "name": "stderr",
     "output_type": "stream",
     "text": [
      "ERROR:lightkurve.search:No data found for target \"<SkyCoord (ICRS): (ra, dec) in deg\n",
      "    (194.81978, 55.25199)>\".\n",
      " 67%|██████▋   | 20/30 [01:11<00:26,  2.61s/it]"
     ]
    },
    {
     "name": "stdout",
     "output_type": "stream",
     "text": [
      "\n",
      "./145/1450p257/1450p257_w2_e002.cat.fits.gz\n"
     ]
    },
    {
     "name": "stderr",
     "output_type": "stream",
     "text": [
      " 80%|████████  | 24/30 [00:10<00:02,  2.30it/s]"
     ]
    },
    {
     "name": "stdout",
     "output_type": "stream",
     "text": [
      "./021/0214m091/0214m091_w1_e004.cat.fits.gz\n"
     ]
    },
    {
     "name": "stderr",
     "output_type": "stream",
     "text": [
      " 83%|████████▎ | 25/30 [00:11<00:02,  2.36it/s]"
     ]
    },
    {
     "name": "stdout",
     "output_type": "stream",
     "text": [
      "./194/1940p545/1940p545_w1_e003.cat.fits.gz\n",
      "./167/1678p000/1678p000_w1_e006.cat.fits.gz\n",
      "./236/2366p257/2366p257_w2_e001.cat.fits.gz\n"
     ]
    },
    {
     "name": "stderr",
     "output_type": "stream",
     "text": [
      " 87%|████████▋ | 26/30 [00:11<00:01,  2.34it/s]"
     ]
    },
    {
     "name": "stdout",
     "output_type": "stream",
     "text": [
      "./145/1450p257/1450p257_w1_e003.cat.fits.gz\n",
      "./021/0214m091/0214m091_w2_e004.cat.fits.gz\n"
     ]
    },
    {
     "name": "stderr",
     "output_type": "stream",
     "text": [
      " 90%|█████████ | 27/30 [00:11<00:01,  2.38it/s]"
     ]
    },
    {
     "name": "stdout",
     "output_type": "stream",
     "text": [
      "24 no matches\n",
      "./167/1678p000/1678p000_w2_e006.cat.fits.gz\n",
      "./194/1940p545/1940p545_w2_e003.cat.fits.gz\n"
     ]
    },
    {
     "name": "stderr",
     "output_type": "stream",
     "text": [
      " 93%|█████████▎| 28/30 [00:12<00:00,  2.43it/s]"
     ]
    },
    {
     "name": "stdout",
     "output_type": "stream",
     "text": [
      "./236/2366p257/2366p257_w1_e002.cat.fits.gz\n"
     ]
    },
    {
     "name": "stderr",
     "output_type": "stream",
     "text": [
      " 97%|█████████▋| 29/30 [00:12<00:00,  2.30it/s]"
     ]
    },
    {
     "name": "stdout",
     "output_type": "stream",
     "text": [
      "./021/0214m091/0214m091_w1_e005.cat.fits.gz\n",
      "./145/1450p257/1450p257_w2_e003.cat.fits.gz\n",
      "./167/1678p000/1678p000_w1_e007.cat.fits.gz\n"
     ]
    },
    {
     "name": "stderr",
     "output_type": "stream",
     "text": [
      "100%|██████████| 30/30 [00:13<00:00,  2.27it/s]\n",
      "  0%|          | 0/30 [00:00<?, ?it/s]"
     ]
    },
    {
     "name": "stdout",
     "output_type": "stream",
     "text": [
      "./194/1940p545/1940p545_w1_e004.cat.fits.gz\n"
     ]
    },
    {
     "name": "stderr",
     "output_type": "stream",
     "text": [
      " 77%|███████▋  | 23/30 [00:00<00:00, 66.57it/s]"
     ]
    },
    {
     "name": "stdout",
     "output_type": "stream",
     "text": [
      "./145/1450p257/1450p257_w1_e004.cat.fits.gz./236/2366p257/2366p257_w2_e002.cat.fits.gz\n",
      "\n"
     ]
    },
    {
     "name": "stderr",
     "output_type": "stream",
     "text": [
      "100%|██████████| 30/30 [00:00<00:00, 69.14it/s]\n"
     ]
    },
    {
     "name": "stdout",
     "output_type": "stream",
     "text": [
      "IceCube Matched and added to lightcurve object.\n",
      "./167/1678p000/1678p000_w2_e007.cat.fits.gz\n",
      "./021/0214m091/0214m091_w2_e005.cat.fits.gz\n",
      "./194/1940p545/1940p545_w2_e004.cat.fits.gz\n",
      "./145/1450p257/1450p257_w2_e004.cat.fits.gz./236/2366p257/2366p257_w1_e003.cat.fits.gz\n",
      "\n",
      "25 no matches\n",
      "./021/0214m091/0214m091_w1_e006.cat.fits.gz\n",
      "./167/1678p000/1678p000_w1_e008.cat.fits.gz\n",
      "./145/1450p257/1450p257_w1_e005.cat.fits.gz\n",
      "./194/1940p545/1940p545_w1_e005.cat.fits.gz\n",
      "./236/2366p257/2366p257_w2_e003.cat.fits.gz\n",
      "./167/1678p000/1678p000_w2_e008.cat.fits.gz\n",
      "./021/0214m091/0214m091_w2_e006.cat.fits.gz\n",
      "./145/1450p257/1450p257_w2_e005.cat.fits.gz\n",
      "./194/1940p545/1940p545_w2_e005.cat.fits.gz\n",
      "./236/2366p257/2366p257_w1_e004.cat.fits.gz\n",
      "./167/1678p000/1678p000_w1_e009.cat.fits.gz\n",
      "./021/0214m091/0214m091_w1_e007.cat.fits.gz\n",
      "./145/1450p257/1450p257_w1_e006.cat.fits.gz\n",
      "./167/1678p000/1678p000_w2_e009.cat.fits.gz\n",
      "./021/0214m091/0214m091_w2_e007.cat.fits.gz./236/2366p257/2366p257_w2_e004.cat.fits.gz\n",
      "\n",
      "./194/1940p545/1940p545_w1_e006.cat.fits.gz\n",
      "./145/1450p257/1450p257_w2_e006.cat.fits.gz\n",
      "26 no matches\n",
      "./167/1678p000/1678p000_w1_e010.cat.fits.gz\n",
      "./021/0214m091/0214m091_w1_e008.cat.fits.gz\n",
      "./236/2366p257/2366p257_w1_e005.cat.fits.gz\n",
      "./194/1940p545/1940p545_w2_e006.cat.fits.gz\n",
      "./145/1450p257/1450p257_w1_e007.cat.fits.gz\n",
      "./167/1678p000/1678p000_w2_e010.cat.fits.gz\n",
      "./021/0214m091/0214m091_w2_e008.cat.fits.gz\n",
      "./194/1940p545/1940p545_w1_e007.cat.fits.gz./145/1450p257/1450p257_w2_e007.cat.fits.gz\n",
      "\n",
      "./236/2366p257/2366p257_w2_e005.cat.fits.gz\n",
      "./167/1678p000/1678p000_w1_e011.cat.fits.gz\n",
      "./021/0214m091/0214m091_w1_e009.cat.fits.gz\n",
      "./145/1450p257/1450p257_w1_e008.cat.fits.gz\n",
      "./194/1940p545/1940p545_w2_e007.cat.fits.gz\n",
      "./167/1678p000/1678p000_w2_e011.cat.fits.gz\n",
      "./021/0214m091/0214m091_w2_e009.cat.fits.gz\n",
      "./236/2366p257/2366p257_w1_e006.cat.fits.gz\n",
      "./145/1450p257/1450p257_w2_e008.cat.fits.gz\n",
      "./194/1940p545/1940p545_w1_e008.cat.fits.gz\n",
      "27 no matches\n",
      "./021/0214m091/0214m091_w1_e010.cat.fits.gz\n",
      "./167/1678p000/1678p000_w1_e012.cat.fits.gz\n",
      "./236/2366p257/2366p257_w2_e006.cat.fits.gz\n",
      "./145/1450p257/1450p257_w1_e009.cat.fits.gz\n",
      "./194/1940p545/1940p545_w2_e008.cat.fits.gz./021/0214m091/0214m091_w2_e010.cat.fits.gz\n",
      "\n",
      "./167/1678p000/1678p000_w2_e012.cat.fits.gz\n",
      "./236/2366p257/2366p257_w1_e007.cat.fits.gz\n"
     ]
    },
    {
     "name": "stderr",
     "output_type": "stream",
     "text": [
      "No data found for target \"<SkyCoord (ICRS): (ra, dec) in deg\n",
      "    (199.87808, 67.89872)>\".\n",
      "ERROR:lightkurve.search:No data found for target \"<SkyCoord (ICRS): (ra, dec) in deg\n",
      "    (199.87808, 67.89872)>\".\n",
      " 70%|███████   | 21/30 [01:23<00:48,  5.39s/it]"
     ]
    },
    {
     "name": "stdout",
     "output_type": "stream",
     "text": [
      "./021/0214m091/0214m091_w1_e011.cat.fits.gz\n",
      "./145/1450p257/1450p257_w2_e009.cat.fits.gz\n",
      "./194/1940p545/1940p545_w1_e009.cat.fits.gz\n",
      "./167/1678p000/1678p000_w1_e013.cat.fits.gz\n",
      "./236/2366p257/2366p257_w2_e007.cat.fits.gz\n",
      "./021/0214m091/0214m091_w2_e011.cat.fits.gz\n",
      "./145/1450p257/1450p257_w1_e010.cat.fits.gz\n"
     ]
    },
    {
     "name": "stderr",
     "output_type": "stream",
     "text": [
      "No data found for target \"<SkyCoord (ICRS): (ra, dec) in deg\n",
      "    (209.07707, -1.2539)>\".\n",
      "ERROR:lightkurve.search:No data found for target \"<SkyCoord (ICRS): (ra, dec) in deg\n",
      "    (209.07707, -1.2539)>\".\n",
      " 73%|███████▎  | 22/30 [01:24<00:32,  4.07s/it]"
     ]
    },
    {
     "name": "stdout",
     "output_type": "stream",
     "text": [
      "./194/1940p545/1940p545_w2_e009.cat.fits.gz\n",
      "28./167/1678p000/1678p000_w2_e013.cat.fits.gz \n",
      "no matches\n",
      "./021/0214m091/0214m091_w1_e012.cat.fits.gz\n",
      "./145/1450p257/1450p257_w2_e010.cat.fits.gz\n",
      "./236/2366p257/2366p257_w1_e008.cat.fits.gz\n",
      "./194/1940p545/1940p545_w1_e010.cat.fits.gz\n",
      "./167/1678p000/1678p000_w1_e014.cat.fits.gz\n",
      "./021/0214m091/0214m091_w2_e012.cat.fits.gz\n",
      "./145/1450p257/1450p257_w1_e011.cat.fits.gz\n",
      "./236/2366p257/2366p257_w2_e008.cat.fits.gz\n",
      "./167/1678p000/1678p000_w2_e014.cat.fits.gz\n",
      "./194/1940p545/1940p545_w2_e010.cat.fits.gz\n",
      "./021/0214m091/0214m091_w1_e013.cat.fits.gz\n",
      "./145/1450p257/1450p257_w2_e011.cat.fits.gz\n",
      "./236/2366p257/2366p257_w1_e009.cat.fits.gz\n",
      "./194/1940p545/1940p545_w1_e011.cat.fits.gz\n",
      "./167/1678p000/1678p000_w1_e015.cat.fits.gz\n",
      "./021/0214m091/0214m091_w2_e013.cat.fits.gz\n",
      "./145/1450p257/1450p257_w1_e012.cat.fits.gz\n",
      "29 no matches\n",
      "./236/2366p257/2366p257_w2_e009.cat.fits.gz\n",
      "./021/0214m091/0214m091_w1_e014.cat.fits.gz\n",
      "./194/1940p545/1940p545_w2_e011.cat.fits.gz\n",
      "./167/1678p000/1678p000_w2_e015.cat.fits.gz\n",
      "./145/1450p257/1450p257_w2_e012.cat.fits.gz\n"
     ]
    },
    {
     "name": "stderr",
     "output_type": "stream",
     "text": [
      "No data found for target \"<SkyCoord (ICRS): (ra, dec) in deg\n",
      "    (209.73263, 49.5706)>\".\n",
      "ERROR:lightkurve.search:No data found for target \"<SkyCoord (ICRS): (ra, dec) in deg\n",
      "    (209.73263, 49.5706)>\".\n",
      " 77%|███████▋  | 23/30 [01:27<00:27,  3.97s/it]"
     ]
    },
    {
     "name": "stdout",
     "output_type": "stream",
     "text": [
      "./021/0214m091/0214m091_w2_e014.cat.fits.gz\n",
      "./236/2366p257/2366p257_w1_e010.cat.fits.gz./167/1678p000/1678p000_w1_e016.cat.fits.gz\n",
      "\n",
      "./194/1940p545/1940p545_w1_e012.cat.fits.gz\n",
      "./145/1450p257/1450p257_w1_e013.cat.fits.gz\n",
      "./167/1678p000/1678p000_w2_e016.cat.fits.gz\n",
      "./021/0214m091/0214m091_w1_e015.cat.fits.gz\n",
      "./145/1450p257/1450p257_w2_e013.cat.fits.gz\n",
      "./236/2366p257/2366p257_w2_e010.cat.fits.gz\n",
      "./194/1940p545/1940p545_w2_e012.cat.fits.gz\n"
     ]
    },
    {
     "name": "stderr",
     "output_type": "stream",
     "text": [
      " 33%|███▎      | 2/6 [01:29<02:59, 44.76s/it]"
     ]
    },
    {
     "name": "stdout",
     "output_type": "stream",
     "text": [
      "./021/0214m091/0214m091_w2_e015.cat.fits.gz\n",
      "./145/1450p257/1450p257_w1_e014.cat.fits.gz\n",
      "./236/2366p257/2366p257_w1_e011.cat.fits.gz\n",
      "./194/1940p545/1940p545_w1_e013.cat.fits.gz\n"
     ]
    },
    {
     "name": "stderr",
     "output_type": "stream",
     "text": [
      "No data found for target \"<SkyCoord (ICRS): (ra, dec) in deg\n",
      "    (221.97599, 28.55669)>\".\n",
      "ERROR:lightkurve.search:No data found for target \"<SkyCoord (ICRS): (ra, dec) in deg\n",
      "    (221.97599, 28.55669)>\".\n",
      " 80%|████████  | 24/30 [01:30<00:21,  3.52s/it]"
     ]
    },
    {
     "name": "stdout",
     "output_type": "stream",
     "text": [
      "./145/1450p257/1450p257_w2_e014.cat.fits.gz\n"
     ]
    },
    {
     "name": "stderr",
     "output_type": "stream",
     "text": [
      " 33%|███▎      | 2/6 [01:30<02:59, 44.81s/it]"
     ]
    },
    {
     "name": "stdout",
     "output_type": "stream",
     "text": [
      "./236/2366p257/2366p257_w2_e011.cat.fits.gz\n",
      "./194/1940p545/1940p545_w2_e013.cat.fits.gz\n"
     ]
    },
    {
     "name": "stderr",
     "output_type": "stream",
     "text": [
      "No data found for target \"<SkyCoord (ICRS): (ra, dec) in deg\n",
      "    (233.48331, 1.17494)>\".\n",
      "ERROR:lightkurve.search:No data found for target \"<SkyCoord (ICRS): (ra, dec) in deg\n",
      "    (233.48331, 1.17494)>\".\n",
      " 83%|████████▎ | 25/30 [01:31<00:13,  2.78s/it]"
     ]
    },
    {
     "name": "stdout",
     "output_type": "stream",
     "text": [
      "./145/1450p257/1450p257_w1_e015.cat.fits.gz\n",
      "./236/2366p257/2366p257_w1_e012.cat.fits.gz\n",
      "./194/1940p545/1940p545_w1_e014.cat.fits.gz\n",
      "Scanning catalog index file ...\n",
      "./145/1450p257/1450p257_w2_e015.cat.fits.gz\n",
      "./236/2366p257/2366p257_w2_e012.cat.fits.gz\n",
      "./194/1940p545/1940p545_w2_e014.cat.fits.gz\n"
     ]
    },
    {
     "name": "stderr",
     "output_type": "stream",
     "text": [
      " 33%|███▎      | 2/6 [01:33<03:04, 46.05s/it]"
     ]
    },
    {
     "name": "stdout",
     "output_type": "stream",
     "text": [
      "./236/2366p257/2366p257_w1_e013.cat.fits.gz\n",
      "./194/1940p545/1940p545_w1_e015.cat.fits.gz\n"
     ]
    },
    {
     "name": "stderr",
     "output_type": "stream",
     "text": [
      "No data found for target \"<SkyCoord (ICRS): (ra, dec) in deg\n",
      "    (236.3735, 25.19107)>\".\n",
      "ERROR:lightkurve.search:No data found for target \"<SkyCoord (ICRS): (ra, dec) in deg\n",
      "    (236.3735, 25.19107)>\".\n"
     ]
    },
    {
     "name": "stdout",
     "output_type": "stream",
     "text": [
      "Scanning catalog index file ..."
     ]
    },
    {
     "name": "stderr",
     "output_type": "stream",
     "text": [
      " 87%|████████▋ | 26/30 [01:34<00:11,  2.76s/it]"
     ]
    },
    {
     "name": "stdout",
     "output_type": "stream",
     "text": [
      "\n",
      "./236/2366p257/2366p257_w2_e013.cat.fits.gz\n",
      "./194/1940p545/1940p545_w2_e015.cat.fits.gz\n",
      "./236/2366p257/2366p257_w1_e014.cat.fits.gz\n"
     ]
    },
    {
     "name": "stderr",
     "output_type": "stream",
     "text": [
      " 33%|███▎      | 2/6 [01:35<03:10, 47.54s/it]"
     ]
    },
    {
     "name": "stdout",
     "output_type": "stream",
     "text": [
      "Scanning catalog index file ...\n",
      "./236/2366p257/2366p257_w2_e014.cat.fits.gz\n"
     ]
    },
    {
     "name": "stderr",
     "output_type": "stream",
     "text": [
      "No data found for target \"<SkyCoord (ICRS): (ra, dec) in deg\n",
      "    (237.57179, 41.65064)>\".\n",
      "ERROR:lightkurve.search:No data found for target \"<SkyCoord (ICRS): (ra, dec) in deg\n",
      "    (237.57179, 41.65064)>\".\n",
      " 90%|█████████ | 27/30 [01:36<00:08,  2.81s/it]"
     ]
    },
    {
     "name": "stdout",
     "output_type": "stream",
     "text": [
      "./236/2366p257/2366p257_w1_e015.cat.fits.gz\n",
      "./236/2366p257/2366p257_w2_e015.cat.fits.gz\n",
      "Scanning catalog index file ...\n"
     ]
    },
    {
     "name": "stderr",
     "output_type": "stream",
     "text": [
      " 33%|███▎      | 2/6 [01:39<03:17, 49.25s/it]No data found for target \"<SkyCoord (ICRS): (ra, dec) in deg\n",
      "    (238.24292, 27.62456)>\".\n",
      "ERROR:lightkurve.search:No data found for target \"<SkyCoord (ICRS): (ra, dec) in deg\n",
      "    (238.24292, 27.62456)>\".\n",
      " 93%|█████████▎| 28/30 [01:39<00:05,  2.77s/it]"
     ]
    },
    {
     "name": "stdout",
     "output_type": "stream",
     "text": [
      "Scanning individual catalog files ...\n",
      "./168/1686p060/1686p060_w1_e000.cat.fits.gz\n"
     ]
    },
    {
     "name": "stderr",
     "output_type": "stream",
     "text": [
      "No data found for target \"<SkyCoord (ICRS): (ra, dec) in deg\n",
      "    (238.66774, 36.4978)>\".\n",
      "ERROR:lightkurve.search:No data found for target \"<SkyCoord (ICRS): (ra, dec) in deg\n",
      "    (238.66774, 36.4978)>\".\n",
      " 97%|█████████▋| 29/30 [01:42<00:02,  2.69s/it]"
     ]
    },
    {
     "name": "stdout",
     "output_type": "stream",
     "text": [
      "./168/1686p060/1686p060_w2_e000.cat.fits.gz\n",
      "Scanning catalog index file ...\n",
      "./168/1686p060/1686p060_w1_e001.cat.fits.gz"
     ]
    },
    {
     "name": "stderr",
     "output_type": "stream",
     "text": [
      "No data found for target \"<SkyCoord (ICRS): (ra, dec) in deg\n",
      "    (354.01242, 0.29132)>\".\n"
     ]
    },
    {
     "name": "stdout",
     "output_type": "stream",
     "text": [
      "\n"
     ]
    },
    {
     "name": "stderr",
     "output_type": "stream",
     "text": [
      "ERROR:lightkurve.search:No data found for target \"<SkyCoord (ICRS): (ra, dec) in deg\n",
      "    (354.01242, 0.29132)>\".\n",
      "100%|██████████| 30/30 [01:43<00:00,  3.46s/it]\n"
     ]
    },
    {
     "name": "stdout",
     "output_type": "stream",
     "text": [
      "Scanning individual catalog files ...\n",
      "./030/0302p000/0302p000_w1_e000.cat.fits.gz\n",
      "./168/1686p060/1686p060_w2_e001.cat.fits.gz\n",
      "./030/0302p000/0302p000_w2_e000.cat.fits.gz\n",
      "./168/1686p060/1686p060_w1_e002.cat.fits.gz\n",
      "./030/0302p000/0302p000_w1_e001.cat.fits.gz\n",
      "Scanning individual catalog files ...\n",
      "./168/1686p060/1686p060_w2_e002.cat.fits.gz./144/1447p318/1447p318_w1_e000.cat.fits.gz\n",
      "\n",
      "./030/0302p000/0302p000_w2_e001.cat.fits.gz\n",
      "./168/1686p060/1686p060_w1_e003.cat.fits.gz\n",
      "./144/1447p318/1447p318_w2_e000.cat.fits.gz\n",
      "./168/1686p060/1686p060_w2_e003.cat.fits.gz\n",
      "./030/0302p000/0302p000_w1_e002.cat.fits.gz\n",
      "./144/1447p318/1447p318_w1_e001.cat.fits.gz\n",
      "./168/1686p060/1686p060_w1_e004.cat.fits.gz\n",
      "./030/0302p000/0302p000_w2_e002.cat.fits.gz\n",
      "./144/1447p318/1447p318_w2_e001.cat.fits.gz\n",
      "Scanning individual catalog files ...\n",
      "./201/2017p681/2017p681_w1_e000.cat.fits.gz\n",
      "./168/1686p060/1686p060_w2_e004.cat.fits.gz\n",
      "./030/0302p000/0302p000_w1_e003.cat.fits.gz\n",
      "./144/1447p318/1447p318_w1_e002.cat.fits.gz\n",
      "./168/1686p060/1686p060_w1_e005.cat.fits.gz\n",
      "./030/0302p000/0302p000_w2_e003.cat.fits.gz\n",
      "./201/2017p681/2017p681_w2_e000.cat.fits.gz\n",
      "./144/1447p318/1447p318_w2_e002.cat.fits.gz\n",
      "./030/0302p000/0302p000_w1_e004.cat.fits.gz\n",
      "./168/1686p060/1686p060_w2_e005.cat.fits.gz\n",
      "./144/1447p318/1447p318_w1_e003.cat.fits.gz\n",
      "./168/1686p060/1686p060_w1_e006.cat.fits.gz\n",
      "./030/0302p000/0302p000_w2_e004.cat.fits.gz\n",
      "./201/2017p681/2017p681_w1_e001.cat.fits.gz\n",
      "./168/1686p060/1686p060_w2_e006.cat.fits.gz\n",
      "Scanning individual catalog files ...\n",
      "./144/1447p318/1447p318_w2_e003.cat.fits.gz./237/2373p408/2373p408_w1_e000.cat.fits.gz\n",
      "\n",
      "./030/0302p000/0302p000_w1_e005.cat.fits.gz\n",
      "./201/2017p681/2017p681_w2_e001.cat.fits.gz\n",
      "./168/1686p060/1686p060_w1_e007.cat.fits.gz\n",
      "./144/1447p318/1447p318_w1_e004.cat.fits.gz\n",
      "./030/0302p000/0302p000_w2_e005.cat.fits.gz\n",
      "./237/2373p408/2373p408_w2_e000.cat.fits.gz\n",
      "./168/1686p060/1686p060_w2_e007.cat.fits.gz\n",
      "./201/2017p681/2017p681_w1_e002.cat.fits.gz\n",
      "./030/0302p000/0302p000_w1_e006.cat.fits.gz\n",
      "./144/1447p318/1447p318_w2_e004.cat.fits.gz\n",
      "./168/1686p060/1686p060_w1_e008.cat.fits.gz\n",
      "./237/2373p408/2373p408_w1_e001.cat.fits.gz\n",
      "./144/1447p318/1447p318_w1_e005.cat.fits.gz\n",
      "./030/0302p000/0302p000_w2_e006.cat.fits.gz\n",
      "./201/2017p681/2017p681_w2_e002.cat.fits.gz\n",
      "./168/1686p060/1686p060_w2_e008.cat.fits.gz\n",
      "./144/1447p318/1447p318_w2_e005.cat.fits.gz\n",
      "./237/2373p408/2373p408_w2_e001.cat.fits.gz\n",
      "./030/0302p000/0302p000_w1_e007.cat.fits.gz\n",
      "./168/1686p060/1686p060_w1_e009.cat.fits.gz\n",
      "./201/2017p681/2017p681_w1_e003.cat.fits.gz\n",
      "./144/1447p318/1447p318_w1_e006.cat.fits.gz\n",
      "./168/1686p060/1686p060_w2_e009.cat.fits.gz\n",
      "./030/0302p000/0302p000_w2_e007.cat.fits.gz\n",
      "./237/2373p408/2373p408_w1_e002.cat.fits.gz\n",
      "./168/1686p060/1686p060_w1_e010.cat.fits.gz\n",
      "./144/1447p318/1447p318_w2_e006.cat.fits.gz\n",
      "./030/0302p000/0302p000_w1_e008.cat.fits.gz./201/2017p681/2017p681_w2_e003.cat.fits.gz\n",
      "\n",
      "./168/1686p060/1686p060_w2_e010.cat.fits.gz\n",
      "./144/1447p318/1447p318_w1_e007.cat.fits.gz./237/2373p408/2373p408_w2_e002.cat.fits.gz\n",
      "./030/0302p000/0302p000_w2_e008.cat.fits.gz\n",
      "\n",
      "./201/2017p681/2017p681_w1_e004.cat.fits.gz\n",
      "./168/1686p060/1686p060_w1_e011.cat.fits.gz\n",
      "./144/1447p318/1447p318_w2_e007.cat.fits.gz./030/0302p000/0302p000_w1_e009.cat.fits.gz\n",
      "\n",
      "./237/2373p408/2373p408_w1_e003.cat.fits.gz\n",
      "./168/1686p060/1686p060_w2_e011.cat.fits.gz\n",
      "./144/1447p318/1447p318_w1_e008.cat.fits.gz\n",
      "./030/0302p000/0302p000_w2_e009.cat.fits.gz\n",
      "./201/2017p681/2017p681_w2_e004.cat.fits.gz\n",
      "./168/1686p060/1686p060_w1_e012.cat.fits.gz\n",
      "./237/2373p408/2373p408_w2_e003.cat.fits.gz\n",
      "./144/1447p318/1447p318_w2_e008.cat.fits.gz\n",
      "./030/0302p000/0302p000_w1_e010.cat.fits.gz\n",
      "./201/2017p681/2017p681_w1_e005.cat.fits.gz\n",
      "./168/1686p060/1686p060_w2_e012.cat.fits.gz\n",
      "./237/2373p408/2373p408_w1_e004.cat.fits.gz./144/1447p318/1447p318_w1_e009.cat.fits.gz\n",
      "\n",
      "./030/0302p000/0302p000_w2_e010.cat.fits.gz\n",
      "./168/1686p060/1686p060_w1_e013.cat.fits.gz\n",
      "./030/0302p000/0302p000_w1_e011.cat.fits.gz\n",
      "./201/2017p681/2017p681_w2_e005.cat.fits.gz\n",
      "./144/1447p318/1447p318_w2_e009.cat.fits.gz\n",
      "./237/2373p408/2373p408_w2_e004.cat.fits.gz\n",
      "./168/1686p060/1686p060_w2_e013.cat.fits.gz\n",
      "./030/0302p000/0302p000_w2_e011.cat.fits.gz./144/1447p318/1447p318_w1_e010.cat.fits.gz\n",
      "\n",
      "./201/2017p681/2017p681_w1_e006.cat.fits.gz./168/1686p060/1686p060_w1_e014.cat.fits.gz\n",
      "\n",
      "./237/2373p408/2373p408_w1_e005.cat.fits.gz\n",
      "./030/0302p000/0302p000_w1_e012.cat.fits.gz\n",
      "./144/1447p318/1447p318_w2_e010.cat.fits.gz\n",
      "./168/1686p060/1686p060_w2_e014.cat.fits.gz\n",
      "./237/2373p408/2373p408_w2_e005.cat.fits.gz\n",
      "./030/0302p000/0302p000_w2_e012.cat.fits.gz\n",
      "./201/2017p681/2017p681_w2_e006.cat.fits.gz\n",
      "./144/1447p318/1447p318_w1_e011.cat.fits.gz\n",
      "./168/1686p060/1686p060_w1_e015.cat.fits.gz./030/0302p000/0302p000_w1_e013.cat.fits.gz\n",
      "\n",
      "./237/2373p408/2373p408_w1_e006.cat.fits.gz\n",
      "./144/1447p318/1447p318_w2_e011.cat.fits.gz\n",
      "./201/2017p681/2017p681_w1_e007.cat.fits.gz\n",
      "./030/0302p000/0302p000_w2_e013.cat.fits.gz\n",
      "./168/1686p060/1686p060_w2_e015.cat.fits.gz\n",
      "./144/1447p318/1447p318_w1_e012.cat.fits.gz\n",
      "./237/2373p408/2373p408_w2_e006.cat.fits.gz"
     ]
    },
    {
     "name": "stderr",
     "output_type": "stream",
     "text": [
      " 50%|█████     | 3/6 [02:05<02:01, 40.66s/it]"
     ]
    },
    {
     "name": "stdout",
     "output_type": "stream",
     "text": [
      "\n",
      "./030/0302p000/0302p000_w1_e014.cat.fits.gz\n",
      "./201/2017p681/2017p681_w2_e007.cat.fits.gz\n",
      "./144/1447p318/1447p318_w2_e012.cat.fits.gz\n",
      "./030/0302p000/0302p000_w2_e014.cat.fits.gz\n",
      "./237/2373p408/2373p408_w1_e007.cat.fits.gz\n",
      "./201/2017p681/2017p681_w1_e008.cat.fits.gz\n",
      "./030/0302p000/0302p000_w1_e015.cat.fits.gz\n",
      "./144/1447p318/1447p318_w1_e013.cat.fits.gz\n",
      "./237/2373p408/2373p408_w2_e007.cat.fits.gz\n",
      "./030/0302p000/0302p000_w2_e015.cat.fits.gz./144/1447p318/1447p318_w2_e013.cat.fits.gz\n",
      "\n",
      "./201/2017p681/2017p681_w2_e008.cat.fits.gz\n",
      "./144/1447p318/1447p318_w1_e014.cat.fits.gzScanning catalog index file ...\n",
      "./237/2373p408/2373p408_w1_e008.cat.fits.gz\n",
      "\n",
      "./030/0302p000/0302p000_w1_e016.cat.fits.gz\n",
      "./201/2017p681/2017p681_w1_e009.cat.fits.gz\n",
      "./030/0302p000/0302p000_w2_e016.cat.fits.gz\n",
      "./144/1447p318/1447p318_w2_e014.cat.fits.gz\n",
      "./237/2373p408/2373p408_w2_e008.cat.fits.gz\n",
      "./201/2017p681/2017p681_w2_e009.cat.fits.gz\n"
     ]
    },
    {
     "name": "stderr",
     "output_type": "stream",
     "text": [
      " 50%|█████     | 3/6 [02:10<02:06, 42.33s/it]"
     ]
    },
    {
     "name": "stdout",
     "output_type": "stream",
     "text": [
      "./144/1447p318/1447p318_w1_e015.cat.fits.gz\n",
      "./237/2373p408/2373p408_w1_e009.cat.fits.gz\n",
      "./201/2017p681/2017p681_w1_e010.cat.fits.gz\n",
      "./144/1447p318/1447p318_w2_e015.cat.fits.gz\n",
      "./237/2373p408/2373p408_w2_e009.cat.fits.gz\n"
     ]
    },
    {
     "name": "stderr",
     "output_type": "stream",
     "text": [
      " 50%|█████     | 3/6 [02:11<02:08, 42.78s/it]"
     ]
    },
    {
     "name": "stdout",
     "output_type": "stream",
     "text": [
      "./237/2373p408/2373p408_w1_e010.cat.fits.gz\n",
      "./201/2017p681/2017p681_w2_e010.cat.fits.gz\n",
      "Scanning catalog index file ...\n",
      "./237/2373p408/2373p408_w2_e010.cat.fits.gz\n",
      "./201/2017p681/2017p681_w1_e011.cat.fits.gz\n",
      "./237/2373p408/2373p408_w1_e011.cat.fits.gz\n",
      "Scanning catalog index file ...\n",
      "./201/2017p681/2017p681_w2_e011.cat.fits.gz\n",
      "./237/2373p408/2373p408_w2_e011.cat.fits.gz\n",
      "./201/2017p681/2017p681_w1_e012.cat.fits.gz\n",
      "./237/2373p408/2373p408_w1_e012.cat.fits.gz\n",
      "./201/2017p681/2017p681_w2_e012.cat.fits.gz\n",
      "./237/2373p408/2373p408_w2_e012.cat.fits.gz\n",
      "./201/2017p681/2017p681_w1_e013.cat.fits.gz\n",
      "Scanning individual catalog files ...\n",
      "./169/1694p318/1694p318_w1_e000.cat.fits.gz\n",
      "./237/2373p408/2373p408_w1_e013.cat.fits.gz\n",
      "./169/1694p318/1694p318_w2_e000.cat.fits.gz\n",
      "./201/2017p681/2017p681_w2_e013.cat.fits.gz\n",
      "./237/2373p408/2373p408_w2_e013.cat.fits.gz./169/1694p318/1694p318_w1_e001.cat.fits.gz\n",
      "\n",
      "./201/2017p681/2017p681_w1_e014.cat.fits.gz\n",
      "./169/1694p318/1694p318_w2_e001.cat.fits.gz\n",
      "./237/2373p408/2373p408_w1_e014.cat.fits.gz\n",
      "./201/2017p681/2017p681_w2_e014.cat.fits.gz\n",
      "./169/1694p318/1694p318_w1_e002.cat.fits.gz\n",
      "Scanning individual catalog files ...\n",
      "./121/1213p424/1213p424_w1_e000.cat.fits.gz\n",
      "./201/2017p681/2017p681_w1_e015.cat.fits.gz\n",
      "./237/2373p408/2373p408_w2_e014.cat.fits.gz\n",
      "./169/1694p318/1694p318_w2_e002.cat.fits.gz\n",
      "./169/1694p318/1694p318_w1_e003.cat.fits.gz./121/1213p424/1213p424_w2_e000.cat.fits.gz\n",
      "\n",
      "./201/2017p681/2017p681_w2_e015.cat.fits.gz\n",
      "./237/2373p408/2373p408_w1_e015.cat.fits.gz\n",
      "./169/1694p318/1694p318_w2_e003.cat.fits.gz\n"
     ]
    },
    {
     "name": "stderr",
     "output_type": "stream",
     "text": [
      " 50%|█████     | 3/6 [02:24<02:24, 48.00s/it]"
     ]
    },
    {
     "name": "stdout",
     "output_type": "stream",
     "text": [
      "./121/1213p424/1213p424_w1_e001.cat.fits.gz\n",
      "./237/2373p408/2373p408_w2_e015.cat.fits.gz\n",
      "./169/1694p318/1694p318_w1_e004.cat.fits.gzScanning individual catalog files ...\n",
      "\n",
      "./151/1516p348/1516p348_w1_e000.cat.fits.gz\n",
      "./237/2373p408/2373p408_w1_e016.cat.fits.gz\n",
      "./121/1213p424/1213p424_w2_e001.cat.fits.gz\n",
      "./151/1516p348/1516p348_w2_e000.cat.fits.gz\n",
      "./169/1694p318/1694p318_w2_e004.cat.fits.gz\n",
      "./237/2373p408/2373p408_w2_e016.cat.fits.gz./169/1694p318/1694p318_w1_e005.cat.fits.gz\n",
      "./151/1516p348/1516p348_w1_e001.cat.fits.gz\n",
      "\n",
      "./121/1213p424/1213p424_w1_e002.cat.fits.gz\n",
      "./151/1516p348/1516p348_w2_e001.cat.fits.gz\n",
      "./169/1694p318/1694p318_w2_e005.cat.fits.gz\n",
      "Scanning catalog index file ...\n"
     ]
    },
    {
     "name": "stderr",
     "output_type": "stream",
     "text": [
      " 50%|█████     | 3/6 [02:27<02:25, 48.56s/it]"
     ]
    },
    {
     "name": "stdout",
     "output_type": "stream",
     "text": [
      "./121/1213p424/1213p424_w2_e002.cat.fits.gz\n",
      "./151/1516p348/1516p348_w1_e002.cat.fits.gz./169/1694p318/1694p318_w1_e006.cat.fits.gz\n",
      "\n",
      "./121/1213p424/1213p424_w1_e003.cat.fits.gz\n",
      "./151/1516p348/1516p348_w2_e002.cat.fits.gz\n",
      "./169/1694p318/1694p318_w2_e006.cat.fits.gz\n",
      "./121/1213p424/1213p424_w2_e003.cat.fits.gz\n",
      "./151/1516p348/1516p348_w1_e003.cat.fits.gz\n",
      "Scanning catalog index file ...\n",
      "./169/1694p318/1694p318_w1_e007.cat.fits.gz\n",
      "./121/1213p424/1213p424_w1_e004.cat.fits.gz\n",
      "./151/1516p348/1516p348_w2_e003.cat.fits.gz\n",
      "./169/1694p318/1694p318_w2_e007.cat.fits.gz\n",
      "./121/1213p424/1213p424_w2_e004.cat.fits.gz\n",
      "./151/1516p348/1516p348_w1_e004.cat.fits.gz\n",
      "./169/1694p318/1694p318_w1_e008.cat.fits.gz\n",
      "./121/1213p424/1213p424_w1_e005.cat.fits.gz\n",
      "./151/1516p348/1516p348_w2_e004.cat.fits.gz\n",
      "./169/1694p318/1694p318_w2_e008.cat.fits.gz\n",
      "./121/1213p424/1213p424_w2_e005.cat.fits.gz\n",
      "./169/1694p318/1694p318_w1_e009.cat.fits.gz\n",
      "./151/1516p348/1516p348_w1_e005.cat.fits.gz\n",
      "./121/1213p424/1213p424_w1_e006.cat.fits.gz\n",
      "./151/1516p348/1516p348_w2_e005.cat.fits.gz\n",
      "./169/1694p318/1694p318_w2_e009.cat.fits.gz\n",
      "./121/1213p424/1213p424_w2_e006.cat.fits.gz\n",
      "./169/1694p318/1694p318_w1_e010.cat.fits.gz\n",
      "./151/1516p348/1516p348_w1_e006.cat.fits.gz\n",
      "./169/1694p318/1694p318_w2_e010.cat.fits.gz\n",
      "./121/1213p424/1213p424_w1_e007.cat.fits.gz\n",
      "./151/1516p348/1516p348_w2_e006.cat.fits.gz\n",
      "./169/1694p318/1694p318_w1_e011.cat.fits.gz\n",
      "./151/1516p348/1516p348_w1_e007.cat.fits.gz\n",
      "./121/1213p424/1213p424_w2_e007.cat.fits.gz\n",
      "./169/1694p318/1694p318_w2_e011.cat.fits.gz\n",
      "./151/1516p348/1516p348_w2_e007.cat.fits.gz\n",
      "./121/1213p424/1213p424_w1_e008.cat.fits.gz\n",
      "Scanning individual catalog files ...\n",
      "./208/2087m016/2087m016_w1_e000.cat.fits.gz\n",
      "./169/1694p318/1694p318_w1_e012.cat.fits.gz\n",
      "./151/1516p348/1516p348_w1_e008.cat.fits.gz\n",
      "./121/1213p424/1213p424_w2_e008.cat.fits.gz\n",
      "./208/2087m016/2087m016_w2_e000.cat.fits.gz\n",
      "./169/1694p318/1694p318_w2_e012.cat.fits.gz\n",
      "./151/1516p348/1516p348_w2_e008.cat.fits.gz\n",
      "./121/1213p424/1213p424_w1_e009.cat.fits.gz\n",
      "./208/2087m016/2087m016_w1_e001.cat.fits.gz\n",
      "./169/1694p318/1694p318_w1_e013.cat.fits.gzScanning individual catalog files ...\n",
      "./238/2383p272/2383p272_w1_e000.cat.fits.gz\n",
      "\n",
      "./151/1516p348/1516p348_w1_e009.cat.fits.gz\n",
      "./121/1213p424/1213p424_w2_e009.cat.fits.gz\n",
      "./169/1694p318/1694p318_w2_e013.cat.fits.gz\n",
      "./151/1516p348/1516p348_w2_e009.cat.fits.gz\n",
      "./208/2087m016/2087m016_w2_e001.cat.fits.gz\n",
      "./238/2383p272/2383p272_w2_e000.cat.fits.gz\n",
      "./151/1516p348/1516p348_w1_e010.cat.fits.gz\n",
      "./169/1694p318/1694p318_w1_e014.cat.fits.gz\n",
      "./121/1213p424/1213p424_w1_e010.cat.fits.gz\n",
      "./208/2087m016/2087m016_w1_e002.cat.fits.gz\n",
      "./169/1694p318/1694p318_w2_e014.cat.fits.gz\n",
      "./121/1213p424/1213p424_w2_e010.cat.fits.gz\n",
      "./238/2383p272/2383p272_w1_e001.cat.fits.gz./151/1516p348/1516p348_w2_e010.cat.fits.gz\n",
      "\n",
      "./208/2087m016/2087m016_w2_e002.cat.fits.gz\n",
      "./169/1694p318/1694p318_w1_e015.cat.fits.gz\n",
      "./121/1213p424/1213p424_w1_e011.cat.fits.gz\n",
      "./151/1516p348/1516p348_w1_e011.cat.fits.gz\n",
      "./238/2383p272/2383p272_w2_e001.cat.fits.gz./208/2087m016/2087m016_w1_e003.cat.fits.gz\n",
      "\n",
      "./169/1694p318/1694p318_w2_e015.cat.fits.gz\n",
      "./151/1516p348/1516p348_w2_e011.cat.fits.gz\n",
      "./121/1213p424/1213p424_w2_e011.cat.fits.gz\n",
      "./208/2087m016/2087m016_w2_e003.cat.fits.gz\n"
     ]
    },
    {
     "name": "stderr",
     "output_type": "stream",
     "text": [
      " 67%|██████▋   | 4/6 [02:43<01:19, 39.65s/it]"
     ]
    },
    {
     "name": "stdout",
     "output_type": "stream",
     "text": [
      "./151/1516p348/1516p348_w1_e012.cat.fits.gz\n",
      "./238/2383p272/2383p272_w1_e002.cat.fits.gz\n",
      "./121/1213p424/1213p424_w1_e012.cat.fits.gz\n",
      "./208/2087m016/2087m016_w1_e004.cat.fits.gz\n",
      "./151/1516p348/1516p348_w2_e012.cat.fits.gz\n",
      "./121/1213p424/1213p424_w2_e012.cat.fits.gz\n",
      "./208/2087m016/2087m016_w2_e004.cat.fits.gz\n",
      "./238/2383p272/2383p272_w2_e002.cat.fits.gz\n",
      "./151/1516p348/1516p348_w1_e013.cat.fits.gz\n",
      "./121/1213p424/1213p424_w1_e013.cat.fits.gz\n",
      "./208/2087m016/2087m016_w1_e005.cat.fits.gz\n",
      "./238/2383p272/2383p272_w1_e003.cat.fits.gz\n",
      "./151/1516p348/1516p348_w2_e013.cat.fits.gz\n",
      "Scanning catalog index file ...\n",
      "./208/2087m016/2087m016_w2_e005.cat.fits.gz\n",
      "./121/1213p424/1213p424_w2_e013.cat.fits.gz\n",
      "./151/1516p348/1516p348_w1_e014.cat.fits.gz\n",
      "./238/2383p272/2383p272_w2_e003.cat.fits.gz\n",
      "./208/2087m016/2087m016_w1_e006.cat.fits.gz\n",
      "./151/1516p348/1516p348_w2_e014.cat.fits.gz\n",
      "./121/1213p424/1213p424_w1_e014.cat.fits.gz\n",
      "./238/2383p272/2383p272_w1_e004.cat.fits.gz\n",
      "./151/1516p348/1516p348_w1_e015.cat.fits.gz\n",
      "./208/2087m016/2087m016_w2_e006.cat.fits.gz\n",
      "./121/1213p424/1213p424_w2_e014.cat.fits.gz\n",
      "./238/2383p272/2383p272_w2_e004.cat.fits.gz\n",
      "./151/1516p348/1516p348_w2_e015.cat.fits.gz\n",
      "./208/2087m016/2087m016_w1_e007.cat.fits.gz\n"
     ]
    },
    {
     "name": "stderr",
     "output_type": "stream",
     "text": [
      " 67%|██████▋   | 4/6 [02:49<01:21, 40.88s/it]"
     ]
    },
    {
     "name": "stdout",
     "output_type": "stream",
     "text": [
      "./238/2383p272/2383p272_w1_e005.cat.fits.gz\n",
      "./208/2087m016/2087m016_w2_e007.cat.fits.gz\n",
      "./208/2087m016/2087m016_w1_e008.cat.fits.gz\n",
      "./238/2383p272/2383p272_w2_e005.cat.fits.gz\n",
      "./238/2383p272/2383p272_w1_e006.cat.fits.gz\n",
      "./208/2087m016/2087m016_w2_e008.cat.fits.gz\n",
      "Scanning catalog index file ...\n",
      "Scanning catalog index file ...\n",
      "./208/2087m016/2087m016_w1_e009.cat.fits.gz\n",
      "./238/2383p272/2383p272_w2_e006.cat.fits.gz\n",
      "./208/2087m016/2087m016_w2_e009.cat.fits.gz\n",
      "./238/2383p272/2383p272_w1_e007.cat.fits.gz\n",
      "./208/2087m016/2087m016_w1_e010.cat.fits.gz\n",
      "./238/2383p272/2383p272_w2_e007.cat.fits.gz\n",
      "./208/2087m016/2087m016_w2_e010.cat.fits.gz\n",
      "./238/2383p272/2383p272_w1_e008.cat.fits.gz\n",
      "Scanning individual catalog files ...\n",
      "./173/1731p045/1731p045_w1_e000.cat.fits.gz./208/2087m016/2087m016_w1_e011.cat.fits.gz\n",
      "\n",
      "./238/2383p272/2383p272_w2_e008.cat.fits.gz\n",
      "./173/1731p045/1731p045_w2_e000.cat.fits.gz\n",
      "./208/2087m016/2087m016_w2_e011.cat.fits.gz\n",
      "./238/2383p272/2383p272_w1_e009.cat.fits.gz\n",
      "./208/2087m016/2087m016_w1_e012.cat.fits.gz\n",
      "./173/1731p045/1731p045_w1_e001.cat.fits.gz\n",
      "./208/2087m016/2087m016_w2_e012.cat.fits.gz\n",
      "./238/2383p272/2383p272_w2_e009.cat.fits.gz\n",
      "./173/1731p045/1731p045_w2_e001.cat.fits.gz\n",
      "./208/2087m016/2087m016_w1_e013.cat.fits.gz\n",
      "./173/1731p045/1731p045_w1_e002.cat.fits.gz\n",
      "./238/2383p272/2383p272_w1_e010.cat.fits.gz\n",
      "./173/1731p045/1731p045_w2_e002.cat.fits.gz\n",
      "./208/2087m016/2087m016_w2_e013.cat.fits.gz\n",
      "./238/2383p272/2383p272_w2_e010.cat.fits.gz\n",
      "./173/1731p045/1731p045_w1_e003.cat.fits.gz\n",
      "./208/2087m016/2087m016_w1_e014.cat.fits.gz\n",
      "./173/1731p045/1731p045_w2_e003.cat.fits.gz\n",
      "./238/2383p272/2383p272_w1_e011.cat.fits.gz\n",
      "Scanning individual catalog files ...\n",
      "./128/1287p363/1287p363_w1_e000.cat.fits.gz\n",
      "./208/2087m016/2087m016_w2_e014.cat.fits.gz\n",
      "./173/1731p045/1731p045_w1_e004.cat.fits.gz\n",
      "./238/2383p272/2383p272_w2_e011.cat.fits.gz\n",
      "./173/1731p045/1731p045_w2_e004.cat.fits.gz\n",
      "./208/2087m016/2087m016_w1_e015.cat.fits.gz\n",
      "./128/1287p363/1287p363_w2_e000.cat.fits.gz\n",
      "Scanning individual catalog files ..../153/1531p545/1531p545_w1_e000.cat.fits.gz\n",
      "\n",
      "./173/1731p045/1731p045_w1_e005.cat.fits.gz\n",
      "./208/2087m016/2087m016_w2_e015.cat.fits.gz./238/2383p272/2383p272_w1_e012.cat.fits.gz\n",
      "\n",
      "./153/1531p545/1531p545_w2_e000.cat.fits.gz\n",
      "./128/1287p363/1287p363_w1_e001.cat.fits.gz\n",
      "./173/1731p045/1731p045_w2_e005.cat.fits.gz\n",
      "./208/2087m016/2087m016_w1_e016.cat.fits.gz\n",
      "./238/2383p272/2383p272_w2_e012.cat.fits.gz\n",
      "./128/1287p363/1287p363_w2_e001.cat.fits.gz\n",
      "./153/1531p545/1531p545_w1_e001.cat.fits.gz\n",
      "./173/1731p045/1731p045_w1_e006.cat.fits.gz\n",
      "./208/2087m016/2087m016_w2_e016.cat.fits.gz\n",
      "./238/2383p272/2383p272_w1_e013.cat.fits.gz\n",
      "./173/1731p045/1731p045_w2_e006.cat.fits.gz\n",
      "./153/1531p545/1531p545_w2_e001.cat.fits.gz\n"
     ]
    },
    {
     "name": "stderr",
     "output_type": "stream",
     "text": [
      " 67%|██████▋   | 4/6 [03:06<01:31, 45.53s/it]"
     ]
    },
    {
     "name": "stdout",
     "output_type": "stream",
     "text": [
      "./128/1287p363/1287p363_w1_e002.cat.fits.gz\n",
      "./238/2383p272/2383p272_w2_e013.cat.fits.gz\n",
      "./173/1731p045/1731p045_w1_e007.cat.fits.gz\n",
      "./128/1287p363/1287p363_w2_e002.cat.fits.gz\n",
      "./153/1531p545/1531p545_w1_e002.cat.fits.gz\n",
      "./173/1731p045/1731p045_w2_e007.cat.fits.gz./238/2383p272/2383p272_w1_e014.cat.fits.gz\n",
      "\n",
      "./128/1287p363/1287p363_w1_e003.cat.fits.gz\n",
      "./153/1531p545/1531p545_w2_e002.cat.fits.gz\n",
      "./173/1731p045/1731p045_w1_e008.cat.fits.gz\n",
      "./238/2383p272/2383p272_w2_e014.cat.fits.gz\n",
      "Scanning catalog index file ..../173/1731p045/1731p045_w2_e008.cat.fits.gz\n",
      "\n",
      "./128/1287p363/1287p363_w2_e003.cat.fits.gz\n",
      "./153/1531p545/1531p545_w1_e003.cat.fits.gz\n",
      "./238/2383p272/2383p272_w1_e015.cat.fits.gz\n",
      "./173/1731p045/1731p045_w1_e009.cat.fits.gz\n",
      "./153/1531p545/1531p545_w2_e003.cat.fits.gz\n",
      "./128/1287p363/1287p363_w1_e004.cat.fits.gz\n",
      "./173/1731p045/1731p045_w2_e009.cat.fits.gz\n",
      "./238/2383p272/2383p272_w2_e015.cat.fits.gz\n",
      "./153/1531p545/1531p545_w1_e004.cat.fits.gz\n",
      "./128/1287p363/1287p363_w2_e004.cat.fits.gz\n",
      "./173/1731p045/1731p045_w1_e010.cat.fits.gz\n"
     ]
    },
    {
     "name": "stderr",
     "output_type": "stream",
     "text": [
      " 67%|██████▋   | 4/6 [03:10<01:33, 46.60s/it]"
     ]
    },
    {
     "name": "stdout",
     "output_type": "stream",
     "text": [
      "./153/1531p545/1531p545_w2_e004.cat.fits.gz\n",
      "./128/1287p363/1287p363_w1_e005.cat.fits.gz\n",
      "./173/1731p045/1731p045_w2_e010.cat.fits.gz\n",
      "./153/1531p545/1531p545_w1_e005.cat.fits.gz./173/1731p045/1731p045_w1_e011.cat.fits.gz./128/1287p363/1287p363_w2_e005.cat.fits.gz\n",
      "\n",
      "\n",
      "./173/1731p045/1731p045_w2_e011.cat.fits.gz\n",
      "./128/1287p363/1287p363_w1_e006.cat.fits.gz\n",
      "./153/1531p545/1531p545_w2_e005.cat.fits.gz\n",
      "Scanning catalog index file ...\n",
      "./173/1731p045/1731p045_w1_e012.cat.fits.gz\n",
      "./128/1287p363/1287p363_w2_e006.cat.fits.gz./153/1531p545/1531p545_w1_e006.cat.fits.gz\n",
      "\n",
      "./173/1731p045/1731p045_w2_e012.cat.fits.gz\n",
      "./128/1287p363/1287p363_w1_e007.cat.fits.gz\n",
      "./153/1531p545/1531p545_w2_e006.cat.fits.gz\n",
      "./173/1731p045/1731p045_w1_e013.cat.fits.gz\n",
      "./153/1531p545/1531p545_w1_e007.cat.fits.gz\n",
      "./128/1287p363/1287p363_w2_e007.cat.fits.gz\n",
      "./173/1731p045/1731p045_w2_e013.cat.fits.gz\n",
      "./128/1287p363/1287p363_w1_e008.cat.fits.gz\n",
      "./153/1531p545/1531p545_w2_e007.cat.fits.gz\n",
      "./173/1731p045/1731p045_w1_e014.cat.fits.gz\n",
      "./153/1531p545/1531p545_w1_e008.cat.fits.gz\n",
      "./128/1287p363/1287p363_w2_e008.cat.fits.gz\n",
      "Scanning individual catalog files ...\n",
      "./209/2090p499/2090p499_w1_e000.cat.fits.gz\n",
      "./173/1731p045/1731p045_w2_e014.cat.fits.gz\n",
      "./128/1287p363/1287p363_w1_e009.cat.fits.gz\n",
      "./173/1731p045/1731p045_w1_e015.cat.fits.gz\n",
      "./153/1531p545/1531p545_w2_e008.cat.fits.gz\n",
      "./209/2090p499/2090p499_w2_e000.cat.fits.gz\n",
      "./128/1287p363/1287p363_w2_e009.cat.fits.gz\n",
      "./153/1531p545/1531p545_w1_e009.cat.fits.gz\n",
      "./173/1731p045/1731p045_w2_e015.cat.fits.gz\n",
      "./128/1287p363/1287p363_w1_e010.cat.fits.gz\n",
      "./153/1531p545/1531p545_w2_e009.cat.fits.gz\n",
      "./209/2090p499/2090p499_w1_e001.cat.fits.gz\n",
      "./173/1731p045/1731p045_w1_e016.cat.fits.gz\n",
      "./173/1731p045/1731p045_w2_e016.cat.fits.gz\n"
     ]
    },
    {
     "name": "stderr",
     "output_type": "stream",
     "text": [
      " 83%|████████▎ | 5/6 [03:20<00:38, 38.67s/it]"
     ]
    },
    {
     "name": "stdout",
     "output_type": "stream",
     "text": [
      "./153/1531p545/1531p545_w1_e010.cat.fits.gz./128/1287p363/1287p363_w2_e010.cat.fits.gz\n",
      "\n",
      "./209/2090p499/2090p499_w2_e001.cat.fits.gz\n",
      "./128/1287p363/1287p363_w1_e011.cat.fits.gz\n",
      "./153/1531p545/1531p545_w2_e010.cat.fits.gz\n",
      "./209/2090p499/2090p499_w1_e002.cat.fits.gz\n",
      "./153/1531p545/1531p545_w1_e011.cat.fits.gz\n",
      "./128/1287p363/1287p363_w2_e011.cat.fits.gz\n",
      "./209/2090p499/2090p499_w2_e002.cat.fits.gz\n",
      "Scanning individual catalog files ...\n",
      "./238/2387p363/2387p363_w1_e000.cat.fits.gz\n",
      "./128/1287p363/1287p363_w1_e012.cat.fits.gz\n",
      "./153/1531p545/1531p545_w2_e011.cat.fits.gzScanning catalog index file ...\n",
      "\n",
      "./209/2090p499/2090p499_w1_e003.cat.fits.gz\n",
      "./238/2387p363/2387p363_w2_e000.cat.fits.gz\n",
      "./128/1287p363/1287p363_w2_e012.cat.fits.gz./153/1531p545/1531p545_w1_e012.cat.fits.gz\n",
      "\n",
      "./209/2090p499/2090p499_w2_e003.cat.fits.gz\n",
      "./128/1287p363/1287p363_w1_e013.cat.fits.gz\n",
      "./153/1531p545/1531p545_w2_e012.cat.fits.gz\n",
      "./238/2387p363/2387p363_w1_e001.cat.fits.gz\n",
      "./209/2090p499/2090p499_w1_e004.cat.fits.gz\n",
      "./153/1531p545/1531p545_w1_e013.cat.fits.gz\n",
      "./128/1287p363/1287p363_w2_e013.cat.fits.gz\n",
      "./209/2090p499/2090p499_w2_e004.cat.fits.gz\n",
      "./238/2387p363/2387p363_w2_e001.cat.fits.gz\n",
      "./153/1531p545/1531p545_w2_e013.cat.fits.gz\n",
      "./128/1287p363/1287p363_w1_e014.cat.fits.gz\n",
      "./209/2090p499/2090p499_w1_e005.cat.fits.gz\n",
      "./153/1531p545/1531p545_w1_e014.cat.fits.gz\n",
      "./238/2387p363/2387p363_w1_e002.cat.fits.gz\n",
      "./128/1287p363/1287p363_w2_e014.cat.fits.gz\n",
      "./238/2387p363/2387p363_w2_e002.cat.fits.gz\n",
      "./209/2090p499/2090p499_w2_e005.cat.fits.gz\n",
      "./238/2387p363/2387p363_w1_e003.cat.fits.gz\n",
      "./153/1531p545/1531p545_w2_e014.cat.fits.gz\n"
     ]
    },
    {
     "name": "stderr",
     "output_type": "stream",
     "text": [
      " 83%|████████▎ | 5/6 [03:28<00:40, 40.42s/it]"
     ]
    },
    {
     "name": "stdout",
     "output_type": "stream",
     "text": [
      "./209/2090p499/2090p499_w1_e006.cat.fits.gz\n",
      "./238/2387p363/2387p363_w2_e003.cat.fits.gz\n",
      "./153/1531p545/1531p545_w1_e015.cat.fits.gz\n",
      "./209/2090p499/2090p499_w2_e006.cat.fits.gz\n",
      "./238/2387p363/2387p363_w1_e004.cat.fits.gz\n",
      "./153/1531p545/1531p545_w2_e015.cat.fits.gz\n",
      "./209/2090p499/2090p499_w1_e007.cat.fits.gz\n"
     ]
    },
    {
     "name": "stderr",
     "output_type": "stream",
     "text": [
      " 83%|████████▎ | 5/6 [03:31<00:41, 41.02s/it]"
     ]
    },
    {
     "name": "stdout",
     "output_type": "stream",
     "text": [
      "./238/2387p363/2387p363_w2_e004.cat.fits.gz\n",
      "./209/2090p499/2090p499_w2_e007.cat.fits.gz\n",
      "Scanning catalog index file ...\n",
      "./209/2090p499/2090p499_w1_e008.cat.fits.gz\n",
      "./238/2387p363/2387p363_w1_e005.cat.fits.gz\n",
      "Scanning individual catalog files ...\n",
      "./177/1772p363/1772p363_w1_e000.cat.fits.gz\n",
      "./209/2090p499/2090p499_w2_e008.cat.fits.gz\n",
      "./238/2387p363/2387p363_w2_e005.cat.fits.gz\n",
      "./177/1772p363/1772p363_w2_e000.cat.fits.gz\n",
      "Scanning catalog index file ...\n",
      "./209/2090p499/2090p499_w1_e009.cat.fits.gz\n",
      "./238/2387p363/2387p363_w1_e006.cat.fits.gz\n",
      "./177/1772p363/1772p363_w1_e001.cat.fits.gz\n",
      "./238/2387p363/2387p363_w2_e006.cat.fits.gz\n",
      "./177/1772p363/1772p363_w2_e001.cat.fits.gz./209/2090p499/2090p499_w2_e009.cat.fits.gz\n",
      "\n",
      "./177/1772p363/1772p363_w1_e002.cat.fits.gz\n",
      "./209/2090p499/2090p499_w1_e010.cat.fits.gz\n",
      "./238/2387p363/2387p363_w1_e007.cat.fits.gz\n",
      "./177/1772p363/1772p363_w2_e002.cat.fits.gz\n",
      "./209/2090p499/2090p499_w2_e010.cat.fits.gz\n",
      "./238/2387p363/2387p363_w2_e007.cat.fits.gz\n",
      "./177/1772p363/1772p363_w1_e003.cat.fits.gz\n",
      "./209/2090p499/2090p499_w1_e011.cat.fits.gz\n",
      "./177/1772p363/1772p363_w2_e003.cat.fits.gz\n",
      "./238/2387p363/2387p363_w1_e008.cat.fits.gz\n",
      "./209/2090p499/2090p499_w2_e011.cat.fits.gz\n",
      "./177/1772p363/1772p363_w1_e004.cat.fits.gz\n",
      "./238/2387p363/2387p363_w2_e008.cat.fits.gz\n",
      "./209/2090p499/2090p499_w1_e012.cat.fits.gz\n",
      "./177/1772p363/1772p363_w2_e004.cat.fits.gz\n",
      "./238/2387p363/2387p363_w1_e009.cat.fits.gz\n",
      "./209/2090p499/2090p499_w2_e012.cat.fits.gz\n",
      "./177/1772p363/1772p363_w1_e005.cat.fits.gz\n",
      "./238/2387p363/2387p363_w2_e009.cat.fits.gz\n",
      "./209/2090p499/2090p499_w1_e013.cat.fits.gz\n",
      "./177/1772p363/1772p363_w2_e005.cat.fits.gz\n",
      "./238/2387p363/2387p363_w1_e010.cat.fits.gz\n",
      "Scanning individual catalog files ...\n",
      "./131/1318p272/1318p272_w1_e000.cat.fits.gz\n",
      "./209/2090p499/2090p499_w2_e013.cat.fits.gz\n",
      "./177/1772p363/1772p363_w1_e006.cat.fits.gz\n",
      "Scanning individual catalog files ...\n",
      "./165/1651p636/1651p636_w1_e000.cat.fits.gz\n",
      "./238/2387p363/2387p363_w2_e010.cat.fits.gz\n",
      "./131/1318p272/1318p272_w2_e000.cat.fits.gz\n",
      "./209/2090p499/2090p499_w1_e014.cat.fits.gz\n",
      "./177/1772p363/1772p363_w2_e006.cat.fits.gz\n",
      "./165/1651p636/1651p636_w2_e000.cat.fits.gz\n",
      "./238/2387p363/2387p363_w1_e011.cat.fits.gz\n",
      "./177/1772p363/1772p363_w1_e007.cat.fits.gz\n",
      "./131/1318p272/1318p272_w1_e001.cat.fits.gz\n",
      "./209/2090p499/2090p499_w2_e014.cat.fits.gz\n",
      "./165/1651p636/1651p636_w1_e001.cat.fits.gz\n",
      "./238/2387p363/2387p363_w2_e011.cat.fits.gz\n",
      "./177/1772p363/1772p363_w2_e007.cat.fits.gz\n",
      "./131/1318p272/1318p272_w2_e001.cat.fits.gz\n",
      "./209/2090p499/2090p499_w1_e015.cat.fits.gz\n",
      "./165/1651p636/1651p636_w2_e001.cat.fits.gz\n",
      "./177/1772p363/1772p363_w1_e008.cat.fits.gz\n",
      "./238/2387p363/2387p363_w1_e012.cat.fits.gz\n",
      "./131/1318p272/1318p272_w1_e002.cat.fits.gz\n",
      "./165/1651p636/1651p636_w1_e002.cat.fits.gz\n",
      "./209/2090p499/2090p499_w2_e015.cat.fits.gz./177/1772p363/1772p363_w2_e008.cat.fits.gz\n",
      "\n",
      "./131/1318p272/1318p272_w2_e002.cat.fits.gz\n",
      "./238/2387p363/2387p363_w2_e012.cat.fits.gz\n",
      "./165/1651p636/1651p636_w2_e002.cat.fits.gz\n",
      "./177/1772p363/1772p363_w1_e009.cat.fits.gz\n"
     ]
    },
    {
     "name": "stderr",
     "output_type": "stream",
     "text": [
      " 83%|████████▎ | 5/6 [03:48<00:44, 44.39s/it]"
     ]
    },
    {
     "name": "stdout",
     "output_type": "stream",
     "text": [
      "./131/1318p272/1318p272_w1_e003.cat.fits.gz\n",
      "./238/2387p363/2387p363_w1_e013.cat.fits.gz\n",
      "./165/1651p636/1651p636_w1_e003.cat.fits.gz./177/1772p363/1772p363_w2_e009.cat.fits.gz\n",
      "\n",
      "./131/1318p272/1318p272_w2_e003.cat.fits.gz\n",
      "./238/2387p363/2387p363_w2_e013.cat.fits.gz./177/1772p363/1772p363_w1_e010.cat.fits.gz\n",
      "\n",
      "./131/1318p272/1318p272_w1_e004.cat.fits.gz./165/1651p636/1651p636_w2_e003.cat.fits.gz\n",
      "\n",
      "./131/1318p272/1318p272_w2_e004.cat.fits.gz\n",
      "./165/1651p636/1651p636_w1_e004.cat.fits.gz./238/2387p363/2387p363_w1_e014.cat.fits.gz\n",
      "\n",
      "Scanning catalog index file ...\n",
      "./131/1318p272/1318p272_w1_e005.cat.fits.gz\n",
      "./165/1651p636/1651p636_w2_e004.cat.fits.gz\n",
      "./177/1772p363/1772p363_w2_e010.cat.fits.gz\n",
      "./238/2387p363/2387p363_w2_e014.cat.fits.gz\n",
      "./131/1318p272/1318p272_w2_e005.cat.fits.gz\n",
      "./177/1772p363/1772p363_w1_e011.cat.fits.gz\n",
      "./238/2387p363/2387p363_w1_e015.cat.fits.gz\n",
      "./131/1318p272/1318p272_w1_e006.cat.fits.gz\n",
      "./177/1772p363/1772p363_w2_e011.cat.fits.gz\n",
      "./131/1318p272/1318p272_w2_e006.cat.fits.gz\n",
      "./238/2387p363/2387p363_w2_e015.cat.fits.gz\n",
      "./165/1651p636/1651p636_w1_e005.cat.fits.gz\n",
      "./177/1772p363/1772p363_w1_e012.cat.fits.gz\n",
      "./131/1318p272/1318p272_w1_e007.cat.fits.gz\n",
      "./238/2387p363/2387p363_w1_e016.cat.fits.gz\n",
      "./165/1651p636/1651p636_w2_e005.cat.fits.gz\n",
      "./177/1772p363/1772p363_w2_e012.cat.fits.gz\n",
      "./131/1318p272/1318p272_w2_e007.cat.fits.gz\n",
      "./238/2387p363/2387p363_w2_e016.cat.fits.gz\n",
      "./165/1651p636/1651p636_w1_e006.cat.fits.gz\n",
      "./177/1772p363/1772p363_w1_e013.cat.fits.gz\n",
      "./131/1318p272/1318p272_w1_e008.cat.fits.gz\n",
      "./177/1772p363/1772p363_w2_e013.cat.fits.gz\n",
      "./131/1318p272/1318p272_w2_e008.cat.fits.gz\n",
      "./165/1651p636/1651p636_w2_e006.cat.fits.gz\n"
     ]
    },
    {
     "name": "stderr",
     "output_type": "stream",
     "text": [
      " 83%|████████▎ | 5/6 [03:57<00:46, 46.54s/it]"
     ]
    },
    {
     "name": "stdout",
     "output_type": "stream",
     "text": [
      "./177/1772p363/1772p363_w1_e014.cat.fits.gz\n",
      "./131/1318p272/1318p272_w1_e009.cat.fits.gz\n",
      "./165/1651p636/1651p636_w1_e007.cat.fits.gz\n",
      "./177/1772p363/1772p363_w2_e014.cat.fits.gz\n",
      "./131/1318p272/1318p272_w2_e009.cat.fits.gz\n",
      "./165/1651p636/1651p636_w2_e007.cat.fits.gz\n",
      "./131/1318p272/1318p272_w1_e010.cat.fits.gz\n",
      "./177/1772p363/1772p363_w1_e015.cat.fits.gz\n",
      "./165/1651p636/1651p636_w1_e008.cat.fits.gz\n",
      "Scanning catalog index file ...\n",
      "./177/1772p363/1772p363_w2_e015.cat.fits.gz\n",
      "./131/1318p272/1318p272_w2_e010.cat.fits.gz\n",
      "Scanning individual catalog files ...\n",
      "./221/2211p287/2211p287_w1_e000.cat.fits.gz\n",
      "./165/1651p636/1651p636_w2_e008.cat.fits.gz\n"
     ]
    },
    {
     "name": "stderr",
     "output_type": "stream",
     "text": [
      "100%|██████████| 6/6 [04:01<00:00, 40.22s/it]\n"
     ]
    },
    {
     "name": "stdout",
     "output_type": "stream",
     "text": [
      "./131/1318p272/1318p272_w1_e011.cat.fits.gz\n",
      "./221/2211p287/2211p287_w2_e000.cat.fits.gz\n",
      "./165/1651p636/1651p636_w1_e009.cat.fits.gz\n",
      "./131/1318p272/1318p272_w2_e011.cat.fits.gz\n",
      "./221/2211p287/2211p287_w1_e001.cat.fits.gz\n",
      "./165/1651p636/1651p636_w2_e009.cat.fits.gz\n",
      "./131/1318p272/1318p272_w1_e012.cat.fits.gz\n",
      "./221/2211p287/2211p287_w2_e001.cat.fits.gz\n",
      "./165/1651p636/1651p636_w1_e010.cat.fits.gz\n",
      "./131/1318p272/1318p272_w2_e012.cat.fits.gz\n",
      "./131/1318p272/1318p272_w1_e013.cat.fits.gz\n",
      "./165/1651p636/1651p636_w2_e010.cat.fits.gz\n",
      "./221/2211p287/2211p287_w1_e002.cat.fits.gz\n",
      "./131/1318p272/1318p272_w2_e013.cat.fits.gz\n",
      "./165/1651p636/1651p636_w1_e011.cat.fits.gz\n",
      "./221/2211p287/2211p287_w2_e002.cat.fits.gz\n",
      "./131/1318p272/1318p272_w1_e014.cat.fits.gz\n",
      "./221/2211p287/2211p287_w1_e003.cat.fits.gz\n",
      "./165/1651p636/1651p636_w2_e011.cat.fits.gz\n",
      "./131/1318p272/1318p272_w2_e014.cat.fits.gz\n",
      "./221/2211p287/2211p287_w2_e003.cat.fits.gz\n",
      "./165/1651p636/1651p636_w1_e012.cat.fits.gz\n",
      "./131/1318p272/1318p272_w1_e015.cat.fits.gz\n",
      "./221/2211p287/2211p287_w1_e004.cat.fits.gz\n",
      "./131/1318p272/1318p272_w2_e015.cat.fits.gz\n",
      "./165/1651p636/1651p636_w2_e012.cat.fits.gz\n",
      "./221/2211p287/2211p287_w2_e004.cat.fits.gz\n"
     ]
    },
    {
     "name": "stderr",
     "output_type": "stream",
     "text": [
      "100%|██████████| 6/6 [04:07<00:00, 41.29s/it]\n"
     ]
    },
    {
     "name": "stdout",
     "output_type": "stream",
     "text": [
      "./165/1651p636/1651p636_w1_e013.cat.fits.gz\n",
      "Scanning individual catalog files ...\n",
      "./353/3539p000/3539p000_w1_e000.cat.fits.gz\n",
      "./221/2211p287/2211p287_w1_e005.cat.fits.gz\n",
      "./165/1651p636/1651p636_w2_e013.cat.fits.gz\n",
      "./221/2211p287/2211p287_w2_e005.cat.fits.gz\n",
      "./353/3539p000/3539p000_w2_e000.cat.fits.gz\n",
      "./165/1651p636/1651p636_w1_e014.cat.fits.gz\n",
      "./221/2211p287/2211p287_w1_e006.cat.fits.gz\n",
      "./165/1651p636/1651p636_w2_e014.cat.fits.gz\n",
      "./353/3539p000/3539p000_w1_e001.cat.fits.gz\n",
      "./221/2211p287/2211p287_w2_e006.cat.fits.gz\n",
      "./165/1651p636/1651p636_w1_e015.cat.fits.gz./353/3539p000/3539p000_w2_e001.cat.fits.gz\n",
      "\n",
      "./221/2211p287/2211p287_w1_e007.cat.fits.gz\n",
      "./165/1651p636/1651p636_w2_e015.cat.fits.gz\n",
      "./353/3539p000/3539p000_w1_e002.cat.fits.gz\n",
      "./221/2211p287/2211p287_w2_e007.cat.fits.gz\n",
      "./353/3539p000/3539p000_w2_e002.cat.fits.gz\n",
      "./353/3539p000/3539p000_w1_e003.cat.fits.gz\n"
     ]
    },
    {
     "name": "stderr",
     "output_type": "stream",
     "text": [
      "100%|██████████| 6/6 [04:11<00:00, 41.86s/it]\n"
     ]
    },
    {
     "name": "stdout",
     "output_type": "stream",
     "text": [
      "./221/2211p287/2211p287_w1_e008.cat.fits.gz\n",
      "./353/3539p000/3539p000_w2_e003.cat.fits.gz\n",
      "./221/2211p287/2211p287_w2_e008.cat.fits.gz\n",
      "./353/3539p000/3539p000_w1_e004.cat.fits.gz\n",
      "./221/2211p287/2211p287_w1_e009.cat.fits.gz\n",
      "./353/3539p000/3539p000_w2_e004.cat.fits.gz\n",
      "./353/3539p000/3539p000_w1_e005.cat.fits.gz\n",
      "./221/2211p287/2211p287_w2_e009.cat.fits.gz\n",
      "./353/3539p000/3539p000_w2_e005.cat.fits.gz\n",
      "./221/2211p287/2211p287_w1_e010.cat.fits.gz\n",
      "./353/3539p000/3539p000_w1_e006.cat.fits.gz\n",
      "./221/2211p287/2211p287_w2_e010.cat.fits.gz\n",
      "./353/3539p000/3539p000_w2_e006.cat.fits.gz\n",
      "./221/2211p287/2211p287_w1_e011.cat.fits.gz\n",
      "./353/3539p000/3539p000_w1_e007.cat.fits.gz\n",
      "./221/2211p287/2211p287_w2_e011.cat.fits.gz\n",
      "./353/3539p000/3539p000_w2_e007.cat.fits.gz\n",
      "./221/2211p287/2211p287_w1_e012.cat.fits.gz\n",
      "./353/3539p000/3539p000_w1_e008.cat.fits.gz\n",
      "./221/2211p287/2211p287_w2_e012.cat.fits.gz\n",
      "./353/3539p000/3539p000_w2_e008.cat.fits.gz\n",
      "./221/2211p287/2211p287_w1_e013.cat.fits.gz\n",
      "./353/3539p000/3539p000_w1_e009.cat.fits.gz\n",
      "./353/3539p000/3539p000_w2_e009.cat.fits.gz\n",
      "./221/2211p287/2211p287_w2_e013.cat.fits.gz\n",
      "./353/3539p000/3539p000_w1_e010.cat.fits.gz\n",
      "./221/2211p287/2211p287_w1_e014.cat.fits.gz\n",
      "./353/3539p000/3539p000_w2_e010.cat.fits.gz\n",
      "./221/2211p287/2211p287_w2_e014.cat.fits.gz\n",
      "./353/3539p000/3539p000_w1_e011.cat.fits.gz\n",
      "./221/2211p287/2211p287_w1_e015.cat.fits.gz\n",
      "./353/3539p000/3539p000_w2_e011.cat.fits.gz\n",
      "./353/3539p000/3539p000_w1_e012.cat.fits.gz\n",
      "./221/2211p287/2211p287_w2_e015.cat.fits.gz\n",
      "./353/3539p000/3539p000_w2_e012.cat.fits.gz\n",
      "./221/2211p287/2211p287_w1_e016.cat.fits.gz\n",
      "./353/3539p000/3539p000_w1_e013.cat.fits.gz\n",
      "./221/2211p287/2211p287_w2_e016.cat.fits.gz\n"
     ]
    },
    {
     "name": "stderr",
     "output_type": "stream",
     "text": [
      "100%|██████████| 6/6 [04:18<00:00, 43.10s/it]\n"
     ]
    },
    {
     "name": "stdout",
     "output_type": "stream",
     "text": [
      "./353/3539p000/3539p000_w2_e013.cat.fits.gz\n",
      "./353/3539p000/3539p000_w1_e014.cat.fits.gz\n",
      "./353/3539p000/3539p000_w2_e014.cat.fits.gz\n",
      "./353/3539p000/3539p000_w1_e015.cat.fits.gz\n",
      "./353/3539p000/3539p000_w2_e015.cat.fits.gz\n",
      "./353/3539p000/3539p000_w1_e016.cat.fits.gz\n",
      "./353/3539p000/3539p000_w2_e016.cat.fits.gz\n"
     ]
    },
    {
     "name": "stderr",
     "output_type": "stream",
     "text": [
      "100%|██████████| 6/6 [04:21<00:00, 43.61s/it]\n"
     ]
    }
   ],
   "source": [
    "parallel_starttime = time.time()\n",
    "\n",
    "# start a multiprocessing pool and run all the archive queries\n",
    "parallel_df_lc = MultiIndexDFObject()  # to collect the results\n",
    "callback = parallel_df_lc.append  # will be called once on the result returned by each archive\n",
    "with Pool(processes=n_workers) as pool:\n",
    "\n",
    "    # start the processes that call the fast archives\n",
    "    pool.apply_async(\n",
    "        Gaia_get_lightcurve, (coords_list,  labels_list , 1), callback=callback\n",
    "    )\n",
    "    pool.apply_async(\n",
    "        HEASARC_get_lightcurves, (coords_list, labels_list, heasarc_cat, error_radius), callback=callback\n",
    "    )\n",
    "    pool.apply_async(\n",
    "        HCV_get_lightcurves, (coords_list, labels_list, hcv_radius), callback=callback\n",
    "    )\n",
    "    pool.apply_async(\n",
    "        icecube_get_lightcurve, (coords_list, labels_list, 3, \"./data/\", 1), callback=callback\n",
    "    )\n",
    "    pool.apply_async(\n",
    "        panstarrs_get_lightcurves, (coords_list, labels_list, panstarrs_radius), callback=callback\n",
    "    )\n",
    "    pool.apply_async(\n",
    "        TESS_Kepler_get_lightcurves, (coords_list, labels_list, lk_radius), callback=callback\n",
    "    )\n",
    "    pool.apply_async(ZTF_get_lightcurve, (coords_list, labels_list), callback=callback)\n",
    "\n",
    "    # split coords_list into smaller chunks and call remaining archives\n",
    "    chunksize = ceil(len(coords_list) / n_chunks_per_archive)  # num coords per api call\n",
    "    for n in range(0, len(coords_list), chunksize):\n",
    "        coords = coords_list[n : n + chunksize]\n",
    "\n",
    "        # start the processes that call the slow archives\n",
    "        pool.apply_async(\n",
    "            WISE_get_lightcurves, (coords, labels_list, wise_radius, bandlist), callback=callback\n",
    "        )\n",
    "\n",
    "    pool.close()  # signal that no more jobs will be submitted to the pool\n",
    "    pool.join()  # wait for all jobs to complete, including the callback\n",
    "\n",
    "parallel_endtime = time.time()"
   ]
  },
  {
   "cell_type": "code",
   "execution_count": 14,
   "metadata": {},
   "outputs": [
    {
     "name": "stdout",
     "output_type": "stream",
     "text": [
      "parallel processing took 262.1309633255005 s\n"
     ]
    },
    {
     "data": {
      "text/html": [
       "<div>\n",
       "<style scoped>\n",
       "    .dataframe tbody tr th:only-of-type {\n",
       "        vertical-align: middle;\n",
       "    }\n",
       "\n",
       "    .dataframe tbody tr th {\n",
       "        vertical-align: top;\n",
       "    }\n",
       "\n",
       "    .dataframe thead th {\n",
       "        text-align: right;\n",
       "    }\n",
       "</style>\n",
       "<table border=\"1\" class=\"dataframe\">\n",
       "  <thead>\n",
       "    <tr style=\"text-align: right;\">\n",
       "      <th></th>\n",
       "      <th></th>\n",
       "      <th></th>\n",
       "      <th></th>\n",
       "      <th>flux</th>\n",
       "      <th>err</th>\n",
       "    </tr>\n",
       "    <tr>\n",
       "      <th>objectid</th>\n",
       "      <th>label</th>\n",
       "      <th>band</th>\n",
       "      <th>time</th>\n",
       "      <th></th>\n",
       "      <th></th>\n",
       "    </tr>\n",
       "  </thead>\n",
       "  <tbody>\n",
       "    <tr>\n",
       "      <th rowspan=\"5\" valign=\"top\">4</th>\n",
       "      <th rowspan=\"5\" valign=\"top\">Yang 18</th>\n",
       "      <th rowspan=\"5\" valign=\"top\">Gaia g</th>\n",
       "      <th>56915.140882</th>\n",
       "      <td>0.090134</td>\n",
       "      <td>0.002095</td>\n",
       "    </tr>\n",
       "    <tr>\n",
       "      <th>56915.317054</th>\n",
       "      <td>0.091809</td>\n",
       "      <td>0.001502</td>\n",
       "    </tr>\n",
       "    <tr>\n",
       "      <th>56948.704037</th>\n",
       "      <td>0.10107</td>\n",
       "      <td>0.001592</td>\n",
       "    </tr>\n",
       "    <tr>\n",
       "      <th>56948.778065</th>\n",
       "      <td>0.099002</td>\n",
       "      <td>0.000701</td>\n",
       "    </tr>\n",
       "    <tr>\n",
       "      <th>56983.680808</th>\n",
       "      <td>0.106828</td>\n",
       "      <td>0.001738</td>\n",
       "    </tr>\n",
       "    <tr>\n",
       "      <th>...</th>\n",
       "      <th>...</th>\n",
       "      <th>...</th>\n",
       "      <th>...</th>\n",
       "      <td>...</td>\n",
       "      <td>...</td>\n",
       "    </tr>\n",
       "    <tr>\n",
       "      <th rowspan=\"5\" valign=\"top\">29</th>\n",
       "      <th rowspan=\"5\" valign=\"top\">Yang 18</th>\n",
       "      <th rowspan=\"5\" valign=\"top\">w2</th>\n",
       "      <th>58285.304688</th>\n",
       "      <td>0.132997</td>\n",
       "      <td>0.02059</td>\n",
       "    </tr>\n",
       "    <tr>\n",
       "      <th>58447.750000</th>\n",
       "      <td>0.13077</td>\n",
       "      <td>0.016078</td>\n",
       "    </tr>\n",
       "    <tr>\n",
       "      <th>58649.484375</th>\n",
       "      <td>0.148172</td>\n",
       "      <td>0.019403</td>\n",
       "    </tr>\n",
       "    <tr>\n",
       "      <th>58811.941406</th>\n",
       "      <td>0.162735</td>\n",
       "      <td>0.016916</td>\n",
       "    </tr>\n",
       "    <tr>\n",
       "      <th>59177.519531</th>\n",
       "      <td>0.203871</td>\n",
       "      <td>0.021772</td>\n",
       "    </tr>\n",
       "  </tbody>\n",
       "</table>\n",
       "<p>4155 rows × 2 columns</p>\n",
       "</div>"
      ],
      "text/plain": [
       "                                          flux       err\n",
       "objectid label   band   time                            \n",
       "4        Yang 18 Gaia g 56915.140882  0.090134  0.002095\n",
       "                        56915.317054  0.091809  0.001502\n",
       "                        56948.704037   0.10107  0.001592\n",
       "                        56948.778065  0.099002  0.000701\n",
       "                        56983.680808  0.106828  0.001738\n",
       "...                                        ...       ...\n",
       "29       Yang 18 w2     58285.304688  0.132997   0.02059\n",
       "                        58447.750000   0.13077  0.016078\n",
       "                        58649.484375  0.148172  0.019403\n",
       "                        58811.941406  0.162735  0.016916\n",
       "                        59177.519531  0.203871  0.021772\n",
       "\n",
       "[4155 rows x 2 columns]"
      ]
     },
     "execution_count": 14,
     "metadata": {},
     "output_type": "execute_result"
    }
   ],
   "source": [
    "# How long did parallel processing take?\n",
    "# and look at the results\n",
    "print('parallel processing took', parallel_endtime - parallel_starttime, 's')\n",
    "parallel_df_lc.data"
   ]
  },
  {
   "cell_type": "code",
   "execution_count": 15,
   "metadata": {},
   "outputs": [],
   "source": [
    "# Save the data for future use with ML notebook\n",
    "parquet_savename = 'data/df_lc_090723_yang.parquet.gzip'\n",
    "parallel_df_lc.data.to_parquet(parquet_savename)\n",
    "#print(\"file saved!\")"
   ]
  },
  {
   "cell_type": "code",
   "execution_count": 4,
   "metadata": {},
   "outputs": [],
   "source": [
    "# could load a previously saved file in order to plot\n",
    "parquet_loadname = 'data/df_lc_090723_yang.parquet.gzip'\n",
    "parallel_df_lc = MultiIndexDFObject()\n",
    "parallel_df_lc.data = pd.read_parquet(parquet_loadname)\n",
    "#print(\"file loaded!\")"
   ]
  },
  {
   "cell_type": "markdown",
   "metadata": {},
   "source": [
    "## 5. Make plots of luminosity as a function of time\n",
    "Model plots after [van Velzen et al., 2021](https://arxiv.org/pdf/2111.09391.pdf).\n",
    "\n",
    "__Note__ that in the following, we can either plot the results from `df_lc` (from the serial call) or `parallel_df_lc` (from the parallel call). By default (see next cell) the output of the parallel call is used.\n"
   ]
  },
  {
   "cell_type": "code",
   "execution_count": 5,
   "metadata": {},
   "outputs": [
    {
     "data": {
      "text/plain": [
       "Index(['Gaia g', 'Gaia bp', 'Gaia rp', 'panstarrs r', 'panstarrs y',\n",
       "       'panstarrs g', 'panstarrs i', 'panstarrs z', 'IceCube', 'w1', 'w2'],\n",
       "      dtype='object', name='band')"
      ]
     },
     "execution_count": 5,
     "metadata": {},
     "output_type": "execute_result"
    }
   ],
   "source": [
    "parallel_df_lc.data.index.unique('band')"
   ]
  },
  {
   "cell_type": "code",
   "execution_count": 6,
   "metadata": {
    "lines_to_end_of_cell_marker": 2
   },
   "outputs": [
    {
     "name": "stderr",
     "output_type": "stream",
     "text": [
      "  0%|          | 0/30 [00:00<?, ?it/s]"
     ]
    },
    {
     "data": {
      "image/png": "[encoded data removed]",
      "text/plain": [
       "<Figure size 720x576 with 2 Axes>"
      ]
     },
     "metadata": {
      "needs_background": "light"
     },
     "output_type": "display_data"
    },
    {
     "name": "stderr",
     "output_type": "stream",
     "text": [
      "  3%|▎         | 1/30 [00:01<00:40,  1.39s/it]"
     ]
    },
    {
     "data": {
      "image/png": "[encoded data removed]",
      "text/plain": [
       "<Figure size 720x576 with 2 Axes>"
      ]
     },
     "metadata": {
      "needs_background": "light"
     },
     "output_type": "display_data"
    },
    {
     "name": "stderr",
     "output_type": "stream",
     "text": [
      "  7%|▋         | 2/30 [00:02<00:39,  1.39s/it]"
     ]
    },
    {
     "data": {
      "image/png": "[encoded data removed]",
      "text/plain": [
       "<Figure size 720x576 with 2 Axes>"
      ]
     },
     "metadata": {
      "needs_background": "light"
     },
     "output_type": "display_data"
    },
    {
     "name": "stderr",
     "output_type": "stream",
     "text": [
      " 10%|█         | 3/30 [00:04<00:37,  1.39s/it]"
     ]
    },
    {
     "data": {
      "image/png": "[encoded data removed]",
      "text/plain": [
       "<Figure size 720x576 with 2 Axes>"
      ]
     },
     "metadata": {
      "needs_background": "light"
     },
     "output_type": "display_data"
    },
    {
     "name": "stderr",
     "output_type": "stream",
     "text": [
      " 13%|█▎        | 4/30 [00:05<00:37,  1.46s/it]"
     ]
    },
    {
     "data": {
      "image/png": "[encoded data removed]",
      "text/plain": [
       "<Figure size 720x576 with 2 Axes>"
      ]
     },
     "metadata": {
      "needs_background": "light"
     },
     "output_type": "display_data"
    },
    {
     "name": "stderr",
     "output_type": "stream",
     "text": [
      "100%|██████████| 30/30 [00:29<00:00,  1.01it/s]"
     ]
    },
    {
     "name": "stdout",
     "output_type": "stream",
     "text": [
      "Done\n"
     ]
    },
    {
     "name": "stderr",
     "output_type": "stream",
     "text": [
      "\n"
     ]
    }
   ],
   "source": [
    "_ = create_figures(coords_list = coords_list ,\n",
    "                   df_lc = parallel_df_lc, # either df_lc (serial call) or parallel_df_lc (parallel call)\n",
    "                   show_nbr_figures = 5,\n",
    "                   save_output_dir = \"/home/jovyan/fornax-demo-notebooks/light_curves/data\" ,\n",
    "                  )"
   ]
  },
  {
   "cell_type": "markdown",
   "metadata": {},
   "source": [
    "## References\n",
    "\n",
    "This work made use of:\n",
    "\n",
    "- Astroquery; Ginsburg et al., 2019, 2019AJ....157...98G\n",
    "\n",
    "- Astropy; Astropy Collaboration 2022, Astropy Collaboration 2018, Astropy Collaboration 2013, 2022ApJ...935..167A, 2018AJ....156..123A, 2013A&A...558A..33A\n",
    "\n",
    "- Lightkurve; Lightkurve Collaboration 2018, 2018ascl.soft12013L\n",
    "\n",
    "- acstools; https://zenodo.org/record/7406933#.ZBH1HS-B0eY\n",
    "\n",
    "- unTimely; Meisner et al., 2023, 2023AJ....165...36M\n",
    "\n",
    "- Alerce; Forster et al., 2021, 2021AJ....161..242F"
   ]
  }
 ],
 "metadata": {
  "kernelspec": {
   "display_name": "Python 3 (ipykernel)",
   "language": "python",
   "name": "python3"
  },
  "language_info": {
   "codemirror_mode": {
    "name": "ipython",
    "version": 3
   },
   "file_extension": ".py",
   "mimetype": "text/x-python",
   "name": "python",
   "nbconvert_exporter": "python",
   "pygments_lexer": "ipython3",
   "version": "3.9.13"
  }
 },
 "nbformat": 4,
 "nbformat_minor": 4
}
