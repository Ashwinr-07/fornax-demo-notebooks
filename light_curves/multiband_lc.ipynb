{
 "cells": [
  {
   "cell_type": "code",
   "execution_count": null,
   "metadata": {},
   "outputs": [],
   "source": [
    "#make a multiwavelength light curve of an interesting set of targets\n",
    "#model plots after van Velzen et al. 2021, https://arxiv.org/pdf/2111.09391.pdf\n"
   ]
  },
  {
   "cell_type": "code",
   "execution_count": null,
   "metadata": {},
   "outputs": [],
   "source": [
    "# use the following paper to make a sample of CLAGN: https://iopscience.iop.org/article/10.3847/1538-4357/aaca3a \n",
    "\n",
    "# This sample can later be switched out to a differen/larger sample of \"interesting\" targets\n"
   ]
  },
  {
   "cell_type": "code",
   "execution_count": null,
   "metadata": {},
   "outputs": [],
   "source": [
    "#find photometry for these targets in NASA catalogs\n",
    "#look at NAVO use cases to get help with tools to do this\n",
    "\n",
    "#astroquery Heasarc query_region can take coords and radius as input\n",
    "#1. can't tell if it requires mission as an input, try without: https://astroquery.readthedocs.io/en/latest/heasarc/heasarc.html\n",
    "#2. definitely check Fermi - gamma ray observatory\n",
    "\n",
    "#astroquery.ipac.irsa requires a catalog input s\n",
    "#1. can it acccess ZTF and GAIA?\n",
    "\n",
    "#astroquery MAST doesn't require a catalog input but we might want it to narrow things down?\n",
    "#1. Pan-STARRS\n",
    "#2. MAST has copies of ATLAS all-sky stellar reference catalog- but not searchable\n",
    "    #- might be available through astroquery.vizier\n",
    "    \n"
   ]
  },
  {
   "cell_type": "code",
   "execution_count": null,
   "metadata": {},
   "outputs": [],
   "source": [
    "#find photometry for these targets in relevant, non-NASA catalogs\n",
    "\n",
    "#ASAS-SN (all sky automated survey for supernovae) has a website that can be manually searched\n",
    "# - see if astroquery.vizier can find it\n",
    "\n",
    "#icecube has a 2008 - 2018 catalog which we can download and is small - https://icecube.wisc.edu/data-releases/2021/01/all-sky-point-source-icecube-data-years-2008-2018/"
   ]
  },
  {
   "cell_type": "code",
   "execution_count": null,
   "metadata": {},
   "outputs": [],
   "source": [
    "#find those targets in big data WISE light curve catalog that Dave Shupe built\n",
    "#How many of the CLAGN targets are covered by this catalog?  enough to do this work? maybe > 5?\n",
    "#1. Use existing code in irsa SP that works with this catalog\n",
    "#2. figure out how to efficiently search that catalog since it can't be loaded into memory\n",
    "    #1. somehow I think this can be done in a cross match early on, so I only return rows that match\n",
    "    #2. test DASK, VAEX, AXS, ???\n",
    "#3. do we need updates to this catalog from Dave?"
   ]
  },
  {
   "cell_type": "code",
   "execution_count": null,
   "metadata": {},
   "outputs": [],
   "source": [
    "#convert all units to something physical (eg., ergs/s are used by van Velzen et al.)"
   ]
  },
  {
   "cell_type": "code",
   "execution_count": null,
   "metadata": {},
   "outputs": [],
   "source": [
    "#make plots of luminosity as a function of time\n",
    "    #time could be days since peak, or days since first observation, or??"
   ]
  }
 ],
 "metadata": {
  "kernelspec": {
   "display_name": "Python 3",
   "language": "python",
   "name": "python3"
  },
  "language_info": {
   "codemirror_mode": {
    "name": "ipython",
    "version": 3
   },
   "file_extension": ".py",
   "mimetype": "text/x-python",
   "name": "python",
   "nbconvert_exporter": "python",
   "pygments_lexer": "ipython3",
   "version": "3.8.6"
  }
 },
 "nbformat": 4,
 "nbformat_minor": 4
}
