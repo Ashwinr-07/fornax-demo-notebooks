{
 "cells": [
  {
   "cell_type": "markdown",
   "id": "00d10b76-3019-4775-a82e-929d2ce41b0d",
   "metadata": {},
   "source": [
    "# Outline of Demonstration Science Use Case for FY22\n",
    "NASA observatories such as XMM, Chandra, GALEX, HST, Spitzer, WISE, and Herschel have spent significant resources to observe carefully-chosen survey fields for the purpose of enabling a large variety of extragalactic science. High-quality multi-wavelength photometry catalogs from these observations, in combination with ground-based data, are critical for carrying out these science investigations. The best way to create these catalogs is to use data with high spatial resolution to generate positional priors that can be used to optimally extract photometry from data with lower spatial resolution. \n",
    "\n",
    "This is a wire-frame notebook that shows the steps required to start with a catalog of positional priors and extract photometry from GALEX and Spitzer imaging, and cross-match with X-ray catalogs to generate a catalog of spectral energy distributions."
   ]
  },
  {
   "cell_type": "markdown",
   "id": "6b7b70e9-06a4-43ac-82e7-83f91a042c08",
   "metadata": {},
   "source": [
    "# Preliminaries\n",
    "- Install pyvo for querying data\n",
    "- Install tractor\n",
    "- import other necessary modules, for e.g. visualizaing data"
   ]
  },
  {
   "cell_type": "markdown",
   "id": "bb1fecf8-32b4-4f25-b301-017af638f672",
   "metadata": {},
   "source": [
    "# Read in a catalog of source positions  \n",
    "- should be from high-resolution data in the COSMOS field.\n",
    "    - start with COSMOS photometry redshift catalog 2008 from IRSA\n",
    "    - only need RA, Dec, photz\n",
    "- could have shape information in the catalog for a later version\n",
    "- can switch to searching for a catalog in future versions\n",
    "\n"
   ]
  },
  {
   "cell_type": "markdown",
   "id": "298180bf-8b2d-4fb3-b2f5-3770f60fb201",
   "metadata": {},
   "source": [
    "### Use the VO Table Access Protocol to search for the catalog of interest.\n",
    "- vo.regsearch simple cone search 'COSMOS' & 'redshift'\n",
    "    - example:https://nasa-navo.github.io/workshop-notebooks/CS_Catalog_Queries.html\n",
    "    - SCS won't be able to do cuts but can return catalogs\n",
    "- make this into two catalogs\n",
    "    1. full catalog with all object for use inside of Tractor modelling\n",
    "    2. only those objects that we want SEDs for\n",
    "        - magnitude range (10sigma photometry at HST for v1) and redshift range (want point sources)\n",
    "- read in the results to an astropy table or pandas dataframe"
   ]
  },
  {
   "cell_type": "markdown",
   "id": "4c646873-8735-4f55-9a48-3707f9f4cef4",
   "metadata": {},
   "source": [
    "### Visualize the table results.\n",
    "- use Firefly API or matplotlib\n",
    "- histograms of existing columns, maybe magnitude, profile shape?\n",
    "- color magnitude diagram?"
   ]
  },
  {
   "cell_type": "markdown",
   "id": "a207b112-fea3-49dd-b113-0f6a13d6d4d1",
   "metadata": {},
   "source": [
    "# Perform multi-wavelength photometry at the desired source positions.\n",
    "- starting v1 with just Spitzer IRAC\n",
    "- need to add MIPS and Galex later"
   ]
  },
  {
   "cell_type": "markdown",
   "id": "1e5afaea-3847-49b4-a093-5286f2db1cb0",
   "metadata": {},
   "source": [
    "### Prepare the IRAC PRFs\n",
    "- these are already derived for users and exist online.\n",
    "- IRAC PRF is a function of position on the pixel\n",
    "- learn how to read and access the PRFs\n",
    "- consider what we need to do to use mosaic PRF"
   ]
  },
  {
   "cell_type": "markdown",
   "id": "8d16a6d8-2b48-4a4e-a757-83bd5ccc912f",
   "metadata": {},
   "source": [
    "### For each source position and each band:\n",
    "* Find the best (most centered) science image for performing photometry.\n",
    "    - Search the VO registry for the service that provides access to the Spitzer Enhanced Imaging Products : https://nasa-navo.github.io/workshop-notebooks/CS_Image_Access.html\n",
    "    - choose the SEIP tile where the target is most centered\n",
    "        -v1 pick median image, first one\n",
    "    - choose median vs. average image\n",
    "* calculate inverse-variance maps from std fits files.\n",
    "    - should just be noise 1/ std.fits ^2 but check this for next version\n",
    "* Load the WCS model from the header.\n",
    "* load photometric calibration parameters, e.g. fluxconv from header\n",
    "* Determine the sky background.\n",
    "    - start with median of whole image, or something larger scale than an annulus\n",
    "    - check if mosaic has this in the header\n",
    "* Make multi-wavelength cutouts centered on that source position\n",
    "    - use astropy wcsaxes & reproject\n",
    "    - what radius is appropriate for Spitzer\n",
    "* Find the locations of other sources in the cutouts\n",
    "    - can do this in catalog space, position search +_ some square area\n",
    "    - make a table of all source positions, brightnesses, (shapes)in the cutout\n",
    "*consider if we need a mosaic dependent PRF"
   ]
  },
  {
   "cell_type": "markdown",
   "id": "774eef9f-b245-46c0-83ab-b06ba15e2f4e",
   "metadata": {},
   "source": [
    "Create the Tractor image."
   ]
  },
  {
   "cell_type": "markdown",
   "id": "0bdf2f2c-343c-4129-b179-739585fab32c",
   "metadata": {},
   "source": [
    "Create the Tractor object (a list of tractor Images and a list of tractor sources).\n",
    "\n"
   ]
  },
  {
   "cell_type": "markdown",
   "id": "79f09f15-d3b1-4cbc-a50f-a3befcdd67b5",
   "metadata": {},
   "source": [
    "Render the model image.<br/>\n",
    "Fit the source parameters."
   ]
  },
  {
   "cell_type": "markdown",
   "id": "728cc3b6-f89d-422c-88a1-56d83ddd0620",
   "metadata": {},
   "source": [
    "Get model image, chi2, and residual and make catalogue."
   ]
  },
  {
   "cell_type": "markdown",
   "id": "b3c9e218-6b04-447b-9097-e2c8b0720cb3",
   "metadata": {},
   "source": [
    "### Add resulting Spitzer photometry into catalog dataframe"
   ]
  },
  {
   "cell_type": "markdown",
   "id": "d94add3b-0f24-4b8e-9106-957fb3902814",
   "metadata": {},
   "source": [
    "# Cross-match with the Chandra and XMM Source Catalogs.\n",
    "- identify where those catalogs are using vo.regsearch at HEASEARC\n",
    "- identify what format those catalogs are in\n",
    "- might need to shrink those catalogs to just ra and dec for x-match, then re-merge on the full catalog\n"
   ]
  },
  {
   "cell_type": "markdown",
   "id": "c1ebb613-3169-430c-932c-634dca705b88",
   "metadata": {},
   "source": [
    "# Browse the SEDs alongside the cutouts to make sure that they look reasonable."
   ]
  },
  {
   "cell_type": "code",
   "execution_count": null,
   "id": "742e9b6c-7975-47c4-9c44-82cf8ee90c6e",
   "metadata": {},
   "outputs": [],
   "source": []
  }
 ],
 "metadata": {
  "kernelspec": {
   "display_name": "Python 3",
   "language": "python",
   "name": "python3"
  },
  "language_info": {
   "codemirror_mode": {
    "name": "ipython",
    "version": 3
   },
   "file_extension": ".py",
   "mimetype": "text/x-python",
   "name": "python",
   "nbconvert_exporter": "python",
   "pygments_lexer": "ipython3",
   "version": "3.8.6"
  }
 },
 "nbformat": 4,
 "nbformat_minor": 5
}
